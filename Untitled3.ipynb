{
 "cells": [
  {
   "cell_type": "code",
   "execution_count": 1,
   "metadata": {},
   "outputs": [
    {
     "name": "stdout",
     "output_type": "stream",
     "text": [
      "['', '/home/djeffrie/Dropbox/My_Dropbox_Scripts', '/home/djeffrie/anaconda3/envs/ipykernel_py2/lib/python2.7', '/home/djeffrie/anaconda3/envs/py36/lib/python36.zip', '/home/djeffrie/anaconda3/envs/py36/lib/python3.6', '/home/djeffrie/anaconda3/envs/py36/lib/python3.6/lib-dynload', '/home/djeffrie/.local/lib/python3.6/site-packages', '/home/djeffrie/anaconda3/envs/py36/lib/python3.6/site-packages', '/home/djeffrie/anaconda3/envs/py36/lib/python3.6/site-packages/IPython/extensions', '/home/djeffrie/.ipython']\n"
     ]
    }
   ],
   "source": [
    "import sys\n",
    "print(sys.path)"
   ]
  },
  {
   "cell_type": "code",
   "execution_count": 3,
   "metadata": {},
   "outputs": [],
   "source": [
    "import numpy"
   ]
  }
 ],
 "metadata": {
  "kernelspec": {
   "display_name": "Python 3",
   "language": "python",
   "name": "python3"
  },
  "language_info": {
   "codemirror_mode": {
    "name": "ipython",
    "version": 3
   },
   "file_extension": ".py",
   "mimetype": "text/x-python",
   "name": "python",
   "nbconvert_exporter": "python",
   "pygments_lexer": "ipython3",
   "version": "3.6.3"
  }
 },
 "nbformat": 4,
 "nbformat_minor": 2
}
