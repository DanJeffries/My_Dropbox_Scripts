{
 "cells": [
  {
   "cell_type": "code",
   "execution_count": 30,
   "metadata": {
    "collapsed": true
   },
   "outputs": [],
   "source": [
    "coords_file = open(\"/home/dan/Dropbox/PhD/Dans_PhD_Shared/WindeRmere/Sample_coords_pres_abs.csv\", 'r').readlines()\n",
    "\n",
    "perch = open(\"/home/dan/Dropbox/PhD/Dans_PhD_Shared/WindeRmere/perch_coords_only.csv\", 'w')\n",
    "perch.write(coords_file[0])\n",
    "pike = open(\"/home/dan/Dropbox/PhD/Dans_PhD_Shared/WindeRmere/pike_coords_only.csv\", 'w')\n",
    "pike.write(coords_file[0])\n",
    "roach = open(\"/home/dan/Dropbox/PhD/Dans_PhD_Shared/WindeRmere/roach_coords_only.csv\", 'w')\n",
    "roach.write(coords_file[0])\n",
    "charr = open(\"/home/dan/Dropbox/PhD/Dans_PhD_Shared/WindeRmere/charr_coords_only.csv\", 'w')\n",
    "charr.write(coords_file[0])"
   ]
  },
  {
   "cell_type": "code",
   "execution_count": 31,
   "metadata": {
    "collapsed": false
   },
   "outputs": [],
   "source": [
    "for line in coords_file:\n",
    "    #print line.strip().split(\",\")[4]\n",
    "    if line.strip().split(\",\")[4] == \"1\":\n",
    "        perch.write(line)\n",
    "    if line.strip().split(\",\")[5] == \"1\":\n",
    "        pike.write(line)\n",
    "    if line.strip().split(\",\")[6] == \"1\":\n",
    "        roach.write(line)\n",
    "    if line.strip().split(\",\")[7] == \"1\":\n",
    "        charr.write(line)\n",
    "        \n",
    "perch.close()\n",
    "pike.close()\n",
    "roach.close()\n",
    "charr.close()\n"
   ]
  }
 ],
 "metadata": {
  "kernelspec": {
   "display_name": "Python 2",
   "language": "python",
   "name": "python2"
  },
  "language_info": {
   "codemirror_mode": {
    "name": "ipython",
    "version": 2
   },
   "file_extension": ".py",
   "mimetype": "text/x-python",
   "name": "python",
   "nbconvert_exporter": "python",
   "pygments_lexer": "ipython2",
   "version": "2.7.6"
  }
 },
 "nbformat": 4,
 "nbformat_minor": 0
}
