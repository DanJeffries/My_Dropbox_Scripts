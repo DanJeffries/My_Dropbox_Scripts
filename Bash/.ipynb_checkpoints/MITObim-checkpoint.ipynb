{
 "cells": [
  {
   "cell_type": "code",
   "execution_count": 2,
   "metadata": {
    "collapsed": true
   },
   "outputs": [],
   "source": [
    "%%bash\n",
    "## first source this script, which adds MIRA to all the necassary paths. This should already be done, but not sure how bashrc scripts work in jupyter notebooks\n",
    "source /home/djeffrie/Programs/mira/start.bash"
   ]
  },
  {
   "cell_type": "code",
   "execution_count": 3,
   "metadata": {
    "collapsed": true
   },
   "outputs": [],
   "source": [
    "workingdir = \"/home/djeffrie/Data/MITObim_Rtemp/MITObim\""
   ]
  },
  {
   "cell_type": "code",
   "execution_count": 1,
   "metadata": {
    "collapsed": false
   },
   "outputs": [],
   "source": [
    "import Incremental_Pop_mod as IncPop"
   ]
  },
  {
   "cell_type": "code",
   "execution_count": 4,
   "metadata": {
    "collapsed": true
   },
   "outputs": [],
   "source": [
    "Analysis_parameters1 = {}\n",
    "\n",
    "## Test parameters\n",
    "Analysis_parameters1[\"parameters\"] = [\"p\",\"r\",\"m\"]\n",
    "Analysis_parameters1[\"p_vals\"] = []\n",
    "Analysis_parameters1[\"p_default\"] = 2 ## The value of p when other params are being tested. \n",
    "Analysis_parameters1[\"r_vals\"] = [0.75,0.9]\n",
    "Analysis_parameters1[\"r_default\"] = 0.75 ## The value of r when other params are being tested. \n",
    "Analysis_parameters1[\"m_vals\"] = [3,4,5]\n",
    "Analysis_parameters1[\"m_default\"] = 3 ## The value of m when other params are being tested. \n",
    "Analysis_parameters1[\"Populations_test_dir_path\"] = \"/home/djeffrie/Data/Caspers_data/2lanes/Populations_tests/\"\n",
    "Analysis_parameters1[\"run_cline_switch\"] = 1 ## run command line or not. \n",
    "\n",
    "## Mandatory Populations options\n",
    "Analysis_parameters1[\"b\"] = 2 ## batch ID\n",
    "Analysis_parameters1[\"P\"] = \"/home/djeffrie/Data/Caspers_data/2lanes/\" ## Path to stacks outputs\n",
    "Analysis_parameters1[\"M\"] = \"/home/djeffrie/Data/Caspers_data/1lane/out4/popmap.txt\" ## All samples\n",
    "\n",
    "## Outputs parameters\n",
    "Analysis_parameters1[\"vcf\"] = True\n",
    "Analysis_parameters1[\"vcf_haplotypes\"] = True\n",
    "\n",
    "## Optional parameters\n",
    "Analysis_parameters1[\"t\"] = 7 ## number of threads\n",
    "Analysis_parameters1[\"min_maf\"] = 0.05 ## number of threads\n",
    "\n",
    "#Analysis_parameters1[\"B\"] = None ## Locus blacklist\n",
    "Analysis_parameters1[\"write_single_snp\"] = True ## switch to write first snp of locus or not.\n",
    "Analysis_parameters1[\"fstats\"] = False\n"
   ]
  },
  {
   "cell_type": "code",
   "execution_count": 5,
   "metadata": {
    "collapsed": false
   },
   "outputs": [
    {
     "name": "stdout",
     "output_type": "stream",
     "text": [
      "## Running command lines ##\n",
      "populations -b 2 -P /home/djeffrie/Data/Caspers_data/2lanes/ -M /home/djeffrie/Data/Caspers_data/1lane/out4/popmap.txt -t 7 -r 0.75 -p 2 -m 3 --min_maf 0.05 --write_single_snp --vcf --vcf_haplotypes    ## FINISHED \n",
      "Files moved to /home/djeffrie/Data/Caspers_data/2lanes/Populations_tests//r_tests/r_075\n",
      "## Running command lines ##\n",
      "populations -b 2 -P /home/djeffrie/Data/Caspers_data/2lanes/ -M /home/djeffrie/Data/Caspers_data/1lane/out4/popmap.txt -t 7 -r 0.9 -p 2 -m 3 --min_maf 0.05 --write_single_snp --vcf --vcf_haplotypes    ## FINISHED \n",
      "Files moved to /home/djeffrie/Data/Caspers_data/2lanes/Populations_tests//r_tests/r_09\n",
      "## Running command lines ##\n",
      "populations -b 2 -P /home/djeffrie/Data/Caspers_data/2lanes/ -M /home/djeffrie/Data/Caspers_data/1lane/out4/popmap.txt -t 7 -r 0.75 -p 2 -m 3 --min_maf 0.05 --write_single_snp --vcf --vcf_haplotypes    ## FINISHED \n",
      "Files moved to /home/djeffrie/Data/Caspers_data/2lanes/Populations_tests//m_tests/m_3\n",
      "## Running command lines ##\n",
      "populations -b 2 -P /home/djeffrie/Data/Caspers_data/2lanes/ -M /home/djeffrie/Data/Caspers_data/1lane/out4/popmap.txt -t 7 -r 0.75 -p 2 -m 4 --min_maf 0.05 --write_single_snp --vcf --vcf_haplotypes    ## FINISHED \n",
      "Files moved to /home/djeffrie/Data/Caspers_data/2lanes/Populations_tests//m_tests/m_4\n",
      "## Running command lines ##\n",
      "populations -b 2 -P /home/djeffrie/Data/Caspers_data/2lanes/ -M /home/djeffrie/Data/Caspers_data/1lane/out4/popmap.txt -t 7 -r 0.75 -p 2 -m 5 --min_maf 0.05 --write_single_snp --vcf --vcf_haplotypes    ## FINISHED \n",
      "Files moved to /home/djeffrie/Data/Caspers_data/2lanes/Populations_tests//m_tests/m_5\n",
      "##### Getting and plotting the data ###### \n"
     ]
    },
    {
     "ename": "SystemExit",
     "evalue": "No vcf files found in test directories",
     "output_type": "error",
     "traceback": [
      "An exception has occurred, use %tb to see the full traceback.\n",
      "\u001b[1;31mSystemExit\u001b[0m\u001b[1;31m:\u001b[0m No vcf files found in test directories\n"
     ]
    },
    {
     "name": "stderr",
     "output_type": "stream",
     "text": [
      "To exit: use 'exit', 'quit', or Ctrl-D.\n"
     ]
    }
   ],
   "source": [
    "Sample_data, Locus_data, group_info = IncPop.Incremental_Pop(Analysis_parameters1)"
   ]
  }
 ],
 "metadata": {
  "kernelspec": {
   "display_name": "Python 2",
   "language": "python",
   "name": "python2"
  },
  "language_info": {
   "codemirror_mode": {
    "name": "ipython",
    "version": 2
   },
   "file_extension": ".py",
   "mimetype": "text/x-python",
   "name": "python",
   "nbconvert_exporter": "python",
   "pygments_lexer": "ipython2",
   "version": "2.7.10"
  }
 },
 "nbformat": 4,
 "nbformat_minor": 0
}
