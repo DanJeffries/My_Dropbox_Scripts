{
 "cells": [
  {
   "cell_type": "code",
   "execution_count": 3,
   "metadata": {},
   "outputs": [
    {
     "name": "stdout",
     "output_type": "stream",
     "text": [
      "['', '/home/djeffrie/Dropbox/My_Dropbox_Scripts', '/home/djeffrie/anaconda3/envs/ipykernel_py2/lib/python2.7', '/home/djeffrie/anaconda3/envs/py27/lib/python27.zip', '/home/djeffrie/anaconda3/envs/py27/lib/python2.7', '/home/djeffrie/anaconda3/envs/py27/lib/python2.7/plat-linux2', '/home/djeffrie/anaconda3/envs/py27/lib/python2.7/lib-tk', '/home/djeffrie/anaconda3/envs/py27/lib/python2.7/lib-old', '/home/djeffrie/anaconda3/envs/py27/lib/python2.7/lib-dynload', '/home/djeffrie/.local/lib/python2.7/site-packages', '/home/djeffrie/anaconda3/envs/py27/lib/python2.7/site-packages', '/home/djeffrie/anaconda3/envs/py27/lib/python2.7/site-packages/IPython/extensions', '/home/djeffrie/.ipython']\n"
     ]
    }
   ],
   "source": [
    "import sys\n",
    "print sys.path\n"
   ]
  },
  {
   "cell_type": "code",
   "execution_count": 7,
   "metadata": {},
   "outputs": [],
   "source": [
    "import vcf\n"
   ]
  }
 ],
 "metadata": {
  "kernelspec": {
   "display_name": "Python 2",
   "language": "python",
   "name": "python2"
  },
  "language_info": {
   "codemirror_mode": {
    "name": "ipython",
    "version": 2
   },
   "file_extension": ".py",
   "mimetype": "text/x-python",
   "name": "python",
   "nbconvert_exporter": "python",
   "pygments_lexer": "ipython2",
   "version": "2.7.14"
  }
 },
 "nbformat": 4,
 "nbformat_minor": 2
}
