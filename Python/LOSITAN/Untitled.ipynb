{
 "cells": [
  {
   "cell_type": "code",
   "execution_count": 6,
   "metadata": {
    "collapsed": false
   },
   "outputs": [],
   "source": [
    "BAYENV_loci = open(\"/media/dan/34D5D1CE642D7E36/2013076_Hanfling_Bernd/BAYENV/Sub-samples/MASTER_npops_17/Winning_stacks_Ids.txt\").readlines()\n",
    "LOSITAN_loci = open(\"/media/dan/34D5D1CE642D7E36/2013076_Hanfling_Bernd/LOSITAN/Dan_LOSITAN/BAYENV_input_analysis/Ho_filtered_LOSITAN_loci_loist.txt\").readlines()\n",
    "\n",
    "   \n",
    "BAYENV_loci = [i.strip() for i in BAYENV_loci]\n",
    "\n",
    "for locus in LOSITAN_loci[1:10]:\n",
    "    ID = locus.split()[0]\n",
    "    if ID in BAYENV_loci:\n",
    "        print ID\n",
    "\n",
    "\n",
    "\n"
   ]
  }
 ],
 "metadata": {
  "kernelspec": {
   "display_name": "Python 2",
   "language": "python",
   "name": "python2"
  },
  "language_info": {
   "codemirror_mode": {
    "name": "ipython",
    "version": 2
   },
   "file_extension": ".py",
   "mimetype": "text/x-python",
   "name": "python",
   "nbconvert_exporter": "python",
   "pygments_lexer": "ipython2",
   "version": "2.7.6"
  }
 },
 "nbformat": 4,
 "nbformat_minor": 0
}
