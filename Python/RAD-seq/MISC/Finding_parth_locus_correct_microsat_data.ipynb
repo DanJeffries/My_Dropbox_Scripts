{
 "cells": [
  {
   "cell_type": "code",
   "execution_count": 27,
   "metadata": {
    "collapsed": true
   },
   "outputs": [],
   "source": [
    "import vcf\n",
    "import os\n",
    "\n",
    "import numpy as np\n",
    "from matplotlib import pyplot as plt\n",
    "from collections import Counter\n",
    "import operator"
   ]
  },
  {
   "cell_type": "code",
   "execution_count": 17,
   "metadata": {
    "collapsed": true
   },
   "outputs": [],
   "source": [
    "## Get sexuals and parthenogens from pop map\n",
    "def get_sex_info(pop_map_file):\n",
    "    sexuals = []\n",
    "    parthenogens = []\n",
    "    for line in open(pop_map_file, 'r').readlines():\n",
    "        line = line.strip()\n",
    "        if line.split()[1] == \"sex\" or line.split()[1] == \"S\" or line.split()[1] == \"s\":\n",
    "            sexuals.append(line.split()[0])\n",
    "        elif line.split()[1] == \"parth\" or line.split()[1] == \"P\" or line.split()[1] == \"p\":\n",
    "            parthenogens.append(line.split()[0])\n",
    "\n",
    "\n",
    "    N_sexuals = len(sexuals)\n",
    "    N_partenogens = len(parthenogens)\n",
    "\n",
    "    print(N_sexuals, \"Sexuals\", sexuals)\n",
    "    print(N_partenogens, \"Parthenogens\", parthenogens)\n",
    "    \n",
    "    return sexuals, parthenogens\n"
   ]
  },
  {
   "cell_type": "code",
   "execution_count": 30,
   "metadata": {
    "collapsed": true
   },
   "outputs": [],
   "source": [
    "def parth_loc_finder(record, parthenogens, sexuals, parth_threshold, sexuals_threshold):\n",
    "    \n",
    "    N_Homozygous_parths = 0\n",
    "    n_parths_called = 0\n",
    "    n_sexuals_called = 0\n",
    "    Parth_hom_allele = []\n",
    "    Het_or_alt_hom_sexuals = 0\n",
    "    N_sexuals_not_hom_for_parth_allele = 0\n",
    "\n",
    "    ## Is the locus homozygous in all parthenogens? ----------------------------------------------\n",
    "    \n",
    "    for sample in record.samples:\n",
    "        sample_name = sample.sample\n",
    "        \n",
    "        if sample_name in parthenogens:\n",
    "            \n",
    "            #print sample_name, \"called? =\", sample.called, \"Het? = \", sample.is_het, sample.gt_bases\n",
    "            if sample.called == True:\n",
    "                n_parths_called += 1\n",
    "                #print \"%s: %s\" % (sample_name, sample.gt_bases)\n",
    "                if sample.is_het == False:\n",
    "                    N_Homozygous_parths += 1\n",
    "                    Parth_hom_allele.append(sample.gt_bases.split(\"/\")[0])\n",
    "    \n",
    "                    \n",
    "    \n",
    "    Parth_hom_thresh_limit_exceeded = False ## default state\n",
    "    \n",
    "    if N_Homozygous_parths >= n_parths_called*parth_threshold:\n",
    "        Homozygous_in_parthenogens = True ## If there are enough homozygous parthenogens. . . \n",
    "\n",
    "        ## Are all parthenogens homozygous for the same allele?\n",
    "        \n",
    "        if len(set(Parth_hom_allele))  == 1: ## if parthenogens are all homozygous for the same allele then it is OK\n",
    "            Parthenogens_hom_for_same_allele = True\n",
    "            Parthogen_allele = list(set(Parth_hom_allele))[0]\n",
    "\n",
    "        elif len(set(Parth_hom_allele))  > 1: ## or if enough (over set threshold) parthenogens are homozygous for the same allele then it is still OK\n",
    "\n",
    "            major_parth_allele = max(Counter(Parth_hom_allele).values())\n",
    "            minor_parth_allele = min(Counter(Parth_hom_allele).values())\n",
    "\n",
    "            if major_parth_allele/n_parths_called >= parth_threshold: \n",
    "                Parth_hom_thresh_limit_exceeded = True\n",
    "                Parthenogens_hom_for_same_allele = True\n",
    "                Parthogen_allele = max(Counter(Parth_hom_allele).items(), key=operator.itemgetter(1))[0]\n",
    "                \n",
    "\n",
    "            else:\n",
    "                Parthenogens_hom_for_same_allele = False\n",
    "                \n",
    "        else:\n",
    "            Parthenogens_hom_for_same_allele = False\n",
    "            \n",
    "    else:\n",
    "        Homozygous_in_parthenogens = False\n",
    "        Parthenogens_hom_for_same_allele = False\n",
    "        \n",
    "    \n",
    "    \n",
    "    ## If the locus is homozygous in parthenogens, is it heterozygous or homozygous for the other allele in sexuals?\n",
    "\n",
    "    if Homozygous_in_parthenogens == True and Parthenogens_hom_for_same_allele == True:\n",
    "        #print \"Yes looking in sexuals\"\n",
    "        for sample in record.samples:\n",
    "            sample_name = sample.sample\n",
    "            if sample_name in sexuals:\n",
    "                if sample.called == True:\n",
    "                    n_sexuals_called += 1\n",
    "                    #print \"%s : %s\" % (sample_name, sample.gt_bases)\n",
    "                    \n",
    "                    if sample.is_het == True: ## if sexuals are heterozygous then the locus in this sample is still ok so count it.\n",
    "                        N_sexuals_not_hom_for_parth_allele += 1\n",
    "                        \n",
    "                    elif sample.is_het == False: ## if sample is homozygous, then check that it is homozygous for the other allele\n",
    "                        \n",
    "                        if sample.gt_bases.split(\"/\")[0] != Parthogen_allele: ## If so, locus for this sample is ok, so count it\n",
    "                            N_sexuals_not_hom_for_parth_allele += 1\n",
    "                            \n",
    "\n",
    "        if N_sexuals_not_hom_for_parth_allele >= n_sexuals_called*sexuals_threshold:\n",
    "            Het_or_alt_hom_in_sexuals = True\n",
    "            \n",
    "        else:\n",
    "            Het_or_alt_hom_in_sexuals = False\n",
    "            \n",
    "            \n",
    "        if Homozygous_in_parthenogens == True:\n",
    "            if Parthenogens_hom_for_same_allele == True or Parth_hom_thresh_limit_exceeded == True:\n",
    "                if Het_or_alt_hom_in_sexuals == True:\n",
    "                    print(\"\\nLocus %s_%s\" % (record.ID, record.POS))\n",
    "                    print(\"Threshold number of Parthenogens = %s and Sexuals = %s\" % (n_parths_called*parth_threshold, n_sexuals_called*sexuals_threshold))\n",
    "                    print(\"The number of homozygous Parthenogens = %s out of %s called\" % (N_Homozygous_parths, n_parths_called))\n",
    "                    print(\"The number of Sexuals not homozygous for same allele = %s out of %s called\" % (N_sexuals_not_hom_for_parth_allele, n_sexuals_called))\n",
    "                    print(\"So enough Parthenogens are over the homozygosity threshold for one allele\")\n",
    "                    print(\"And enough sexuals are heterozygous or homozygous for alternative allele\")"
   ]
  },
  {
   "cell_type": "markdown",
   "metadata": {},
   "source": [
    "get the sexuals and parthenogens identities from the popmap . . . "
   ]
  },
  {
   "cell_type": "code",
   "execution_count": 19,
   "metadata": {},
   "outputs": [
    {
     "name": "stdout",
     "output_type": "stream",
     "text": [
      "40 Sexuals ['C204_S', 'C210_S', 'C212_S', 'C213_S', 'C218B_S', 'C220_S', 'C225_S', 'C228_S', 'C233_S', 'C237_S', 'C239_S', 'C240_S', 'C242_S', 'C243_S', 'C248_S', 'C249_S', 'C254_S', 'C259_S', 'C271_S', 'C272_S', 'C276_S', 'C291_S', 'C292_S', 'C294_S', 'C295_S', 'C297_S', 'C400_S', 'C403_S', 'C406_S', 'C408_S', 'C410_S', 'C412_S', 'C415_S', 'C416_S', 'C422_S', 'C425_S', 'C434_S', 'C437_S', 'C514_S', 'C515_S']\n",
      "30 Parthenogens ['C209_P', 'C224_P', 'C227_P', 'C232_P', 'C235_P', 'C246_P', 'C247_P', 'C262_P', 'C266_P', 'C268_P', 'C279_P', 'C281_P', 'C282_P', 'C424_P', 'C428_P', 'C429_P', 'C463_P', 'C480_P', 'C446_P', 'R001A_Pd', 'R044B_Pd', 'R044A_Pd', 'R045B_Pd', 'R004A_Pd', 'R001B_Pd', 'R019B_Pd', 'R045A_Pd', 'R019A_Pd', 'R002A_Pd', 'R002B_Pd']\n"
     ]
    }
   ],
   "source": [
    "sexuals, parthenogens = get_sex_info(\"/home/djeffrie/Data/Caspers_data/Right_microsats_analyses/popmap_sexasex_right_usat.txt\")"
   ]
  },
  {
   "cell_type": "markdown",
   "metadata": {},
   "source": [
    "Now runt the function to look for parth loci."
   ]
  },
  {
   "cell_type": "code",
   "execution_count": 53,
   "metadata": {},
   "outputs": [
    {
     "name": "stdout",
     "output_type": "stream",
     "text": [
      "\n",
      "Locus 16297_1515580\n",
      "Threshold number of Parthenogens = 22.400000000000002 and Sexuals = 16.0\n",
      "The number of homozygous Parthenogens = 24 out of 28 called\n",
      "The number of Sexuals not homozygous for same allele = 19 out of 32 called\n",
      "So enough Parthenogens are over the homozygosity threshold for one allele\n",
      "And enough sexuals are heterozygous or homozygous for alternative allele\n",
      "\n",
      "Locus 18410_1712090\n",
      "Threshold number of Parthenogens = 19.200000000000003 and Sexuals = 16.5\n",
      "The number of homozygous Parthenogens = 20 out of 24 called\n",
      "The number of Sexuals not homozygous for same allele = 17 out of 33 called\n",
      "So enough Parthenogens are over the homozygosity threshold for one allele\n",
      "And enough sexuals are heterozygous or homozygous for alternative allele\n"
     ]
    }
   ],
   "source": [
    "wd = \"/home/djeffrie/Data/Caspers_data/Right_microsats_analyses/\"\n",
    "vcf_handle = open(\"%s/batch_1.vcf\" % wd, 'r')\n",
    "myvcf = vcf.Reader(vcf_handle)\n",
    "\n",
    "for record in myvcf:\n",
    "        parth_loc_finder(record, parthenogens, sexuals, 0.8, 0.5) ## parth_loc_finder(record, parth_threshold, sexuals_threshold)\n"
   ]
  },
  {
   "cell_type": "code",
   "execution_count": null,
   "metadata": {
    "collapsed": true
   },
   "outputs": [],
   "source": []
  },
  {
   "cell_type": "code",
   "execution_count": 13,
   "metadata": {},
   "outputs": [],
   "source": []
  }
 ],
 "metadata": {
  "kernelspec": {
   "display_name": "Python 3",
   "language": "python",
   "name": "python3"
  },
  "language_info": {
   "codemirror_mode": {
    "name": "ipython",
    "version": 3
   },
   "file_extension": ".py",
   "mimetype": "text/x-python",
   "name": "python",
   "nbconvert_exporter": "python",
   "pygments_lexer": "ipython3",
   "version": "3.6.1"
  }
 },
 "nbformat": 4,
 "nbformat_minor": 2
}
