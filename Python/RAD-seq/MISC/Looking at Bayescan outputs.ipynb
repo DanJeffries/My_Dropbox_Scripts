{
 "metadata": {
  "name": "",
  "signature": "sha256:01a212a53cb25cbff16ab4ed317827f94f4cda59606f990c699967f416c5f53c"
 },
 "nbformat": 3,
 "nbformat_minor": 0,
 "worksheets": [
  {
   "cells": [
    {
     "cell_type": "code",
     "collapsed": false,
     "input": [
      "working_dir=\"/media/dan/34D5D1CE642D7E36/2013076_Hanfling_Bernd/clone_filtered_AND_trimmed_read_1s/BF_BOR/\""
     ],
     "language": "python",
     "metadata": {},
     "outputs": [],
     "prompt_number": 6
    },
    {
     "cell_type": "code",
     "collapsed": false,
     "input": [
      "fsts = open(working_dir+\"BAYESCAN_OUTPUT_fst.txt\", 'r').readlines()[1:]"
     ],
     "language": "python",
     "metadata": {},
     "outputs": [],
     "prompt_number": 20
    },
    {
     "cell_type": "code",
     "collapsed": false,
     "input": [
      "outlier_indexes = []\n",
      "for loc in fsts:\n",
      "    if float(loc.split()[5])>0.44:\n",
      "        #print loc.split()[0]+\"\\t\"+loc.split()[5]\n",
      "        outlier_indexes.append(loc.split()[0])\n",
      "print \"Done\""
     ],
     "language": "python",
     "metadata": {},
     "outputs": [
      {
       "output_type": "stream",
       "stream": "stdout",
       "text": [
        "Done\n"
       ]
      }
     ],
     "prompt_number": 43
    },
    {
     "cell_type": "code",
     "collapsed": false,
     "input": [
      "loc_IDs = open(working_dir+\"loc_IDs\", 'r').readlines()\n",
      "\n",
      "real_outlier_IDs= []\n",
      "\n",
      "for outlier in outlier_indexes:\n",
      "    for loc in loc_IDs:\n",
      "        if outlier == loc.split()[0]:\n",
      "            real_outlier_IDs.append(loc.split()[1])\n",
      "print len(real_outlier_IDs)"
     ],
     "language": "python",
     "metadata": {},
     "outputs": [
      {
       "output_type": "stream",
       "stream": "stdout",
       "text": [
        "323\n"
       ]
      }
     ],
     "prompt_number": 44
    },
    {
     "cell_type": "code",
     "collapsed": false,
     "input": [
      "print real_outlier_IDs"
     ],
     "language": "python",
     "metadata": {},
     "outputs": [
      {
       "output_type": "stream",
       "stream": "stdout",
       "text": [
        "['209', '540', '561', '656', '1008', '1258', '1382', '1387', '1677', '1774', '1827', '2022', '2044', '2135', '2413', '2631', '2648', '2725', '2745', '2871', '2905', '2928', '3453', '3555', '3974', '3986', '3993', '4093', '4258', '4385', '4403', '4518', '4630', '4726', '4836', '5040', '5234', '5352', '5504', '5570', '5623', '6281', '6299', '6352', '6626', '6691', '6842', '6866', '6894', '6915', '7055', '7106', '7164', '7199', '7413', '7474', '7779', '7928', '8169', '8374', '8562', '8867', '8940', '8964', '9123', '9282', '9422', '9459', '9642', '9810', '9841', '10393', '10551', '10672', '11151', '11272', '11315', '11344', '11380', '11385', '11408', '11452', '11696', '11739', '11949', '12077', '12275', '12606', '12611', '12617', '12624', '12665', '12701', '12842', '12944', '13160', '13179', '13220', '13252', '13357', '13600', '13743', '13907', '14024', '14311', '14419', '14559', '14567', '14673', '14686', '14915', '14995', '14999', '15118', '15150', '15275', '15376', '15456', '15457', '15468', '15538', '15756', '15916', '16261', '16333', '16458', '16547', '16987', '17259', '17268', '17279', '17304', '17649', '17681', '18383', '18393', '19069', '19082', '19179', '19237', '19287', '19302', '19487', '19668', '19675', '20375', '20537', '20549', '20568', '20773', '20833', '20894', '20908', '21121', '21206', '21310', '21410', '21552', '22133', '22269', '22300', '22305', '22311', '22344', '22724', '22956', '23095', '23148', '23312', '23479', '23489', '23797', '23805', '23814', '23830', '23857', '23868', '23947', '24000', '24071', '24257', '24502', '24595', '24617', '24682', '24886', '24924', '25035', '25055', '25200', '25612', '25941', '26094', '26162', '26348', '26517', '26620', '26712', '26728', '26771', '26804', '27136', '27238', '27373', '27517', '27546', '27679', '28262', '28344', '28369', '28504', '28622', '28676', '28752', '28978', '28992', '29167', '29206', '29223', '29241', '29279', '29375', '29405', '29535', '29713', '29716', '29961', '30089', '30215', '30259', '30283', '30293', '30635', '30856', '30976', '31272', '31352', '31530', '31536', '31598', '31617', '31855', '32021', '32023', '32184', '32230', '32365', '32541', '32607', '32635', '32897', '32999', '33015', '33043', '33095', '33220', '33566', '33695', '33770', '33842', '34228', '34310', '34511', '34537', '34885', '35068', '35075', '35235', '35280', '35457', '35665', '35686', '36039', '36285', '36773', '37019', '37303', '37347', '37369', '38157', '38182', '38366', '38775', '38798', '38816', '38942', '38954', '39028', '39101', '39185', '39354', '39659', '39740', '39929', '39959', '40090', '40157', '40174', '40190', '40274', '40664', '40728', '41047', '41291', '41353', '41372', '41718', '41991', '42286', '42630', '42988', '43366', '43532', '43824', '43843', '43971', '43975', '44299', '44305', '44862', '45446', '45513', '45861']\n"
       ]
      }
     ],
     "prompt_number": 45
    },
    {
     "cell_type": "code",
     "collapsed": false,
     "input": [
      "sumstats = open(working_dir+\"batch_1.sumstats.tsv\", 'r').readlines()\n",
      "vcf = open(working_dir+\"batch_1.vcf\", 'r')\n",
      "\n",
      "outliers_only_sumstats=open(working_dir+\"outlier_only_sumstats.tsv\", 'w')\n",
      "for header in sumstats[0:3]:\n",
      "    outliers_only_sumstats.write(header)\n",
      "    \n",
      "\n",
      "other_loci=open(working_dir+\"non_outliers_sumstats.tsv\", 'w')\n",
      "for header in sumstats[0:3]:\n",
      "    other_loci.write(header)"
     ],
     "language": "python",
     "metadata": {},
     "outputs": [],
     "prompt_number": 70
    },
    {
     "cell_type": "code",
     "collapsed": false,
     "input": [
      "for ID in real_outlier_IDs:\n",
      "    for line in sumstats[3:]:\n",
      "        if ID in line.split()[1]:\n",
      "            outliers_only_sumstats.write(line)\n",
      "        else:\n",
      "            other_loci.write(line)"
     ],
     "language": "python",
     "metadata": {},
     "outputs": [],
     "prompt_number": 71
    },
    {
     "cell_type": "code",
     "collapsed": false,
     "input": [
      "for ID in real_outlier_IDs:\n",
      "    for line in vcf:\n",
      "        "
     ],
     "language": "python",
     "metadata": {},
     "outputs": []
    },
    {
     "cell_type": "code",
     "collapsed": false,
     "input": [
      "outliers_only_sumstats.close()\n",
      "other_loci.close()"
     ],
     "language": "python",
     "metadata": {},
     "outputs": [],
     "prompt_number": 72
    }
   ],
   "metadata": {}
  }
 ]
}