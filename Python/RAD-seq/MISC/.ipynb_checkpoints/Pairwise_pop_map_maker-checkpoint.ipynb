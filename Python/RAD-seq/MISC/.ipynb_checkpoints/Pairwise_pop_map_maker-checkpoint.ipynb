{
 "cells": [
  {
   "cell_type": "code",
   "execution_count": 11,
   "metadata": {
    "collapsed": false
   },
   "outputs": [
    {
     "name": "stdout",
     "output_type": "stream",
     "text": [
      "BF04_1.fil BF\n",
      "BF05_1.fil BF\n",
      "BF06_1.fil BF\n",
      "BF08_1.fil BF\n",
      "BF09_1.fil BF\n",
      "BF10_1.fil BF\n",
      "BF11_1.fil BF\n",
      "BF12_1.fil BF\n",
      "BF13_1.fil BF\n",
      "V11_1.fil V\n",
      "V1_1.fil V\n",
      "V13_1.fil V\n",
      "V3_1.fil V\n",
      "V5_1.fil V\n",
      "V7_1.fil V\n"
     ]
    }
   ],
   "source": [
    "import sys\n",
    "\n",
    "## Usage Pairwise_pop_map_maker [master_pop_map_path] [output path to put new pop_map] [pop1] [pop2]\n",
    "\n",
    "# master_pop_map = open(\"/media/dan/34D5D1CE642D7E36/2013076_Hanfling_Bernd/Stacks/Stacks_analyses_TRIMMED/Pure_cru_M_2/pop_codes.txt\", 'r').readlines() ## For testing\n",
    "\n",
    "master_pop_map = open(sys.argv[1], 'r').readlines()\n",
    "output_dir= sys.argv[2]\n",
    "pop1 = sys.argv[3]\n",
    "pop2 = sys.argv[4]\n",
    "\n",
    "PW_pop_map = open(output_dir+\"/\"+\"pop_codes.txt\",'w')\n",
    "\n",
    "for line in master_pop_map:\n",
    "    if pop1 == line.strip().split()[1]:\n",
    "        PW_pop_map.write(line)\n",
    "    elif pop2 == line.strip().split()[1]:\n",
    "        PW_pop_map.write(line)\n",
    "\n",
    "\n",
    "PW_pop_map.close()"
   ]
  }
 ],
 "metadata": {
  "kernelspec": {
   "display_name": "Python 2",
   "language": "python",
   "name": "python2"
  },
  "language_info": {
   "codemirror_mode": {
    "name": "ipython",
    "version": 2
   },
   "file_extension": ".py",
   "mimetype": "text/x-python",
   "name": "python",
   "nbconvert_exporter": "python",
   "pygments_lexer": "ipython2",
   "version": "2.7.6"
  }
 },
 "nbformat": 4,
 "nbformat_minor": 0
}
