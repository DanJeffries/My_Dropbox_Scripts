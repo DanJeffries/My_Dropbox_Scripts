{
 "cells": [
  {
   "cell_type": "code",
   "execution_count": 22,
   "metadata": {
    "collapsed": true
   },
   "outputs": [],
   "source": [
    "vcf = open(\"/home/djeffrie/Data/RADseq/Crucian/DLJeffries_Thesis_data_and_scripts/Chapter_2/Data/Crucian_only_denovo_dataset/Ohnolog_filtered.vcf\").readlines()\n",
    "\n",
    "popkeys = open(\"/home/djeffrie/Dropbox/PhD/Dans_PhD_Shared/Thesis/pop_keys_RAD.txt\", 'r').readlines()\n",
    "\n"
   ]
  },
  {
   "cell_type": "code",
   "execution_count": 27,
   "metadata": {},
   "outputs": [
    {
     "data": {
      "text/plain": [
       "{'2016': 'GER1',\n",
       " 'AL': 'SWE6',\n",
       " 'BF': 'GBR8',\n",
       " 'BOK': 'BEL1',\n",
       " 'BOR': 'DEN4',\n",
       " 'C2016C': 'GER1',\n",
       " 'CA-CR': 'CZE1',\n",
       " 'CA-LK': 'FIN3',\n",
       " 'CACR': 'CZE1',\n",
       " 'CAKE': 'GBR4',\n",
       " 'CALK': 'FIN3',\n",
       " 'CCS': 'GBR1',\n",
       " 'COP': 'DEN1',\n",
       " 'DEND': 'BEL5',\n",
       " 'DTC': 'HUN5',\n",
       " 'ECA': 'GBR14',\n",
       " 'ECC': 'GBR14',\n",
       " 'EK': 'SWE7',\n",
       " 'EP': 'GBR14',\n",
       " 'EST': 'EST2',\n",
       " 'FCA': 'GBR16',\n",
       " 'FCC': 'GBR16',\n",
       " 'FFF': 'GBR2',\n",
       " 'FFG': 'GER2',\n",
       " 'FM': 'GBR16',\n",
       " 'GAM': 'DEN3',\n",
       " 'GBP': 'GBR15',\n",
       " 'GD': 'SWE1',\n",
       " 'GEW.3': 'GER3',\n",
       " 'GEW.8': 'GER4',\n",
       " 'GFP': 'GBR3',\n",
       " 'GODO': 'HUN1',\n",
       " 'GOT': 'SWE17',\n",
       " 'GOTH_2': 'SWE17',\n",
       " 'GR1': 'POL1',\n",
       " 'GR2': 'POL2',\n",
       " 'H2K': 'HUN4',\n",
       " 'HK': 'HUN4',\n",
       " 'HK1O': 'HUN3',\n",
       " 'HKH': 'HUN4',\n",
       " 'HOLT': 'HUN3',\n",
       " 'JAR': 'NOR1',\n",
       " 'KAP': 'SWE11',\n",
       " 'KRA': 'SWE18',\n",
       " 'LAS': 'UKR1',\n",
       " 'LMCA': 'SWE5',\n",
       " 'LUN': 'SWE19',\n",
       " 'MOAT': 'GBR7',\n",
       " 'MVW': 'BEL2',\n",
       " 'MVWZ': 'BEL3',\n",
       " 'MY': 'UKR2',\n",
       " 'MY-20': 'RUS4',\n",
       " 'MY-5': 'UKR2',\n",
       " 'MY20': 'RUS4',\n",
       " 'MY5': 'UKR2',\n",
       " 'NLP': 'FIN1',\n",
       " 'OBY': 'SWE12',\n",
       " 'OKB': 'BEL4',\n",
       " 'OST': 'SWE3',\n",
       " 'OTOM': 'GBR9',\n",
       " 'OU': 'FIN4',\n",
       " 'PED': 'DEN2',\n",
       " 'POLEN': 'POL4',\n",
       " 'PRIM': 'GBR5',\n",
       " 'PRO': 'RUS1',\n",
       " 'RAIL': 'GBR11',\n",
       " 'RM': 'GBR6',\n",
       " 'ROPE': 'GBR18',\n",
       " 'SA': 'FIN5',\n",
       " 'SD': 'SWE2',\n",
       " 'SK': 'SWE8',\n",
       " 'STEC': 'SWE9',\n",
       " 'STYV': 'SWE10',\n",
       " 'SWED': 'SWE20',\n",
       " 'TL': 'TL',\n",
       " 'TROM': 'NOR2',\n",
       " 'TU': 'POL3',\n",
       " 'UKR': 'BLS',\n",
       " 'UMCA': 'SWE4',\n",
       " 'V': 'HUN2',\n",
       " 'VIIKCA': 'FIN2',\n",
       " 'VIIKHY': 'FIN2',\n",
       " 'VIKK': 'FIN2',\n",
       " 'VIKKCA': 'FIN2',\n",
       " 'VIKKHY': 'FIN2',\n",
       " 'WEN': 'SWE14'}"
      ]
     },
     "execution_count": 27,
     "metadata": {},
     "output_type": "execute_result"
    },
    {
     "name": "stdout",
     "output_type": "stream",
     "text": [
      "\n"
     ]
    }
   ],
   "source": [
    "pops = {}\n",
    "for line in popkeys:\n",
    "    pops[line.split()[0]]  =  line.split()[1]\n",
    "\n",
    "pops"
   ]
  },
  {
   "cell_type": "code",
   "execution_count": 16,
   "metadata": {},
   "outputs": [
    {
     "data": {
      "text/plain": [
       "<function re.match>"
      ]
     },
     "execution_count": 16,
     "metadata": {},
     "output_type": "execute_result"
    }
   ],
   "source": [
    "import re\n",
    "re.match"
   ]
  },
  {
   "cell_type": "code",
   "execution_count": 30,
   "metadata": {
    "scrolled": false
   },
   "outputs": [],
   "source": [
    "import re\n",
    "\n",
    "new_vcf = open(\"/home/djeffrie/Data/RADseq/Crucian/DLJeffries_Thesis_data_and_scripts/Chapter_2/Data/Crucian_only_denovo_dataset/Ohnolog_filtered_renamed.vcf\", 'w')\n",
    "\n",
    "new_header = []\n",
    "\n",
    "for line in vcf:\n",
    "    if line.startswith(\"#CHROM\"):\n",
    "        for field in line.split():\n",
    "            if field in [\"#CHROM\", \"POS\", \"ID\", \"REF\", \"ALT\", \"QUAL\", \"FILTER\", \"INFO\", \"FORMAT\"]:\n",
    "                new_header.append(field)\n",
    "            else:\n",
    "                \n",
    "                match = re.match(r\"([a-z]+)([0-9]+)\", field, re.I)\n",
    "                \n",
    "                if match:\n",
    "                    items = match.groups()\n",
    "                    new_header.append(\"%s_%s\" % (pops[items[0]], items[1]))\n",
    "        new_vcf.write(\"%s\\n\" % \"\\t\".join(new_header))\n",
    "    else:\n",
    "        new_vcf.write(line)\n",
    "new_vcf.close()"
   ]
  },
  {
   "cell_type": "code",
   "execution_count": null,
   "metadata": {
    "collapsed": true
   },
   "outputs": [],
   "source": []
  },
  {
   "cell_type": "code",
   "execution_count": null,
   "metadata": {
    "collapsed": true
   },
   "outputs": [],
   "source": []
  },
  {
   "cell_type": "code",
   "execution_count": null,
   "metadata": {
    "collapsed": true
   },
   "outputs": [],
   "source": []
  }
 ],
 "metadata": {
  "kernelspec": {
   "display_name": "Python 2",
   "language": "python",
   "name": "python2"
  },
  "language_info": {
   "codemirror_mode": {
    "name": "ipython",
    "version": 2
   },
   "file_extension": ".py",
   "mimetype": "text/x-python",
   "name": "python",
   "nbconvert_exporter": "python",
   "pygments_lexer": "ipython2",
   "version": "2.7.14"
  }
 },
 "nbformat": 4,
 "nbformat_minor": 2
}
