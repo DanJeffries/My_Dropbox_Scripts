{
 "cells": [
  {
   "cell_type": "markdown",
   "metadata": {},
   "source": [
    "### Find markers (not in blacklist) with Fst > 0.95"
   ]
  },
  {
   "cell_type": "code",
   "execution_count": 89,
   "metadata": {
    "collapsed": false
   },
   "outputs": [],
   "source": [
    "def Diag_loc_finder(PW_fst_filepath, blacklist_path): ## blacklist made earlier from Pure crucian only.\n",
    "    PW_FST_file = open(PW_fst_filepath, 'r').readlines()\n",
    "    blacklist = open(blacklist_path, 'r').readlines()\n",
    "    blacklist = [i.strip() for i in blacklist] # strip new lines from blacklist\n",
    "    #New_PWSTS_file = open(new_PWfst_path, 'w')\n",
    "    \n",
    "    Diagnostic_SNP_IDs = []\n",
    "    \n",
    "    for line in PW_FST_file:\n",
    "        if not line.startswith('#') and line.split('\\t')[1] not in blacklist and float(line.split('\\t')[8]) >= 0.95: ## need to use BP as well\n",
    "            Diagnostic_SNP_IDs.append((line.split('\\t')[1],line.split('\\t')[5])) ## retain both the Loc ID and the BP\n",
    "                \n",
    "    print \"Number of Diagnostic SNPs =\", len(Diagnostic_SNP_IDs)\n",
    "    #New_PWSTS_file.close()\n",
    "    \n",
    "\n",
    "    return Diagnostic_SNP_IDs"
   ]
  },
  {
   "cell_type": "code",
   "execution_count": 94,
   "metadata": {
    "collapsed": false
   },
   "outputs": [
    {
     "name": "stdout",
     "output_type": "stream",
     "text": [
      "Number of Diagnostic SNPs = 19451\n"
     ]
    }
   ],
   "source": [
    "Diag_SNPs = Diag_loc_finder(\"/media/dan/34D5D1CE642D7E36/2013076_Hanfling_Bernd/Stacks/Stacks_analyses_TRIMMED/All_samples_M4_m4_N4/NewHybrids_PW_datafiles/Pooled_populations_runs/Cru_comm/batch_1.fst_CRU-COMMON.tsv\", \"/media/dan/34D5D1CE642D7E36/2013076_Hanfling_Bernd/Stacks/Stacks_analyses_TRIMMED/All_samples_M4_m4_N4/populations_Pure_cru_only_r07_p17_m8/blacklist.txt\")\n"
   ]
  },
  {
   "cell_type": "markdown",
   "metadata": {},
   "source": [
    "### Filter Diagnositc markers into separate VCF, PWfst and sumstats file"
   ]
  },
  {
   "cell_type": "code",
   "execution_count": 95,
   "metadata": {
    "collapsed": false
   },
   "outputs": [
    {
     "name": "stdout",
     "output_type": "stream",
     "text": [
      "VCF done\n",
      "Sumstats file done\n"
     ]
    }
   ],
   "source": [
    "## Here I am filtering the PW datasets that contain both pure species, hybrids and ambiguous samples.\n",
    "\n",
    "wd = \"/media/dan/34D5D1CE642D7E36/2013076_Hanfling_Bernd/Stacks/Stacks_analyses_TRIMMED/All_samples_M4_m4_N4/NewHybrids_PW_datafiles/Cru_comm_populations_comm_labelled/\"\n",
    "\n",
    "\n",
    "original_vcf = open(wd+\"/batch_1.vcf\", 'r').readlines()\n",
    "original_sumstats = open(wd+\"/batch_1.sumstats.tsv\", 'r').readlines()\n",
    "#original_PWFst = open(wd+\"/batch_1.fst_CRU-GIB.tsv\", 'r').readlines()\n",
    "\n",
    "new_Diagnostic_VCF = open(wd+\"/Diagnostic_SNPs.vcf\", 'w')\n",
    "new_Diagnostic_sumstats = open(wd+\"/Diagnostic_SNPs.sumstats.tsv\", 'w')\n",
    "#new_Diagnostic_PWFst = open(wd+\"/Diagnostic_SNPs.fst_CRU-GIB.tsv\", 'w')\n",
    "\n",
    "\n",
    "## VCF ## \n",
    "\n",
    "for line in original_vcf:\n",
    "    if line.startswith(\"#\"):\n",
    "        new_Diagnostic_VCF.write(line)\n",
    "    elif (line.split()[2],line.split()[1]) in Diag_SNPs:\n",
    "        new_Diagnostic_VCF.write(line)\n",
    "new_Diagnostic_VCF.close()\n",
    "print \"VCF done\"\n",
    "\n",
    "## Sumstats file ##\n",
    "\n",
    "for line in original_sumstats:\n",
    "    if line.startswith(\"#\"):\n",
    "        new_Diagnostic_sumstats.write(line)\n",
    "    elif (line.split()[1],line.split()[3]) in Diag_SNPs:\n",
    "        new_Diagnostic_sumstats.write(line)\n",
    "new_Diagnostic_sumstats.close()\n",
    "print \"Sumstats file done\"\n",
    "\n",
    "## PW FST file ## (Only used for filtering the Pooled pairwise populations outputs)\n",
    "\n",
    "#for line in original_PWFst:\n",
    "#    if line.startswith(\"#\"):\n",
    "#        new_Diagnostic_PWFst.write(line)\n",
    "#    elif (line.split()[1],line.split()[5]) in Diag_SNPs: ## only take first snp from each locus\n",
    "#        new_Diagnostic_PWFst.write(line)\n",
    "#new_Diagnostic_PWFst.close()\n",
    "#print \"PW FST file done\"        \n",
    "\n",
    "\n",
    "\n",
    "\n",
    "\n",
    "\n"
   ]
  },
  {
   "cell_type": "code",
   "execution_count": null,
   "metadata": {
    "collapsed": true
   },
   "outputs": [],
   "source": []
  }
 ],
 "metadata": {
  "kernelspec": {
   "display_name": "Python 2",
   "language": "python",
   "name": "python2"
  },
  "language_info": {
   "codemirror_mode": {
    "name": "ipython",
    "version": 2
   },
   "file_extension": ".py",
   "mimetype": "text/x-python",
   "name": "python",
   "nbconvert_exporter": "python",
   "pygments_lexer": "ipython2",
   "version": "2.7.6"
  }
 },
 "nbformat": 4,
 "nbformat_minor": 0
}
