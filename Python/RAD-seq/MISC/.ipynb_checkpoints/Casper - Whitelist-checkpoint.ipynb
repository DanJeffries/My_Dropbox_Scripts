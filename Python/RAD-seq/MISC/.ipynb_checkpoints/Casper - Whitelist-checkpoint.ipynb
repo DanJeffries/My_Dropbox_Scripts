{
 "cells": [
  {
   "cell_type": "markdown",
   "metadata": {},
   "source": [
    "Here I will filter a VCF for loci that fit a certain criteria.\n",
    "\n",
    "That criteria is that they must be heterozyogous in all F1 generation samples from his mating experiments. This should include the parthenogenesis locus. \n",
    "\n",
    "Not that this is analogous to choosing loci that are fixed between the male and the female which started the breeding line, but using the hybrids to filter will be less prone to incorrect genotpye calls. \n",
    "\n",
    "Here are the samples in this dataset.\n",
    "\n",
    "CZ515_S f1  \n",
    "CZ513_S f1  \n",
    "CZ512_S f1  \n",
    "CZ318_S f1  \n",
    "CZ316_S f1  \n",
    "CZ315_S f1  \n",
    "CZ314_S f1  \n",
    "PM658_Pmale     pmale  \n",
    "PF3_S   female  \n",
    "PF5_S   female  \n"
   ]
  },
  {
   "cell_type": "markdown",
   "metadata": {},
   "source": [
    "### So . . . I will find loci that are heterozygous in all of the F1s. "
   ]
  },
  {
   "cell_type": "code",
   "execution_count": 30,
   "metadata": {
    "collapsed": false
   },
   "outputs": [],
   "source": [
    "## Function to check if the F1s meet the filtering criteria.\n",
    "\n",
    "def locus_filter(record, threshold, sample_list):\n",
    "\n",
    "    N_F1s_called = 0\n",
    "    N_het = 0\n",
    "\n",
    "    for sample in record.samples:\n",
    "        if sample.sample in sample_list:\n",
    "            if sample.called:\n",
    "                N_F1s_called += 1\n",
    "                if sample.is_het:\n",
    "                    N_het += 1\n",
    "                    #print sample.sample, sample[\"GT\"]\n",
    "\n",
    "    if N_het/N_F1s_called >= threshold:\n",
    "        return record.ID\n"
   ]
  },
  {
   "cell_type": "code",
   "execution_count": 48,
   "metadata": {
    "collapsed": false
   },
   "outputs": [
    {
     "name": "stdout",
     "output_type": "stream",
     "text": [
      "572 loci out of 1241 passed the filter\n"
     ]
    }
   ],
   "source": [
    "from __future__ import division\n",
    "import vcf\n",
    "\n",
    "vcf_path = \"/home/djeffrie/Data/RADseq/CASPER/parents_and_f1.vcf\"\n",
    "popmap = open(\"/home/djeffrie/Data/RADseq/CASPER/popmap_Dan.txt\", 'r').readlines()\n",
    "\n",
    "F1s = []\n",
    "\n",
    "for line in popmap:\n",
    "    if \"f1\" in line:\n",
    "        F1s.append(line.split()[0])\n",
    "\n",
    "myVCF = vcf.Reader(open(vcf_path, 'r'))\n",
    "\n",
    "filtered_loci = []\n",
    "het_threshold = 0.8 ## the proportion of samples that a locus is heterozygous in.\n",
    "N_loci = 0\n",
    "\n",
    "for record in myVCF:\n",
    "    N_loci += 1\n",
    "    \n",
    "    loc_ID = locus_filter(record, het_threshold, F1s)\n",
    "\n",
    "    if loc_ID and loc_ID not in filtered_loci:\n",
    "        filtered_loci.append(loc_ID)\n",
    "        \n",
    "print \"%s loci out of %s passed the filter\" % (len(filtered_loci), N_loci)"
   ]
  },
  {
   "cell_type": "markdown",
   "metadata": {},
   "source": [
    "So we now have a list of all of the loci that are heterozygous, export this list so it can be used as a whitelist in Stacks. "
   ]
  },
  {
   "cell_type": "code",
   "execution_count": 49,
   "metadata": {
    "collapsed": false
   },
   "outputs": [],
   "source": [
    "with open(\"/home/djeffrie/Data/RADseq/CASPER/Whitelist_0.8.txt\" ,'w') as outfile:\n",
    "    for i in filtered_loci:\n",
    "        outfile.write(\"%s\\n\" % i)"
   ]
  }
 ],
 "metadata": {
  "kernelspec": {
   "display_name": "Python 2",
   "language": "python",
   "name": "python2"
  },
  "language_info": {
   "codemirror_mode": {
    "name": "ipython",
    "version": 2
   },
   "file_extension": ".py",
   "mimetype": "text/x-python",
   "name": "python",
   "nbconvert_exporter": "python",
   "pygments_lexer": "ipython2",
   "version": "2.7.10"
  }
 },
 "nbformat": 4,
 "nbformat_minor": 0
}
