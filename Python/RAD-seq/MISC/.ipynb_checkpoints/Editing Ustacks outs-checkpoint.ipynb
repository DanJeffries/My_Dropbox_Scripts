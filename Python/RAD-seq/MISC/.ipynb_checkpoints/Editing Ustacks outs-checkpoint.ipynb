{
 "cells": [
  {
   "cell_type": "markdown",
   "metadata": {},
   "source": [
    "Manually altering Ustacks tags.tsv output due to reads having their RE site removed. \n",
    "\n",
    "Clearly, these samples were demultiplexed a while ago, when the cut site was removed. So just going to add it back on here.\n"
   ]
  },
  {
   "cell_type": "code",
   "execution_count": 86,
   "metadata": {
    "collapsed": true
   },
   "outputs": [],
   "source": [
    "import gzip\n",
    "import os"
   ]
  },
  {
   "cell_type": "code",
   "execution_count": 91,
   "metadata": {
    "collapsed": false
   },
   "outputs": [],
   "source": [
    "tags_files = []\n",
    "for root, dirs, files in os.walk(\"/home/djeffrie/Data/RADseq/Riberica/Stacks/\"):\n",
    "    for fil in files:\n",
    "        if \"tags\" in fil:\n",
    "            if fil.startswith(\"Lv\") or fil.startswith(\"Stn\") or fil.startswith(\"Str\") or fil.startswith(\"Stn\") or fil.startswith(\"Cv\") or fil.startswith(\"Zd\"):\n",
    "                tags_file = \"%s/%s\" % (root, fil)\n",
    "                tags_files.append(tags_file)"
   ]
  },
  {
   "cell_type": "code",
   "execution_count": 92,
   "metadata": {
    "collapsed": false
   },
   "outputs": [
    {
     "data": {
      "text/plain": [
       "['/home/djeffrie/Data/RADseq/Riberica/Stacks//Lv_B07_30.tags.tsv.gz',\n",
       " '/home/djeffrie/Data/RADseq/Riberica/Stacks//Lv_B07_33.tags.tsv.gz',\n",
       " '/home/djeffrie/Data/RADseq/Riberica/Stacks//Stn_C07_12.tags.tsv.gz',\n",
       " '/home/djeffrie/Data/RADseq/Riberica/Stacks//Lv_B07_39.tags.tsv.gz',\n",
       " '/home/djeffrie/Data/RADseq/Riberica/Stacks//Cv_08_24.tags.tsv.gz',\n",
       " '/home/djeffrie/Data/RADseq/Riberica/Stacks//Stn_C07_02.tags.tsv.gz',\n",
       " '/home/djeffrie/Data/RADseq/Riberica/Stacks//Cv_08_05.tags.tsv.gz',\n",
       " '/home/djeffrie/Data/RADseq/Riberica/Stacks//Stn_B07_28.tags.tsv.gz',\n",
       " '/home/djeffrie/Data/RADseq/Riberica/Stacks//Zd_A07_52.tags.tsv.gz',\n",
       " '/home/djeffrie/Data/RADseq/Riberica/Stacks//Stn_B07_25.tags.tsv.gz',\n",
       " '/home/djeffrie/Data/RADseq/Riberica/Stacks//Stn_B07_03.tags.tsv.gz',\n",
       " '/home/djeffrie/Data/RADseq/Riberica/Stacks//Stn_B07_37.tags.tsv.gz',\n",
       " '/home/djeffrie/Data/RADseq/Riberica/Stacks//Lv_B07_13.tags.tsv.gz',\n",
       " '/home/djeffrie/Data/RADseq/Riberica/Stacks//Lv_B07_22.tags.tsv.gz',\n",
       " '/home/djeffrie/Data/RADseq/Riberica/Stacks//Lv_B07_10.tags.tsv.gz',\n",
       " '/home/djeffrie/Data/RADseq/Riberica/Stacks//Stn_C07_04.tags.tsv.gz',\n",
       " '/home/djeffrie/Data/RADseq/Riberica/Stacks//Stn_C07_27.tags.tsv.gz',\n",
       " '/home/djeffrie/Data/RADseq/Riberica/Stacks//Str_08_17.tags.tsv.gz',\n",
       " '/home/djeffrie/Data/RADseq/Riberica/Stacks//Lv_B07_37.tags.tsv.gz',\n",
       " '/home/djeffrie/Data/RADseq/Riberica/Stacks//Lv_B07_31.tags.tsv.gz',\n",
       " '/home/djeffrie/Data/RADseq/Riberica/Stacks//Lv_B07_28.tags.tsv.gz',\n",
       " '/home/djeffrie/Data/RADseq/Riberica/Stacks//Stn_B07_30.tags.tsv.gz',\n",
       " '/home/djeffrie/Data/RADseq/Riberica/Stacks//Str_08_06.tags.tsv.gz',\n",
       " '/home/djeffrie/Data/RADseq/Riberica/Stacks//Str_08_11.tags.tsv.gz',\n",
       " '/home/djeffrie/Data/RADseq/Riberica/Stacks//Stn_C07_01.tags.tsv.gz',\n",
       " '/home/djeffrie/Data/RADseq/Riberica/Stacks//Lv_B07_40.tags.tsv.gz',\n",
       " '/home/djeffrie/Data/RADseq/Riberica/Stacks//Lv_B07_34.tags.tsv.gz',\n",
       " '/home/djeffrie/Data/RADseq/Riberica/Stacks//Stn_B07_29.tags.tsv.gz',\n",
       " '/home/djeffrie/Data/RADseq/Riberica/Stacks//Stn_C07_25.tags.tsv.gz',\n",
       " '/home/djeffrie/Data/RADseq/Riberica/Stacks//Stn_B07_19.tags.tsv.gz',\n",
       " '/home/djeffrie/Data/RADseq/Riberica/Stacks//Str_08_13.tags.tsv.gz',\n",
       " '/home/djeffrie/Data/RADseq/Riberica/Stacks//Stn_A07_01.tags.tsv.gz',\n",
       " '/home/djeffrie/Data/RADseq/Riberica/Stacks//Stn_B07_33.tags.tsv.gz',\n",
       " '/home/djeffrie/Data/RADseq/Riberica/Stacks//Cv_08_15.tags.tsv.gz',\n",
       " '/home/djeffrie/Data/RADseq/Riberica/Stacks//Stn_B07_34.tags.tsv.gz',\n",
       " '/home/djeffrie/Data/RADseq/Riberica/Stacks//Stn_C07_17.tags.tsv.gz',\n",
       " '/home/djeffrie/Data/RADseq/Riberica/Stacks//Stn_B07_01.tags.tsv.gz',\n",
       " '/home/djeffrie/Data/RADseq/Riberica/Stacks//Lv_B07_27.tags.tsv.gz',\n",
       " '/home/djeffrie/Data/RADseq/Riberica/Stacks//Zd_A07_51.tags.tsv.gz',\n",
       " '/home/djeffrie/Data/RADseq/Riberica/Stacks//Str_08_07.tags.tsv.gz',\n",
       " '/home/djeffrie/Data/RADseq/Riberica/Stacks//Stn_B07_24.tags.tsv.gz',\n",
       " '/home/djeffrie/Data/RADseq/Riberica/Stacks//Lv_B07_35.tags.tsv.gz',\n",
       " '/home/djeffrie/Data/RADseq/Riberica/Stacks//Stn_B07_08.tags.tsv.gz',\n",
       " '/home/djeffrie/Data/RADseq/Riberica/Stacks//Stn_B07_06.tags.tsv.gz',\n",
       " '/home/djeffrie/Data/RADseq/Riberica/Stacks//Lv_B07_12.tags.tsv.gz',\n",
       " '/home/djeffrie/Data/RADseq/Riberica/Stacks//Str_08_15.tags.tsv.gz',\n",
       " '/home/djeffrie/Data/RADseq/Riberica/Stacks//Stn_C07_13.tags.tsv.gz',\n",
       " '/home/djeffrie/Data/RADseq/Riberica/Stacks//Str_08_03.tags.tsv.gz',\n",
       " '/home/djeffrie/Data/RADseq/Riberica/Stacks//Stn_B07_04.tags.tsv.gz',\n",
       " '/home/djeffrie/Data/RADseq/Riberica/Stacks//Stn_B07_26.tags.tsv.gz',\n",
       " '/home/djeffrie/Data/RADseq/Riberica/Stacks//Stn_B07_32.tags.tsv.gz',\n",
       " '/home/djeffrie/Data/RADseq/Riberica/Stacks//Stn_B07_27.tags.tsv.gz',\n",
       " '/home/djeffrie/Data/RADseq/Riberica/Stacks//Cv_08_14.tags.tsv.gz',\n",
       " '/home/djeffrie/Data/RADseq/Riberica/Stacks//Str_08_01.tags.tsv.gz',\n",
       " '/home/djeffrie/Data/RADseq/Riberica/Stacks//Str_08_14.tags.tsv.gz',\n",
       " '/home/djeffrie/Data/RADseq/Riberica/Stacks//Stn_C07_03.tags.tsv.gz',\n",
       " '/home/djeffrie/Data/RADseq/Riberica/Stacks//Zd_A07_53.tags.tsv.gz',\n",
       " '/home/djeffrie/Data/RADseq/Riberica/Stacks//Stn_C07_22.tags.tsv.gz',\n",
       " '/home/djeffrie/Data/RADseq/Riberica/Stacks//Lv_B07_20.tags.tsv.gz',\n",
       " '/home/djeffrie/Data/RADseq/Riberica/Stacks//Lv_B07_14.tags.tsv.gz',\n",
       " '/home/djeffrie/Data/RADseq/Riberica/Stacks//Stn_C07_28.tags.tsv.gz',\n",
       " '/home/djeffrie/Data/RADseq/Riberica/Stacks//Str_08_16.tags.tsv.gz',\n",
       " '/home/djeffrie/Data/RADseq/Riberica/Stacks//Lv_B07_29.tags.tsv.gz',\n",
       " '/home/djeffrie/Data/RADseq/Riberica/Stacks//Stn_B07_35.tags.tsv.gz']"
      ]
     },
     "execution_count": 92,
     "metadata": {},
     "output_type": "execute_result"
    }
   ],
   "source": [
    "tags_files"
   ]
  },
  {
   "cell_type": "code",
   "execution_count": 100,
   "metadata": {
    "collapsed": false
   },
   "outputs": [
    {
     "data": {
      "text/plain": [
       "'Stn_B07_35.tags.tsv'"
      ]
     },
     "execution_count": 100,
     "metadata": {},
     "output_type": "execute_result"
    }
   ],
   "source": [
    "i = '/home/djeffrie/Data/RADseq/Riberica/Stacks//Stn_B07_35.tags.tsv.gz'\n",
    "\n",
    "i.rpartition(\"/\")[2].rpartition(\".\")[0]"
   ]
  },
  {
   "cell_type": "code",
   "execution_count": 104,
   "metadata": {
    "collapsed": false
   },
   "outputs": [
    {
     "name": "stdout",
     "output_type": "stream",
     "text": [
      "DONE /home/djeffrie/Data/RADseq/Riberica/Stacks/RE_added_tags_files/Lv_B07_30.tags.tsv.gz\n",
      "DONE /home/djeffrie/Data/RADseq/Riberica/Stacks/RE_added_tags_files/Lv_B07_33.tags.tsv.gz\n",
      "DONE /home/djeffrie/Data/RADseq/Riberica/Stacks/RE_added_tags_files/Stn_C07_12.tags.tsv.gz\n",
      "DONE /home/djeffrie/Data/RADseq/Riberica/Stacks/RE_added_tags_files/Lv_B07_39.tags.tsv.gz\n",
      "DONE /home/djeffrie/Data/RADseq/Riberica/Stacks/RE_added_tags_files/Cv_08_24.tags.tsv.gz\n",
      "DONE /home/djeffrie/Data/RADseq/Riberica/Stacks/RE_added_tags_files/Stn_C07_02.tags.tsv.gz\n",
      "DONE /home/djeffrie/Data/RADseq/Riberica/Stacks/RE_added_tags_files/Cv_08_05.tags.tsv.gz\n",
      "DONE /home/djeffrie/Data/RADseq/Riberica/Stacks/RE_added_tags_files/Stn_B07_28.tags.tsv.gz\n",
      "DONE /home/djeffrie/Data/RADseq/Riberica/Stacks/RE_added_tags_files/Zd_A07_52.tags.tsv.gz\n",
      "DONE /home/djeffrie/Data/RADseq/Riberica/Stacks/RE_added_tags_files/Stn_B07_25.tags.tsv.gz\n",
      "DONE /home/djeffrie/Data/RADseq/Riberica/Stacks/RE_added_tags_files/Stn_B07_03.tags.tsv.gz\n",
      "DONE /home/djeffrie/Data/RADseq/Riberica/Stacks/RE_added_tags_files/Stn_B07_37.tags.tsv.gz\n",
      "DONE /home/djeffrie/Data/RADseq/Riberica/Stacks/RE_added_tags_files/Lv_B07_13.tags.tsv.gz\n",
      "DONE /home/djeffrie/Data/RADseq/Riberica/Stacks/RE_added_tags_files/Lv_B07_22.tags.tsv.gz\n",
      "DONE /home/djeffrie/Data/RADseq/Riberica/Stacks/RE_added_tags_files/Lv_B07_10.tags.tsv.gz\n",
      "DONE /home/djeffrie/Data/RADseq/Riberica/Stacks/RE_added_tags_files/Stn_C07_04.tags.tsv.gz\n",
      "DONE /home/djeffrie/Data/RADseq/Riberica/Stacks/RE_added_tags_files/Stn_C07_27.tags.tsv.gz\n",
      "DONE /home/djeffrie/Data/RADseq/Riberica/Stacks/RE_added_tags_files/Str_08_17.tags.tsv.gz\n",
      "DONE /home/djeffrie/Data/RADseq/Riberica/Stacks/RE_added_tags_files/Lv_B07_37.tags.tsv.gz\n",
      "DONE /home/djeffrie/Data/RADseq/Riberica/Stacks/RE_added_tags_files/Lv_B07_31.tags.tsv.gz\n",
      "DONE /home/djeffrie/Data/RADseq/Riberica/Stacks/RE_added_tags_files/Lv_B07_28.tags.tsv.gz\n",
      "DONE /home/djeffrie/Data/RADseq/Riberica/Stacks/RE_added_tags_files/Stn_B07_30.tags.tsv.gz\n",
      "DONE /home/djeffrie/Data/RADseq/Riberica/Stacks/RE_added_tags_files/Str_08_06.tags.tsv.gz\n",
      "DONE /home/djeffrie/Data/RADseq/Riberica/Stacks/RE_added_tags_files/Str_08_11.tags.tsv.gz\n",
      "DONE /home/djeffrie/Data/RADseq/Riberica/Stacks/RE_added_tags_files/Stn_C07_01.tags.tsv.gz\n",
      "DONE /home/djeffrie/Data/RADseq/Riberica/Stacks/RE_added_tags_files/Lv_B07_40.tags.tsv.gz\n",
      "DONE /home/djeffrie/Data/RADseq/Riberica/Stacks/RE_added_tags_files/Lv_B07_34.tags.tsv.gz\n",
      "DONE /home/djeffrie/Data/RADseq/Riberica/Stacks/RE_added_tags_files/Stn_B07_29.tags.tsv.gz\n",
      "DONE /home/djeffrie/Data/RADseq/Riberica/Stacks/RE_added_tags_files/Stn_C07_25.tags.tsv.gz\n",
      "DONE /home/djeffrie/Data/RADseq/Riberica/Stacks/RE_added_tags_files/Stn_B07_19.tags.tsv.gz\n",
      "DONE /home/djeffrie/Data/RADseq/Riberica/Stacks/RE_added_tags_files/Str_08_13.tags.tsv.gz\n",
      "DONE /home/djeffrie/Data/RADseq/Riberica/Stacks/RE_added_tags_files/Stn_A07_01.tags.tsv.gz\n",
      "DONE /home/djeffrie/Data/RADseq/Riberica/Stacks/RE_added_tags_files/Stn_B07_33.tags.tsv.gz\n",
      "DONE /home/djeffrie/Data/RADseq/Riberica/Stacks/RE_added_tags_files/Cv_08_15.tags.tsv.gz\n",
      "DONE /home/djeffrie/Data/RADseq/Riberica/Stacks/RE_added_tags_files/Stn_B07_34.tags.tsv.gz\n",
      "DONE /home/djeffrie/Data/RADseq/Riberica/Stacks/RE_added_tags_files/Stn_C07_17.tags.tsv.gz\n",
      "DONE /home/djeffrie/Data/RADseq/Riberica/Stacks/RE_added_tags_files/Stn_B07_01.tags.tsv.gz\n",
      "DONE /home/djeffrie/Data/RADseq/Riberica/Stacks/RE_added_tags_files/Lv_B07_27.tags.tsv.gz\n",
      "DONE /home/djeffrie/Data/RADseq/Riberica/Stacks/RE_added_tags_files/Zd_A07_51.tags.tsv.gz\n",
      "DONE /home/djeffrie/Data/RADseq/Riberica/Stacks/RE_added_tags_files/Str_08_07.tags.tsv.gz\n",
      "DONE /home/djeffrie/Data/RADseq/Riberica/Stacks/RE_added_tags_files/Stn_B07_24.tags.tsv.gz\n",
      "DONE /home/djeffrie/Data/RADseq/Riberica/Stacks/RE_added_tags_files/Lv_B07_35.tags.tsv.gz\n",
      "DONE /home/djeffrie/Data/RADseq/Riberica/Stacks/RE_added_tags_files/Stn_B07_08.tags.tsv.gz\n",
      "DONE /home/djeffrie/Data/RADseq/Riberica/Stacks/RE_added_tags_files/Stn_B07_06.tags.tsv.gz\n",
      "DONE /home/djeffrie/Data/RADseq/Riberica/Stacks/RE_added_tags_files/Lv_B07_12.tags.tsv.gz\n",
      "DONE /home/djeffrie/Data/RADseq/Riberica/Stacks/RE_added_tags_files/Str_08_15.tags.tsv.gz\n",
      "DONE /home/djeffrie/Data/RADseq/Riberica/Stacks/RE_added_tags_files/Stn_C07_13.tags.tsv.gz\n",
      "DONE /home/djeffrie/Data/RADseq/Riberica/Stacks/RE_added_tags_files/Str_08_03.tags.tsv.gz\n",
      "DONE /home/djeffrie/Data/RADseq/Riberica/Stacks/RE_added_tags_files/Stn_B07_04.tags.tsv.gz\n",
      "DONE /home/djeffrie/Data/RADseq/Riberica/Stacks/RE_added_tags_files/Stn_B07_26.tags.tsv.gz\n",
      "DONE /home/djeffrie/Data/RADseq/Riberica/Stacks/RE_added_tags_files/Stn_B07_32.tags.tsv.gz\n",
      "DONE /home/djeffrie/Data/RADseq/Riberica/Stacks/RE_added_tags_files/Stn_B07_27.tags.tsv.gz\n",
      "DONE /home/djeffrie/Data/RADseq/Riberica/Stacks/RE_added_tags_files/Cv_08_14.tags.tsv.gz\n",
      "DONE /home/djeffrie/Data/RADseq/Riberica/Stacks/RE_added_tags_files/Str_08_01.tags.tsv.gz\n",
      "DONE /home/djeffrie/Data/RADseq/Riberica/Stacks/RE_added_tags_files/Str_08_14.tags.tsv.gz\n",
      "DONE /home/djeffrie/Data/RADseq/Riberica/Stacks/RE_added_tags_files/Stn_C07_03.tags.tsv.gz\n",
      "DONE /home/djeffrie/Data/RADseq/Riberica/Stacks/RE_added_tags_files/Zd_A07_53.tags.tsv.gz\n",
      "DONE /home/djeffrie/Data/RADseq/Riberica/Stacks/RE_added_tags_files/Stn_C07_22.tags.tsv.gz\n",
      "DONE /home/djeffrie/Data/RADseq/Riberica/Stacks/RE_added_tags_files/Lv_B07_20.tags.tsv.gz\n",
      "DONE /home/djeffrie/Data/RADseq/Riberica/Stacks/RE_added_tags_files/Lv_B07_14.tags.tsv.gz\n",
      "DONE /home/djeffrie/Data/RADseq/Riberica/Stacks/RE_added_tags_files/Stn_C07_28.tags.tsv.gz\n",
      "DONE /home/djeffrie/Data/RADseq/Riberica/Stacks/RE_added_tags_files/Str_08_16.tags.tsv.gz\n",
      "DONE /home/djeffrie/Data/RADseq/Riberica/Stacks/RE_added_tags_files/Lv_B07_29.tags.tsv.gz\n",
      "DONE /home/djeffrie/Data/RADseq/Riberica/Stacks/RE_added_tags_files/Stn_B07_35.tags.tsv.gz\n"
     ]
    }
   ],
   "source": [
    "for test_file in tags_files:\n",
    "    out_path = \"%sRE_added_tags_files/%s\" % (test_file.rpartition(\"/\")[0], test_file.rpartition(\"/\")[2])\n",
    "    \n",
    "    print \"DONE\", out_path\n",
    "\n",
    "    test_file = gzip.open(test_file, 'r').readlines()\n",
    "    \n",
    "    test_file_re_added = gzip.open(out_path, 'wb')\n",
    "    \n",
    "    for line in test_file:\n",
    "        if \"consensus\" not in line and \"model\" not in line and \"primary\" not in line:\n",
    "            test_file_re_added.write(line)\n",
    "\n",
    "        elif \"consensus\" in line:\n",
    "            cons_seq = \"TGCAGG%s\" % line.split()[6]\n",
    "            test_file_re_added.write(\"%s\\t%s\\t%s\\t\\t%s\\t%s\\t%s\\t\\t\\t%s\\t%s\\t%s\\t%s\\t%s\\n\" % \\\n",
    "                                     (line.split()[0],line.split()[1],line.split()[2],line.split()[3],\\\n",
    "                                      line.split()[4],line.split()[5],cons_seq,\\\n",
    "                                      line.split()[7], line.split()[8],line.split()[9],line.split()[10]))\n",
    "\n",
    "        elif \"model\" in line:\n",
    "            mode_string = \"OOOOOO%s\" % line.split()[4]\n",
    "\n",
    "            test_file_re_added.write(\"%s\\t%s\\t%s\\t\\t\\t\\t%s\\t\\t\\t%s\\t\\t\\t\\t\\n\" % \\\n",
    "                                     (line.split()[0],line.split()[1],line.split()[2],line.split()[3],mode_string))\n",
    "\n",
    "\n",
    "        elif \"primary\" in line or \"secondary\" in line:\n",
    "            read = \"TGCAGG%s\" % line.split()[6]\n",
    "\n",
    "            test_file_re_added.write(\"%s\\t%s\\t%s\\t\\t\\t\\t%s\\t%s\\t%s\\t%s\\t\\t\\t\\t\\n\" % \\\n",
    "                                     (line.split()[0],line.split()[1],line.split()[2],line.split()[3],line.split()[4],line.split()[5],read))\n",
    "\n",
    "    test_file_re_added.close()"
   ]
  },
  {
   "cell_type": "code",
   "execution_count": null,
   "metadata": {
    "collapsed": true
   },
   "outputs": [],
   "source": []
  }
 ],
 "metadata": {
  "kernelspec": {
   "display_name": "Python 2",
   "language": "python",
   "name": "python2"
  },
  "language_info": {
   "codemirror_mode": {
    "name": "ipython",
    "version": 2
   },
   "file_extension": ".py",
   "mimetype": "text/x-python",
   "name": "python",
   "nbconvert_exporter": "python",
   "pygments_lexer": "ipython2",
   "version": "2.7.10"
  }
 },
 "nbformat": 4,
 "nbformat_minor": 0
}
