{
 "cells": [
  {
   "cell_type": "code",
   "execution_count": 30,
   "metadata": {
    "collapsed": true
   },
   "outputs": [],
   "source": [
    "from __future__ import division\n",
    "import vcf\n",
    "import numpy as np"
   ]
  },
  {
   "cell_type": "code",
   "execution_count": 31,
   "metadata": {
    "collapsed": true
   },
   "outputs": [],
   "source": [
    "cvcf =vcf.Reader(open(\"/home/djeffrie/Downloads/batch_2-concat-orig.vcf\",'r'))"
   ]
  },
  {
   "cell_type": "code",
   "execution_count": 32,
   "metadata": {
    "collapsed": false
   },
   "outputs": [],
   "source": [
    "sumstats = {}\n",
    "total_sumstats={}\n",
    "for record in cvcf:\n",
    "    for sample in record:\n",
    "        if sample.sample not in sumstats:\n",
    "            sumstats[sample.sample] = {}\n",
    "            sumstats[sample.sample][\"hets\"]= []\n",
    "            sumstats[sample.sample][\"tags\"]=[]\n",
    "            sumstats[sample.sample][\"snps\"]=[]\n",
    "            sumstats[sample.sample][\"missingtags\"]=[]\n",
    "            sumstats[sample.sample][\"missingsnps\"]=[]\n",
    "            sumstats[sample.sample][\"covs\"]=[]\n",
    "        if sample.called == True:\n",
    "            sumstats[sample.sample][\"snps\"].append(\"%s_%s\" % (record.ID, record.POS))\n",
    "            sumstats[sample.sample][\"tags\"].append(\"%s\" % (record.ID))\n",
    "            sumstats[sample.sample][\"covs\"].append(sample['DP'])\n",
    "            \n",
    "            \n",
    "            if sample.is_het == True:\n",
    "                sumstats[sample.sample][\"hets\"].append(\"1\")\n",
    "\n",
    "            \n",
    "        else:\n",
    "            sumstats[sample.sample][\"missingsnps\"].append(\"%s_%s\" % (record.ID, record.POS))"
   ]
  },
  {
   "cell_type": "code",
   "execution_count": 42,
   "metadata": {
    "collapsed": false,
    "scrolled": false
   },
   "outputs": [],
   "source": [
    "for sample in sumstats:\n",
    "    if sample not in total_sumstats:\n",
    "        total_sumstats[sample]={}\n",
    "    \n",
    "    total_sumstats[sample][\"total_tags\"] = len(set(sumstats[sample][\"tags\"]))\n",
    "    total_sumstats[sample][\"total_snps\"] = len(sumstats[sample][\"snps\"])\n",
    "    total_sumstats[sample][\"average_coverage\"] = np.mean(sumstats[sample][\"covs\"])\n",
    "    total_sumstats[sample][\"prop_hets\"] = len(sumstats[sample][\"hets\"])/len(sumstats[sample][\"snps\"])\n"
   ]
  },
  {
   "cell_type": "code",
   "execution_count": 43,
   "metadata": {
    "collapsed": false
   },
   "outputs": [],
   "source": [
    "sum_file= open(\"/home/djeffrie/Data/Caspers_data/RADWasp5/summary_stats_Dan.txt\", 'w')\n",
    "sum_file.write(\"%s\\t%s\\t%s\\t%s\\t%s\\n\" % (\"sample\", \"N_tags\", \"N_snps\", \"Av_coverage\", \"Prop_hets\"))\n",
    "\n",
    "\n",
    "for sample in total_sumstats:\n",
    "    sum_file.write(\"%s\\t%s\\t%s\\t%s\\t%s\\n\" % (sample, total_sumstats[sample][\"total_tags\"], total_sumstats[sample][\"total_snps\"], total_sumstats[sample][\"average_coverage\"], total_sumstats[sample][\"prop_hets\"]))\n",
    "                   \n",
    "                \n",
    "sum_file.close()"
   ]
  }
 ],
 "metadata": {
  "kernelspec": {
   "display_name": "Python 2",
   "language": "python",
   "name": "python2"
  },
  "language_info": {
   "codemirror_mode": {
    "name": "ipython",
    "version": 2
   },
   "file_extension": ".py",
   "mimetype": "text/x-python",
   "name": "python",
   "nbconvert_exporter": "python",
   "pygments_lexer": "ipython2",
   "version": "2.7.10"
  }
 },
 "nbformat": 4,
 "nbformat_minor": 0
}
