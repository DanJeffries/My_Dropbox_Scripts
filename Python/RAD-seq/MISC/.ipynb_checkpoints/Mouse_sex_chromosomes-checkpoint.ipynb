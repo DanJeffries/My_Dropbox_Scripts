{
 "cells": [
  {
   "cell_type": "code",
   "execution_count": 34,
   "metadata": {},
   "outputs": [],
   "source": [
    "from __future__ import division"
   ]
  },
  {
   "cell_type": "code",
   "execution_count": 96,
   "metadata": {
    "collapsed": true
   },
   "outputs": [
    {
     "name": "stdout",
     "output_type": "stream",
     "text": [
      "['', '/Users/danieljeffries/anaconda2/lib/python27.zip', '/Users/danieljeffries/anaconda2/lib/python2.7', '/Users/danieljeffries/anaconda2/lib/python2.7/plat-darwin', '/Users/danieljeffries/anaconda2/lib/python2.7/plat-mac', '/Users/danieljeffries/anaconda2/lib/python2.7/plat-mac/lib-scriptpackages', '/Users/danieljeffries/anaconda2/lib/python2.7/lib-tk', '/Users/danieljeffries/anaconda2/lib/python2.7/lib-old', '/Users/danieljeffries/anaconda2/lib/python2.7/lib-dynload', '/Users/danieljeffries/anaconda2/lib/python2.7/site-packages', '/Users/danieljeffries/anaconda2/lib/python2.7/site-packages/Sphinx-1.4.6-py2.7.egg', '/Users/danieljeffries/anaconda2/lib/python2.7/site-packages/aeosa', '/Users/danieljeffries/anaconda2/lib/python2.7/site-packages/matplotlib_venn-0.11.5-py2.7.egg', '/Users/danieljeffries/anaconda2/lib/python2.7/site-packages/setuptools-27.2.0-py2.7.egg', '/Users/danieljeffries/anaconda2/lib/python2.7/site-packages/IPython/extensions', '/Users/danieljeffries/.ipython', '/Users/danieljeffries/Dropbox/My_Dropbox_Scripts/Python/My_Modules/']\n"
     ]
    }
   ],
   "source": [
    "# for mac\n",
    "%matplotlib inline\n",
    "import sys\n",
    "print sys.path\n",
    "sys.path.append(\"/Users/danieljeffries/Dropbox/My_Dropbox_Scripts/Python/My_Modules/\")\n",
    "import vcf\n",
    "import MISC_RAD_tools as MISC\n",
    "import numpy as np"
   ]
  },
  {
   "cell_type": "markdown",
   "metadata": {},
   "source": [
    "## The search for X linked markers (hemizygous in males)"
   ]
  },
  {
   "cell_type": "markdown",
   "metadata": {},
   "source": [
    "Get parent and offspring info"
   ]
  },
  {
   "cell_type": "code",
   "execution_count": 138,
   "metadata": {},
   "outputs": [],
   "source": [
    "\n",
    "myvcf = vcf.VCFReader(open(vcf_path, 'r'))\n",
    "\n",
    "def whatever(vcf, coverage_threshold):\n",
    "\n",
    "    ## Get sample info\n",
    "    \n",
    "    offspring = []\n",
    "    sons = []\n",
    "    daughters = []\n",
    "\n",
    "    for sample in myvcf.samples:\n",
    "        if \"F\" in sample:\n",
    "            Father = sample\n",
    "        elif \"M\" in sample:\n",
    "            Mother = sample\n",
    "        elif \"XX\" in sample and not \"M\" in sample:\n",
    "            offspring.append(sample)\n",
    "            daughters.append(sample)\n",
    "        elif \"XY\" in sample and not \"F\" in sample:\n",
    "            offspring.append(sample)\n",
    "            sons.append(sample)\n",
    "\n",
    "    #print Mother, Father\n",
    "    #print offspring\n",
    "    #print sons\n",
    "    #print daughters\n",
    "    \n",
    "    \n",
    "    log = []\n",
    "\n",
    "    kept_1 = []\n",
    "    kept_2 = []\n",
    "\n",
    "    offspring_thresh = 0.8\n",
    "    son_GT_thresh = 0.9  \n",
    "    daughter_GT_thresh = 0.8 \n",
    "    \n",
    "    \n",
    "    sons_fail = 0\n",
    "    daughters_fail = 0\n",
    "#    deviants = []\n",
    "\n",
    "    for record in vcf:\n",
    "        \n",
    "        mother_called = False\n",
    "        father_called = False\n",
    "        offspring_threshold_met = False\n",
    "        parent_GTs_OK = False\n",
    "        offspring_count = 0\n",
    "        daughter_dict = {}\n",
    "        son_dict = {}\n",
    "\n",
    "        for sample in record.samples:\n",
    "\n",
    "            if sample.sample == Mother:\n",
    "                \n",
    "                if sample.called == True:\n",
    "                    \n",
    "                    if sample[\"DP\"] >= coverage_threshold:\n",
    "\n",
    "                        mother_called = True\n",
    "                        maternal_alleles = sample.gt_alleles\n",
    "\n",
    "                        if sample.is_het:\n",
    "                            mother_GT = \"het\"\n",
    "\n",
    "                        elif not sample.is_het:\n",
    "                            mother_GT = \"hom\"\n",
    "\n",
    "                    else:\n",
    "                        log.append(\"PATTERN_2\\t%s mother coverage too low\" % record.ID)\n",
    "                else:\n",
    "                    log.append(\"PATTERN_2\\t%s not called in mother\" % record.ID)\n",
    "\n",
    "                    \n",
    "            elif sample.sample == Father:\n",
    "                \n",
    "                if sample.called == True:\n",
    "                        \n",
    "                    if sample[\"DP\"] >= coverage_threshold:\n",
    "                        \n",
    "                        father_called = True\n",
    "\n",
    "                        paternal_alleles = sample.gt_alleles\n",
    "\n",
    "                        if sample.is_het:\n",
    "                            father_GT = \"het\"\n",
    "\n",
    "                        elif not sample.is_het:\n",
    "                            father_GT = \"hom\"\n",
    "                    else:\n",
    "                        log.append(\"PATTERN_2\\t%s father coverage too low\" % record.ID)\n",
    "                else:\n",
    "                    log.append(\"PATTERN_2\\t%s not called in father\" % record.ID)\n",
    "                        \n",
    "                        \n",
    "            elif sample.sample in offspring:\n",
    "                \n",
    "                if sample.called == True:\n",
    "                    \n",
    "                    if sample[\"DP\"] >= coverage_threshold:\n",
    "                    \n",
    "                        offspring_count += 1\n",
    "\n",
    "                        if sample.sample in daughters:\n",
    "\n",
    "                            daughter_dict[sample.sample] = {}\n",
    "\n",
    "                            if sample.is_het:\n",
    "\n",
    "                                daughter_dict[sample.sample][\"het_hom\"] = \"het\"\n",
    "                                daughter_dict[sample.sample][\"alleles\"] = sample.gt_alleles\n",
    "\n",
    "                            elif not sample.is_het:\n",
    "                                daughter_dict[sample.sample][\"het_hom\"] = \"hom\"\n",
    "                                daughter_dict[sample.sample][\"alleles\"] = sample.gt_alleles\n",
    "\n",
    "\n",
    "                        elif sample.sample in sons:\n",
    "\n",
    "                            son_dict[sample.sample] = {}\n",
    "\n",
    "                            if sample.is_het:\n",
    "                                son_dict[sample.sample][\"het_hom\"] = \"het\"\n",
    "                                son_dict[sample.sample][\"alleles\"] = sample.gt_alleles\n",
    "\n",
    "                            elif not sample.is_het:\n",
    "                                son_dict[sample.sample][\"het_hom\"] = \"hom\"\n",
    "                                son_dict[sample.sample][\"alleles\"] = sample.gt_alleles\n",
    "\n",
    "                            \n",
    "        ## PATTERN 2\n",
    "        \n",
    "        if all([mother_called, father_called]):\n",
    "            if offspring_count >= offspring_thresh*(len(offspring)):\n",
    "                offspring_threshold_met = True\n",
    "\n",
    "                ## Testing for \"pattern of segregation 2\", we first check that the mother is homozgyous and father is \n",
    "                ## homozygous (hemizygous) for the other allele\n",
    "\n",
    "                if father_GT == \"hom\" and mother_GT == \"hom\"and not paternal_alleles[0] in maternal_alleles:\n",
    "                    \n",
    "                    ## that all FEMALE offspring are heterozygous\n",
    "\n",
    "                    het_daughter_count = 0\n",
    "                    hom_son_count = 0\n",
    "\n",
    "                    for sample in record.samples:\n",
    "                    \n",
    "                        if sample.sample in daughter_dict:\n",
    "                            if daughter_dict[sample.sample][\"het_hom\"] == \"het\":\n",
    "                                het_daughter_count += 1\n",
    "\n",
    "                        ##  that the MALE offspring are homozygous for the\n",
    "                        ## maternal allele, and never the male allele. \n",
    "\n",
    "                        elif sample.sample in son_dict:\n",
    "                            if son_dict[sample.sample][\"het_hom\"] == \"hom\":\n",
    "                                if maternal_alleles[0] in son_dict[sample.sample][\"alleles\"]:\n",
    "                                    hom_son_count += 1\n",
    "#                                else:\n",
    "#                                    deviants.append(sample.sample)\n",
    "#                            else:\n",
    "#                                deviants.append(sample.sample)\n",
    "\n",
    "                    if het_daughter_count > daughter_GT_thresh*(len(daughter_dict)):\n",
    "                        \n",
    "                        if hom_son_count > son_GT_thresh*(len(son_dict)):\n",
    "\n",
    "                            kept_2.append(\"PATTERN_2\\tlocus %s fits segregation pattern 2\" % record.ID)\n",
    "                            \n",
    "                        else:\n",
    "                            log.append(\"PATTERN_2\\t%s enough data, but son's don't meet thresholds (%s sons is < %s)\" % (record.ID, hom_son_count, son_GT_thresh*(len(son_dict))))\n",
    "                            sons_fail += 1\n",
    "                    else:\n",
    "                        log.append(\"PATTERN_2\\t%s enough data, but daughters don't meet thresholds (%s daughters is < %s)\" % (record.ID, het_daughter_count, daughter_GT_thresh*(len(daughter_dict))))\n",
    "                        daughters_fail += 1\n",
    "                \n",
    "                ## PATTERN 1\n",
    "                \n",
    "                elif father_GT == \"hom\" and mother_GT == \"het\":\n",
    "                    \n",
    "                    hom_sons = 0\n",
    "                    \n",
    "                    for sample in record.samples:\n",
    "\n",
    "                        if sample.sample in son_dict:\n",
    "                            if son_dict[sample.sample][\"het_hom\"] == \"hom\":\n",
    "                                hom_sons += 1            \n",
    "                    \n",
    "                    if hom_sons > son_GT_thresh*(len(son_dict)):\n",
    "                        \n",
    "                        het_daughters = 0\n",
    "                        hom_daughters = 0\n",
    "                        \n",
    "                        for sample in record.samples:\n",
    "                    \n",
    "                            if sample.sample in daughter_dict:\n",
    "                                if daughter_dict[sample.sample][\"het_hom\"] == \"het\":\n",
    "                                    het_daughters += 1\n",
    "                                    \n",
    "                                elif daughter_dict[sample.sample][\"het_hom\"] == \"hom\" and daughter_dict[sample.sample][\"alleles\"][0] == paternal_alleles[0]:\n",
    "                                    hom_daughters += 1\n",
    "                                    \n",
    "                        if het_daughters + hom_daughters > daughter_GT_thresh*(len(daughter_dict)):\n",
    "                            kept_1.append(\"PATTERN_1\\tlocus %s fits segregation pattern 1\" % record.ID)\n",
    "                            #print record.ID, maternal_alleles, paternal_alleles, hom_sons ,son_GT_thresh*(len(son_dict)), hom_sons/len(son_dict), (het_daughters + hom_daughters), (het_daughters + hom_daughters)/len(daughter_dict)\n",
    "                            \n",
    "                        else:\n",
    "                            log.append(\"PATTERN_1\\t%s Daughters don't fit expectations, hom daughters = %s, het daughters = %s\" % (record.ID, hom_daughters, het_daughters))\n",
    "                    \n",
    "                    else:\n",
    "                        log.append(\"PATTERN_1\\t%s Not enough homozygous sons (%s)\" % (record.ID, hom_sons))\n",
    "                                    \n",
    "                \n",
    "                else:\n",
    "                    log.append(\"PATTERN 1 and 2\\t%s Parents don't fit expectations, Mothers alleles: %s, Fathers alleles: %s\" % (record.ID, maternal_alleles, paternal_alleles))\n",
    "\n",
    "            else:\n",
    "                log.append(\"PATTERN_2\\t%s not called in %s of offspring\" % (record.ID, offspring_thresh))\n",
    "                   \n",
    "\n",
    "    #print sons_fail, daughters_fail\n",
    "    return kept_1, kept_2, log"
   ]
  },
  {
   "cell_type": "code",
   "execution_count": 142,
   "metadata": {
    "scrolled": false
   },
   "outputs": [],
   "source": [
    "wd = \"/Users/danieljeffries/Data/RADseq/MICE/\"\n",
    "vcf_path = \"%s/batch_1.vcf\" % wd\n",
    "\n",
    "myvcf = vcf.VCFReader(open(vcf_path, 'r'))\n",
    "cov_thresh = 8\n",
    "\n",
    "\n",
    "kept_loci_pattern_1, kept_loci_pattern_2, logfile  = whatever(myvcf, cov_thresh)"
   ]
  },
  {
   "cell_type": "markdown",
   "metadata": {},
   "source": [
    "### VCF 1"
   ]
  },
  {
   "cell_type": "code",
   "execution_count": 143,
   "metadata": {},
   "outputs": [
    {
     "data": {
      "text/plain": [
       "273"
      ]
     },
     "execution_count": 143,
     "metadata": {},
     "output_type": "execute_result"
    }
   ],
   "source": [
    "len(kept_loci_pattern_1)"
   ]
  },
  {
   "cell_type": "code",
   "execution_count": 144,
   "metadata": {},
   "outputs": [
    {
     "data": {
      "text/plain": [
       "81"
      ]
     },
     "execution_count": 144,
     "metadata": {},
     "output_type": "execute_result"
    }
   ],
   "source": [
    "len(kept_loci_pattern_2)"
   ]
  },
  {
   "cell_type": "markdown",
   "metadata": {},
   "source": [
    "### VCF 2"
   ]
  },
  {
   "cell_type": "code",
   "execution_count": 140,
   "metadata": {},
   "outputs": [
    {
     "data": {
      "text/plain": [
       "272"
      ]
     },
     "execution_count": 140,
     "metadata": {},
     "output_type": "execute_result"
    }
   ],
   "source": [
    "len(kept_loci_pattern_1)"
   ]
  },
  {
   "cell_type": "code",
   "execution_count": 141,
   "metadata": {},
   "outputs": [
    {
     "data": {
      "text/plain": [
       "81"
      ]
     },
     "execution_count": 141,
     "metadata": {},
     "output_type": "execute_result"
    }
   ],
   "source": [
    "len(kept_loci_pattern_2)"
   ]
  },
  {
   "cell_type": "markdown",
   "metadata": {},
   "source": [
    "## The search for Y linked markers"
   ]
  },
  {
   "cell_type": "code",
   "execution_count": 198,
   "metadata": {},
   "outputs": [],
   "source": [
    "popmap = open(\"/Users/danieljeffries/Data/RADseq/MICE/popmap_famA.txt\", 'w')\n",
    "\n",
    "for sample in record.samples:\n",
    "    if sample.sample.split(\"_\")[1] == \"XY\":\n",
    "        pop = \"M\"\n",
    "        \n",
    "    elif sample.sample.split(\"_\")[1] == \"XX\":\n",
    "        pop = \"F\"\n",
    "        \n",
    "    popmap.write(\"%s\\t%s\\n\" % (sample.sample, pop))\n",
    "popmap.close()"
   ]
  },
  {
   "cell_type": "code",
   "execution_count": 12,
   "metadata": {},
   "outputs": [],
   "source": [
    "Parameter_dict = {}\n",
    "\n",
    "##### Data ########################\n",
    "\n",
    "Parameter_dict['Catalog'] =  \"/Users/danieljeffries/Data/RADseq/MICE/batch_1.catalog.tags.tsv.gz\" ## Path to the catalog file - used by all approaches.\n",
    "Parameter_dict['VCF'] =  \"/Users/danieljeffries/Data/RADseq/MICE/batch_1.vcf\" ## path to vcf file (note this will be altered to make header compatible with Pyvcf. New vcf will have same name with \".altered\" appended to the end). Used by Approach i) and ii)\n",
    "Parameter_dict['Pop_map'] = \"//Users/danieljeffries/Data/RADseq/MICE/popmap_famA.txt\" ## path to population map file containing sex information. Same format as Stacks pop map file. Used by all approaches.\n",
    "\n",
    "###### threshold parameters #######\n",
    "\n",
    "# 1. Frequency approach\n",
    "Parameter_dict['X_or_Z_freq_threshold'] = 0.4  ## (Default = 0.4) The lower threshold for the freq caluclation to find sex linked snps, e.g. for an XY system, a threshold of 0.4 means that f(F) - f(M) can be >= 0.4 and <= 0.6 (the upper threshold is automatically calculated to be the same distance above 0.5 as the lower threshold is below 0.5) \n",
    "Parameter_dict['sample_presence_cutoff1'] = 0.75 ## (Default = 0.75) a locus must be called in at least this proportion of all samples (not within populations) to be considered\n",
    "Parameter_dict['coverage_threshold1'] = 3 ## (Default = 3) a locus must have at least this threshold in a sample to be considered for that sample. Note that loci below this threshold will be removed from a sample, and this can push the locus below the sample presence cut-off, which will then remove the locus.\n",
    "Parameter_dict['maf_threshold1'] =  0.05 ## (Default = 0.05) minor allele frequency cutoff for a locus across all samples. \n",
    "Parameter_dict['homogametic_REF_allele_freq'] = 0.9 ## (Default = 0.95) The sex linked SNP will be the minor allele, so a check is done to make sure that the homogametic sex is above the threshold specified for the major allele. In theory this should be 1. But allowing for some error 0.95 is used as a default. \n",
    "\n",
    "# 2. Heterozygosity approach\n",
    "Parameter_dict['homogamtic_homozygosity_threshold'] = 0.9 ## (Default = 0.9) The minimum number of the homogametic sex which must not have the tag for that tag to be considered linked to the sex-limited chromosome\n",
    "Parameter_dict['heterogamtic_heterozygosity_threshold'] = 0.8 ## (Default = 0.5) The lower threshold for the proportion of heterozygotes in the heterogametic sex at a locus \n",
    "Parameter_dict['sample_presence_cutoff2'] = 0.75 ## (Default = 0.75) a locus must be called in at least this proportion of all samples (not within populations) to be considered\n",
    "Parameter_dict['coverage_threshold2'] = 6 ## (Default = 3) a locus must have at least this threshold in a sample to be considered for that sample. Note that loci bels this threshold will be removed from a sample, and this can push the locus below the sample presence cut-off, which will then remove the locus.\n",
    "Parameter_dict['maf_threshold2'] = 0.05 ## (Default = 0.05) minor allele frequency cutoff for a locus across all samples. \n",
    "\n",
    "# 3. Sex specific presence or absence approach\n",
    "Parameter_dict['sex_presence_threshold'] =  0.5 ## (Default = 0.5) The minimum percenatage of the heterogametic sex that a tag must be present in.\n",
    "\n"
   ]
  },
  {
   "cell_type": "code",
   "execution_count": 13,
   "metadata": {},
   "outputs": [
    {
     "name": "stdout",
     "output_type": "stream",
     "text": [
      "\n",
      "##### Using SNP heterozygosity approach #####\n",
      " \n",
      "Number of loci = 173089\n",
      "Number of samples = 31\n",
      "Number of loci with too few samples = 44579\n",
      "Number of loci with low MAF = 0\n",
      "Number of loci with enough data = 128507\n",
      "Number of putative X linked snps = 2324\n",
      "Number of putative X linked tags = 2324\n",
      "Number of putative Z linked markers = 387\n",
      "Number of putative Z linked tags = 387\n",
      "\n",
      " ### DONE! ### \n",
      "\n"
     ]
    },
    {
     "ename": "KeyboardInterrupt",
     "evalue": "",
     "output_type": "error",
     "traceback": [
      "\u001b[0;31m---------------------------------------------------------------------------\u001b[0m",
      "\u001b[0;31mKeyboardInterrupt\u001b[0m                         Traceback (most recent call last)",
      "\u001b[0;32m<ipython-input-13-bdc624fd430e>\u001b[0m in \u001b[0;36m<module>\u001b[0;34m()\u001b[0m\n\u001b[0;32m----> 1\u001b[0;31m \u001b[0mXYset\u001b[0m\u001b[0;34m,\u001b[0m \u001b[0mZWset\u001b[0m \u001b[0;34m=\u001b[0m \u001b[0mMISC\u001b[0m\u001b[0;34m.\u001b[0m\u001b[0mSuper_SLM_finder\u001b[0m\u001b[0;34m(\u001b[0m\u001b[0mParameter_dict\u001b[0m\u001b[0;34m,\u001b[0m \u001b[0;34m\"010\"\u001b[0m\u001b[0;34m)\u001b[0m\u001b[0;34m\u001b[0m\u001b[0m\n\u001b[0m",
      "\u001b[0;32m/Users/danieljeffries/Dropbox/My_Dropbox_Scripts/Python/My_Modules/MISC_RAD_tools.pyc\u001b[0m in \u001b[0;36mSuper_SLM_finder\u001b[0;34m(Parameter_dict, execute_seq, write_files)\u001b[0m\n\u001b[1;32m   2385\u001b[0m \u001b[0;34m\u001b[0m\u001b[0m\n\u001b[1;32m   2386\u001b[0m                     \u001b[0;32mfor\u001b[0m \u001b[0mtag\u001b[0m \u001b[0;32min\u001b[0m \u001b[0mcatalog\u001b[0m\u001b[0;34m:\u001b[0m\u001b[0;34m\u001b[0m\u001b[0m\n\u001b[0;32m-> 2387\u001b[0;31m                         \u001b[0;32mif\u001b[0m \u001b[0mlocus\u001b[0m\u001b[0;34m.\u001b[0m\u001b[0msplit\u001b[0m\u001b[0;34m(\u001b[0m\u001b[0;34m\"_\"\u001b[0m\u001b[0;34m)\u001b[0m\u001b[0;34m[\u001b[0m\u001b[0;36m0\u001b[0m\u001b[0;34m]\u001b[0m \u001b[0;34m==\u001b[0m \u001b[0mtag\u001b[0m\u001b[0;34m.\u001b[0m\u001b[0msplit\u001b[0m\u001b[0;34m(\u001b[0m\u001b[0;34m)\u001b[0m\u001b[0;34m[\u001b[0m\u001b[0;36m2\u001b[0m\u001b[0;34m]\u001b[0m\u001b[0;34m:\u001b[0m\u001b[0;34m\u001b[0m\u001b[0m\n\u001b[0m\u001b[1;32m   2388\u001b[0m                             \u001b[0mPutative_XYlinked_makers_file\u001b[0m\u001b[0;34m.\u001b[0m\u001b[0mwrite\u001b[0m\u001b[0;34m(\u001b[0m\u001b[0;34m\">X_linkedLocusID_%s_%s\\n\"\u001b[0m \u001b[0;34m%\u001b[0m \u001b[0;34m(\u001b[0m\u001b[0mlocus\u001b[0m\u001b[0;34m,\u001b[0m \u001b[0mmethod\u001b[0m\u001b[0;34m)\u001b[0m\u001b[0;34m)\u001b[0m\u001b[0;34m\u001b[0m\u001b[0m\n\u001b[1;32m   2389\u001b[0m                             \u001b[0mPutative_XYlinked_makers_file\u001b[0m\u001b[0;34m.\u001b[0m\u001b[0mwrite\u001b[0m\u001b[0;34m(\u001b[0m\u001b[0;34m\"%s\\n\"\u001b[0m \u001b[0;34m%\u001b[0m \u001b[0;34m(\u001b[0m\u001b[0mtag\u001b[0m\u001b[0;34m.\u001b[0m\u001b[0msplit\u001b[0m\u001b[0;34m(\u001b[0m\u001b[0;34m)\u001b[0m\u001b[0;34m[\u001b[0m\u001b[0;36m8\u001b[0m\u001b[0;34m]\u001b[0m\u001b[0;34m)\u001b[0m\u001b[0;34m)\u001b[0m\u001b[0;34m\u001b[0m\u001b[0m\n",
      "\u001b[0;31mKeyboardInterrupt\u001b[0m: "
     ]
    }
   ],
   "source": [
    "XYset, ZWset = MISC.Super_SLM_finder(Parameter_dict, \"010\")"
   ]
  },
  {
   "cell_type": "markdown",
   "metadata": {},
   "source": [
    "### Looking at coverage of X specific RADtags"
   ]
  },
  {
   "cell_type": "code",
   "execution_count": 117,
   "metadata": {},
   "outputs": [],
   "source": [
    "wd = \"/Users/danieljeffries/Data/RADseq/MICE/\"\n",
    "vcf_path = \"%s/batch_1.vcf\" % wd\n",
    "myvcf = vcf.VCFReader(open(vcf_path, 'r'))"
   ]
  },
  {
   "cell_type": "markdown",
   "metadata": {},
   "source": [
    "### For pattern 1"
   ]
  },
  {
   "cell_type": "code",
   "execution_count": 145,
   "metadata": {
    "collapsed": true
   },
   "outputs": [
    {
     "data": {
      "text/plain": [
       "['1669_57',\n",
       " '4018_14',\n",
       " '4018_82',\n",
       " '7878_77',\n",
       " '8548_87',\n",
       " '10912_74',\n",
       " '16433_89',\n",
       " '21506_80',\n",
       " '21840_44',\n",
       " '33316_58',\n",
       " '33316_87',\n",
       " '36294_81',\n",
       " '39008_48',\n",
       " '39630_5',\n",
       " '40994_18',\n",
       " '41890_71',\n",
       " '41890_75',\n",
       " '42224_31',\n",
       " '43446_52',\n",
       " '43861_36',\n",
       " '49678_90',\n",
       " '52609_7',\n",
       " '52609_89',\n",
       " '53524_9',\n",
       " '53524_90',\n",
       " '55780_18',\n",
       " '61555_66',\n",
       " '62252_35',\n",
       " '64632_36',\n",
       " '65609_50',\n",
       " '65918_8',\n",
       " '68287_79',\n",
       " '69825_61',\n",
       " '70732_62',\n",
       " '73410_53',\n",
       " '73410_83',\n",
       " '75220_75',\n",
       " '78435_14',\n",
       " '78435_91',\n",
       " '78952_30',\n",
       " '79683_50',\n",
       " '84400_90',\n",
       " '87374_15',\n",
       " '87790_86',\n",
       " '89260_84',\n",
       " '89862_23',\n",
       " '89862_41',\n",
       " '97696_49',\n",
       " '97696_61',\n",
       " '100408_29',\n",
       " '101006_68',\n",
       " '106758_33',\n",
       " '107280_44',\n",
       " '110136_53',\n",
       " '110136_78',\n",
       " '111546_90',\n",
       " '112875_13',\n",
       " '114924_79',\n",
       " '114926_10',\n",
       " '115656_82',\n",
       " '120736_13',\n",
       " '121077_51',\n",
       " '122457_32',\n",
       " '124129_27',\n",
       " '125607_12',\n",
       " '126115_68',\n",
       " '128180_92',\n",
       " '129197_5',\n",
       " '131833_37',\n",
       " '132543_28',\n",
       " '132557_36',\n",
       " '133097_46',\n",
       " '136718_80',\n",
       " '138115_64',\n",
       " '138220_27',\n",
       " '138554_14',\n",
       " '138815_33',\n",
       " '138815_45',\n",
       " '146252_74',\n",
       " '146612_44',\n",
       " '150383_91',\n",
       " '150383_92',\n",
       " '155260_77',\n",
       " '155764_16',\n",
       " '156064_17',\n",
       " '156064_76',\n",
       " '157150_60',\n",
       " '157150_89',\n",
       " '157448_30',\n",
       " '158602_46',\n",
       " '158602_66',\n",
       " '160805_69',\n",
       " '161301_36',\n",
       " '162662_12',\n",
       " '163476_65',\n",
       " '163950_92',\n",
       " '167198_6',\n",
       " '167340_17',\n",
       " '168423_6',\n",
       " '168824_10',\n",
       " '168828_79',\n",
       " '170427_39',\n",
       " '172082_60',\n",
       " '172846_61',\n",
       " '174994_60',\n",
       " '176279_92',\n",
       " '177598_12',\n",
       " '178120_43',\n",
       " '179631_53',\n",
       " '180660_67',\n",
       " '180660_84',\n",
       " '180916_80',\n",
       " '181533_57',\n",
       " '182561_63',\n",
       " '186863_79',\n",
       " '189502_34',\n",
       " '190385_70',\n",
       " '190661_11',\n",
       " '190661_12',\n",
       " '190964_16',\n",
       " '191075_8',\n",
       " '192917_40',\n",
       " '192917_63',\n",
       " '199994_58',\n",
       " '200696_27',\n",
       " '201519_71',\n",
       " '203614_54',\n",
       " '203846_30',\n",
       " '205602_36',\n",
       " '205691_9',\n",
       " '207185_67',\n",
       " '209039_32',\n",
       " '209843_50',\n",
       " '210543_7',\n",
       " '214010_56',\n",
       " '214010_86',\n",
       " '216615_63',\n",
       " '219329_37',\n",
       " '220044_43',\n",
       " '228250_11',\n",
       " '229984_12',\n",
       " '231010_72',\n",
       " '231269_87',\n",
       " '231861_82',\n",
       " '232436_19',\n",
       " '232724_16',\n",
       " '233052_7',\n",
       " '240177_29',\n",
       " '243990_56',\n",
       " '246953_18',\n",
       " '246953_66',\n",
       " '250092_89',\n",
       " '264055_86',\n",
       " '267335_42',\n",
       " '269779_41',\n",
       " '269974_62',\n",
       " '270970_50',\n",
       " '274195_34',\n",
       " '275787_73',\n",
       " '277394_54',\n",
       " '278246_19',\n",
       " '278664_51',\n",
       " '287305_58',\n",
       " '287538_58',\n",
       " '288162_18',\n",
       " '288162_67',\n",
       " '289404_71',\n",
       " '289404_85',\n",
       " '290145_80',\n",
       " '290269_86',\n",
       " '291589_44',\n",
       " '292758_84',\n",
       " '296068_47',\n",
       " '296482_36',\n",
       " '296607_30',\n",
       " '296640_8',\n",
       " '298599_80',\n",
       " '302122_91',\n",
       " '302214_28',\n",
       " '302214_69',\n",
       " '303154_53',\n",
       " '303186_59',\n",
       " '307867_21',\n",
       " '310095_57',\n",
       " '310430_48',\n",
       " '313019_14',\n",
       " '313270_71',\n",
       " '313315_13',\n",
       " '314515_16',\n",
       " '314515_41',\n",
       " '318729_22',\n",
       " '318729_73',\n",
       " '320918_8',\n",
       " '322267_50',\n",
       " '323980_51',\n",
       " '323980_57',\n",
       " '330807_85',\n",
       " '338674_72',\n",
       " '340994_38',\n",
       " '341800_34',\n",
       " '342010_67',\n",
       " '342943_71',\n",
       " '348480_54',\n",
       " '350057_20',\n",
       " '351374_14',\n",
       " '351374_36',\n",
       " '352287_37',\n",
       " '352287_57',\n",
       " '353881_70',\n",
       " '356041_70',\n",
       " '359540_68',\n",
       " '360533_35',\n",
       " '360533_36',\n",
       " '360841_92',\n",
       " '364281_63',\n",
       " '364281_64',\n",
       " '364295_88',\n",
       " '365769_69',\n",
       " '369811_26',\n",
       " '376602_55',\n",
       " '378190_62',\n",
       " '378656_22',\n",
       " '378991_66',\n",
       " '378991_68',\n",
       " '379498_9',\n",
       " '379498_40',\n",
       " '379552_46',\n",
       " '379620_48',\n",
       " '384279_64',\n",
       " '384336_50',\n",
       " '385651_31',\n",
       " '388664_84',\n",
       " '390981_8',\n",
       " '392191_36',\n",
       " '394697_86',\n",
       " '400625_76',\n",
       " '403692_16',\n",
       " '405253_16',\n",
       " '406953_40',\n",
       " '407308_63',\n",
       " '409947_77',\n",
       " '410028_49',\n",
       " '410272_72',\n",
       " '410272_78',\n",
       " '413437_81',\n",
       " '415009_87',\n",
       " '415268_75',\n",
       " '419332_89',\n",
       " '420021_72',\n",
       " '421942_78',\n",
       " '422980_52',\n",
       " '423749_25',\n",
       " '423749_60',\n",
       " '426854_15',\n",
       " '428412_41',\n",
       " '428651_23',\n",
       " '428651_29',\n",
       " '429140_25',\n",
       " '430632_19',\n",
       " '431216_7',\n",
       " '433269_57',\n",
       " '433269_60',\n",
       " '433946_33',\n",
       " '437792_52',\n",
       " '438005_62',\n",
       " '438591_90',\n",
       " '438750_21',\n",
       " '442585_32',\n",
       " '442829_72',\n",
       " '474581_37',\n",
       " '479413_53',\n",
       " '509253_48',\n",
       " '538974_15']"
      ]
     },
     "execution_count": 145,
     "metadata": {},
     "output_type": "execute_result"
    }
   ],
   "source": [
    "## get locus names\n",
    "kept_pattern_1 = []\n",
    "\n",
    "for line in kept_loci_pattern_1:\n",
    "    kept_pattern_1.append(line.split()[2])\n",
    "    \n",
    "kept_pattern_1"
   ]
  },
  {
   "cell_type": "code",
   "execution_count": 152,
   "metadata": {},
   "outputs": [],
   "source": [
    "myvcf = vcf.VCFReader(open(vcf_path, 'r'))\n",
    "\n",
    "sample_cov_dict_1 = {}\n",
    "\n",
    "call_thresh = 0.7\n",
    "\n",
    "for sample in myvcf.samples:\n",
    "    sample_cov_dict_1[sample] = {}\n",
    "    sample_cov_dict_1[sample][\"X\"] = []\n",
    "    sample_cov_dict_1[sample][\"auto\"] = []\n",
    "\n",
    "for record in myvcf:\n",
    "    if record.num_called > call_thresh*(len(record.samples)):\n",
    "        for sample in record.samples:\n",
    "            if record.ID in kept_pattern_1 and sample[\"DP\"] > cov_thresh and sample[\"DP\"] < 50:\n",
    "                sample_cov_dict_1[sample.sample][\"X\"].append(sample[\"DP\"])\n",
    "            else:\n",
    "                if sample[\"DP\"] > cov_thresh:\n",
    "                    sample_cov_dict_1[sample.sample][\"auto\"].append(sample[\"DP\"])\n",
    "            \n",
    "#sample_cov_dict_1"
   ]
  },
  {
   "cell_type": "code",
   "execution_count": 153,
   "metadata": {},
   "outputs": [
    {
     "data": {
      "image/png": "[encoded data removed]",
      "text/plain": [
       "<matplotlib.figure.Figure at 0x108413990>"
      ]
     },
     "metadata": {},
     "output_type": "display_data"
    }
   ],
   "source": [
    "from matplotlib import pyplot as plt\n",
    "\n",
    "plt.figure(figsize = (15,10))\n",
    "plt.hist(sample_cov_dict_1[\"A25_XY\"][\"X\"], bins = 100)\n",
    "plt.xlim(0,100)\n",
    "plt.show()"
   ]
  },
  {
   "cell_type": "code",
   "execution_count": 154,
   "metadata": {},
   "outputs": [
    {
     "data": {
      "image/png": "[encoded data removed]",
      "text/plain": [
       "<matplotlib.figure.Figure at 0x10db75690>"
      ]
     },
     "metadata": {},
     "output_type": "display_data"
    }
   ],
   "source": [
    "plt.figure(figsize = (15,10))\n",
    "plt.hist(sample_cov_dict_1[\"A25_XY\"][\"auto\"], bins = 100)\n",
    "plt.xlim(0,100)\n",
    "plt.show()"
   ]
  },
  {
   "cell_type": "markdown",
   "metadata": {},
   "source": [
    "### VCF 1"
   ]
  },
  {
   "cell_type": "code",
   "execution_count": 155,
   "metadata": {},
   "outputs": [
    {
     "name": "stdout",
     "output_type": "stream",
     "text": [
      "A25_XY 0.905171660543\n",
      "A14_XY 0.80700773983\n",
      "A26_XY 0.82574496816\n",
      "AM_XX 1.0244754146\n",
      "A19_XY 0.808501364315\n",
      "A28_XY 0.913243773272\n",
      "A01_XY 0.851915921638\n",
      "A02_XY 0.834618502995\n",
      "A08_XY 0.890427956852\n",
      "A12_XY 0.883654310451\n",
      "A22_XY 0.828371215841\n",
      "AF_XY 0.749624421042\n",
      "A09_XX 1.12177771401\n",
      "A18_XX 1.11649254593\n",
      "A24_XX 1.05209644304\n",
      "A04_XY 0.892399321323\n",
      "A29_XY 0.895487866027\n",
      "A03_XX 1.15158552465\n",
      "A23_XY 0.911791154392\n",
      "A20_XY 0.876275391626\n",
      "A10_XY 0.81564741037\n",
      "A05_XY 0.856994251976\n",
      "A13_XX 1.09239702514\n",
      "A21_XX 1.17811730546\n",
      "A06_XY 0.844053354616\n",
      "A17_XX 1.09858117864\n",
      "A27_XX 1.07700196187\n",
      "A07_XY 0.930178048994\n",
      "A11_XX 1.12434054485\n",
      "A16_XY 0.915567259503\n",
      "A15_XY 0.827977423777\n"
     ]
    }
   ],
   "source": [
    "for sample in sample_cov_dict_1:\n",
    "    X_vs_auto = np.mean(sample_cov_dict_1[sample][\"X\"])/np.mean(sample_cov_dict_1[sample][\"auto\"])\n",
    "    \n",
    "    print sample, X_vs_auto"
   ]
  },
  {
   "cell_type": "markdown",
   "metadata": {},
   "source": [
    "### VCF 2"
   ]
  },
  {
   "cell_type": "code",
   "execution_count": 131,
   "metadata": {},
   "outputs": [
    {
     "name": "stdout",
     "output_type": "stream",
     "text": [
      "A25_XY 0.809814518262\n",
      "A14_XY 0.730055903976\n",
      "A26_XY 0.774667200897\n",
      "AM_XX 0.952351725803\n",
      "A19_XY 0.754845212523\n",
      "A28_XY 0.804392529254\n",
      "A01_XY 0.797533476519\n",
      "A02_XY 0.773177436317\n",
      "A08_XY 0.860882529432\n",
      "A12_XY 0.818786405916\n",
      "A22_XY 0.753389786642\n",
      "AF_XY 0.733865154449\n",
      "A09_XX 0.96364880071\n",
      "A18_XX 0.932105534372\n",
      "A24_XX 0.905472988048\n",
      "A04_XY 0.80926365239\n",
      "A29_XY 0.813286173983\n",
      "A03_XX 0.957653218825\n",
      "A23_XY 0.832867477241\n",
      "A20_XY 0.799664957682\n",
      "A10_XY 0.777946826841\n",
      "A05_XY 0.765584075146\n",
      "A13_XX 0.917366500198\n",
      "A21_XX 0.968253078042\n",
      "A06_XY 0.792108229601\n",
      "A17_XX 0.962105641139\n",
      "A27_XX 0.920551425076\n",
      "A07_XY 0.851089252376\n",
      "A11_XX 0.938693758173\n",
      "A16_XY 0.834397833438\n",
      "A15_XY 0.754447546972\n"
     ]
    }
   ],
   "source": [
    "for sample in sample_cov_dict_1:\n",
    "    X_vs_auto = np.mean(sample_cov_dict_1[sample][\"X\"])/np.mean(sample_cov_dict_1[sample][\"auto\"])\n",
    "    \n",
    "    print sample, X_vs_auto"
   ]
  },
  {
   "cell_type": "code",
   "execution_count": 85,
   "metadata": {},
   "outputs": [
    {
     "name": "stdout",
     "output_type": "stream",
     "text": [
      "A25_XY 1.07731549085\n",
      "A14_XY 0.867845403613\n",
      "A26_XY 0.715708336899\n",
      "AM_XX 0.741815305429\n",
      "A19_XY 0.770424349402\n",
      "A28_XY 0.908073474526\n",
      "A01_XY 0.879474130127\n",
      "A02_XY 0.78525452059\n",
      "A08_XY 0.872764303599\n",
      "A12_XY 0.858127680444\n",
      "A22_XY 0.817659779669\n",
      "AF_XY 0.492687945254\n",
      "A09_XX 0.750662881254\n",
      "A18_XX 0.631591371296\n",
      "A24_XX 0.55964732383\n",
      "A04_XY 0.865725565833\n",
      "A29_XY 0.937983127221\n",
      "A03_XX 0.566309736906\n",
      "A23_XY 1.08344925424\n",
      "A20_XY 0.876202007853\n",
      "A10_XY 0.899264444254\n",
      "A05_XY 0.876293615262\n",
      "A13_XX 0.694591397849\n",
      "A21_XX 0.521108791936\n",
      "A06_XY 0.696171715962\n",
      "A17_XX 0.606333398937\n",
      "A27_XX 0.654731688373\n",
      "A07_XY 0.620885700303\n",
      "A11_XX 0.574150429346\n",
      "A16_XY 0.998668105621\n",
      "A15_XY 0.951392035035\n"
     ]
    }
   ],
   "source": [
    "for sample in sample_cov_dict_1:\n",
    "    X_vs_auto = np.mean(sample_cov_dict_1[sample][\"X\"])/np.mean(sample_cov_dict_1[sample][\"auto\"])\n",
    "    \n",
    "    print sample, X_vs_auto"
   ]
  },
  {
   "cell_type": "code",
   "execution_count": 67,
   "metadata": {},
   "outputs": [
    {
     "name": "stdout",
     "output_type": "stream",
     "text": [
      "A25_XY 0.643217185335\n",
      "A14_XY 0.566661204309\n",
      "A26_XY 0.618618716118\n",
      "AM_XX 0.805881876411\n",
      "A19_XY 0.588844540866\n",
      "A28_XY 0.659108544867\n",
      "A01_XY 0.591461997745\n",
      "A02_XY 0.639815410412\n",
      "A08_XY 0.591214441678\n",
      "A12_XY 0.589592009084\n",
      "A22_XY 0.575758288689\n",
      "AF_XY 0.639597468953\n",
      "A09_XX 0.7414383076\n",
      "A18_XX 0.702850574697\n",
      "A24_XX 0.71627932177\n",
      "A04_XY 0.618026433365\n",
      "A29_XY 0.627233089801\n",
      "A03_XX 0.743647285535\n",
      "A23_XY 0.618358396107\n",
      "A20_XY 0.633675553758\n",
      "A10_XY 0.594710485989\n",
      "A05_XY 0.60312172316\n",
      "A13_XX 0.740341943514\n",
      "A21_XX 0.767608381882\n",
      "A06_XY 0.567624915229\n",
      "A17_XX 0.731833900788\n",
      "A27_XX 0.703450235701\n",
      "A07_XY 0.622050693112\n",
      "A11_XX 0.70267753117\n",
      "A16_XY 0.578168114753\n",
      "A15_XY 0.590666331403\n"
     ]
    }
   ],
   "source": [
    "for sample in sample_cov_dict_1:\n",
    "    X_vs_auto = np.mean(sample_cov_dict_1[sample][\"X\"])/np.mean(sample_cov_dict_1[sample][\"auto\"])\n",
    "    \n",
    "    print sample, X_vs_auto"
   ]
  },
  {
   "cell_type": "markdown",
   "metadata": {},
   "source": [
    "### For pattern 2"
   ]
  },
  {
   "cell_type": "code",
   "execution_count": 156,
   "metadata": {
    "collapsed": true
   },
   "outputs": [
    {
     "data": {
      "text/plain": [
       "['4072_5',\n",
       " '4072_67',\n",
       " '8820_5',\n",
       " '12049_38',\n",
       " '12049_83',\n",
       " '13897_7',\n",
       " '13897_72',\n",
       " '16053_76',\n",
       " '23881_13',\n",
       " '31941_80',\n",
       " '31941_86',\n",
       " '70080_7',\n",
       " '70948_27',\n",
       " '72999_81',\n",
       " '74233_17',\n",
       " '77448_58',\n",
       " '96942_16',\n",
       " '96942_35',\n",
       " '107311_15',\n",
       " '110837_72',\n",
       " '111894_6',\n",
       " '111894_22',\n",
       " '133311_53',\n",
       " '133755_89',\n",
       " '136909_36',\n",
       " '140579_87',\n",
       " '140617_68',\n",
       " '141552_51',\n",
       " '146042_13',\n",
       " '146042_37',\n",
       " '150365_50',\n",
       " '150365_73',\n",
       " '156089_39',\n",
       " '169006_45',\n",
       " '170929_92',\n",
       " '173071_72',\n",
       " '174957_87',\n",
       " '175710_66',\n",
       " '180695_58',\n",
       " '184710_38',\n",
       " '184710_79',\n",
       " '191592_15',\n",
       " '200456_59',\n",
       " '205004_62',\n",
       " '212219_64',\n",
       " '217410_90',\n",
       " '221981_73',\n",
       " '223631_20',\n",
       " '239130_19',\n",
       " '239130_81',\n",
       " '244388_41',\n",
       " '246582_28',\n",
       " '248669_29',\n",
       " '260658_39',\n",
       " '291930_35',\n",
       " '295360_60',\n",
       " '321457_60',\n",
       " '321457_92',\n",
       " '321579_61',\n",
       " '321579_62',\n",
       " '333196_45',\n",
       " '336899_64',\n",
       " '341972_25',\n",
       " '341972_54',\n",
       " '342010_85',\n",
       " '349791_86',\n",
       " '351576_29',\n",
       " '351576_34',\n",
       " '352316_65',\n",
       " '373958_63',\n",
       " '373958_73',\n",
       " '387153_83',\n",
       " '390394_63',\n",
       " '404225_91',\n",
       " '409563_77',\n",
       " '411417_17',\n",
       " '413444_19',\n",
       " '418874_41',\n",
       " '430403_71',\n",
       " '442678_43',\n",
       " '442829_59']"
      ]
     },
     "execution_count": 156,
     "metadata": {},
     "output_type": "execute_result"
    }
   ],
   "source": [
    "## get locus names\n",
    "kept_pattern_2 = []\n",
    "\n",
    "for line in kept_loci_pattern_2:\n",
    "    kept_pattern_2.append(line.split()[2])\n",
    "    \n",
    "kept_pattern_2\n",
    "    "
   ]
  },
  {
   "cell_type": "code",
   "execution_count": 132,
   "metadata": {},
   "outputs": [],
   "source": [
    "myvcf = vcf.VCFReader(open(vcf_path, 'r'))\n",
    "\n",
    "sample_cov_dict_2 = {}\n",
    "\n",
    "call_thresh = 0.7\n",
    "\n",
    "for sample in myvcf.samples:\n",
    "    sample_cov_dict_2[sample] = {}\n",
    "    sample_cov_dict_2[sample][\"X\"] = []\n",
    "    sample_cov_dict_2[sample][\"auto\"] = []\n",
    "\n",
    "for record in myvcf:\n",
    "    if record.num_called > call_thresh*(len(record.samples)):\n",
    "        for sample in record.samples:\n",
    "            if record.ID in kept_pattern_2 and sample[\"DP\"] > cov_thresh and sample[\"DP\"] < 50:\n",
    "                sample_cov_dict_2[sample.sample][\"X\"].append(sample[\"DP\"])\n",
    "            else:\n",
    "                if sample[\"DP\"] > cov_thresh:\n",
    "                    sample_cov_dict_2[sample.sample][\"auto\"].append(sample[\"DP\"])\n",
    "            \n",
    "#sample_cov_dict_1"
   ]
  },
  {
   "cell_type": "code",
   "execution_count": 157,
   "metadata": {},
   "outputs": [
    {
     "data": {
      "image/png": "[encoded data removed]",
      "text/plain": [
       "<matplotlib.figure.Figure at 0x10d5da850>"
      ]
     },
     "metadata": {},
     "output_type": "display_data"
    }
   ],
   "source": [
    "plt.figure(figsize = (15,10))\n",
    "plt.hist(sample_cov_dict_2[\"A25_XY\"][\"auto\"], bins = 100)\n",
    "plt.xlim(0,100)\n",
    "plt.show()"
   ]
  },
  {
   "cell_type": "code",
   "execution_count": 158,
   "metadata": {},
   "outputs": [
    {
     "data": {
      "image/png": "[encoded data removed]",
      "text/plain": [
       "<matplotlib.figure.Figure at 0x145880790>"
      ]
     },
     "metadata": {},
     "output_type": "display_data"
    }
   ],
   "source": [
    "plt.figure(figsize = (15,10))\n",
    "plt.hist(sample_cov_dict_2[\"A25_XY\"][\"X\"], bins = 10)\n",
    "plt.xlim(0,100)\n",
    "plt.show()"
   ]
  },
  {
   "cell_type": "code",
   "execution_count": 136,
   "metadata": {},
   "outputs": [
    {
     "name": "stdout",
     "output_type": "stream",
     "text": [
      "A25_XY 0.635702714749\n",
      "A14_XY 0.631353238586\n",
      "A26_XY 0.614470579709\n",
      "AM_XX 1.10615682594\n",
      "A19_XY 0.637998780394\n",
      "A28_XY 0.60262506157\n",
      "A01_XY 0.674523966572\n",
      "A02_XY 0.599014701927\n",
      "A08_XY 0.638142250136\n",
      "A12_XY 0.60936488784\n",
      "A22_XY 0.634912154903\n",
      "AF_XY 0.561220639956\n",
      "A09_XX 1.05207642856\n",
      "A18_XX 1.01489534396\n",
      "A24_XX 1.0524285082\n",
      "A04_XY 0.615555306049\n",
      "A29_XY 0.647608319447\n",
      "A03_XX 1.02139327329\n",
      "A23_XY 0.649610815989\n",
      "A20_XY 0.643119738594\n",
      "A10_XY 0.611357813512\n",
      "A05_XY 0.615510264431\n",
      "A13_XX 1.03808041894\n",
      "A21_XX 1.09886327023\n",
      "A06_XY 0.623665367253\n",
      "A17_XX 1.09087318167\n",
      "A27_XX 0.992283801543\n",
      "A07_XY 0.630733845465\n",
      "A11_XX 1.01094267056\n",
      "A16_XY 0.633225593506\n",
      "A15_XY 0.614276088766\n"
     ]
    }
   ],
   "source": [
    "for sample in sample_cov_dict:\n",
    "    X_vs_auto = np.mean(sample_cov_dict_2[sample][\"X\"])/np.mean(sample_cov_dict_2[sample][\"auto\"])\n",
    "    \n",
    "    print sample, X_vs_auto"
   ]
  },
  {
   "cell_type": "code",
   "execution_count": 137,
   "metadata": {},
   "outputs": [
    {
     "name": "stdout",
     "output_type": "stream",
     "text": [
      "A25_XY 0.635702714749\n",
      "A14_XY 0.631353238586\n",
      "A26_XY 0.614470579709\n",
      "AM_XX 1.10615682594\n",
      "A19_XY 0.637998780394\n",
      "A28_XY 0.60262506157\n",
      "A01_XY 0.674523966572\n",
      "A02_XY 0.599014701927\n",
      "A08_XY 0.638142250136\n",
      "A12_XY 0.60936488784\n",
      "A22_XY 0.634912154903\n",
      "AF_XY 0.561220639956\n",
      "A09_XX 1.05207642856\n",
      "A18_XX 1.01489534396\n",
      "A24_XX 1.0524285082\n",
      "A04_XY 0.615555306049\n",
      "A29_XY 0.647608319447\n",
      "A03_XX 1.02139327329\n",
      "A23_XY 0.649610815989\n",
      "A20_XY 0.643119738594\n",
      "A10_XY 0.611357813512\n",
      "A05_XY 0.615510264431\n",
      "A13_XX 1.03808041894\n",
      "A21_XX 1.09886327023\n",
      "A06_XY 0.623665367253\n",
      "A17_XX 1.09087318167\n",
      "A27_XX 0.992283801543\n",
      "A07_XY 0.630733845465\n",
      "A11_XX 1.01094267056\n",
      "A16_XY 0.633225593506\n",
      "A15_XY 0.614276088766\n"
     ]
    }
   ],
   "source": [
    "for sample in sample_cov_dict:\n",
    "    X_vs_auto = np.mean(sample_cov_dict_2[sample][\"X\"])/np.mean(sample_cov_dict_2[sample][\"auto\"])\n",
    "    \n",
    "    print sample, X_vs_auto"
   ]
  }
 ],
 "metadata": {
  "kernelspec": {
   "display_name": "Python [conda env:anaconda2]",
   "language": "python",
   "name": "conda-env-anaconda2-py"
  },
  "language_info": {
   "codemirror_mode": {
    "name": "ipython",
    "version": 2
   },
   "file_extension": ".py",
   "mimetype": "text/x-python",
   "name": "python",
   "nbconvert_exporter": "python",
   "pygments_lexer": "ipython2",
   "version": "2.7.12"
  }
 },
 "nbformat": 4,
 "nbformat_minor": 1
}
