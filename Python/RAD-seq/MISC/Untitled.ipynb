{
 "cells": [
  {
   "cell_type": "markdown",
   "metadata": {},
   "source": [
    "### Splitting the genome into chunks for Dgenies"
   ]
  },
  {
   "cell_type": "code",
   "execution_count": 11,
   "metadata": {},
   "outputs": [],
   "source": [
    "pwd\n"
   ]
  },
  {
   "cell_type": "markdown",
   "metadata": {},
   "source": [
    "#### For R. temp"
   ]
  },
  {
   "cell_type": "code",
   "execution_count": 15,
   "metadata": {},
   "outputs": [],
   "source": [
    "wd = \"/home/djeffrie/Data/Genomes/Rtemp_hybrid/Genome/Split/\"\n",
    "\n",
    "genome = SeqIO.parse(gzip.open(\"/home/djeffrie/Data/Genomes/Rtemp_hybrid/Genome/Rtemp_anchored_all_scaffolds.fasta.gz\", 'r'), 'fasta')\n",
    "\n",
    "misc_seqs = gzip.open(\"/home/djeffrie/Data/Genomes/Rtemp_hybrid/Genome/Split/Unanchored.fasta.gz\", 'w')\n",
    "\n",
    "for sequence in genome:\n",
    "    if \"chr\" in sequence.id:\n",
    "        file_name = \"%s.fasta.gz\" % sequence.id\n",
    "        out_file_handle = gzip.open(\"%s/%s\" % (wd, file_name), 'w')        \n",
    "        SeqIO.write(sequence, out_file_handle, 'fasta')\n",
    "        out_file_handle.close()\n",
    "        \n",
    "    else:\n",
    "         SeqIO.write(sequence, misc_seqs, 'fasta')\n",
    "misc_seqs.close()"
   ]
  },
  {
   "cell_type": "markdown",
   "metadata": {},
   "source": [
    "#### For Xen"
   ]
  },
  {
   "cell_type": "code",
   "execution_count": 14,
   "metadata": {},
   "outputs": [],
   "source": [
    "wd = \"/home/djeffrie/Data/Genomes/Xen/\"\n",
    "\n",
    "genome = SeqIO.parse(gzip.open(\"/home/djeffrie/Data/Genomes/Xen/Xtropicalis.v9.repeatMasked.fa.gz\", 'r'), 'fasta')\n",
    "\n",
    "misc_seqs = gzip.open(\"/home/djeffrie/Data/Genomes/Xen/Split/Unanchored.fasta.gz\", 'w')\n",
    "\n",
    "for sequence in genome:\n",
    "    if \"Chr\" in sequence.id:\n",
    "        file_name = \"%s.fasta.gz\" % sequence.id\n",
    "        out_file_handle = gzip.open(\"%s/%s\" % (wd, file_name), 'w')        \n",
    "        SeqIO.write(sequence, out_file_handle, 'fasta')\n",
    "        out_file_handle.close()\n",
    "        \n",
    "    else:\n",
    "         SeqIO.write(sequence, misc_seqs, 'fasta')\n",
    "misc_seqs.close()"
   ]
  }
 ],
 "metadata": {
  "kernelspec": {
   "display_name": "Python 2",
   "language": "python",
   "name": "python2"
  },
  "language_info": {
   "codemirror_mode": {
    "name": "ipython",
    "version": 2
   },
   "file_extension": ".py",
   "mimetype": "text/x-python",
   "name": "python",
   "nbconvert_exporter": "python",
   "pygments_lexer": "ipython2",
   "version": "2.7.14"
  }
 },
 "nbformat": 4,
 "nbformat_minor": 2
}
