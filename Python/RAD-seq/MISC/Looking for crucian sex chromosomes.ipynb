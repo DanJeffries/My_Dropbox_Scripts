{
 "cells": [
  {
   "cell_type": "code",
   "execution_count": 2,
   "metadata": {
    "collapsed": true
   },
   "outputs": [],
   "source": [
    "import MISC_RAD_tools as MISC"
   ]
  },
  {
   "cell_type": "code",
   "execution_count": 3,
   "metadata": {
    "collapsed": true
   },
   "outputs": [],
   "source": [
    "wd = \"/media/djeffrie/OS/Users/djeffrie/Data/Crucian_carp/Crucian_sex_chroms/\""
   ]
  },
  {
   "cell_type": "code",
   "execution_count": 8,
   "metadata": {
    "collapsed": true
   },
   "outputs": [],
   "source": [
    "Parameter_dict = {}\n",
    "\n",
    "##### Data ########################\n",
    "\n",
    "Parameter_dict['Catalog'] =  \"%s/batch_1.catalog.tags.tsv.gz\" % wd ## Path to the catalog file - used by all approaches.\n",
    "Parameter_dict['VCF'] =  \"%s/batch_1.vcf\" % wd  ## path to vcf file (note this will be altered to make header compatible with Pyvcf. New vcf will have same name with \".altered\" appended to the end). Used by Approach i) and ii)\n",
    "Parameter_dict['Pop_map'] = \"%s/Sex_ID_info.txt\" % wd ## path to population map file containing sex information. Same format as Stacks pop map file. Used by all approaches.\n",
    "\n",
    "###### threshold parameters #######\n",
    "\n",
    "# 1. Frequency approach\n",
    "Parameter_dict['X_or_Z_freq_threshold'] = 0.4  ## (Default = 0.4) The lower threshold for the freq caluclation to find sex linked snps, e.g. for an XY system, a threshold of 0.4 means that f(F) - f(M) can be >= 0.4 and <= 0.6 (the upper threshold is automatically calculated to be the same distance above 0.5 as the lower threshold is below 0.5) \n",
    "Parameter_dict['sample_presence_cutoff1'] = 0.75 ## (Default = 0.75) a locus must be called in at least this proportion of all samples (not within populations) to be considered\n",
    "Parameter_dict['coverage_threshold1'] = 3 ## (Default = 3) a locus must have at least this threshold in a sample to be considered for that sample. Note that loci below this threshold will be removed from a sample, and this can push the locus below the sample presence cut-off, which will then remove the locus.\n",
    "Parameter_dict['maf_threshold1'] =  0.05 ## (Default = 0.05) minor allele frequency cutoff for a locus across all samples. \n",
    "\n",
    "# 2. Heterozygosity approach\n",
    "Parameter_dict['homogamtic_homozygosity_threshold'] = 0.9 ## (Default = 0.9) The minimum number of the homogametic sex which must not have the tag for that tag to be considered linked to the sex-limited chromosome\n",
    "Parameter_dict['heterogamtic_heterozygosity_threshold'] = 0.5 ## (Default = 0.5) The lower threshold for the proportion of heterozygotes in the heterogametic sex at a locus \n",
    "Parameter_dict['sample_presence_cutoff2'] = 0.75 ## (Default = 0.75) a locus must be called in at least this proportion of all samples (not within populations) to be considered\n",
    "Parameter_dict['coverage_threshold2'] = 3 ## (Default = 3) a locus must have at least this threshold in a sample to be considered for that sample. Note that loci bels this threshold will be removed from a sample, and this can push the locus below the sample presence cut-off, which will then remove the locus.\n",
    "Parameter_dict['maf_threshold2'] = 0.05 ## (Default = 0.05) minor allele frequency cutoff for a locus across all samples. \n",
    "\n",
    "# 3. Sex specific presence or absence approach\n",
    "Parameter_dict['sex_presence_threshold'] =  0.5 ## (Default = 0.5) The minimum percenatage of the heterogametic sex that a tag must be present in.\n"
   ]
  },
  {
   "cell_type": "code",
   "execution_count": 9,
   "metadata": {
    "collapsed": false
   },
   "outputs": [
    {
     "name": "stdout",
     "output_type": "stream",
     "text": [
      "\n",
      "##### Using Sex specific tag approach ##### \n",
      "\n",
      "\n",
      "SUMMARY:\n",
      "Number of males: 22\n",
      "Number of males: 16\n",
      "Number of Putative Y linked tags: 2\n",
      "Number of Putative W linked tags: 0\n",
      "\n",
      " ### DONE! ###\n",
      "\n",
      "\n",
      " ## After merging tags accross methods ## \n",
      "\n",
      "Final number of XY tags = 2\n",
      "Final number of ZW tags = 0\n",
      "Sex linked tags outputted to fastas 'Putative_XYlinked_makers.fa' and Putative_ZWlinked_makers.fa\n",
      "in the directory /media/djeffrie/OS/Users/djeffrie/Data/Crucian_carp/Crucian_sex_chroms/\n"
     ]
    }
   ],
   "source": [
    "XYset, ZWset = MISC.Super_SLM_finder(Parameter_dict, \"001\")"
   ]
  }
 ],
 "metadata": {
  "kernelspec": {
   "display_name": "Python 2",
   "language": "python",
   "name": "python2"
  },
  "language_info": {
   "codemirror_mode": {
    "name": "ipython",
    "version": 2
   },
   "file_extension": ".py",
   "mimetype": "text/x-python",
   "name": "python",
   "nbconvert_exporter": "python",
   "pygments_lexer": "ipython2",
   "version": "2.7.10"
  }
 },
 "nbformat": 4,
 "nbformat_minor": 0
}
