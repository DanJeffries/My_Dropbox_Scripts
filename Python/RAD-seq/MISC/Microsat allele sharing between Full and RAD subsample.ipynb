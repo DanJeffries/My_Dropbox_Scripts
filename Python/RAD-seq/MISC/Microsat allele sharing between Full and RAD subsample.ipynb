{
 "metadata": {
  "name": "",
  "signature": "sha256:a2dbe25a9b5fea0e7c5f9c9458f1480728c324ee6a9c110de4742eea8c854d98"
 },
 "nbformat": 3,
 "nbformat_minor": 0,
 "worksheets": [
  {
   "cells": [
    {
     "cell_type": "code",
     "collapsed": false,
     "input": [
      "shared_alleles = []\n",
      "non_shared_alleles = []\n",
      "\n",
      "M2 = open(\"/home/dan/Dropbox/PhD/Dan's PhD (Shared)/Data/Micro_RAD_comp/M2_allele_freqs.csv\", 'r') ## Rad samples only\n",
      "M3 = open(\"/home/dan/Dropbox/PhD/Dan's PhD (Shared)/Data/Micro_RAD_comp/M3_allele_freqs.csv\", 'r') ## All indivs in rad pops\n",
      "\n",
      "\n",
      "## first get a list of shared alleles\n",
      "\n",
      "M2_alleles = M2.readlines()[0]\n",
      "M3_alleles =M3.readlines()[0]\n",
      "\n",
      "print M2_alleles\n",
      "print M3_alleles\n",
      "print \"Number alleles in M2 = \",len(M2_alleles.split(','))\n",
      "print \"Number alleles in M3 = \",len(M3_alleles.split(','))\n",
      "\n",
      "\n",
      "for M2_allele in M2_alleles.split(','):\n",
      "    for M3_allele in M3_alleles.split(','):\n",
      "        if M2_allele in M3_allele:\n",
      "            shared_alleles.append(M2_allele.split('\"')[1])\n",
      "print \"shared alleles = \", len(shared_alleles)\n",
      "print shared_alleles\n",
      "\n",
      "    \n"
     ],
     "language": "python",
     "metadata": {},
     "outputs": [
      {
       "output_type": "stream",
       "stream": "stdout",
       "text": [
        "\"\",\"GF1.299\",\"GF17.182\",\"GF17.184\",\"GF29.191\",\"GF29.213\",\"GF29.215\",\"GF29.221\",\"GF29.223\",\"MFW2.161\",\"J7.202\",\"J7.214\",\"J7.216\",\"J7.220\",\"J7.222\",\"J7.224\",\"J7.228\",\"Ca07.122\",\"Ca07.124\",\"Ca07.128\",\"Ca07.136\",\"Ca07.138\",\"J58.119\",\"J58.129\",\"J58.131\",\"J58.133\",\"J58.135\",\"J58.137\",\"J58.139\",\"J58.141\",\"J58.143\",\"HJLY17.154\",\"HJLY17.156\",\"HJLY17.158\",\"HJLY17.160\",\"MFW7.166\",\"MFW7.170\",\"MFW7.174\",\"MFW7.178\",\"MFW7.180\",\"MFW7.186\",\"MFW7.188\",\"MFW7.190\",\"MFW7.194\",\"MFW7.196\",\"MFW7.198\",\"MFW7.200\",\"MFW7.202\",\"MFW7.206\",\"MFW7.208\",\"MFW7.212\",\"J20.191\",\"J20.193\",\"J20.195\",\"J20.197\",\"J20.199\",\"J20.205\",\"J20.207\",\"MFW17.235\",\"MFW17.239\",\"MFW17.241\",\"MFW17.243\",\"MFW17.245\",\"MFW17.247\",\"MFW17.249\",\"MFW17.251\",\"MFW17.253\",\"MFW17.255\",\"MFW17.257\",\"MFW17.261\",\"MFW17.269\",\"J69.217\",\"J69.221\",\"J69.223\",\"J69.227\",\"J69.229\",\"J69.231\",\"J69.235\",\"J69.239\",\"HJLY35.261\",\"HJLY35.283\",\"HJLY35.285\",\"HJLY35.287\",\"HJLY35.289\",\"HJLY35.291\",\"HJLY35.293\",\"HJLY35.299\",\"HJLY35.301\",\"HJLY35.303\",\"HJLY35.305\",\"HJLY35.307\"\n",
        "\n",
        "\"\",\"GF1.299\",\"GF17.182\",\"GF17.184\",\"GF29.191\",\"GF29.213\",\"GF29.215\",\"GF29.221\",\"GF29.223\",\"MFW2.161\",\"J7.202\",\"J7.214\",\"J7.216\",\"J7.220\",\"J7.222\",\"J7.224\",\"J7.228\",\"Ca07.122\",\"Ca07.124\",\"Ca07.128\",\"Ca07.130\",\"Ca07.132\",\"Ca07.136\",\"Ca07.138\",\"Ca07.224\",\"J58.119\",\"J58.125\",\"J58.129\",\"J58.131\",\"J58.133\",\"J58.135\",\"J58.137\",\"J58.139\",\"J58.141\",\"J58.142\",\"J58.143\",\"HJLY17.154\",\"HJLY17.156\",\"HJLY17.158\",\"HJLY17.160\",\"HJLY17.162\",\"MFW7.166\",\"MFW7.170\",\"MFW7.174\",\"MFW7.178\",\"MFW7.180\",\"MFW7.181\",\"MFW7.186\",\"MFW7.188\",\"MFW7.190\",\"MFW7.192\",\"MFW7.194\",\"MFW7.196\",\"MFW7.198\",\"MFW7.200\",\"MFW7.202\",\"MFW7.204\",\"MFW7.206\",\"MFW7.208\",\"MFW7.212\",\"J20.191\",\"J20.193\",\"J20.195\",\"J20.197\",\"J20.199\",\"J20.205\",\"J20.207\",\"MFW17.231\",\"MFW17.235\",\"MFW17.239\",\"MFW17.241\",\"MFW17.243\",\"MFW17.245\",\"MFW17.247\",\"MFW17.249\",\"MFW17.251\",\"MFW17.253\",\"MFW17.255\",\"MFW17.257\",\"MFW17.261\",\"MFW17.269\",\"J69.217\",\"J69.221\",\"J69.223\",\"J69.227\",\"J69.229\",\"J69.231\",\"J69.235\",\"J69.239\",\"HJLY35.261\",\"HJLY35.283\",\"HJLY35.285\",\"HJLY35.287\",\"HJLY35.289\",\"HJLY35.291\",\"HJLY35.293\",\"HJLY35.299\",\"HJLY35.301\",\"HJLY35.303\",\"HJLY35.305\",\"HJLY35.307\"\n",
        "\n",
        "Number alleles in M2 =  91\n",
        "Number alleles in M3 =  101\n",
        "shared alleles =  91\n",
        "['', 'GF1.299', 'GF17.182', 'GF17.184', 'GF29.191', 'GF29.213', 'GF29.215', 'GF29.221', 'GF29.223', 'MFW2.161', 'J7.202', 'J7.214', 'J7.216', 'J7.220', 'J7.222', 'J7.224', 'J7.228', 'Ca07.122', 'Ca07.124', 'Ca07.128', 'Ca07.136', 'Ca07.138', 'J58.119', 'J58.129', 'J58.131', 'J58.133', 'J58.135', 'J58.137', 'J58.139', 'J58.141', 'J58.143', 'HJLY17.154', 'HJLY17.156', 'HJLY17.158', 'HJLY17.160', 'MFW7.166', 'MFW7.170', 'MFW7.174', 'MFW7.178', 'MFW7.180', 'MFW7.186', 'MFW7.188', 'MFW7.190', 'MFW7.194', 'MFW7.196', 'MFW7.198', 'MFW7.200', 'MFW7.202', 'MFW7.206', 'MFW7.208', 'MFW7.212', 'J20.191', 'J20.193', 'J20.195', 'J20.197', 'J20.199', 'J20.205', 'J20.207', 'MFW17.235', 'MFW17.239', 'MFW17.241', 'MFW17.243', 'MFW17.245', 'MFW17.247', 'MFW17.249', 'MFW17.251', 'MFW17.253', 'MFW17.255', 'MFW17.257', 'MFW17.261', 'MFW17.269', 'J69.217', 'J69.221', 'J69.223', 'J69.227', 'J69.229', 'J69.231', 'J69.235', 'J69.239', 'HJLY35.261', 'HJLY35.283', 'HJLY35.285', 'HJLY35.287', 'HJLY35.289', 'HJLY35.291', 'HJLY35.293', 'HJLY35.299', 'HJLY35.301', 'HJLY35.303', 'HJLY35.305', 'HJLY35.307']\n"
       ]
      }
     ],
     "prompt_number": 39
    }
   ],
   "metadata": {}
  }
 ]
}