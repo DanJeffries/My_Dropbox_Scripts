{
 "cells": [
  {
   "cell_type": "markdown",
   "metadata": {},
   "source": [
    "## Making a Genome Diagram"
   ]
  },
  {
   "cell_type": "code",
   "execution_count": null,
   "metadata": {
    "collapsed": true
   },
   "outputs": [],
   "source": [
    "from Bio import SeqIO\n",
    "from Bio.Graphics import GenomeDiagram as GD\n"
   ]
  },
  {
   "cell_type": "code",
   "execution_count": 8,
   "metadata": {
    "collapsed": false
   },
   "outputs": [],
   "source": [
    "GBFH = open(\"/media/dan/34D5D1CE642D7E36/2013076_Hanfling_Bernd/GenomeDiagram/Common_carp_XUetal.gb\", 'r') ## this is a genbank file - for me this will be the ref genome\n",
    "\n",
    "diag = GD.Diagram('feature locations') ## make GD diagram object\n"
   ]
  },
  {
   "cell_type": "code",
   "execution_count": 9,
   "metadata": {
    "collapsed": false
   },
   "outputs": [
    {
     "ename": "ValueError",
     "evalue": "More than one record found in handle",
     "output_type": "error",
     "traceback": [
      "\u001b[1;31m---------------------------------------------------------------------------\u001b[0m",
      "\u001b[1;31mValueError\u001b[0m                                Traceback (most recent call last)",
      "\u001b[1;32m<ipython-input-9-cd7db248e1c5>\u001b[0m in \u001b[0;36m<module>\u001b[1;34m()\u001b[0m\n\u001b[0;32m      1\u001b[0m \u001b[1;33m\u001b[0m\u001b[0m\n\u001b[1;32m----> 2\u001b[1;33m \u001b[0mref\u001b[0m \u001b[1;33m=\u001b[0m \u001b[0mSeqIO\u001b[0m\u001b[1;33m.\u001b[0m\u001b[0mread\u001b[0m\u001b[1;33m(\u001b[0m\u001b[0mGBFH\u001b[0m\u001b[1;33m,\u001b[0m \u001b[1;34m'gb'\u001b[0m\u001b[1;33m)\u001b[0m \u001b[1;31m# read the ref seq in\u001b[0m\u001b[1;33m\u001b[0m\u001b[0m\n\u001b[0m\u001b[0;32m      3\u001b[0m \u001b[1;33m\u001b[0m\u001b[0m\n\u001b[0;32m      4\u001b[0m \u001b[0mdiagtrack1\u001b[0m \u001b[1;33m=\u001b[0m \u001b[0mdiag\u001b[0m\u001b[1;33m.\u001b[0m\u001b[0mnew_track\u001b[0m\u001b[1;33m(\u001b[0m\u001b[1;36m1\u001b[0m\u001b[1;33m,\u001b[0m\u001b[0mgreytrack\u001b[0m\u001b[1;33m=\u001b[0m\u001b[1;36m1\u001b[0m\u001b[1;33m,\u001b[0m \u001b[0mheight\u001b[0m \u001b[1;33m=\u001b[0m \u001b[1;36m0.5\u001b[0m\u001b[1;33m,\u001b[0m \u001b[0mname\u001b[0m\u001b[1;33m=\u001b[0m\u001b[1;34m'locations'\u001b[0m\u001b[1;33m)\u001b[0m \u001b[1;31m## Make a track in the diagram - Note \"new_track\" is a method of the GD diagram object . .\u001b[0m\u001b[1;33m\u001b[0m\u001b[0m\n\u001b[0;32m      5\u001b[0m \u001b[1;33m\u001b[0m\u001b[0m\n",
      "\u001b[1;32m/usr/lib/python2.7/dist-packages/Bio/SeqIO/__init__.pyc\u001b[0m in \u001b[0;36mread\u001b[1;34m(handle, format, alphabet)\u001b[0m\n\u001b[0;32m    654\u001b[0m         \u001b[0msecond\u001b[0m \u001b[1;33m=\u001b[0m \u001b[0mNone\u001b[0m\u001b[1;33m\u001b[0m\u001b[0m\n\u001b[0;32m    655\u001b[0m     \u001b[1;32mif\u001b[0m \u001b[0msecond\u001b[0m \u001b[1;32mis\u001b[0m \u001b[1;32mnot\u001b[0m \u001b[0mNone\u001b[0m\u001b[1;33m:\u001b[0m\u001b[1;33m\u001b[0m\u001b[0m\n\u001b[1;32m--> 656\u001b[1;33m         \u001b[1;32mraise\u001b[0m \u001b[0mValueError\u001b[0m\u001b[1;33m(\u001b[0m\u001b[1;34m\"More than one record found in handle\"\u001b[0m\u001b[1;33m)\u001b[0m\u001b[1;33m\u001b[0m\u001b[0m\n\u001b[0m\u001b[0;32m    657\u001b[0m     \u001b[1;32mreturn\u001b[0m \u001b[0mfirst\u001b[0m\u001b[1;33m\u001b[0m\u001b[0m\n\u001b[0;32m    658\u001b[0m \u001b[1;33m\u001b[0m\u001b[0m\n",
      "\u001b[1;31mValueError\u001b[0m: More than one record found in handle"
     ]
    }
   ],
   "source": [
    "\n",
    "ref = SeqIO.read(GBFH, 'gb') # read the ref seq in\n",
    "\n",
    "diagtrack1 = diag.new_track(1,greytrack=1, height = 0.5, name='locations') ## Make a track in the diagram - Note \"new_track\" is a method of the GD diagram object . . \n",
    "\n",
    "CDS_track = diag.new_track(2, greytrack=2, height = 0.5, name='CDS genes')\n",
    "\n",
    "locations = diagtrack1.new_set('feature') ## make a \"feature set\" in that track - this holds the information for the feature I want to plot! - \"new_set\" is a method of the track object.\n",
    "CDS_locations = CDS_track.new_set('feature')\n",
    "\n",
    "depth_track = diag.new_track(3, greytrack=1, name = 'depth')\n",
    "\n",
    "depths = depth_track.new_set('graph')\n",
    "\n",
    "\n",
    "\n",
    "### Get depths as dictionary\n",
    "\n",
    "depth_dict = {}\n",
    "\n",
    "for i in range(1,44014):\n",
    "    depth_dict[i] = 0\n",
    "\n",
    "for line in open(\"/media/dan/34D5D1CE642D7E36/2013076_Hanfling_Bernd/BioPython_course/PfBD/GDexampleDepth.txt\", 'r').readlines():\n",
    "    pos = int(line.split()[1])\n",
    "    if pos in depth_dict:\n",
    "        depth_dict[pos]= int(line.split()[2])\n",
    "\n",
    "print depth_dict.items()[:50]\n",
    "\n",
    "depth_list = []\n",
    "\n",
    "for i in range(1,44014):\n",
    "    if i in depth_dict:\n",
    "        depth_list.append((i,depth_dict[i]))\n",
    "\n",
    "print depth_list[:50]\n",
    "\t\n",
    "depth_graph = depths.new_graph(depth_list,'depths', 'bar') #\"new_graph\" is a method of the set object.\n",
    "\n",
    "\n",
    "\n",
    "for feature in ref.features:\n",
    "\tlocations.add_feature(feature, sigil='ARROW')\n",
    "\tif feature.type == \"CDS\":\n",
    "\t\tCDS_locations.add_feature(feature, sigil = 'ARROW')\n",
    "\t\n",
    "\n",
    "diag.draw()\n",
    "diag.write('out.pdf', 'PDF')\n",
    "\n",
    "\n",
    "#ref = SeqIddO.read(GBFH, 'gb')\n",
    "\n",
    "#for feature in ref.features:\n",
    "#\tprint feature.location"
   ]
  }
 ],
 "metadata": {
  "kernelspec": {
   "display_name": "Python 2",
   "language": "python",
   "name": "python2"
  },
  "language_info": {
   "codemirror_mode": {
    "name": "ipython",
    "version": 2
   },
   "file_extension": ".py",
   "mimetype": "text/x-python",
   "name": "python",
   "nbconvert_exporter": "python",
   "pygments_lexer": "ipython2",
   "version": "2.7.6"
  }
 },
 "nbformat": 4,
 "nbformat_minor": 0
}
