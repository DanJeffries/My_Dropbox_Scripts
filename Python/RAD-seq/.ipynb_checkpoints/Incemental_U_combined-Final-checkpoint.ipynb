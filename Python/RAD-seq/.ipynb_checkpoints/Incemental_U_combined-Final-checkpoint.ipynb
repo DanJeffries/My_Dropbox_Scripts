{
 "metadata": {
  "name": "",
  "signature": "sha256:bd8806326e9720258b67e6e80e51e8d7c8a31094124f4e3a7eff879ddfedf938"
 },
 "nbformat": 3,
 "nbformat_minor": 0,
 "worksheets": [
  {
   "cells": [
    {
     "cell_type": "code",
     "collapsed": false,
     "input": [
      "!pwd"
     ],
     "language": "python",
     "metadata": {},
     "outputs": [
      {
       "output_type": "stream",
       "stream": "stdout",
       "text": [
        "/home/dan/Dropbox/PhD/Dan's PhD (Shared)/My_Dropbox_Scripts/Python/RAD-seq\r\n"
       ]
      }
     ],
     "prompt_number": 1
    },
    {
     "cell_type": "code",
     "collapsed": false,
     "input": [],
     "language": "python",
     "metadata": {},
     "outputs": []
    },
    {
     "cell_type": "code",
     "collapsed": false,
     "input": [
      "import os\n",
      "import subprocess"
     ],
     "language": "python",
     "metadata": {},
     "outputs": [],
     "prompt_number": 1
    },
    {
     "cell_type": "code",
     "collapsed": false,
     "input": [
      "import numpy as np ## Put the imports in here because, for some reason, have to import them each time a new kernel starts, or the plots are plotted over eachother\n",
      "import collections\n",
      "import pandas as pd\n",
      "import matplotlib.pyplot as plt\n",
      "import matplotlib.pylab as py\n",
      "import os\n",
      "import csv\n",
      "from collections import Counter\n",
      "import re"
     ],
     "language": "python",
     "metadata": {},
     "outputs": [],
     "prompt_number": 2
    },
    {
     "cell_type": "markdown",
     "metadata": {},
     "source": [
      "## Define helper functions"
     ]
    },
    {
     "cell_type": "markdown",
     "metadata": {},
     "source": [
      "## Define the bash file execution function"
     ]
    },
    {
     "cell_type": "code",
     "collapsed": false,
     "input": [
      "def execute(bash_file):\n",
      "    f = open(str(bash_file), 'r')\n",
      "    script = f.read()\n",
      "    subprocess.call(script, shell=True)\n",
      "    print script"
     ],
     "language": "python",
     "metadata": {},
     "outputs": [],
     "prompt_number": 7
    },
    {
     "cell_type": "code",
     "collapsed": false,
     "input": [
      "def replace_all(text,dic): ## this function takes the string to be searched and a dictionary of replacements\n",
      "    for i, j in dic.iteritems(): #iteritems needed when using dic entries - remember this\n",
      "        text = text.replace(i,j) ## for each dictionary entry, replace the \"key\" with the \"value\" in the text\n",
      "    return text"
     ],
     "language": "python",
     "metadata": {},
     "outputs": [],
     "prompt_number": 8
    },
    {
     "cell_type": "code",
     "collapsed": false,
     "input": [
      "## Define a cool little helper function for \"natural sorting\". (no idea how it works though!)\n",
      "def natural_key(string_): \n",
      "    return [int(s) if s.isdigit() else s for s in re.split(r'(\\d+)', string_)]"
     ],
     "language": "python",
     "metadata": {},
     "outputs": [],
     "prompt_number": 9
    },
    {
     "cell_type": "markdown",
     "metadata": {},
     "source": [
      "## Define the incrementation function"
     ]
    },
    {
     "cell_type": "code",
     "collapsed": false,
     "input": [
      "import numpy as np ## Put the imports in here because, for some reason, have to import them each time a new kernel starts, or the plots are plotted over eachother\n",
      "import collections\n",
      "import pandas as pd\n",
      "import matplotlib.pyplot as plt\n",
      "import matplotlib.pylab as py\n",
      "import os\n",
      "import csv\n",
      "from collections import Counter\n",
      "import re\n",
      "\n",
      "\n",
      "def IncreMental_U(param, start_value, stop_value, increment, parent_dir_path, file_format, threads):\n",
      "## parent_dir_path - the path to look for raw read .fastq files must have the trailing '/' in it.\n",
      "    \n",
      "    \n",
      "    ##lists and command templates \n",
      "    sample_names = [] \n",
      "    param_values = range(start_value, stop_value, increment)\n",
      "    \n",
      "    ID = 1 ## Assign a different ID to each individual with for a given param value\n",
      "    \n",
      "    for i in os.listdir(parent_dir_path):\n",
      "        if i.endswith(\".fq_1\") or i.endswith(\"1.fastq\"): \n",
      "            sample_names.append(i)\n",
      "    sample_names = sorted(sample_names) ## Important line - as Incremental_C sorts as well and assigns samples to lists on the basis of their IDs they must be sorted the same way here\n",
      "    \n",
      "    print \"samples present\", sample_names\n",
      "    print (\"Parameter values =\" + str(param_values))\n",
      "    \n",
      "   \n",
      "    for sample in sample_names: ## so for each sample ...\n",
      "\n",
      "    \n",
      "    ## if statement determines the parameter to increment\n",
      "\n",
      "        if param == 'M':\n",
      "            Mcommand_list = []\n",
      "            Mcommand_list_final = []\n",
      "            param_value_list = []\n",
      "            Mcommand = 'mkdir '+ parent_dir_path + str(sample[:-6])+ '/M_tests/M_x/; ustacks -t file_format -M x -m 6 -p threads -d -r -i '+str(ID)+' -f '+ parent_dir_path + 'input_file -o '+ parent_dir_path + str(sample[:-6])+ '/M_tests/M_x/ ;\\n'\n",
      "            for value in param_values:\n",
      "                param_value_list.append(str(value))\n",
      "\n",
      "            ## -N left as default(M+2)\n",
      "            ## -m kept at 6\n",
      "            ## These can be iterated by modifying the Mcommand or mcommand, likewise -d and -r can be removed if needed\n",
      "        \n",
      "            ## for each parameter value, replace the 'x' with the value and add it to the list for the bash script\n",
      "            for value in param_value_list:\n",
      "                Mcommand_list.append(Mcommand.replace(\"x\", value))\n",
      "\n",
      "            ## replacing the rest of the script template with useful values:\n",
      "            ## define a dictionary of replacements - the keys are the strings to be replaced, the values are the replacements\n",
      "            reps = {\"file_format\":str(file_format), \"threads\":str(threads), \"input_file\": str(sample)}\n",
      "        \n",
      "            ## note that the values have to be strings for .replace to be able to use them, so str() must be used here\n",
      "        \n",
      "            ## use the replace all function to replace the template strings with usefer given values or strings \n",
      "            for Mcommand in Mcommand_list:\n",
      "                Mcommand_list_final.append(replace_all(Mcommand, reps))\n",
      "            \n",
      "            f = open(str(parent_dir_path + sample[:-6]+\"_Ustacks_M_commands.sh\"), 'w') ## .. make a bash script file in the current ipython directory...\n",
      "            f.write(\"#!/bin/bash\\n\\nmkdir \"+ parent_dir_path + sample[:-6]+\"\\nmkdir \"+parent_dir_path +sample[:-6]+\"/M_tests/\\n\") ## .. append a few lines for directory management...\n",
      "            \n",
      "            for command in Mcommand_list_final:\n",
      "                f.write(command)\n",
      "            f.close()\n",
      "            \n",
      "            ID += 1 \n",
      "            execute(str(parent_dir_path + sample[:-6]+\"_Ustacks_M_commands.sh\")) ## Finally, excecute the file\n",
      "            \n",
      "            \n",
      "    \n",
      "        elif param == \"m\":\n",
      "            mcommand_list = []\n",
      "            mcommand_list_final = []\n",
      "            param_value_list = []\n",
      "            mcommand = 'mkdir '+ parent_dir_path + str(sample[:-6])+ '/m_tests/m_x/; ustacks -t file_format -M 3 -m x -p threads -d -r -i '+str(ID)+' -f '+ parent_dir_path + 'input_file -o '+ parent_dir_path + str(sample[:-6])+ '/m_tests/m_x/ ;\\n'\n",
      "            for value in param_values:\n",
      "                param_value_list.append(str(value))\n",
      "     \n",
      "            for value in param_value_list:\n",
      "                mcommand_list.append(mcommand.replace(\"x\", value))\n",
      "\n",
      "            ## define a dictionary of replacements - the keys are the strings to be replaced, the values are the replacements\n",
      "            reps = {\"file_format\":str(file_format), \"threads\":str(threads), \"input_file\": str(sample)}\n",
      "            ## note that the values have to be strings for .replace to be able to use them, so str() is used here\n",
      "\n",
      "            for mcommand in mcommand_list:\n",
      "                mcommand_list_final.append(replace_all(mcommand, reps))\n",
      "            \n",
      "            f = open(str(parent_dir_path + sample[:-6]+\"_Ustacks_m_commands.sh\"), 'w') ## .. make a bash script file in the current ipython directory...\n",
      "            f.write(\"#!/bin/bash\\n\\nmkdir \"+parent_dir_path + sample[:-6]+\"\\nmkdir \"+ parent_dir_path + sample[:-6]+\"/m_tests/\\n\") ## .. append a few lines for directory management...\n",
      "            \n",
      "            for command in mcommand_list_final:\n",
      "                f.write(command)\n",
      "            f.close()\n",
      "                \n",
      "\n",
      "            ID += 1 \n",
      "            execute(str(parent_dir_path +sample[:-6]+\"_Ustacks_m_commands.sh\")) ## Finally, excecute the file\n",
      "            \n",
      "    #### This works from any dir, whether you're using M or m #####\n",
      "            \n",
      "\n",
      "        \n",
      "    ## TAG COUNTER ##         \n",
      "    def Tag_counter(directory, parameter):\n",
      "        c = Counter()\n",
      "        sample_names = []\n",
      "        tag_data = []\n",
      "        names = []\n",
      "    \n",
      "\n",
      "    \n",
      "        ## Another cool function to count the length of a file\n",
      "    \n",
      "        def file_len(data):\n",
      "                for i, l in enumerate(data):\n",
      "                    pass\n",
      "                return i + 1\n",
      "    \n",
      "\n",
      "        ## get file names and paths\n",
      "        if parameter == 'm':\n",
      "            for root, dirs, files in os.walk(parent_dir_path):\n",
      "                for fil in files:\n",
      "                    if fil.endswith(\"tags.tsv\") and 'catalog' not in fil and root.split('/')[11].startswith('m'):\n",
      "                        print fil\n",
      "                        data_file = open(str(root+'/'+fil), 'r')\n",
      "                        tag_tally = 0\n",
      "                        for line in data_file.readlines():\n",
      "                            if 'consensus' in line:\n",
      "                                tag_tally +=1\n",
      "                        tag_data.append(str(root.split('/')[-1])+'/'+str(fil)+\"\\t\"+str(tag_tally)) ## works nicely just put this into a list with sample name and its nearly done\n",
      "                        print data_file\n",
      "            tag_data = sorted(tag_data, key = natural_key)\n",
      "            f = open(directory + \"m_tests_Tag_numbers.txt\", 'w')\n",
      "            for i in tag_data:\n",
      "                print i\n",
      "                f.write(i+\"\\n\")\n",
      "            f.close()\n",
      "\n",
      "    \n",
      "            ## get the sample names\n",
      "            for i in tag_data:\n",
      "                names.append(i.split('\\t')[0].split('/')[-1])\n",
      "            names = set(names)\n",
      "            print names    \n",
      "            ##plot the figures\n",
      "            fig = plt.figure()\n",
      "            plt.subplots_adjust(hspace = 0.5) ## adjust subplots\n",
      "            plot_number =1\n",
      "            for i in names:\n",
      "                tag_numbers = []\n",
      "                for item in tag_data:\n",
      "                    if i in item:\n",
      "                        tag_numbers.append(int(item.split('\\t')[1]))\n",
      "                print \"TAG COUNTER\\n\", i, tag_numbers\n",
      "                fig.add_subplot(np.round((len(names)/2)+1),2,plot_number)\n",
      "                plt.scatter(range(start_value, stop_value, increment),tag_numbers) ## Manually input the same parameter range used in incremental IncreMental here for the x axis labels.\n",
      "                plt.plot(range(start_value, stop_value, increment),tag_numbers)\n",
      "                plt.title(i+\" Change in number of tags with m incrementation\", fontsize = 5)\n",
      "                plt.xlabel(\"Ustacks m Value\", fontsize = 10)\n",
      "                plt.ylabel(\"Number of tags\", fontsize = 10)\n",
      "                plt.xticks(fontsize = 7)\n",
      "                plt.yticks(fontsize = 7)\n",
      "        \n",
      "                tag_numbers = []\n",
      "                plot_number+=1\n",
      "            plt.savefig(directory + \"m_tests_Tags_per_sample.pdf\")\n",
      "            plt.close('all')  \n",
      "            \n",
      "        elif parameter == 'M':\n",
      "            for root, dirs, files in os.walk(parent_dir_path):\n",
      "                for fil in files:\n",
      "                    if fil.endswith(\"tags.tsv\") and 'catalog' not in fil and root.split('/')[-1].startswith('M'):\n",
      "                        print fil\n",
      "                        data_file = open(str(root+'/'+fil), 'r')\n",
      "                        tag_tally = 0\n",
      "                        for line in data_file.readlines():\n",
      "                            if 'consensus' in line:\n",
      "                                tag_tally +=1\n",
      "                        tag_data.append(str(root.split('/')[-1])+'/'+str(fil)+\"\\t\"+str(tag_tally)) ## works nicely just put this into a list with sample name and its nearly done\n",
      "                        print data_file\n",
      "            tag_data = sorted(tag_data, key = natural_key)\n",
      "            f = open(directory + \"M_tests_Tag_numbers.txt\", 'w')\n",
      "            for i in tag_data:\n",
      "                print i\n",
      "                f.write(i+\"\\n\")\n",
      "            f.close()\n",
      "\n",
      "    \n",
      "            ## get the sample names\n",
      "            for i in tag_data:\n",
      "                names.append(i.split('\\t')[0].split('/')[-1])\n",
      "            names = set(names)\n",
      "            print names    \n",
      "            ##plot the figures\n",
      "            fig = plt.figure()\n",
      "            plt.subplots_adjust(hspace = 0.5) ## adjust subplots\n",
      "            plot_number =1\n",
      "            for i in names:\n",
      "                tag_numbers = []\n",
      "                for item in tag_data:\n",
      "                    if i in item:\n",
      "                        tag_numbers.append(int(item.split('\\t')[1]))\n",
      "                print \"TAG COUNTER\\n\", i, tag_numbers\n",
      "                fig.add_subplot(np.round((len(names)/2)+1),2,plot_number)\n",
      "                plt.scatter(range(start_value, stop_value, increment),tag_numbers) ## Manually input the same parameter range used in incremental IncreMental here for the x axis labels.\n",
      "                plt.plot(range(start_value, stop_value, increment),tag_numbers)\n",
      "                plt.title(i+\" Change in number of tags with M incrementation\", fontsize = 5)\n",
      "                plt.xlabel(\"Ustacks m Value\", fontsize = 10)\n",
      "                plt.ylabel(\"Number of tags\", fontsize = 10)\n",
      "                plt.xticks(fontsize = 7)\n",
      "                plt.yticks(fontsize = 7)\n",
      "        \n",
      "                tag_numbers = []\n",
      "                plot_number+=1\n",
      "            plt.savefig(directory + \"M_tests_Tags_per_sample.pdf\")\n",
      "            plt.close('all') \n",
      "            \n",
      "        \n",
      "    Tag_counter(parent_dir_path, param)\n",
      "    \n",
      "    ## COVERAGE COUNTER ##\n",
      "    \n",
      "    def coverage_counter(file_name):\n",
      "        csvcol3 = []\n",
      "        csvfile = open(file_name, 'rb')\n",
      "        csvread = csv.reader(csvfile, delimiter =\"\\t\") ## read csv in\n",
      "    \n",
      "        for line in csvread:\n",
      "            csvcol3.append(int(line[2])) ## add the 3 column of each line to a list\n",
      "        csvcol3 = [str(i) for i in csvcol3] ## convert this list of integers to strings\n",
      "    \n",
      "        coverage_count = collections.Counter()\n",
      "        for tagID in csvcol3:\n",
      "            coverage_count[tagID] += 1 ## count the number of times each tag ID occurs (i.e. the coverage)\n",
      "    \n",
      "        coverage_values = []\n",
      "        f = open(str(file_name[:-9]+\" Coverage data.txt\"), 'a') ## make a new txt file for coverage data\n",
      "    \n",
      "        for i,j in coverage_count.iteritems():\n",
      "            if len(str(j)) > 0:\n",
      "                coverage_values.append(j) ## append the coverage to a list\n",
      "                f.write(str(j) + '\\n') ## write the coverage data to the txt file\n",
      "    \n",
      "        plt.hist(coverage_values, bins = max(coverage_values),range = [0, 100])\n",
      "        plt.hist(coverage_values, bins = max(coverage_values),range = [0, 100])\n",
      "        plt.title(file_name[2:8]+file_name[27:33])\n",
      "        plt.xlabel(\"Coverage\")\n",
      "        plt.ylabel(\"Frequency\")\n",
      "        plt.text(60, 1200, \"Mean tag coverage =\"+ str(np.round(np.mean(coverage_values),2)))\n",
      "        plt.savefig(file_name.rpartition('/')[0]+\"/Coverage.pdf\")\n",
      "        plt.close()\n",
      "    \n",
      "        f.close()\n",
      "        print coverage_values[:10]\n",
      "        \n",
      "        ## COVERAGE COUNTER LOOPER ## \n",
      "        \n",
      "    def coverage_counter_looper(directory, parameter): ## make sure this is the right parent directory - i.e. contains the sample name folder created by increMental\n",
      "        tsvs = []\n",
      "        subdirs = []\n",
      "        cov_files = []\n",
      "        \n",
      "        ### BIG if statement - if the parameter is M or m\n",
      "    \n",
      "        if parameter == 'M':\n",
      "        \n",
      "        ## Make a list of the files, including their paths from the current directory\n",
      "        \n",
      "            for root, dirs, files in os.walk(str(directory)):\n",
      "                for fil in files:\n",
      "                    if fil.endswith(\".tags.tsv\") and 'catalog' not in fil and 'M_' in root:\n",
      "                        tsvs.append(str(str(root)+'/'+str(fil)))\n",
      "                        subdirs.append(str(str(root)+'/'+str(dirs)))\n",
      "                        print root, fil\n",
      "    \n",
      "            ## Execute coverage counter for all these files\n",
      "    \n",
      "            for tsv in tsvs:\n",
      "                coverage_counter(tsv)           \n",
      "    \n",
      "            ## make the multiplot\n",
      "            ## first get the coverage counter output files\n",
      "    \n",
      "            for root, dirs, files in os.walk(str(directory)):\n",
      "                for fil in files:\n",
      "                    if fil.endswith(\"data.txt\") and 'catalog' not in fil and 'M_' in root:  ## have changed this so hopefully it doesn't pick up increMental_C outputs\n",
      "                        cov_files.append(str(str(root)+'/'+str(fil)))\n",
      "            cov_files = sorted(cov_files, key = natural_key)\n",
      "            plot_number = 1\n",
      "\n",
      "            fig = plt.figure()\n",
      "            plt.subplots_adjust(hspace = 0.8)\n",
      "            data = []\n",
      "            for cov_file in cov_files:    \n",
      "                data_file = open(cov_file, 'r')\n",
      "                for i in data_file.readlines():\n",
      "                    if i > 0:\n",
      "                        data.append(int(i))    \n",
      "    \n",
      "                fig.add_subplot(np.round((len(cov_files)/3)+1),3,plot_number)\n",
      "                plt.hist(data, bins = 100,range = [0, 150])\n",
      "                plt.title(cov_file.split('/')[-1].partition('_')[0]+\" \"+ cov_file.split('/')[-2], fontsize = 5)\n",
      "                py.yticks(fontsize = 5)\n",
      "                py.xticks(fontsize = 5)\n",
      "                plt.xlabel(\"Coverage\", fontsize = 5)\n",
      "                plt.ylabel(\"Frequency\", fontsize = 5)\n",
      "                plt.text(60, 1200, \"Mean tag coverage =\"+ str(np.round(float(np.mean(data)),2)), fontsize = 5)\n",
      "    \n",
      "                plot_number += 1\n",
      "\n",
      "            plt.savefig(directory + 'M_tests_coverage_multiplot.pdf')    \n",
      "            plt.close('all')\n",
      "    \n",
      "    \n",
      "            print('number of coverage plots = '+ str(plot_number -1))\n",
      "    \n",
      "            ### Make the change-in average coverage plot\n",
      "    \n",
      "            sample_coverage = []\n",
      "            sample_names = []\n",
      "            cov_data = []\n",
      "            cov_values = []\n",
      "\n",
      "\n",
      "\n",
      "            ## get file names and paths\n",
      "\n",
      "            for root, dirs, files in os.walk(directory):\n",
      "                for fil in files:\n",
      "                    if fil.endswith(\"data.txt\") and 'M_' in root:\n",
      "                        data_file = open(str(root+'/'+fil), 'r')\n",
      "                        data = [int(i.lstrip('0')) for i in data_file.readlines()]\n",
      "                        sample_coverage.append(fil.partition('_')[0] + \"__\" + root.split('/')[3]+\"\\t\"+ str(np.round(np.mean(data),2)))\n",
      "\n",
      "            ## make a list of uniq sample names\n",
      "\n",
      "            for i in sample_coverage:\n",
      "                sample_names.append(i.split('\\t')[0].partition('_')[0])\n",
      "            sample_names = set(sample_names)\n",
      "            print \"sample names =\" \n",
      "            print sample_names\n",
      "\n",
      "            ## Use this list to separate the data according to the sample it comes from\n",
      "            ## And then plot the graphs in one file and save in parent directory\n",
      "    \n",
      "            fig = plt.figure() ## make fig\n",
      "            plt.subplots_adjust(hspace = 0.5) ## adjust subplots\n",
      "            plot_number =1\n",
      "            for name in sample_names: ## for each sample\n",
      "                for line in sample_coverage:\n",
      "                    if name in line:\n",
      "                        cov_data.append(line)\n",
      "                cov_data = sorted(cov_data, key = natural_key) ## sort \"naturally\"\n",
      "                for i in cov_data:\n",
      "                    cov_values.append(float(i.split()[1]))\n",
      "                print name\n",
      "                print cov_values\n",
      "    \n",
      "            ## And now plot the graphs as subplots in a main fig. Put in parent dir.   \n",
      "    \n",
      "                fig.add_subplot(np.round((len(sample_names)/2)+1),2,plot_number)\n",
      "                plt.scatter(range(start_value, stop_value, increment),cov_values) ## Manually input range from IncreMental here!\n",
      "                plt.plot(range(start_value, stop_value, increment),cov_values)\n",
      "                plt.title(name+\" coverage per tag with M incrementation\", fontsize = 10)\n",
      "                plt.xlabel(\"Ustacks Parameter Value\", fontsize = 10)\n",
      "                plt.ylabel(\"Coverage per tag\", fontsize = 10)\n",
      "                plt.xticks(fontsize = 7)\n",
      "                plt.yticks(fontsize = 7)\n",
      "    \n",
      "                cov_data = []\n",
      "                cov_values = []\n",
      "                plot_number+=1\n",
      "            plt.savefig(directory + \"M_tests_mean_coverage_multiplot.pdf\")\n",
      "            plt.close('all')\n",
      "        \n",
      "        elif parameter == 'm':\n",
      "        \n",
      "        ## Make a list of the files, including their paths from the current directory\n",
      "        \n",
      "            for root, dirs, files in os.walk(str(directory)):\n",
      "                for fil in files:\n",
      "                    if fil.endswith(\".tags.tsv\") and 'catalog' not in fil and 'm_' in root:\n",
      "                        tsvs.append(str(str(root)+'/'+str(fil)))\n",
      "                        print root, fil\n",
      "    \n",
      "            ## Execute coverage counter for all these files\n",
      "    \n",
      "            for tsv in tsvs:\n",
      "                coverage_counter(tsv)           \n",
      "    \n",
      "            ## make the multiplot\n",
      "            ## first get the coverage counter output files\n",
      "    \n",
      "            for root, dirs, files in os.walk(str(directory)):\n",
      "                for fil in files:\n",
      "                    if fil.endswith(\"data.txt\") and 'catalog' not in fil and 'm_' in root:  ## have changed this so hopefully it doesn't pick up increMental_C outputs\n",
      "                        cov_files.append(str(str(root)+'/'+str(fil)))\n",
      "            cov_files = sorted(cov_files, key = natural_key)          \n",
      "            plot_number = 1\n",
      "            \n",
      "            fig = plt.figure()\n",
      "            plt.subplots_adjust(hspace = 0.8)\n",
      "\n",
      "            for cov_file in cov_files:    \n",
      "                print cov_file\n",
      "                data_file = open(cov_file, 'r')\n",
      "                data = [int(i) for i in data_file.readlines()]\n",
      "\n",
      "                fig.add_subplot(np.round((len(cov_files)/3)+1),3,plot_number)\n",
      "                plt.hist(data, bins = 100,range = [0, 150])\n",
      "                plt.title(cov_file.split('/')[-1].partition('_')[0]+\" \"+ cov_file.split('/')[-3], fontsize = 5)\n",
      "                py.yticks(fontsize = 5)\n",
      "                py.xticks(fontsize = 5)\n",
      "                plt.xlabel(\"Coverage\", fontsize = 5)\n",
      "                plt.ylabel(\"Frequency\", fontsize = 5)\n",
      "                plt.text(60, 1200, \"Mean tag coverage =\"+ str(np.round(float(np.mean(data)),2)), fontsize = 5)\n",
      "    \n",
      "                plot_number += 1\n",
      "\n",
      "            plt.savefig(directory + 'm_tests_coverage_multiplot.pdf')    \n",
      "            plt.close('all')\n",
      "    \n",
      "    \n",
      "            print('number of coverage plots = '+ str(plot_number -1))\n",
      "    \n",
      "            ### Make the change-in average coverage plot\n",
      "    \n",
      "            sample_coverage = []\n",
      "            sample_names = []\n",
      "            cov_data = []\n",
      "            cov_values = []\n",
      "\n",
      "\n",
      "            ## get file names and paths\n",
      "\n",
      "            for root, dirs, files in os.walk(directory):\n",
      "                for fil in files:\n",
      "                    if fil.endswith(\"data.txt\") and 'm_' in root:\n",
      "                        data_file = open(str(root+'/'+fil), 'r')\n",
      "                        data = [int(i) for i in data_file.readlines()]\n",
      "                        sample_coverage.append(fil.partition('_')[0] + \"__\" + root.split('/')[3]+\"\\t\"+ str(np.round(np.mean(data),2)))\n",
      "\n",
      "            ## make a list of uniq sample names\n",
      "\n",
      "            for i in sample_coverage:\n",
      "                sample_names.append(i.split('\\t')[0].partition('_')[0])\n",
      "            sample_names = set(sample_names)\n",
      "            print \"sample names =\" \n",
      "            print sample_names\n",
      "\n",
      "            ## Use this list to separate the data according to the sample it comes from\n",
      "            ## And then plot the graphs in one file and save in parent directory\n",
      "    \n",
      "            fig = plt.figure() ## make fig\n",
      "            plt.subplots_adjust(hspace = 0.5) ## adjust subplots\n",
      "            plot_number =1\n",
      "            for name in sample_names: ## for each sample\n",
      "                for line in sample_coverage:\n",
      "                    if name in line:\n",
      "                        cov_data.append(line)\n",
      "                cov_data = sorted(cov_data, key = natural_key) ## sort \"naturally\"\n",
      "                for i in cov_data:\n",
      "                    cov_values.append(float(i.split()[1]))\n",
      "                print name\n",
      "                print cov_values\n",
      "    \n",
      "            ## And now plot the graphs as subplots in a main fig. Put in parent dir.   \n",
      "    \n",
      "                fig.add_subplot(np.round((len(sample_names)/2)+1),2,plot_number)\n",
      "                plt.scatter(range(start_value, stop_value, increment),cov_values) ## remember to change back to start_value, stop_value, increment\n",
      "                plt.plot(range(start_value, stop_value, increment),cov_values)\n",
      "                plt.title(name+\" coverage per tag with m incrementation\", fontsize = 10)\n",
      "                plt.xlabel(\"Ustacks Parameter Value\", fontsize = 10)\n",
      "                plt.ylabel(\"Coverage per tag\", fontsize = 10)\n",
      "                plt.xticks(fontsize = 7)\n",
      "                plt.yticks(fontsize = 7)\n",
      "    \n",
      "                cov_data = []\n",
      "                cov_values = []\n",
      "                plot_number+=1\n",
      "            plt.savefig(directory + \"m_tests_mean_coverage_multiplot.pdf\")\n",
      "            plt.close('all')\n",
      "   \n",
      "    coverage_counter_looper(parent_dir_path, param)"
     ],
     "language": "python",
     "metadata": {},
     "outputs": [],
     "prompt_number": 10
    },
    {
     "cell_type": "markdown",
     "metadata": {},
     "source": [
      "### To do:\n",
      "    - Make the if statements functionalised\n",
      "    - Put functionality for the max-stacks-per-locus in there"
     ]
    },
    {
     "cell_type": "code",
     "collapsed": false,
     "input": [
      "IncreMental_U('m', 0, 16, 2, '/media/dan/34D5D1CE642D7E36/2013076_Hanfling_Bernd/Stacks/Stacks_analyses_V3/Incremental_tests/Batch_1/cru_gold_hyb_2/', 'fastq', 8)\n",
      "\n",
      "\n",
      "#### THIS NOW WORKS #### "
     ],
     "language": "python",
     "metadata": {},
     "outputs": [
      {
       "output_type": "stream",
       "stream": "stdout",
       "text": [
        "samples present ['GF10_RD-P1-104_1.fil.fq_1', 'HOLT5_RD-P1-134_1.fil.fq_1', 'MOAT10_RD-P1-145_1.fil.fq_1']\n",
        "Parameter values =[0, 2, 4, 6, 8, 10, 12, 14]\n",
        "#!/bin/bash\n",
        "\n",
        "mkdir /media/dan/34D5D1CE642D7E36/2013076_Hanfling_Bernd/Stacks/Stacks_analyses_V3/Incremental_tests/Batch_1/cru_gold_hyb_2/GF10_RD-P1-104_1.fi\n",
        "mkdir /media/dan/34D5D1CE642D7E36/2013076_Hanfling_Bernd/Stacks/Stacks_analyses_V3/Incremental_tests/Batch_1/cru_gold_hyb_2/GF10_RD-P1-104_1.fi/m_tests/\n",
        "mkdir /media/dan/34D5D1CE642D7E36/2013076_Hanfling_Bernd/Stacks/Stacks_analyses_V3/Incremental_tests/Batch_1/cru_gold_hyb_2/GF10_RD-P1-104_1.fi/m_tests/m_0/; ustacks -t fastq -M 3 -m 0 -p 8 -d -r -i 1 -f /media/dan/34D5D1CE642D7E36/2013076_Hanfling_Bernd/Stacks/Stacks_analyses_V3/Incremental_tests/Batch_1/cru_gold_hyb_2/GF10_RD-P1-104_1.fil.fq_1 -o /media/dan/34D5D1CE642D7E36/2013076_Hanfling_Bernd/Stacks/Stacks_analyses_V3/Incremental_tests/Batch_1/cru_gold_hyb_2/GF10_RD-P1-104_1.fi/m_tests/m_0/ ;\n",
        "mkdir /media/dan/34D5D1CE642D7E36/2013076_Hanfling_Bernd/Stacks/Stacks_analyses_V3/Incremental_tests/Batch_1/cru_gold_hyb_2/GF10_RD-P1-104_1.fi/m_tests/m_2/; ustacks -t fastq -M 3 -m 2 -p 8 -d -r -i 1 -f /media/dan/34D5D1CE642D7E36/2013076_Hanfling_Bernd/Stacks/Stacks_analyses_V3/Incremental_tests/Batch_1/cru_gold_hyb_2/GF10_RD-P1-104_1.fil.fq_1 -o /media/dan/34D5D1CE642D7E36/2013076_Hanfling_Bernd/Stacks/Stacks_analyses_V3/Incremental_tests/Batch_1/cru_gold_hyb_2/GF10_RD-P1-104_1.fi/m_tests/m_2/ ;\n",
        "mkdir /media/dan/34D5D1CE642D7E36/2013076_Hanfling_Bernd/Stacks/Stacks_analyses_V3/Incremental_tests/Batch_1/cru_gold_hyb_2/GF10_RD-P1-104_1.fi/m_tests/m_4/; ustacks -t fastq -M 3 -m 4 -p 8 -d -r -i 1 -f /media/dan/34D5D1CE642D7E36/2013076_Hanfling_Bernd/Stacks/Stacks_analyses_V3/Incremental_tests/Batch_1/cru_gold_hyb_2/GF10_RD-P1-104_1.fil.fq_1 -o /media/dan/34D5D1CE642D7E36/2013076_Hanfling_Bernd/Stacks/Stacks_analyses_V3/Incremental_tests/Batch_1/cru_gold_hyb_2/GF10_RD-P1-104_1.fi/m_tests/m_4/ ;\n",
        "mkdir /media/dan/34D5D1CE642D7E36/2013076_Hanfling_Bernd/Stacks/Stacks_analyses_V3/Incremental_tests/Batch_1/cru_gold_hyb_2/GF10_RD-P1-104_1.fi/m_tests/m_6/; ustacks -t fastq -M 3 -m 6 -p 8 -d -r -i 1 -f /media/dan/34D5D1CE642D7E36/2013076_Hanfling_Bernd/Stacks/Stacks_analyses_V3/Incremental_tests/Batch_1/cru_gold_hyb_2/GF10_RD-P1-104_1.fil.fq_1 -o /media/dan/34D5D1CE642D7E36/2013076_Hanfling_Bernd/Stacks/Stacks_analyses_V3/Incremental_tests/Batch_1/cru_gold_hyb_2/GF10_RD-P1-104_1.fi/m_tests/m_6/ ;\n",
        "mkdir /media/dan/34D5D1CE642D7E36/2013076_Hanfling_Bernd/Stacks/Stacks_analyses_V3/Incremental_tests/Batch_1/cru_gold_hyb_2/GF10_RD-P1-104_1.fi/m_tests/m_8/; ustacks -t fastq -M 3 -m 8 -p 8 -d -r -i 1 -f /media/dan/34D5D1CE642D7E36/2013076_Hanfling_Bernd/Stacks/Stacks_analyses_V3/Incremental_tests/Batch_1/cru_gold_hyb_2/GF10_RD-P1-104_1.fil.fq_1 -o /media/dan/34D5D1CE642D7E36/2013076_Hanfling_Bernd/Stacks/Stacks_analyses_V3/Incremental_tests/Batch_1/cru_gold_hyb_2/GF10_RD-P1-104_1.fi/m_tests/m_8/ ;\n",
        "mkdir /media/dan/34D5D1CE642D7E36/2013076_Hanfling_Bernd/Stacks/Stacks_analyses_V3/Incremental_tests/Batch_1/cru_gold_hyb_2/GF10_RD-P1-104_1.fi/m_tests/m_10/; ustacks -t fastq -M 3 -m 10 -p 8 -d -r -i 1 -f /media/dan/34D5D1CE642D7E36/2013076_Hanfling_Bernd/Stacks/Stacks_analyses_V3/Incremental_tests/Batch_1/cru_gold_hyb_2/GF10_RD-P1-104_1.fil.fq_1 -o /media/dan/34D5D1CE642D7E36/2013076_Hanfling_Bernd/Stacks/Stacks_analyses_V3/Incremental_tests/Batch_1/cru_gold_hyb_2/GF10_RD-P1-104_1.fi/m_tests/m_10/ ;\n",
        "mkdir /media/dan/34D5D1CE642D7E36/2013076_Hanfling_Bernd/Stacks/Stacks_analyses_V3/Incremental_tests/Batch_1/cru_gold_hyb_2/GF10_RD-P1-104_1.fi/m_tests/m_12/; ustacks -t fastq -M 3 -m 12 -p 8 -d -r -i 1 -f /media/dan/34D5D1CE642D7E36/2013076_Hanfling_Bernd/Stacks/Stacks_analyses_V3/Incremental_tests/Batch_1/cru_gold_hyb_2/GF10_RD-P1-104_1.fil.fq_1 -o /media/dan/34D5D1CE642D7E36/2013076_Hanfling_Bernd/Stacks/Stacks_analyses_V3/Incremental_tests/Batch_1/cru_gold_hyb_2/GF10_RD-P1-104_1.fi/m_tests/m_12/ ;\n",
        "mkdir /media/dan/34D5D1CE642D7E36/2013076_Hanfling_Bernd/Stacks/Stacks_analyses_V3/Incremental_tests/Batch_1/cru_gold_hyb_2/GF10_RD-P1-104_1.fi/m_tests/m_14/; ustacks -t fastq -M 3 -m 14 -p 8 -d -r -i 1 -f /media/dan/34D5D1CE642D7E36/2013076_Hanfling_Bernd/Stacks/Stacks_analyses_V3/Incremental_tests/Batch_1/cru_gold_hyb_2/GF10_RD-P1-104_1.fil.fq_1 -o /media/dan/34D5D1CE642D7E36/2013076_Hanfling_Bernd/Stacks/Stacks_analyses_V3/Incremental_tests/Batch_1/cru_gold_hyb_2/GF10_RD-P1-104_1.fi/m_tests/m_14/ ;\n"
       ]
      },
      {
       "output_type": "stream",
       "stream": "stdout",
       "text": [
        "\n",
        "#!/bin/bash\n",
        "\n",
        "mkdir /media/dan/34D5D1CE642D7E36/2013076_Hanfling_Bernd/Stacks/Stacks_analyses_V3/Incremental_tests/Batch_1/cru_gold_hyb_2/HOLT5_RD-P1-134_1.fi\n",
        "mkdir /media/dan/34D5D1CE642D7E36/2013076_Hanfling_Bernd/Stacks/Stacks_analyses_V3/Incremental_tests/Batch_1/cru_gold_hyb_2/HOLT5_RD-P1-134_1.fi/m_tests/\n",
        "mkdir /media/dan/34D5D1CE642D7E36/2013076_Hanfling_Bernd/Stacks/Stacks_analyses_V3/Incremental_tests/Batch_1/cru_gold_hyb_2/HOLT5_RD-P1-134_1.fi/m_tests/m_0/; ustacks -t fastq -M 3 -m 0 -p 8 -d -r -i 2 -f /media/dan/34D5D1CE642D7E36/2013076_Hanfling_Bernd/Stacks/Stacks_analyses_V3/Incremental_tests/Batch_1/cru_gold_hyb_2/HOLT5_RD-P1-134_1.fil.fq_1 -o /media/dan/34D5D1CE642D7E36/2013076_Hanfling_Bernd/Stacks/Stacks_analyses_V3/Incremental_tests/Batch_1/cru_gold_hyb_2/HOLT5_RD-P1-134_1.fi/m_tests/m_0/ ;\n",
        "mkdir /media/dan/34D5D1CE642D7E36/2013076_Hanfling_Bernd/Stacks/Stacks_analyses_V3/Incremental_tests/Batch_1/cru_gold_hyb_2/HOLT5_RD-P1-134_1.fi/m_tests/m_2/; ustacks -t fastq -M 3 -m 2 -p 8 -d -r -i 2 -f /media/dan/34D5D1CE642D7E36/2013076_Hanfling_Bernd/Stacks/Stacks_analyses_V3/Incremental_tests/Batch_1/cru_gold_hyb_2/HOLT5_RD-P1-134_1.fil.fq_1 -o /media/dan/34D5D1CE642D7E36/2013076_Hanfling_Bernd/Stacks/Stacks_analyses_V3/Incremental_tests/Batch_1/cru_gold_hyb_2/HOLT5_RD-P1-134_1.fi/m_tests/m_2/ ;\n",
        "mkdir /media/dan/34D5D1CE642D7E36/2013076_Hanfling_Bernd/Stacks/Stacks_analyses_V3/Incremental_tests/Batch_1/cru_gold_hyb_2/HOLT5_RD-P1-134_1.fi/m_tests/m_4/; ustacks -t fastq -M 3 -m 4 -p 8 -d -r -i 2 -f /media/dan/34D5D1CE642D7E36/2013076_Hanfling_Bernd/Stacks/Stacks_analyses_V3/Incremental_tests/Batch_1/cru_gold_hyb_2/HOLT5_RD-P1-134_1.fil.fq_1 -o /media/dan/34D5D1CE642D7E36/2013076_Hanfling_Bernd/Stacks/Stacks_analyses_V3/Incremental_tests/Batch_1/cru_gold_hyb_2/HOLT5_RD-P1-134_1.fi/m_tests/m_4/ ;\n",
        "mkdir /media/dan/34D5D1CE642D7E36/2013076_Hanfling_Bernd/Stacks/Stacks_analyses_V3/Incremental_tests/Batch_1/cru_gold_hyb_2/HOLT5_RD-P1-134_1.fi/m_tests/m_6/; ustacks -t fastq -M 3 -m 6 -p 8 -d -r -i 2 -f /media/dan/34D5D1CE642D7E36/2013076_Hanfling_Bernd/Stacks/Stacks_analyses_V3/Incremental_tests/Batch_1/cru_gold_hyb_2/HOLT5_RD-P1-134_1.fil.fq_1 -o /media/dan/34D5D1CE642D7E36/2013076_Hanfling_Bernd/Stacks/Stacks_analyses_V3/Incremental_tests/Batch_1/cru_gold_hyb_2/HOLT5_RD-P1-134_1.fi/m_tests/m_6/ ;\n",
        "mkdir /media/dan/34D5D1CE642D7E36/2013076_Hanfling_Bernd/Stacks/Stacks_analyses_V3/Incremental_tests/Batch_1/cru_gold_hyb_2/HOLT5_RD-P1-134_1.fi/m_tests/m_8/; ustacks -t fastq -M 3 -m 8 -p 8 -d -r -i 2 -f /media/dan/34D5D1CE642D7E36/2013076_Hanfling_Bernd/Stacks/Stacks_analyses_V3/Incremental_tests/Batch_1/cru_gold_hyb_2/HOLT5_RD-P1-134_1.fil.fq_1 -o /media/dan/34D5D1CE642D7E36/2013076_Hanfling_Bernd/Stacks/Stacks_analyses_V3/Incremental_tests/Batch_1/cru_gold_hyb_2/HOLT5_RD-P1-134_1.fi/m_tests/m_8/ ;\n",
        "mkdir /media/dan/34D5D1CE642D7E36/2013076_Hanfling_Bernd/Stacks/Stacks_analyses_V3/Incremental_tests/Batch_1/cru_gold_hyb_2/HOLT5_RD-P1-134_1.fi/m_tests/m_10/; ustacks -t fastq -M 3 -m 10 -p 8 -d -r -i 2 -f /media/dan/34D5D1CE642D7E36/2013076_Hanfling_Bernd/Stacks/Stacks_analyses_V3/Incremental_tests/Batch_1/cru_gold_hyb_2/HOLT5_RD-P1-134_1.fil.fq_1 -o /media/dan/34D5D1CE642D7E36/2013076_Hanfling_Bernd/Stacks/Stacks_analyses_V3/Incremental_tests/Batch_1/cru_gold_hyb_2/HOLT5_RD-P1-134_1.fi/m_tests/m_10/ ;\n",
        "mkdir /media/dan/34D5D1CE642D7E36/2013076_Hanfling_Bernd/Stacks/Stacks_analyses_V3/Incremental_tests/Batch_1/cru_gold_hyb_2/HOLT5_RD-P1-134_1.fi/m_tests/m_12/; ustacks -t fastq -M 3 -m 12 -p 8 -d -r -i 2 -f /media/dan/34D5D1CE642D7E36/2013076_Hanfling_Bernd/Stacks/Stacks_analyses_V3/Incremental_tests/Batch_1/cru_gold_hyb_2/HOLT5_RD-P1-134_1.fil.fq_1 -o /media/dan/34D5D1CE642D7E36/2013076_Hanfling_Bernd/Stacks/Stacks_analyses_V3/Incremental_tests/Batch_1/cru_gold_hyb_2/HOLT5_RD-P1-134_1.fi/m_tests/m_12/ ;\n",
        "mkdir /media/dan/34D5D1CE642D7E36/2013076_Hanfling_Bernd/Stacks/Stacks_analyses_V3/Incremental_tests/Batch_1/cru_gold_hyb_2/HOLT5_RD-P1-134_1.fi/m_tests/m_14/; ustacks -t fastq -M 3 -m 14 -p 8 -d -r -i 2 -f /media/dan/34D5D1CE642D7E36/2013076_Hanfling_Bernd/Stacks/Stacks_analyses_V3/Incremental_tests/Batch_1/cru_gold_hyb_2/HOLT5_RD-P1-134_1.fil.fq_1 -o /media/dan/34D5D1CE642D7E36/2013076_Hanfling_Bernd/Stacks/Stacks_analyses_V3/Incremental_tests/Batch_1/cru_gold_hyb_2/HOLT5_RD-P1-134_1.fi/m_tests/m_14/ ;\n"
       ]
      },
      {
       "output_type": "stream",
       "stream": "stdout",
       "text": [
        "\n",
        "#!/bin/bash\n",
        "\n",
        "mkdir /media/dan/34D5D1CE642D7E36/2013076_Hanfling_Bernd/Stacks/Stacks_analyses_V3/Incremental_tests/Batch_1/cru_gold_hyb_2/MOAT10_RD-P1-145_1.fi\n",
        "mkdir /media/dan/34D5D1CE642D7E36/2013076_Hanfling_Bernd/Stacks/Stacks_analyses_V3/Incremental_tests/Batch_1/cru_gold_hyb_2/MOAT10_RD-P1-145_1.fi/m_tests/\n",
        "mkdir /media/dan/34D5D1CE642D7E36/2013076_Hanfling_Bernd/Stacks/Stacks_analyses_V3/Incremental_tests/Batch_1/cru_gold_hyb_2/MOAT10_RD-P1-145_1.fi/m_tests/m_0/; ustacks -t fastq -M 3 -m 0 -p 8 -d -r -i 3 -f /media/dan/34D5D1CE642D7E36/2013076_Hanfling_Bernd/Stacks/Stacks_analyses_V3/Incremental_tests/Batch_1/cru_gold_hyb_2/MOAT10_RD-P1-145_1.fil.fq_1 -o /media/dan/34D5D1CE642D7E36/2013076_Hanfling_Bernd/Stacks/Stacks_analyses_V3/Incremental_tests/Batch_1/cru_gold_hyb_2/MOAT10_RD-P1-145_1.fi/m_tests/m_0/ ;\n",
        "mkdir /media/dan/34D5D1CE642D7E36/2013076_Hanfling_Bernd/Stacks/Stacks_analyses_V3/Incremental_tests/Batch_1/cru_gold_hyb_2/MOAT10_RD-P1-145_1.fi/m_tests/m_2/; ustacks -t fastq -M 3 -m 2 -p 8 -d -r -i 3 -f /media/dan/34D5D1CE642D7E36/2013076_Hanfling_Bernd/Stacks/Stacks_analyses_V3/Incremental_tests/Batch_1/cru_gold_hyb_2/MOAT10_RD-P1-145_1.fil.fq_1 -o /media/dan/34D5D1CE642D7E36/2013076_Hanfling_Bernd/Stacks/Stacks_analyses_V3/Incremental_tests/Batch_1/cru_gold_hyb_2/MOAT10_RD-P1-145_1.fi/m_tests/m_2/ ;\n",
        "mkdir /media/dan/34D5D1CE642D7E36/2013076_Hanfling_Bernd/Stacks/Stacks_analyses_V3/Incremental_tests/Batch_1/cru_gold_hyb_2/MOAT10_RD-P1-145_1.fi/m_tests/m_4/; ustacks -t fastq -M 3 -m 4 -p 8 -d -r -i 3 -f /media/dan/34D5D1CE642D7E36/2013076_Hanfling_Bernd/Stacks/Stacks_analyses_V3/Incremental_tests/Batch_1/cru_gold_hyb_2/MOAT10_RD-P1-145_1.fil.fq_1 -o /media/dan/34D5D1CE642D7E36/2013076_Hanfling_Bernd/Stacks/Stacks_analyses_V3/Incremental_tests/Batch_1/cru_gold_hyb_2/MOAT10_RD-P1-145_1.fi/m_tests/m_4/ ;\n",
        "mkdir /media/dan/34D5D1CE642D7E36/2013076_Hanfling_Bernd/Stacks/Stacks_analyses_V3/Incremental_tests/Batch_1/cru_gold_hyb_2/MOAT10_RD-P1-145_1.fi/m_tests/m_6/; ustacks -t fastq -M 3 -m 6 -p 8 -d -r -i 3 -f /media/dan/34D5D1CE642D7E36/2013076_Hanfling_Bernd/Stacks/Stacks_analyses_V3/Incremental_tests/Batch_1/cru_gold_hyb_2/MOAT10_RD-P1-145_1.fil.fq_1 -o /media/dan/34D5D1CE642D7E36/2013076_Hanfling_Bernd/Stacks/Stacks_analyses_V3/Incremental_tests/Batch_1/cru_gold_hyb_2/MOAT10_RD-P1-145_1.fi/m_tests/m_6/ ;\n",
        "mkdir /media/dan/34D5D1CE642D7E36/2013076_Hanfling_Bernd/Stacks/Stacks_analyses_V3/Incremental_tests/Batch_1/cru_gold_hyb_2/MOAT10_RD-P1-145_1.fi/m_tests/m_8/; ustacks -t fastq -M 3 -m 8 -p 8 -d -r -i 3 -f /media/dan/34D5D1CE642D7E36/2013076_Hanfling_Bernd/Stacks/Stacks_analyses_V3/Incremental_tests/Batch_1/cru_gold_hyb_2/MOAT10_RD-P1-145_1.fil.fq_1 -o /media/dan/34D5D1CE642D7E36/2013076_Hanfling_Bernd/Stacks/Stacks_analyses_V3/Incremental_tests/Batch_1/cru_gold_hyb_2/MOAT10_RD-P1-145_1.fi/m_tests/m_8/ ;\n",
        "mkdir /media/dan/34D5D1CE642D7E36/2013076_Hanfling_Bernd/Stacks/Stacks_analyses_V3/Incremental_tests/Batch_1/cru_gold_hyb_2/MOAT10_RD-P1-145_1.fi/m_tests/m_10/; ustacks -t fastq -M 3 -m 10 -p 8 -d -r -i 3 -f /media/dan/34D5D1CE642D7E36/2013076_Hanfling_Bernd/Stacks/Stacks_analyses_V3/Incremental_tests/Batch_1/cru_gold_hyb_2/MOAT10_RD-P1-145_1.fil.fq_1 -o /media/dan/34D5D1CE642D7E36/2013076_Hanfling_Bernd/Stacks/Stacks_analyses_V3/Incremental_tests/Batch_1/cru_gold_hyb_2/MOAT10_RD-P1-145_1.fi/m_tests/m_10/ ;\n",
        "mkdir /media/dan/34D5D1CE642D7E36/2013076_Hanfling_Bernd/Stacks/Stacks_analyses_V3/Incremental_tests/Batch_1/cru_gold_hyb_2/MOAT10_RD-P1-145_1.fi/m_tests/m_12/; ustacks -t fastq -M 3 -m 12 -p 8 -d -r -i 3 -f /media/dan/34D5D1CE642D7E36/2013076_Hanfling_Bernd/Stacks/Stacks_analyses_V3/Incremental_tests/Batch_1/cru_gold_hyb_2/MOAT10_RD-P1-145_1.fil.fq_1 -o /media/dan/34D5D1CE642D7E36/2013076_Hanfling_Bernd/Stacks/Stacks_analyses_V3/Incremental_tests/Batch_1/cru_gold_hyb_2/MOAT10_RD-P1-145_1.fi/m_tests/m_12/ ;\n",
        "mkdir /media/dan/34D5D1CE642D7E36/2013076_Hanfling_Bernd/Stacks/Stacks_analyses_V3/Incremental_tests/Batch_1/cru_gold_hyb_2/MOAT10_RD-P1-145_1.fi/m_tests/m_14/; ustacks -t fastq -M 3 -m 14 -p 8 -d -r -i 3 -f /media/dan/34D5D1CE642D7E36/2013076_Hanfling_Bernd/Stacks/Stacks_analyses_V3/Incremental_tests/Batch_1/cru_gold_hyb_2/MOAT10_RD-P1-145_1.fil.fq_1 -o /media/dan/34D5D1CE642D7E36/2013076_Hanfling_Bernd/Stacks/Stacks_analyses_V3/Incremental_tests/Batch_1/cru_gold_hyb_2/MOAT10_RD-P1-145_1.fi/m_tests/m_14/ ;\n"
       ]
      },
      {
       "output_type": "stream",
       "stream": "stdout",
       "text": [
        "\n",
        "GF10_RD-P1-104_1.fil.tags.tsv\n",
        "<open file '/media/dan/34D5D1CE642D7E36/2013076_Hanfling_Bernd/Stacks/Stacks_analyses_V3/Incremental_tests/Batch_1/cru_gold_hyb_2/GF10_RD-P1-104_1.fi/m_tests/m_0/GF10_RD-P1-104_1.fil.tags.tsv', mode 'r' at 0x7f3eb3487a50>"
       ]
      },
      {
       "output_type": "stream",
       "stream": "stdout",
       "text": [
        "\n",
        "GF10_RD-P1-104_1.fil.tags.tsv\n",
        "<open file '/media/dan/34D5D1CE642D7E36/2013076_Hanfling_Bernd/Stacks/Stacks_analyses_V3/Incremental_tests/Batch_1/cru_gold_hyb_2/GF10_RD-P1-104_1.fi/m_tests/m_10/GF10_RD-P1-104_1.fil.tags.tsv', mode 'r' at 0x7f3eb3487ed0>"
       ]
      },
      {
       "output_type": "stream",
       "stream": "stdout",
       "text": [
        "\n",
        "GF10_RD-P1-104_1.fil.tags.tsv\n",
        "<open file '/media/dan/34D5D1CE642D7E36/2013076_Hanfling_Bernd/Stacks/Stacks_analyses_V3/Incremental_tests/Batch_1/cru_gold_hyb_2/GF10_RD-P1-104_1.fi/m_tests/m_12/GF10_RD-P1-104_1.fil.tags.tsv', mode 'r' at 0x7f3eb3487a50>"
       ]
      },
      {
       "output_type": "stream",
       "stream": "stdout",
       "text": [
        "\n",
        "GF10_RD-P1-104_1.fil.tags.tsv\n",
        "<open file '/media/dan/34D5D1CE642D7E36/2013076_Hanfling_Bernd/Stacks/Stacks_analyses_V3/Incremental_tests/Batch_1/cru_gold_hyb_2/GF10_RD-P1-104_1.fi/m_tests/m_14/GF10_RD-P1-104_1.fil.tags.tsv', mode 'r' at 0x7f3eb3487ed0>"
       ]
      },
      {
       "output_type": "stream",
       "stream": "stdout",
       "text": [
        "\n",
        "GF10_RD-P1-104_1.fil.tags.tsv\n",
        "<open file '/media/dan/34D5D1CE642D7E36/2013076_Hanfling_Bernd/Stacks/Stacks_analyses_V3/Incremental_tests/Batch_1/cru_gold_hyb_2/GF10_RD-P1-104_1.fi/m_tests/m_2/GF10_RD-P1-104_1.fil.tags.tsv', mode 'r' at 0x7f3eb3487a50>"
       ]
      },
      {
       "output_type": "stream",
       "stream": "stdout",
       "text": [
        "\n",
        "GF10_RD-P1-104_1.fil.tags.tsv\n",
        "<open file '/media/dan/34D5D1CE642D7E36/2013076_Hanfling_Bernd/Stacks/Stacks_analyses_V3/Incremental_tests/Batch_1/cru_gold_hyb_2/GF10_RD-P1-104_1.fi/m_tests/m_4/GF10_RD-P1-104_1.fil.tags.tsv', mode 'r' at 0x7f3eb3487ed0>"
       ]
      },
      {
       "output_type": "stream",
       "stream": "stdout",
       "text": [
        "\n",
        "GF10_RD-P1-104_1.fil.tags.tsv\n",
        "<open file '/media/dan/34D5D1CE642D7E36/2013076_Hanfling_Bernd/Stacks/Stacks_analyses_V3/Incremental_tests/Batch_1/cru_gold_hyb_2/GF10_RD-P1-104_1.fi/m_tests/m_6/GF10_RD-P1-104_1.fil.tags.tsv', mode 'r' at 0x7f3eb3487a50>"
       ]
      },
      {
       "output_type": "stream",
       "stream": "stdout",
       "text": [
        "\n",
        "GF10_RD-P1-104_1.fil.tags.tsv\n",
        "<open file '/media/dan/34D5D1CE642D7E36/2013076_Hanfling_Bernd/Stacks/Stacks_analyses_V3/Incremental_tests/Batch_1/cru_gold_hyb_2/GF10_RD-P1-104_1.fi/m_tests/m_8/GF10_RD-P1-104_1.fil.tags.tsv', mode 'r' at 0x7f3eb3487ed0>"
       ]
      },
      {
       "output_type": "stream",
       "stream": "stdout",
       "text": [
        "\n",
        "HOLT5_RD-P1-134_1.fil.tags.tsv\n",
        "<open file '/media/dan/34D5D1CE642D7E36/2013076_Hanfling_Bernd/Stacks/Stacks_analyses_V3/Incremental_tests/Batch_1/cru_gold_hyb_2/HOLT5_RD-P1-134_1.fi/m_tests/m_0/HOLT5_RD-P1-134_1.fil.tags.tsv', mode 'r' at 0x7f3eb3487a50>"
       ]
      },
      {
       "output_type": "stream",
       "stream": "stdout",
       "text": [
        "\n",
        "HOLT5_RD-P1-134_1.fil.tags.tsv\n",
        "<open file '/media/dan/34D5D1CE642D7E36/2013076_Hanfling_Bernd/Stacks/Stacks_analyses_V3/Incremental_tests/Batch_1/cru_gold_hyb_2/HOLT5_RD-P1-134_1.fi/m_tests/m_10/HOLT5_RD-P1-134_1.fil.tags.tsv', mode 'r' at 0x7f3eb3487ed0>"
       ]
      },
      {
       "output_type": "stream",
       "stream": "stdout",
       "text": [
        "\n",
        "HOLT5_RD-P1-134_1.fil.tags.tsv\n",
        "<open file '/media/dan/34D5D1CE642D7E36/2013076_Hanfling_Bernd/Stacks/Stacks_analyses_V3/Incremental_tests/Batch_1/cru_gold_hyb_2/HOLT5_RD-P1-134_1.fi/m_tests/m_12/HOLT5_RD-P1-134_1.fil.tags.tsv', mode 'r' at 0x7f3eb3487a50>"
       ]
      },
      {
       "output_type": "stream",
       "stream": "stdout",
       "text": [
        "\n",
        "HOLT5_RD-P1-134_1.fil.tags.tsv\n",
        "<open file '/media/dan/34D5D1CE642D7E36/2013076_Hanfling_Bernd/Stacks/Stacks_analyses_V3/Incremental_tests/Batch_1/cru_gold_hyb_2/HOLT5_RD-P1-134_1.fi/m_tests/m_14/HOLT5_RD-P1-134_1.fil.tags.tsv', mode 'r' at 0x7f3eb3487ed0>"
       ]
      },
      {
       "output_type": "stream",
       "stream": "stdout",
       "text": [
        "\n",
        "HOLT5_RD-P1-134_1.fil.tags.tsv\n",
        "<open file '/media/dan/34D5D1CE642D7E36/2013076_Hanfling_Bernd/Stacks/Stacks_analyses_V3/Incremental_tests/Batch_1/cru_gold_hyb_2/HOLT5_RD-P1-134_1.fi/m_tests/m_2/HOLT5_RD-P1-134_1.fil.tags.tsv', mode 'r' at 0x7f3eb3487a50>"
       ]
      },
      {
       "output_type": "stream",
       "stream": "stdout",
       "text": [
        "\n",
        "HOLT5_RD-P1-134_1.fil.tags.tsv\n",
        "<open file '/media/dan/34D5D1CE642D7E36/2013076_Hanfling_Bernd/Stacks/Stacks_analyses_V3/Incremental_tests/Batch_1/cru_gold_hyb_2/HOLT5_RD-P1-134_1.fi/m_tests/m_4/HOLT5_RD-P1-134_1.fil.tags.tsv', mode 'r' at 0x7f3eb3487ed0>"
       ]
      },
      {
       "output_type": "stream",
       "stream": "stdout",
       "text": [
        "\n",
        "HOLT5_RD-P1-134_1.fil.tags.tsv\n",
        "<open file '/media/dan/34D5D1CE642D7E36/2013076_Hanfling_Bernd/Stacks/Stacks_analyses_V3/Incremental_tests/Batch_1/cru_gold_hyb_2/HOLT5_RD-P1-134_1.fi/m_tests/m_6/HOLT5_RD-P1-134_1.fil.tags.tsv', mode 'r' at 0x7f3eb3487a50>"
       ]
      },
      {
       "output_type": "stream",
       "stream": "stdout",
       "text": [
        "\n",
        "HOLT5_RD-P1-134_1.fil.tags.tsv\n",
        "<open file '/media/dan/34D5D1CE642D7E36/2013076_Hanfling_Bernd/Stacks/Stacks_analyses_V3/Incremental_tests/Batch_1/cru_gold_hyb_2/HOLT5_RD-P1-134_1.fi/m_tests/m_8/HOLT5_RD-P1-134_1.fil.tags.tsv', mode 'r' at 0x7f3eb3487ed0>"
       ]
      },
      {
       "output_type": "stream",
       "stream": "stdout",
       "text": [
        "\n",
        "MOAT10_RD-P1-145_1.fil.tags.tsv\n",
        "<open file '/media/dan/34D5D1CE642D7E36/2013076_Hanfling_Bernd/Stacks/Stacks_analyses_V3/Incremental_tests/Batch_1/cru_gold_hyb_2/MOAT10_RD-P1-145_1.fi/m_tests/m_0/MOAT10_RD-P1-145_1.fil.tags.tsv', mode 'r' at 0x7f3eb3487a50>"
       ]
      },
      {
       "output_type": "stream",
       "stream": "stdout",
       "text": [
        "\n",
        "MOAT10_RD-P1-145_1.fil.tags.tsv\n",
        "<open file '/media/dan/34D5D1CE642D7E36/2013076_Hanfling_Bernd/Stacks/Stacks_analyses_V3/Incremental_tests/Batch_1/cru_gold_hyb_2/MOAT10_RD-P1-145_1.fi/m_tests/m_10/MOAT10_RD-P1-145_1.fil.tags.tsv', mode 'r' at 0x7f3eb3487ed0>"
       ]
      },
      {
       "output_type": "stream",
       "stream": "stdout",
       "text": [
        "\n",
        "MOAT10_RD-P1-145_1.fil.tags.tsv\n",
        "<open file '/media/dan/34D5D1CE642D7E36/2013076_Hanfling_Bernd/Stacks/Stacks_analyses_V3/Incremental_tests/Batch_1/cru_gold_hyb_2/MOAT10_RD-P1-145_1.fi/m_tests/m_12/MOAT10_RD-P1-145_1.fil.tags.tsv', mode 'r' at 0x7f3eb3487a50>"
       ]
      },
      {
       "output_type": "stream",
       "stream": "stdout",
       "text": [
        "\n",
        "MOAT10_RD-P1-145_1.fil.tags.tsv\n",
        "<open file '/media/dan/34D5D1CE642D7E36/2013076_Hanfling_Bernd/Stacks/Stacks_analyses_V3/Incremental_tests/Batch_1/cru_gold_hyb_2/MOAT10_RD-P1-145_1.fi/m_tests/m_14/MOAT10_RD-P1-145_1.fil.tags.tsv', mode 'r' at 0x7f3eb3487ed0>"
       ]
      },
      {
       "output_type": "stream",
       "stream": "stdout",
       "text": [
        "\n",
        "MOAT10_RD-P1-145_1.fil.tags.tsv\n",
        "<open file '/media/dan/34D5D1CE642D7E36/2013076_Hanfling_Bernd/Stacks/Stacks_analyses_V3/Incremental_tests/Batch_1/cru_gold_hyb_2/MOAT10_RD-P1-145_1.fi/m_tests/m_2/MOAT10_RD-P1-145_1.fil.tags.tsv', mode 'r' at 0x7f3eb3487a50>"
       ]
      },
      {
       "output_type": "stream",
       "stream": "stdout",
       "text": [
        "\n",
        "MOAT10_RD-P1-145_1.fil.tags.tsv\n",
        "<open file '/media/dan/34D5D1CE642D7E36/2013076_Hanfling_Bernd/Stacks/Stacks_analyses_V3/Incremental_tests/Batch_1/cru_gold_hyb_2/MOAT10_RD-P1-145_1.fi/m_tests/m_4/MOAT10_RD-P1-145_1.fil.tags.tsv', mode 'r' at 0x7f3eb3487ed0>"
       ]
      },
      {
       "output_type": "stream",
       "stream": "stdout",
       "text": [
        "\n",
        "MOAT10_RD-P1-145_1.fil.tags.tsv\n",
        "<open file '/media/dan/34D5D1CE642D7E36/2013076_Hanfling_Bernd/Stacks/Stacks_analyses_V3/Incremental_tests/Batch_1/cru_gold_hyb_2/MOAT10_RD-P1-145_1.fi/m_tests/m_6/MOAT10_RD-P1-145_1.fil.tags.tsv', mode 'r' at 0x7f3eb3487a50>"
       ]
      },
      {
       "output_type": "stream",
       "stream": "stdout",
       "text": [
        "\n",
        "MOAT10_RD-P1-145_1.fil.tags.tsv\n",
        "<open file '/media/dan/34D5D1CE642D7E36/2013076_Hanfling_Bernd/Stacks/Stacks_analyses_V3/Incremental_tests/Batch_1/cru_gold_hyb_2/MOAT10_RD-P1-145_1.fi/m_tests/m_8/MOAT10_RD-P1-145_1.fil.tags.tsv', mode 'r' at 0x7f3eb3487ed0>"
       ]
      },
      {
       "output_type": "stream",
       "stream": "stdout",
       "text": [
        "\n",
        "m_0/GF10_RD-P1-104_1.fil.tags.tsv\t131018\n",
        "m_0/HOLT5_RD-P1-134_1.fil.tags.tsv\t142210\n",
        "m_0/MOAT10_RD-P1-145_1.fil.tags.tsv\t129750\n",
        "m_2/GF10_RD-P1-104_1.fil.tags.tsv\t54961\n",
        "m_2/HOLT5_RD-P1-134_1.fil.tags.tsv\t78983\n",
        "m_2/MOAT10_RD-P1-145_1.fil.tags.tsv\t51645\n",
        "m_4/GF10_RD-P1-104_1.fil.tags.tsv\t47578\n",
        "m_4/HOLT5_RD-P1-134_1.fil.tags.tsv\t73608\n",
        "m_4/MOAT10_RD-P1-145_1.fil.tags.tsv\t49002\n",
        "m_6/GF10_RD-P1-104_1.fil.tags.tsv\t39820\n",
        "m_6/HOLT5_RD-P1-134_1.fil.tags.tsv\t68145\n",
        "m_6/MOAT10_RD-P1-145_1.fil.tags.tsv\t47922\n",
        "m_8/GF10_RD-P1-104_1.fil.tags.tsv\t30893\n",
        "m_8/HOLT5_RD-P1-134_1.fil.tags.tsv\t59959\n",
        "m_8/MOAT10_RD-P1-145_1.fil.tags.tsv\t46989\n",
        "m_10/GF10_RD-P1-104_1.fil.tags.tsv\t22432\n",
        "m_10/HOLT5_RD-P1-134_1.fil.tags.tsv\t48237\n",
        "m_10/MOAT10_RD-P1-145_1.fil.tags.tsv\t46029\n",
        "m_12/GF10_RD-P1-104_1.fil.tags.tsv\t15170\n",
        "m_12/HOLT5_RD-P1-134_1.fil.tags.tsv\t35049\n",
        "m_12/MOAT10_RD-P1-145_1.fil.tags.tsv\t44929\n",
        "m_14/GF10_RD-P1-104_1.fil.tags.tsv\t9501\n",
        "m_14/HOLT5_RD-P1-134_1.fil.tags.tsv\t22832\n",
        "m_14/MOAT10_RD-P1-145_1.fil.tags.tsv\t43651\n",
        "set(['MOAT10_RD-P1-145_1.fil.tags.tsv', 'GF10_RD-P1-104_1.fil.tags.tsv', 'HOLT5_RD-P1-134_1.fil.tags.tsv'])\n",
        "TAG COUNTER\n",
        "MOAT10_RD-P1-145_1.fil.tags.tsv [129750, 51645, 49002, 47922, 46989, 46029, 44929, 43651]\n",
        "TAG COUNTER\n",
        "GF10_RD-P1-104_1.fil.tags.tsv [131018, 54961, 47578, 39820, 30893, 22432, 15170, 9501]\n",
        "TAG COUNTER\n"
       ]
      },
      {
       "output_type": "stream",
       "stream": "stdout",
       "text": [
        "HOLT5_RD-P1-134_1.fil.tags.tsv [142210, 78983, 73608, 68145, 59959, 48237, 35049, 22832]\n",
        "/media/dan/34D5D1CE642D7E36/2013076_Hanfling_Bernd/Stacks/Stacks_analyses_V3/Incremental_tests/Batch_1/cru_gold_hyb_2/GF10_RD-P1-104_1.fi/m_tests/m_0"
       ]
      },
      {
       "output_type": "stream",
       "stream": "stdout",
       "text": [
        " GF10_RD-P1-104_1.fil.tags.tsv\n",
        "/media/dan/34D5D1CE642D7E36/2013076_Hanfling_Bernd/Stacks/Stacks_analyses_V3/Incremental_tests/Batch_1/cru_gold_hyb_2/GF10_RD-P1-104_1.fi/m_tests/m_10 GF10_RD-P1-104_1.fil.tags.tsv\n",
        "/media/dan/34D5D1CE642D7E36/2013076_Hanfling_Bernd/Stacks/Stacks_analyses_V3/Incremental_tests/Batch_1/cru_gold_hyb_2/GF10_RD-P1-104_1.fi/m_tests/m_12 GF10_RD-P1-104_1.fil.tags.tsv\n",
        "/media/dan/34D5D1CE642D7E36/2013076_Hanfling_Bernd/Stacks/Stacks_analyses_V3/Incremental_tests/Batch_1/cru_gold_hyb_2/GF10_RD-P1-104_1.fi/m_tests/m_14 GF10_RD-P1-104_1.fil.tags.tsv\n",
        "/media/dan/34D5D1CE642D7E36/2013076_Hanfling_Bernd/Stacks/Stacks_analyses_V3/Incremental_tests/Batch_1/cru_gold_hyb_2/GF10_RD-P1-104_1.fi/m_tests/m_2 GF10_RD-P1-104_1.fil.tags.tsv\n",
        "/media/dan/34D5D1CE642D7E36/2013076_Hanfling_Bernd/Stacks/Stacks_analyses_V3/Incremental_tests/Batch_1/cru_gold_hyb_2/GF10_RD-P1-104_1.fi/m_tests/m_4 GF10_RD-P1-104_1.fil.tags.tsv\n",
        "/media/dan/34D5D1CE642D7E36/2013076_Hanfling_Bernd/Stacks/Stacks_analyses_V3/Incremental_tests/Batch_1/cru_gold_hyb_2/GF10_RD-P1-104_1.fi/m_tests/m_6 GF10_RD-P1-104_1.fil.tags.tsv\n",
        "/media/dan/34D5D1CE642D7E36/2013076_Hanfling_Bernd/Stacks/Stacks_analyses_V3/Incremental_tests/Batch_1/cru_gold_hyb_2/GF10_RD-P1-104_1.fi/m_tests/m_8 GF10_RD-P1-104_1.fil.tags.tsv\n",
        "/media/dan/34D5D1CE642D7E36/2013076_Hanfling_Bernd/Stacks/Stacks_analyses_V3/Incremental_tests/Batch_1/cru_gold_hyb_2/HOLT5_RD-P1-134_1.fi/m_tests/m_0 HOLT5_RD-P1-134_1.fil.tags.tsv\n",
        "/media/dan/34D5D1CE642D7E36/2013076_Hanfling_Bernd/Stacks/Stacks_analyses_V3/Incremental_tests/Batch_1/cru_gold_hyb_2/HOLT5_RD-P1-134_1.fi/m_tests/m_10 HOLT5_RD-P1-134_1.fil.tags.tsv\n",
        "/media/dan/34D5D1CE642D7E36/2013076_Hanfling_Bernd/Stacks/Stacks_analyses_V3/Incremental_tests/Batch_1/cru_gold_hyb_2/HOLT5_RD-P1-134_1.fi/m_tests/m_12 HOLT5_RD-P1-134_1.fil.tags.tsv\n",
        "/media/dan/34D5D1CE642D7E36/2013076_Hanfling_Bernd/Stacks/Stacks_analyses_V3/Incremental_tests/Batch_1/cru_gold_hyb_2/HOLT5_RD-P1-134_1.fi/m_tests/m_14 HOLT5_RD-P1-134_1.fil.tags.tsv\n",
        "/media/dan/34D5D1CE642D7E36/2013076_Hanfling_Bernd/Stacks/Stacks_analyses_V3/Incremental_tests/Batch_1/cru_gold_hyb_2/HOLT5_RD-P1-134_1.fi/m_tests/m_2 HOLT5_RD-P1-134_1.fil.tags.tsv\n",
        "/media/dan/34D5D1CE642D7E36/2013076_Hanfling_Bernd/Stacks/Stacks_analyses_V3/Incremental_tests/Batch_1/cru_gold_hyb_2/HOLT5_RD-P1-134_1.fi/m_tests/m_4 HOLT5_RD-P1-134_1.fil.tags.tsv\n",
        "/media/dan/34D5D1CE642D7E36/2013076_Hanfling_Bernd/Stacks/Stacks_analyses_V3/Incremental_tests/Batch_1/cru_gold_hyb_2/HOLT5_RD-P1-134_1.fi/m_tests/m_6 HOLT5_RD-P1-134_1.fil.tags.tsv\n",
        "/media/dan/34D5D1CE642D7E36/2013076_Hanfling_Bernd/Stacks/Stacks_analyses_V3/Incremental_tests/Batch_1/cru_gold_hyb_2/HOLT5_RD-P1-134_1.fi/m_tests/m_8 HOLT5_RD-P1-134_1.fil.tags.tsv\n",
        "/media/dan/34D5D1CE642D7E36/2013076_Hanfling_Bernd/Stacks/Stacks_analyses_V3/Incremental_tests/Batch_1/cru_gold_hyb_2/MOAT10_RD-P1-145_1.fi/m_tests/m_0 MOAT10_RD-P1-145_1.fil.tags.tsv\n",
        "/media/dan/34D5D1CE642D7E36/2013076_Hanfling_Bernd/Stacks/Stacks_analyses_V3/Incremental_tests/Batch_1/cru_gold_hyb_2/MOAT10_RD-P1-145_1.fi/m_tests/m_10 MOAT10_RD-P1-145_1.fil.tags.tsv\n",
        "/media/dan/34D5D1CE642D7E36/2013076_Hanfling_Bernd/Stacks/Stacks_analyses_V3/Incremental_tests/Batch_1/cru_gold_hyb_2/MOAT10_RD-P1-145_1.fi/m_tests/m_12 MOAT10_RD-P1-145_1.fil.tags.tsv\n",
        "/media/dan/34D5D1CE642D7E36/2013076_Hanfling_Bernd/Stacks/Stacks_analyses_V3/Incremental_tests/Batch_1/cru_gold_hyb_2/MOAT10_RD-P1-145_1.fi/m_tests/m_14"
       ]
      },
      {
       "output_type": "stream",
       "stream": "stdout",
       "text": [
        " MOAT10_RD-P1-145_1.fil.tags.tsv\n",
        "/media/dan/34D5D1CE642D7E36/2013076_Hanfling_Bernd/Stacks/Stacks_analyses_V3/Incremental_tests/Batch_1/cru_gold_hyb_2/MOAT10_RD-P1-145_1.fi/m_tests/m_2 MOAT10_RD-P1-145_1.fil.tags.tsv\n",
        "/media/dan/34D5D1CE642D7E36/2013076_Hanfling_Bernd/Stacks/Stacks_analyses_V3/Incremental_tests/Batch_1/cru_gold_hyb_2/MOAT10_RD-P1-145_1.fi/m_tests/m_4 MOAT10_RD-P1-145_1.fil.tags.tsv\n",
        "/media/dan/34D5D1CE642D7E36/2013076_Hanfling_Bernd/Stacks/Stacks_analyses_V3/Incremental_tests/Batch_1/cru_gold_hyb_2/MOAT10_RD-P1-145_1.fi/m_tests/m_6 MOAT10_RD-P1-145_1.fil.tags.tsv\n",
        "/media/dan/34D5D1CE642D7E36/2013076_Hanfling_Bernd/Stacks/Stacks_analyses_V3/Incremental_tests/Batch_1/cru_gold_hyb_2/MOAT10_RD-P1-145_1.fi/m_tests/m_8 MOAT10_RD-P1-145_1.fil.tags.tsv\n",
        "[9, 3, 8, 12, 11, 3, 10, 22, 3, 18]"
       ]
      },
      {
       "output_type": "stream",
       "stream": "stdout",
       "text": [
        "\n",
        "[13, 17, 14, 14, 22, 16, 16, 18, 14, 21]"
       ]
      },
      {
       "output_type": "stream",
       "stream": "stdout",
       "text": [
        "\n",
        "[71, 15, 18, 15, 21, 17, 22, 19, 31, 16]"
       ]
      },
      {
       "output_type": "stream",
       "stream": "stdout",
       "text": [
        "\n",
        "[22, 27, 22, 21, 17, 18, 17, 22, 23, 22]"
       ]
      },
      {
       "output_type": "stream",
       "stream": "stdout",
       "text": [
        "\n",
        "[18, 16, 14, 11, 11, 6, 4, 15, 12, 31]"
       ]
      },
      {
       "output_type": "stream",
       "stream": "stdout",
       "text": [
        "\n",
        "[16, 18, 10, 24, 20, 18, 21, 16, 9, 8]"
       ]
      },
      {
       "output_type": "stream",
       "stream": "stdout",
       "text": [
        "\n",
        "[21, 9, 17, 10, 12, 15, 20, 32, 19, 23]"
       ]
      },
      {
       "output_type": "stream",
       "stream": "stdout",
       "text": [
        "\n",
        "[13, 11, 17, 18, 17, 12, 27, 18, 11, 10]"
       ]
      },
      {
       "output_type": "stream",
       "stream": "stdout",
       "text": [
        "\n",
        "[22, 13, 17, 13, 3, 11, 3, 25, 15, 15]"
       ]
      },
      {
       "output_type": "stream",
       "stream": "stdout",
       "text": [
        "\n",
        "[28, 20, 29, 14, 26, 19, 17, 19, 22, 13]"
       ]
      },
      {
       "output_type": "stream",
       "stream": "stdout",
       "text": [
        "\n",
        "[29, 19, 17, 15, 19, 20, 30, 17, 23, 45]"
       ]
      },
      {
       "output_type": "stream",
       "stream": "stdout",
       "text": [
        "\n",
        "[25, 17, 17, 32, 37, 30, 28, 17, 29, 18]"
       ]
      },
      {
       "output_type": "stream",
       "stream": "stdout",
       "text": [
        "\n",
        "[37, 16, 21, 8, 12, 17, 23, 11, 18, 31]"
       ]
      },
      {
       "output_type": "stream",
       "stream": "stdout",
       "text": [
        "\n",
        "[11, 28, 21, 22, 26, 9, 19, 11, 18, 28]"
       ]
      },
      {
       "output_type": "stream",
       "stream": "stdout",
       "text": [
        "\n",
        "[24, 18, 15, 18, 15, 38, 13, 32, 17, 25]"
       ]
      },
      {
       "output_type": "stream",
       "stream": "stdout",
       "text": [
        "\n",
        "[10, 23, 13, 19, 14, 19, 13, 13, 16, 10]"
       ]
      },
      {
       "output_type": "stream",
       "stream": "stdout",
       "text": [
        "\n",
        "[33, 26, 36, 3, 41, 39, 3, 3, 40, 21]"
       ]
      },
      {
       "output_type": "stream",
       "stream": "stdout",
       "text": [
        "\n",
        "[82, 36, 35, 29, 37, 30, 22, 26, 40, 43]"
       ]
      },
      {
       "output_type": "stream",
       "stream": "stdout",
       "text": [
        "\n",
        "[30, 28, 38, 25, 30, 18, 19, 33, 41, 21]"
       ]
      },
      {
       "output_type": "stream",
       "stream": "stdout",
       "text": [
        "\n",
        "[38, 24, 28, 23, 29, 53, 61, 32, 27, 37]"
       ]
      },
      {
       "output_type": "stream",
       "stream": "stdout",
       "text": [
        "\n",
        "[31, 26, 29, 4, 33, 37, 22, 4, 94, 24]"
       ]
      },
      {
       "output_type": "stream",
       "stream": "stdout",
       "text": [
        "\n",
        "[40, 27, 29, 48, 8, 36, 37, 28, 28, 30]"
       ]
      },
      {
       "output_type": "stream",
       "stream": "stdout",
       "text": [
        "\n",
        "[34, 240, 571, 181, 151, 3065, 300, 155, 521, 384]"
       ]
      },
      {
       "output_type": "stream",
       "stream": "stdout",
       "text": [
        "\n",
        "[24, 22, 12, 42, 37, 28, 29, 37, 27, 19]"
       ]
      },
      {
       "output_type": "stream",
       "stream": "stdout",
       "text": [
        "\n",
        "/media/dan/34D5D1CE642D7E36/2013076_Hanfling_Bernd/Stacks/Stacks_analyses_V3/Incremental_tests/Batch_1/cru_gold_hyb_2/GF10_RD-P1-104_1.fi/m_tests/m_0/GF10_RD-P1-104_1.fil Coverage data.txt"
       ]
      },
      {
       "output_type": "stream",
       "stream": "stdout",
       "text": [
        "\n",
        "/media/dan/34D5D1CE642D7E36/2013076_Hanfling_Bernd/Stacks/Stacks_analyses_V3/Incremental_tests/Batch_1/cru_gold_hyb_2/GF10_RD-P1-104_1.fi/m_tests/m_2/GF10_RD-P1-104_1.fil Coverage data.txt"
       ]
      },
      {
       "output_type": "stream",
       "stream": "stdout",
       "text": [
        "\n",
        "/media/dan/34D5D1CE642D7E36/2013076_Hanfling_Bernd/Stacks/Stacks_analyses_V3/Incremental_tests/Batch_1/cru_gold_hyb_2/GF10_RD-P1-104_1.fi/m_tests/m_4/GF10_RD-P1-104_1.fil Coverage data.txt"
       ]
      },
      {
       "output_type": "stream",
       "stream": "stdout",
       "text": [
        "\n",
        "/media/dan/34D5D1CE642D7E36/2013076_Hanfling_Bernd/Stacks/Stacks_analyses_V3/Incremental_tests/Batch_1/cru_gold_hyb_2/GF10_RD-P1-104_1.fi/m_tests/m_6/GF10_RD-P1-104_1.fil Coverage data.txt"
       ]
      },
      {
       "output_type": "stream",
       "stream": "stdout",
       "text": [
        "\n",
        "/media/dan/34D5D1CE642D7E36/2013076_Hanfling_Bernd/Stacks/Stacks_analyses_V3/Incremental_tests/Batch_1/cru_gold_hyb_2/GF10_RD-P1-104_1.fi/m_tests/m_8/GF10_RD-P1-104_1.fil Coverage data.txt"
       ]
      },
      {
       "output_type": "stream",
       "stream": "stdout",
       "text": [
        "\n",
        "/media/dan/34D5D1CE642D7E36/2013076_Hanfling_Bernd/Stacks/Stacks_analyses_V3/Incremental_tests/Batch_1/cru_gold_hyb_2/GF10_RD-P1-104_1.fi/m_tests/m_10/GF10_RD-P1-104_1.fil Coverage data.txt"
       ]
      },
      {
       "output_type": "stream",
       "stream": "stdout",
       "text": [
        "\n",
        "/media/dan/34D5D1CE642D7E36/2013076_Hanfling_Bernd/Stacks/Stacks_analyses_V3/Incremental_tests/Batch_1/cru_gold_hyb_2/GF10_RD-P1-104_1.fi/m_tests/m_12/GF10_RD-P1-104_1.fil Coverage data.txt"
       ]
      },
      {
       "output_type": "stream",
       "stream": "stdout",
       "text": [
        "\n",
        "/media/dan/34D5D1CE642D7E36/2013076_Hanfling_Bernd/Stacks/Stacks_analyses_V3/Incremental_tests/Batch_1/cru_gold_hyb_2/GF10_RD-P1-104_1.fi/m_tests/m_14/GF10_RD-P1-104_1.fil Coverage data.txt"
       ]
      },
      {
       "output_type": "stream",
       "stream": "stdout",
       "text": [
        "\n",
        "/media/dan/34D5D1CE642D7E36/2013076_Hanfling_Bernd/Stacks/Stacks_analyses_V3/Incremental_tests/Batch_1/cru_gold_hyb_2/HOLT5_RD-P1-134_1.fi/m_tests/m_0/HOLT5_RD-P1-134_1.fil Coverage data.txt"
       ]
      },
      {
       "output_type": "stream",
       "stream": "stdout",
       "text": [
        "\n",
        "/media/dan/34D5D1CE642D7E36/2013076_Hanfling_Bernd/Stacks/Stacks_analyses_V3/Incremental_tests/Batch_1/cru_gold_hyb_2/HOLT5_RD-P1-134_1.fi/m_tests/m_2/HOLT5_RD-P1-134_1.fil Coverage data.txt"
       ]
      },
      {
       "output_type": "stream",
       "stream": "stdout",
       "text": [
        "\n",
        "/media/dan/34D5D1CE642D7E36/2013076_Hanfling_Bernd/Stacks/Stacks_analyses_V3/Incremental_tests/Batch_1/cru_gold_hyb_2/HOLT5_RD-P1-134_1.fi/m_tests/m_4/HOLT5_RD-P1-134_1.fil Coverage data.txt"
       ]
      },
      {
       "output_type": "stream",
       "stream": "stdout",
       "text": [
        "\n",
        "/media/dan/34D5D1CE642D7E36/2013076_Hanfling_Bernd/Stacks/Stacks_analyses_V3/Incremental_tests/Batch_1/cru_gold_hyb_2/HOLT5_RD-P1-134_1.fi/m_tests/m_6/HOLT5_RD-P1-134_1.fil Coverage data.txt"
       ]
      },
      {
       "output_type": "stream",
       "stream": "stdout",
       "text": [
        "\n",
        "/media/dan/34D5D1CE642D7E36/2013076_Hanfling_Bernd/Stacks/Stacks_analyses_V3/Incremental_tests/Batch_1/cru_gold_hyb_2/HOLT5_RD-P1-134_1.fi/m_tests/m_8/HOLT5_RD-P1-134_1.fil Coverage data.txt"
       ]
      },
      {
       "output_type": "stream",
       "stream": "stdout",
       "text": [
        "\n",
        "/media/dan/34D5D1CE642D7E36/2013076_Hanfling_Bernd/Stacks/Stacks_analyses_V3/Incremental_tests/Batch_1/cru_gold_hyb_2/HOLT5_RD-P1-134_1.fi/m_tests/m_10/HOLT5_RD-P1-134_1.fil Coverage data.txt"
       ]
      },
      {
       "output_type": "stream",
       "stream": "stdout",
       "text": [
        "\n",
        "/media/dan/34D5D1CE642D7E36/2013076_Hanfling_Bernd/Stacks/Stacks_analyses_V3/Incremental_tests/Batch_1/cru_gold_hyb_2/HOLT5_RD-P1-134_1.fi/m_tests/m_12/HOLT5_RD-P1-134_1.fil Coverage data.txt"
       ]
      },
      {
       "output_type": "stream",
       "stream": "stdout",
       "text": [
        "\n",
        "/media/dan/34D5D1CE642D7E36/2013076_Hanfling_Bernd/Stacks/Stacks_analyses_V3/Incremental_tests/Batch_1/cru_gold_hyb_2/HOLT5_RD-P1-134_1.fi/m_tests/m_14/HOLT5_RD-P1-134_1.fil Coverage data.txt"
       ]
      },
      {
       "output_type": "stream",
       "stream": "stdout",
       "text": [
        "\n",
        "/media/dan/34D5D1CE642D7E36/2013076_Hanfling_Bernd/Stacks/Stacks_analyses_V3/Incremental_tests/Batch_1/cru_gold_hyb_2/MOAT10_RD-P1-145_1.fi/m_tests/m_0/MOAT10_RD-P1-145_1.fil Coverage data.txt"
       ]
      },
      {
       "output_type": "stream",
       "stream": "stdout",
       "text": [
        "\n",
        "/media/dan/34D5D1CE642D7E36/2013076_Hanfling_Bernd/Stacks/Stacks_analyses_V3/Incremental_tests/Batch_1/cru_gold_hyb_2/MOAT10_RD-P1-145_1.fi/m_tests/m_2/MOAT10_RD-P1-145_1.fil Coverage data.txt"
       ]
      },
      {
       "output_type": "stream",
       "stream": "stdout",
       "text": [
        "\n",
        "/media/dan/34D5D1CE642D7E36/2013076_Hanfling_Bernd/Stacks/Stacks_analyses_V3/Incremental_tests/Batch_1/cru_gold_hyb_2/MOAT10_RD-P1-145_1.fi/m_tests/m_4/MOAT10_RD-P1-145_1.fil Coverage data.txt"
       ]
      },
      {
       "output_type": "stream",
       "stream": "stdout",
       "text": [
        "\n",
        "/media/dan/34D5D1CE642D7E36/2013076_Hanfling_Bernd/Stacks/Stacks_analyses_V3/Incremental_tests/Batch_1/cru_gold_hyb_2/MOAT10_RD-P1-145_1.fi/m_tests/m_6/MOAT10_RD-P1-145_1.fil Coverage data.txt"
       ]
      },
      {
       "output_type": "stream",
       "stream": "stdout",
       "text": [
        "\n",
        "/media/dan/34D5D1CE642D7E36/2013076_Hanfling_Bernd/Stacks/Stacks_analyses_V3/Incremental_tests/Batch_1/cru_gold_hyb_2/MOAT10_RD-P1-145_1.fi/m_tests/m_8/MOAT10_RD-P1-145_1.fil Coverage data.txt"
       ]
      },
      {
       "output_type": "stream",
       "stream": "stdout",
       "text": [
        "\n",
        "/media/dan/34D5D1CE642D7E36/2013076_Hanfling_Bernd/Stacks/Stacks_analyses_V3/Incremental_tests/Batch_1/cru_gold_hyb_2/MOAT10_RD-P1-145_1.fi/m_tests/m_10/MOAT10_RD-P1-145_1.fil Coverage data.txt"
       ]
      },
      {
       "output_type": "stream",
       "stream": "stdout",
       "text": [
        "\n",
        "/media/dan/34D5D1CE642D7E36/2013076_Hanfling_Bernd/Stacks/Stacks_analyses_V3/Incremental_tests/Batch_1/cru_gold_hyb_2/MOAT10_RD-P1-145_1.fi/m_tests/m_12/MOAT10_RD-P1-145_1.fil Coverage data.txt"
       ]
      },
      {
       "output_type": "stream",
       "stream": "stdout",
       "text": [
        "\n",
        "/media/dan/34D5D1CE642D7E36/2013076_Hanfling_Bernd/Stacks/Stacks_analyses_V3/Incremental_tests/Batch_1/cru_gold_hyb_2/MOAT10_RD-P1-145_1.fi/m_tests/m_14/MOAT10_RD-P1-145_1.fil Coverage data.txt"
       ]
      },
      {
       "output_type": "stream",
       "stream": "stdout",
       "text": [
        "\n",
        "number of coverage plots = 24"
       ]
      },
      {
       "output_type": "stream",
       "stream": "stdout",
       "text": [
        "\n",
        "sample names ="
       ]
      },
      {
       "output_type": "stream",
       "stream": "stdout",
       "text": [
        "\n",
        "set(['MOAT10', 'GF10', 'HOLT5'])\n",
        "MOAT10\n",
        "[14.68, 33.04, 34.57, 35.16, 35.66, 36.14, 36.67, 37.27]\n",
        "GF10\n",
        "[7.43, 13.82, 15.2, 16.67, 18.48, 20.67, 23.46, 27.5]\n",
        "HOLT5"
       ]
      },
      {
       "output_type": "stream",
       "stream": "stdout",
       "text": [
        "\n",
        "[10.81, 17.3, 18.21, 19.12, 20.49, 22.76, 26.01, 30.59]\n"
       ]
      }
     ],
     "prompt_number": 12
    },
    {
     "cell_type": "markdown",
     "metadata": {},
     "source": [
      "### Make the bash file and execute with the Final chosen Ustacks parameters"
     ]
    },
    {
     "cell_type": "code",
     "collapsed": false,
     "input": [
      "def Final_Ustacks_command(M_value, m_value, parent_dir_path):\n",
      "       \n",
      "## Define execute function ##\n",
      "        \n",
      "    def execute(bash_file):\n",
      "        f = open(str(bash_file), 'r')\n",
      "        script = f.read()\n",
      "        subprocess.call(script, shell=True)\n",
      "        print script\n",
      "    \n",
      "## Get files ##\n",
      "    \n",
      "    sample_names = []\n",
      "    \n",
      "    for i in os.listdir(parent_dir_path):\n",
      "        if i.endswith(\".fq_1\") or i.endswith(\"1.fastq\"): \n",
      "            sample_names.append(i)\n",
      "    \n",
      "    print (\"Parameter values: M =\"+str(M_value)+\" m =\"+str(m_value)+\"\\n\")\n",
      "    \n",
      "## Write file ##\n",
      "\n",
      "    f = open(str(parent_dir_path +\"Final_Ustacks_commands.sh\"), 'w') ## .. make a bash script file in the current ipython directory...\n",
      "    f.write(\"#!/bin/bash\\n\\nmkdir \"+ parent_dir_path + \"Final_Ustacks_outputs/ \\n\") \n",
      "    \n",
      "    Sample_ID = 1\n",
      "    for sample in sample_names: ## so for each sample ...\n",
      "        final_command_list = []\n",
      "        f.write('ustacks -t fastq -M '+str(M_value)+' -m '+str(m_value)+' -p 8 -d -r -i '+str(Sample_ID)+' -f '+ str(parent_dir_path) + str(sample)+' -o '+ str(parent_dir_path) + 'Final_Ustacks_outputs/ \\n')    \n",
      "        Sample_ID += 1\n",
      "        print (sample.split(\"_\")[0]+\" ID = \"+str(Sample_ID))\n",
      "    f.close()\n",
      "    \n",
      "## Execute the scripts\n",
      "    execute(str(parent_dir_path +\"Final_Ustacks_commands.sh\"))"
     ],
     "language": "python",
     "metadata": {},
     "outputs": [],
     "prompt_number": 60
    },
    {
     "cell_type": "code",
     "collapsed": false,
     "input": [
      "Final_Ustacks_command(6,6,'/media/dan/34D5D1CE642D7E36/2013076_Hanfling_Bernd/Stacks/Stacks_analyses_V3/Incremental_tests/Batch_1/cru_gib_hyb_1/')"
     ],
     "language": "python",
     "metadata": {},
     "outputs": [
      {
       "output_type": "stream",
       "stream": "stdout",
       "text": [
        "Parameter values: M =6 m =6\n",
        "\n",
        "DEND2 ID = 1\n",
        "TU10 ID = 2\n",
        "VIKKHY1 ID = 3\n",
        "#!/bin/bash\n",
        "\n",
        "mkdir /media/dan/34D5D1CE642D7E36/2013076_Hanfling_Bernd/Stacks/Stacks_analyses_V3/Incremental_tests/Batch_1/cru_gib_hyb_1/Final_Ustacks_outputs/ \n",
        "ustacks -t fastq -M 6 -m 6 -p 8 -d -r -i 0 -f /media/dan/34D5D1CE642D7E36/2013076_Hanfling_Bernd/Stacks/Stacks_analyses_V3/Incremental_tests/Batch_1/cru_gib_hyb_1/DEND2_RD-P1-129_1.fil.fq_1 -o /media/dan/34D5D1CE642D7E36/2013076_Hanfling_Bernd/Stacks/Stacks_analyses_V3/Incremental_tests/Batch_1/cru_gib_hyb_1/Final_Ustacks_outputs/ \n",
        "ustacks -t fastq -M 6 -m 6 -p 8 -d -r -i 1 -f /media/dan/34D5D1CE642D7E36/2013076_Hanfling_Bernd/Stacks/Stacks_analyses_V3/Incremental_tests/Batch_1/cru_gib_hyb_1/TU10_RD-P1-110_1.fil.fq_1 -o /media/dan/34D5D1CE642D7E36/2013076_Hanfling_Bernd/Stacks/Stacks_analyses_V3/Incremental_tests/Batch_1/cru_gib_hyb_1/Final_Ustacks_outputs/ \n",
        "ustacks -t fastq -M 6 -m 6 -p 8 -d -r -i 2 -f /media/dan/34D5D1CE642D7E36/2013076_Hanfling_Bernd/Stacks/Stacks_analyses_V3/Incremental_tests/Batch_1/cru_gib_hyb_1/VIKKHY1_RD-P1-146_1.fil.fq_1 -o /media/dan/34D5D1CE642D7E36/2013076_Hanfling_Bernd/Stacks/Stacks_analyses_V3/Incremental_tests/Batch_1/cru_gib_hyb_1/Final_Ustacks_outputs/ \n"
       ]
      },
      {
       "output_type": "stream",
       "stream": "stdout",
       "text": [
        "\n"
       ]
      }
     ],
     "prompt_number": 36
    }
   ],
   "metadata": {}
  }
 ]
}