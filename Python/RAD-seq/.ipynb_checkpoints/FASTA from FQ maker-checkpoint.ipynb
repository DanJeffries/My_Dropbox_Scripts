{
 "metadata": {
  "name": "",
  "signature": "sha256:9e5f69afe0abe9bb3f7f062efafba7d15f31d070386227c65e4cb9f6c97f7ad7"
 },
 "nbformat": 3,
 "nbformat_minor": 0,
 "worksheets": [
  {
   "cells": [
    {
     "cell_type": "code",
     "collapsed": false,
     "input": [
      "def fasta_maka(fq_input_file_path):\n",
      "    fasta = open(fq_input_file_path.rpartition('.')[0]+'.fa', 'w')\n",
      "    for line in open(fq_input_file_path, 'r').readlines():\n",
      "        if line.startswith('@'):\n",
      "            fasta.write('>'+line)\n",
      "        elif line.startswith('TGCAG'):\n",
      "            fasta.write(line)\n",
      "    fasta.close()\n",
      "    print \"DONE\""
     ],
     "language": "python",
     "metadata": {},
     "outputs": [],
     "prompt_number": 8
    },
    {
     "cell_type": "code",
     "collapsed": false,
     "input": [
      "fasta_maka('/media/dan/34D5D1CE642D7E36/2013076_Hanfling_Bernd/Stacks/Blast_tag_sharing_analysis/raw_sample_files/SWED97-3_RD-P1-144_1.fil.fq_1')"
     ],
     "language": "python",
     "metadata": {},
     "outputs": [
      {
       "output_type": "stream",
       "stream": "stdout",
       "text": [
        "DONE\n"
       ]
      }
     ],
     "prompt_number": 11
    }
   ],
   "metadata": {}
  }
 ]
}