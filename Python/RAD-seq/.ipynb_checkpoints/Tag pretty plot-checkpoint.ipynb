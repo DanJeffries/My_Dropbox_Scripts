{
 "metadata": {
  "name": "",
  "signature": "sha256:c0c92d6b776a9fb9289f4d91a1f67a715092393ea49b677bedeaa1e3a72a0789"
 },
 "nbformat": 3,
 "nbformat_minor": 0,
 "worksheets": [
  {
   "cells": [
    {
     "cell_type": "markdown",
     "metadata": {},
     "source": [
      "## Make file for R"
     ]
    },
    {
     "cell_type": "code",
     "collapsed": false,
     "input": [
      "import os"
     ],
     "language": "python",
     "metadata": {},
     "outputs": [],
     "prompt_number": 3
    },
    {
     "cell_type": "code",
     "collapsed": false,
     "input": [
      "def natural_key(string_): \n",
      "        return [int(s) if s.isdigit() else s for s in re.split(r'(\\d+)', string_)]"
     ],
     "language": "python",
     "metadata": {},
     "outputs": [],
     "prompt_number": 4
    },
    {
     "cell_type": "code",
     "collapsed": false,
     "input": [
      "def Tag_file_maker(directory):\n",
      "    for root, dirs, files in os.walk(directory):\n",
      "        for fil in files:\n",
      "            if 'M_tests_Tag_numbers.txt' in fil:\n",
      "                f = open(directory+fil, 'r')\n",
      "    nf = open(directory+'all_tag_changes.txt', 'w')\n",
      "    for line in f.readlines():\n",
      "        nf.write(line.split('/')[0] +'\\t'+ line.split('/')[1].split('_')[0]+'\\t'+line.split()[-1]+'\\n')\n",
      "    nf.close()\n",
      "Tag_file_maker('/media/dan/34D5D1CE642D7E36/2013076_Hanfling_Bernd/Stacks/Stacks_analyses_V3/Incremental_tests/Batch_1/cru_gold_hyb_2/')"
     ],
     "language": "python",
     "metadata": {},
     "outputs": [],
     "prompt_number": 17
    },
    {
     "cell_type": "code",
     "collapsed": false,
     "input": [],
     "language": "python",
     "metadata": {},
     "outputs": []
    }
   ],
   "metadata": {}
  }
 ]
}