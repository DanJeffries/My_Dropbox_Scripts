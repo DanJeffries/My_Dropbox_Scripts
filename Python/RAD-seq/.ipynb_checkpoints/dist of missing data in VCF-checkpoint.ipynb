{
 "metadata": {
  "name": "",
  "signature": "sha256:64f403d792bfcfd3574f3d6537a5ba051eaf5caa7d52659e70e0395021631486"
 },
 "nbformat": 3,
 "nbformat_minor": 0,
 "worksheets": [
  {
   "cells": [
    {
     "cell_type": "code",
     "collapsed": false,
     "input": [
      "import vcf ## difficult to get the hang of, but powerful I think"
     ],
     "language": "python",
     "metadata": {},
     "outputs": [],
     "prompt_number": 1
    },
    {
     "cell_type": "code",
     "collapsed": false,
     "input": [
      "def missing_data_finder(input_file, output_file_path):\n",
      "    vcf_reader = vcf.Reader(open(input_file, 'r')) ## open with vcf reader\n",
      "    record = vcf_reader.next() \n",
      "    \n",
      "    samples = vcf_reader.samples ## get all the samples in the file\n",
      "    print samples\n",
      "\n",
      "    missing_data_count = []\n",
      "\n",
      "    for sample in samples: ## for each sample\n",
      "        print 'processing '+ sample +'...' \n",
      "        no_genotype_counter = 0 \n",
      "        for record in vcf.Reader(open(input_file, 'r')): ## for each record in the file (each row)\n",
      "            if record.genotype(sample)['GT'] == './.': ## If the current samples genotype for this record is missing ('./.'), count it with no_genotype_counter\n",
      "                no_genotype_counter += 1\n",
      "        \n",
      "        ### Can do a lot more with this statement - include tag ID in a separate column in the output, to see which tags are the problems.\n",
      "        \n",
      "        missing_data_count.append(sample+'\\t'+str(no_genotype_counter)) ## add the data to the list for writing - can cut this bit out and just write straight to file\n",
      "\n",
      "    f = open(output_file_path+'/missing_data_per_sample.txt', 'w')\n",
      "    f.write('sample\\t#_missing_loci\\n')\n",
      "    for sample in missing_data_count:\n",
      "        f.write(sample+'\\n')\n",
      "    f.close()\n",
      "    \n",
      "    print 'Data file written to '+ output_file_path\n",
      "    \n",
      "\n",
      "missing_data_finder(\"/media/dan/34D5D1CE642D7E36/2013076_Hanfling_Bernd/Stacks/Stacks_analyses_TRIMMED/Pure_cru_only/populations_r_0.7_p_17/batch_1.vcf\", '/media/dan/34D5D1CE642D7E36/2013076_Hanfling_Bernd/Stacks/Stacks_analyses_TRIMMED/Pure_cru_only/populations_r_0.7_p_17/')"
     ],
     "language": "python",
     "metadata": {},
     "outputs": [
      {
       "output_type": "stream",
       "stream": "stdout",
       "text": [
        "['BF04_1.fil', 'BF05_1.fil', 'BF06_1.fil', 'BF08_1.fil', 'BF09_1.fil', 'BF10_1.fil', 'BF11_1.fil', 'BF12_1.fil', 'BF13_1.fil', 'BOR01_1.fil', 'BOR02_1.fil', 'BOR03_1.fil', 'BOR04_1.fil', 'BOR06_1.fil', 'CAKE10_RD-P1-178_1.fil', 'CAKE2_RD-P1-177_1.fil', 'CAKE3_RD-P1-183_1.fil', 'CAKE4_RD-P1-114_1.fil', 'CAKE5_RD-P1-116_1.fil', 'CAKE6_RD-P1-143_1.fil', 'CAKE7_RD-P1-148_1.fil', 'CAKE8_RD-P1-150_1.fil', 'CAKE9_RD-P1-163_1.fil', 'CA-LK01_1.fil', 'CA-LK02_1.fil', 'CA-LK03_1.fil', 'CA-LK04_1.fil', 'CA-LK05_1.fil', 'CA-LK06_1.fil', 'CA-LK07_1.fil', 'CA-LK08_1.fil', 'CA-LK09_1.fil', 'CA-LK10_1.fil', 'COP06_1.fil', 'COP07_1.fil', 'COP08_1.fil', 'COP09_1.fil', 'COP10_1.fil', 'COP11_1.fil', 'COP12_1.fil', 'COP13_1.fil', 'COP14_1.fil', 'COP15_1.fil', 'MOAT10_RD-P1-145_1.fil', 'MOAT1_RD-P1-111_1.fil', 'MOAT2_RD-P1-144_1.fil', 'MOAT3_RD-P1-146_1.fil', 'MOAT4_RD-P1-155_1.fil', 'MOAT5_RD-P1-156_1.fil', 'MOAT6_RD-P1-181_1.fil', 'MOAT7_RD-P1-184_1.fil', 'MOAT8_RD-P1-109_1.fil', 'MOAT9_RD-P1-112_1.fil', 'OBY01_1.fil', 'OBY02_1.fil', 'OBY07_1.fil', 'OBY10_1.fil', 'OBY11_1.fil', 'OBY12_1.fil', 'OBY13_1.fil', 'OBY14_1.fil', 'OBY15_1.fil', 'OU01_1.fil', 'OU03_1.fil', 'OU04_1.fil', 'OU05_1.fil', 'OU06_1.fil', 'OU07_1.fil', 'OU08_1.fil', 'OU09_1.fil', 'PED01_1.fil', 'PED02_1.fil', 'PED03_1.fil', 'PED04_1.fil', 'PED05_1.fil', 'PED06_1.fil', 'PED07_1.fil', 'PED08_1.fil', 'POLEN10_RD-P1-179_1.fil', 'POLEN1_RD-P1-170_1.fil', 'POLEN2_RD-P1-194_1.fil', 'POLEN3_RD-P1-196_1.fil', 'POLEN4_RD-P1-105_1.fil', 'POLEN5_RD-P1-107_1.fil', 'POLEN6_RD-P1-131_1.fil', 'POLEN7_RD-P1-133_1.fil', 'POLEN8_RD-P1-165_1.fil', 'POLEN9_RD-P1-171_1.fil', 'PRO01_1.fil', 'PRO02_1.fil', 'PRO03_1.fil', 'PRO04_1.fil', 'PRO05_1.fil', 'PRO06_1.fil', 'PRO07_1.fil', 'PRO08_1.fil', 'PRO9_1.fil', 'SD10_RD-P1-127_1.fil', 'SD1_RD-P1-112_1.fil', 'SD2_RD-P1-145_1.fil', 'SD3_RD-P1-147_1.fil', 'SD4_RD-P1-153_1.fil', 'SD5_RD-P1-154_1.fil', 'SD6_RD-P1-182_1.fil', 'SD7_RD-P1-185_1.fil', 'SD8_RD-P1-102_1.fil', 'SD9_RD-P1-103_1.fil', 'SK10_RD-P1-166_1.fil', 'SK1_RD-P1-128_1.fil', 'SK2_RD-P1-167_1.fil', 'SK3_RD-P1-169_1.fil', 'SK4_RD-P1-193_1.fil', 'SK5_RD-P1-195_1.fil', 'SK6_RD-P1-101_1.fil', 'SK7_RD-P1-104_1.fil', 'SK8_RD-P1-129_1.fil', 'SK9_RD-P1-130_1.fil', 'STEC10_RD-P1-149_1.fil', 'STEC1_RD-P1-147_1.fil', 'STEC2_RD-P1-153_1.fil', 'STEC3_RD-P1-154_1.fil', 'STEC4_RD-P1-182_1.fil', 'STEC5_RD-P1-185_1.fil', 'STEC6_RD-P1-113_1.fil', 'STEC7_RD-P1-115_1.fil', 'STEC8_RD-P1-141_1.fil', 'STEC9_RD-P1-142_1.fil', 'STYV01_1.fil', 'STYV02_1.fil', 'STYV03_1.fil', 'STYV04_1.fil', 'STYV05_1.fil', 'STYV06_1.fil', 'STYV07_1.fil', 'STYV08_1.fil', 'STYV09_1.fil', 'TROM02_1.fil', 'TROM03_1.fil', 'TROM04_1.fil', 'TROM09_1.fil', 'TROM11_1.fil', 'TROM12_1.fil', 'TROM16_1.fil', 'TROM17_1.fil', 'TROM18_1.fil', 'TU10_RD-P1-110_1.fil', 'TU1_RD-P1-191_1.fil', 'TU2_RD-P1-106_1.fil', 'TU3_RD-P1-108_1.fil', 'TU4_RD-P1-132_1.fil', 'TU5_RD-P1-134_1.fil', 'TU6_RD-P1-168_1.fil', 'TU7_RD-P1-172_1.fil', 'TU8_RD-P1-180_1.fil', 'TU9_RD-P1-192_1.fil', 'V11_1.fil', 'V13_1.fil', 'V1_1.fil', 'V3_1.fil', 'V5_1.fil', 'V7_1.fil', 'WEN02_1.fil', 'WEN03_1.fil', 'WEN04_1.fil', 'WEN06_1.fil', 'WEN08_1.fil', 'WEN10_1.fil', 'WEN11_1.fil', 'WEN13_1.fil', 'WEN16_1.fil']\n",
        "processing BF04_1.fil...\n",
        "processing BF05_1.fil..."
       ]
      },
      {
       "output_type": "stream",
       "stream": "stdout",
       "text": [
        "\n",
        "processing BF06_1.fil..."
       ]
      },
      {
       "output_type": "stream",
       "stream": "stdout",
       "text": [
        "\n",
        "processing BF08_1.fil..."
       ]
      },
      {
       "output_type": "stream",
       "stream": "stdout",
       "text": [
        "\n",
        "processing BF09_1.fil..."
       ]
      },
      {
       "output_type": "stream",
       "stream": "stdout",
       "text": [
        "\n",
        "processing BF10_1.fil..."
       ]
      },
      {
       "output_type": "stream",
       "stream": "stdout",
       "text": [
        "\n",
        "processing BF11_1.fil..."
       ]
      },
      {
       "output_type": "stream",
       "stream": "stdout",
       "text": [
        "\n",
        "processing BF12_1.fil..."
       ]
      },
      {
       "output_type": "stream",
       "stream": "stdout",
       "text": [
        "\n",
        "processing BF13_1.fil..."
       ]
      },
      {
       "output_type": "stream",
       "stream": "stdout",
       "text": [
        "\n",
        "processing BOR01_1.fil..."
       ]
      },
      {
       "output_type": "stream",
       "stream": "stdout",
       "text": [
        "\n",
        "processing BOR02_1.fil..."
       ]
      },
      {
       "output_type": "stream",
       "stream": "stdout",
       "text": [
        "\n",
        "processing BOR03_1.fil..."
       ]
      },
      {
       "output_type": "stream",
       "stream": "stdout",
       "text": [
        "\n",
        "processing BOR04_1.fil..."
       ]
      },
      {
       "output_type": "stream",
       "stream": "stdout",
       "text": [
        "\n",
        "processing BOR06_1.fil..."
       ]
      },
      {
       "output_type": "stream",
       "stream": "stdout",
       "text": [
        "\n",
        "processing CAKE10_RD-P1-178_1.fil..."
       ]
      },
      {
       "output_type": "stream",
       "stream": "stdout",
       "text": [
        "\n",
        "processing CAKE2_RD-P1-177_1.fil..."
       ]
      },
      {
       "output_type": "stream",
       "stream": "stdout",
       "text": [
        "\n",
        "processing CAKE3_RD-P1-183_1.fil..."
       ]
      },
      {
       "output_type": "stream",
       "stream": "stdout",
       "text": [
        "\n",
        "processing CAKE4_RD-P1-114_1.fil..."
       ]
      },
      {
       "output_type": "stream",
       "stream": "stdout",
       "text": [
        "\n",
        "processing CAKE5_RD-P1-116_1.fil..."
       ]
      },
      {
       "output_type": "stream",
       "stream": "stdout",
       "text": [
        "\n",
        "processing CAKE6_RD-P1-143_1.fil..."
       ]
      },
      {
       "output_type": "stream",
       "stream": "stdout",
       "text": [
        "\n",
        "processing CAKE7_RD-P1-148_1.fil..."
       ]
      },
      {
       "output_type": "stream",
       "stream": "stdout",
       "text": [
        "\n",
        "processing CAKE8_RD-P1-150_1.fil..."
       ]
      },
      {
       "output_type": "stream",
       "stream": "stdout",
       "text": [
        "\n",
        "processing CAKE9_RD-P1-163_1.fil..."
       ]
      },
      {
       "output_type": "stream",
       "stream": "stdout",
       "text": [
        "\n",
        "processing CA-LK01_1.fil..."
       ]
      },
      {
       "output_type": "stream",
       "stream": "stdout",
       "text": [
        "\n",
        "processing CA-LK02_1.fil..."
       ]
      },
      {
       "output_type": "stream",
       "stream": "stdout",
       "text": [
        "\n",
        "processing CA-LK03_1.fil..."
       ]
      },
      {
       "output_type": "stream",
       "stream": "stdout",
       "text": [
        "\n",
        "processing CA-LK04_1.fil..."
       ]
      },
      {
       "output_type": "stream",
       "stream": "stdout",
       "text": [
        "\n",
        "processing CA-LK05_1.fil..."
       ]
      },
      {
       "output_type": "stream",
       "stream": "stdout",
       "text": [
        "\n",
        "processing CA-LK06_1.fil..."
       ]
      },
      {
       "output_type": "stream",
       "stream": "stdout",
       "text": [
        "\n",
        "processing CA-LK07_1.fil..."
       ]
      },
      {
       "output_type": "stream",
       "stream": "stdout",
       "text": [
        "\n",
        "processing CA-LK08_1.fil..."
       ]
      },
      {
       "output_type": "stream",
       "stream": "stdout",
       "text": [
        "\n",
        "processing CA-LK09_1.fil..."
       ]
      },
      {
       "output_type": "stream",
       "stream": "stdout",
       "text": [
        "\n",
        "processing CA-LK10_1.fil..."
       ]
      },
      {
       "output_type": "stream",
       "stream": "stdout",
       "text": [
        "\n",
        "processing COP06_1.fil..."
       ]
      },
      {
       "output_type": "stream",
       "stream": "stdout",
       "text": [
        "\n",
        "processing COP07_1.fil..."
       ]
      },
      {
       "output_type": "stream",
       "stream": "stdout",
       "text": [
        "\n",
        "processing COP08_1.fil..."
       ]
      },
      {
       "output_type": "stream",
       "stream": "stdout",
       "text": [
        "\n",
        "processing COP09_1.fil..."
       ]
      },
      {
       "output_type": "stream",
       "stream": "stdout",
       "text": [
        "\n",
        "processing COP10_1.fil..."
       ]
      },
      {
       "output_type": "stream",
       "stream": "stdout",
       "text": [
        "\n",
        "processing COP11_1.fil..."
       ]
      },
      {
       "output_type": "stream",
       "stream": "stdout",
       "text": [
        "\n",
        "processing COP12_1.fil..."
       ]
      },
      {
       "output_type": "stream",
       "stream": "stdout",
       "text": [
        "\n",
        "processing COP13_1.fil..."
       ]
      },
      {
       "output_type": "stream",
       "stream": "stdout",
       "text": [
        "\n",
        "processing COP14_1.fil..."
       ]
      },
      {
       "output_type": "stream",
       "stream": "stdout",
       "text": [
        "\n",
        "processing COP15_1.fil..."
       ]
      },
      {
       "output_type": "stream",
       "stream": "stdout",
       "text": [
        "\n",
        "processing MOAT10_RD-P1-145_1.fil..."
       ]
      },
      {
       "output_type": "stream",
       "stream": "stdout",
       "text": [
        "\n",
        "processing MOAT1_RD-P1-111_1.fil..."
       ]
      },
      {
       "output_type": "stream",
       "stream": "stdout",
       "text": [
        "\n",
        "processing MOAT2_RD-P1-144_1.fil..."
       ]
      },
      {
       "output_type": "stream",
       "stream": "stdout",
       "text": [
        "\n",
        "processing MOAT3_RD-P1-146_1.fil..."
       ]
      },
      {
       "output_type": "stream",
       "stream": "stdout",
       "text": [
        "\n",
        "processing MOAT4_RD-P1-155_1.fil..."
       ]
      },
      {
       "output_type": "stream",
       "stream": "stdout",
       "text": [
        "\n",
        "processing MOAT5_RD-P1-156_1.fil..."
       ]
      },
      {
       "output_type": "stream",
       "stream": "stdout",
       "text": [
        "\n",
        "processing MOAT6_RD-P1-181_1.fil..."
       ]
      },
      {
       "output_type": "stream",
       "stream": "stdout",
       "text": [
        "\n",
        "processing MOAT7_RD-P1-184_1.fil..."
       ]
      },
      {
       "output_type": "stream",
       "stream": "stdout",
       "text": [
        "\n",
        "processing MOAT8_RD-P1-109_1.fil..."
       ]
      },
      {
       "output_type": "stream",
       "stream": "stdout",
       "text": [
        "\n",
        "processing MOAT9_RD-P1-112_1.fil..."
       ]
      },
      {
       "output_type": "stream",
       "stream": "stdout",
       "text": [
        "\n",
        "processing OBY01_1.fil..."
       ]
      },
      {
       "output_type": "stream",
       "stream": "stdout",
       "text": [
        "\n",
        "processing OBY02_1.fil..."
       ]
      },
      {
       "output_type": "stream",
       "stream": "stdout",
       "text": [
        "\n",
        "processing OBY07_1.fil..."
       ]
      },
      {
       "output_type": "stream",
       "stream": "stdout",
       "text": [
        "\n",
        "processing OBY10_1.fil..."
       ]
      },
      {
       "output_type": "stream",
       "stream": "stdout",
       "text": [
        "\n",
        "processing OBY11_1.fil..."
       ]
      },
      {
       "output_type": "stream",
       "stream": "stdout",
       "text": [
        "\n",
        "processing OBY12_1.fil..."
       ]
      },
      {
       "output_type": "stream",
       "stream": "stdout",
       "text": [
        "\n",
        "processing OBY13_1.fil..."
       ]
      },
      {
       "output_type": "stream",
       "stream": "stdout",
       "text": [
        "\n",
        "processing OBY14_1.fil..."
       ]
      },
      {
       "output_type": "stream",
       "stream": "stdout",
       "text": [
        "\n",
        "processing OBY15_1.fil..."
       ]
      },
      {
       "output_type": "stream",
       "stream": "stdout",
       "text": [
        "\n",
        "processing OU01_1.fil..."
       ]
      },
      {
       "output_type": "stream",
       "stream": "stdout",
       "text": [
        "\n",
        "processing OU03_1.fil..."
       ]
      },
      {
       "output_type": "stream",
       "stream": "stdout",
       "text": [
        "\n",
        "processing OU04_1.fil..."
       ]
      },
      {
       "output_type": "stream",
       "stream": "stdout",
       "text": [
        "\n",
        "processing OU05_1.fil..."
       ]
      },
      {
       "output_type": "stream",
       "stream": "stdout",
       "text": [
        "\n",
        "processing OU06_1.fil..."
       ]
      },
      {
       "output_type": "stream",
       "stream": "stdout",
       "text": [
        "\n",
        "processing OU07_1.fil..."
       ]
      },
      {
       "output_type": "stream",
       "stream": "stdout",
       "text": [
        "\n",
        "processing OU08_1.fil..."
       ]
      },
      {
       "output_type": "stream",
       "stream": "stdout",
       "text": [
        "\n",
        "processing OU09_1.fil..."
       ]
      },
      {
       "output_type": "stream",
       "stream": "stdout",
       "text": [
        "\n",
        "processing PED01_1.fil..."
       ]
      },
      {
       "output_type": "stream",
       "stream": "stdout",
       "text": [
        "\n",
        "processing PED02_1.fil..."
       ]
      },
      {
       "output_type": "stream",
       "stream": "stdout",
       "text": [
        "\n",
        "processing PED03_1.fil..."
       ]
      },
      {
       "output_type": "stream",
       "stream": "stdout",
       "text": [
        "\n",
        "processing PED04_1.fil..."
       ]
      },
      {
       "output_type": "stream",
       "stream": "stdout",
       "text": [
        "\n",
        "processing PED05_1.fil..."
       ]
      },
      {
       "output_type": "stream",
       "stream": "stdout",
       "text": [
        "\n",
        "processing PED06_1.fil..."
       ]
      },
      {
       "output_type": "stream",
       "stream": "stdout",
       "text": [
        "\n",
        "processing PED07_1.fil..."
       ]
      },
      {
       "output_type": "stream",
       "stream": "stdout",
       "text": [
        "\n",
        "processing PED08_1.fil..."
       ]
      },
      {
       "output_type": "stream",
       "stream": "stdout",
       "text": [
        "\n",
        "processing POLEN10_RD-P1-179_1.fil..."
       ]
      },
      {
       "output_type": "stream",
       "stream": "stdout",
       "text": [
        "\n",
        "processing POLEN1_RD-P1-170_1.fil..."
       ]
      },
      {
       "output_type": "stream",
       "stream": "stdout",
       "text": [
        "\n",
        "processing POLEN2_RD-P1-194_1.fil..."
       ]
      },
      {
       "output_type": "stream",
       "stream": "stdout",
       "text": [
        "\n",
        "processing POLEN3_RD-P1-196_1.fil..."
       ]
      },
      {
       "output_type": "stream",
       "stream": "stdout",
       "text": [
        "\n",
        "processing POLEN4_RD-P1-105_1.fil..."
       ]
      },
      {
       "output_type": "stream",
       "stream": "stdout",
       "text": [
        "\n",
        "processing POLEN5_RD-P1-107_1.fil..."
       ]
      },
      {
       "output_type": "stream",
       "stream": "stdout",
       "text": [
        "\n",
        "processing POLEN6_RD-P1-131_1.fil..."
       ]
      },
      {
       "output_type": "stream",
       "stream": "stdout",
       "text": [
        "\n",
        "processing POLEN7_RD-P1-133_1.fil..."
       ]
      },
      {
       "output_type": "stream",
       "stream": "stdout",
       "text": [
        "\n",
        "processing POLEN8_RD-P1-165_1.fil..."
       ]
      },
      {
       "output_type": "stream",
       "stream": "stdout",
       "text": [
        "\n",
        "processing POLEN9_RD-P1-171_1.fil..."
       ]
      },
      {
       "output_type": "stream",
       "stream": "stdout",
       "text": [
        "\n",
        "processing PRO01_1.fil..."
       ]
      },
      {
       "output_type": "stream",
       "stream": "stdout",
       "text": [
        "\n",
        "processing PRO02_1.fil..."
       ]
      },
      {
       "output_type": "stream",
       "stream": "stdout",
       "text": [
        "\n",
        "processing PRO03_1.fil..."
       ]
      },
      {
       "output_type": "stream",
       "stream": "stdout",
       "text": [
        "\n",
        "processing PRO04_1.fil..."
       ]
      },
      {
       "output_type": "stream",
       "stream": "stdout",
       "text": [
        "\n",
        "processing PRO05_1.fil..."
       ]
      },
      {
       "output_type": "stream",
       "stream": "stdout",
       "text": [
        "\n",
        "processing PRO06_1.fil..."
       ]
      },
      {
       "output_type": "stream",
       "stream": "stdout",
       "text": [
        "\n",
        "processing PRO07_1.fil..."
       ]
      },
      {
       "output_type": "stream",
       "stream": "stdout",
       "text": [
        "\n",
        "processing PRO08_1.fil..."
       ]
      },
      {
       "output_type": "stream",
       "stream": "stdout",
       "text": [
        "\n",
        "processing PRO9_1.fil..."
       ]
      },
      {
       "output_type": "stream",
       "stream": "stdout",
       "text": [
        "\n",
        "processing SD10_RD-P1-127_1.fil..."
       ]
      },
      {
       "output_type": "stream",
       "stream": "stdout",
       "text": [
        "\n",
        "processing SD1_RD-P1-112_1.fil..."
       ]
      },
      {
       "output_type": "stream",
       "stream": "stdout",
       "text": [
        "\n",
        "processing SD2_RD-P1-145_1.fil..."
       ]
      },
      {
       "output_type": "stream",
       "stream": "stdout",
       "text": [
        "\n",
        "processing SD3_RD-P1-147_1.fil..."
       ]
      },
      {
       "output_type": "stream",
       "stream": "stdout",
       "text": [
        "\n",
        "processing SD4_RD-P1-153_1.fil..."
       ]
      },
      {
       "output_type": "stream",
       "stream": "stdout",
       "text": [
        "\n",
        "processing SD5_RD-P1-154_1.fil..."
       ]
      },
      {
       "output_type": "stream",
       "stream": "stdout",
       "text": [
        "\n",
        "processing SD6_RD-P1-182_1.fil..."
       ]
      },
      {
       "output_type": "stream",
       "stream": "stdout",
       "text": [
        "\n",
        "processing SD7_RD-P1-185_1.fil..."
       ]
      },
      {
       "output_type": "stream",
       "stream": "stdout",
       "text": [
        "\n",
        "processing SD8_RD-P1-102_1.fil..."
       ]
      },
      {
       "output_type": "stream",
       "stream": "stdout",
       "text": [
        "\n",
        "processing SD9_RD-P1-103_1.fil..."
       ]
      },
      {
       "output_type": "stream",
       "stream": "stdout",
       "text": [
        "\n",
        "processing SK10_RD-P1-166_1.fil..."
       ]
      },
      {
       "output_type": "stream",
       "stream": "stdout",
       "text": [
        "\n",
        "processing SK1_RD-P1-128_1.fil..."
       ]
      },
      {
       "output_type": "stream",
       "stream": "stdout",
       "text": [
        "\n",
        "processing SK2_RD-P1-167_1.fil..."
       ]
      },
      {
       "output_type": "stream",
       "stream": "stdout",
       "text": [
        "\n",
        "processing SK3_RD-P1-169_1.fil..."
       ]
      },
      {
       "output_type": "stream",
       "stream": "stdout",
       "text": [
        "\n",
        "processing SK4_RD-P1-193_1.fil..."
       ]
      },
      {
       "output_type": "stream",
       "stream": "stdout",
       "text": [
        "\n",
        "processing SK5_RD-P1-195_1.fil..."
       ]
      },
      {
       "output_type": "stream",
       "stream": "stdout",
       "text": [
        "\n",
        "processing SK6_RD-P1-101_1.fil..."
       ]
      },
      {
       "output_type": "stream",
       "stream": "stdout",
       "text": [
        "\n",
        "processing SK7_RD-P1-104_1.fil..."
       ]
      },
      {
       "output_type": "stream",
       "stream": "stdout",
       "text": [
        "\n",
        "processing SK8_RD-P1-129_1.fil..."
       ]
      },
      {
       "output_type": "stream",
       "stream": "stdout",
       "text": [
        "\n",
        "processing SK9_RD-P1-130_1.fil..."
       ]
      },
      {
       "output_type": "stream",
       "stream": "stdout",
       "text": [
        "\n",
        "processing STEC10_RD-P1-149_1.fil..."
       ]
      },
      {
       "output_type": "stream",
       "stream": "stdout",
       "text": [
        "\n",
        "processing STEC1_RD-P1-147_1.fil..."
       ]
      },
      {
       "output_type": "stream",
       "stream": "stdout",
       "text": [
        "\n",
        "processing STEC2_RD-P1-153_1.fil..."
       ]
      },
      {
       "output_type": "stream",
       "stream": "stdout",
       "text": [
        "\n",
        "processing STEC3_RD-P1-154_1.fil..."
       ]
      },
      {
       "output_type": "stream",
       "stream": "stdout",
       "text": [
        "\n",
        "processing STEC4_RD-P1-182_1.fil..."
       ]
      },
      {
       "output_type": "stream",
       "stream": "stdout",
       "text": [
        "\n",
        "processing STEC5_RD-P1-185_1.fil..."
       ]
      },
      {
       "output_type": "stream",
       "stream": "stdout",
       "text": [
        "\n",
        "processing STEC6_RD-P1-113_1.fil..."
       ]
      },
      {
       "output_type": "stream",
       "stream": "stdout",
       "text": [
        "\n",
        "processing STEC7_RD-P1-115_1.fil..."
       ]
      },
      {
       "output_type": "stream",
       "stream": "stdout",
       "text": [
        "\n",
        "processing STEC8_RD-P1-141_1.fil..."
       ]
      },
      {
       "output_type": "stream",
       "stream": "stdout",
       "text": [
        "\n",
        "processing STEC9_RD-P1-142_1.fil..."
       ]
      },
      {
       "output_type": "stream",
       "stream": "stdout",
       "text": [
        "\n",
        "processing STYV01_1.fil..."
       ]
      },
      {
       "output_type": "stream",
       "stream": "stdout",
       "text": [
        "\n",
        "processing STYV02_1.fil..."
       ]
      },
      {
       "output_type": "stream",
       "stream": "stdout",
       "text": [
        "\n",
        "processing STYV03_1.fil..."
       ]
      },
      {
       "output_type": "stream",
       "stream": "stdout",
       "text": [
        "\n",
        "processing STYV04_1.fil..."
       ]
      },
      {
       "output_type": "stream",
       "stream": "stdout",
       "text": [
        "\n",
        "processing STYV05_1.fil..."
       ]
      },
      {
       "output_type": "stream",
       "stream": "stdout",
       "text": [
        "\n",
        "processing STYV06_1.fil..."
       ]
      },
      {
       "output_type": "stream",
       "stream": "stdout",
       "text": [
        "\n",
        "processing STYV07_1.fil..."
       ]
      },
      {
       "output_type": "stream",
       "stream": "stdout",
       "text": [
        "\n",
        "processing STYV08_1.fil..."
       ]
      },
      {
       "output_type": "stream",
       "stream": "stdout",
       "text": [
        "\n",
        "processing STYV09_1.fil..."
       ]
      },
      {
       "output_type": "stream",
       "stream": "stdout",
       "text": [
        "\n",
        "processing TROM02_1.fil..."
       ]
      },
      {
       "output_type": "stream",
       "stream": "stdout",
       "text": [
        "\n",
        "processing TROM03_1.fil..."
       ]
      },
      {
       "output_type": "stream",
       "stream": "stdout",
       "text": [
        "\n",
        "processing TROM04_1.fil..."
       ]
      },
      {
       "output_type": "stream",
       "stream": "stdout",
       "text": [
        "\n",
        "processing TROM09_1.fil..."
       ]
      },
      {
       "output_type": "stream",
       "stream": "stdout",
       "text": [
        "\n",
        "processing TROM11_1.fil..."
       ]
      },
      {
       "output_type": "stream",
       "stream": "stdout",
       "text": [
        "\n",
        "processing TROM12_1.fil..."
       ]
      },
      {
       "output_type": "stream",
       "stream": "stdout",
       "text": [
        "\n",
        "processing TROM16_1.fil..."
       ]
      },
      {
       "output_type": "stream",
       "stream": "stdout",
       "text": [
        "\n",
        "processing TROM17_1.fil..."
       ]
      },
      {
       "output_type": "stream",
       "stream": "stdout",
       "text": [
        "\n",
        "processing TROM18_1.fil..."
       ]
      },
      {
       "output_type": "stream",
       "stream": "stdout",
       "text": [
        "\n",
        "processing TU10_RD-P1-110_1.fil..."
       ]
      },
      {
       "output_type": "stream",
       "stream": "stdout",
       "text": [
        "\n",
        "processing TU1_RD-P1-191_1.fil..."
       ]
      },
      {
       "output_type": "stream",
       "stream": "stdout",
       "text": [
        "\n",
        "processing TU2_RD-P1-106_1.fil..."
       ]
      },
      {
       "output_type": "stream",
       "stream": "stdout",
       "text": [
        "\n",
        "processing TU3_RD-P1-108_1.fil..."
       ]
      },
      {
       "output_type": "stream",
       "stream": "stdout",
       "text": [
        "\n",
        "processing TU4_RD-P1-132_1.fil..."
       ]
      },
      {
       "output_type": "stream",
       "stream": "stdout",
       "text": [
        "\n",
        "processing TU5_RD-P1-134_1.fil..."
       ]
      },
      {
       "output_type": "stream",
       "stream": "stdout",
       "text": [
        "\n",
        "processing TU6_RD-P1-168_1.fil..."
       ]
      },
      {
       "output_type": "stream",
       "stream": "stdout",
       "text": [
        "\n",
        "processing TU7_RD-P1-172_1.fil..."
       ]
      },
      {
       "output_type": "stream",
       "stream": "stdout",
       "text": [
        "\n",
        "processing TU8_RD-P1-180_1.fil..."
       ]
      },
      {
       "output_type": "stream",
       "stream": "stdout",
       "text": [
        "\n",
        "processing TU9_RD-P1-192_1.fil..."
       ]
      },
      {
       "output_type": "stream",
       "stream": "stdout",
       "text": [
        "\n",
        "processing V11_1.fil..."
       ]
      },
      {
       "output_type": "stream",
       "stream": "stdout",
       "text": [
        "\n",
        "processing V13_1.fil..."
       ]
      },
      {
       "output_type": "stream",
       "stream": "stdout",
       "text": [
        "\n",
        "processing V1_1.fil..."
       ]
      },
      {
       "output_type": "stream",
       "stream": "stdout",
       "text": [
        "\n",
        "processing V3_1.fil..."
       ]
      },
      {
       "output_type": "stream",
       "stream": "stdout",
       "text": [
        "\n",
        "processing V5_1.fil..."
       ]
      },
      {
       "output_type": "stream",
       "stream": "stdout",
       "text": [
        "\n",
        "processing V7_1.fil..."
       ]
      },
      {
       "output_type": "stream",
       "stream": "stdout",
       "text": [
        "\n",
        "processing WEN02_1.fil..."
       ]
      },
      {
       "output_type": "stream",
       "stream": "stdout",
       "text": [
        "\n",
        "processing WEN03_1.fil..."
       ]
      },
      {
       "output_type": "stream",
       "stream": "stdout",
       "text": [
        "\n",
        "processing WEN04_1.fil..."
       ]
      },
      {
       "output_type": "stream",
       "stream": "stdout",
       "text": [
        "\n",
        "processing WEN06_1.fil..."
       ]
      },
      {
       "output_type": "stream",
       "stream": "stdout",
       "text": [
        "\n",
        "processing WEN08_1.fil..."
       ]
      },
      {
       "output_type": "stream",
       "stream": "stdout",
       "text": [
        "\n",
        "processing WEN10_1.fil..."
       ]
      },
      {
       "output_type": "stream",
       "stream": "stdout",
       "text": [
        "\n",
        "processing WEN11_1.fil..."
       ]
      },
      {
       "output_type": "stream",
       "stream": "stdout",
       "text": [
        "\n",
        "processing WEN13_1.fil..."
       ]
      },
      {
       "output_type": "stream",
       "stream": "stdout",
       "text": [
        "\n",
        "processing WEN16_1.fil..."
       ]
      },
      {
       "output_type": "stream",
       "stream": "stdout",
       "text": [
        "\n",
        "Data file written to /media/dan/34D5D1CE642D7E36/2013076_Hanfling_Bernd/Stacks/Stacks_analyses_TRIMMED/Pure_cru_only/populations_r_0.7_p_17/"
       ]
      },
      {
       "output_type": "stream",
       "stream": "stdout",
       "text": [
        "\n"
       ]
      }
     ],
     "prompt_number": 5
    },
    {
     "cell_type": "code",
     "collapsed": false,
     "input": [],
     "language": "python",
     "metadata": {},
     "outputs": []
    }
   ],
   "metadata": {}
  }
 ]
}