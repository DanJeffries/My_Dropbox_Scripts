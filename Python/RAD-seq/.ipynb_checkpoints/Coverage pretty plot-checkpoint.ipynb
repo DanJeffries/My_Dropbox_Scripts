{
 "metadata": {
  "name": "",
  "signature": "sha256:0d49ed6ca5c688bf975471efb20babc2f7c51349dc26bfc1076b6a53e25353a5"
 },
 "nbformat": 3,
 "nbformat_minor": 0,
 "worksheets": [
  {
   "cells": [
    {
     "cell_type": "code",
     "collapsed": false,
     "input": [
      "import os\n",
      "import subprocess\n",
      "import numpy as np ## Put the imports in here because, for some reason, have to import them each time a new kernel starts, or the plots are plotted over eachother\n",
      "import collections\n",
      "import pandas as pd\n",
      "import matplotlib.pyplot as plt\n",
      "import matplotlib.pylab as py\n",
      "import os\n",
      "import csv\n",
      "from collections import Counter\n",
      "import re"
     ],
     "language": "python",
     "metadata": {},
     "outputs": [],
     "prompt_number": 1
    },
    {
     "cell_type": "code",
     "collapsed": false,
     "input": [
      "directory = '/media/dan/34D5D1CE642D7E36/2013076_Hanfling_Bernd/Stacks/Stacks_analyses_V3/Incremental_tests/Batch_1/cru_gib_hyb_1'\n",
      "sample_coverage = []\n",
      "sample_names = []\n",
      "cov_values = []\n",
      "cov_data = []\n",
      "def natural_key(string_): \n",
      "        return [int(s) if s.isdigit() else s for s in re.split(r'(\\d+)', string_)]\n",
      "    \n",
      "for root, dirs, files in os.walk(directory):\n",
      "    for fil in files:\n",
      "        if fil.endswith(\"data.txt\") and 'M_' in root:\n",
      "            data_file = open(str(root+'/'+fil), 'r')\n",
      "            data = [int(i.lstrip('0')) for i in data_file.readlines()]\n",
      "            sample_coverage.append(fil.partition('_')[0] + \"\\t\" + root.split('/')[-1].split('_')[1]+\"\\t\"+ str(np.round(np.mean(data),2)))\n",
      "sample_coverage = sorted(sample_coverage, key = natural_key)\n",
      "print sample_coverage\n",
      "f = open(directory+'/all_coverage_data.txt', 'w')\n",
      "print directory+'/all_coverage_data.txt'\n",
      "for sample in sample_coverage:\n",
      "    f.write(sample+'\\n')\n",
      "f.close()"
     ],
     "language": "python",
     "metadata": {},
     "outputs": [
      {
       "output_type": "stream",
       "stream": "stdout",
       "text": [
        "['DEND2\\t0\\t19.55', 'DEND2\\t2\\t25.48', 'DEND2\\t4\\t26.4', 'DEND2\\t6\\t26.72', 'DEND2\\t8\\t26.91', 'DEND2\\t10\\t27.05', 'DEND2\\t12\\t27.18', 'DEND2\\t14\\t27.28', 'TU10\\t0\\t35.43', 'TU10\\t2\\t38.82', 'TU10\\t4\\t39.66', 'TU10\\t6\\t40.41', 'TU10\\t8\\t41.1', 'TU10\\t10\\t41.59', 'TU10\\t12\\t41.93', 'TU10\\t14\\t42.19', 'VIKKHY1\\t0\\t23.72', 'VIKKHY1\\t2\\t27.4', 'VIKKHY1\\t4\\t29.5', 'VIKKHY1\\t6\\t30.42', 'VIKKHY1\\t8\\t30.75', 'VIKKHY1\\t10\\t30.93', 'VIKKHY1\\t12\\t31.05', 'VIKKHY1\\t14\\t31.17']\n",
        "/media/dan/34D5D1CE642D7E36/2013076_Hanfling_Bernd/Stacks/Stacks_analyses_V3/Incremental_tests/Batch_1/cru_gib_hyb_1/all_coverage_data.txt\n"
       ]
      }
     ],
     "prompt_number": 16
    },
    {
     "cell_type": "code",
     "collapsed": false,
     "input": [],
     "language": "python",
     "metadata": {},
     "outputs": []
    }
   ],
   "metadata": {}
  }
 ]
}