{
 "metadata": {
  "name": "",
  "signature": "sha256:a2b4a9542e39ca3f9eb85a485a99975f6b7d5dc95a6f5e9ba6aaa0d7af9d2c38"
 },
 "nbformat": 3,
 "nbformat_minor": 0,
 "worksheets": [
  {
   "cells": [
    {
     "cell_type": "markdown",
     "metadata": {},
     "source": [
      "## Caluculating Avereage tag coverage\n"
     ]
    },
    {
     "cell_type": "code",
     "collapsed": false,
     "input": [
      "import numpy as np\n",
      "\n",
      "vcf = open(\"/media/dan/34D5D1CE642D7E36/2013076_Hanfling_Bernd/Treemix/Denovo_pooled_spp/populations_blacklisted/batch_1.vcf\", 'r')\n",
      "\n",
      "tag_means = []\n",
      "for line in vcf.readlines():\n",
      "    tag_cov = []\n",
      "    if not line.startswith(\"#\"):\n",
      "        for sample in line.split()[9:]:\n",
      "            tag_cov.append(float(sample.split(\":\")[1].strip()))\n",
      "            \n",
      "    tag_cov = np.asarray(tag_cov)\n",
      "    tag_means.append(np.mean(tag_cov))\n",
      "\n",
      "    \n",
      "nf = open(\"/media/dan/34D5D1CE642D7E36/2013076_Hanfling_Bernd/Treemix/Denovo_pooled_spp/populations_blacklisted/coverage_data.tsv\", 'w')\n",
      "    \n",
      "    \n",
      "for tag in tag_means:\n",
      "    if isinstance(tag, (int, float)):\n",
      "        nf.write(str(tag)+\"\\n\")\n",
      "\n",
      "\n"
     ],
     "language": "python",
     "metadata": {},
     "outputs": [],
     "prompt_number": 2
    }
   ],
   "metadata": {}
  }
 ]
}