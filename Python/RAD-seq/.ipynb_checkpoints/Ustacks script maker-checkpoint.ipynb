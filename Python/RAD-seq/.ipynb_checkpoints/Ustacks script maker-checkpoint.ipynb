{
 "metadata": {
  "name": "",
  "signature": "sha256:eb65d5cea1949e2eb0c66702e634d77cb8d1df4fe4b99f475be4607dea517609"
 },
 "nbformat": 3,
 "nbformat_minor": 0,
 "worksheets": [
  {
   "cells": [
    {
     "cell_type": "markdown",
     "metadata": {},
     "source": [
      "##Make scripts"
     ]
    },
    {
     "cell_type": "code",
     "collapsed": false,
     "input": [
      "import os\n",
      "\n",
      "\n",
      "def Ustacks_script_maker(parent_dir, output_dir):  ## Parent_dir = directory containing all files for Ustacking\n",
      "    samples = []\n",
      "    Ustacks_commands = []\n",
      "    for root, dirs, files in os.walk(parent_dir):\n",
      "        for fil in files:\n",
      "            if fil.endswith(\"_1\") and 'discards' not in fil:\n",
      "                samples.append(root+fil)\n",
      "                samples = sorted(samples)\n",
      "    \n",
      "    ID = 1\n",
      "    for sample in samples:\n",
      "        Ustacks_commands.append(\"ustacks -t fastq -f \"+sample+\" -d -r -i \"+str(ID)+\" -M 8 -m 8 -o \"+output_dir+\" -p 7\")\n",
      "        ID += 1\n",
      "        \n",
      "    f = open(output_dir+'Ustacks_scripts.sh', 'w')\n",
      "    f.write('#!/bin/bash\\n')\n",
      "    for command in Ustacks_commands:\n",
      "        f.write(command+'\\n')\n",
      "    f.close()    \n",
      "        \n",
      "    return Ustacks_commands\n",
      "                \n",
      "U_commands = Ustacks_script_maker('/media/dan/34D5D1CE642D7E36/2013076_Hanfling_Bernd/clone_filtered_AND_trimmed_read_1s/', '/media/dan/34D5D1CE642D7E36/2013076_Hanfling_Bernd/Stacks/Stacks_analyses_TRIMMED/Ustacks/')\n"
     ],
     "language": "python",
     "metadata": {},
     "outputs": [],
     "prompt_number": 5
    },
    {
     "cell_type": "markdown",
     "metadata": {},
     "source": [
      "##Check scripts"
     ]
    },
    {
     "cell_type": "code",
     "collapsed": false,
     "input": [
      "for command in U_commands[:10]:\n",
      "    print command"
     ],
     "language": "python",
     "metadata": {},
     "outputs": [
      {
       "output_type": "stream",
       "stream": "stdout",
       "text": [
        "ustacks -t fastq -f /media/dan/34D5D1CE642D7E36/2013076_Hanfling_Bernd/clone_filtered_AND_trimmed_read_1s/BF04_1.fil.fq_1 -d -r -i 1 -M 8 -m 8 -o /media/dan/34D5D1CE642D7E36/2013076_Hanfling_Bernd/Stacks/Stacks_analyses_TRIMMED/Ustacks/ -p 7\n",
        "ustacks -t fastq -f /media/dan/34D5D1CE642D7E36/2013076_Hanfling_Bernd/clone_filtered_AND_trimmed_read_1s/BF05_1.fil.fq_1 -d -r -i 2 -M 8 -m 8 -o /media/dan/34D5D1CE642D7E36/2013076_Hanfling_Bernd/Stacks/Stacks_analyses_TRIMMED/Ustacks/ -p 7\n",
        "ustacks -t fastq -f /media/dan/34D5D1CE642D7E36/2013076_Hanfling_Bernd/clone_filtered_AND_trimmed_read_1s/BF06_1.fil.fq_1 -d -r -i 3 -M 8 -m 8 -o /media/dan/34D5D1CE642D7E36/2013076_Hanfling_Bernd/Stacks/Stacks_analyses_TRIMMED/Ustacks/ -p 7\n",
        "ustacks -t fastq -f /media/dan/34D5D1CE642D7E36/2013076_Hanfling_Bernd/clone_filtered_AND_trimmed_read_1s/BF08_1.fil.fq_1 -d -r -i 4 -M 8 -m 8 -o /media/dan/34D5D1CE642D7E36/2013076_Hanfling_Bernd/Stacks/Stacks_analyses_TRIMMED/Ustacks/ -p 7\n",
        "ustacks -t fastq -f /media/dan/34D5D1CE642D7E36/2013076_Hanfling_Bernd/clone_filtered_AND_trimmed_read_1s/BF09_1.fil.fq_1 -d -r -i 5 -M 8 -m 8 -o /media/dan/34D5D1CE642D7E36/2013076_Hanfling_Bernd/Stacks/Stacks_analyses_TRIMMED/Ustacks/ -p 7\n",
        "ustacks -t fastq -f /media/dan/34D5D1CE642D7E36/2013076_Hanfling_Bernd/clone_filtered_AND_trimmed_read_1s/BF10_1.fil.fq_1 -d -r -i 6 -M 8 -m 8 -o /media/dan/34D5D1CE642D7E36/2013076_Hanfling_Bernd/Stacks/Stacks_analyses_TRIMMED/Ustacks/ -p 7\n",
        "ustacks -t fastq -f /media/dan/34D5D1CE642D7E36/2013076_Hanfling_Bernd/clone_filtered_AND_trimmed_read_1s/BF11_1.fil.fq_1 -d -r -i 7 -M 8 -m 8 -o /media/dan/34D5D1CE642D7E36/2013076_Hanfling_Bernd/Stacks/Stacks_analyses_TRIMMED/Ustacks/ -p 7\n",
        "ustacks -t fastq -f /media/dan/34D5D1CE642D7E36/2013076_Hanfling_Bernd/clone_filtered_AND_trimmed_read_1s/BF12_1.fil.fq_1 -d -r -i 8 -M 8 -m 8 -o /media/dan/34D5D1CE642D7E36/2013076_Hanfling_Bernd/Stacks/Stacks_analyses_TRIMMED/Ustacks/ -p 7\n",
        "ustacks -t fastq -f /media/dan/34D5D1CE642D7E36/2013076_Hanfling_Bernd/clone_filtered_AND_trimmed_read_1s/BF13_1.fil.fq_1 -d -r -i 9 -M 8 -m 8 -o /media/dan/34D5D1CE642D7E36/2013076_Hanfling_Bernd/Stacks/Stacks_analyses_TRIMMED/Ustacks/ -p 7\n",
        "ustacks -t fastq -f /media/dan/34D5D1CE642D7E36/2013076_Hanfling_Bernd/clone_filtered_AND_trimmed_read_1s/BOR01_1.fil.fq_1 -d -r -i 10 -M 8 -m 8 -o /media/dan/34D5D1CE642D7E36/2013076_Hanfling_Bernd/Stacks/Stacks_analyses_TRIMMED/Ustacks/ -p 7\n"
       ]
      }
     ],
     "prompt_number": 6
    },
    {
     "cell_type": "markdown",
     "metadata": {},
     "source": [
      "##Make bash file"
     ]
    },
    {
     "cell_type": "code",
     "collapsed": false,
     "input": [],
     "language": "python",
     "metadata": {},
     "outputs": [],
     "prompt_number": 20
    },
    {
     "cell_type": "code",
     "collapsed": false,
     "input": [],
     "language": "python",
     "metadata": {},
     "outputs": []
    }
   ],
   "metadata": {}
  }
 ]
}