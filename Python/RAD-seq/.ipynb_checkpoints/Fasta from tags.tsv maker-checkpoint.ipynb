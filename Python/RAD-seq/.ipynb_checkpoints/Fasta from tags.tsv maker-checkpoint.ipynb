{
 "metadata": {
  "name": "",
  "signature": "sha256:e2e100fd8ff969984fd012b301a914f088d792005f77a381bb198fe2c2f25e88"
 },
 "nbformat": 3,
 "nbformat_minor": 0,
 "worksheets": [
  {
   "cells": [
    {
     "cell_type": "code",
     "collapsed": false,
     "input": [
      "def fasta_maka(input_tags_file_path):\n",
      "    fasta = open(input_tags_file_path.rpartition('.')[0]+'.fa', 'w')\n",
      "    for line in open(input_tags_file_path, 'r').readlines():\n",
      "        if 'consensus' in line:\n",
      "            fasta.write('>'+ input_tags_file_path.rpartition('/')[2].split('.')[0].split('_')[0]+'|'+line.split()[2]+'\\n'+line.split()[6]+'\\n')\n",
      "    print \"DONE\"\n",
      "            "
     ],
     "language": "python",
     "metadata": {},
     "outputs": [],
     "prompt_number": 23
    },
    {
     "cell_type": "code",
     "collapsed": false,
     "input": [
      "fasta_maka('/media/dan/34D5D1CE642D7E36/2013076_Hanfling_Bernd/Stacks/Blast_tag_sharing_analysis/sample_ustacks_consensus_fastas/SWED97-3_RD-P1-144_1.fil.tags.tsv')"
     ],
     "language": "python",
     "metadata": {},
     "outputs": [
      {
       "output_type": "stream",
       "stream": "stdout",
       "text": [
        "DONE\n"
       ]
      }
     ],
     "prompt_number": 26
    },
    {
     "cell_type": "code",
     "collapsed": false,
     "input": [],
     "language": "python",
     "metadata": {},
     "outputs": []
    }
   ],
   "metadata": {}
  }
 ]
}