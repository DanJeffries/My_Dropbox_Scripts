{
 "metadata": {
  "name": "",
  "signature": "sha256:30c240ef069efb46c6ef0abce58d6fb98b6346bae376a3d01556dd326e2a2a8e"
 },
 "nbformat": 3,
 "nbformat_minor": 0,
 "worksheets": []
}