{
 "metadata": {
  "name": "",
  "signature": "sha256:f13656b924e9ab3b22ee2751d70bdaf75327fab22860ace4d3c84ffacf7b2d6f"
 },
 "nbformat": 3,
 "nbformat_minor": 0,
 "worksheets": [
  {
   "cells": [
    {
     "cell_type": "code",
     "collapsed": false,
     "input": [
      "## script to find the length of each tag in a catalog.tags.tsv file and count the number of samples it is present in\n",
      "\n",
      "import os\n",
      "\n",
      "long_line_samples = []\n",
      "short_line_samples = []\n",
      "long_lines_file = open('/media/dan/34D5D1CE642D7E36/2013076_Hanfling_Bernd/Stacks/Stacks_analyses_V3/Cstacks/crucian_only_catalog_M8_N8/LONG_batch_1.catalog.tags.tsv', 'w')\n",
      "short_lines_file = open('/media/dan/34D5D1CE642D7E36/2013076_Hanfling_Bernd/Stacks/Stacks_analyses_V3/Cstacks/crucian_only_catalog_M8_N8/SHORT_batch_1.catalog.tags.tsv', 'w')\n",
      "\n",
      "\n",
      "\n",
      "f = open('/media/dan/34D5D1CE642D7E36/2013076_Hanfling_Bernd/Stacks/Stacks_analyses_V3/Cstacks/crucian_only_catalog_M8_N8/batch_1.catalog.tags.tsv')\n",
      "\n",
      "Long_count =0\n",
      "Short_count =0\n",
      "\n",
      "for line in f.readlines():\n",
      "    if len(line.split()[8]) == 117:\n",
      "        Long_count +=1\n",
      "        long_line_samples.append(str(line.split()[3])+\"\\t\"+line.split()[8]+\"\\t\"+str(len(line.split()[7].split(','))))\n",
      "        long_lines_file.write(str(line.split()[3])+\"\\t\"+line.split()[8]+\"\\t\"+str(len(line.split()[7].split(',')))+\"\\n\")\n",
      "    else:\n",
      "        Short_count += 1\n",
      "        short_line_samples.append(str(line.split()[3])+\"\\t\"+line.split()[8]+\"\\t\"+str(len(line.split()[7].split(','))))\n",
      "        short_lines_file.write(str(line.split()[3])+\"\\t\"+line.split()[8]+\"\\t\"+str(len(line.split()[7].split(',')))+\"\\n\")\n",
      "        \n",
      "print \"Number of long lines = \", Long_count\n",
      "print \"Number of short lines = \",Short_count\n",
      "\n"
     ],
     "language": "python",
     "metadata": {},
     "outputs": [
      {
       "output_type": "stream",
       "stream": "stdout",
       "text": [
        "Number of long lines =  66138\n",
        "Number of short lines =  25739\n"
       ]
      }
     ],
     "prompt_number": 45
    },
    {
     "cell_type": "code",
     "collapsed": false,
     "input": [],
     "language": "python",
     "metadata": {},
     "outputs": []
    }
   ],
   "metadata": {}
  }
 ]
}