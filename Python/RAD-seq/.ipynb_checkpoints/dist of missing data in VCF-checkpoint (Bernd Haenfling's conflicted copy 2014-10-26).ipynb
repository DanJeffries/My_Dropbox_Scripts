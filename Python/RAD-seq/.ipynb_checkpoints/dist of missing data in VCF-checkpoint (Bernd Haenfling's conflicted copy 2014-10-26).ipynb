{
 "metadata": {
  "name": "",
  "signature": "sha256:4f0242f4d68dabe500789e703b43bdaaea9b07dd573be59becfd245086b15388"
 },
 "nbformat": 3,
 "nbformat_minor": 0,
 "worksheets": [
  {
   "cells": [
    {
     "cell_type": "code",
     "collapsed": false,
     "input": [
      "import vcf ## difficult to get the hang of, but powerful I think"
     ],
     "language": "python",
     "metadata": {},
     "outputs": []
    },
    {
     "cell_type": "code",
     "collapsed": false,
     "input": [
      "\n",
      "vcf_reader = vcf.Reader(open('./r_0.7_P_17_no_m_thresh/batch_1_test.vcf', 'r')) ## open with vcf reader\n",
      "record = vcf_reader.next() \n",
      "\n",
      "samples = vcf_reader.samples ## get all the samples in the file\n",
      "print samples\n",
      "\n",
      "missing_data_count = []\n",
      "\n",
      "for sample in samples: ## for each sample\n",
      "    print 'processing '+ sample +'...' \n",
      "    no_genotype_counter = 0 \n",
      "    for record in vcf.Reader(open('./r_0.7_P_17_no_m_thresh/batch_1_test.vcf', 'r')): ## for each record in the file (each row)\n",
      "        if record.genotype(sample)['GT'] == './.': ## If the current samples genotype for this record is missing ('./.'), count it with no_genotype_counter\n",
      "            no_genotype_counter += 1\n",
      "        \n",
      "        ### Can do a lot more with this statement - include tag ID in a separate column in the output, to see which tags are the problems.\n",
      "        \n",
      "    missing_data_count.append(sample+'\\t'+str(no_genotype_counter)) ## add the data to the list for writing - can cut this bit out and just write straight to file\n",
      "\n",
      "f = open('./r_0.7_P_17_no_m_thresh/batch_1_test_missing_data.txt', 'w')\n",
      "f.write('sample\\t#_missing_loci\\n')\n",
      "for sample in missing_data_count:\n",
      "    f.write(sample+'\\n')\n",
      "f.close()\n",
      "\n",
      "print '################ Missing data ################'    \n",
      "\n",
      "for sample in missing_data_count:\n",
      "    print sample"
     ],
     "language": "python",
     "metadata": {},
     "outputs": [
      {
       "output_type": "stream",
       "stream": "stdout",
       "text": [
        "['BF04_1.fil', 'BF05_1.fil', 'BF06_1.fil', 'BF08_1.fil', 'BF09_1.fil', 'BF10_1.fil', 'BF11_1.fil', 'BF12_1.fil', 'BF13_1.fil', 'BOR01_1.fil', 'BOR02_1.fil', 'BOR03_1.fil', 'BOR04_1.fil', 'BOR06_1.fil', 'CA-LK01_1.fil', 'CA-LK02_1.fil', 'CA-LK03_1.fil', 'CA-LK04_1.fil', 'CA-LK05_1.fil', 'CA-LK06_1.fil', 'CA-LK07_1.fil', 'CA-LK08_1.fil', 'CA-LK09_1.fil', 'CA-LK10_1.fil', 'CAKE10_RD-P1-178_1.fil', 'CAKE2_RD-P1-177_1.fil', 'CAKE3_RD-P1-183_1.fil', 'CAKE4_RD-P1-114_1.fil', 'CAKE5_RD-P1-116_1.fil', 'CAKE6_RD-P1-143_1.fil', 'CAKE7_RD-P1-148_1.fil', 'CAKE8_RD-P1-150_1.fil', 'CAKE9_RD-P1-163_1.fil', 'COP06_1.fil', 'COP07_1.fil', 'COP08_1.fil', 'COP09_1.fil', 'COP10_1.fil', 'COP11_1.fil', 'COP12_1.fil', 'COP13_1.fil', 'COP14_1.fil', 'COP15_1.fil', 'MOAT10_RD-P1-145_1.fil', 'MOAT1_RD-P1-111_1.fil', 'MOAT2_RD-P1-144_1.fil', 'MOAT3_RD-P1-146_1.fil', 'MOAT4_RD-P1-155_1.fil', 'MOAT5_RD-P1-156_1.fil', 'MOAT6_RD-P1-181_1.fil', 'MOAT7_RD-P1-184_1.fil', 'MOAT8_RD-P1-109_1.fil', 'MOAT9_RD-P1-112_1.fil', 'OBY01_1.fil', 'OBY02_1.fil', 'OBY07_1.fil', 'OBY10_1.fil', 'OBY11_1.fil', 'OBY12_1.fil', 'OBY13_1.fil', 'OBY14_1.fil', 'OBY15_1.fil', 'OU01_1.fil', 'OU03_1.fil', 'OU04_1.fil', 'OU05_1.fil', 'OU06_1.fil', 'OU07_1.fil', 'OU08_1.fil', 'OU09_1.fil', 'PED01_1.fil', 'PED02_1.fil', 'PED03_1.fil', 'PED04_1.fil', 'PED05_1.fil', 'PED06_1.fil', 'PED07_1.fil', 'PED08_1.fil', 'POLEN10_RD-P1-179_1.fil', 'POLEN1_RD-P1-170_1.fil', 'POLEN2_RD-P1-194_1.fil', 'POLEN3_RD-P1-196_1.fil', 'POLEN4_RD-P1-105_1.fil', 'POLEN5_RD-P1-107_1.fil', 'POLEN6_RD-P1-131_1.fil', 'POLEN7_RD-P1-133_1.fil', 'POLEN8_RD-P1-165_1.fil', 'POLEN9_RD-P1-171_1.fil', 'PRO01_1.fil', 'PRO02_1.fil', 'PRO03_1.fil', 'PRO04_1.fil', 'PRO05_1.fil', 'PRO06_1.fil', 'PRO07_1.fil', 'PRO08_1.fil', 'PRO9_1.fil', 'SD10_RD-P1-127_1.fil', 'SD1_RD-P1-112_1.fil', 'SD2_RD-P1-145_1.fil', 'SD3_RD-P1-147_1.fil', 'SD4_RD-P1-153_1.fil', 'SD5_RD-P1-154_1.fil', 'SD6_RD-P1-182_1.fil', 'SD7_RD-P1-185_1.fil', 'SD8_RD-P1-102_1.fil', 'SD9_RD-P1-103_1.fil', 'SK10_RD-P1-166_1.fil', 'SK1_RD-P1-128_1.fil', 'SK2_RD-P1-167_1.fil', 'SK3_RD-P1-169_1.fil', 'SK4_RD-P1-193_1.fil', 'SK5_RD-P1-195_1.fil', 'SK6_RD-P1-101_1.fil', 'SK7_RD-P1-104_1.fil', 'SK8_RD-P1-129_1.fil', 'SK9_RD-P1-130_1.fil', 'STEC10_RD-P1-149_1.fil', 'STEC1_RD-P1-147_1.fil', 'STEC2_RD-P1-153_1.fil', 'STEC3_RD-P1-154_1.fil', 'STEC4_RD-P1-182_1.fil', 'STEC5_RD-P1-185_1.fil', 'STEC6_RD-P1-113_1.fil', 'STEC7_RD-P1-115_1.fil', 'STEC8_RD-P1-141_1.fil', 'STEC9_RD-P1-142_1.fil', 'STYV01_1.fil', 'STYV02_1.fil', 'STYV03_1.fil', 'STYV04_1.fil', 'STYV05_1.fil', 'STYV06_1.fil', 'STYV07_1.fil', 'STYV08_1.fil', 'STYV09_1.fil', 'TROM02_1.fil', 'TROM03_1.fil', 'TROM04_1.fil', 'TROM09_1.fil', 'TROM11_1.fil', 'TROM12_1.fil', 'TROM16_1.fil', 'TROM17_1.fil', 'TROM18_1.fil', 'TU10_RD-P1-110_1.fil', 'TU1_RD-P1-191_1.fil', 'TU2_RD-P1-106_1.fil', 'TU3_RD-P1-108_1.fil', 'TU4_RD-P1-132_1.fil', 'TU5_RD-P1-134_1.fil', 'TU6_RD-P1-168_1.fil', 'TU7_RD-P1-172_1.fil', 'TU8_RD-P1-180_1.fil', 'TU9_RD-P1-192_1.fil', 'V11_1.fil', 'V13_1.fil', 'V1_1.fil', 'V3_1.fil', 'V5_1.fil', 'V7_1.fil', 'WEN02_1.fil', 'WEN03_1.fil', 'WEN04_1.fil', 'WEN06_1.fil', 'WEN08_1.fil', 'WEN10_1.fil', 'WEN11_1.fil', 'WEN13_1.fil', 'WEN16_1.fil']\n",
        "processing BF04_1.fil...\n"
       ]
      },
      {
       "ename": "KeyboardInterrupt",
       "evalue": "",
       "output_type": "pyerr",
       "traceback": [
        "\u001b[1;31m---------------------------------------------------------------------------\u001b[0m\n\u001b[1;31mKeyboardInterrupt\u001b[0m                         Traceback (most recent call last)",
        "\u001b[1;32m<ipython-input-95-767dd85c94ad>\u001b[0m in \u001b[0;36m<module>\u001b[1;34m()\u001b[0m\n\u001b[0;32m     11\u001b[0m     \u001b[1;32mprint\u001b[0m \u001b[1;34m'processing '\u001b[0m\u001b[1;33m+\u001b[0m \u001b[0msample\u001b[0m \u001b[1;33m+\u001b[0m\u001b[1;34m'...'\u001b[0m\u001b[1;33m\u001b[0m\u001b[0m\n\u001b[0;32m     12\u001b[0m     \u001b[0mno_genotype_counter\u001b[0m \u001b[1;33m=\u001b[0m \u001b[1;36m0\u001b[0m\u001b[1;33m\u001b[0m\u001b[0m\n\u001b[1;32m---> 13\u001b[1;33m     \u001b[1;32mfor\u001b[0m \u001b[0mrecord\u001b[0m \u001b[1;32min\u001b[0m \u001b[0mvcf\u001b[0m\u001b[1;33m.\u001b[0m\u001b[0mReader\u001b[0m\u001b[1;33m(\u001b[0m\u001b[0mopen\u001b[0m\u001b[1;33m(\u001b[0m\u001b[1;34m'./r_0.7_P_17_no_m_thresh/batch_1_test.vcf'\u001b[0m\u001b[1;33m,\u001b[0m \u001b[1;34m'r'\u001b[0m\u001b[1;33m)\u001b[0m\u001b[1;33m)\u001b[0m\u001b[1;33m:\u001b[0m \u001b[1;31m## for each record in the file (each row)\u001b[0m\u001b[1;33m\u001b[0m\u001b[0m\n\u001b[0m\u001b[0;32m     14\u001b[0m         \u001b[1;32mif\u001b[0m \u001b[0mrecord\u001b[0m\u001b[1;33m.\u001b[0m\u001b[0mgenotype\u001b[0m\u001b[1;33m(\u001b[0m\u001b[0msample\u001b[0m\u001b[1;33m)\u001b[0m\u001b[1;33m[\u001b[0m\u001b[1;34m'GT'\u001b[0m\u001b[1;33m]\u001b[0m \u001b[1;33m==\u001b[0m \u001b[1;34m'./.'\u001b[0m\u001b[1;33m:\u001b[0m \u001b[1;31m## If the current samples genotype for this record is missing ('./.'), count it with no_genotype_counter\u001b[0m\u001b[1;33m\u001b[0m\u001b[0m\n\u001b[0;32m     15\u001b[0m             \u001b[0mno_genotype_counter\u001b[0m \u001b[1;33m+=\u001b[0m \u001b[1;36m1\u001b[0m\u001b[1;33m\u001b[0m\u001b[0m\n",
        "\u001b[1;32m/usr/local/lib/python2.7/dist-packages/vcf/parser.pyc\u001b[0m in \u001b[0;36mnext\u001b[1;34m(self)\u001b[0m\n\u001b[0;32m    580\u001b[0m \u001b[1;33m\u001b[0m\u001b[0m\n\u001b[0;32m    581\u001b[0m         \u001b[1;32mif\u001b[0m \u001b[0mfmt\u001b[0m \u001b[1;32mis\u001b[0m \u001b[1;32mnot\u001b[0m \u001b[0mNone\u001b[0m\u001b[1;33m:\u001b[0m\u001b[1;33m\u001b[0m\u001b[0m\n\u001b[1;32m--> 582\u001b[1;33m             \u001b[0msamples\u001b[0m \u001b[1;33m=\u001b[0m \u001b[0mself\u001b[0m\u001b[1;33m.\u001b[0m\u001b[0m_parse_samples\u001b[0m\u001b[1;33m(\u001b[0m\u001b[0mrow\u001b[0m\u001b[1;33m[\u001b[0m\u001b[1;36m9\u001b[0m\u001b[1;33m:\u001b[0m\u001b[1;33m]\u001b[0m\u001b[1;33m,\u001b[0m \u001b[0mfmt\u001b[0m\u001b[1;33m,\u001b[0m \u001b[0mrecord\u001b[0m\u001b[1;33m)\u001b[0m\u001b[1;33m\u001b[0m\u001b[0m\n\u001b[0m\u001b[0;32m    583\u001b[0m             \u001b[0mrecord\u001b[0m\u001b[1;33m.\u001b[0m\u001b[0msamples\u001b[0m \u001b[1;33m=\u001b[0m \u001b[0msamples\u001b[0m\u001b[1;33m\u001b[0m\u001b[0m\n\u001b[0;32m    584\u001b[0m \u001b[1;33m\u001b[0m\u001b[0m\n",
        "\u001b[1;32m/usr/local/lib/python2.7/dist-packages/vcf/parser.pyc\u001b[0m in \u001b[0;36m_parse_samples\u001b[1;34m(self, samples, samp_fmt, site)\u001b[0m\n\u001b[0;32m    445\u001b[0m         \u001b[1;32mif\u001b[0m \u001b[0mcparse\u001b[0m\u001b[1;33m:\u001b[0m\u001b[1;33m\u001b[0m\u001b[0m\n\u001b[0;32m    446\u001b[0m             return cparse.parse_samples(\n\u001b[1;32m--> 447\u001b[1;33m                 self.samples, samples, samp_fmt, samp_fmt._types, samp_fmt._nums, site)\n\u001b[0m\u001b[0;32m    448\u001b[0m \u001b[1;33m\u001b[0m\u001b[0m\n\u001b[0;32m    449\u001b[0m         \u001b[0msamp_data\u001b[0m \u001b[1;33m=\u001b[0m \u001b[1;33m[\u001b[0m\u001b[1;33m]\u001b[0m\u001b[1;33m\u001b[0m\u001b[0m\n",
        "\u001b[1;32m/usr/local/lib/python2.7/dist-packages/vcf/cparse.so\u001b[0m in \u001b[0;36mvcf.cparse.parse_samples (vcf/cparse.c:1866)\u001b[1;34m()\u001b[0m\n",
        "\u001b[1;32m/usr/local/lib/python2.7/dist-packages/vcf/model.pyc\u001b[0m in \u001b[0;36m__init__\u001b[1;34m(self, site, sample, data)\u001b[0m\n\u001b[0;32m     25\u001b[0m \u001b[1;33m\u001b[0m\u001b[0m\n\u001b[0;32m     26\u001b[0m         \u001b[1;32mif\u001b[0m \u001b[0mhasattr\u001b[0m\u001b[1;33m(\u001b[0m\u001b[0mself\u001b[0m\u001b[1;33m.\u001b[0m\u001b[0mdata\u001b[0m\u001b[1;33m,\u001b[0m \u001b[1;34m'GT'\u001b[0m\u001b[1;33m)\u001b[0m\u001b[1;33m:\u001b[0m\u001b[1;33m\u001b[0m\u001b[0m\n\u001b[1;32m---> 27\u001b[1;33m             \u001b[0mself\u001b[0m\u001b[1;33m.\u001b[0m\u001b[0mgt_alleles\u001b[0m \u001b[1;33m=\u001b[0m \u001b[1;33m[\u001b[0m\u001b[1;33m(\u001b[0m\u001b[0mal\u001b[0m \u001b[1;32mif\u001b[0m \u001b[0mal\u001b[0m \u001b[1;33m!=\u001b[0m \u001b[1;34m'.'\u001b[0m \u001b[1;32melse\u001b[0m \u001b[0mNone\u001b[0m\u001b[1;33m)\u001b[0m \u001b[1;32mfor\u001b[0m \u001b[0mal\u001b[0m \u001b[1;32min\u001b[0m \u001b[0mallele_delimiter\u001b[0m\u001b[1;33m.\u001b[0m\u001b[0msplit\u001b[0m\u001b[1;33m(\u001b[0m\u001b[0mself\u001b[0m\u001b[1;33m.\u001b[0m\u001b[0mdata\u001b[0m\u001b[1;33m.\u001b[0m\u001b[0mGT\u001b[0m\u001b[1;33m)\u001b[0m\u001b[1;33m]\u001b[0m\u001b[1;33m\u001b[0m\u001b[0m\n\u001b[0m\u001b[0;32m     28\u001b[0m             \u001b[0mself\u001b[0m\u001b[1;33m.\u001b[0m\u001b[0mploidity\u001b[0m \u001b[1;33m=\u001b[0m \u001b[0mlen\u001b[0m\u001b[1;33m(\u001b[0m\u001b[0mself\u001b[0m\u001b[1;33m.\u001b[0m\u001b[0mgt_alleles\u001b[0m\u001b[1;33m)\u001b[0m\u001b[1;33m\u001b[0m\u001b[0m\n\u001b[0;32m     29\u001b[0m             \u001b[0mself\u001b[0m\u001b[1;33m.\u001b[0m\u001b[0mcalled\u001b[0m \u001b[1;33m=\u001b[0m \u001b[0mall\u001b[0m\u001b[1;33m(\u001b[0m\u001b[1;33m[\u001b[0m\u001b[0mal\u001b[0m \u001b[1;33m!=\u001b[0m \u001b[0mNone\u001b[0m \u001b[1;32mfor\u001b[0m \u001b[0mal\u001b[0m \u001b[1;32min\u001b[0m \u001b[0mself\u001b[0m\u001b[1;33m.\u001b[0m\u001b[0mgt_alleles\u001b[0m\u001b[1;33m]\u001b[0m\u001b[1;33m)\u001b[0m\u001b[1;33m\u001b[0m\u001b[0m\n",
        "\u001b[1;31mKeyboardInterrupt\u001b[0m: "
       ]
      }
     ],
     "prompt_number": 95
    },
    {
     "cell_type": "code",
     "collapsed": false,
     "input": [],
     "language": "python",
     "metadata": {},
     "outputs": []
    }
   ],
   "metadata": {}
  }
 ]
}