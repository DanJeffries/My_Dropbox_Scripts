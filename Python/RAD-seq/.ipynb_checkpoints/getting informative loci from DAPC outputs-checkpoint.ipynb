{
 "metadata": {
  "name": "",
  "signature": "sha256:596d5809b7156adbfbb9969baf18bbe528a37a087c2d41ba922b3f0cdd0b6cb1"
 },
 "nbformat": 3,
 "nbformat_minor": 0,
 "worksheets": [
  {
   "cells": [
    {
     "cell_type": "code",
     "collapsed": false,
     "input": [
      "## Get the names of all loci into a dict of {DAPC's internal name : true name}\n",
      "\n",
      "\n",
      "DAPC_all_loci = {}\n",
      "for locus in open(\"/media/dan//34D5D1CE642D7E36//2013076_Hanfling_Bernd/Stacks/Stacks_analyses_TRIMMED/Pure_cru_only/populations_r07_p17_m8/All_loci_DAPC_indx.csv\", 'r').readlines():\n",
      "    DAPC_all_loci[locus.strip().split(\",\")[0][1:-1]] = locus.strip().split(\",\")[1][1:-1]\n",
      "\n",
      "\n",
      "\n",
      "## Get a list of the DAPC loci names that are the informative loci\n",
      "\n",
      "DAPC_inf_loci = []\n",
      "\n",
      "for inf_loc in open(\"/media/dan//34D5D1CE642D7E36//2013076_Hanfling_Bernd/Stacks/Stacks_analyses_TRIMMED/Pure_cru_only/populations_r07_p17_m8/highly_informative_loci_NEUvariation.csv\", 'r').readlines():\n",
      "    DAPC_inf_loci.append(inf_loc.split(\",\")[1].strip()[1:-1])\n",
      "\n",
      "### Look for the DAPC internal index in the dictionary, and extract the true name ## \n",
      "\n",
      "real_names = []\n",
      "\n",
      "for key in DAPC_all_loci.keys():\n",
      "    for DAPC_inf_loc in DAPC_inf_loci:\n",
      "        if DAPC_inf_loc == key.lstrip(\"L\").lstrip(\"0\"):  ## lstrip is getting rid of leading L's and zeros.\n",
      "            real_names.append(DAPC_all_loci[key])\n",
      "len(set(real_names))\n",
      "\n",
      "## extract these from the vcf! ##\n",
      "\n",
      "nf = open(\"/media/dan//34D5D1CE642D7E36//2013076_Hanfling_Bernd/Stacks/Stacks_analyses_TRIMMED/Pure_cru_only/populations_r07_p17_m8/NEU_DAPC_inf_loci_only.vcf\", 'w')\n",
      "\n",
      "## first get headers into new file ##\n",
      "\n",
      "for line in open(\"/media/dan//34D5D1CE642D7E36//2013076_Hanfling_Bernd/Stacks/Stacks_analyses_TRIMMED/Pure_cru_only/populations_r07_p17_m8/batch_1_single_SNP.vcf\").readlines():\n",
      "    if line.startswith(\"#\"):\n",
      "        nf.write(line)\n",
      "\n",
      "        \n",
      "## then get the right lines in there ##\n",
      "\n",
      "for name in real_names:\n",
      "    for line in open(\"/media/dan//34D5D1CE642D7E36//2013076_Hanfling_Bernd/Stacks/Stacks_analyses_TRIMMED/Pure_cru_only/populations_r07_p17_m8/batch_1_single_SNP.vcf\").readlines()[8:]:   ## 8 onwards cos of headers \n",
      "        if name.split(\"_\")[0].strip() == line.split()[2].strip():\n",
      "            nf.write(line)\n",
      "\n",
      "print \"done\"\n",
      "print \"data saved in \"+\"/media/dan//34D5D1CE642D7E36//2013076_Hanfling_Bernd/Stacks/Stacks_analyses_TRIMMED/Pure_cru_only/populations_r07_p17_m8/NEU_DAPC_inf_loci_only.vcf\"  \n"
     ],
     "language": "python",
     "metadata": {},
     "outputs": [
      {
       "output_type": "stream",
       "stream": "stdout",
       "text": [
        "done\n",
        "data saved in /media/dan//34D5D1CE642D7E36//2013076_Hanfling_Bernd/Stacks/Stacks_analyses_TRIMMED/Pure_cru_only/populations_r07_p17_m8/NEU_DAPC_inf_loci_only.vcf\n"
       ]
      }
     ],
     "prompt_number": 46
    }
   ],
   "metadata": {}
  }
 ]
}