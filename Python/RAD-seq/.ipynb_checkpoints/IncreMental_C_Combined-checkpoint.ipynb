{
 "metadata": {
  "name": "",
  "signature": "sha256:dd673437fdb2977c3b5c55b555dad48f1216cdd20a94c536b63ff3c79d7f099c"
 },
 "nbformat": 3,
 "nbformat_minor": 0,
 "worksheets": [
  {
   "cells": [
    {
     "cell_type": "code",
     "collapsed": true,
     "input": [
      "## Load modules and functions\n",
      "\n",
      "import os\n",
      "import subprocess\n",
      "import matplotlib\n",
      "from matplotlib_venn import venn3\n",
      "from matplotlib import pyplot as plt\n",
      "import numpy as np\n",
      "import re"
     ],
     "language": "python",
     "metadata": {},
     "outputs": [],
     "prompt_number": 1
    },
    {
     "cell_type": "code",
     "collapsed": false,
     "input": [
      "'/media/dan/34D5D1CE642D7E36/2013076_Hanfling_Bernd/Stacks/Stacks_analyses_V3/Incremental_tests/Batch_1/cru_gib_hyb_1/Final_Ustacks_outputs/'.rpartition('/')[0].rpartition('/')[0]+'/IncreMental_C/'"
     ],
     "language": "python",
     "metadata": {},
     "outputs": [
      {
       "metadata": {},
       "output_type": "pyout",
       "prompt_number": 2,
       "text": [
        "'/media/dan/34D5D1CE642D7E36/2013076_Hanfling_Bernd/Stacks/Stacks_analyses_V3/Incremental_tests/Batch_1/cru_gib_hyb_1/IncreMental_C/'"
       ]
      }
     ],
     "prompt_number": 2
    },
    {
     "cell_type": "heading",
     "level": 2,
     "metadata": {},
     "source": [
      "## Define the incrementation function"
     ]
    },
    {
     "cell_type": "code",
     "collapsed": false,
     "input": [
      "parent_directory_path = '/media/dan/34D5D1CE642D7E36/2013076_Hanfling_Bernd/Stacks/Stacks_analyses_V3/Incremental_tests/Batch_1/cru_gib_hyb_1/Final_Ustacks_outputs/'\n",
      "\n",
      "\n",
      "def natural_key(string_): \n",
      "    return [int(s) if s.isdigit() else s for s in re.split(r'(\\d+)', string_)]\n",
      "\n",
      "def Sample_finder(parent_dir):\n",
      "    sample_prefixes = []\n",
      "    sample_list = []\n",
      "    all_samples = []\n",
      "    for root, dirs, files in os.walk(parent_dir):\n",
      "        for fil in files:\n",
      "            if fil.endswith(\"tags.tsv\") and 'catalog' not in fil:\n",
      "                sample_prefixes.append(fil.partition('.')[0]+'.fil')\n",
      "                sample_prefixes_set= sorted(set(sample_prefixes))\n",
      "    print sample_prefixes_set\n",
      "        \n",
      "    for sample in sample_prefixes_set:\n",
      "        sample_list.append(' -s '+ parent_directory_path + sample)\n",
      "    all_samples = ''.join(sample_list) ## This is a cool way of joining the elements in a list to give a string\n",
      "    \n",
      "    return all_samples\n",
      "        \n",
      "Samples = Sample_finder(parent_directory_path)\n",
      "\n",
      "sample_names = []\n",
      "for sample in Samples.split():\n",
      "   if sample.startswith('/'):\n",
      "       sample_names.append(sample.split('/')[-1].split('_')[0])\n",
      "print sample_names\n",
      "\n",
      "   ################### \n",
      "####### TAG SHARE #######\n",
      "   ################### \n",
      "    \n",
      "def Tag_share(directory):\n",
      "    \n",
      "    ## Adjust global fonts to make figures a bit neater\n",
      "\n",
      "    font = {'family' : 'sans','weight' : 'bold','size'   : 4}\n",
      "    matplotlib.rc('font', **font)\n",
      "\n",
      "    ## Define lists\n",
      "    Sample1 = []\n",
      "    Sample2 = []\n",
      "    Sample3 = []\n",
      "    plot_y = []\n",
      "    shared = []\n",
      "        \n",
      "    ## Get the catalog files\n",
      "    catalog_files = []\n",
      "    for root, dirs, files in os.walk(str(directory.rpartition('/')[0].rpartition('/')[0]+'/IncreMental_C/')):\n",
      "        for fil in files:\n",
      "            if 'batch' in fil and 'tags' in fil:\n",
      "                catalog_files.append(root + '/' + fil)\n",
      "    catalog_files = sorted(catalog_files, key = natural_key)  ## I love this natural key function!\n",
      "    print 'catalog files = ', catalog_files\n",
      "    ## Plot number for subplots\n",
      "    plot_number = 1 ## start plot number at 1 (increment in loops)\n",
      "\n",
      "    ##Open Figure\n",
      "    fig = plt.figure()\n",
      "    plt.subplots_adjust(hspace = 0.5) ## Adjust space between plots\n",
      "\n",
      "    ## For each catalog file\n",
      "    for catalog in catalog_files:\n",
      "        f = open(catalog, 'r') ## Open file\n",
      "        seqNumber = 1 ## Start seqNumber\n",
      "        for line in f.readlines():\n",
      "            locfield = line.strip().split()[7].split(',') ## Isolate and split the relevant column\n",
      "\n",
      "    ## Assign the seqNumber to a list depending on which individuals it is present in\n",
      "            for loc in locfield:\n",
      "                if loc.startswith('1'): \n",
      "                    Sample1.append(seqNumber) ### Find a way to give these list names automatically\n",
      "                if loc.startswith('2'):\n",
      "                    Sample2.append(seqNumber)\n",
      "                if loc.startswith('3'):\n",
      "                    Sample3.append(seqNumber)\n",
      "            seqNumber += 1  ## Increment seq number after every line (tag)\n",
      "    \n",
      "        common = set(Sample1) & set(Sample2) & set(Sample3)\n",
      "        shared.append(len(list(common)))\n",
      "    \n",
      "    \n",
      "        ## Add the venn diagram as a subplot of the main figure\n",
      "    \n",
      "        fig.add_subplot(np.round(((len(catalog_files))/4)+1),np.round((len(catalog_files)+1)/2),plot_number)\n",
      "            \n",
      "        ## Get the sample names for the labels in the venn diagram\n",
      "        sample_names = []\n",
      "        for sample in Samples.split():\n",
      "            if sample.startswith('/'):\n",
      "                sample_names.append(sample.split('/')[-1].split('_')[0])\n",
      "\n",
      "        venn3([set(Sample1), set(Sample2), set(Sample3)], (sample_names[0], sample_names[1], sample_names[2]))\n",
      "        plt.title(catalog.split('/')[-2], fontsize = 20)\n",
      "    \n",
      "        plot_y.append(catalog.split('/')[-2])\n",
      "    \n",
      "    \n",
      "        print catalog.split('/')[-2]+' Catalog done'\n",
      "    \n",
      "        ## Reset lists\n",
      "        Sample1 = []\n",
      "        Sample2 = []\n",
      "        Sample3 = []\n",
      "        ## Increment plot number\n",
      "        plot_number += 1\n",
      "\n",
      "    ## save plot\n",
      "    plt.savefig(parent_directory_path.rpartition('/')[0].rpartition('/')[0]+'/IncreMental_C/' + \"Tag_sharing.pdf\")\n",
      "\n",
      "    ##Close Venn plot   \n",
      "\n",
      "    plt.close('all')\n",
      "\n",
      "    ## Plot the change in number of tags shared between all individuals\n",
      "\n",
      "    plt.scatter(range(0,len(shared),1),shared)\n",
      "    plt.plot(range(0,len(shared),1),shared) ## Manually input the same parameter range used in incremental IncreMental here for the x axis labels.\n",
      "    plt.title(\" Change in number of tags shared between all indivs in catalog\", fontsize = 15)\n",
      "    plt.xlabel(plot_y, fontsize = 10)\n",
      "    plt.ylabel(\"Number of tags\", fontsize = 10)\n",
      "    plt.xticks(fontsize = 10)\n",
      "    plt.yticks(fontsize = 10)\n",
      "\n",
      "    plt.savefig(parent_directory_path.rpartition('/')[0].rpartition('/')[0]+'/IncreMental_C/' + 'Change_in_tag_sharing.pdf')\n",
      "    plt.close('all')\n",
      "\n",
      "    print 'finished'\n",
      "        \n",
      "Tag_share(parent_directory_path)"
     ],
     "language": "python",
     "metadata": {},
     "outputs": [
      {
       "output_type": "stream",
       "stream": "stdout",
       "text": [
        "['DEND2_RD-P1-129_1.fil', 'TU10_RD-P1-110_1.fil', 'VIKKHY1_RD-P1-146_1.fil']\n",
        "['DEND2', 'TU10', 'VIKKHY1']\n",
        "catalog files =  ['/media/dan/34D5D1CE642D7E36/2013076_Hanfling_Bernd/Stacks/Stacks_analyses_V3/Incremental_tests/Batch_1/cru_gib_hyb_1/IncreMental_C/n_tests/n_0/batch_0.catalog.tags.tsv', '/media/dan/34D5D1CE642D7E36/2013076_Hanfling_Bernd/Stacks/Stacks_analyses_V3/Incremental_tests/Batch_1/cru_gib_hyb_1/IncreMental_C/n_tests/n_2/batch_0.catalog.tags.tsv', '/media/dan/34D5D1CE642D7E36/2013076_Hanfling_Bernd/Stacks/Stacks_analyses_V3/Incremental_tests/Batch_1/cru_gib_hyb_1/IncreMental_C/n_tests/n_4/batch_0.catalog.tags.tsv', '/media/dan/34D5D1CE642D7E36/2013076_Hanfling_Bernd/Stacks/Stacks_analyses_V3/Incremental_tests/Batch_1/cru_gib_hyb_1/IncreMental_C/n_tests/n_6/batch_0.catalog.tags.tsv', '/media/dan/34D5D1CE642D7E36/2013076_Hanfling_Bernd/Stacks/Stacks_analyses_V3/Incremental_tests/Batch_1/cru_gib_hyb_1/IncreMental_C/n_tests/n_8/batch_0.catalog.tags.tsv', '/media/dan/34D5D1CE642D7E36/2013076_Hanfling_Bernd/Stacks/Stacks_analyses_V3/Incremental_tests/Batch_1/cru_gib_hyb_1/IncreMental_C/n_tests/n_10/batch_0.catalog.tags.tsv', '/media/dan/34D5D1CE642D7E36/2013076_Hanfling_Bernd/Stacks/Stacks_analyses_V3/Incremental_tests/Batch_1/cru_gib_hyb_1/IncreMental_C/n_tests/n_12/batch_0.catalog.tags.tsv', '/media/dan/34D5D1CE642D7E36/2013076_Hanfling_Bernd/Stacks/Stacks_analyses_V3/Incremental_tests/Batch_1/cru_gib_hyb_1/IncreMental_C/n_tests/n_14/batch_0.catalog.tags.tsv']\n",
        "n_0 Catalog done"
       ]
      },
      {
       "output_type": "stream",
       "stream": "stdout",
       "text": [
        "\n",
        "n_2 Catalog done"
       ]
      },
      {
       "output_type": "stream",
       "stream": "stdout",
       "text": [
        "\n",
        "n_4 Catalog done"
       ]
      },
      {
       "output_type": "stream",
       "stream": "stdout",
       "text": [
        "\n",
        "n_6 Catalog done"
       ]
      },
      {
       "output_type": "stream",
       "stream": "stdout",
       "text": [
        "\n",
        "n_8 Catalog done"
       ]
      },
      {
       "output_type": "stream",
       "stream": "stdout",
       "text": [
        "\n",
        "n_10 Catalog done"
       ]
      },
      {
       "output_type": "stream",
       "stream": "stdout",
       "text": [
        "\n",
        "n_12 Catalog done"
       ]
      },
      {
       "output_type": "stream",
       "stream": "stdout",
       "text": [
        "\n",
        "n_14 Catalog done"
       ]
      },
      {
       "output_type": "stream",
       "stream": "stdout",
       "text": [
        "\n",
        "finished"
       ]
      },
      {
       "output_type": "stream",
       "stream": "stdout",
       "text": [
        "\n"
       ]
      },
      {
       "output_type": "stream",
       "stream": "stderr",
       "text": [
        "/usr/local/lib/python2.7/dist-packages/matplotlib_venn/_venn3.py:58: UserWarning: Circle C has zero area\n",
        "  warnings.warn(\"Circle C has zero area\")\n"
       ]
      }
     ],
     "prompt_number": 3
    },
    {
     "cell_type": "code",
     "collapsed": false,
     "input": [
      "def IncreMental_C(param, start_value, stop_value, increment, parent_directory_path, threads): ## could add batch number in too?\n",
      "    \n",
      "    ## param = string - the Cstacks parameter to increment - only n is supported atm\n",
      "    ## start_value = integer - The lowest parameter value to use   \n",
      "    ## stop value = integer - The increment above the highest parameter value to use (because range func does not include the upper value itself)\n",
      "    ## increment = integer - The factor by which to increment, i.e. 2 means that it will output every multiple of 2 between the start and stop value\n",
      "    ## parent_directory_path = string - the parent_dir_path should be the folder containing the final Ustacks outputs \n",
      "    ## threads = integer - number of computer threads to use\n",
      "    \n",
      "    \n",
      "## Helper functions ##\n",
      "    \n",
      "    ## Natural Sorting function - sorts in order of 1,2,3,10,20, not 1,10,2,20,3\n",
      "    def natural_key(string_): \n",
      "        return [int(s) if s.isdigit() else s for s in re.split(r'(\\d+)', string_)]\n",
      "    \n",
      "    ## Bash file execute function\n",
      "    def execute(bash_file):\n",
      "        f = open(str(bash_file), 'r')\n",
      "        script = f.read()\n",
      "        subprocess.call(script, shell=True)\n",
      "        print script\n",
      "    \n",
      "    ## Function to get the sample file prefixes and out put them with a '-s' in front of them    \n",
      "    def Sample_finder(parent_dir):\n",
      "        sample_prefixes = []\n",
      "        sample_list = []\n",
      "        all_samples = []\n",
      "        for root, dirs, files in os.walk(parent_dir):\n",
      "            for fil in files:\n",
      "                if fil.endswith(\"tags.tsv\") and 'catalog' not in fil:\n",
      "                    sample_prefixes.append(fil.partition('.')[0]+'.fil')\n",
      "                    sample_prefixes_set= sorted(set(sample_prefixes))\n",
      "        print sample_prefixes_set\n",
      "        \n",
      "        for sample in sample_prefixes_set:\n",
      "            sample_list.append(' -s '+ parent_directory_path + sample)\n",
      "        all_samples = ''.join(sample_list) ## This is a cool way of joining the elements in a list to give a string\n",
      "    \n",
      "        return all_samples\n",
      "        \n",
      "    Samples = Sample_finder(parent_directory_path)\n",
      "    \n",
      "\n",
      "  \n",
      "    ##lists and parameter value range and command templates  \n",
      "    param_values = range(start_value, stop_value, increment)\n",
      "    param_value_list = []\n",
      "    ncommand = 'mkdir '+''.join(parent_directory_path.rpartition('/')[0].rpartition('/')[0])+ '/IncreMental_C/n_tests/n_x/; cstacks -n x -p '+str(threads)+ str(Samples)+ ' -o '+parent_directory_path.rpartition('/')[0].rpartition('/')[0]+ '/IncreMental_C/n_tests/n_x/ ;\\n'\n",
      "    ncommand_list = []\n",
      "\n",
      "    print (\"Parameter values =\" + str(param_values))\n",
      "\n",
      "\n",
      "    ## -N left as default(M+2)\n",
      "    ## -m kept at 6\n",
      "    ## These can be iterated by modifying the Mcommand or mcommand, likewise -d and -r can be removed if needed\n",
      "        \n",
      "    ## for each parameter value, replace the 'x' with the value and add it to the list for the bash script\n",
      "    for value in param_values:\n",
      "        ncommand_list.append(ncommand.replace(\"x\", str(value)))\n",
      "    \n",
      "    f = open(parent_directory_path.rpartition('/')[0].rpartition('/')[0]+\"/Cstacks_commands.sh\", 'w')\n",
      "    f.write(\"#!/bin/bash\\n\\nmkdir \"+parent_directory_path.rpartition('/')[0].rpartition('/')[0]+\"/IncreMental_C\\nmkdir \"+ parent_directory_path.rpartition('/')[0].rpartition('/')[0] + \"/IncreMental_C/n_tests/\\n\") ## make sure the sample name here is the same as the input file minus the suffix\n",
      "    \n",
      "    for command in ncommand_list:\n",
      "        f.write(command)\n",
      "    f.close()\n",
      "    \n",
      "    execute(parent_directory_path.rpartition('/')[0].rpartition('/')[0]+\"/Cstacks_commands.sh\")\n",
      "    \n",
      "    \n",
      "   ################### \n",
      "####### TAG SHARE #######\n",
      "   ################### \n",
      "    \n",
      "    def Tag_share(directory):\n",
      "    \n",
      "        ## Adjust global fonts to make figures a bit neater\n",
      "\n",
      "        font = {'family' : 'sans','weight' : 'bold','size'   : 4}\n",
      "        matplotlib.rc('font', **font)\n",
      "\n",
      "        ## Define lists\n",
      "        Sample1 = []\n",
      "        Sample2 = []\n",
      "        Sample3 = []\n",
      "        plot_y = []\n",
      "        shared = []\n",
      "        \n",
      "        ## Get the catalog files\n",
      "        catalog_files = []\n",
      "        for root, dirs, files in os.walk(directory.rpartition('/')[0].rpartition('/')[0]+'/IncreMental_C/'):\n",
      "            for fil in files:\n",
      "                if 'batch' in fil and 'tags' in fil:\n",
      "                    catalog_files.append(root + '/' + fil)\n",
      "        catalog_files = sorted(catalog_files, key = natural_key)  ## I love this natural key function!\n",
      "\n",
      "        ## Plot number for subplots\n",
      "        plot_number = 1 ## start plot number at 1 (increment in loops)\n",
      "\n",
      "        ##Open Figure\n",
      "        fig = plt.figure()\n",
      "        plt.subplots_adjust(hspace = 0.5) ## Adjust space between plots\n",
      "\n",
      "        ## For each catalog file\n",
      "        for catalog in catalog_files:\n",
      "            f = open(catalog, 'r') ## Open file\n",
      "            seqNumber = 1 ## Start seqNumber\n",
      "            for line in f.readlines():\n",
      "                locfield = line.strip().split()[7].split(',') ## Isolate and split the relevant column\n",
      "\n",
      "        ## Assign the seqNumber to a list depending on which individuals it is present in\n",
      "                for loc in locfield:\n",
      "                    if loc.startswith('1'): \n",
      "                        Sample1.append(seqNumber) ### Find a way to give these list names automatically\n",
      "                    if loc.startswith('2'):\n",
      "                        Sample2.append(seqNumber)\n",
      "                    if loc.startswith('3'):\n",
      "                        Sample3.append(seqNumber)\n",
      "                seqNumber += 1  ## Increment seq number after every line (tag)\n",
      "    \n",
      "            common = set(Sample1) & set(Sample2) & set(Sample3)\n",
      "            shared.append(len(list(common)))\n",
      "    \n",
      "    \n",
      "            ## Add the venn diagram as a subplot of the main figure\n",
      "    \n",
      "            fig.add_subplot(np.round(((len(catalog_files))/4)+1),np.round((len(catalog_files)+1)/2),plot_number)\n",
      "            \n",
      "            ## Get the sample names for the labels in the venn diagram\n",
      "            sample_names = []\n",
      "            for sample in Samples.split():\n",
      "                if sample.startswith('/'):\n",
      "                    sample_names.append(sample.split('/')[-1].split('_')[0])\n",
      "\n",
      "            venn3([set(Sample1), set(Sample2), set(Sample3)], (sample_names[0], sample_names[1], sample_names[2]))\n",
      "            plt.title(catalog.split('/')[-2], fontsize = 20)\n",
      "    \n",
      "            plot_y.append(catalog.split('/')[-2])\n",
      "    \n",
      "    \n",
      "            print catalog.split('/')[-2]+' Catalog done'\n",
      "    \n",
      "            ## Reset lists\n",
      "            Sample1 = []\n",
      "            Sample2 = []\n",
      "            Sample3 = []\n",
      "            ## Increment plot number\n",
      "            plot_number += 1\n",
      "\n",
      "        ## save plot\n",
      "        plt.savefig(parent_directory_path.rpartition('/')[0].rpartition('/')[0]+'/IncreMental_C/' + \"Tag_sharing.pdf\")\n",
      "\n",
      "        ##Close Venn plot   \n",
      "\n",
      "        plt.close('all')\n",
      "\n",
      "        ## Plot the change in number of tags shared between all individuals\n",
      "\n",
      "        plt.scatter(range(0,len(shared),1),shared)\n",
      "        plt.plot(range(0,len(shared),1),shared) ## Manually input the same parameter range used in incremental IncreMental here for the x axis labels.\n",
      "        plt.title(\" Change in number of tags shared between all indivs in catalog\", fontsize = 15)\n",
      "        plt.xlabel(plot_y, fontsize = 10)\n",
      "        plt.ylabel(\"Number of tags\", fontsize = 10)\n",
      "        plt.xticks(fontsize = 10)\n",
      "        plt.yticks(fontsize = 10)\n",
      "\n",
      "        plt.savefig(parent_directory_path.rpartition('/')[0].rpartition('/')[0]+'/IncreMental_C/' + 'Change_in_tag_sharing.pdf')\n",
      "        plt.close('all')\n",
      "\n",
      "        print 'finished'\n",
      "        \n",
      "    Tag_share(parent_directory_path)"
     ],
     "language": "python",
     "metadata": {},
     "outputs": [],
     "prompt_number": 5
    },
    {
     "cell_type": "code",
     "collapsed": false,
     "input": [
      "IncreMental_C('n', 0, 12, 2, '/media/dan/34D5D1CE642D7E36/2013076_Hanfling_Bernd/Stacks/Stacks_analyses_V3/Incremental_tests/Batch_2/cru_gold_putHyb/Final_Ustacks_outputs/', 8)\n",
      "\n",
      "## I think the samples are going in properly! Now get the figs in the right places\n",
      "## the parent_dir_path should be the folder containing the final Ustacks outputs."
     ],
     "language": "python",
     "metadata": {},
     "outputs": [
      {
       "output_type": "stream",
       "stream": "stdout",
       "text": [
        "['BF04_1.fil', 'EP01_1.fil', 'GBP7_RD-P1-127_1.fil']\n",
        "Parameter values =[0, 2, 4, 6, 8, 10]\n",
        "#!/bin/bash\n",
        "\n",
        "mkdir /media/dan/34D5D1CE642D7E36/2013076_Hanfling_Bernd/Stacks/Stacks_analyses_V3/Incremental_tests/Batch_2/cru_gold_putHyb/IncreMental_C\n",
        "mkdir /media/dan/34D5D1CE642D7E36/2013076_Hanfling_Bernd/Stacks/Stacks_analyses_V3/Incremental_tests/Batch_2/cru_gold_putHyb/IncreMental_C/n_tests/\n",
        "mkdir /media/dan/34D5D1CE642D7E36/2013076_Hanfling_Bernd/Stacks/Stacks_analyses_V3/Incremental_tests/Batch_2/cru_gold_putHyb/IncreMental_C/n_tests/n_0/; cstacks -n 0 -p 8 -s /media/dan/34D5D1CE642D7E36/2013076_Hanfling_Bernd/Stacks/Stacks_analyses_V3/Incremental_tests/Batch_2/cru_gold_putHyb/Final_Ustacks_outputs/BF04_1.fil -s /media/dan/34D5D1CE642D7E36/2013076_Hanfling_Bernd/Stacks/Stacks_analyses_V3/Incremental_tests/Batch_2/cru_gold_putHyb/Final_Ustacks_outputs/EP01_1.fil -s /media/dan/34D5D1CE642D7E36/2013076_Hanfling_Bernd/Stacks/Stacks_analyses_V3/Incremental_tests/Batch_2/cru_gold_putHyb/Final_Ustacks_outputs/GBP7_RD-P1-127_1.fil -o /media/dan/34D5D1CE642D7E36/2013076_Hanfling_Bernd/Stacks/Stacks_analyses_V3/Incremental_tests/Batch_2/cru_gold_putHyb/IncreMental_C/n_tests/n_0/ ;\n",
        "mkdir /media/dan/34D5D1CE642D7E36/2013076_Hanfling_Bernd/Stacks/Stacks_analyses_V3/Incremental_tests/Batch_2/cru_gold_putHyb/IncreMental_C/n_tests/n_2/; cstacks -n 2 -p 8 -s /media/dan/34D5D1CE642D7E36/2013076_Hanfling_Bernd/Stacks/Stacks_analyses_V3/Incremental_tests/Batch_2/cru_gold_putHyb/Final_Ustacks_outputs/BF04_1.fil -s /media/dan/34D5D1CE642D7E36/2013076_Hanfling_Bernd/Stacks/Stacks_analyses_V3/Incremental_tests/Batch_2/cru_gold_putHyb/Final_Ustacks_outputs/EP01_1.fil -s /media/dan/34D5D1CE642D7E36/2013076_Hanfling_Bernd/Stacks/Stacks_analyses_V3/Incremental_tests/Batch_2/cru_gold_putHyb/Final_Ustacks_outputs/GBP7_RD-P1-127_1.fil -o /media/dan/34D5D1CE642D7E36/2013076_Hanfling_Bernd/Stacks/Stacks_analyses_V3/Incremental_tests/Batch_2/cru_gold_putHyb/IncreMental_C/n_tests/n_2/ ;\n",
        "mkdir /media/dan/34D5D1CE642D7E36/2013076_Hanfling_Bernd/Stacks/Stacks_analyses_V3/Incremental_tests/Batch_2/cru_gold_putHyb/IncreMental_C/n_tests/n_4/; cstacks -n 4 -p 8 -s /media/dan/34D5D1CE642D7E36/2013076_Hanfling_Bernd/Stacks/Stacks_analyses_V3/Incremental_tests/Batch_2/cru_gold_putHyb/Final_Ustacks_outputs/BF04_1.fil -s /media/dan/34D5D1CE642D7E36/2013076_Hanfling_Bernd/Stacks/Stacks_analyses_V3/Incremental_tests/Batch_2/cru_gold_putHyb/Final_Ustacks_outputs/EP01_1.fil -s /media/dan/34D5D1CE642D7E36/2013076_Hanfling_Bernd/Stacks/Stacks_analyses_V3/Incremental_tests/Batch_2/cru_gold_putHyb/Final_Ustacks_outputs/GBP7_RD-P1-127_1.fil -o /media/dan/34D5D1CE642D7E36/2013076_Hanfling_Bernd/Stacks/Stacks_analyses_V3/Incremental_tests/Batch_2/cru_gold_putHyb/IncreMental_C/n_tests/n_4/ ;\n",
        "mkdir /media/dan/34D5D1CE642D7E36/2013076_Hanfling_Bernd/Stacks/Stacks_analyses_V3/Incremental_tests/Batch_2/cru_gold_putHyb/IncreMental_C/n_tests/n_6/; cstacks -n 6 -p 8 -s /media/dan/34D5D1CE642D7E36/2013076_Hanfling_Bernd/Stacks/Stacks_analyses_V3/Incremental_tests/Batch_2/cru_gold_putHyb/Final_Ustacks_outputs/BF04_1.fil -s /media/dan/34D5D1CE642D7E36/2013076_Hanfling_Bernd/Stacks/Stacks_analyses_V3/Incremental_tests/Batch_2/cru_gold_putHyb/Final_Ustacks_outputs/EP01_1.fil -s /media/dan/34D5D1CE642D7E36/2013076_Hanfling_Bernd/Stacks/Stacks_analyses_V3/Incremental_tests/Batch_2/cru_gold_putHyb/Final_Ustacks_outputs/GBP7_RD-P1-127_1.fil -o /media/dan/34D5D1CE642D7E36/2013076_Hanfling_Bernd/Stacks/Stacks_analyses_V3/Incremental_tests/Batch_2/cru_gold_putHyb/IncreMental_C/n_tests/n_6/ ;\n",
        "mkdir /media/dan/34D5D1CE642D7E36/2013076_Hanfling_Bernd/Stacks/Stacks_analyses_V3/Incremental_tests/Batch_2/cru_gold_putHyb/IncreMental_C/n_tests/n_8/; cstacks -n 8 -p 8 -s /media/dan/34D5D1CE642D7E36/2013076_Hanfling_Bernd/Stacks/Stacks_analyses_V3/Incremental_tests/Batch_2/cru_gold_putHyb/Final_Ustacks_outputs/BF04_1.fil -s /media/dan/34D5D1CE642D7E36/2013076_Hanfling_Bernd/Stacks/Stacks_analyses_V3/Incremental_tests/Batch_2/cru_gold_putHyb/Final_Ustacks_outputs/EP01_1.fil -s /media/dan/34D5D1CE642D7E36/2013076_Hanfling_Bernd/Stacks/Stacks_analyses_V3/Incremental_tests/Batch_2/cru_gold_putHyb/Final_Ustacks_outputs/GBP7_RD-P1-127_1.fil -o /media/dan/34D5D1CE642D7E36/2013076_Hanfling_Bernd/Stacks/Stacks_analyses_V3/Incremental_tests/Batch_2/cru_gold_putHyb/IncreMental_C/n_tests/n_8/ ;\n",
        "mkdir /media/dan/34D5D1CE642D7E36/2013076_Hanfling_Bernd/Stacks/Stacks_analyses_V3/Incremental_tests/Batch_2/cru_gold_putHyb/IncreMental_C/n_tests/n_10/; cstacks -n 10 -p 8 -s /media/dan/34D5D1CE642D7E36/2013076_Hanfling_Bernd/Stacks/Stacks_analyses_V3/Incremental_tests/Batch_2/cru_gold_putHyb/Final_Ustacks_outputs/BF04_1.fil -s /media/dan/34D5D1CE642D7E36/2013076_Hanfling_Bernd/Stacks/Stacks_analyses_V3/Incremental_tests/Batch_2/cru_gold_putHyb/Final_Ustacks_outputs/EP01_1.fil -s /media/dan/34D5D1CE642D7E36/2013076_Hanfling_Bernd/Stacks/Stacks_analyses_V3/Incremental_tests/Batch_2/cru_gold_putHyb/Final_Ustacks_outputs/GBP7_RD-P1-127_1.fil -o /media/dan/34D5D1CE642D7E36/2013076_Hanfling_Bernd/Stacks/Stacks_analyses_V3/Incremental_tests/Batch_2/cru_gold_putHyb/IncreMental_C/n_tests/n_10/ ;\n"
       ]
      },
      {
       "output_type": "stream",
       "stream": "stdout",
       "text": [
        "\n",
        "n_0 Catalog done"
       ]
      },
      {
       "output_type": "stream",
       "stream": "stdout",
       "text": [
        "\n",
        "n_2 Catalog done"
       ]
      },
      {
       "output_type": "stream",
       "stream": "stdout",
       "text": [
        "\n",
        "n_4 Catalog done"
       ]
      },
      {
       "output_type": "stream",
       "stream": "stdout",
       "text": [
        "\n",
        "n_6 Catalog done"
       ]
      },
      {
       "output_type": "stream",
       "stream": "stdout",
       "text": [
        "\n",
        "n_8 Catalog done"
       ]
      },
      {
       "output_type": "stream",
       "stream": "stdout",
       "text": [
        "\n",
        "n_10 Catalog done"
       ]
      },
      {
       "output_type": "stream",
       "stream": "stdout",
       "text": [
        "\n",
        "finished"
       ]
      },
      {
       "output_type": "stream",
       "stream": "stdout",
       "text": [
        "\n"
       ]
      }
     ],
     "prompt_number": 7
    },
    {
     "cell_type": "code",
     "collapsed": false,
     "input": [
      "## Think of the best way to do this - should there be a final run of Ustacks using the parameters chosen and these outputs used for the Cstacks bit?"
     ],
     "language": "python",
     "metadata": {},
     "outputs": [],
     "prompt_number": 219
    },
    {
     "cell_type": "code",
     "collapsed": false,
     "input": [
      "'/media/dan/34D5D1CE642D7E36/2013076_Hanfling_Bernd/Stacks/Stacks_analyses_V3/Incremental_tests/Batch_1/cru_gib_hyb_1/Final_Ustacks_outputs/'.rpartition('/')[0].rpartition('/')[0]"
     ],
     "language": "python",
     "metadata": {},
     "outputs": [
      {
       "metadata": {},
       "output_type": "pyout",
       "prompt_number": 246,
       "text": [
        "'/media/dan/34D5D1CE642D7E36/2013076_Hanfling_Bernd/Stacks/Stacks_analyses_V3/Incremental_tests/Batch_1/cru_gib_hyb_1'"
       ]
      }
     ],
     "prompt_number": 246
    },
    {
     "cell_type": "code",
     "collapsed": false,
     "input": [],
     "language": "python",
     "metadata": {},
     "outputs": []
    }
   ],
   "metadata": {}
  }
 ]
}