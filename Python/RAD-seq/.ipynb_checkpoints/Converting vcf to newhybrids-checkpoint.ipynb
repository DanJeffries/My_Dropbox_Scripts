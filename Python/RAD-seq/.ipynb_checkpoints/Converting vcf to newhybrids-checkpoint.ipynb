{
 "metadata": {
  "name": "",
  "signature": "sha256:6055aca22177d6d760495dbb54af857f9ff8f5206d3931f6840e4616124b6e35"
 },
 "nbformat": 3,
 "nbformat_minor": 0,
 "worksheets": [
  {
   "cells": [
    {
     "cell_type": "markdown",
     "metadata": {},
     "source": [
      "### Converting VCF to Newhybrids format..\n"
     ]
    },
    {
     "cell_type": "code",
     "collapsed": false,
     "input": [
      "\n",
      "nf = open(\"/media/dan/34D5D1CE642D7E36/2013076_Hanfling_Bernd/Stacks/Stacks_analyses_TRIMMED/With_reference/Data_links/pstacks_all/PopPool_analysis_r0.5_p_all4/NewHybs_2.txt\", 'w')\n",
      "\n",
      "\n",
      "## Convert Data to 1s and 2s ... and write to a separate file ###\n",
      "\n",
      "## made file in bash from vcf by just cutting first couple of columns and getting rid of header lines ...\n",
      "for line in open(\"/media/dan/34D5D1CE642D7E36/2013076_Hanfling_Bernd/Stacks/Stacks_analyses_TRIMMED/With_reference/Data_links/pstacks_all/PopPool_analysis_r0.5_p_all4/Newhybs_1.txt\", 'r').readlines():\n",
      "    for sample in line.split():\n",
      "        if sample.split(':')[0] == '1/1':\n",
      "            nf.write('22\\t')\n",
      "        elif sample.split(':')[0] == '0/0':\n",
      "            nf.write('11\\t')\n",
      "        elif sample.split(':')[0] == '0/1':\n",
      "            nf.write('12\\t')\n",
      "        elif sample.split(':')[0] == '1/0':\n",
      "            nf.write('21\\t')\n",
      "        elif sample.split(':')[0] == './.':\n",
      "            nf.write('0\\t')\n",
      "    nf.write('\\n')\n",
      "    \n",
      "nf.close()\n",
      "\n",
      "\n",
      "\n"
     ],
     "language": "python",
     "metadata": {},
     "outputs": [],
     "prompt_number": 152
    },
    {
     "cell_type": "heading",
     "level": 3,
     "metadata": {},
     "source": [
      "### Now transpose that file, and write it with headers to final file"
     ]
    },
    {
     "cell_type": "code",
     "collapsed": false,
     "input": [
      "\n",
      "    \n",
      "nf_Td = open(\"/media/dan/34D5D1CE642D7E36/2013076_Hanfling_Bernd/Stacks/Stacks_analyses_TRIMMED/With_reference/Data_links/pstacks_all/PopPool_analysis_r0.5_p_all4/NewHybs_Final.txt\", 'w')\n",
      "\n",
      "### Get file header info ####\n",
      "\n",
      "Number_of_samples = len(open(\"/media/dan/34D5D1CE642D7E36/2013076_Hanfling_Bernd/Stacks/Stacks_analyses_TRIMMED/With_reference/Data_links/pstacks_all/PopPool_analysis_r0.5_p_all4/Newhybs_1.txt\", 'r').readlines()[0].split())\n",
      "Number_of_loci = (len(open(\"/media/dan/34D5D1CE642D7E36/2013076_Hanfling_Bernd/Stacks/Stacks_analyses_TRIMMED/With_reference/Data_links/pstacks_all/PopPool_analysis_r0.5_p_all4/Newhybs_1.txt\", 'r').readlines())-1)\n",
      "\n",
      "Loc_names = []\n",
      "for line in open(\"/media/dan/34D5D1CE642D7E36/2013076_Hanfling_Bernd/Stacks/Stacks_analyses_TRIMMED/With_reference/Data_links/pstacks_all/PopPool_analysis_r0.5_p_all4/batch_1_single_snp.vcf\", 'r').readlines():\n",
      "    if '#' not in line:\n",
      "        Loc_names.append(line.split()[2])\n",
      "\n",
      "print 'Number of samples = '+str(Number_of_samples)\n",
      "print 'Number of loci = '+str(Number_of_loci)\n",
      "\n",
      "#### write file header ####\n",
      "\n",
      "nf_Td.write(\"NumIndivs \"+str(Number_of_samples)+\"\\nNumLoci \"+str(Number_of_loci)+\"\\nDigits 1\\nFormat Lumped\\nLocusNames\\t\")\n",
      "nf_Td.writelines(\"%s\\t\" % name for name in Loc_names)\n",
      "            \n",
      "            \n",
      " #### Transpose #####\n",
      "\n",
      "with open(\"/media/dan/34D5D1CE642D7E36/2013076_Hanfling_Bernd/Stacks/Stacks_analyses_TRIMMED/With_reference/Data_links/pstacks_all/PopPool_analysis_r0.5_p_all4/NewHybs_2.txt\", 'rb') as the_file:\n",
      "    lis = [x.split() for x in the_file]\n",
      "    for x in zip(*lis[1:]): ## start from second element because the first is just a newline (The \"*\" in this tells zip to take the elements in the \"lis\" argument, not the thing \"lis\" itself)\n",
      "        for y in x:\n",
      "            nf_Td.write(y+'\\t')\n",
      "        nf_Td.write('\\n')\n",
      "## This transposing bit is very useful! Need to become more comfortable with this...\n",
      "\n",
      "nf_Td.close()\n",
      "\n",
      "print \"Done\"\n"
     ],
     "language": "python",
     "metadata": {},
     "outputs": [
      {
       "output_type": "stream",
       "stream": "stdout",
       "text": [
        "Number of samples = 246\n",
        "Number of loci = 4953\n"
       ]
      }
     ],
     "prompt_number": 159
    }
   ],
   "metadata": {}
  }
 ]
}