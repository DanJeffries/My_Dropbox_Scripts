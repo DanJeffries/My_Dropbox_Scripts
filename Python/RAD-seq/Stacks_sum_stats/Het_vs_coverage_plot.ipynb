{
 "cells": [
  {
   "cell_type": "markdown",
   "metadata": {},
   "source": [
    "### This script retrieves the data to make the heterozygosity vs coverage plot for idfentifying under merged loci in RADseq!"
   ]
  },
  {
   "cell_type": "code",
   "execution_count": 73,
   "metadata": {
    "collapsed": true
   },
   "outputs": [],
   "source": [
    "## uses the BP for each snp as its uniq identifier"
   ]
  },
  {
   "cell_type": "code",
   "execution_count": 4,
   "metadata": {
    "collapsed": false
   },
   "outputs": [
    {
     "name": "stdout",
     "output_type": "stream",
     "text": [
      "['T1', 'T2', 'T3', 'T4', 'T5', 'T6', 'T7', 'T8', 'T9', 'T10', 'T11', 'T12', 'T13', 'T14', 'T15', 'T16', 'T17', 'T18', 'T19', 'T20', 'T21', 'T22', 'T23', 'T24', 'T25', 'T26', 'T27', 'T28', 'T29', 'T30', 'T31', 'T32', 'T33', 'T34', 'T35', 'T36', 'T37', 'T38', 'T39', 'T40', 'T41', 'T42', 'T43', 'T44', 'T45', 'T46', 'T47', 'T48', 'T49', 'T50', 'T51', 'T52', 'T53', 'T54', 'T55', 'T56', 'T57', 'T58', 'T59', 'T60', 'T61', 'T62', 'T63', 'T64', 'T65', 'T66', 'T67', 'T68', 'T69', 'T70', 'T71', 'T72', 'T73', 'T74', 'T75', 'T76', 'T77', 'T78', 'T79', 'T80', 'P1', 'P2']\n"
     ]
    }
   ],
   "source": [
    "popmap = open(\"/home/djeffrie/Data/Ribe_LM/pop_map_clutch.txt\", 'r')\n",
    "samples = []\n",
    "for line in popmap:\n",
    "    samples.append(line.strip().split()[0])\n",
    "print samples"
   ]
  },
  {
   "cell_type": "code",
   "execution_count": 5,
   "metadata": {
    "collapsed": false
   },
   "outputs": [
    {
     "ename": "SyntaxError",
     "evalue": "invalid syntax (<ipython-input-5-9f17d991c5c2>, line 1)",
     "output_type": "error",
     "traceback": [
      "\u001b[1;36m  File \u001b[1;32m\"<ipython-input-5-9f17d991c5c2>\"\u001b[1;36m, line \u001b[1;32m1\u001b[0m\n\u001b[1;33m    In fact, I need to look into the presence of homeologs!import vcf\u001b[0m\n\u001b[1;37m          ^\u001b[0m\n\u001b[1;31mSyntaxError\u001b[0m\u001b[1;31m:\u001b[0m invalid syntax\n"
     ]
    }
   ],
   "source": [
    "In fact, I need to look into the presence of homeologs!import vcf\n",
    "import numpy as np\n",
    "from __future__ import division\n",
    "\n",
    "def HetvsCov(parent_dir):\n",
    "    \n",
    "    ufvcf = open(parent_dir+\"/batch_1.vcf.altered\", 'r')\n",
    "    #Ho_filtered_vcf = open(parent_dir+\"/batch_1.vcf\", 'r')\n",
    "    ufout_file = open(parent_dir+\"/Unfiltered_cov_vs_het_ammended.txt\", 'w')\n",
    "    #Ho_filtered_out =  open(parent_dir+\"/Pure_cru_Ho_filtered_cov_vs_het_ammended.txt\", 'w')\n",
    "    \n",
    "    \n",
    "    def het_cov_finder(_vcf, out_file):\n",
    "        vcf_reader = vcf.Reader(_vcf)\n",
    "        out_file.write(\"SNP\\tAv_cov\\thet\\n\")\n",
    "\n",
    "        \n",
    "        ## for hybrids only get cov data and het from vcf\n",
    "        \n",
    "        hybrids = samples\n",
    "        \n",
    "        snp_data = {}\n",
    "        for record in vcf_reader:\n",
    "            snp_data[record.POS] = []\n",
    "            snp_coverage = []\n",
    "            snp_het = 0\n",
    "            snp_hom = 0\n",
    "            sample_counter = 0\n",
    "            for sample in record.samples:\n",
    "                for hybrid in hybrids:\n",
    "                    if hybrid in sample.sample:\n",
    "        \n",
    "                        if sample['GT'] == \"0/1\" or sample['GT'] == \"1/0\":\n",
    "                            snp_het += 1\n",
    "                            sample_counter += 1 ## only count sample if it is present at that locus\n",
    "                            snp_coverage.append(int(sample['DP']))\n",
    "                        elif sample['GT'] == \"1/1\" or sample['GT'] == \"0/0\":\n",
    "                            snp_hom += 1\n",
    "                            sample_counter += 1\n",
    "                            snp_coverage.append(int(sample['DP']))\n",
    "                        else:\n",
    "                            pass\n",
    "        \n",
    "            if not sample_counter == 0:\n",
    "            \n",
    "                snp_average_coverage = np.mean(snp_coverage)\n",
    "                snp_heterozygosity = snp_het/sample_counter\n",
    "                out_file.write(\"%s\\t%s\\t%s\\n\" %(record.POS, snp_average_coverage, snp_heterozygosity))\n",
    "            \n",
    "            else:\n",
    "                pass \n",
    "            \n",
    "            \n",
    "        out_file.close()\n",
    "\n",
    "    het_cov_finder(ufvcf, ufout_file)\n",
    "    #het_cov_finder(Ho_filtered_vcf, Ho_filtered_out)\n"
   ]
  },
  {
   "cell_type": "code",
   "execution_count": 6,
   "metadata": {
    "collapsed": false
   },
   "outputs": [],
   "source": [
    "HetvsCov(\"/home/djeffrie/Data/Ribe_LM/\")"
   ]
  },
  {
   "cell_type": "code",
   "execution_count": null,
   "metadata": {
    "collapsed": true
   },
   "outputs": [],
   "source": []
  },
  {
   "cell_type": "code",
   "execution_count": 28,
   "metadata": {
    "collapsed": false
   },
   "outputs": [
    {
     "name": "stdout",
     "output_type": "stream",
     "text": [
      "/media/dan/34D5D1CE642D7E36/2013076_Hanfling_Bernd/Stacks/Stacks_analyses_TRIMMED/With_reference/Data_links/pstacks_m_4/populations_tests/populations_p27_r07_m5/\n",
      "None\n",
      "/media/dan/34D5D1CE642D7E36/2013076_Hanfling_Bernd/Stacks/Stacks_analyses_TRIMMED/With_reference/Data_links/pstacks_m_4/populations_tests/populations_p27_r00.5/\n",
      "None\n",
      "/media/dan/34D5D1CE642D7E36/2013076_Hanfling_Bernd/Stacks/Stacks_analyses_TRIMMED/With_reference/Data_links/pstacks_m_4/populations_tests/populations_p27_r00.6/\n",
      "None\n",
      "/media/dan/34D5D1CE642D7E36/2013076_Hanfling_Bernd/Stacks/Stacks_analyses_TRIMMED/With_reference/Data_links/pstacks_m_4/populations_tests/populations_p27_r00.7/\n",
      "None\n",
      "/media/dan/34D5D1CE642D7E36/2013076_Hanfling_Bernd/Stacks/Stacks_analyses_TRIMMED/With_reference/Data_links/pstacks_m_4/populations_tests/populations_p27_r00.8/\n",
      "None\n",
      "/media/dan/34D5D1CE642D7E36/2013076_Hanfling_Bernd/Stacks/Stacks_analyses_TRIMMED/With_reference/Data_links/pstacks_m_4/populations_tests/populations_p27_r00.9/\n",
      "None\n",
      "/media/dan/34D5D1CE642D7E36/2013076_Hanfling_Bernd/Stacks/Stacks_analyses_TRIMMED/With_reference/Data_links/pstacks_m_4/populations_tests/populations_p27_r01.0/\n",
      "None\n",
      "/media/dan/34D5D1CE642D7E36/2013076_Hanfling_Bernd/Stacks/Stacks_analyses_TRIMMED/With_reference/Data_links/pstacks_m_4/populations_tests/populations_p27_r07_m1/\n",
      "None\n",
      "/media/dan/34D5D1CE642D7E36/2013076_Hanfling_Bernd/Stacks/Stacks_analyses_TRIMMED/With_reference/Data_links/pstacks_m_4/populations_tests/populations_p27_r07_m2/\n",
      "None\n",
      "/media/dan/34D5D1CE642D7E36/2013076_Hanfling_Bernd/Stacks/Stacks_analyses_TRIMMED/With_reference/Data_links/pstacks_m_4/populations_tests/populations_p27_r07_m3/\n",
      "None\n",
      "/media/dan/34D5D1CE642D7E36/2013076_Hanfling_Bernd/Stacks/Stacks_analyses_TRIMMED/With_reference/Data_links/pstacks_m_4/populations_tests/populations_p27_r07_m4/\n",
      "None\n",
      "/media/dan/34D5D1CE642D7E36/2013076_Hanfling_Bernd/Stacks/Stacks_analyses_TRIMMED/With_reference/Data_links/pstacks_m_4/populations_tests/populations_p27_r07_m6/\n",
      "None\n",
      "/media/dan/34D5D1CE642D7E36/2013076_Hanfling_Bernd/Stacks/Stacks_analyses_TRIMMED/With_reference/Data_links/pstacks_m_4/populations_tests/populations_p27_r07_m7/\n",
      "None\n",
      "/media/dan/34D5D1CE642D7E36/2013076_Hanfling_Bernd/Stacks/Stacks_analyses_TRIMMED/With_reference/Data_links/pstacks_m_4/populations_tests/populations_p27_r07_m8/\n",
      "None\n",
      "/media/dan/34D5D1CE642D7E36/2013076_Hanfling_Bernd/Stacks/Stacks_analyses_TRIMMED/With_reference/Data_links/pstacks_m_4/populations_tests/populations__p25_r07/\n",
      "None\n",
      "/media/dan/34D5D1CE642D7E36/2013076_Hanfling_Bernd/Stacks/Stacks_analyses_TRIMMED/With_reference/Data_links/pstacks_m_4/populations_tests/populations__p26_r07/\n",
      "None\n",
      "/media/dan/34D5D1CE642D7E36/2013076_Hanfling_Bernd/Stacks/Stacks_analyses_TRIMMED/With_reference/Data_links/pstacks_m_4/populations_tests/populations__p27_r07/\n",
      "None\n",
      "/media/dan/34D5D1CE642D7E36/2013076_Hanfling_Bernd/Stacks/Stacks_analyses_TRIMMED/With_reference/Data_links/pstacks_m_4/populations_tests/populations__p28_r07/\n",
      "None\n",
      "/media/dan/34D5D1CE642D7E36/2013076_Hanfling_Bernd/Stacks/Stacks_analyses_TRIMMED/With_reference/Data_links/pstacks_m_4/populations_tests/populations__p29_r07/\n",
      "None\n",
      "/media/dan/34D5D1CE642D7E36/2013076_Hanfling_Bernd/Stacks/Stacks_analyses_TRIMMED/With_reference/Data_links/pstacks_m_4/populations_tests/populations__p30_r07/\n",
      "None\n",
      "/media/dan/34D5D1CE642D7E36/2013076_Hanfling_Bernd/Stacks/Stacks_analyses_TRIMMED/With_reference/Data_links/pstacks_m_4/populations_tests/populations__p31_r07/\n",
      "None\n",
      "/media/dan/34D5D1CE642D7E36/2013076_Hanfling_Bernd/Stacks/Stacks_analyses_TRIMMED/With_reference/Data_links/pstacks_m_4/populations_tests/Pure_cru_populations_for_blacklisting_p17_r07/\n",
      "None\n"
     ]
    }
   ],
   "source": [
    "## batch\n",
    "import os\n",
    "\n",
    "for root, dirs, files in os.walk(\"/media/dan/34D5D1CE642D7E36/2013076_Hanfling_Bernd/Stacks/Stacks_analyses_TRIMMED/With_reference/Data_links/pstacks_m_4/populations_tests/\"):\n",
    "    for file in files:\n",
    "        if \"batch_1.vcf\" in file:\n",
    "            par_dir = \"%s/\" %(root)\n",
    "            print par_dir\n",
    "            print HetvsCov(par_dir)\n",
    "            \n"
   ]
  },
  {
   "cell_type": "code",
   "execution_count": 29,
   "metadata": {
    "collapsed": false
   },
   "outputs": [
    {
     "name": "stdout",
     "output_type": "stream",
     "text": [
      "/media/dan/34D5D1CE642D7E36/2013076_Hanfling_Bernd/Stacks/Stacks_analyses_TRIMMED/All_samples_M4_m4_N4/populations_tests/populations_p27_r07_m5/\n",
      "None\n",
      "/media/dan/34D5D1CE642D7E36/2013076_Hanfling_Bernd/Stacks/Stacks_analyses_TRIMMED/All_samples_M4_m4_N4/populations_tests/populations_p27_r00.5/\n",
      "None\n",
      "/media/dan/34D5D1CE642D7E36/2013076_Hanfling_Bernd/Stacks/Stacks_analyses_TRIMMED/All_samples_M4_m4_N4/populations_tests/populations_p27_r00.6/\n",
      "None\n",
      "/media/dan/34D5D1CE642D7E36/2013076_Hanfling_Bernd/Stacks/Stacks_analyses_TRIMMED/All_samples_M4_m4_N4/populations_tests/populations_p27_r00.7/\n",
      "None\n",
      "/media/dan/34D5D1CE642D7E36/2013076_Hanfling_Bernd/Stacks/Stacks_analyses_TRIMMED/All_samples_M4_m4_N4/populations_tests/populations_p27_r00.8/\n",
      "None\n",
      "/media/dan/34D5D1CE642D7E36/2013076_Hanfling_Bernd/Stacks/Stacks_analyses_TRIMMED/All_samples_M4_m4_N4/populations_tests/populations_p27_r00.9/\n",
      "None\n",
      "/media/dan/34D5D1CE642D7E36/2013076_Hanfling_Bernd/Stacks/Stacks_analyses_TRIMMED/All_samples_M4_m4_N4/populations_tests/populations_p27_r01.0/\n",
      "None\n",
      "/media/dan/34D5D1CE642D7E36/2013076_Hanfling_Bernd/Stacks/Stacks_analyses_TRIMMED/All_samples_M4_m4_N4/populations_tests/populations_p27_r07_m1/\n",
      "None\n",
      "/media/dan/34D5D1CE642D7E36/2013076_Hanfling_Bernd/Stacks/Stacks_analyses_TRIMMED/All_samples_M4_m4_N4/populations_tests/populations_p27_r07_m2/\n",
      "None\n",
      "/media/dan/34D5D1CE642D7E36/2013076_Hanfling_Bernd/Stacks/Stacks_analyses_TRIMMED/All_samples_M4_m4_N4/populations_tests/populations_p27_r07_m3/\n",
      "None\n",
      "/media/dan/34D5D1CE642D7E36/2013076_Hanfling_Bernd/Stacks/Stacks_analyses_TRIMMED/All_samples_M4_m4_N4/populations_tests/populations_p27_r07_m4/\n",
      "None\n",
      "/media/dan/34D5D1CE642D7E36/2013076_Hanfling_Bernd/Stacks/Stacks_analyses_TRIMMED/All_samples_M4_m4_N4/populations_tests/populations_p27_r07_m6/\n",
      "None\n",
      "/media/dan/34D5D1CE642D7E36/2013076_Hanfling_Bernd/Stacks/Stacks_analyses_TRIMMED/All_samples_M4_m4_N4/populations_tests/populations_p27_r07_m7/\n",
      "None\n",
      "/media/dan/34D5D1CE642D7E36/2013076_Hanfling_Bernd/Stacks/Stacks_analyses_TRIMMED/All_samples_M4_m4_N4/populations_tests/populations_p27_r07_m8/\n",
      "None\n",
      "/media/dan/34D5D1CE642D7E36/2013076_Hanfling_Bernd/Stacks/Stacks_analyses_TRIMMED/All_samples_M4_m4_N4/populations_tests/populations_Pure_cru_only_p19_r07_m0/\n",
      "None\n",
      "/media/dan/34D5D1CE642D7E36/2013076_Hanfling_Bernd/Stacks/Stacks_analyses_TRIMMED/All_samples_M4_m4_N4/populations_tests/populations__p25_r07/\n",
      "None\n",
      "/media/dan/34D5D1CE642D7E36/2013076_Hanfling_Bernd/Stacks/Stacks_analyses_TRIMMED/All_samples_M4_m4_N4/populations_tests/populations__p26_r07/\n",
      "None\n",
      "/media/dan/34D5D1CE642D7E36/2013076_Hanfling_Bernd/Stacks/Stacks_analyses_TRIMMED/All_samples_M4_m4_N4/populations_tests/populations__p27_r07/\n",
      "None\n",
      "/media/dan/34D5D1CE642D7E36/2013076_Hanfling_Bernd/Stacks/Stacks_analyses_TRIMMED/All_samples_M4_m4_N4/populations_tests/populations__p28_r07/\n",
      "None\n",
      "/media/dan/34D5D1CE642D7E36/2013076_Hanfling_Bernd/Stacks/Stacks_analyses_TRIMMED/All_samples_M4_m4_N4/populations_tests/populations__p29_r07/\n",
      "None\n",
      "/media/dan/34D5D1CE642D7E36/2013076_Hanfling_Bernd/Stacks/Stacks_analyses_TRIMMED/All_samples_M4_m4_N4/populations_tests/populations__p30_r07/\n",
      "None\n",
      "/media/dan/34D5D1CE642D7E36/2013076_Hanfling_Bernd/Stacks/Stacks_analyses_TRIMMED/All_samples_M4_m4_N4/populations_tests/populations__p31_r07/\n",
      "None\n"
     ]
    }
   ],
   "source": [
    "## batch\n",
    "import os\n",
    "\n",
    "for root, dirs, files in os.walk(\"/media/dan/34D5D1CE642D7E36/2013076_Hanfling_Bernd/Stacks/Stacks_analyses_TRIMMED/All_samples_M4_m4_N4/populations_tests/\"):\n",
    "    for file in files:\n",
    "        if \"batch_1.vcf\" in file:\n",
    "            par_dir = \"%s/\" %(root)\n",
    "            print par_dir\n",
    "            print HetvsCov(par_dir)"
   ]
  }
 ],
 "metadata": {
  "kernelspec": {
   "display_name": "Python 2",
   "language": "python",
   "name": "python2"
  },
  "language_info": {
   "codemirror_mode": {
    "name": "ipython",
    "version": 2
   },
   "file_extension": ".py",
   "mimetype": "text/x-python",
   "name": "python",
   "nbconvert_exporter": "python",
   "pygments_lexer": "ipython2",
   "version": "2.7.10"
  }
 },
 "nbformat": 4,
 "nbformat_minor": 0
}
