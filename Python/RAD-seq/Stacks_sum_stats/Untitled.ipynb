{
 "cells": [
  {
   "cell_type": "code",
   "execution_count": 12,
   "metadata": {},
   "outputs": [],
   "source": [
    "stacks_file = open(\"/home/djeffrie/Data/Merc_crosses/1_110-M_R.tags.tsv\", 'r').readlines()\n",
    "\n",
    "lumberjack_dict = {}\n",
    "lumberjack = False\n",
    "for line in stacks_file:\n",
    "    if \"consensus\" in line:\n",
    "        if line.split()[9] == \"1\":\n",
    "            lumberjack_dict[line.split()[2]] = 0\n",
    "            lumberjack = True\n",
    "        else:\n",
    "            lumberjack = False\n",
    "            \n",
    "    elif \"primary\" in line or \"secondary\" in line:\n",
    "        if lumberjack == True:\n",
    "            lumberjack_dict[line.split()[2]] += 1\n",
    "            \n",
    "            "
   ]
  },
  {
   "cell_type": "code",
   "execution_count": 14,
   "metadata": {},
   "outputs": [],
   "source": [
    "accumulator = 0\n",
    "for i in lumberjack_dict:\n",
    "    accumulator += lumberjack_dict[i]"
   ]
  },
  {
   "cell_type": "code",
   "execution_count": 15,
   "metadata": {},
   "outputs": [
    {
     "data": {
      "text/plain": [
       "134047"
      ]
     },
     "execution_count": 15,
     "metadata": {},
     "output_type": "execute_result"
    }
   ],
   "source": [
    "accumulator"
   ]
  }
 ],
 "metadata": {
  "kernelspec": {
   "display_name": "Python 2",
   "language": "python",
   "name": "python2"
  },
  "language_info": {
   "codemirror_mode": {
    "name": "ipython",
    "version": 2
   },
   "file_extension": ".py",
   "mimetype": "text/x-python",
   "name": "python",
   "nbconvert_exporter": "python",
   "pygments_lexer": "ipython2",
   "version": "2.7.14"
  }
 },
 "nbformat": 4,
 "nbformat_minor": 2
}
