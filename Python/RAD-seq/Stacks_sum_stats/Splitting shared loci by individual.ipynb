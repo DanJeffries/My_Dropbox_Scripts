{
 "metadata": {
  "name": "",
  "signature": "sha256:7e46bb80b4a80590593ab2ecb8c80e6f2b5b87e007b0b119c84f9918246fc08c"
 },
 "nbformat": 3,
 "nbformat_minor": 0,
 "worksheets": [
  {
   "cells": [
    {
     "cell_type": "code",
     "collapsed": false,
     "input": [
      "import os"
     ],
     "language": "python",
     "metadata": {},
     "outputs": [],
     "prompt_number": 1
    },
    {
     "cell_type": "code",
     "collapsed": false,
     "input": [
      "catalog_tags_file = open(\"/media/dan/34D5D1CE642D7E36/2013076_Hanfling_Bernd/Stacks/Stacks_analyses_V3/Incremental_tests/Batch_1/cru_gib_hyb_2/Test_m12_Ustacks_outputs/IncreMental_C/n_tests/n_8/batch_0.catalog.tags.tsv\", 'r')\n",
      "\n",
      "for line in catalog_tags_file.readlines()[:10]:\n",
      "    print (line.split()[7].split(','))"
     ],
     "language": "python",
     "metadata": {},
     "outputs": [
      {
       "output_type": "stream",
       "stream": "stdout",
       "text": [
        "['0_1', '1_21165', '2_44286']\n",
        "['0_2', '1_7390']\n",
        "['0_3']\n",
        "['0_4', '2_8419']\n",
        "['0_5', '2_5226', '2_26429']\n",
        "['0_6', '2_27769']\n",
        "['0_7', '2_12407']\n",
        "['0_8', '2_29743']\n",
        "['0_9', '1_18672', '2_30104']\n",
        "['0_10', '1_20427', '2_21638']\n"
       ]
      }
     ],
     "prompt_number": 30
    },
    {
     "cell_type": "markdown",
     "metadata": {},
     "source": [
      "## Creating files containing individual locus names for shared loci only!"
     ]
    },
    {
     "cell_type": "code",
     "collapsed": false,
     "input": [
      "catalog_tags_file = open(\"/media/dan/34D5D1CE642D7E36/2013076_Hanfling_Bernd/Stacks/Stacks_analyses_V3/Incremental_tests/Batch_1/cru_gib_hyb_2/Test_m12_Ustacks_outputs/IncreMental_C/n_tests/n_8/batch_0.catalog.tags.tsv\", 'r')\n",
      "shared_cat_tags = []\n",
      "\n",
      "## First extract the loci that are shared in all individuals\n",
      "\n",
      "for line in catalog_tags_file.readlines():\n",
      "    if len(line.split()[7].split(',')) == 3:\n",
      "        if line.split()[7].split(',')[0].startswith('0') and line.split()[7].split(',')[1].startswith('1') and line.split()[7].split(',')[2].startswith('2'):\n",
      "            shared_cat_tags.append(line)\n",
      "\n",
      "## Get the individual locus names!            \n",
      "\n",
      "sample_0_tags = open(\"/media/dan/34D5D1CE642D7E36/2013076_Hanfling_Bernd/Stacks/Stacks_analyses_V3/Incremental_tests/Batch_1/cru_gib_hyb_2/Test_m12_Ustacks_outputs/IncreMental_C/n_tests/n_8/sample_0_tags.txt\", \"w\")\n",
      "sample_1_tags = open(\"/media/dan/34D5D1CE642D7E36/2013076_Hanfling_Bernd/Stacks/Stacks_analyses_V3/Incremental_tests/Batch_1/cru_gib_hyb_2/Test_m12_Ustacks_outputs/IncreMental_C/n_tests/n_8/sample_1_tags.txt\", \"w\")\n",
      "sample_2_tags = open(\"/media/dan/34D5D1CE642D7E36/2013076_Hanfling_Bernd/Stacks/Stacks_analyses_V3/Incremental_tests/Batch_1/cru_gib_hyb_2/Test_m12_Ustacks_outputs/IncreMental_C/n_tests/n_8/sample_2_tags.txt\", \"w\")\n",
      "            \n",
      "for tag in shared_cat_tags:\n",
      "    for sample in tag.split()[7].split(','):\n",
      "        if sample.startswith('0'):\n",
      "            sample_0_tags.write(str(sample.split('_')[1])+'\\n')\n",
      "        elif sample.startswith('1'):\n",
      "            sample_1_tags.write(str(sample.split('_')[1])+'\\n')\n",
      "        elif sample.startswith('2'):\n",
      "            sample_2_tags.write(str(sample.split('_')[1])+'\\n')\n",
      "            \n",
      "sample_0_tags.close()\n",
      "sample_1_tags.close()\n",
      "sample_2_tags.close()        \n",
      "\n",
      "## looks good! Next extract these from the respective individual Ustacks files and make a fasta from them!"
     ],
     "language": "python",
     "metadata": {},
     "outputs": [],
     "prompt_number": 39
    },
    {
     "cell_type": "markdown",
     "metadata": {},
     "source": [
      "## Making fasta files for shared loci for each individual separately"
     ]
    },
    {
     "cell_type": "code",
     "collapsed": false,
     "input": [
      "sample_0_shared_tags = open(\"/media/dan/34D5D1CE642D7E36/2013076_Hanfling_Bernd/Stacks/Stacks_analyses_V3/Incremental_tests/Batch_1/cru_gib_hyb_2/Test_m12_Ustacks_outputs/IncreMental_C/n_tests/n_8/sample_0_tags.txt\", \"r\")\n",
      "sample_0_fasta = open(\"/media/dan/34D5D1CE642D7E36/2013076_Hanfling_Bernd/Stacks/Stacks_analyses_V3/Incremental_tests/Batch_1/cru_gib_hyb_2/Test_m12_Ustacks_outputs/IncreMental_C/n_tests/n_8/Sample_0.fa\", 'w')\n",
      "\n",
      "sample_1_shared_tags = open(\"/media/dan/34D5D1CE642D7E36/2013076_Hanfling_Bernd/Stacks/Stacks_analyses_V3/Incremental_tests/Batch_1/cru_gib_hyb_2/Test_m12_Ustacks_outputs/IncreMental_C/n_tests/n_8/sample_1_tags.txt\", \"r\")\n",
      "sample_1_fasta = open(\"/media/dan/34D5D1CE642D7E36/2013076_Hanfling_Bernd/Stacks/Stacks_analyses_V3/Incremental_tests/Batch_1/cru_gib_hyb_2/Test_m12_Ustacks_outputs/IncreMental_C/n_tests/n_8/Sample_1.fa\", 'w')\n",
      "\n",
      "sample_2_shared_tags = open(\"/media/dan/34D5D1CE642D7E36/2013076_Hanfling_Bernd/Stacks/Stacks_analyses_V3/Incremental_tests/Batch_1/cru_gib_hyb_2/Test_m12_Ustacks_outputs/IncreMental_C/n_tests/n_8/sample_2_tags.txt\", \"r\")\n",
      "sample_2_fasta = open(\"/media/dan/34D5D1CE642D7E36/2013076_Hanfling_Bernd/Stacks/Stacks_analyses_V3/Incremental_tests/Batch_1/cru_gib_hyb_2/Test_m12_Ustacks_outputs/IncreMental_C/n_tests/n_8/Sample_2.fa\", 'w')\n",
      "\n",
      "\n",
      "for tag in sample_0_shared_tags.readlines():\n",
      "    for line in open(\"/media/dan/34D5D1CE642D7E36/2013076_Hanfling_Bernd/Stacks/Stacks_analyses_V3/Incremental_tests/Batch_1/cru_gib_hyb_2/Test_m12_Ustacks_outputs/MY-557_RD-P1-196_1.fil.tags.tsv\", 'r').readlines():\n",
      "        if len(line.split()) == 10:\n",
      "            if tag.rstrip() == line.split()[2]:\n",
      "                sample_0_fasta.write('>'+'sample_0|'+str(line.split()[2])+'\\n'+line.split()[6]+'\\n')\n",
      "sample_0_shared_tags.close()\n",
      "sample_0_ustacks_tags.close()\n",
      "sample_0_fasta.close()\n",
      "\n",
      "print \"Sample 0 completed\"\n",
      "\n",
      "for tag in sample_1_shared_tags.readlines():\n",
      "    for line in open(\"/media/dan/34D5D1CE642D7E36/2013076_Hanfling_Bernd/Stacks/Stacks_analyses_V3/Incremental_tests/Batch_1/cru_gib_hyb_2/Test_m12_Ustacks_outputs/POLEN10_RD-P1-179_1.fil.tags.tsv\", 'r').readlines():\n",
      "        if len(line.split()) == 10:\n",
      "            if tag.rstrip() == line.split()[2]:\n",
      "                sample_1_fasta.write('>'+'sample_1|'+str(line.split()[2])+'\\n'+line.split()[6]+'\\n')\n",
      "sample_1_shared_tags.close()\n",
      "sample_1_ustacks_tags.close()\n",
      "sample_1_fasta.close()                \n",
      "\n",
      "print \"Sample 1 completed\"\n",
      "\n",
      "for tag in sample_2_shared_tags.readlines():\n",
      "    for line in open(\"/media/dan/34D5D1CE642D7E36/2013076_Hanfling_Bernd/Stacks/Stacks_analyses_V3/Incremental_tests/Batch_1/cru_gib_hyb_2/Test_m12_Ustacks_outputs/SWED97-3_RD-P1-144_1.fil.tags.tsv\", 'r').readlines():\n",
      "        if len(line.split()) == 10:\n",
      "            if tag.rstrip() == line.split()[2]:\n",
      "                sample_2_fasta.write('>'+'sample_2|'+str(line.split()[2])+'\\n'+line.split()[6]+'\\n')\n",
      "sample_2_shared_tags.close()\n",
      "sample_2_ustacks_tags.close()\n",
      "sample_2_fasta.close()\n",
      "\n",
      "print \"Sample 2 completed\"\n",
      "\n",
      "print \"finished\""
     ],
     "language": "python",
     "metadata": {},
     "outputs": [],
     "prompt_number": 87
    }
   ],
   "metadata": {}
  }
 ]
}