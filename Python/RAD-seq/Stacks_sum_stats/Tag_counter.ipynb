{
 "metadata": {
  "name": "",
  "signature": "sha256:c46de75ee747370858fdcddacd3bd3998bbefbe7f368c227117756ad5f153013"
 },
 "nbformat": 3,
 "nbformat_minor": 0,
 "worksheets": [
  {
   "cells": [
    {
     "cell_type": "markdown",
     "metadata": {},
     "source": [
      "## It shouldn't matter which directory this file is in. Just execute the definition function and then call the function. The parent_dir argument just needs the path to the dir containing the output files from IncreMental. "
     ]
    },
    {
     "cell_type": "markdown",
     "metadata": {},
     "source": [
      "## Function definition "
     ]
    },
    {
     "cell_type": "code",
     "collapsed": false,
     "input": [
      "def Tag_counter(parent_dir):\n",
      "\n",
      "    import matplotlib.pyplot as plt\n",
      "    import os\n",
      "    import numpy as np\n",
      "    from collections import Counter\n",
      "    c = Counter()\n",
      "    \n",
      "    sample_names = []\n",
      "    tag_data = []\n",
      "    \n",
      "    names = []\n",
      "    \n",
      "    ## Define a cool little helper function for \"natural sorting\". (no idea how it works though!)\n",
      "    \n",
      "    import re\n",
      "    def natural_key(string_): \n",
      "        return [int(s) if s.isdigit() else s for s in re.split(r'(\\d+)', string_)]\n",
      "    \n",
      "    ## Another cool function to count the length of a file\n",
      "    \n",
      "    def file_len(data):\n",
      "            for i, l in enumerate(data):\n",
      "                pass\n",
      "            return i + 1\n",
      "    \n",
      "\n",
      "    ## get file names and paths\n",
      "    for root, dirs, files in os.walk(str(parent_dir)):\n",
      "        for fil in files:\n",
      "            if fil.endswith(\"tags.tsv\"):\n",
      "                data_file = open(str(root+'/'+fil), 'r')\n",
      "                tag_tally = 0\n",
      "                for line in data_file.readlines():\n",
      "                    if 'consensus' in line:\n",
      "                        tag_tally +=1\n",
      "                tag_data.append(root.split('/')[1].partition('_')[0]+\"__\"+root.split('/')[3] + \"\\t\"+str(tag_tally)) ## works nicely just put this into a list with sample name and its nearly done\n",
      "    tag_data = sorted(tag_data, key = natural_key)\n",
      "    f = open(\"Tag_numbers.txt\", 'w')\n",
      "    for i in tag_data:\n",
      "        f.write(i+\"\\n\")\n",
      "    f.close()\n",
      "    \n",
      "    ## get the sample names\n",
      "    for i in tag_data:\n",
      "        names.append(i.split('\\t')[0].partition('_')[0])\n",
      "    names = set(names)\n",
      "    \n",
      "    ##plot the figures\n",
      "    fig = plt.figure()\n",
      "    plt.subplots_adjust(hspace = 0.5) ## adjust subplots\n",
      "    plot_number =1\n",
      "    for i in names:\n",
      "        tag_numbers = []\n",
      "        for item in tag_data:\n",
      "            if item.startswith(i):\n",
      "                tag_numbers.append(int(item.split('\\t')[1]))\n",
      "        print i, tag_numbers\n",
      "        fig.add_subplot(np.round((len(names)/2)+1),2,plot_number)\n",
      "        plt.scatter(range(0,16,2),tag_numbers) ## Manually input the same parameter range used in incremental IncreMental here for the x axis labels.\n",
      "        plt.plot(range(0,16,2),tag_numbers)\n",
      "        plt.title(i+\" Change in number of tags with incrementation\", fontsize = 5)\n",
      "        plt.xlabel(\"Ustacks Parameter Value\", fontsize = 10)\n",
      "        plt.ylabel(\"Number of tags\", fontsize = 10)\n",
      "        plt.xticks(fontsize = 7)\n",
      "        plt.yticks(fontsize = 7)\n",
      "        \n",
      "        tag_numbers = []\n",
      "        plot_number+=1\n",
      "    plt.savefig(\"Tags_per_sample.pdf\")\n",
      "    plt.close('all')  \n",
      "        \n"
     ],
     "language": "python",
     "metadata": {},
     "outputs": [],
     "prompt_number": 1
    },
    {
     "cell_type": "markdown",
     "metadata": {},
     "source": [
      "## Call the function. It will print the names of the samples used, and the tag counts for each parameter iteration over each sample"
     ]
    },
    {
     "cell_type": "code",
     "collapsed": false,
     "input": [
      "Tag_counter('./')"
     ],
     "language": "python",
     "metadata": {},
     "outputs": [
      {
       "output_type": "stream",
       "stream": "stdout",
       "text": [
        "MOAT10 [51733, 48780, 47803, 46840, 45993, 45403, 45035, 44769]\n",
        "GF10"
       ]
      },
      {
       "output_type": "stream",
       "stream": "stdout",
       "text": [
        " [49381, 44470, 43241, 42426, 41878, 41492, 41227, 41016]\n",
        "HOLT5"
       ]
      },
      {
       "output_type": "stream",
       "stream": "stdout",
       "text": [
        " [84324, 72942, 67766, 65785, 65034, 64744, 64486, 64291]\n"
       ]
      }
     ],
     "prompt_number": 2
    },
    {
     "cell_type": "code",
     "collapsed": false,
     "input": [],
     "language": "python",
     "metadata": {},
     "outputs": []
    }
   ],
   "metadata": {}
  }
 ]
}