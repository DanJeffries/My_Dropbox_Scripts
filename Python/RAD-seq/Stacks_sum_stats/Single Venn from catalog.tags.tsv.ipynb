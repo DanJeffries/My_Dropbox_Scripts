{
 "cells": [
  {
   "cell_type": "code",
   "execution_count": 1,
   "metadata": {
    "collapsed": false
   },
   "outputs": [],
   "source": [
    "## Load modules and functions\n",
    "\n",
    "import os\n",
    "import subprocess\n",
    "import matplotlib\n",
    "from matplotlib_venn import venn3\n",
    "from matplotlib import pyplot as plt\n",
    "import numpy as np\n",
    "import re"
   ]
  },
  {
   "cell_type": "code",
   "execution_count": 2,
   "metadata": {
    "collapsed": false
   },
   "outputs": [
    {
     "name": "stdout",
     "output_type": "stream",
     "text": [
      "Help on function venn3 in module matplotlib_venn._venn3:\n",
      "\n",
      "venn3(subsets, set_labels=('A', 'B', 'C'), set_colors=('r', 'g', 'b'), alpha=0.4, normalize_to=1.0, ax=None)\n",
      "    Plots a 3-set area-weighted Venn diagram.\n",
      "    The subsets parameter can be one of the following:\n",
      "     - A list (or a tuple), containing three set objects.\n",
      "     - A dict, providing sizes of seven diagram regions.\n",
      "       The regions are identified via three-letter binary codes ('100', '010', etc), hence a valid set could look like:\n",
      "       {'001': 10, '010': 20, '110':30, ...}. Unmentioned codes are considered to map to 0.\n",
      "     - A list (or a tuple) with 7 numbers, denoting the sizes of the regions in the following order:\n",
      "       (100, 010, 110, 001, 101, 011, 111).\n",
      "    \n",
      "    ``set_labels`` parameter is a list of three strings - set labels. Set it to None to disable set labels.\n",
      "    The ``set_colors`` parameter should be a list of three elements, specifying the \"base colors\" of the three circles.\n",
      "    The colors of circle intersections will be computed based on those.\n",
      "    \n",
      "    The ``normalize_to`` parameter specifies the total (on-axes) area of the circles to be drawn. Sometimes tuning it (together\n",
      "    with the overall fiture size) may be useful to fit the text labels better.\n",
      "    The return value is a ``VennDiagram`` object, that keeps references to the ``Text`` and ``Patch`` objects used on the plot\n",
      "    and lets you know the centers and radii of the circles, if you need it.\n",
      "    \n",
      "    The ``ax`` parameter specifies the axes on which the plot will be drawn (None means current axes).\n",
      "    \n",
      "    Note: if some of the circles happen to have zero area, you will probably not get a nice picture.\n",
      "    \n",
      "    >>> import matplotlib # (The first two lines prevent the doctest from falling when TCL not installed. Not really necessary in most cases)\n",
      "    >>> matplotlib.use('Agg')\n",
      "    >>> from matplotlib_venn import *\n",
      "    >>> v = venn3(subsets=(1, 1, 1, 1, 1, 1, 1), set_labels = ('A', 'B', 'C'))\n",
      "    >>> c = venn3_circles(subsets=(1, 1, 1, 1, 1, 1, 1), linestyle='dashed')\n",
      "    >>> v.get_patch_by_id('100').set_alpha(1.0)\n",
      "    >>> v.get_patch_by_id('100').set_color('white')\n",
      "    >>> v.get_label_by_id('100').set_text('Unknown')\n",
      "    >>> v.get_label_by_id('C').set_text('Set C')\n",
      "    \n",
      "    You can provide sets themselves rather than subset sizes:\n",
      "    >>> v = venn3(subsets=[set([1,2]), set([2,3,4,5]), set([4,5,6,7,8,9,10,11])])\n",
      "    >>> print(\"%0.2f %0.2f %0.2f\" % (v.get_circle_radius(0), v.get_circle_radius(1)/v.get_circle_radius(0), v.get_circle_radius(2)/v.get_circle_radius(0)))\n",
      "    0.24 1.41 2.00\n",
      "    >>> c = venn3_circles(subsets=[set([1,2]), set([2,3,4,5]), set([4,5,6,7,8,9,10,11])])\n",
      "\n"
     ]
    }
   ],
   "source": [
    "help(venn3)"
   ]
  },
  {
   "cell_type": "code",
   "execution_count": 7,
   "metadata": {
    "collapsed": false
   },
   "outputs": [],
   "source": [
    "## Assign the seqNumber to a list depending on which individuals it is present in\n",
    "Sample_0 = []\n",
    "Sample_1 = []\n",
    "Sample_2 = []\n",
    "\n",
    "seqNumber = 1\n",
    "for line in open(\"/media/dan/34D5D1CE642D7E36/2013076_Hanfling_Bernd/Stacks/Stacks_analyses_V3/Cru_gold_hyb_common_catalog_test/test3_cru_gib_comm_hyb/batch_2.catalog.tags.tsv\",\"r\").readlines():\n",
    "    locfield = line.strip().split()[7].split(',') ## Isolate and split the relevant column    \n",
    "    \n",
    "    for loc in locfield:\n",
    "        if loc.startswith('192_'): \n",
    "            Sample_0.append(seqNumber) ### Find a way to give these list names automatically\n",
    "        if loc.startswith('2_'):\n",
    "            Sample_1.append(seqNumber)\n",
    "        if loc.startswith('3_'):\n",
    "            Sample_2.append(seqNumber)\n",
    "    seqNumber += 1  ## Increment seq number after every line (tag)\n",
    "\n",
    "        ## Add the venn diagram \n",
    "\n",
    "venn3([set(Sample_0), set(Sample_1), set(Sample_2)], (\"RM31\",\"POLEN\",\"SWED\"))\n",
    "plt.title(\"Common, Crucian, Cru-gbi_Hybrid\")\n",
    "plt.show()"
   ]
  },
  {
   "cell_type": "code",
   "execution_count": 2,
   "metadata": {
    "collapsed": false
   },
   "outputs": [
    {
     "name": "stdout",
     "output_type": "stream",
     "text": [
      "Help on function venn3 in module matplotlib_venn._venn3:\n",
      "\n",
      "venn3(subsets, set_labels=('A', 'B', 'C'), set_colors=('r', 'g', 'b'), alpha=0.4, normalize_to=1.0, ax=None)\n",
      "    Plots a 3-set area-weighted Venn diagram.\n",
      "    The subsets parameter can be one of the following:\n",
      "         - A list (or a tuple), containing three set objects.\n",
      "     - A dict, providing sizes of seven diagram regions.\n",
      "       The regions are identified via three-letter binary codes ('100', '010', etc), hence a valid set could look like:\n",
      "       {'001': 10, '010': 20, '110':30, ...}. Unmentioned codes are considered to map to 0.\n",
      "     - A list (or a tuple) with 7 numbers, denoting the sizes of the regions in the following order:\n",
      "       (100, 010, 110, 001, 101, 011, 111).\n",
      "    \n",
      "    ``set_labels`` parameter is a list of three strings - set labels. Set it to None to disable set labels.\n",
      "    The ``set_colors`` parameter should be a list of three elements, specifying the \"base colors\" of the three circles.\n",
      "    The colors of circle intersections will be computed based on those.\n",
      "    \n",
      "    The ``normalize_to`` parameter specifies the total (on-axes) area of the circles to be drawn. Sometimes tuning it (together\n",
      "    with the overall fiture size) may be useful to fit the text labels better.\n",
      "    The return value is a ``VennDiagram`` object, that keeps references to the ``Text`` and ``Patch`` objects used on the plot\n",
      "    and lets you know the centers and radii of the circles, if you need it.\n",
      "    \n",
      "    The ``ax`` parameter specifies the axes on which the plot will be drawn (None means current axes).\n",
      "    \n",
      "    Note: if some of the circles happen to have zero area, you will probably not get a nice picture.\n",
      "    \n",
      "    >>> import matplotlib # (The first two lines prevent the doctest from falling when TCL not installed. Not really necessary in most cases)\n",
      "    >>> matplotlib.use('Agg')\n",
      "    >>> from matplotlib_venn import *\n",
      "    >>> v = venn3(subsets=(1, 1, 1, 1, 1, 1, 1), set_labels = ('A', 'B', 'C'))\n",
      "    >>> c = venn3_circles(subsets=(1, 1, 1, 1, 1, 1, 1), linestyle='dashed')\n",
      "    >>> v.get_patch_by_id('100').set_alpha(1.0)\n",
      "    >>> v.get_patch_by_id('100').set_color('white')\n",
      "    >>> v.get_label_by_id('100').set_text('Unknown')\n",
      "    >>> v.get_label_by_id('C').set_text('Set C')\n",
      "        \n",
      "        You can provide sets themselves rather than subset sizes:\n",
      "    >>> v = venn3(subsets=[set([1,2]), set([2,3,4,5]), set([4,5,6,7,8,9,10,11])])\n",
      "    >>> print(\"%0.2f %0.2f %0.2f\" % (v.get_circle_radius(0), v.get_circle_radius(1)/v.get_circle_radius(0), v.get_circle_radius(2)/v.get_circle_radius(0)))\n",
      "    0.24 1.41 2.00\n",
      "    >>> c = venn3_circles(subsets=[set([1,2]), set([2,3,4,5]), set([4,5,6,7,8,9,10,11])])\n",
      "\n"
     ]
    }
   ],
   "source": [
    "help(venn3)"
   ]
  }
 ],
 "metadata": {
  "kernelspec": {
   "display_name": "Python 2",
   "language": "python",
   "name": "python2"
  },
  "language_info": {
   "codemirror_mode": {
    "name": "ipython",
    "version": 2
   },
   "file_extension": ".py",
   "mimetype": "text/x-python",
   "name": "python",
   "nbconvert_exporter": "python",
   "pygments_lexer": "ipython2",
   "version": "2.7.10"
  }
 },
 "nbformat": 4,
 "nbformat_minor": 0
}
