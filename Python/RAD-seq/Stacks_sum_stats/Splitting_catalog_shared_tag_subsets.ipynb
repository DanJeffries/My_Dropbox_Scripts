{
 "metadata": {
  "name": "",
  "signature": "sha256:94bd4cfecab1609bfe66b5eaf6c8387ac2d8dce08dc997ff3fa5c819efaa07ff"
 },
 "nbformat": 3,
 "nbformat_minor": 0,
 "worksheets": [
  {
   "cells": [
    {
     "cell_type": "markdown",
     "metadata": {},
     "source": [
      "## This script splits the catalog loci into those shared between different combinations of the samples in it."
     ]
    },
    {
     "cell_type": "code",
     "collapsed": false,
     "input": [
      "## input - catalog tags file\n",
      "\n",
      "f = open('/media/dan/34D5D1CE642D7E36/2013076_Hanfling_Bernd/Stacks/Stacks_analyses_V3/Cru_gold_hyb_common_catalog_test/test2/batch_3.catalog.tags.tsv', 'r')\n",
      "\n",
      "## output files - that will contain subsets of tags\n",
      "\n",
      "file1 = open('/media/dan/34D5D1CE642D7E36/2013076_Hanfling_Bernd/Stacks/Stacks_analyses_V3/Cru_gold_hyb_common_catalog_test/test2/batch_2_sharing/192_1_only.tsv', 'w')\n",
      "file2 = open('/media/dan/34D5D1CE642D7E36/2013076_Hanfling_Bernd/Stacks/Stacks_analyses_V3/Cru_gold_hyb_common_catalog_test/test2/batch_2_sharing/1_35_only.tsv', 'w')\n",
      "file3 = open('/media/dan/34D5D1CE642D7E36/2013076_Hanfling_Bernd/Stacks/Stacks_analyses_V3/Cru_gold_hyb_common_catalog_test/test2/batch_2_sharing/192_35_only.tsv', 'w')\n",
      "file4 = open('/media/dan/34D5D1CE642D7E36/2013076_Hanfling_Bernd/Stacks/Stacks_analyses_V3/Cru_gold_hyb_common_catalog_test/test2/batch_2_sharing/shared_all.tsv', 'w')\n",
      "file5 = open('/media/dan/34D5D1CE642D7E36/2013076_Hanfling_Bernd/Stacks/Stacks_analyses_V3/Cru_gold_hyb_common_catalog_test/test2/batch_2_sharing/192_only.tsv', 'w')\n",
      "file6 = open('/media/dan/34D5D1CE642D7E36/2013076_Hanfling_Bernd/Stacks/Stacks_analyses_V3/Cru_gold_hyb_common_catalog_test/test2/batch_2_sharing/1_only.tsv', 'w')\n",
      "file7 = open('/media/dan/34D5D1CE642D7E36/2013076_Hanfling_Bernd/Stacks/Stacks_analyses_V3/Cru_gold_hyb_common_catalog_test/test2/batch_2_sharing/35_only.tsv', 'w')\n",
      "\n",
      "\n",
      "\n",
      "fasta1 = open('/media/dan/34D5D1CE642D7E36/2013076_Hanfling_Bernd/Stacks/Stacks_analyses_V3/Cru_gold_hyb_common_catalog_test/test2/batch_2_sharing/192_1_only.fasta', 'w')\n",
      "fasta2 = open('/media/dan/34D5D1CE642D7E36/2013076_Hanfling_Bernd/Stacks/Stacks_analyses_V3/Cru_gold_hyb_common_catalog_test/test2/batch_2_sharing/1_35_only.fasta', 'w')\n",
      "fasta3 = open('/media/dan/34D5D1CE642D7E36/2013076_Hanfling_Bernd/Stacks/Stacks_analyses_V3/Cru_gold_hyb_common_catalog_test/test2/batch_2_sharing/192_35_only.fasta', 'w')\n",
      "fasta4 = open('/media/dan/34D5D1CE642D7E36/2013076_Hanfling_Bernd/Stacks/Stacks_analyses_V3/Cru_gold_hyb_common_catalog_test/test2/batch_2_sharing//shared_all.fasta', 'w')\n",
      "fasta5 = open('/media/dan/34D5D1CE642D7E36/2013076_Hanfling_Bernd/Stacks/Stacks_analyses_V3/Cru_gold_hyb_common_catalog_test/test2/batch_2_sharing/192_only.fasta', 'w')\n",
      "fasta6 = open('/media/dan/34D5D1CE642D7E36/2013076_Hanfling_Bernd/Stacks/Stacks_analyses_V3/Cru_gold_hyb_common_catalog_test/test2/batch_2_sharing/1_only.fasta', 'w')\n",
      "fasta7 = open('/media/dan/34D5D1CE642D7E36/2013076_Hanfling_Bernd/Stacks/Stacks_analyses_V3/Cru_gold_hyb_common_catalog_test/test2/batch_2_sharing/35_only.fasta', 'w')\n",
      "\n",
      "print ' RM31 = 192, BF4 = 1, EP = 35'\n",
      "\n",
      "for line in f.readlines():\n",
      "    locfield = line.strip().split()[7] ## Isolate and split the relevant column\n",
      "\n",
      "    \n",
      "    if '192_' in locfield and '1_' in locfield and '35_' not in locfield:\n",
      "        file1.write(line)\n",
      "        fasta1.write('>catalog_tag_No|'+line.strip().split()[2]+'\\n'+ line.strip().split()[8]+'\\n')\n",
      "    if '1_' in locfield and '35_' in locfield and '192_' not in locfield:\n",
      "        file2.write(line)\n",
      "        fasta2.write('>catalog_tag_No|'+line.strip().split()[2]+'\\n'+ line.strip().split()[8]+'\\n')\n",
      "    if '192_' in locfield and '35_' in locfield and '1_' not in locfield:\n",
      "        file3.write(line)\n",
      "        fasta3.write('>catalog_tag_No|'+line.strip().split()[2]+'\\n'+ line.strip().split()[8]+'\\n')\n",
      "    if '192_' in locfield and '1_' in locfield and '35_' in locfield:\n",
      "        file4.write(line)\n",
      "        fasta4.write('>catalog_tag_No|'+line.strip().split()[2]+'\\n'+ line.strip().split()[8]+'\\n')\n",
      "    if '192_' in locfield and '1_' not in locfield and '35_' not in locfield:\n",
      "        file5.write(line)\n",
      "        fasta5.write('>catalog_tag_No|'+line.strip().split()[2]+'\\n'+ line.strip().split()[8]+'\\n')\n",
      "    if '1_' in locfield and '192_' not in locfield and '35_' not in locfield:\n",
      "        file6.write(line)\n",
      "        fasta6.write('>catalog_tag_No|'+line.strip().split()[2]+'\\n'+ line.strip().split()[8]+'\\n')\n",
      "    if '35_' in locfield and '1_' not in locfield and '192_' not in locfield:\n",
      "        file7.write(line)\n",
      "        fasta7.write('>catalog_tag_No|'+line.strip().split()[2]+'\\n'+ line.strip().split()[8]+'\\n')\n",
      "\n",
      "print \"DONE\"\n",
      "\n",
      "file1.close()\n",
      "file2.close()\n",
      "file3.close()\n",
      "file4.close()\n",
      "file5.close()\n",
      "file6.close()\n",
      "file7.close()\n",
      "\n",
      "fasta1.close()\n",
      "fasta2.close()\n",
      "fasta3.close()\n",
      "fasta4.close()\n",
      "fasta5.close()\n",
      "fasta6.close()\n",
      "fasta7.close()\n"
     ],
     "language": "python",
     "metadata": {},
     "outputs": [
      {
       "output_type": "stream",
       "stream": "stdout",
       "text": [
        " RM31 = 192, BF4 = 1, EP = 35\n",
        "DONE"
       ]
      },
      {
       "output_type": "stream",
       "stream": "stdout",
       "text": [
        "\n"
       ]
      }
     ],
     "prompt_number": 4
    },
    {
     "cell_type": "code",
     "collapsed": false,
     "input": [
      "f = open('/media/dan/34D5D1CE642D7E36/2013076_Hanfling_Bernd/Stacks/Stacks_analyses_V3/Incremental_tests/Batch_2/cru_gold_putHyb/IncreMental_C/n_tests/n_6/batch_0.catalog.tags.tsv', 'r')\n",
      "\n",
      "for line in f.readlines()[:10]:\n",
      "    readfield = line.strip().split()[8] ## Isolate and split the relevant column\n",
      "    print('>catalog_tag_No|'+line.strip().split()[2]+'\\n'+ line.strip().split()[8]+'\\n')"
     ],
     "language": "python",
     "metadata": {},
     "outputs": [
      {
       "output_type": "stream",
       "stream": "stdout",
       "text": [
        ">catalog_tag_No|1\n",
        "TGCAGGCCCCCCAACACTGCATATTTTGTATCTCTCTTTTGTCTGGCACACCCATTTCAGGTCTTGGAGTCTCTACTAATAAGCTGATGATCTGAATCAGGTGTGTTTGATTAAGGA\n",
        "\n",
        ">catalog_tag_No|2\n",
        "TGCAGGCATTACTATTTCAGGCACAACAACTGATGCTTGAAGTCCCTGTGGAGAGCCTTTTCATCCTACATGAGATTCTTTCAGAAATTTTTTATAAAAAATCGGAGATGTAAAAAA\n",
        "\n",
        ">catalog_tag_No|3\n",
        "TGCAGGACACCGGGCTACCCGTCGGGCTGTCGCTGCTCAGTCCAGGTGATACTTCTCGGGTCCCTCGACGTGGTTCTTCAGCCAGAAGGGCGTCGATCCTGAAGTTCTTTGATTTTT\n",
        "\n",
        ">catalog_tag_No|4\n",
        "TGCAGGCCATTGTCTCCTTGCCAATCCGTCCTCAGCGGAAAGTCATTTACAGAGGTTTTTGAAACTAACCGAAAGCTCTAAGAAAATTCCCTTAGGTAACCCAAATGAGCTTTAAGA\n",
        "\n",
        ">catalog_tag_No|5\n",
        "TGCAGGAACTCCAGCACTGTACCAACTGGGCAGTTAACTGGGTCGAGCTGGTGGTCTCCGCACAAAGAAGTGAAAAGCTTCCACTTTAAGGCATACAGTTTCCTCATTGAGGGAGCT\n",
        "\n",
        ">catalog_tag_No|6\n",
        "TGCAGGAACTCCAGCACTGTACCAACCGGGCAGTTAACTGGGTCGAGCTGGTGGTCTCCGCACCAAGAAGTGAAAAGCTTCCACTTCAAGGCATACAGTTTCCTCATTGAGGGAGCT\n",
        "\n",
        ">catalog_tag_No|7\n",
        "TGCAGGAACTCCAGCACTGTACCAACTGGGCAGTTAACTGGGTTGAGTTGGTGATCTCCGCACCAAGAAGTGAAAAGTTTCCACTTAAAGGCATACAGTTTCCTCATTAAGGGAGCT\n",
        "\n",
        ">catalog_tag_No|8\n",
        "TGCAGGAACTCCAGCACTGTACCAACCGGGCAGTTAACTGGGTTGAGCTGGCGGTCTCCGCACCAAGAAGTGAAAAGCTTCCACTTCAAGGCATACAGTTTCCTCATTGAGGGAGCT\n",
        "\n",
        ">catalog_tag_No|9\n",
        "TGCAGGAACTCCAGCACTGTACCAACCGGGCAGTTAACTGGGTCGAGCTGGTGGTCTCCGCACCAAGAAGTGGAAAGCTTCCACTTTAAGGCATACAGTTTCCTCATTGAGGGAGCT\n",
        "\n",
        ">catalog_tag_No|10\n",
        "TGCAGGAACTCCAGCACTGTACCATCCGGGCAGTTAACTGGGTCGAGCTGGTGGTCTCTGCACCAAGAAGTGAAAAGCTTCCACTTCAAGGCATACAGTTTCCTCATTGAGGGAGCT\n",
        "\n"
       ]
      }
     ],
     "prompt_number": 51
    },
    {
     "cell_type": "markdown",
     "metadata": {},
     "source": [
      "### Next thing to do is to make it output fasta files. This is easy - do tomorrow!"
     ]
    }
   ],
   "metadata": {}
  }
 ]
}