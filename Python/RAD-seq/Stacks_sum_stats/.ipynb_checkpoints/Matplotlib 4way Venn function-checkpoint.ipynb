{
 "cells": [
  {
   "cell_type": "code",
   "execution_count": 1,
   "metadata": {
    "collapsed": false
   },
   "outputs": [],
   "source": [
    "\n",
    "import pylab\n",
    "from matplotlib.patches import Circle, Ellipse\n",
    "from itertools import chain\n",
    "from collections import Iterable\n",
    "\n",
    "#--------------------------------------------------------------------\n",
    "alignment = {'horizontalalignment':'center', 'verticalalignment':'baseline'}\n",
    "\n",
    "#--------------------------------------------------------------------\n",
    "def get_labels(data, fill=\"number\"):\n",
    "    \"\"\"\n",
    "    to get a dict of labels for groups in data\n",
    "    input\n",
    "      data: data to get label for\n",
    "      fill = [\"number\"|\"logic\"|\"both\"], fill with number, logic label, or both\n",
    "    return\n",
    "      labels: a dict of labels for different sets\n",
    "    example:\n",
    "    In [12]: get_labels([range(10), range(5,15), range(3,8)], fill=\"both\")\n",
    "    Out[12]:\n",
    "    {'001': '001: 0',\n",
    "     '010': '010: 5',\n",
    "     '011': '011: 0',\n",
    "     '100': '100: 3',\n",
    "     '101': '101: 2',\n",
    "     '110': '110: 2',\n",
    "     '111': '111: 3'}\n",
    "    \"\"\"\n",
    "\n",
    "    N = len(data)\n",
    "\n",
    "    sets_data = [set(data[i]) for i in range(N)]  # sets for separate groups\n",
    "    s_all = set(chain(*data))                             # union of all sets\n",
    "\n",
    "    # bin(3) --> '0b11', so bin(3).split('0b')[-1] will remove \"0b\"\n",
    "    set_collections = {}\n",
    "    for n in range(1, 2**N):\n",
    "        key = bin(n).split('0b')[-1].zfill(N)\n",
    "        value = s_all\n",
    "        sets_for_intersection = [sets_data[i] for i in range(N) if  key[i] == '1']\n",
    "        sets_for_difference = [sets_data[i] for i in range(N) if  key[i] == '0']\n",
    "        for s in sets_for_intersection:\n",
    "            value = value & s\n",
    "        for s in sets_for_difference:\n",
    "            value = value - s\n",
    "        set_collections[key] = value\n",
    "\n",
    "    if fill == \"number\":\n",
    "        labels = {k: len(set_collections[k]) for k in set_collections}\n",
    "    elif fill == \"logic\":\n",
    "        labels = {k: k for k in set_collections}\n",
    "    elif fill == \"both\":\n",
    "        labels = {k: (\"%s: %d\" % (k, len(set_collections[k]))) for k in set_collections}\n",
    "    else:  # invalid value\n",
    "        raise Exception(\"invalid value for fill\")\n",
    "\n",
    "    return labels\n",
    "\n",
    "\n",
    "\n",
    "def venn4(data=None, names=None, fill=\"number\", show_names=True, show_plot=True, **kwds):\n",
    "\n",
    "    if (data is None) or len(data) != 4:\n",
    "        raise Exception(\"length of data should be 4!\")\n",
    "    if (names is None) or (len(names) != 4):\n",
    "        names = (\"set 1\", \"set 2\", \"set 3\", \"set 4\")\n",
    "\n",
    "    labels = get_labels(data, fill=fill)\n",
    "\n",
    "    # set figure size\n",
    "    if 'figsize' in kwds and len(kwds['figsize']) == 2:\n",
    "        # if 'figsize' is in kwds, and it is a list or tuple with length of 2\n",
    "        figsize = kwds['figsize']\n",
    "    else: # default figure size\n",
    "        figsize = (10, 10)\n",
    "\n",
    "    # set colors for different Circles or ellipses\n",
    "    if 'colors' in kwds and isinstance(kwds['colors'], Iterable) and len(kwds['colors']) >= 4:\n",
    "        colors = kwds['colors']\n",
    "    else:\n",
    "        colors = ['r', 'g', 'b', 'c']\n",
    "\n",
    "    # draw ellipse, the coordinates are hard coded in the rest of the function\n",
    "    fig = pylab.figure(figsize=figsize)   # set figure size\n",
    "    ax = fig.gca()\n",
    "    patches = []\n",
    "    width, height = 170, 110  # width and height of the ellipses\n",
    "    patches.append(Ellipse((170, 170), width, height, -45, color=colors[0], alpha=0.5))\n",
    "    patches.append(Ellipse((200, 200), width, height, -45, color=colors[1], alpha=0.5))\n",
    "    patches.append(Ellipse((200, 200), width, height, -135, color=colors[2], alpha=0.5))\n",
    "    patches.append(Ellipse((230, 170), width, height, -135, color=colors[3], alpha=0.5))\n",
    "    for e in patches:\n",
    "        ax.add_patch(e)\n",
    "    ax.set_xlim(80, 320); ax.set_ylim(80, 320)\n",
    "    ax.set_xticks([]); ax.set_yticks([]);\n",
    "    ax.set_aspect(\"equal\")\n",
    "\n",
    "    ### draw text\n",
    "    # 1\n",
    "    pylab.text(120, 200, labels['1000'], **alignment)\n",
    "    pylab.text(280, 200, labels['0100'], **alignment)\n",
    "    pylab.text(155, 250, labels['0010'], **alignment)\n",
    "    pylab.text(245, 250, labels['0001'], **alignment)\n",
    "    # 2\n",
    "    pylab.text(200, 115, labels['1100'], **alignment)\n",
    "    pylab.text(140, 225, labels['1010'], **alignment)\n",
    "    pylab.text(145, 155, labels['1001'], **alignment)\n",
    "    pylab.text(255, 155, labels['0110'], **alignment)\n",
    "    pylab.text(260, 225, labels['0101'], **alignment)\n",
    "    pylab.text(200, 240, labels['0011'], **alignment)\n",
    "    # 3\n",
    "    pylab.text(235, 205, labels['0111'], **alignment)\n",
    "    pylab.text(165, 205, labels['1011'], **alignment)\n",
    "    pylab.text(225, 135, labels['1101'], **alignment)\n",
    "    pylab.text(175, 135, labels['1110'], **alignment)\n",
    "    # 4\n",
    "    pylab.text(200, 175, labels['1111'], **alignment)\n",
    "    # names of different groups\n",
    "    if show_names:\n",
    "        pylab.text(110, 110, names[0], fontsize=16, **alignment)\n",
    "        pylab.text(290, 110, names[1], fontsize=16, **alignment)\n",
    "        pylab.text(130, 275, names[2], fontsize=16, **alignment)\n",
    "        pylab.text(270, 275, names[3], fontsize=16, **alignment)\n",
    "\n",
    "        \n",
    "    leg_names = [names[0], names[2], names[3], names[1]]    ## the legend function messes up the names order so gave it manually here\n",
    "    leg = ax.legend(leg_names, loc='best', fancybox=True)\n",
    "    leg.get_frame().set_alpha(0.5)\n",
    "\n",
    "    if show_plot:\n",
    "        pylab.show()\n",
    "\n"
   ]
  },
  {
   "cell_type": "markdown",
   "metadata": {},
   "source": [
    "## Test"
   ]
  },
  {
   "cell_type": "code",
   "execution_count": 22,
   "metadata": {
    "collapsed": false
   },
   "outputs": [],
   "source": [
    "venn4([range(10), range(5,10), range(3,10), range(4,16)], [\"aaaa\", \"bbbb\", \"cccc\", \"dddd\"], figsize=(12,12))"
   ]
  },
  {
   "cell_type": "raw",
   "metadata": {},
   "source": []
  },
  {
   "cell_type": "markdown",
   "metadata": {},
   "source": [
    "##Test function"
   ]
  },
  {
   "cell_type": "code",
   "execution_count": null,
   "metadata": {
    "collapsed": false
   },
   "outputs": [],
   "source": [
    "#--------------------------------------------------------------------\n",
    "def test():\n",
    "    \"\"\" a test function to show basic usage of venn()\"\"\"\n",
    "\n",
    "    # venn3()\n",
    "    venn([range(10), range(5,15), range(3,8)], [\"aaaa\", \"bbbb\", \"cccc\"], fill=\"both\", show_names=False)\n",
    "    # venn2()\n",
    "    venn([range(10), range(5,15)])\n",
    "    venn([range(10), range(5,15)], [\"aaaa\", \"bbbb\"], fill=\"logic\", show_names=False)\n",
    "    # venn4()\n",
    "    venn([range(10), range(5,15), range(3,8), range(4,9)], [\"aaaa\", \"bbbb\", \"cccc\", \"dddd\"], figsize=(12,12))\n",
    "\n",
    "#--------------------------------------------------------------------\n",
    "if __name__ == '__main__':\n",
    "    test()"
   ]
  },
  {
   "cell_type": "markdown",
   "metadata": {},
   "source": [
    "## My data\n"
   ]
  },
  {
   "cell_type": "code",
   "execution_count": 2,
   "metadata": {
    "collapsed": false
   },
   "outputs": [],
   "source": [
    "Sample_0 = []\n",
    "Sample_1 = []\n",
    "Sample_2 = []\n",
    "Sample_3 = []\n",
    "\n",
    "seqNumber = 1\n",
    "for line in open(\"/media/dan/34D5D1CE642D7E36/2013076_Hanfling_Bernd/Stacks/Stacks_analyses_V3/Cru_gold_hyb_common_catalog_test/test3_cru_gib_comm_hyb/batch_1.catalog.tags.tsv\",\"r\").readlines():\n",
    "    locfield = line.strip().split()[7].split(',') ## Isolate and split the relevant column    \n",
    "    \n",
    "    for loc in locfield:\n",
    "        if loc.startswith('1_'): ## MY5\n",
    "            Sample_0.append(seqNumber) ### Find a way to give these list names automatically\n",
    "        if loc.startswith('2_'): ## POLEN\n",
    "            Sample_1.append(seqNumber)\n",
    "        if loc.startswith('192_'): ## RM31\n",
    "            Sample_2.append(seqNumber)\n",
    "        if loc.startswith('3_'): ## SWED\n",
    "            Sample_3.append(seqNumber)\n",
    "    seqNumber += 1  ## Increment seq number after every line (tag)\n",
    "    \n",
    "\n",
    "venn4([set(Sample_0), set(Sample_1), set(Sample_2), set(Sample_3)], [\"MY5\", \"POLEN\", \"RM31\", \"SWED\"], figsize=(12,12))\n",
    "    "
   ]
  },
  {
   "cell_type": "code",
   "execution_count": null,
   "metadata": {
    "collapsed": false
   },
   "outputs": [],
   "source": []
  }
 ],
 "metadata": {
  "kernelspec": {
   "display_name": "Python 2",
   "language": "python",
   "name": "python2"
  },
  "language_info": {
   "codemirror_mode": {
    "name": "ipython",
    "version": 2
   },
   "file_extension": ".py",
   "mimetype": "text/x-python",
   "name": "python",
   "nbconvert_exporter": "python",
   "pygments_lexer": "ipython2",
   "version": "2.7.6"
  }
 },
 "nbformat": 4,
 "nbformat_minor": 0
}
