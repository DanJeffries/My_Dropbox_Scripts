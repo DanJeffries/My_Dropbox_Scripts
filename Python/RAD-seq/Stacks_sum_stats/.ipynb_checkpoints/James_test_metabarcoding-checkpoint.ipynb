{
 "cells": [
  {
   "cell_type": "code",
   "execution_count": 10,
   "metadata": {
    "collapsed": false
   },
   "outputs": [
    {
     "name": "stdout",
     "output_type": "stream",
     "text": [
      "a\n",
      "b\n"
     ]
    }
   ],
   "source": [
    "abc = [\"a\",\"b\",\"c\"]\n",
    "\n",
    "print abc[0]\n",
    "print abc[1]"
   ]
  },
  {
   "cell_type": "code",
   "execution_count": 26,
   "metadata": {
    "collapsed": false
   },
   "outputs": [
    {
     "name": "stdout",
     "output_type": "stream",
     "text": [
      "/home/dan/Desktop/james_test/A22T125:1_4/BLAST_0.95/A22T125:1_4-results.txt\n",
      "nohit 13.78\n",
      "Thaumetopoea processionea 81.34\n",
      "Astatotilapia calliptera 1.1\n",
      "Triops cancriformis 1.83\n",
      "Carcelia 1.95\n",
      "species 86.22\n",
      "/home/dan/Desktop/james_test/A22T136:1_1/BLAST_0.95/A22T136:1_1-results.txt\n",
      "Pimpla 2.39\n",
      "Carcelia 72.51\n",
      "species 81.52\n",
      "Thaumetopoea processionea 6.63\n",
      "nohit 18.48\n"
     ]
    }
   ],
   "source": [
    "import os\n",
    "workingdir = \"/home/dan/Desktop/james_test/\"\n",
    "\n",
    "#for sim_score in range(1,101):\n",
    "for root, dirs, files in os.walk(workingdir): ## walk through directory\n",
    "    for fil in files:\n",
    "        file_path = \"%s/%s\" %(root,fil) ## make file path string\n",
    "        opened_file = open(file_path, 'r').readlines()\n",
    "        if \"BLAST\" and \"results\" in file_path: ## change this line to target different files\n",
    "            dicta = {}\n",
    "            print file_path\n",
    "            for line in opened_file:\n",
    "                if \"%\" in line:\n",
    "                    name = line.strip().split(\":\")[0]\n",
    "                    percentage = float(line.strip().split(\"(\")[1].split()[0])\n",
    "                    reads = float(line.strip().split(\"(\")[1].split()[0])\n",
    "                    dicta[name] = percentage\n",
    "\n",
    "            for species in dicta.keys():\n",
    "                if dicta[species] > 0:\n",
    "                    print species, dicta[species]\n",
    "                \n",
    "                "
   ]
  }
 ],
 "metadata": {
  "kernelspec": {
   "display_name": "Python 2",
   "language": "python",
   "name": "python2"
  },
  "language_info": {
   "codemirror_mode": {
    "name": "ipython",
    "version": 2
   },
   "file_extension": ".py",
   "mimetype": "text/x-python",
   "name": "python",
   "nbconvert_exporter": "python",
   "pygments_lexer": "ipython2",
   "version": "2.7.6"
  }
 },
 "nbformat": 4,
 "nbformat_minor": 0
}
