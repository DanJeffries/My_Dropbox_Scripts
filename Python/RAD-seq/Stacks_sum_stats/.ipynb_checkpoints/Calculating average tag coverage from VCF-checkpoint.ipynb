{
 "cells": [
  {
   "cell_type": "markdown",
   "metadata": {},
   "source": [
    "## Caluculating Avereage tag coverage from VCF file\n"
   ]
  },
  {
   "cell_type": "code",
   "execution_count": 1,
   "metadata": {
    "collapsed": false
   },
   "outputs": [],
   "source": [
    "import numpy as np\n",
    "import matplotlib.pyplot as plt\n",
    "\n",
    "def av_tag_cov(vcf_path, out_path):\n",
    "    vcf = open(vcf_path, 'r')\n",
    "\n",
    "    tag_means = []\n",
    "    tag_counter = 0\n",
    "    for line in vcf.readlines():\n",
    "        tag_cov = []\n",
    "        if not line.startswith(\"#\"):\n",
    "    \n",
    "            tag_counter += 1\n",
    "            for sample in line.split()[9:]:\n",
    "                tag_cov.append(float(sample.split(\":\")[1]))\n",
    "                \n",
    "            tag_cov = np.asarray(tag_cov)\n",
    "            tag_means.append(np.mean(tag_cov))\n",
    "    \n",
    "    ## Print some stats\n",
    "    print \"Number of tags = \", tag_counter\n",
    "    print \"Average tag coverage\", np.mean(tag_means), \"(+-\", np.std(tag_means), \")\"\n",
    "    \n",
    "     \n",
    "    ## plot the histogram - can save this if I want to make it cline executable\n",
    "    plt.hist(tag_means, bins = 100)\n",
    "    plt.show()\n",
    "    \n",
    "    ## write to a file in the output directory specified\n",
    "    nf = open(out_path, 'w')\n",
    "\n",
    "    for tag in tag_means:\n",
    "        if isinstance(tag, (int, float)):\n",
    "            nf.write(str(tag)+\"\\n\")\n",
    "            \n",
    "    nf.close()\n",
    "\n",
    "\n"
   ]
  },
  {
   "cell_type": "code",
   "execution_count": 2,
   "metadata": {
    "collapsed": false
   },
   "outputs": [
    {
     "name": "stdout",
     "output_type": "stream",
     "text": [
      "Number of tags =  1449\n",
      "Average tag coverage 61.7365362069 (+- 45.8825842965 )\n"
     ]
    },
    {
     "data": {
      "image/png": "[encoded data removed]",
      "text/plain": [
       "<matplotlib.figure.Figure at 0x7fd55c7b5e90>"
      ]
     },
     "metadata": {},
     "output_type": "display_data"
    }
   ],
   "source": [
    "%matplotlib inline\n",
    "\n",
    "myvcf = \"/home/djeffrie/Data/Caspers_data/2lanes/Stacks_outs/Populations_all/batch_2.vcf\"\n",
    "out = \"/home/djeffrie/Data/Caspers_data/2lanes/Stacks_outs/Populations_all/Average_snp_covs.txt\"\n",
    "av_tag_cov(myvcf, out)\n"
   ]
  }
 ],
 "metadata": {
  "kernelspec": {
   "display_name": "Python 2",
   "language": "python",
   "name": "python2"
  },
  "language_info": {
   "codemirror_mode": {
    "name": "ipython",
    "version": 2
   },
   "file_extension": ".py",
   "mimetype": "text/x-python",
   "name": "python",
   "nbconvert_exporter": "python",
   "pygments_lexer": "ipython2",
   "version": "2.7.10"
  }
 },
 "nbformat": 4,
 "nbformat_minor": 0
}
