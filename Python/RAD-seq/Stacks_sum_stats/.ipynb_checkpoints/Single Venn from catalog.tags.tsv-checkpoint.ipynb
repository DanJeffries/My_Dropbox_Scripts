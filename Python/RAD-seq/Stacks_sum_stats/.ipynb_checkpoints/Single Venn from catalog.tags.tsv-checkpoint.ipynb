{
 "cells": [
  {
   "cell_type": "code",
   "execution_count": 1,
   "metadata": {
    "collapsed": false
   },
   "outputs": [],
   "source": [
    "## Load modules and functions\n",
    "\n",
    "import os\n",
    "import subprocess\n",
    "import matplotlib\n",
    "from matplotlib_venn import venn3\n",
    "from matplotlib import pyplot as plt\n",
    "import numpy as np\n",
    "import re"
   ]
  },
  {
   "cell_type": "code",
   "execution_count": 7,
   "metadata": {
    "collapsed": false
   },
   "outputs": [],
   "source": [
    "## Assign the seqNumber to a list depending on which individuals it is present in\n",
    "Sample_0 = []\n",
    "Sample_1 = []\n",
    "Sample_2 = []\n",
    "\n",
    "seqNumber = 1\n",
    "for line in open(\"/media/dan/34D5D1CE642D7E36/2013076_Hanfling_Bernd/Stacks/Stacks_analyses_V3/Cru_gold_hyb_common_catalog_test/test3_cru_gib_comm_hyb/batch_2.catalog.tags.tsv\",\"r\").readlines():\n",
    "    locfield = line.strip().split()[7].split(',') ## Isolate and split the relevant column    \n",
    "    \n",
    "    for loc in locfield:\n",
    "        if loc.startswith('192_'): \n",
    "            Sample_0.append(seqNumber) ### Find a way to give these list names automatically\n",
    "        if loc.startswith('2_'):\n",
    "            Sample_1.append(seqNumber)\n",
    "        if loc.startswith('3_'):\n",
    "            Sample_2.append(seqNumber)\n",
    "    seqNumber += 1  ## Increment seq number after every line (tag)\n",
    "\n",
    "        ## Add the venn diagram \n",
    "\n",
    "venn3([set(Sample_0), set(Sample_1), set(Sample_2)], (\"RM31\",\"POLEN\",\"SWED\"))\n",
    "plt.title(\"Common, Crucian, Cru-gbi_Hybrid\")\n",
    "plt.show()"
   ]
  },
  {
   "cell_type": "code",
   "execution_count": null,
   "metadata": {
    "collapsed": false
   },
   "outputs": [],
   "source": [
    "help(venn"
   ]
  }
 ],
 "metadata": {
  "kernelspec": {
   "display_name": "Python 2",
   "language": "python",
   "name": "python2"
  },
  "language_info": {
   "codemirror_mode": {
    "name": "ipython",
    "version": 2
   },
   "file_extension": ".py",
   "mimetype": "text/x-python",
   "name": "python",
   "nbconvert_exporter": "python",
   "pygments_lexer": "ipython2",
   "version": "2.7.6"
  }
 },
 "nbformat": 4,
 "nbformat_minor": 0
}
