{
 "cells": [
  {
   "cell_type": "code",
   "execution_count": 1,
   "metadata": {
    "collapsed": false
   },
   "outputs": [],
   "source": [
    "import os\n",
    "import subprocess\n",
    "import numpy as np ## Put the imports in here because, for some reason, have to import them each time a new kernel starts, or the plots are plotted over eachother\n",
    "import collections\n",
    "import pandas as pd\n",
    "import matplotlib.pyplot as plt\n",
    "import matplotlib.pylab as py\n",
    "import os\n",
    "import csv\n",
    "from collections import Counter\n",
    "import re"
   ]
  },
  {
   "cell_type": "code",
   "execution_count": 26,
   "metadata": {
    "collapsed": false
   },
   "outputs": [
    {
     "name": "stdout",
     "output_type": "stream",
     "text": [
      "['BF04\\t0\\t14.94', 'BF04\\t2\\t21.61', 'BF04\\t4\\t22.89', 'BF04\\t6\\t23.41', 'BF04\\t8\\t23.96', 'BF04\\t10\\t24.7', 'EP01\\t0\\t15.64', 'EP01\\t2\\t21.19', 'EP01\\t4\\t22.09', 'EP01\\t6\\t22.68', 'EP01\\t8\\t23.29', 'EP01\\t10\\t24.05', 'GBP7\\t0\\t12.82', 'GBP7\\t2\\t25.13', 'GBP7\\t4\\t26.64', 'GBP7\\t6\\t27.42', 'GBP7\\t8\\t28.31', 'GBP7\\t10\\t29.5']\n",
      "/media/dan/34D5D1CE642D7E36/2013076_Hanfling_Bernd/Stacks/Stacks_analyses_V3/Incremental_tests/Batch_2/cru_gold_putHyb//all_m_test_coverage_data.txt\n"
     ]
    }
   ],
   "source": [
    "directory = '/media/dan/34D5D1CE642D7E36/2013076_Hanfling_Bernd/Stacks/Stacks_analyses_TRIMMED/Thesis_Incremental_runs/CRU_CYP_TESTDIR_1'\n",
    "\n",
    "\n",
    "\n",
    "\n",
    "sample_coverage = []\n",
    "sample_names = []\n",
    "cov_values = []\n",
    "cov_data = []\n",
    "\n",
    "def natural_key(string_): \n",
    "        return [int(s) if s.isdigit() else s for s in re.split(r'(\\d+)', string_)]\n",
    "    \n",
    "for root, dirs, files in os.walk(directory):\n",
    "    for fil in files:\n",
    "        if fil.endswith(\"data.txt\") and 'm_' in root:\n",
    "            data_file = open(str(root+'/'+fil), 'r')\n",
    "            data = [int(i.lstrip('0')) for i in data_file.readlines()]\n",
    "            sample_coverage.append(fil.partition('_')[0] + \"\\t\" + root.split('/')[-1].split('_')[1]+\"\\t\"+ str(np.round(np.mean(data),2)))\n",
    "sample_coverage = sorted(sample_coverage, key = natural_key)\n",
    "print sample_coverage\n",
    "f = open(directory+'/all_m_test_coverage_data.txt', 'w')\n",
    "print directory+'/all_m_test_coverage_data.txt'\n",
    "for sample in sample_coverage:\n",
    "    f.write(sample+'\\n')\n",
    "f.close()"
   ]
  },
  {
   "cell_type": "code",
   "execution_count": null,
   "metadata": {
    "collapsed": false
   },
   "outputs": [],
   "source": []
  }
 ],
 "metadata": {
  "kernelspec": {
   "display_name": "Python 2",
   "language": "python",
   "name": "python2"
  },
  "language_info": {
   "codemirror_mode": {
    "name": "ipython",
    "version": 2
   },
   "file_extension": ".py",
   "mimetype": "text/x-python",
   "name": "python",
   "nbconvert_exporter": "python",
   "pygments_lexer": "ipython2",
   "version": "2.7.6"
  }
 },
 "nbformat": 4,
 "nbformat_minor": 0
}
