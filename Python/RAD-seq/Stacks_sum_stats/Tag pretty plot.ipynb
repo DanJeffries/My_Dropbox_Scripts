{
 "metadata": {
  "name": "",
  "signature": "sha256:3c0a0ef660db51fa68c38e6a182ef69c65bdd01e980218563e06852e8afdf5e3"
 },
 "nbformat": 3,
 "nbformat_minor": 0,
 "worksheets": [
  {
   "cells": [
    {
     "cell_type": "markdown",
     "metadata": {},
     "source": [
      "## Make file for R"
     ]
    },
    {
     "cell_type": "code",
     "collapsed": false,
     "input": [
      "import os"
     ],
     "language": "python",
     "metadata": {},
     "outputs": [],
     "prompt_number": 29
    },
    {
     "cell_type": "code",
     "collapsed": false,
     "input": [
      "def natural_key(string_): \n",
      "        return [int(s) if s.isdigit() else s for s in re.split(r'(\\d+)', string_)]"
     ],
     "language": "python",
     "metadata": {},
     "outputs": [],
     "prompt_number": 30
    },
    {
     "cell_type": "code",
     "collapsed": false,
     "input": [
      "def Tag_file_maker(directory):\n",
      "    for root, dirs, files in os.walk(directory):\n",
      "        for fil in files:\n",
      "            if 'm_tests_Tag_numbers.txt' in fil:\n",
      "                f = open(directory+fil, 'r')\n",
      "    nf = open(directory+'all_tag_changes.txt', 'w')\n",
      "    nf.write(\"m_value\\tSample\\tNo_Tags\\n\")\n",
      "    for line in f.readlines():\n",
      "        print (line.split('/')[0].split('_')[-1] +'\\t'+ line.split('/')[1].split('_')[0]+'\\t'+line.split()[-1]+'\\n')\n",
      "        nf.write(line.split('/')[0].split('_')[-1] +'\\t'+ line.split('/')[1].split('_')[0]+'\\t'+line.split()[-1]+'\\n')\n",
      "    nf.close()\n",
      "Tag_file_maker('/media/dan/34D5D1CE642D7E36/2013076_Hanfling_Bernd/Stacks/Stacks_analyses_V3/Incremental_tests/Batch_1/cru_gold_hyb_1/')"
     ],
     "language": "python",
     "metadata": {},
     "outputs": [
      {
       "output_type": "stream",
       "stream": "stdout",
       "text": [
        "0\tCAKE10\t115288\n",
        "\n",
        "0\tGBP5\t179464\n",
        "\n",
        "0\tHOLT10\t223923\n",
        "\n",
        "2\tCAKE10\t51081\n",
        "\n",
        "2\tGBP5\t58836\n",
        "\n",
        "2\tHOLT10\t80030\n",
        "\n",
        "4\tCAKE10\t48866\n",
        "\n",
        "4\tGBP5\t53021\n",
        "\n",
        "4\tHOLT10\t74434\n",
        "\n",
        "6\tCAKE10\t47769\n",
        "\n",
        "6\tGBP5\t50789\n",
        "\n",
        "6\tHOLT10\t69504\n",
        "\n",
        "8\tCAKE10\t46914\n",
        "\n",
        "8\tGBP5\t47598\n",
        "\n",
        "8\tHOLT10\t62947\n",
        "\n",
        "10\tCAKE10\t46088\n",
        "\n",
        "10\tGBP5\t43301\n",
        "\n",
        "10\tHOLT10\t55306\n",
        "\n",
        "12\tCAKE10\t45213\n",
        "\n",
        "12\tGBP5\t37867\n",
        "\n",
        "12\tHOLT10\t47300\n",
        "\n",
        "14\tCAKE10\t44274\n",
        "\n",
        "14\tGBP5\t32344\n",
        "\n",
        "14\tHOLT10\t39976\n",
        "\n"
       ]
      }
     ],
     "prompt_number": 37
    },
    {
     "cell_type": "code",
     "collapsed": false,
     "input": [],
     "language": "python",
     "metadata": {},
     "outputs": []
    }
   ],
   "metadata": {}
  }
 ]
}