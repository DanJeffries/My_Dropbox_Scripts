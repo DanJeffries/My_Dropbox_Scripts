{
 "cells": [
  {
   "cell_type": "markdown",
   "metadata": {},
   "source": [
    "### This script manually finds loci that are fixed between the two species specified in a vcf"
   ]
  },
  {
   "cell_type": "code",
   "execution_count": 65,
   "metadata": {
    "collapsed": false
   },
   "outputs": [
    {
     "name": "stdout",
     "output_type": "stream",
     "text": [
      "Number of fixed diagnostic SNPs found = 4\n"
     ]
    }
   ],
   "source": [
    "import vcf\n",
    "from collections import Counter\n",
    "\n",
    "sp1 = \"GOLD\"\n",
    "nsp1 = 9\n",
    "sp2 = \"GIB\"\n",
    "nsp2 = 17\n",
    "\n",
    "workingdir = \"/media/dan/34D5D1CE642D7E36/2013076_Hanfling_Bernd/Stacks/Stacks_analyses_TRIMMED/With_reference/Data_links/pstacks_Pure_spp_only/Diagnostic_SNPs/AU_GI_populations//\"\n",
    "myvcf = open(workingdir+\"Ho_filtered.vcf\", 'r').readlines()\n",
    "\n",
    "vcfread = vcf.Reader(open(workingdir+\"Ho_filtered.vcf\", 'r'))\n",
    "assignments = open(workingdir+\"pop_codes.clust\", 'r').readlines()\n",
    "\n",
    "\n",
    "dicti = {}\n",
    "diagnostic_loci = []\n",
    "for record in vcfread:\n",
    "    dicti[record.ID+\"_\"+str(record.POS)] = {}\n",
    "    dicti[record.ID+\"_\"+str(record.POS)] = {sp1:[],sp2:[]}\n",
    "    #print record\n",
    "    for sample in record.samples:\n",
    "\n",
    "        for assignment in assignments:\n",
    "            #print sample.sample, assignment.split()[1]\n",
    "            if assignment.split()[1] == sample.sample and assignment.split()[2].strip() == sp1:\n",
    "                dicti[record.ID+\"_\"+str(record.POS)][sp1].append(sample['GT'])\n",
    "            elif assignment.split()[1] == sample.sample and assignment.split()[2].strip() == sp2:\n",
    "                dicti[record.ID+\"_\"+str(record.POS)][sp2].append(sample['GT'])\n",
    "    sp1_gt_counts = Counter(dicti[record.ID+\"_\"+str(record.POS)][sp1])\n",
    "    sp2_gt_counts = Counter(dicti[record.ID+\"_\"+str(record.POS)][sp2])\n",
    "    \n",
    "    if sp1_gt_counts[\"0/0\"] + sp1_gt_counts[\"./.\"] == nsp1 and sp2_gt_counts[\"1/1\"] + sp2_gt_counts[\"./.\"] == nsp2: ## incorporates the missing data too\n",
    "        diagnostic_loci.append((record.ID, str(record.POS)))\n",
    "    elif sp1_gt_counts[\"1/1\"] + sp1_gt_counts[\"./.\"] == nsp1 and sp2_gt_counts[\"0/0\"] + sp2_gt_counts[\"./.\"] == nsp2:\n",
    "        diagnostic_loci.append((record.ID, str(record.POS)))\n",
    "    \n",
    "    #print record.ID+\"_\"+str(record.POS), \"Cru counts =\", Counter(dicti[record.ID+\"_\"+str(record.POS)][\"CRU\"])\n",
    "    #print record.ID+\"_\"+str(record.POS), \"Gold counts =\", Counter(dicti[record.ID+\"_\"+str(record.POS)][\"GOLD\"])\n",
    "\n",
    "print \"Number of fixed diagnostic SNPs found =\", len(diagnostic_loci)\n",
    "\n",
    "diagnostic_vcf = open(workingdir+sp1+\"_\"+sp2+\"_fixed_diagnostic_snps.vcf\", 'w')\n",
    "\n",
    "for line in myvcf:\n",
    "    if line.startswith(\"#\"): ## headers\n",
    "        diagnostic_vcf.write(line)\n",
    "    else:\n",
    "        Loc_ID = line.split()[2]\n",
    "        #scaffold = line.split()[0]\n",
    "        base = line.split()[1]\n",
    "        if (Loc_ID, base) in diagnostic_loci:\n",
    "            diagnostic_vcf.write(line)\n",
    "diagnostic_vcf.close()\n",
    "                \n"
   ]
  },
  {
   "cell_type": "code",
   "execution_count": null,
   "metadata": {
    "collapsed": true
   },
   "outputs": [],
   "source": []
  }
 ],
 "metadata": {
  "kernelspec": {
   "display_name": "Python 2",
   "language": "python",
   "name": "python2"
  },
  "language_info": {
   "codemirror_mode": {
    "name": "ipython",
    "version": 2
   },
   "file_extension": ".py",
   "mimetype": "text/x-python",
   "name": "python",
   "nbconvert_exporter": "python",
   "pygments_lexer": "ipython2",
   "version": "2.7.6"
  }
 },
 "nbformat": 4,
 "nbformat_minor": 0
}
