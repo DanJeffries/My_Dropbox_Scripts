{
 "cells": [
  {
   "cell_type": "code",
   "execution_count": 2,
   "metadata": {
    "collapsed": false
   },
   "outputs": [],
   "source": [
    "import os\n",
    "import subprocess\n",
    "import numpy as np ## Put the imports in here because, for some reason, have to import them each time a new kernel starts, or the plots are plotted over eachother\n",
    "import collections\n",
    "import pandas as pd\n",
    "import matplotlib.pyplot as plt\n",
    "import matplotlib.pylab as py\n",
    "import os\n",
    "import csv\n",
    "from collections import Counter\n",
    "import re"
   ]
  },
  {
   "cell_type": "markdown",
   "metadata": {},
   "source": [
    "### Find the average coverage in a sample, from the covergae data file outputted from the incremental_U  run"
   ]
  },
  {
   "cell_type": "code",
   "execution_count": 3,
   "metadata": {
    "collapsed": false
   },
   "outputs": [],
   "source": [
    "\n",
    "\n",
    "def sample_av_coverage(parameter_test_dir, parameter):\n",
    "    \n",
    "    sample_coverage = []\n",
    "    sample_names = []\n",
    "    cov_values = []\n",
    "    cov_data = []\n",
    "    \n",
    "    def natural_key(string_): \n",
    "            return [int(s) if s.isdigit() else s for s in re.split(r'(\\d+)', string_)]\n",
    "        \n",
    "    for root, dirs, files in os.walk(parameter_test_dir):\n",
    "        for fil in files:\n",
    "            if fil.endswith(\"data.txt\") and parameter+\"_\" in root:\n",
    "                data_file = open(str(root+'/'+fil), 'r')\n",
    "                data = [int(i.lstrip('0')) for i in data_file.readlines()]\n",
    "                sample_coverage.append(fil.partition('_')[0] + \"\\t\" + root.split('/')[-1].split('_')[1]+\"\\t\"+ str(np.round(np.mean(data),2)))\n",
    "    sample_coverage = sorted(sample_coverage, key = natural_key)\n",
    "    print sample_coverage\n",
    "    f = open(parameter_test_dir+'/all_'+parameter+'_test_coverage_data.txt', 'w')\n",
    "    print parameter_test_dir+'/all_'+parameter+'_test_coverage_data.txt'\n",
    "    for sample in sample_coverage:\n",
    "        f.write(sample+'\\n')\n",
    "    f.close()"
   ]
  },
  {
   "cell_type": "code",
   "execution_count": 10,
   "metadata": {
    "collapsed": false
   },
   "outputs": [
    {
     "name": "stdout",
     "output_type": "stream",
     "text": [
      "['LAS01\\t1\\t24.96', 'LAS01\\t2\\t26.5', 'LAS01\\t3\\t27.14', 'LAS01\\t4\\t27.46', 'LAS01\\t5\\t27.67', 'LAS01\\t6\\t27.83', 'LAS01\\t7\\t27.96', 'LAS01\\t8\\t28.07', 'SK2\\t1\\t28.89', 'SK2\\t2\\t29.41', 'SK2\\t3\\t29.73', 'SK2\\t4\\t30.06', 'SK2\\t5\\t30.36', 'SK2\\t6\\t30.66', 'SK2\\t7\\t30.94', 'SK2\\t8\\t31.18', 'SWED97\\t1\\t21.73', 'SWED97\\t2\\t23.06', 'SWED97\\t3\\t24.03', 'SWED97\\t4\\t24.71', 'SWED97\\t5\\t25.11', 'SWED97\\t6\\t25.42', 'SWED97\\t7\\t25.57', 'SWED97\\t8\\t25.69']\n",
      "/media/dan/34D5D1CE642D7E36/2013076_Hanfling_Bernd/Stacks/Stacks_analyses_TRIMMED/Thesis_Incremental_runs//CRU_GIB_TESTDIR_3//all_M_test_coverage_data.txt\n",
      "['HOLT9\\t1\\t13.08', 'HOLT9\\t2\\t13.54', 'HOLT9\\t3\\t13.94', 'HOLT9\\t4\\t14.3', 'HOLT9\\t5\\t14.61', 'HOLT9\\t6\\t14.87', 'HOLT9\\t7\\t15.07', 'HOLT9\\t8\\t15.23', 'RM8\\t1\\t20.19', 'RM8\\t2\\t20.54', 'RM8\\t3\\t20.78', 'RM8\\t4\\t21.01', 'RM8\\t5\\t21.22', 'RM8\\t6\\t21.44', 'RM8\\t7\\t21.65', 'RM8\\t8\\t21.83', 'RM31\\t1\\t25.33', 'RM31\\t2\\t26.42', 'RM31\\t3\\t27.01', 'RM31\\t4\\t27.42', 'RM31\\t5\\t27.75', 'RM31\\t6\\t28.01', 'RM31\\t7\\t28.24', 'RM31\\t8\\t28.44']\n",
      "/media/dan/34D5D1CE642D7E36/2013076_Hanfling_Bernd/Stacks/Stacks_analyses_TRIMMED/Thesis_Incremental_runs//CRU_CYP_TESTDIR_1//all_M_test_coverage_data.txt\n",
      "['EP01\\t1\\t22.54', 'EP01\\t2\\t23.25', 'EP01\\t3\\t23.89', 'EP01\\t4\\t24.48', 'EP01\\t5\\t24.96', 'EP01\\t6\\t25.34', 'EP01\\t7\\t25.63', 'EP01\\t8\\t25.88', 'OU01\\t1\\t38.46', 'OU01\\t2\\t39.11', 'OU01\\t3\\t39.49', 'OU01\\t4\\t39.92', 'OU01\\t5\\t40.29', 'OU01\\t6\\t40.67', 'OU01\\t7\\t41.02', 'OU01\\t8\\t41.35', 'RM32\\t1\\t21.14', 'RM32\\t2\\t21.96', 'RM32\\t3\\t22.45', 'RM32\\t4\\t22.79', 'RM32\\t5\\t23.07', 'RM32\\t6\\t23.32', 'RM32\\t7\\t23.51', 'RM32\\t8\\t23.69']\n",
      "/media/dan/34D5D1CE642D7E36/2013076_Hanfling_Bernd/Stacks/Stacks_analyses_TRIMMED/Thesis_Incremental_runs//CRU_CYP_TESTDIR_2//all_M_test_coverage_data.txt\n",
      "['DEND3\\t1\\t16.64', 'DEND3\\t2\\t17.36', 'DEND3\\t3\\t17.71', 'DEND3\\t4\\t17.99', 'DEND3\\t5\\t18.21', 'DEND3\\t6\\t18.39', 'DEND3\\t7\\t18.55', 'DEND3\\t8\\t18.68', 'POLEN4\\t1\\t25.24', 'POLEN4\\t2\\t25.72', 'POLEN4\\t3\\t26.02', 'POLEN4\\t4\\t26.33', 'POLEN4\\t5\\t26.58', 'POLEN4\\t6\\t26.84', 'POLEN4\\t7\\t27.09', 'POLEN4\\t8\\t27.3', 'VIKKHY2\\t1\\t16.73', 'VIKKHY2\\t2\\t17.74', 'VIKKHY2\\t3\\t18.49', 'VIKKHY2\\t4\\t19.03', 'VIKKHY2\\t5\\t19.38', 'VIKKHY2\\t6\\t19.61', 'VIKKHY2\\t7\\t19.75', 'VIKKHY2\\t8\\t19.85']\n",
      "/media/dan/34D5D1CE642D7E36/2013076_Hanfling_Bernd/Stacks/Stacks_analyses_TRIMMED/Thesis_Incremental_runs//CRU_GIB_TESTDIR_1//all_M_test_coverage_data.txt\n",
      "['TU3\\t1\\t34.95', 'TU3\\t2\\t35.67', 'TU3\\t3\\t36.09', 'TU3\\t4\\t36.52', 'TU3\\t5\\t36.88', 'TU3\\t6\\t37.24', 'TU3\\t7\\t37.58', 'TU3\\t8\\t37.9', 'VIKKHY4\\t1\\t19.49', 'VIKKHY4\\t2\\t20.73', 'VIKKHY4\\t3\\t21.62', 'VIKKHY4\\t4\\t22.25', 'VIKKHY4\\t5\\t22.63', 'VIKKHY4\\t6\\t22.91', 'VIKKHY4\\t7\\t23.05', 'VIKKHY4\\t8\\t23.15', 'VIKKHY6\\t1\\t17.37', 'VIKKHY6\\t2\\t18.2', 'VIKKHY6\\t3\\t18.58', 'VIKKHY6\\t4\\t18.81', 'VIKKHY6\\t5\\t18.99', 'VIKKHY6\\t6\\t19.17', 'VIKKHY6\\t7\\t19.31', 'VIKKHY6\\t8\\t19.43']\n",
      "/media/dan/34D5D1CE642D7E36/2013076_Hanfling_Bernd/Stacks/Stacks_analyses_TRIMMED/Thesis_Incremental_runs//CRU_GIB_TESTDIR_2//all_M_test_coverage_data.txt\n",
      "['BF04\\t1\\t23.6', 'BF04\\t2\\t23.93', 'BF04\\t3\\t24.17', 'BF04\\t4\\t24.42', 'BF04\\t5\\t24.65', 'BF04\\t6\\t24.88', 'BF04\\t7\\t25.11', 'BF04\\t8\\t25.31', 'GBP19\\t1\\t24.31', 'GBP19\\t2\\t25.51', 'GBP19\\t3\\t26.08', 'GBP19\\t4\\t26.44', 'GBP19\\t5\\t26.72', 'GBP19\\t6\\t26.91', 'GBP19\\t7\\t27.07', 'GBP19\\t8\\t27.23', 'HOLT14\\t1\\t22.93', 'HOLT14\\t2\\t24.39', 'HOLT14\\t3\\t25.47', 'HOLT14\\t4\\t26.24', 'HOLT14\\t5\\t26.74', 'HOLT14\\t6\\t27.04', 'HOLT14\\t7\\t27.23', 'HOLT14\\t8\\t27.35']\n",
      "/media/dan/34D5D1CE642D7E36/2013076_Hanfling_Bernd/Stacks/Stacks_analyses_TRIMMED/Thesis_Incremental_runs//CRU_GOLD_TESTDIR_1//all_M_test_coverage_data.txt\n",
      "['FM01\\t1\\t23.15', 'FM01\\t2\\t24.56', 'FM01\\t3\\t25.62', 'FM01\\t4\\t26.39', 'FM01\\t5\\t26.85', 'FM01\\t6\\t27.13', 'FM01\\t7\\t27.3', 'FM01\\t8\\t27.41', 'FM05\\t1\\t36.59', 'FM05\\t2\\t37.14', 'FM05\\t3\\t37.49', 'FM05\\t4\\t37.88', 'FM05\\t5\\t38.25', 'FM05\\t6\\t38.62', 'FM05\\t7\\t38.97', 'FM05\\t8\\t39.28', 'GF2\\t1\\t39.95', 'GF2\\t2\\t42.12', 'GF2\\t3\\t43.19', 'GF2\\t4\\t43.78', 'GF2\\t5\\t44.25', 'GF2\\t6\\t44.58', 'GF2\\t7\\t44.86', 'GF2\\t8\\t45.09']\n",
      "/media/dan/34D5D1CE642D7E36/2013076_Hanfling_Bernd/Stacks/Stacks_analyses_TRIMMED/Thesis_Incremental_runs//CRU_GOLD_TESTDIR_2//all_M_test_coverage_data.txt\n",
      "['COP06\\t1\\t29.14', 'COP06\\t2\\t29.62', 'COP06\\t3\\t29.89', 'COP06\\t4\\t30.21', 'COP06\\t5\\t30.5', 'COP06\\t6\\t30.79', 'COP06\\t7\\t31.06', 'COP06\\t8\\t31.31', 'GF1\\t1\\t27.72', 'GF1\\t2\\t29.15', 'GF1\\t3\\t29.84', 'GF1\\t4\\t30.27', 'GF1\\t5\\t30.57', 'GF1\\t6\\t30.81', 'GF1\\t7\\t31.02', 'GF1\\t8\\t31.16', 'HOLT6\\t1\\t16.7', 'HOLT6\\t2\\t17.6', 'HOLT6\\t3\\t18.23', 'HOLT6\\t4\\t18.7', 'HOLT6\\t5\\t19.03', 'HOLT6\\t6\\t19.26', 'HOLT6\\t7\\t19.41', 'HOLT6\\t8\\t19.53']\n",
      "/media/dan/34D5D1CE642D7E36/2013076_Hanfling_Bernd/Stacks/Stacks_analyses_TRIMMED/Thesis_Incremental_runs//CRU_GOLD_TESTDIR_3//all_M_test_coverage_data.txt\n",
      "['LAS01\\t1\\t15.36', 'LAS01\\t2\\t24.8', 'LAS01\\t3\\t26.0', 'LAS01\\t4\\t26.44', 'LAS01\\t5\\t26.79', 'LAS01\\t6\\t27.14', 'LAS01\\t7\\t27.52', 'LAS01\\t8\\t27.98', 'SK2\\t1\\t15.05', 'SK2\\t2\\t27.76', 'SK2\\t3\\t28.69', 'SK2\\t4\\t29.08', 'SK2\\t5\\t29.43', 'SK2\\t6\\t29.73', 'SK2\\t7\\t30.01', 'SK2\\t8\\t30.28', 'SWED97\\t1\\t11.06', 'SWED97\\t2\\t21.62', 'SWED97\\t3\\t22.52', 'SWED97\\t4\\t22.97', 'SWED97\\t5\\t23.45', 'SWED97\\t6\\t24.02', 'SWED97\\t7\\t24.73', 'SWED97\\t8\\t25.6']\n",
      "/media/dan/34D5D1CE642D7E36/2013076_Hanfling_Bernd/Stacks/Stacks_analyses_TRIMMED/Thesis_Incremental_runs//CRU_GIB_TESTDIR_3//all_m_test_coverage_data.txt\n",
      "['HOLT9\\t1\\t7.9', 'HOLT9\\t2\\t11.4', 'HOLT9\\t3\\t11.87', 'HOLT9\\t4\\t12.38', 'HOLT9\\t5\\t13.05', 'HOLT9\\t6\\t13.93', 'HOLT9\\t7\\t15.08', 'HOLT9\\t8\\t16.54', 'RM8\\t1\\t10.29', 'RM8\\t2\\t19.29', 'RM8\\t3\\t19.85', 'RM8\\t4\\t20.16', 'RM8\\t5\\t20.46', 'RM8\\t6\\t20.78', 'RM8\\t7\\t21.13', 'RM8\\t8\\t21.55', 'RM31\\t1\\t11.55', 'RM31\\t2\\t24.72', 'RM31\\t3\\t25.88', 'RM31\\t4\\t26.34', 'RM31\\t5\\t26.68', 'RM31\\t6\\t27.01', 'RM31\\t7\\t27.35', 'RM31\\t8\\t27.76']\n",
      "/media/dan/34D5D1CE642D7E36/2013076_Hanfling_Bernd/Stacks/Stacks_analyses_TRIMMED/Thesis_Incremental_runs//CRU_CYP_TESTDIR_1//all_m_test_coverage_data.txt\n",
      "['EP01\\t1\\t17.52', 'EP01\\t2\\t22.39', 'EP01\\t3\\t22.96', 'EP01\\t4\\t23.29', 'EP01\\t5\\t23.6', 'EP01\\t6\\t23.89', 'EP01\\t7\\t24.21', 'EP01\\t8\\t24.54', 'OU01\\t1\\t25.01', 'OU01\\t2\\t36.98', 'OU01\\t3\\t38.21', 'OU01\\t4\\t38.77', 'OU01\\t5\\t39.17', 'OU01\\t6\\t39.5', 'OU01\\t7\\t39.79', 'OU01\\t8\\t40.12', 'RM32\\t1\\t10.91', 'RM32\\t2\\t20.54', 'RM32\\t3\\t21.31', 'RM32\\t4\\t21.69', 'RM32\\t5\\t22.06', 'RM32\\t6\\t22.45', 'RM32\\t7\\t22.89', 'RM32\\t8\\t23.4']\n",
      "/media/dan/34D5D1CE642D7E36/2013076_Hanfling_Bernd/Stacks/Stacks_analyses_TRIMMED/Thesis_Incremental_runs//CRU_CYP_TESTDIR_2//all_m_test_coverage_data.txt\n",
      "['DEND3\\t1\\t8.03', 'DEND3\\t2\\t13.46', 'DEND3\\t3\\t14.48', 'DEND3\\t4\\t15.46', 'DEND3\\t5\\t16.58', 'DEND3\\t6\\t17.71', 'DEND3\\t7\\t18.87', 'DEND3\\t8\\t20.08', 'POLEN4\\t1\\t13.17', 'POLEN4\\t2\\t24.29', 'POLEN4\\t3\\t25.0', 'POLEN4\\t4\\t25.38', 'POLEN4\\t5\\t25.71', 'POLEN4\\t6\\t26.02', 'POLEN4\\t7\\t26.37', 'POLEN4\\t8\\t26.74', 'VIKKHY2\\t1\\t8.65', 'VIKKHY2\\t2\\t16.54', 'VIKKHY2\\t3\\t17.22', 'VIKKHY2\\t4\\t17.58', 'VIKKHY2\\t5\\t17.98', 'VIKKHY2\\t6\\t18.48', 'VIKKHY2\\t7\\t19.14', 'VIKKHY2\\t8\\t20.01']\n",
      "/media/dan/34D5D1CE642D7E36/2013076_Hanfling_Bernd/Stacks/Stacks_analyses_TRIMMED/Thesis_Incremental_runs//CRU_GIB_TESTDIR_1//all_m_test_coverage_data.txt\n",
      "['TU3\\t1\\t13.59', 'TU3\\t2\\t32.53', 'TU3\\t3\\t34.74', 'TU3\\t4\\t35.36', 'TU3\\t5\\t35.77', 'TU3\\t6\\t36.09', 'TU3\\t7\\t36.42', 'TU3\\t8\\t36.74', 'VIKKHY4\\t1\\t11.31', 'VIKKHY4\\t2\\t19.92', 'VIKKHY4\\t3\\t20.56', 'VIKKHY4\\t4\\t20.93', 'VIKKHY4\\t5\\t21.27', 'VIKKHY4\\t6\\t21.61', 'VIKKHY4\\t7\\t22.05', 'VIKKHY4\\t8\\t22.59', 'VIKKHY6\\t1\\t9.41', 'VIKKHY6\\t2\\t14.92', 'VIKKHY6\\t3\\t15.7', 'VIKKHY6\\t4\\t16.52', 'VIKKHY6\\t5\\t17.47', 'VIKKHY6\\t6\\t18.57', 'VIKKHY6\\t7\\t19.68', 'VIKKHY6\\t8\\t20.81']\n",
      "/media/dan/34D5D1CE642D7E36/2013076_Hanfling_Bernd/Stacks/Stacks_analyses_TRIMMED/Thesis_Incremental_runs//CRU_GIB_TESTDIR_2//all_m_test_coverage_data.txt\n",
      "['BF04\\t1\\t16.41', 'BF04\\t2\\t22.4', 'BF04\\t3\\t23.3', 'BF04\\t4\\t23.65', 'BF04\\t5\\t23.92', 'BF04\\t6\\t24.16', 'BF04\\t7\\t24.43', 'BF04\\t8\\t24.72', 'GBP19\\t1\\t13.14', 'GBP19\\t2\\t24.09', 'GBP19\\t3\\t24.86', 'GBP19\\t4\\t25.3', 'GBP19\\t5\\t25.67', 'GBP19\\t6\\t26.08', 'GBP19\\t7\\t26.51', 'GBP19\\t8\\t27.02', 'HOLT14\\t1\\t13.24', 'HOLT14\\t2\\t23.75', 'HOLT14\\t3\\t24.4', 'HOLT14\\t4\\t24.79', 'HOLT14\\t5\\t25.13', 'HOLT14\\t6\\t25.46', 'HOLT14\\t7\\t25.84', 'HOLT14\\t8\\t26.24']\n",
      "/media/dan/34D5D1CE642D7E36/2013076_Hanfling_Bernd/Stacks/Stacks_analyses_TRIMMED/Thesis_Incremental_runs//CRU_GOLD_TESTDIR_1//all_m_test_coverage_data.txt\n",
      "['FM01\\t1\\t18.0', 'FM01\\t2\\t23.85', 'FM01\\t3\\t24.5', 'FM01\\t4\\t24.91', 'FM01\\t5\\t25.27', 'FM01\\t6\\t25.62', 'FM01\\t7\\t25.96', 'FM01\\t8\\t26.34', 'FM05\\t1\\t26.47', 'FM05\\t2\\t35.5', 'FM05\\t3\\t36.32', 'FM05\\t4\\t36.81', 'FM05\\t5\\t37.17', 'FM05\\t6\\t37.49', 'FM05\\t7\\t37.82', 'FM05\\t8\\t38.11', 'GF2\\t1\\t16.87', 'GF2\\t2\\t40.03', 'GF2\\t3\\t41.56', 'GF2\\t4\\t42.24', 'GF2\\t5\\t42.73', 'GF2\\t6\\t43.18', 'GF2\\t7\\t43.58', 'GF2\\t8\\t43.94']\n",
      "/media/dan/34D5D1CE642D7E36/2013076_Hanfling_Bernd/Stacks/Stacks_analyses_TRIMMED/Thesis_Incremental_runs//CRU_GOLD_TESTDIR_2//all_m_test_coverage_data.txt\n",
      "['COP06\\t1\\t17.45', 'COP06\\t2\\t27.8', 'COP06\\t3\\t28.9', 'COP06\\t4\\t29.29', 'COP06\\t5\\t29.59', 'COP06\\t6\\t29.9', 'COP06\\t7\\t30.17', 'COP06\\t8\\t30.44', 'GF1\\t1\\t14.19', 'GF1\\t2\\t27.64', 'GF1\\t3\\t28.66', 'GF1\\t4\\t29.12', 'GF1\\t5\\t29.48', 'GF1\\t6\\t29.84', 'GF1\\t7\\t30.21', 'GF1\\t8\\t30.63', 'HOLT6\\t1\\t9.51', 'HOLT6\\t2\\t15.21', 'HOLT6\\t3\\t15.87', 'HOLT6\\t4\\t16.5', 'HOLT6\\t5\\t17.27', 'HOLT6\\t6\\t18.23', 'HOLT6\\t7\\t19.33', 'HOLT6\\t8\\t20.55']\n",
      "/media/dan/34D5D1CE642D7E36/2013076_Hanfling_Bernd/Stacks/Stacks_analyses_TRIMMED/Thesis_Incremental_runs//CRU_GOLD_TESTDIR_3//all_m_test_coverage_data.txt\n"
     ]
    }
   ],
   "source": [
    "directory = '/media/dan/34D5D1CE642D7E36/2013076_Hanfling_Bernd/Stacks/Stacks_analyses_TRIMMED/Thesis_Incremental_runs/'\n",
    "parameters = [\"M\", \"m\"]\n",
    "for param in parameters:\n",
    "    for root, dirs, files in os.walk(directory):\n",
    "        for dir in dirs:\n",
    "            if \"TESTDIR\" in dir:\n",
    "                sample_av_coverage(root+\"/\"+dir+\"/\", param)\n",
    "    \n"
   ]
  }
 ],
 "metadata": {
  "kernelspec": {
   "display_name": "Python 2",
   "language": "python",
   "name": "python2"
  },
  "language_info": {
   "codemirror_mode": {
    "name": "ipython",
    "version": 2
   },
   "file_extension": ".py",
   "mimetype": "text/x-python",
   "name": "python",
   "nbconvert_exporter": "python",
   "pygments_lexer": "ipython2",
   "version": "2.7.6"
  }
 },
 "nbformat": 4,
 "nbformat_minor": 0
}
