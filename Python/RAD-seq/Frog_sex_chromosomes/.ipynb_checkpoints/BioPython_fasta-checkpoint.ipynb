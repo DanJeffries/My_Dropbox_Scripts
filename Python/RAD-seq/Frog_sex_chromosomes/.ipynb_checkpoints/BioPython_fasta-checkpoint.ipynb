{
 "cells": [
  {
   "cell_type": "code",
   "execution_count": null,
   "metadata": {
    "collapsed": true
   },
   "outputs": [],
   "source": [
    "### Mapping Pperezi SL markers to Rtemp and Xenopus"
   ]
  },
  {
   "cell_type": "code",
   "execution_count": 1,
   "metadata": {
    "collapsed": true
   },
   "outputs": [],
   "source": [
    "from Bio import SeqIO"
   ]
  },
  {
   "cell_type": "code",
   "execution_count": 20,
   "metadata": {
    "collapsed": false
   },
   "outputs": [],
   "source": [
    "Xengen = SeqIO.parse(\"/home/djeffrie/Data/Genomes/Xen_trop/Xtropicalis.v9.repeatMasked.fa\", \"fasta\")"
   ]
  },
  {
   "cell_type": "code",
   "execution_count": 30,
   "metadata": {
    "collapsed": false
   },
   "outputs": [
    {
     "name": "stdout",
     "output_type": "stream",
     "text": [
      "['scaffold96350.1|size25886', 'scaffold76093.1|size23063', 'scaffold5245.1|size150574', 'scaffold166273.1|size5497', 'Chr01']\n"
     ]
    }
   ],
   "source": [
    "## Temporaria scaffold names\n",
    "\n",
    "temp_scaffs = open(\"/home/djeffrie/Data/Pperezi/Stacks_outs/populations_r0.5_p1_kept/Rtemp_mapped_scaffs.txt\", 'r').readlines()\n",
    "\n",
    "temp_scaffs = [i.strip() for i in temp_scaffs]\n",
    "print temp_scaffs\n"
   ]
  },
  {
   "cell_type": "code",
   "execution_count": 36,
   "metadata": {
    "collapsed": false
   },
   "outputs": [],
   "source": [
    "temp_SL_scaffs = open(\"/home/djeffrie/Data/Pperezi/Stacks_outs/Rtemp_SL_scaffs.fa\", 'w')"
   ]
  },
  {
   "cell_type": "code",
   "execution_count": 37,
   "metadata": {
    "collapsed": false
   },
   "outputs": [],
   "source": [
    "tempgen = SeqIO.parse(\"/home/djeffrie/Data/Genomes/Rtemp/Rtemp_new.fa\", \"fasta\")\n",
    "\n",
    "for record in tempgen:\n",
    "    if record.id in temp_scaffs:\n",
    "        temp_SL_scaffs.write(record.format(\"fasta\"))\n",
    "        \n",
    "temp_SL_scaffs.close()\n",
    "        "
   ]
  },
  {
   "cell_type": "code",
   "execution_count": 42,
   "metadata": {
    "collapsed": false
   },
   "outputs": [
    {
     "name": "stdout",
     "output_type": "stream",
     "text": [
      "Chr01 194899139 ( 194 Mb )\n",
      "Chr02 170236069 ( 170 Mb )\n",
      "Chr03 137289692 ( 137 Mb )\n",
      "Chr04 133513928 ( 133 Mb )\n",
      "Chr05 146597336 ( 146 Mb )\n",
      "Chr06 135158710 ( 135 Mb )\n",
      "Chr07 117244592 ( 117 Mb )\n",
      "Chr08 117649117 ( 117 Mb )\n",
      "Chr09 80450090 ( 80 Mb )\n",
      "Chr10 39960583 ( 39 Mb )\n",
      "1268\n",
      "1290\n"
     ]
    }
   ],
   "source": [
    "Xengen = SeqIO.parse(\"/home/djeffrie/Data/Genomes/Xen_trop/Xtropicalis.v9.repeatMasked.fa\", \"fasta\")\n",
    "\n",
    "genChrlength = 0\n",
    "gentotlength = 0\n",
    "for record in Xengen:\n",
    "    if \"Chr\" in record.id:\n",
    "        length = len(record)\n",
    "        lengthmb = length/1000000\n",
    "        print record.id, length, \"(\", lengthmb, \"Mb )\"\n",
    "        genChrlength += lengthmb\n",
    "        gentotlength += lengthmb\n",
    "    else:\n",
    "        length = len(record)\n",
    "        lengthmb = length/1000000\n",
    "        gentotlength += lengthmb\n",
    "print genChrlength\n",
    "print gentotlength\n"
   ]
  }
 ],
 "metadata": {
  "kernelspec": {
   "display_name": "Python 2",
   "language": "python",
   "name": "python2"
  },
  "language_info": {
   "codemirror_mode": {
    "name": "ipython",
    "version": 2
   },
   "file_extension": ".py",
   "mimetype": "text/x-python",
   "name": "python",
   "nbconvert_exporter": "python",
   "pygments_lexer": "ipython2",
   "version": "2.7.10"
  }
 },
 "nbformat": 4,
 "nbformat_minor": 0
}
