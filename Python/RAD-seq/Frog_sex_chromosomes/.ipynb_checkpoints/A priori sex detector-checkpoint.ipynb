{
 "cells": [
  {
   "cell_type": "code",
   "execution_count": 6,
   "metadata": {
    "collapsed": true
   },
   "outputs": [],
   "source": [
    "%matplotlib inline\n",
    "from matplotlib import pyplot as plt\n",
    "import pylev2 as lev ## calculates the Levenshtein distance between two strings\n",
    "import vcf\n",
    "from tqdm import tqdm_notebook"
   ]
  },
  {
   "cell_type": "code",
   "execution_count": 5,
   "metadata": {
    "collapsed": false
   },
   "outputs": [
    {
     "name": "stdout",
     "output_type": "stream",
     "text": [
      "Help on package pylev2:\n",
      "\n",
      "NAME\n",
      "    pylev2\n",
      "\n",
      "FILE\n",
      "    /usr/local/lib/python2.7/dist-packages/pylev2/__init__.py\n",
      "\n",
      "PACKAGE CONTENTS\n",
      "    tests\n",
      "\n",
      "FUNCTIONS\n",
      "    levenshtein(str_1, str_2, threshold=None)\n",
      "        Calculates the Levenshtein distance between two strings, supports threshold.\n",
      "        \n",
      "        Usage::\n",
      "        \n",
      "            >>> levenshtein('kitten', 'sitting')\n",
      "            3\n",
      "            >>> levenshtein('kitten', 'kitten')\n",
      "            0\n",
      "            >>> levenshtein('', '')\n",
      "            0\n",
      "            >>> levenshtein('pretty horses', 'ugly duckling', threshold=2)\n",
      "            None\n",
      "\n",
      "\n"
     ]
    },
    {
     "data": {
      "text/plain": [
       "5"
      ]
     },
     "execution_count": 5,
     "metadata": {},
     "output_type": "execute_result"
    }
   ],
   "source": [
    "help(lev)\n",
    "\n",
    "a = [1000111010101000]\n",
    "b = [1001101011001010]\n",
    "\n",
    "lev.levenshtein(a,b)"
   ]
  },
  {
   "cell_type": "code",
   "execution_count": 27,
   "metadata": {
    "collapsed": true
   },
   "outputs": [],
   "source": [
    "test_vcf = vcf.Reader(open(\"/home/djeffrie/Data/RADseq/Rarvalis/Final_populations_outs/batch_1_test.vcf.altered\", 'r'))\n"
   ]
  },
  {
   "cell_type": "code",
   "execution_count": 128,
   "metadata": {
    "collapsed": false
   },
   "outputs": [
    {
     "name": "stdout",
     "output_type": "stream",
     "text": [
      "Getting vcf info\n",
      "\n",
      "Done\n",
      "Now getting sample heterozygosity info\n",
      "70706\n"
     ]
    }
   ],
   "source": [
    "test_vcf = vcf.Reader(open(\"/home/djeffrie/Data/RADseq/Rarvalis/Final_populations_outs/batch_1.vcf.altered\", 'r'))\n",
    "\n",
    "print \"Getting vcf info\\n\"\n",
    "\n",
    "record_counter = 0\n",
    "for record in tqdm_notebook(test_vcf, desc = \"Counting loci\"):\n",
    "    record_counter += 1\n",
    "print \"Done\"\n",
    "\n",
    "test_vcf = vcf.Reader(open(\"/home/djeffrie/Data/RADseq/Rarvalis/Final_populations_outs/batch_1.vcf.altered\", 'r'))\n",
    "\n",
    "print \"Now getting sample heterozygosity info\"\n",
    "locus_dict = {}\n",
    "bad_locus_counter = 0\n",
    "\n",
    "for record in tqdm_notebook(test_vcf, total=record_counter, desc = \"Getting GT patterns\"):\n",
    "    if record.call_rate >= 0.75 and record.aaf[0] > 0.2:\n",
    "        \n",
    "        rec_name = \"%s_%s\" % (record.ID,record.POS)\n",
    "        \n",
    "        locus_dict[rec_name] = \"\"\n",
    "\n",
    "        for sample in record.samples:\n",
    "            if not sample.called:\n",
    "                locus_dict[rec_name] += \"X\"\n",
    "            else:\n",
    "                locus_dict[rec_name] += str(sample.gt_type)\n",
    "            \n",
    "            \n",
    "            #if not sample.called:\n",
    "            #    locus_dict[rec_name] += \"X\"\n",
    "            #elif sample.is_het:\n",
    "            #    locus_dict[rec_name] += \"1\"\n",
    "            #elif not sample.is_het:\n",
    "            #    locus_dict[rec_name] += \"0\"\n",
    "    else:\n",
    "        bad_locus_counter += 1\n",
    "        \n",
    "print bad_locus_counter \n",
    "\n"
   ]
  },
  {
   "cell_type": "code",
   "execution_count": 93,
   "metadata": {
    "collapsed": false
   },
   "outputs": [
    {
     "name": "stdout",
     "output_type": "stream",
     "text": [
      "\n"
     ]
    }
   ],
   "source": [
    "locus_Ids = locus_dict.keys()\n",
    "\n",
    "mismatches = 2\n",
    "\n",
    "clusters = {}\n",
    "\n",
    "## Make first gen_seq the first centroid\n",
    "\n",
    "clusters[locus_Ids[0]] = {}\n",
    "clusters[locus_Ids[0]][\"centroid\"] = locus_dict[locus_Ids[0]]\n",
    "clusters[locus_Ids[0]][\"matches\"] = []\n",
    "\n",
    "locus_Ids.remove(locus_Ids[0])\n",
    "\n",
    "for locus in tqdm_notebook(locus_Ids, total = len(locus_Ids), desc = \"Clustering loci\"):\n",
    "    added = False\n",
    "    for cluster in clusters:\n",
    "        if lev.levenshtein(locus_dict[locus], clusters[cluster][\"centroid\"]) <= mismatches:\n",
    "            clusters[cluster][\"matches\"].append(locus)\n",
    "            added = True\n",
    "    if added == False:\n",
    "        clusters[locus] = {}\n",
    "        clusters[locus][\"centroid\"] = locus_dict[locus]\n",
    "        clusters[locus][\"matches\"] = []\n",
    "            \n",
    "        "
   ]
  },
  {
   "cell_type": "code",
   "execution_count": 95,
   "metadata": {
    "collapsed": false
   },
   "outputs": [
    {
     "name": "stdout",
     "output_type": "stream",
     "text": [
      "41230_3834325 10\n",
      "['59607_5543372', '45289_4211875', '92149_8569787', '92243_8578564', '105800_9839325', '53042_4932873', '41676_3875814', '78287_7280643', '50404_4687547', '23986_2230687']\n"
     ]
    }
   ],
   "source": [
    "for i  in clusters:\n",
    "    if len(clusters[i][\"matches\"]) > 1:\n",
    "        print i, len(clusters[i][\"matches\"])\n",
    "        print clusters[i][\"matches\"]"
   ]
  },
  {
   "cell_type": "markdown",
   "metadata": {},
   "source": [
    "### Using 2 mismatches (which includes the missing loci! I get 10 loci that are completely linked across  the dataset. Of these 10, 9 are in the set of loci we have already identified as sex linked!\n",
    "\n",
    "### Now trying again with more relaxed parameters - lets try 4 mismatches."
   ]
  },
  {
   "cell_type": "code",
   "execution_count": 96,
   "metadata": {
    "collapsed": false
   },
   "outputs": [
    {
     "name": "stdout",
     "output_type": "stream",
     "text": [
      "\n"
     ]
    }
   ],
   "source": [
    "locus_Ids = locus_dict.keys()\n",
    "\n",
    "mismatches = 4\n",
    "\n",
    "clusters = {}\n",
    "\n",
    "## Make first gen_seq the first centroid\n",
    "\n",
    "clusters[locus_Ids[0]] = {}\n",
    "clusters[locus_Ids[0]][\"centroid\"] = locus_dict[locus_Ids[0]]\n",
    "clusters[locus_Ids[0]][\"matches\"] = []\n",
    "\n",
    "locus_Ids.remove(locus_Ids[0])\n",
    "\n",
    "for locus in tqdm_notebook(locus_Ids, total = len(locus_Ids)):\n",
    "    added = False\n",
    "    for cluster in clusters:\n",
    "        if lev.levenshtein(locus_dict[locus], clusters[cluster][\"centroid\"]) <= mismatches:\n",
    "            clusters[cluster][\"matches\"].append(locus)\n",
    "            added = True\n",
    "    if added == False:\n",
    "        clusters[locus] = {}\n",
    "        clusters[locus][\"centroid\"] = locus_dict[locus]\n",
    "        clusters[locus][\"matches\"] = []"
   ]
  },
  {
   "cell_type": "code",
   "execution_count": 97,
   "metadata": {
    "collapsed": false
   },
   "outputs": [
    {
     "name": "stdout",
     "output_type": "stream",
     "text": [
      "11388_1059046 2\n",
      "['57153_5315211', '11388_1059052']\n",
      "18951_1762401 2\n",
      "['18951_1762426', '18951_1762370']\n",
      "30764_2861030 2\n",
      "['76064_7073904', '30764_2861029']\n",
      "65611_6101769 2\n",
      "['65611_6101785', '56525_5256767']\n",
      "85925_7990963 2\n",
      "['96622_8985768', '96622_8985811']\n",
      "104340_9703557 2\n",
      "['36741_3416846', '104340_9703558']\n",
      "41230_3834325 29\n",
      "['59607_5543372', '45289_4211875', '92149_8569787', '59465_5530181', '101103_9402560', '92243_8578564', '60875_5661319', '84818_7888066', '105800_9839325', '26115_2428650', '61827_5749912', '50985_4741539', '53042_4932873', '64270_5977052', '77288_7187748', '102719_9552858', '41676_3875814', '78287_7280643', '10584_984266', '106167_9873521', '24141_2245100', '111155_10337338', '46784_4350852', '41236_3834925', '87761_8161753', '50404_4687547', '79765_7418123', '23986_2230687', '53987_5020770']\n"
     ]
    }
   ],
   "source": [
    "for i  in clusters:\n",
    "    if len(clusters[i][\"matches\"]) > 1:\n",
    "        print i, len(clusters[i][\"matches\"])\n",
    "        print clusters[i][\"matches\"]"
   ]
  },
  {
   "cell_type": "code",
   "execution_count": 98,
   "metadata": {
    "collapsed": false
   },
   "outputs": [
    {
     "name": "stdout",
     "output_type": "stream",
     "text": [
      "\n"
     ]
    }
   ],
   "source": [
    "locus_Ids = locus_dict.keys()\n",
    "\n",
    "mismatches = 6\n",
    "\n",
    "clusters = {}\n",
    "\n",
    "## Make first gen_seq the first centroid\n",
    "\n",
    "clusters[locus_Ids[0]] = {}\n",
    "clusters[locus_Ids[0]][\"centroid\"] = locus_dict[locus_Ids[0]]\n",
    "clusters[locus_Ids[0]][\"matches\"] = []\n",
    "\n",
    "locus_Ids.remove(locus_Ids[0])\n",
    "\n",
    "for locus in tqdm_notebook(locus_Ids, total = len(locus_Ids)):\n",
    "    added = False\n",
    "    for cluster in clusters:\n",
    "        if lev.levenshtein(locus_dict[locus], clusters[cluster][\"centroid\"]) <= mismatches:\n",
    "            clusters[cluster][\"matches\"].append(locus)\n",
    "            added = True\n",
    "    if added == False:\n",
    "        clusters[locus] = {}\n",
    "        clusters[locus][\"centroid\"] = locus_dict[locus]\n",
    "        clusters[locus][\"matches\"] = []"
   ]
  },
  {
   "cell_type": "code",
   "execution_count": 99,
   "metadata": {
    "collapsed": false
   },
   "outputs": [
    {
     "name": "stdout",
     "output_type": "stream",
     "text": [
      "8296_771450 2\n",
      "['63393_5895493', '8296_771490']\n",
      "11388_1059046 2\n",
      "['57153_5315211', '11388_1059052']\n",
      "65370_6079367 7\n",
      "['41230_3834325', '45289_4211875', '65370_6079380', '41676_3875814', '40290_3746949', '78287_7280643', '23986_2230687']\n",
      "59607_5543372 43\n",
      "['45289_4211875', '89550_8328068', '92149_8569787', '16673_1550569', '59465_5530181', '101103_9402560', '17020_1582800', '92243_8578564', '60875_5661319', '93447_8690534', '84818_7888066', '105800_9839325', '26115_2428650', '61827_5749912', '40536_3769827', '50985_4741539', '53042_4932873', '92434_8596349', '64270_5977052', '77288_7187748', '102719_9552858', '41676_3875814', '40290_3746949', '78287_7280643', '40320_3749687', '10584_984266', '80882_7522001', '106167_9873521', '20577_1913584', '80066_7446138', '24141_2245100', '92429_8595890', '97705_9086488', '101751_9462804', '88813_8259527', '111155_10337338', '46784_4350852', '41236_3834925', '87761_8161753', '50404_4687547', '79765_7418123', '23986_2230687', '53987_5020770']\n",
      "58341_5425714 2\n",
      "['67184_6248049', '39703_3692378']\n",
      "58201_5412616 2\n",
      "['107279_9976869', '90308_8398630']\n",
      "45103_4194541 3\n",
      "['62501_5812572', '62501_5812529', '16047_1492292']\n",
      "41249_3836135 5\n",
      "['92434_8596349', '77288_7187748', '78287_7280643', '63811_5934377', '23986_2230687']\n",
      "53850_5008015 2\n",
      "['84818_7888066', '105800_9839325']\n",
      "105848_9843850 2\n",
      "['109649_10197332', '109649_10197331']\n",
      "18951_1762401 2\n",
      "['18951_1762426', '18951_1762370']\n",
      "30764_2861030 2\n",
      "['76064_7073904', '30764_2861029']\n",
      "64180_5968672 2\n",
      "['99225_9227924', '99225_9227913']\n",
      "16865_1568391 2\n",
      "['16865_1568421', '93837_8726808']\n",
      "59683_5550496 8\n",
      "['10819_1006120', '34154_3176321', '99630_9265535', '20628_1918344', '31882_2964972', '108136_10056637', '15530_1444242', '39703_3692378']\n",
      "36206_3367147 2\n",
      "['53042_4932873', '23986_2230687']\n",
      "108254_10067600 5\n",
      "['41676_3875814', '10584_984266', '20577_1913584', '108254_10067550', '23986_2230687']\n",
      "53789_5002340 3\n",
      "['64270_5977052', '23986_2230687', '53987_5020770']\n",
      "45208_4204342 2\n",
      "['45208_4204272', '99088_9215134']\n",
      "65611_6101769 2\n",
      "['65611_6101785', '56525_5256767']\n",
      "49174_4573131 2\n",
      "['10584_984266', '20577_1913584']\n",
      "85925_7990963 3\n",
      "['96622_8985768', '96622_8985811', '11657_1084045']\n",
      "104340_9703557 2\n",
      "['36741_3416846', '104340_9703558']\n",
      "83088_7727154 2\n",
      "['78287_7280643', '23986_2230687']\n",
      "110508_10277192 2\n",
      "['83266_7743688', '110508_10277191']\n",
      "4678_435053 2\n",
      "['98818_9190045', '73148_6802764']\n"
     ]
    }
   ],
   "source": [
    "for i  in clusters:\n",
    "    if len(clusters[i][\"matches\"]) > 1:\n",
    "        print i, len(clusters[i][\"matches\"])\n",
    "        print clusters[i][\"matches\"]"
   ]
  },
  {
   "cell_type": "code",
   "execution_count": 100,
   "metadata": {
    "collapsed": false
   },
   "outputs": [
    {
     "name": "stdout",
     "output_type": "stream",
     "text": [
      "\n"
     ]
    }
   ],
   "source": [
    "locus_Ids = locus_dict.keys()\n",
    "\n",
    "mismatches = 9\n",
    "\n",
    "clusters = {}\n",
    "\n",
    "## Make first gen_seq the first centroid\n",
    "\n",
    "clusters[locus_Ids[0]] = {}\n",
    "clusters[locus_Ids[0]][\"centroid\"] = locus_dict[locus_Ids[0]]\n",
    "clusters[locus_Ids[0]][\"matches\"] = []\n",
    "\n",
    "locus_Ids.remove(locus_Ids[0])\n",
    "\n",
    "for locus in tqdm_notebook(locus_Ids, total = len(locus_Ids)): ## Add a desc = \"something\" to add a title to the bar\n",
    "    added = False\n",
    "    for cluster in clusters:\n",
    "        if lev.levenshtein(locus_dict[locus], clusters[cluster][\"centroid\"]) <= mismatches:\n",
    "            clusters[cluster][\"matches\"].append(locus)\n",
    "            added = True\n",
    "    if added == False:\n",
    "        clusters[locus] = {}\n",
    "        clusters[locus][\"centroid\"] = locus_dict[locus]\n",
    "        clusters[locus][\"matches\"] = []"
   ]
  },
  {
   "cell_type": "code",
   "execution_count": 123,
   "metadata": {
    "collapsed": false,
    "scrolled": false
   },
   "outputs": [
    {
     "data": {
      "image/png": "[encoded data removed]",
      "text/plain": [
       "<matplotlib.figure.Figure at 0x7f7457b88910>"
      ]
     },
     "metadata": {},
     "output_type": "display_data"
    }
   ],
   "source": [
    "good_clusters = {}\n",
    "for i  in clusters:\n",
    "    if len(clusters[i][\"matches\"]) > 10:\n",
    "        good_clusters[i] = len(clusters[i][\"matches\"])\n",
    "        #print i, len(clusters[i][\"matches\"])\n",
    "        #print clusters[i][\"matches\"]\n",
    "        \n",
    "plt.figure(figsize = (18,10))\n",
    "plt.bar(range(len(good_clusters)), good_clusters.values(), width=0.6)\n",
    "plt.xticks(range(len(good_clusters)), good_clusters.keys(), rotation = 90)\n",
    "plt.show()"
   ]
  },
  {
   "cell_type": "code",
   "execution_count": 126,
   "metadata": {
    "collapsed": false,
    "scrolled": false
   },
   "outputs": [
    {
     "data": {
      "text/plain": [
       "['101103_9402560',\n",
       " '92243_8578564',\n",
       " '84818_7888066',\n",
       " '105800_9839325',\n",
       " '26115_2428650',\n",
       " '50985_4741539',\n",
       " '53042_4932873',\n",
       " '41249_3836135',\n",
       " '92434_8596349',\n",
       " '57237_5322991',\n",
       " '77288_7187748',\n",
       " '102719_9552858',\n",
       " '41676_3875814',\n",
       " '78287_7280643',\n",
       " '10584_984266',\n",
       " '106167_9873521',\n",
       " '91174_8479167',\n",
       " '46784_4350852',\n",
       " '41236_3834925',\n",
       " '87761_8161753',\n",
       " '50404_4687547',\n",
       " '92080_8563440',\n",
       " '23986_2230687',\n",
       " '53987_5020770']"
      ]
     },
     "execution_count": 126,
     "metadata": {},
     "output_type": "execute_result"
    }
   ],
   "source": [
    "clusters[\"53850_5008015\"][\"matches\"]\n",
    "\n"
   ]
  },
  {
   "cell_type": "markdown",
   "metadata": {},
   "source": [
    "### Using new approach (distinguishing between the two types of homozygotes)"
   ]
  },
  {
   "cell_type": "code",
   "execution_count": 130,
   "metadata": {
    "collapsed": false
   },
   "outputs": [
    {
     "name": "stdout",
     "output_type": "stream",
     "text": [
      "\n"
     ]
    }
   ],
   "source": [
    "locus_Ids = locus_dict.keys()\n",
    "\n",
    "mismatches = 4\n",
    "\n",
    "clusters = {}\n",
    "\n",
    "## Make first gen_seq the first centroid\n",
    "\n",
    "clusters[locus_Ids[0]] = {}\n",
    "clusters[locus_Ids[0]][\"centroid\"] = locus_dict[locus_Ids[0]]\n",
    "clusters[locus_Ids[0]][\"matches\"] = []\n",
    "\n",
    "locus_Ids.remove(locus_Ids[0])\n",
    "\n",
    "for locus in tqdm_notebook(locus_Ids, total = len(locus_Ids), desc = \"Clustering loci\"):\n",
    "    added = False\n",
    "    for cluster in clusters:\n",
    "        if lev.levenshtein(locus_dict[locus], clusters[cluster][\"centroid\"]) <= mismatches:\n",
    "            clusters[cluster][\"matches\"].append(locus)\n",
    "            added = True\n",
    "    if added == False:\n",
    "        clusters[locus] = {}\n",
    "        clusters[locus][\"centroid\"] = locus_dict[locus]\n",
    "        clusters[locus][\"matches\"] = []\n",
    "            "
   ]
  },
  {
   "cell_type": "markdown",
   "metadata": {},
   "source": [
    "## So  . . . . \n",
    "    It looks like when I relax the mismatches betwen genotype patterns, the number of sex linked markers that I identify goes up, but they are spread across several groups. I feel like there is a more statistical way of doing this, people have been doing it for years - maybe just linkage mapping would work. Try a program which makes a linkage map from population data only."
   ]
  },
  {
   "cell_type": "markdown",
   "metadata": {},
   "source": [
    "## Crucian carp!"
   ]
  },
  {
   "cell_type": "code",
   "execution_count": 138,
   "metadata": {
    "collapsed": false
   },
   "outputs": [
    {
     "name": "stdout",
     "output_type": "stream",
     "text": [
      "Getting vcf info\n",
      "\n",
      "Done\n",
      "Now getting sample heterozygosity info\n",
      "5592\n"
     ]
    }
   ],
   "source": [
    "test_vcf = vcf.Reader(open(\"/media/djeffrie/OS/Users/djeffrie/Data/Crucian_carp/Crucian_sex_chroms/batch_1.vcf.altered\", 'r'))\n",
    "\n",
    "print \"Getting vcf info\\n\"\n",
    "\n",
    "record_counter = 0\n",
    "for record in tqdm_notebook(test_vcf, desc = \"Counting loci\"):\n",
    "    record_counter += 1\n",
    "print \"Done\"\n",
    "\n",
    "test_vcf = vcf.Reader(open(\"/media/djeffrie/OS/Users/djeffrie/Data/Crucian_carp/Crucian_sex_chroms/batch_1.vcf.altered\", 'r'))\n",
    "\n",
    "print \"Now getting sample heterozygosity info\"\n",
    "locus_dict = {}\n",
    "bad_locus_counter = 0\n",
    "\n",
    "for record in tqdm_notebook(test_vcf, total=record_counter, desc = \"Getting GT patterns\"):\n",
    "    if record.call_rate >= 0.75 and record.aaf[0] > 0.2:\n",
    "        \n",
    "        rec_name = \"%s_%s\" % (record.ID,record.POS)\n",
    "        \n",
    "        locus_dict[rec_name] = \"\"\n",
    "\n",
    "        for sample in record.samples:\n",
    "            if not sample.called:\n",
    "                locus_dict[rec_name] += \"X\"\n",
    "            #else:\n",
    "            #    locus_dict[rec_name] += str(sample.gt_type)\n",
    "            \n",
    "            \n",
    "            #if not sample.called:\n",
    "            #    locus_dict[rec_name] += \"X\"\n",
    "            elif sample.is_het:\n",
    "                locus_dict[rec_name] += \"1\"\n",
    "            elif not sample.is_het:\n",
    "                locus_dict[rec_name] += \"0\"\n",
    "    else:\n",
    "        bad_locus_counter += 1\n",
    "        \n",
    "print bad_locus_counter \n"
   ]
  },
  {
   "cell_type": "code",
   "execution_count": 139,
   "metadata": {
    "collapsed": true
   },
   "outputs": [],
   "source": [
    "locus_Ids = locus_dict.keys()\n",
    "\n",
    "mismatches = 1\n",
    "\n",
    "clusters = {}\n",
    "\n",
    "## Make first gen_seq the first centroid\n",
    "\n",
    "clusters[locus_Ids[0]] = {}\n",
    "clusters[locus_Ids[0]][\"centroid\"] = locus_dict[locus_Ids[0]]\n",
    "clusters[locus_Ids[0]][\"matches\"] = []\n",
    "\n",
    "locus_Ids.remove(locus_Ids[0])\n",
    "\n",
    "for locus in tqdm_notebook(locus_Ids, total = len(locus_Ids)): ## Add a desc = \"something\" to add a title to the bar\n",
    "    added = False\n",
    "    for cluster in clusters:\n",
    "        if lev.levenshtein(locus_dict[locus], clusters[cluster][\"centroid\"]) <= mismatches:\n",
    "            clusters[cluster][\"matches\"].append(locus)\n",
    "            added = True\n",
    "    if added == False:\n",
    "        clusters[locus] = {}\n",
    "        clusters[locus][\"centroid\"] = locus_dict[locus]\n",
    "        clusters[locus][\"matches\"] = []"
   ]
  },
  {
   "cell_type": "code",
   "execution_count": 141,
   "metadata": {
    "collapsed": false
   },
   "outputs": [
    {
     "data": {
      "image/png": "[encoded data removed]",
      "text/plain": [
       "<matplotlib.figure.Figure at 0x7f74744caf90>"
      ]
     },
     "metadata": {},
     "output_type": "display_data"
    }
   ],
   "source": [
    "good_clusters = {}\n",
    "for i  in clusters:\n",
    "    if len(clusters[i][\"matches\"]) > 10:\n",
    "        good_clusters[i] = len(clusters[i][\"matches\"])\n",
    "        #print i, len(clusters[i][\"matches\"])\n",
    "        #print clusters[i][\"matches\"]\n",
    "        \n",
    "plt.figure(figsize = (18,10))\n",
    "plt.bar(range(len(good_clusters)), good_clusters.values(), width=0.6)\n",
    "plt.xticks(range(len(good_clusters)), good_clusters.keys(), rotation = 90)\n",
    "plt.show()"
   ]
  },
  {
   "cell_type": "markdown",
   "metadata": {},
   "source": [
    "### I dont think this works with multple populations! I need to make sure I am looking only at one lineage! Repeat this just for single populations! "
   ]
  },
  {
   "cell_type": "markdown",
   "metadata": {},
   "source": [
    "# R. italica"
   ]
  },
  {
   "cell_type": "code",
   "execution_count": 143,
   "metadata": {
    "collapsed": false
   },
   "outputs": [
    {
     "name": "stdout",
     "output_type": "stream",
     "text": [
      "Getting vcf info\n",
      "\n",
      "Done\n",
      "Now getting sample heterozygosity info\n",
      "18933\n"
     ]
    }
   ],
   "source": [
    "test_vcf = vcf.Reader(open(\"/home/djeffrie/Data/RADseq/Ritalica/Sex_linked_markers/Pop_CM/batch_1.vcf.altered\", 'r'))\n",
    "\n",
    "print \"Getting vcf info\\n\"\n",
    "\n",
    "record_counter = 0\n",
    "for record in tqdm_notebook(test_vcf, desc = \"Counting loci\"):\n",
    "    record_counter += 1\n",
    "print \"Done\"\n",
    "\n",
    "test_vcf = vcf.Reader(open(\"/home/djeffrie/Data/RADseq/Ritalica/Sex_linked_markers/Pop_CM/batch_1.vcf.altered\", 'r'))\n",
    "\n",
    "print \"Now getting sample heterozygosity info\"\n",
    "locus_dict = {}\n",
    "bad_locus_counter = 0\n",
    "\n",
    "for record in tqdm_notebook(test_vcf, total=record_counter, desc = \"Getting GT patterns\"):\n",
    "    if record.call_rate >= 0.75 and record.aaf[0] > 0.2:\n",
    "        \n",
    "        rec_name = \"%s_%s\" % (record.ID,record.POS)\n",
    "        \n",
    "        locus_dict[rec_name] = \"\"\n",
    "\n",
    "        for sample in record.samples:\n",
    "            if not sample.called:\n",
    "                locus_dict[rec_name] += \"X\"\n",
    "            #else:\n",
    "            #    locus_dict[rec_name] += str(sample.gt_type)\n",
    "            \n",
    "            \n",
    "            #if not sample.called:\n",
    "            #    locus_dict[rec_name] += \"X\"\n",
    "            elif sample.is_het:\n",
    "                locus_dict[rec_name] += \"1\"\n",
    "            elif not sample.is_het:\n",
    "                locus_dict[rec_name] += \"0\"\n",
    "    else:\n",
    "        bad_locus_counter += 1\n",
    "        \n",
    "print bad_locus_counter "
   ]
  },
  {
   "cell_type": "code",
   "execution_count": 144,
   "metadata": {
    "collapsed": true
   },
   "outputs": [],
   "source": [
    "locus_Ids = locus_dict.keys()\n",
    "\n",
    "mismatches = 1\n",
    "\n",
    "clusters = {}\n",
    "\n",
    "## Make first gen_seq the first centroid\n",
    "\n",
    "clusters[locus_Ids[0]] = {}\n",
    "clusters[locus_Ids[0]][\"centroid\"] = locus_dict[locus_Ids[0]]\n",
    "clusters[locus_Ids[0]][\"matches\"] = []\n",
    "\n",
    "locus_Ids.remove(locus_Ids[0])\n",
    "\n",
    "for locus in tqdm_notebook(locus_Ids, total = len(locus_Ids)): ## Add a desc = \"something\" to add a title to the bar\n",
    "    added = False\n",
    "    for cluster in clusters:\n",
    "        if lev.levenshtein(locus_dict[locus], clusters[cluster][\"centroid\"]) <= mismatches:\n",
    "            clusters[cluster][\"matches\"].append(locus)\n",
    "            added = True\n",
    "    if added == False:\n",
    "        clusters[locus] = {}\n",
    "        clusters[locus][\"centroid\"] = locus_dict[locus]\n",
    "        clusters[locus][\"matches\"] = []"
   ]
  },
  {
   "cell_type": "code",
   "execution_count": 145,
   "metadata": {
    "collapsed": false
   },
   "outputs": [
    {
     "data": {
      "image/png": "[encoded data removed]",
      "text/plain": [
       "<matplotlib.figure.Figure at 0x7f7435889dd0>"
      ]
     },
     "metadata": {},
     "output_type": "display_data"
    }
   ],
   "source": [
    "good_clusters = {}\n",
    "for i  in clusters:\n",
    "    if len(clusters[i][\"matches\"]) > 10:\n",
    "        good_clusters[i] = len(clusters[i][\"matches\"])\n",
    "        #print i, len(clusters[i][\"matches\"])\n",
    "        #print clusters[i][\"matches\"]\n",
    "        \n",
    "plt.figure(figsize = (18,10))\n",
    "plt.bar(range(len(good_clusters)), good_clusters.values(), width=0.6)\n",
    "plt.xticks(range(len(good_clusters)), good_clusters.keys(), rotation = 90)\n",
    "plt.show()"
   ]
  },
  {
   "cell_type": "markdown",
   "metadata": {
    "collapsed": true
   },
   "source": [
    "### R japonica"
   ]
  },
  {
   "cell_type": "code",
   "execution_count": 8,
   "metadata": {
    "collapsed": false
   },
   "outputs": [
    {
     "name": "stdout",
     "output_type": "stream",
     "text": [
      "Getting vcf info\n",
      "\n",
      "\n",
      "Done\n",
      "Now getting sample heterozygosity info\n",
      "\n",
      "18933\n"
     ]
    }
   ],
   "source": [
    "test_vcf = vcf.Reader(open(\"/home/djeffrie/Data/RADseq/Rjaponica/Stacks/Populations_Rjap_t_reassigned/batch_1.vcf.altered\", 'r'))\n",
    "\n",
    "print \"Getting vcf info\\n\"\n",
    "\n",
    "record_counter = 0\n",
    "for record in tqdm_notebook(test_vcf, desc = \"Counting loci\"):\n",
    "    record_counter += 1\n",
    "print \"Done\"\n",
    "\n",
    "test_vcf = vcf.Reader(open(\"/home/djeffrie/Data/RADseq/Ritalica/Sex_linked_markers/Pop_CM/batch_1.vcf.altered\", 'r'))\n",
    "\n",
    "print \"Now getting sample heterozygosity info\"\n",
    "locus_dict = {}\n",
    "bad_locus_counter = 0\n",
    "\n",
    "for record in tqdm_notebook(test_vcf, total=record_counter, desc = \"Getting GT patterns\"):\n",
    "    if record.call_rate >= 0.75 and record.aaf[0] > 0.2:\n",
    "        \n",
    "        rec_name = \"%s_%s\" % (record.ID,record.POS)\n",
    "        \n",
    "        locus_dict[rec_name] = \"\"\n",
    "\n",
    "        for sample in record.samples:\n",
    "            if not sample.called:\n",
    "                locus_dict[rec_name] += \"X\"\n",
    "            #else:\n",
    "            #    locus_dict[rec_name] += str(sample.gt_type)\n",
    "            \n",
    "            \n",
    "            #if not sample.called:\n",
    "            #    locus_dict[rec_name] += \"X\"\n",
    "            elif sample.is_het:\n",
    "                locus_dict[rec_name] += \"1\"\n",
    "            elif not sample.is_het:\n",
    "                locus_dict[rec_name] += \"0\"\n",
    "    else:\n",
    "        bad_locus_counter += 1\n",
    "        \n",
    "print bad_locus_counter "
   ]
  },
  {
   "cell_type": "code",
   "execution_count": 9,
   "metadata": {
    "collapsed": false
   },
   "outputs": [
    {
     "name": "stdout",
     "output_type": "stream",
     "text": [
      "\n"
     ]
    }
   ],
   "source": [
    "locus_Ids = locus_dict.keys()\n",
    "\n",
    "mismatches = 1\n",
    "\n",
    "clusters = {}\n",
    "\n",
    "## Make first gen_seq the first centroid\n",
    "\n",
    "clusters[locus_Ids[0]] = {}\n",
    "clusters[locus_Ids[0]][\"centroid\"] = locus_dict[locus_Ids[0]]\n",
    "clusters[locus_Ids[0]][\"matches\"] = []\n",
    "\n",
    "locus_Ids.remove(locus_Ids[0])\n",
    "\n",
    "for locus in tqdm_notebook(locus_Ids, total = len(locus_Ids)): ## Add a desc = \"something\" to add a title to the bar\n",
    "    added = False\n",
    "    for cluster in clusters:\n",
    "        if lev.levenshtein(locus_dict[locus], clusters[cluster][\"centroid\"]) <= mismatches:\n",
    "            clusters[cluster][\"matches\"].append(locus)\n",
    "            added = True\n",
    "    if added == False:\n",
    "        clusters[locus] = {}\n",
    "        clusters[locus][\"centroid\"] = locus_dict[locus]\n",
    "        clusters[locus][\"matches\"] = []"
   ]
  },
  {
   "cell_type": "code",
   "execution_count": 10,
   "metadata": {
    "collapsed": false
   },
   "outputs": [
    {
     "data": {
      "image/png": "[encoded data removed]",
      "text/plain": [
       "<matplotlib.figure.Figure at 0x7f17f5a54a50>"
      ]
     },
     "metadata": {},
     "output_type": "display_data"
    }
   ],
   "source": [
    "good_clusters = {}\n",
    "for i  in clusters:\n",
    "    if len(clusters[i][\"matches\"]) > 10:\n",
    "        good_clusters[i] = len(clusters[i][\"matches\"])\n",
    "        #print i, len(clusters[i][\"matches\"])\n",
    "        #print clusters[i][\"matches\"]\n",
    "        \n",
    "plt.figure(figsize = (18,10))\n",
    "plt.bar(range(len(good_clusters)), good_clusters.values(), width=0.6)\n",
    "plt.xticks(range(len(good_clusters)), good_clusters.keys(), rotation = 90)\n",
    "plt.show()"
   ]
  },
  {
   "cell_type": "code",
   "execution_count": null,
   "metadata": {
    "collapsed": true
   },
   "outputs": [],
   "source": []
  }
 ],
 "metadata": {
  "kernelspec": {
   "display_name": "Python 2",
   "language": "python",
   "name": "python2"
  },
  "language_info": {
   "codemirror_mode": {
    "name": "ipython",
    "version": 2
   },
   "file_extension": ".py",
   "mimetype": "text/x-python",
   "name": "python",
   "nbconvert_exporter": "python",
   "pygments_lexer": "ipython2",
   "version": "2.7.10"
  }
 },
 "nbformat": 4,
 "nbformat_minor": 0
}
