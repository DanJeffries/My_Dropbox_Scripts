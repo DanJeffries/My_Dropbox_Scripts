{
 "cells": [
  {
   "cell_type": "markdown",
   "metadata": {},
   "source": [
    "### Getting final sex linked marker sets . . . \n",
    "\n",
    "So here I will take a file of markers outputed from my SLMfinder functions and remove the tags from one or two of the methods if they did not make it past the randomisation tests. \n"
   ]
  },
  {
   "cell_type": "code",
   "execution_count": 3,
   "metadata": {
    "collapsed": true
   },
   "outputs": [],
   "source": [
    "from Bio import SeqIO"
   ]
  },
  {
   "cell_type": "code",
   "execution_count": 112,
   "metadata": {
    "collapsed": false
   },
   "outputs": [],
   "source": [
    "def filterSLMs(sex_linked_markers_path, final_sex_linked_marker_directory, to_keep = \"111\"):\n",
    "\n",
    "    from collections import Counter\n",
    "    sex_linked_markers = open(sex_linked_markers_path, 'r')\n",
    "    filtered_marker_output = open(\"%s/%s\" % (final_sex_linked_marker_directory, sex_linked_markers_path.rpartition(\"/\")[2]), 'w')\n",
    "\n",
    "    SLMs_all = SeqIO.parse(sex_linked_markers, 'fasta')\n",
    "\n",
    "    methods = [\"linked_freq\", \"linked_het\", \"linked_tags\"]\n",
    "    method_counts = {}\n",
    "    marker_dict = {}\n",
    "\n",
    "    if to_keep[0] == \"1\":\n",
    "        marker_dict[methods[0]] = []\n",
    "        method_counts[methods[0]] = 0\n",
    "    if to_keep[1] == \"1\":\n",
    "        marker_dict[methods[1]] = []\n",
    "        method_counts[methods[1]] = 0\n",
    "    if to_keep[2] == \"1\":\n",
    "        marker_dict[methods[2]] = []\n",
    "        method_counts[methods[2]] = 0\n",
    "\n",
    "\n",
    "    for marker in SLMs_all:\n",
    "        for method in marker_dict:\n",
    "            if method in marker.id:\n",
    "                if marker.id.split(\"_\")[2] not in marker_dict[method]:\n",
    "                    marker_dict[method].append(marker.id.split(\"_\")[2])\n",
    "                    SeqIO.write(marker, filtered_marker_output, 'fasta')\n",
    "\n",
    "    all_tags = []\n",
    "\n",
    "    for i in marker_dict:\n",
    "        for j in marker_dict[i]:\n",
    "            all_tags.append(j)\n",
    "\n",
    "\n",
    "    print \"Total tags =\", len(set(all_tags))\n",
    "    \n",
    "    for i in marker_dict:\n",
    "        print i, len(marker_dict[i])\n",
    "\n",
    "    \n",
    "    filtered_marker_output.close()"
   ]
  },
  {
   "cell_type": "markdown",
   "metadata": {},
   "source": [
    "### Ok so now go through all the species for which I will map, get the real number of markers in each file"
   ]
  },
  {
   "cell_type": "code",
   "execution_count": null,
   "metadata": {
    "collapsed": true
   },
   "outputs": [],
   "source": [
    "my_final_sex_linked_marker_directory = \"/home/djeffrie/Data/RADseq/Final_sex_linked_markers/\" ## All final SLM sets are here"
   ]
  },
  {
   "cell_type": "markdown",
   "metadata": {},
   "source": [
    "### R. dalmatina"
   ]
  },
  {
   "cell_type": "code",
   "execution_count": 114,
   "metadata": {
    "collapsed": false
   },
   "outputs": [
    {
     "name": "stdout",
     "output_type": "stream",
     "text": [
      "Total tags = 186\n",
      "linked_het 184\n",
      "linked_freq 171\n"
     ]
    }
   ],
   "source": [
    "my_sex_linked_markers_path = \"/home/djeffrie/Data/Mapping_SL_tags_to_genomes/Sex_linked_tags/Manual_mapping/R_dalmatina/R_dalmatina.fa\"\n",
    "filterSLMs(my_sex_linked_markers_path, my_final_sex_linked_marker_directory, \"110\")"
   ]
  },
  {
   "cell_type": "markdown",
   "metadata": {},
   "source": [
    "## R. japonica 't'"
   ]
  },
  {
   "cell_type": "code",
   "execution_count": 115,
   "metadata": {
    "collapsed": false,
    "scrolled": true
   },
   "outputs": [
    {
     "name": "stdout",
     "output_type": "stream",
     "text": [
      "Total tags = 710\n",
      "linked_tags 0\n",
      "linked_het 710\n",
      "linked_freq 0\n"
     ]
    }
   ],
   "source": [
    "my_sex_linked_markers_path = \"/home/djeffrie/Data/Mapping_SL_tags_to_genomes/Sex_linked_tags/Manual_mapping/R_japonica/R_jap_pop_t.fa\"\n",
    "filterSLMs(my_sex_linked_markers_path, my_final_sex_linked_marker_directory, \"110\")"
   ]
  },
  {
   "cell_type": "markdown",
   "metadata": {
    "collapsed": true
   },
   "source": [
    "## L. chiricahuensis"
   ]
  },
  {
   "cell_type": "code",
   "execution_count": 116,
   "metadata": {
    "collapsed": false
   },
   "outputs": [
    {
     "name": "stdout",
     "output_type": "stream",
     "text": [
      "Total tags = 37\n",
      "linked_het 18\n",
      "linked_freq 33\n"
     ]
    }
   ],
   "source": [
    "my_sex_linked_markers_path = \"/home/djeffrie/Data/Mapping_SL_tags_to_genomes/Sex_linked_tags/Manual_mapping/L_chiricahuensis/L_chiricahuensis.fa\"\n",
    "filterSLMs(my_sex_linked_markers_path, my_final_sex_linked_marker_directory, \"110\")"
   ]
  },
  {
   "cell_type": "markdown",
   "metadata": {
    "collapsed": true
   },
   "source": [
    "## L montezumae XY fam 1"
   ]
  },
  {
   "cell_type": "code",
   "execution_count": 124,
   "metadata": {
    "collapsed": false
   },
   "outputs": [
    {
     "name": "stdout",
     "output_type": "stream",
     "text": [
      "Total tags = 1867\n",
      "linked_tags 912\n",
      "linked_het 570\n",
      "linked_freq 954\n"
     ]
    }
   ],
   "source": [
    "my_sex_linked_markers_path = \"/home/djeffrie/Data/RADseq/Lmontezumae_2/Populations_Fam1_alt/Putative_XYlinked_makers.fa\"\n",
    "filterSLMs(my_sex_linked_markers_path, my_final_sex_linked_marker_directory, \"111\")"
   ]
  },
  {
   "cell_type": "markdown",
   "metadata": {},
   "source": [
    "## ZW"
   ]
  },
  {
   "cell_type": "code",
   "execution_count": 125,
   "metadata": {
    "collapsed": false
   },
   "outputs": [
    {
     "name": "stdout",
     "output_type": "stream",
     "text": [
      "Total tags = 1326\n",
      "linked_tags 642\n",
      "linked_het 159\n",
      "linked_freq 684\n"
     ]
    }
   ],
   "source": [
    "my_sex_linked_markers_path = \"/home/djeffrie/Data/RADseq/Lmontezumae_2/Populations_Fam1_alt/Putative_ZWlinked_makers.fa\"\n",
    "filterSLMs(my_sex_linked_markers_path, my_final_sex_linked_marker_directory, \"111\")"
   ]
  },
  {
   "cell_type": "markdown",
   "metadata": {
    "collapsed": true
   },
   "source": [
    "## L montezumae XY fam 2"
   ]
  },
  {
   "cell_type": "code",
   "execution_count": 126,
   "metadata": {
    "collapsed": false
   },
   "outputs": [
    {
     "name": "stdout",
     "output_type": "stream",
     "text": [
      "Total tags = 1925\n",
      "linked_tags 983\n",
      "linked_het 729\n",
      "linked_freq 942\n"
     ]
    }
   ],
   "source": [
    "my_sex_linked_markers_path = \"/home/djeffrie/Data/RADseq/Lmontezumae_2/Populations_Fam2_alt/Putative_XYlinked_makers.fa\"\n",
    "filterSLMs(my_sex_linked_markers_path, my_final_sex_linked_marker_directory, \"111\")"
   ]
  },
  {
   "cell_type": "markdown",
   "metadata": {},
   "source": [
    "## ZW"
   ]
  },
  {
   "cell_type": "code",
   "execution_count": 127,
   "metadata": {
    "collapsed": false
   },
   "outputs": [
    {
     "name": "stdout",
     "output_type": "stream",
     "text": [
      "Total tags = 1320\n",
      "linked_tags 628\n",
      "linked_het 489\n",
      "linked_freq 692\n"
     ]
    }
   ],
   "source": [
    "my_sex_linked_markers_path = \"/home/djeffrie/Data/RADseq/Lmontezumae_2/Populations_Fam2_alt/Putative_ZWlinked_makers.fa\"\n",
    "filterSLMs(my_sex_linked_markers_path, my_final_sex_linked_marker_directory, \"111\")"
   ]
  },
  {
   "cell_type": "markdown",
   "metadata": {},
   "source": [
    "## L montezumae XY all"
   ]
  },
  {
   "cell_type": "code",
   "execution_count": 128,
   "metadata": {
    "collapsed": false
   },
   "outputs": [
    {
     "name": "stdout",
     "output_type": "stream",
     "text": [
      "Total tags = 2374\n",
      "linked_tags 1167\n",
      "linked_het 902\n",
      "linked_freq 1227\n"
     ]
    }
   ],
   "source": [
    "my_sex_linked_markers_path = \"/home/djeffrie/Data/Mapping_SL_tags_to_genomes/Sex_linked_tags/Manual_mapping/L_montezumae/XY_mappings/L_mont_all_XY.fa\"\n",
    "filterSLMs(my_sex_linked_markers_path, my_final_sex_linked_marker_directory, \"111\")"
   ]
  },
  {
   "cell_type": "markdown",
   "metadata": {},
   "source": [
    "## L montezumae ZW all"
   ]
  },
  {
   "cell_type": "code",
   "execution_count": 129,
   "metadata": {
    "collapsed": false
   },
   "outputs": [
    {
     "name": "stdout",
     "output_type": "stream",
     "text": [
      "Total tags = 1912\n",
      "linked_tags 923\n",
      "linked_het 568\n",
      "linked_freq 989\n"
     ]
    }
   ],
   "source": [
    "my_sex_linked_markers_path = \"/home/djeffrie/Data/Mapping_SL_tags_to_genomes/Sex_linked_tags/Manual_mapping/L_montezumae/ZW_mappings/L_mont_all_ZW.fa\"\n",
    "filterSLMs(my_sex_linked_markers_path, my_final_sex_linked_marker_directory, \"111\")"
   ]
  },
  {
   "cell_type": "markdown",
   "metadata": {},
   "source": [
    "## L pipiens West"
   ]
  },
  {
   "cell_type": "code",
   "execution_count": 155,
   "metadata": {
    "collapsed": false,
    "scrolled": true
   },
   "outputs": [
    {
     "name": "stdout",
     "output_type": "stream",
     "text": [
      "Total tags = 42\n",
      "linked_tags 14\n",
      "linked_het 28\n"
     ]
    }
   ],
   "source": [
    "my_sex_linked_markers_path = \"/home/djeffrie/Data/RADseq/Lpipiens/Lpip_all_stacks/Putative_XYlinked_makers.fa\"\n",
    "filterSLMs(my_sex_linked_markers_path, my_final_sex_linked_marker_directory, \"011\")"
   ]
  },
  {
   "cell_type": "markdown",
   "metadata": {},
   "source": [
    "## L tarahumarae"
   ]
  },
  {
   "cell_type": "code",
   "execution_count": 156,
   "metadata": {
    "collapsed": false
   },
   "outputs": [
    {
     "name": "stdout",
     "output_type": "stream",
     "text": [
      "Total tags = 87\n",
      "linked_tags 51\n",
      "linked_het 34\n",
      "linked_freq 25\n"
     ]
    }
   ],
   "source": [
    "my_sex_linked_markers_path = \"/home/djeffrie/Data/RADseq/Ltarahumarae/Sex_linked_markers/Putative_XYlinked_makers.fa\"\n",
    "filterSLMs(my_sex_linked_markers_path, my_final_sex_linked_marker_directory, \"111\")"
   ]
  },
  {
   "cell_type": "markdown",
   "metadata": {},
   "source": [
    "## P perezi"
   ]
  },
  {
   "cell_type": "code",
   "execution_count": 133,
   "metadata": {
    "collapsed": false
   },
   "outputs": [
    {
     "name": "stdout",
     "output_type": "stream",
     "text": [
      "Total tags = 200\n",
      "linked_tags 94\n",
      "linked_het 57\n",
      "linked_freq 61\n"
     ]
    }
   ],
   "source": [
    "my_sex_linked_markers_path = \"/home/djeffrie/Data/Mapping_SL_tags_to_genomes/Sex_linked_tags/P_perezi.fa\"\n",
    "filterSLMs(my_sex_linked_markers_path, my_final_sex_linked_marker_directory, \"111\")"
   ]
  },
  {
   "cell_type": "markdown",
   "metadata": {},
   "source": [
    "## R arvalis"
   ]
  },
  {
   "cell_type": "code",
   "execution_count": 134,
   "metadata": {
    "collapsed": false
   },
   "outputs": [
    {
     "name": "stdout",
     "output_type": "stream",
     "text": [
      "Total tags = 314\n",
      "linked_tags 107\n",
      "linked_het 149\n",
      "linked_freq 109\n"
     ]
    }
   ],
   "source": [
    "my_sex_linked_markers_path = \"/home/djeffrie/Data/Mapping_SL_tags_to_genomes/Sex_linked_tags/Manual_mapping/R_arvalis/R_arvalis.fa\"\n",
    "filterSLMs(my_sex_linked_markers_path, my_final_sex_linked_marker_directory, \"111\")"
   ]
  },
  {
   "cell_type": "markdown",
   "metadata": {},
   "source": [
    "## R dalmatina"
   ]
  },
  {
   "cell_type": "code",
   "execution_count": 137,
   "metadata": {
    "collapsed": false
   },
   "outputs": [
    {
     "name": "stdout",
     "output_type": "stream",
     "text": [
      "Total tags = 186\n",
      "linked_het 184\n",
      "linked_freq 171\n"
     ]
    }
   ],
   "source": [
    "my_sex_linked_markers_path = \"/home/djeffrie/Data/Mapping_SL_tags_to_genomes/Sex_linked_tags/Manual_mapping/R_dalmatina/R_dalmatina.fa\"\n",
    "filterSLMs(my_sex_linked_markers_path, my_final_sex_linked_marker_directory, \"110\")"
   ]
  },
  {
   "cell_type": "markdown",
   "metadata": {},
   "source": [
    "## R iberica Asturias populations"
   ]
  },
  {
   "cell_type": "code",
   "execution_count": 138,
   "metadata": {
    "collapsed": false
   },
   "outputs": [
    {
     "name": "stdout",
     "output_type": "stream",
     "text": [
      "Total tags = 490\n",
      "linked_tags 304\n",
      "linked_het 184\n",
      "linked_freq 168\n"
     ]
    }
   ],
   "source": [
    "my_sex_linked_markers_path = \"/home/djeffrie/Data/RADseq/Riberica/Stacks_trimmed/IDd/R_iberica_pops_SL_markers.fa\"\n",
    "filterSLMs(my_sex_linked_markers_path, my_final_sex_linked_marker_directory, \"111\")"
   ]
  },
  {
   "cell_type": "markdown",
   "metadata": {},
   "source": [
    "## R iberica Asturias family"
   ]
  },
  {
   "cell_type": "code",
   "execution_count": 139,
   "metadata": {
    "collapsed": false
   },
   "outputs": [
    {
     "name": "stdout",
     "output_type": "stream",
     "text": [
      "Total tags = 483\n",
      "linked_tags 297\n",
      "linked_het 186\n",
      "linked_freq 172\n"
     ]
    }
   ],
   "source": [
    "my_sex_linked_markers_path = \"/home/djeffrie/Data/RADseq/Riberica/Stacks_trimmed/IDd/R_iberica_fam_SL_markers.fa\"\n",
    "filterSLMs(my_sex_linked_markers_path, my_final_sex_linked_marker_directory, \"111\")"
   ]
  },
  {
   "cell_type": "markdown",
   "metadata": {},
   "source": [
    "## R italica family XY"
   ]
  },
  {
   "cell_type": "code",
   "execution_count": 145,
   "metadata": {
    "collapsed": false
   },
   "outputs": [
    {
     "name": "stdout",
     "output_type": "stream",
     "text": [
      "Total tags = 1058\n",
      "linked_tags 517\n",
      "linked_het 540\n",
      "linked_freq 525\n"
     ]
    }
   ],
   "source": [
    "my_sex_linked_markers_path = \"/home/djeffrie/Data/RADseq/Ritalica3/Stacks/Putative_XYlinked_makers.fa\"\n",
    "filterSLMs(my_sex_linked_markers_path, my_final_sex_linked_marker_directory, \"111\")"
   ]
  },
  {
   "cell_type": "markdown",
   "metadata": {},
   "source": [
    "## R italica family ZW"
   ]
  },
  {
   "cell_type": "code",
   "execution_count": 146,
   "metadata": {
    "collapsed": false
   },
   "outputs": [
    {
     "name": "stdout",
     "output_type": "stream",
     "text": [
      "Total tags = 221\n",
      "linked_tags 97\n",
      "linked_het 121\n",
      "linked_freq 114\n"
     ]
    }
   ],
   "source": [
    "my_sex_linked_markers_path = \"/home/djeffrie/Data/RADseq/Ritalica3/Stacks/Putative_ZWlinked_makers.fa\"\n",
    "filterSLMs(my_sex_linked_markers_path, my_final_sex_linked_marker_directory, \"111\")"
   ]
  },
  {
   "cell_type": "markdown",
   "metadata": {},
   "source": [
    "## R japonica Tsukuba (East)"
   ]
  },
  {
   "cell_type": "code",
   "execution_count": 142,
   "metadata": {
    "collapsed": false
   },
   "outputs": [
    {
     "name": "stdout",
     "output_type": "stream",
     "text": [
      "Total tags = 710\n",
      "linked_tags 0\n",
      "linked_het 710\n"
     ]
    }
   ],
   "source": [
    "my_sex_linked_markers_path = \"/home/djeffrie/Data/Mapping_SL_tags_to_genomes/Sex_linked_tags/Manual_mapping/R_japonica/R_jap_pop_t.fa\"\n",
    "filterSLMs(my_sex_linked_markers_path, my_final_sex_linked_marker_directory, \"011\")"
   ]
  },
  {
   "cell_type": "markdown",
   "metadata": {},
   "source": [
    "## R kukinoris Nanping"
   ]
  },
  {
   "cell_type": "code",
   "execution_count": 148,
   "metadata": {
    "collapsed": false
   },
   "outputs": [
    {
     "name": "stdout",
     "output_type": "stream",
     "text": [
      "Total tags = 350\n",
      "linked_tags 85\n",
      "linked_het 245\n",
      "linked_freq 112\n"
     ]
    }
   ],
   "source": [
    "my_sex_linked_markers_path = \"/home/djeffrie/Data/Mapping_SL_tags_to_genomes/Sex_linked_tags/Manual_mapping/R_kukinoris/R_kukinoris_Nanping.fa\"\n",
    "filterSLMs(my_sex_linked_markers_path, my_final_sex_linked_marker_directory, \"111\")"
   ]
  },
  {
   "cell_type": "markdown",
   "metadata": {},
   "source": [
    "## R kukinoris Muyu-Banqiao"
   ]
  },
  {
   "cell_type": "code",
   "execution_count": 151,
   "metadata": {
    "collapsed": false
   },
   "outputs": [
    {
     "name": "stdout",
     "output_type": "stream",
     "text": [
      "Total tags = 380\n",
      "linked_het 141\n",
      "linked_freq 282\n"
     ]
    }
   ],
   "source": [
    "my_sex_linked_markers_path = \"/home/djeffrie/Data/RADseq/Rkukinoris/Stacks/Putative_XYlinked_makers.fa\"\n",
    "filterSLMs(my_sex_linked_markers_path, my_final_sex_linked_marker_directory, \"110\")"
   ]
  },
  {
   "cell_type": "markdown",
   "metadata": {},
   "source": [
    "## R latastei"
   ]
  },
  {
   "cell_type": "code",
   "execution_count": 157,
   "metadata": {
    "collapsed": false
   },
   "outputs": [
    {
     "name": "stdout",
     "output_type": "stream",
     "text": [
      "Total tags = 94\n",
      "linked_tags 52\n",
      "linked_het 36\n",
      "linked_freq 36\n"
     ]
    }
   ],
   "source": [
    "my_sex_linked_markers_path = \"/home/djeffrie/Data/RADseq/Rlatastei/Populations_strict_kept2/Putative_XYlinked_makers.fa\"\n",
    "filterSLMs(my_sex_linked_markers_path, my_final_sex_linked_marker_directory, \"111\")"
   ]
  },
  {
   "cell_type": "markdown",
   "metadata": {},
   "source": [
    "## R ornativentris"
   ]
  },
  {
   "cell_type": "code",
   "execution_count": 154,
   "metadata": {
    "collapsed": false
   },
   "outputs": [
    {
     "name": "stdout",
     "output_type": "stream",
     "text": [
      "Total tags = 203\n",
      "linked_het 203\n"
     ]
    }
   ],
   "source": [
    "my_sex_linked_markers_path = \"/home/djeffrie/Data/RADseq/Rornativentris/Stacks/Putative_ZWlinked_makers_o_pop_het_only.fa\"\n",
    "filterSLMs(my_sex_linked_markers_path, my_final_sex_linked_marker_directory, \"010\")"
   ]
  },
  {
   "cell_type": "code",
   "execution_count": null,
   "metadata": {
    "collapsed": true
   },
   "outputs": [],
   "source": []
  },
  {
   "cell_type": "code",
   "execution_count": null,
   "metadata": {
    "collapsed": true
   },
   "outputs": [],
   "source": []
  }
 ],
 "metadata": {
  "kernelspec": {
   "display_name": "Python 2",
   "language": "python",
   "name": "python2"
  },
  "language_info": {
   "codemirror_mode": {
    "name": "ipython",
    "version": 2
   },
   "file_extension": ".py",
   "mimetype": "text/x-python",
   "name": "python",
   "nbconvert_exporter": "python",
   "pygments_lexer": "ipython2",
   "version": "2.7.10"
  }
 },
 "nbformat": 4,
 "nbformat_minor": 0
}
