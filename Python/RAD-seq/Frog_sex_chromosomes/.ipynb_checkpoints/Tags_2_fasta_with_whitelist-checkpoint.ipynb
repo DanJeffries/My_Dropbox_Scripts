{
 "cells": [
  {
   "cell_type": "code",
   "execution_count": 9,
   "metadata": {
    "collapsed": true
   },
   "outputs": [],
   "source": [
    "import gzip"
   ]
  },
  {
   "cell_type": "code",
   "execution_count": 11,
   "metadata": {
    "collapsed": true
   },
   "outputs": [],
   "source": [
    "whitey= \"/home/djeffrie/Data/Ribe_LM/MSTmap_haplotypes/Fem_LG18_tag_IDs.txt\"\n",
    "cat = \"/home/djeffrie/Data/Ribe_LM/batch_1.catalog.tags.tsv.gz\""
   ]
  },
  {
   "cell_type": "code",
   "execution_count": 12,
   "metadata": {
    "collapsed": false
   },
   "outputs": [
    {
     "name": "stdout",
     "output_type": "stream",
     "text": [
      "['37281', '60815', '41270', '8218', '33670', '57457', '15591', '81342', '65391', '11810', '84441', '16710', '4125', '23723', '30752', '34593', '53660', '56077', '63381', '76369', '81289', '84674', '6025', '35028', '59982', '70792', '47573', '61135', '61802', '64113', '65424', '66987', '68147', '69242', '77986', '80348', '81408', '84327', '84673', '79020', '81401', '67474', '81333', '4850', '71263', '60320', '71317', '39314', '38208', '81368', '81278', '53647', '43461', '17115', '39447', '64806']\n",
      "Number of loci in whitelist: 56\n",
      "Number of tags in fasta: 56\n"
     ]
    }
   ],
   "source": [
    "## Read in files\n",
    "\n",
    "loci = open(whitey, 'r').readlines()\n",
    "\n",
    "if cat.endswith(\"gz\"):\n",
    "    tags = gzip.open(cat, 'r').readlines()\n",
    "else:\n",
    "    tags = open(cat, 'r').readlines()\n",
    "\n",
    "## Pull out the locus ID's from the whitelist\n",
    "    \n",
    "Loc_IDs = []\n",
    "for locus in loci:\n",
    "    if locus.startswith(\"compli\"):\n",
    "        Loc_id = locus.split(\"_\")[1]\n",
    "    else:\n",
    "        Loc_id = locus.split(\"_\")[0]\n",
    "    Loc_IDs.append(Loc_id)\n",
    "print Loc_IDs\n",
    "print \"Number of loci in whitelist:\",len(Loc_IDs)\n",
    "\n",
    "## Write the fasta\n",
    "\n",
    "fasta = open(whitey.rpartition('.')[0]+'_whitelist_tags.fa', 'w')\n",
    "\n",
    "count = 0\n",
    "for line in tags:\n",
    "    if 'consensus' in line:\n",
    "        Tag_ID = line.split()[2]\n",
    "        if Tag_ID in Loc_IDs:\n",
    "            count+=1\n",
    "            fasta.write('>'+ Tag_ID +'\\n'+line.split()[8]+'\\n')\n",
    "print \"Number of tags in fasta:\", count        \n",
    "\n",
    "fasta.close()"
   ]
  }
 ],
 "metadata": {
  "kernelspec": {
   "display_name": "Python 2",
   "language": "python",
   "name": "python2"
  },
  "language_info": {
   "codemirror_mode": {
    "name": "ipython",
    "version": 2
   },
   "file_extension": ".py",
   "mimetype": "text/x-python",
   "name": "python",
   "nbconvert_exporter": "python",
   "pygments_lexer": "ipython2",
   "version": "2.7.10"
  }
 },
 "nbformat": 4,
 "nbformat_minor": 0
}
