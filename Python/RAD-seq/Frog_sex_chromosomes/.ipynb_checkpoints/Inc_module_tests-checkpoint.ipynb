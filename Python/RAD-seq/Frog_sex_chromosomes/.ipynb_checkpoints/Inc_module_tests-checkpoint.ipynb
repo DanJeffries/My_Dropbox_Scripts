{
 "cells": [
  {
   "cell_type": "code",
   "execution_count": 51,
   "metadata": {
    "collapsed": true
   },
   "outputs": [],
   "source": [
    "import Incremental_U as IncU ## need to recompile I think!\n",
    "import pprint\n",
    "import sys\n",
    "import os"
   ]
  },
  {
   "cell_type": "code",
   "execution_count": 49,
   "metadata": {
    "collapsed": false
   },
   "outputs": [
    {
     "name": "stdout",
     "output_type": "stream",
     "text": [
      "{ 'parameters': { 'M': [2, 3]},\n",
      "  'parent_directory': '/home/djeffrie/Data/Caspers_data/Large_test_set/',\n",
      "  'run_cline_switch': 0,\n",
      "  'threads': 7,\n",
      "  'verbose': False}\n",
      "M\n"
     ]
    }
   ],
   "source": [
    "## INPUT PARAMETERS HERE -----------------------------------------\n",
    "\n",
    "parameters = [\"M\"]                                             ## List, eg [\"M\", \"m\", \"MS\"]. If only testing 1 param, this must still be a list e.g. [\"M\"]\n",
    "M_vals =   [2,3]                                                    ## List, eg range(1,5,1) this would give [1,2,3,4]\n",
    "m_vals =   [1,2,3,4,5,6,7]                                                ## List, eg range(1,5,1) this would give [1,2,3,4]\n",
    "MS_vals =  [2,3,4,]                                                    ## List, eg range(1,5,1) this would give [1,2,3,4]\n",
    "threads =  7                                                        ## Int. eg 7\n",
    "parent_dir = \"/home/djeffrie/Data/Caspers_data/Large_test_set/\"      ## Absolute Dir containing the demultiplexed raw read fasta/fastq files\n",
    "run_cline_switch = 0                                               ## to switch on (1) to run stacks cline or off (0) to run pipeline on existing outputs\n",
    "\n",
    "\n",
    "## Making input dictionary --------------------------------------\n",
    "\n",
    "Setup_dict = {}\n",
    "Setup_dict[\"parameters\"] = {}\n",
    "Setup_dict[\"threads\"] = threads\n",
    "Setup_dict[\"parent_directory\"] = parent_dir\n",
    "Setup_dict[\"run_cline_switch\"] = run_cline_switch\n",
    "Setup_dict[\"verbose\"] = False\n",
    "\n",
    "for param in parameters:\n",
    "    if \"M\" in param:\n",
    "        Setup_dict[\"parameters\"][param] = M_vals\n",
    "    if \"m\" in param:\n",
    "        Setup_dict[\"parameters\"][param] = m_vals\n",
    "    if \"MS\" in param:\n",
    "        Setup_dict[\"parameters\"][param] = MS_vals\n",
    "\n",
    "pp = pprint.PrettyPrinter(indent=2)\n",
    "pp.pprint(Setup_dict)\n",
    "\n",
    "for parameter in Setup_dict['parameters']:\n",
    "    print parameter"
   ]
  },
  {
   "cell_type": "code",
   "execution_count": 39,
   "metadata": {
    "collapsed": false
   },
   "outputs": [
    {
     "name": "stdout",
     "output_type": "stream",
     "text": [
      "{'M': [2, 3]}\n"
     ]
    }
   ],
   "source": [
    "print Setup_dict['parameters']"
   ]
  },
  {
   "cell_type": "code",
   "execution_count": 52,
   "metadata": {
    "collapsed": false,
    "scrolled": true
   },
   "outputs": [
    {
     "ename": "TypeError",
     "evalue": "'str' object does not support item assignment",
     "output_type": "error",
     "traceback": [
      "\u001b[1;31m---------------------------------------------------------------------------\u001b[0m",
      "\u001b[1;31mTypeError\u001b[0m                                 Traceback (most recent call last)",
      "\u001b[1;32m<ipython-input-52-479a1ce6ac47>\u001b[0m in \u001b[0;36m<module>\u001b[1;34m()\u001b[0m\n\u001b[1;32m----> 1\u001b[1;33m \u001b[0mOutputs\u001b[0m \u001b[1;33m=\u001b[0m \u001b[0mIncU\u001b[0m\u001b[1;33m.\u001b[0m\u001b[0mIncreMental_U\u001b[0m\u001b[1;33m(\u001b[0m\u001b[0mSetup_dict\u001b[0m\u001b[1;33m)\u001b[0m\u001b[1;33m\u001b[0m\u001b[0m\n\u001b[0m",
      "\u001b[1;32m/home/djeffrie/Dropbox/My_Dropbox_Scripts/Python/My_Modules/Incremental/Incremental_U.py\u001b[0m in \u001b[0;36mIncreMental_U\u001b[1;34m(Setup_dict)\u001b[0m\n\u001b[0;32m    807\u001b[0m     \u001b[1;31m#    for sample in Master_dict:\u001b[0m\u001b[1;33m\u001b[0m\u001b[1;33m\u001b[0m\u001b[0m\n\u001b[0;32m    808\u001b[0m     \u001b[1;31m#        if sample.endswith(\"fq\") or sample.endswith(\"gz\"):\u001b[0m\u001b[1;33m\u001b[0m\u001b[1;33m\u001b[0m\u001b[0m\n\u001b[1;32m--> 809\u001b[1;33m     \u001b[1;31m#            Master_dict[sample][parameter] = {}\u001b[0m\u001b[1;33m\u001b[0m\u001b[1;33m\u001b[0m\u001b[0m\n\u001b[0m\u001b[0;32m    810\u001b[0m     \u001b[1;31m#            for value in Setup_dict[\"parameters\"][parameter]:\u001b[0m\u001b[1;33m\u001b[0m\u001b[1;33m\u001b[0m\u001b[0m\n\u001b[0;32m    811\u001b[0m     \u001b[1;31m#                Master_dict[sample][parameter][value] = {}\u001b[0m\u001b[1;33m\u001b[0m\u001b[1;33m\u001b[0m\u001b[0m\n",
      "\u001b[1;31mTypeError\u001b[0m: 'str' object does not support item assignment"
     ]
    }
   ],
   "source": [
    "Outputs = IncU.IncreMental_U(Setup_dict)"
   ]
  },
  {
   "cell_type": "code",
   "execution_count": 28,
   "metadata": {
    "collapsed": false
   },
   "outputs": [],
   "source": [
    "dic = { 'parameters': { 'M': [2, 3]},\n",
    "  'parent_directory': '/home/djeffrie/Data/Caspers_data/Large_test_set/',\n",
    "  'run_cline_switch': 0,\n",
    "  'threads': 7,\n",
    "  'verbose': False}"
   ]
  },
  {
   "cell_type": "code",
   "execution_count": 34,
   "metadata": {
    "collapsed": false
   },
   "outputs": [
    {
     "name": "stdout",
     "output_type": "stream",
     "text": [
      "{'C424_P.fq.gz': {}, 'C401_P.fq.gz': {}, 'C259_S.fq.gz': {}, 'C277_P.fq.gz': {}, 'C288_S.fq.gz': {}, 'C518_P.fq.gz': {}, 'C415_S.fq.gz': {}, 'parent_directory': '/home/djeffrie/Data/Caspers_data/Large_test_set/', 'C480_P.fq.gz': {}, 'C437_S.fq.gz': {}, 'C210_S.fq.gz': {}, 'C228_S.fq.gz': {}, 'C256_P.fq.gz': {}, 'C248_S.fq.gz': {}, 'C463_P.fq.gz': {}}\n",
      "C424_P.fq.gz\n",
      "M\n",
      "C401_P.fq.gz\n",
      "M\n",
      "C259_S.fq.gz\n",
      "M\n",
      "C277_P.fq.gz\n",
      "M\n",
      "C288_S.fq.gz\n",
      "M\n",
      "C518_P.fq.gz\n",
      "M\n",
      "C415_S.fq.gz\n",
      "M\n",
      "parent_directory\n",
      "C480_P.fq.gz\n",
      "M\n",
      "C437_S.fq.gz\n",
      "M\n",
      "C210_S.fq.gz\n",
      "M\n",
      "C228_S.fq.gz\n",
      "M\n",
      "C256_P.fq.gz\n",
      "M\n",
      "C248_S.fq.gz\n",
      "M\n",
      "C463_P.fq.gz\n",
      "M\n",
      "\n",
      "##### ------- Test samples, parameters and values ------ #####\n",
      "\n",
      "{ 'C210_S.fq.gz': { 'M': { 2: { }, 3: { }}},\n",
      "  'C228_S.fq.gz': { 'M': { 2: { }, 3: { }}},\n",
      "  'C248_S.fq.gz': { 'M': { 2: { }, 3: { }}},\n",
      "  'C256_P.fq.gz': { 'M': { 2: { }, 3: { }}},\n",
      "  'C259_S.fq.gz': { 'M': { 2: { }, 3: { }}},\n",
      "  'C277_P.fq.gz': { 'M': { 2: { }, 3: { }}},\n",
      "  'C288_S.fq.gz': { 'M': { 2: { }, 3: { }}},\n",
      "  'C401_P.fq.gz': { 'M': { 2: { }, 3: { }}},\n",
      "  'C415_S.fq.gz': { 'M': { 2: { }, 3: { }}},\n",
      "  'C424_P.fq.gz': { 'M': { 2: { }, 3: { }}},\n",
      "  'C437_S.fq.gz': { 'M': { 2: { }, 3: { }}},\n",
      "  'C463_P.fq.gz': { 'M': { 2: { }, 3: { }}},\n",
      "  'C480_P.fq.gz': { 'M': { 2: { }, 3: { }}},\n",
      "  'C518_P.fq.gz': { 'M': { 2: { }, 3: { }}},\n",
      "  'parent_directory': '/home/djeffrie/Data/Caspers_data/Large_test_set/'}\n"
     ]
    }
   ],
   "source": [
    "Master_dict = {} ## All outputs go in here!\n",
    "    \n",
    "Master_dict['parent_directory'] = Setup_dict['parent_directory']\n",
    "## Finding the samples -----------------------------------------------------------------------------------------------------\n",
    "    \n",
    "file_formats = []\n",
    "\n",
    "for i in os.listdir(Setup_dict[\"parent_directory\"]):\n",
    "    if i.endswith(\".fq_1\") or i.endswith(\".fq\") or i.endswith(\"1.fastq\"):\n",
    "        Master_dict[i] = {}\n",
    "        file_formats.append(\"fastq\")\n",
    "\n",
    "    elif i.endswith(\".fq_1.gz\") or i.endswith(\".fq.gz\") or i.endswith(\"1.fastq.gz\"):\n",
    "        Master_dict[i] = {}\n",
    "        file_formats.append(\"gzfastq\")\n",
    "    \n",
    "print Master_dict\n",
    "    \n",
    "## Checking file formats are ok --------------------------------------------------------------------------------------------\n",
    "\n",
    "file_formats = list(set(file_formats))\n",
    "\n",
    "if len(file_formats) > 1:\n",
    "    sys.exit(\"Inconsistent file format, please make sure all files are of the same format\")\n",
    "else:\n",
    "    file_format = file_formats[0]\n",
    "            \n",
    "            \n",
    "## making the structure of the master dictionary --------------------------------------------------------------------------    \n",
    "\n",
    "for sample in Master_dict:\n",
    "    print sample\n",
    "    if sample.endswith(\"fq\") or sample.endswith(\"gz\"):\n",
    "        for parameter in Setup_dict[\"parameters\"]:\n",
    "            print parameter\n",
    "\n",
    "            Master_dict[sample][parameter] = {}\n",
    "            for value in Setup_dict[\"parameters\"][parameter]:\n",
    "                Master_dict[sample][parameter][value] = {}\n",
    "\n",
    "print \"\\n##### ------- Test samples, parameters and values ------ #####\\n\"\n",
    "pp = pprint.PrettyPrinter(indent=2)\n",
    "pp.pprint(Master_dict)"
   ]
  },
  {
   "cell_type": "code",
   "execution_count": null,
   "metadata": {
    "collapsed": true
   },
   "outputs": [],
   "source": []
  }
 ],
 "metadata": {
  "kernelspec": {
   "display_name": "Python 2",
   "language": "python",
   "name": "python2"
  },
  "language_info": {
   "codemirror_mode": {
    "name": "ipython",
    "version": 2
   },
   "file_extension": ".py",
   "mimetype": "text/x-python",
   "name": "python",
   "nbconvert_exporter": "python",
   "pygments_lexer": "ipython2",
   "version": "2.7.10"
  }
 },
 "nbformat": 4,
 "nbformat_minor": 0
}
