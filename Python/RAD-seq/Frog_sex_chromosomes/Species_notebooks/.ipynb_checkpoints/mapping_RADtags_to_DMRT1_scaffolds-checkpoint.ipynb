{
 "cells": [
  {
   "cell_type": "markdown",
   "metadata": {},
   "source": [
    "### Here I map RADtags from 6 Rtemp families to scaffolds containing portions of DMRT1\n",
    "\n",
    "The RAD dataset used:\n",
    "\n",
    "6 families from the SAME population (Tvedora, Sweden)\n",
    "\n",
    "- After Stacks catalog stage, 260,000 RADtags were found.\n",
    "- Filtered for RADtags to be present in all parents and 75% of offspring.\n",
    "- Filtered loci with coverage < 3, maf < 0.05 and heterozygosity > 0.75\n",
    "- This gave ~30,000 RADtags\n",
    "- Of these 13,000 were polymorphic and contained ~20,000 SNPs (~1.5snps per tag)  \n",
    "(Note that, although this is stringent filtering, more relaxed filtering would, at best, double the amount of loci to be used (at the cost of data reliability))\n",
    "\n",
    "\n",
    "The below analyses is done using the sequences of the 13,000 RADtags. \n"
   ]
  },
  {
   "cell_type": "code",
   "execution_count": 3,
   "metadata": {},
   "outputs": [],
   "source": [
    "import sys\n",
    "sys.path.append('/home/djeffrie/Dropbox/My_Dropbox_Scripts/Python/My_Modules/')\n",
    "import MISC_RAD_tools as MISC\n",
    "import Bio"
   ]
  },
  {
   "cell_type": "code",
   "execution_count": 83,
   "metadata": {
    "collapsed": true
   },
   "outputs": [],
   "source": [
    "## Get the filtered tag IDs\n",
    "\n",
    "whitelist = open(\"/home/djeffrie/Data/RADseq/R_temp_fams/Populations_all_kept/whitelist.txt\", 'r').readlines()\n",
    "whitelist = [i.strip() for i in whitelist]"
   ]
  },
  {
   "cell_type": "code",
   "execution_count": 12,
   "metadata": {},
   "outputs": [
    {
     "name": "stdout",
     "output_type": "stream",
     "text": [
      "Number of tags in whitelist: 12938\n",
      "12938 sequences written to /home/djeffrie/Data/RADseq/R_temp_fams/Whitelist_tags.fa\n"
     ]
    }
   ],
   "source": [
    "## Make a fasta file of the tag sequences\n",
    "\n",
    "MISC.fasta_maka(whitelist, \"/home/djeffrie/Data/RADseq/R_temp_fams/batch_1.catalog.tags.tsv.gz\")"
   ]
  },
  {
   "cell_type": "markdown",
   "metadata": {},
   "source": [
    "####  These sequences were blasted to the DMRT1 scaffold sequences (blastn)"
   ]
  },
  {
   "cell_type": "code",
   "execution_count": 15,
   "metadata": {},
   "outputs": [
    {
     "name": "stdout",
     "output_type": "stream",
     "text": [
      "Number of multi-alingments kept: 2\n",
      "Number of unique alingments kept: 43\n",
      "Getting subject scaffold segments from /home/djeffrie/Data/Genomes/Rtemp/DMRT1_scaffs/scaffolds_dmrt1all.fasta . . . \n",
      "4 sequence scaffold segments are in /home/djeffrie/Data/RADseq/R_temp_fams/Populations_all_kept/blast_2000_chunks.fa\n"
     ]
    }
   ],
   "source": [
    "## Filtering blast hits\n",
    "\n",
    "VCF_tags_to_DMRT1_outs = \"/home/djeffrie/Data/RADseq/R_temp_fams/Populations_all_kept/VCF_tags_to_DMRT1.xml\"  ## blast outputs\n",
    "DMRT1_fasta = \"/home/djeffrie/Data/Genomes/Rtemp/DMRT1_scaffs/scaffolds_dmrt1all.fasta\"  ## DMRT1 fasta\n",
    "\n",
    "## Filtering criteria\n",
    "\n",
    "best_hit_crit = 1e-5 ## the top hit for a tag must be 5 orders of magnitute better than the next best hit\n",
    "Eval_threshold = 1e-20 ## the minimum evalue for a hit\n",
    "\n",
    "VCF_tags_to_DMRT1_Filtered_blasts = MISC.BlastParseExtra(VCF_tags_to_DMRT1_outs , DMRT1_fasta , best_hit_crit, Eval_threshold, 1 , 0 , 1) ## filtering function call"
   ]
  },
  {
   "cell_type": "markdown",
   "metadata": {},
   "source": [
    "So there are apparently 45 hits, but this seems very high, so I will look into this. "
   ]
  },
  {
   "cell_type": "code",
   "execution_count": 86,
   "metadata": {},
   "outputs": [
    {
     "name": "stdout",
     "output_type": "stream",
     "text": [
      "{'scaffold7867.1|size68756': 58504, 'scaffold60721.1|size23283': 23365, 'scaffold9351.1|size72711': 91773, 'scaffold86492.1|size16590': 15889, 'scaffold142901.1|size18471': 19316}\n",
      "Total length of scaffolds = 208847\n"
     ]
    }
   ],
   "source": [
    "## get real scaffold lengths (the lengths in the scaffold IDs are wrong)\n",
    "\n",
    "scaff_lengths = {}\n",
    "\n",
    "dmrt1s = Bio.SeqIO.parse(\"/home/djeffrie/Data/Genomes/Rtemp/DMRT1_scaffs/scaffolds_dmrt1all.fasta\", \"fasta\")\n",
    "\n",
    "for i in dmrt1s:\n",
    "    scaff_lengths[i.id] = len(i.seq)\n",
    "\n",
    "print scaff_lengths\n",
    "\n",
    "print \"Total length of scaffolds = %s\" % sum(scaff_lengths.values())"
   ]
  },
  {
   "cell_type": "code",
   "execution_count": 89,
   "metadata": {
    "scrolled": false
   },
   "outputs": [
    {
     "name": "stdout",
     "output_type": "stream",
     "text": [
      "16975 0\n",
      "16976 0\n",
      "16977 0\n",
      "16978 0\n",
      "16979 0\n",
      "16980 0\n",
      "16981 0\n",
      "16982 0\n",
      "16983 0\n",
      "16984 0\n",
      "16985 0\n",
      "16986 0\n",
      "16987 0\n",
      "16988 0\n",
      "16989 0\n",
      "16990 0\n",
      "16991 0\n",
      "16992 0\n",
      "16993 4\n",
      "16994 4\n",
      "16995 4\n",
      "16996 4\n",
      "16997 4\n",
      "16998 4\n",
      "16999 4\n",
      "17000 4\n",
      "17001 4\n",
      "17002 4\n",
      "17003 4\n",
      "17004 4\n",
      "17005 4\n",
      "17006 4\n",
      "17007 4\n",
      "17008 4\n",
      "17009 4\n",
      "17010 4\n",
      "17011 4\n",
      "17012 4\n",
      "17013 4\n",
      "17014 4\n",
      "17015 4\n",
      "17016 4\n",
      "17017 4\n",
      "17018 4\n",
      "17019 4\n",
      "17020 4\n",
      "17021 4\n",
      "17022 4\n",
      "17023 4\n",
      "17024 4\n",
      "17025 4\n",
      "17026 4\n",
      "17027 4\n",
      "17028 4\n",
      "17029 4\n",
      "17030 4\n",
      "17031 5\n",
      "17032 5\n",
      "17033 5\n",
      "17034 5\n",
      "17035 6\n",
      "17036 6\n",
      "17037 6\n",
      "17038 6\n",
      "17039 6\n",
      "17040 6\n",
      "17041 6\n",
      "17042 6\n",
      "17043 6\n",
      "17044 6\n",
      "17045 5\n",
      "17046 5\n",
      "17047 7\n",
      "17048 9\n",
      "17049 10\n",
      "17050 10\n",
      "17051 10\n",
      "17052 10\n",
      "17053 10\n",
      "17054 10\n",
      "17055 10\n",
      "17056 10\n",
      "17057 10\n",
      "17058 10\n",
      "17059 10\n",
      "17060 10\n",
      "17061 10\n",
      "17062 10\n",
      "17063 10\n",
      "17064 10\n",
      "17065 9\n",
      "17066 9\n",
      "17067 9\n",
      "17068 9\n",
      "17069 9\n",
      "17070 9\n",
      "17071 9\n",
      "17072 9\n",
      "17073 9\n",
      "17074 9\n",
      "17075 9\n",
      "17076 9\n",
      "17077 9\n",
      "17078 9\n",
      "17079 9\n",
      "17080 9\n",
      "17081 9\n",
      "17082 9\n",
      "17083 9\n",
      "17084 9\n",
      "17085 7\n",
      "17086 7\n",
      "17087 7\n",
      "17088 7\n",
      "17089 7\n",
      "17090 7\n",
      "17091 7\n",
      "17092 7\n",
      "17093 7\n",
      "17094 7\n",
      "17095 7\n",
      "17096 7\n",
      "17097 7\n",
      "17098 7\n",
      "17099 7\n",
      "17100 7\n",
      "17101 7\n",
      "17102 7\n",
      "17103 7\n",
      "17104 7\n",
      "17105 7\n",
      "17106 7\n",
      "17107 7\n",
      "17108 7\n",
      "17109 7\n",
      "17110 7\n",
      "17111 7\n",
      "17112 7\n",
      "17113 7\n",
      "17114 7\n",
      "17115 7\n",
      "17116 7\n",
      "17117 7\n",
      "17118 7\n",
      "17119 7\n",
      "17120 7\n",
      "17121 7\n",
      "17122 7\n",
      "17123 0\n",
      "17124 0\n",
      "17125 0\n",
      "17126 0\n",
      "17127 0\n",
      "17128 0\n",
      "17129 0\n",
      "17130 0\n",
      "17131 0\n",
      "17132 0\n",
      "17133 0\n"
     ]
    }
   ],
   "source": [
    "## Look at the distribution of the hits across the scaffolds\n",
    "\n",
    "scaff_positions = {}\n",
    "\n",
    "for tag in VCF_tags_to_DMRT1_Filtered_blasts:\n",
    "        \n",
    "    if VCF_tags_to_DMRT1_Filtered_blasts[tag]['Ref_hit_id'] not in scaff_positions:\n",
    "        scaff_positions[VCF_tags_to_DMRT1_Filtered_blasts[tag]['Ref_hit_id']] = {}\n",
    "        scaff_length = scaff_lengths[VCF_tags_to_DMRT1_Filtered_blasts[tag]['Ref_hit_id']]\n",
    "        \n",
    "        for pos in range(1,scaff_length):\n",
    "            scaff_positions[VCF_tags_to_DMRT1_Filtered_blasts[tag]['Ref_hit_id']][pos] = 0\n",
    "     \n",
    "        \n",
    "    if VCF_tags_to_DMRT1_Filtered_blasts[tag][\"Hit_start_coord\"] < VCF_tags_to_DMRT1_Filtered_blasts[tag][\"Hit_end_coord\"]:\n",
    "        \n",
    "        for k in range(VCF_tags_to_DMRT1_Filtered_blasts[tag][\"Hit_start_coord\"], VCF_tags_to_DMRT1_Filtered_blasts[tag][\"Hit_end_coord\"]):\n",
    "            scaff_positions[VCF_tags_to_DMRT1_Filtered_blasts[tag]['Ref_hit_id']][k] += 1\n",
    "            \n",
    "    elif VCF_tags_to_DMRT1_Filtered_blasts[tag][\"Hit_end_coord\"] < VCF_tags_to_DMRT1_Filtered_blasts[tag][\"Hit_start_coord\"]:\n",
    "        for k in range(VCF_tags_to_DMRT1_Filtered_blasts[tag][\"Hit_end_coord\"], VCF_tags_to_DMRT1_Filtered_blasts[tag][\"Hit_start_coord\"]):\n",
    "            scaff_positions[VCF_tags_to_DMRT1_Filtered_blasts[tag]['Ref_hit_id']][k] += 1\n",
    "    \n",
    "## Take a look at the number of RADtags that map for each position on the scaffolds - below I show just a representitive portion.\n",
    "\n",
    "for i in range(16975,17134):\n",
    "    print i, scaff_positions['scaffold7867.1|size68756'][i]\n",
    "        \n",
    "        \n",
    "        "
   ]
  },
  {
   "cell_type": "markdown",
   "metadata": {},
   "source": [
    "So even just by eye you can see that there are regions where multiple RADtags hit, and many small alignment lengths, suggesting that these scaffolds contain repeats . . . \n",
    "\n",
    "So this points to the problem, there are repeats in the DMRT1 scaffolds and the RADtags. This gives you lots of hits, but importantly you do not know if these are indeed the locations of these RADtags. \n",
    "\n",
    "<b>The problem with this approach is that, by only mapping to DMRT1 scaffolds, you don't see all the other mappings that those RADtags would have throughout the genome . . . </b>\n",
    "\n",
    "So the correct approach would be:\n",
    "- Map all RADtags to the whole genome\n",
    "- Filter out tags which don't have a confident mapping position\n",
    "- Only then look for tags that hit one of the DMRT1 scaffolds \n",
    "\n",
    ". . .I do this below"
   ]
  },
  {
   "cell_type": "code",
   "execution_count": 78,
   "metadata": {},
   "outputs": [
    {
     "name": "stdout",
     "output_type": "stream",
     "text": [
      "Number of multi-alingments kept: 3651\n",
      "Number of unique alingments kept: 3429\n"
     ]
    }
   ],
   "source": [
    "VCF_tags_to_DMRT1_outs = \"/home/djeffrie/Data/RADseq/R_temp_fams/Populations_all_kept/VCF_tags_to_Rtemp.xml\"\n",
    "\n",
    "DMRT1_fasta = \"/home/djeffrie/Data/Genomes/Rtemp/Rtemp_gapfilled.iter2.fa\"\n",
    "\n",
    "\n",
    "best_hit_crit = 1e-5 ## the top hit for a tag must be 5 orders of magnitute better than the next best hit\n",
    "Eval_threshold = 1e-20 ## the minimum evalue for a hit\n",
    "Window = 2000 ## the size (each side of the mapping) of the fragment to retreive from the fasta for the next mapping stage. \n",
    "\n",
    "VCF_tags_to_Rtemp_Filtered_blasts = MISC.BlastParseExtra(VCF_tags_to_DMRT1_outs , DMRT1_fasta , best_hit_crit, Eval_threshold, 0 ,Window, 1)"
   ]
  },
  {
   "cell_type": "markdown",
   "metadata": {},
   "source": [
    "So about 7000 RADtags can be confidently mapped. . . how many of these are on DMRT1 scaffolds?"
   ]
  },
  {
   "cell_type": "code",
   "execution_count": 82,
   "metadata": {},
   "outputs": [],
   "source": [
    "for i in VCF_tags_to_Rtemp_Filtered_blasts:\n",
    "    if VCF_tags_to_Rtemp_Filtered_blasts[i][\"Ref_hit_id\"] in scaff_lengths:\n",
    "        print i"
   ]
  },
  {
   "cell_type": "markdown",
   "metadata": {},
   "source": [
    "<b>ANSWER: None</b>\n",
    "\n",
    "So even if you managed to double or triple the number of RADtags to use (which is unlikely when dealing with samples across Europe), the number of loci hitting DMRT1 is going to be somewhere between none and very few. \n"
   ]
  }
 ],
 "metadata": {
  "kernelspec": {
   "display_name": "Python 2",
   "language": "python",
   "name": "python2"
  },
  "language_info": {
   "codemirror_mode": {
    "name": "ipython",
    "version": 2
   },
   "file_extension": ".py",
   "mimetype": "text/x-python",
   "name": "python",
   "nbconvert_exporter": "python",
   "pygments_lexer": "ipython2",
   "version": "2.7.13"
  }
 },
 "nbformat": 4,
 "nbformat_minor": 2
}
