{
 "cells": [
  {
   "cell_type": "markdown",
   "metadata": {},
   "source": [
    "### Here we will map the sex linked tags from several of the best species dataset to the ordered R temporaria genome scaffolds in order to find their positions on the R. temporaria linkage map\n",
    "\n",
    "The hypthesis here is that, due to the pretty extreme heterochiasmy in frogs, whereby males almost never recombine anywhere except the tips of their chromosomes, the sex linked tags should not be clustered around a particular point, but should be spread along almost the entire length of the chromosome, except for the tips. This goes agains the classic model of how sex chromosomes decay over time. \n"
   ]
  },
  {
   "cell_type": "code",
   "execution_count": null,
   "metadata": {
    "collapsed": true
   },
   "outputs": [],
   "source": []
  },
  {
   "cell_type": "code",
   "execution_count": 19,
   "metadata": {
    "collapsed": true
   },
   "outputs": [],
   "source": [
    "%matplotlib inline\n",
    "import sys\n",
    "sys.path.append('/home/djeffrie/Dropbox/My_Dropbox_Scripts/Python/My_Modules/')\n",
    "from __future__ import division\n",
    "import MISC_RAD_tools as MISC\n",
    "from matplotlib import pyplot as plt\n",
    "import numpy as np"
   ]
  },
  {
   "cell_type": "markdown",
   "metadata": {},
   "source": [
    "We will use these 7 species:\n",
    "    - R. arvalis (Chr01)\n",
    "    - R. iberica (Chr03)\n",
    "    - R. dalmatina (Chr05)\n",
    "    - R. italica (Chr01)\n",
    "    - R. kukinoris (Chr05)\n",
    "    - R. japonica (Chr01)\n",
    "    - R. montezumae (Chr01)\n",
    "    - R. ornativentris (Chr07)\n",
    "    \n",
    "    "
   ]
  },
  {
   "cell_type": "markdown",
   "metadata": {},
   "source": [
    "## Below are the mappings for each species\n",
    "\n",
    "for each one, the mapping data is retained and at the end they are plotted. I did this separately for male and female mapping positions"
   ]
  },
  {
   "cell_type": "markdown",
   "metadata": {},
   "source": [
    "### Rana arvalis (Chr01)  - female"
   ]
  },
  {
   "cell_type": "code",
   "execution_count": 120,
   "metadata": {
    "collapsed": false
   },
   "outputs": [
    {
     "name": "stdout",
     "output_type": "stream",
     "text": [
      "Number of multi-alingments kept: 16\n",
      "Number of unique alingments kept: 19\n"
     ]
    }
   ],
   "source": [
    "from Bio.Blast.Applications import NcbiblastnCommandline    \n",
    "    \n",
    "blast_out_path = \"/home/djeffrie/Data/RADseq/Patterns_of_XY_div_analyses/Rarvalis_to_LMordered_rtemp_blastn_outs.xml\"\n",
    "mysex_linked_markers_path = \"/home/djeffrie/Data/Mapping_SL_tags_to_genomes/Sex_linked_tags/Manual_mapping/R_arvalis/R_arvalis.fa\"\n",
    "ordered_Genome_db = \"/home/djeffrie/Data/Genomes/Rtemp/Ordered_scaffs/Rtemp_ordered_blastn_db\"\n",
    "ordered_Genome_fasta = \"/home/djeffrie/Data/Genomes/Rtemp/Ordered_scaffs/Rtemp_ordered.fa\"\n",
    "\n",
    "Threads = 7\n",
    "best_hit_crit = 1e-5\n",
    "Eval_threshold = 1e-20\n",
    "Window = 1000\n",
    "\n",
    "blastn_cline = NcbiblastnCommandline(query=mysex_linked_markers_path, db=ordered_Genome_db, outfmt=5, out=blast_out_path, num_threads = Threads)\n",
    "stdout, stderr = blastn_cline()\n",
    "\n",
    "Rarv_to_ordered_Rtempblastouts =  MISC.BlastParseExtra(blast_out_path, ordered_Genome_fasta , best_hit_crit, Eval_threshold,0,Window,1)"
   ]
  },
  {
   "cell_type": "markdown",
   "metadata": {},
   "source": [
    "### Rana arvalis (Chr01)  - male"
   ]
  },
  {
   "cell_type": "code",
   "execution_count": 136,
   "metadata": {
    "collapsed": false
   },
   "outputs": [
    {
     "name": "stdout",
     "output_type": "stream",
     "text": [
      "Number of multi-alingments kept: 16\n",
      "Number of unique alingments kept: 19\n"
     ]
    }
   ],
   "source": [
    "from Bio.Blast.Applications import NcbiblastnCommandline    \n",
    "    \n",
    "blast_out_path = \"/home/djeffrie/Data/RADseq/Patterns_of_XY_div_analyses/Rarvalis_to_LMordered_rtemp_blastn_outs.xml\"\n",
    "mysex_linked_markers_path = \"/home/djeffrie/Data/Mapping_SL_tags_to_genomes/Sex_linked_tags/Manual_mapping/R_arvalis/R_arvalis.fa\"\n",
    "ordered_Genome_db = \"/home/djeffrie/Data/Genomes/Rtemp/Ordered_scaffs/Rtemp_ordered_male_blastn_db\"\n",
    "ordered_Genome_fasta = \"/home/djeffrie/Data/Genomes/Rtemp/Ordered_scaffs/Rtemp_ordered_by_male_map.fa\"\n",
    "\n",
    "Threads = 7\n",
    "best_hit_crit = 1e-5\n",
    "Eval_threshold = 1e-20\n",
    "Window = 1000\n",
    "\n",
    "blastn_cline = NcbiblastnCommandline(query=mysex_linked_markers_path, db=ordered_Genome_db, outfmt=5, out=blast_out_path, num_threads = Threads)\n",
    "stdout, stderr = blastn_cline()\n",
    "\n",
    "Rarv_to_ordered_Rtempblastouts_male =  MISC.BlastParseExtra(blast_out_path, ordered_Genome_fasta , best_hit_crit, Eval_threshold,0,Window,1)"
   ]
  },
  {
   "cell_type": "markdown",
   "metadata": {},
   "source": [
    "### Rana iberica (Chr03) - female"
   ]
  },
  {
   "cell_type": "code",
   "execution_count": 72,
   "metadata": {
    "collapsed": false
   },
   "outputs": [
    {
     "name": "stdout",
     "output_type": "stream",
     "text": [
      "Number of multi-alingments kept: 31\n",
      "Number of unique alingments kept: 43\n"
     ]
    }
   ],
   "source": [
    "blast_out_path = \"/home/djeffrie/Data/RADseq/Patterns_of_XY_div_analyses/Ribe_to_LMordered_rtemp_blastn_outs.xml\"\n",
    "mysex_linked_markers_path = \"/home/djeffrie/Data/RADseq/Riberica/Stacks_trimmed/IDd/R_iberica_fam_SL_markers.fa\"\n",
    "ordered_Genome_db = \"/home/djeffrie/Data/Genomes/Rtemp/Ordered_scaffs/Rtemp_ordered_blastn_db\"\n",
    "ordered_Genome_fasta = \"/home/djeffrie/Data/Genomes/Rtemp/Ordered_scaffs/Rtemp_ordered.fa\"\n",
    "Threads = 7\n",
    "best_hit_crit = 1e-5\n",
    "Eval_threshold = 1e-20\n",
    "\n",
    "blastn_cline = NcbiblastnCommandline(query=mysex_linked_markers_path, db=ordered_Genome_db, outfmt=5, out=blast_out_path, num_threads = Threads)\n",
    "stdout, stderr = blastn_cline()\n",
    "\n",
    "Ribe_to_ordered_Rtempblastouts =  MISC.BlastParseExtra(blast_out_path, ordered_Genome_fasta , best_hit_crit, Eval_threshold,0,Window,1)"
   ]
  },
  {
   "cell_type": "markdown",
   "metadata": {},
   "source": [
    "### Rana iberica (Chr03) - male"
   ]
  },
  {
   "cell_type": "code",
   "execution_count": 137,
   "metadata": {
    "collapsed": false
   },
   "outputs": [
    {
     "name": "stdout",
     "output_type": "stream",
     "text": [
      "Number of multi-alingments kept: 31\n",
      "Number of unique alingments kept: 43\n"
     ]
    }
   ],
   "source": [
    "blast_out_path = \"/home/djeffrie/Data/RADseq/Patterns_of_XY_div_analyses/Ribe_to_LMordered_rtemp_blastn_outs.xml\"\n",
    "mysex_linked_markers_path = \"/home/djeffrie/Data/RADseq/Riberica/Stacks_trimmed/IDd/R_iberica_fam_SL_markers.fa\"\n",
    "ordered_Genome_db = \"/home/djeffrie/Data/Genomes/Rtemp/Ordered_scaffs/Rtemp_ordered_male_blastn_db\"\n",
    "ordered_Genome_fasta = \"/home/djeffrie/Data/Genomes/Rtemp/Ordered_scaffs/Rtemp_ordered_by_male_map.fa\"\n",
    "Threads = 7\n",
    "best_hit_crit = 1e-5\n",
    "Eval_threshold = 1e-20\n",
    "\n",
    "blastn_cline = NcbiblastnCommandline(query=mysex_linked_markers_path, db=ordered_Genome_db, outfmt=5, out=blast_out_path, num_threads = Threads)\n",
    "stdout, stderr = blastn_cline()\n",
    "\n",
    "Ribe_to_ordered_Rtempblastouts_male =  MISC.BlastParseExtra(blast_out_path, ordered_Genome_fasta , best_hit_crit, Eval_threshold,0,Window,1)"
   ]
  },
  {
   "cell_type": "markdown",
   "metadata": {},
   "source": [
    "### Rana dalmatina (Chr05) - female\n"
   ]
  },
  {
   "cell_type": "code",
   "execution_count": 117,
   "metadata": {
    "collapsed": false
   },
   "outputs": [
    {
     "name": "stdout",
     "output_type": "stream",
     "text": [
      "Number of multi-alingments kept: 10\n",
      "Number of unique alingments kept: 21\n"
     ]
    }
   ],
   "source": [
    "blast_out_path = \"/home/djeffrie/Data/RADseq/Patterns_of_XY_div_analyses/Rdalmatina_SLM_to_ordered_Rtemp.xml\"\n",
    "mysex_linked_markers_path = \"/home/djeffrie/Data/Mapping_SL_tags_to_genomes/Sex_linked_tags/Manual_mapping/R_dalmatina/R_dalmatina.fa\"\n",
    "ordered_Genome_db = \"/home/djeffrie/Data/Genomes/Rtemp/Ordered_scaffs/Rtemp_ordered_blastn_db\"\n",
    "ordered_Genome_fasta = \"/home/djeffrie/Data/Genomes/Rtemp/Ordered_scaffs/Rtemp_ordered.fa\"\n",
    "Threads = 7\n",
    "best_hit_crit = 1e-5\n",
    "Eval_threshold = 1e-20\n",
    "\n",
    "blastn_cline = NcbiblastnCommandline(query=mysex_linked_markers_path, db=ordered_Genome_db, outfmt=5, out=blast_out_path, num_threads = Threads)\n",
    "stdout, stderr = blastn_cline()\n",
    "\n",
    "Rdal_to_ordered_Rtempblastouts =  MISC.BlastParseExtra(blast_out_path, ordered_Genome_fasta , best_hit_crit, Eval_threshold,0,Window, 1)"
   ]
  },
  {
   "cell_type": "markdown",
   "metadata": {},
   "source": [
    "### Rana dalmatina (Chr05) - male"
   ]
  },
  {
   "cell_type": "code",
   "execution_count": 138,
   "metadata": {
    "collapsed": false
   },
   "outputs": [
    {
     "name": "stdout",
     "output_type": "stream",
     "text": [
      "Number of multi-alingments kept: 10\n",
      "Number of unique alingments kept: 21\n"
     ]
    }
   ],
   "source": [
    "blast_out_path = \"/home/djeffrie/Data/RADseq/Patterns_of_XY_div_analyses/Rdalmatina_SLM_to_ordered_Rtemp.xml\"\n",
    "mysex_linked_markers_path = \"/home/djeffrie/Data/Mapping_SL_tags_to_genomes/Sex_linked_tags/Manual_mapping/R_dalmatina/R_dalmatina.fa\"\n",
    "ordered_Genome_db = \"/home/djeffrie/Data/Genomes/Rtemp/Ordered_scaffs/Rtemp_ordered_male_blastn_db\"\n",
    "ordered_Genome_fasta = \"/home/djeffrie/Data/Genomes/Rtemp/Ordered_scaffs/Rtemp_ordered_by_male_map.fa\"\n",
    "Threads = 7\n",
    "best_hit_crit = 1e-5\n",
    "Eval_threshold = 1e-20\n",
    "\n",
    "blastn_cline = NcbiblastnCommandline(query=mysex_linked_markers_path, db=ordered_Genome_db, outfmt=5, out=blast_out_path, num_threads = Threads)\n",
    "stdout, stderr = blastn_cline()\n",
    "\n",
    "Rdal_to_ordered_Rtempblastouts_male =  MISC.BlastParseExtra(blast_out_path, ordered_Genome_fasta , best_hit_crit, Eval_threshold,0,Window, 1)"
   ]
  },
  {
   "cell_type": "markdown",
   "metadata": {},
   "source": [
    "### Rana italica (Chr01) - female"
   ]
  },
  {
   "cell_type": "code",
   "execution_count": 74,
   "metadata": {
    "collapsed": false
   },
   "outputs": [
    {
     "name": "stdout",
     "output_type": "stream",
     "text": [
      "Number of multi-alingments kept: 96\n",
      "Number of unique alingments kept: 106\n"
     ]
    }
   ],
   "source": [
    "blast_out_path = \"/home/djeffrie/Data/RADseq/Patterns_of_XY_div_analyses/Rita_to_LMordered_rtemp_blastn_outs.xml\"\n",
    "mysex_linked_markers_path = \"/home/djeffrie/Data/RADseq/Ritalica3/Stacks/Putative_XYlinked_makers.fa\"\n",
    "ordered_Genome_db = \"/home/djeffrie/Data/Genomes/Rtemp/Ordered_scaffs/Rtemp_ordered_blastn_db\"\n",
    "ordered_Genome_fasta = \"/home/djeffrie/Data/Genomes/Rtemp/Ordered_scaffs/Rtemp_ordered.fa\"\n",
    "Threads = 7\n",
    "best_hit_crit = 1e-5\n",
    "Eval_threshold = 1e-20\n",
    "\n",
    "blastn_cline = NcbiblastnCommandline(query=mysex_linked_markers_path, db=ordered_Genome_db, outfmt=5, out=blast_out_path, num_threads = Threads)\n",
    "stdout, stderr = blastn_cline()\n",
    "\n",
    "Rita_to_ordered_Rtempblastouts =  MISC.BlastParseExtra(blast_out_path, ordered_Genome_fasta , best_hit_crit, Eval_threshold,0,Window, 1)"
   ]
  },
  {
   "cell_type": "markdown",
   "metadata": {},
   "source": [
    "### Rana italica (Chr01) - male"
   ]
  },
  {
   "cell_type": "code",
   "execution_count": 139,
   "metadata": {
    "collapsed": false
   },
   "outputs": [
    {
     "name": "stdout",
     "output_type": "stream",
     "text": [
      "Number of multi-alingments kept: 96\n",
      "Number of unique alingments kept: 106\n"
     ]
    }
   ],
   "source": [
    "blast_out_path = \"/home/djeffrie/Data/RADseq/Patterns_of_XY_div_analyses/Rita_to_LMordered_rtemp_blastn_outs.xml\"\n",
    "mysex_linked_markers_path = \"/home/djeffrie/Data/RADseq/Ritalica3/Stacks/Putative_XYlinked_makers.fa\"\n",
    "ordered_Genome_db = \"/home/djeffrie/Data/Genomes/Rtemp/Ordered_scaffs/Rtemp_ordered_male_blastn_db\"\n",
    "ordered_Genome_fasta = \"/home/djeffrie/Data/Genomes/Rtemp/Ordered_scaffs/Rtemp_ordered_by_male_map.fa\"\n",
    "Threads = 7\n",
    "best_hit_crit = 1e-5\n",
    "Eval_threshold = 1e-20\n",
    "\n",
    "blastn_cline = NcbiblastnCommandline(query=mysex_linked_markers_path, db=ordered_Genome_db, outfmt=5, out=blast_out_path, num_threads = Threads)\n",
    "stdout, stderr = blastn_cline()\n",
    "\n",
    "Rita_to_ordered_Rtempblastouts_male =  MISC.BlastParseExtra(blast_out_path, ordered_Genome_fasta , best_hit_crit, Eval_threshold,0,Window, 1)"
   ]
  },
  {
   "cell_type": "markdown",
   "metadata": {},
   "source": [
    "### Rana kukinoris (Chr05) - female"
   ]
  },
  {
   "cell_type": "code",
   "execution_count": 75,
   "metadata": {
    "collapsed": false
   },
   "outputs": [
    {
     "name": "stdout",
     "output_type": "stream",
     "text": [
      "Number of multi-alingments kept: 15\n",
      "Number of unique alingments kept: 33\n"
     ]
    }
   ],
   "source": [
    "blast_out_path = \"/home/djeffrie/Data/RADseq/Patterns_of_XY_div_analyses/Rkuk_to_LMordered_rtemp_blastn_outs.xml\"\n",
    "mysex_linked_markers_path = \"/home/djeffrie/Data/Mapping_SL_tags_to_genomes/Sex_linked_tags/Manual_mapping/R_kukinoris/R_kukinoris_Nanping.fa\"\n",
    "ordered_Genome_db = \"/home/djeffrie/Data/Genomes/Rtemp/Ordered_scaffs/Rtemp_ordered_blastn_db\"\n",
    "ordered_Genome_fasta = \"/home/djeffrie/Data/Genomes/Rtemp/Ordered_scaffs/Rtemp_ordered.fa\"\n",
    "Threads = 7\n",
    "best_hit_crit = 1e-5\n",
    "Eval_threshold = 1e-20\n",
    "\n",
    "blastn_cline = NcbiblastnCommandline(query=mysex_linked_markers_path, db=ordered_Genome_db, outfmt=5, out=blast_out_path, num_threads = Threads)\n",
    "stdout, stderr = blastn_cline()\n",
    "\n",
    "Rkuk_to_ordered_Rtempblastouts =  MISC.BlastParseExtra(blast_out_path, ordered_Genome_fasta , best_hit_crit, Eval_threshold,0,Window, 1)"
   ]
  },
  {
   "cell_type": "markdown",
   "metadata": {},
   "source": [
    "### Rana kukinoris (Chr05) - male"
   ]
  },
  {
   "cell_type": "code",
   "execution_count": 140,
   "metadata": {
    "collapsed": false
   },
   "outputs": [
    {
     "name": "stdout",
     "output_type": "stream",
     "text": [
      "Number of multi-alingments kept: 15\n",
      "Number of unique alingments kept: 33\n"
     ]
    }
   ],
   "source": [
    "blast_out_path = \"/home/djeffrie/Data/RADseq/Patterns_of_XY_div_analyses/Rkuk_to_LMordered_rtemp_blastn_outs.xml\"\n",
    "mysex_linked_markers_path = \"/home/djeffrie/Data/Mapping_SL_tags_to_genomes/Sex_linked_tags/Manual_mapping/R_kukinoris/R_kukinoris_Nanping.fa\"\n",
    "ordered_Genome_db = \"/home/djeffrie/Data/Genomes/Rtemp/Ordered_scaffs/Rtemp_ordered_male_blastn_db\"\n",
    "ordered_Genome_fasta = \"/home/djeffrie/Data/Genomes/Rtemp/Ordered_scaffs/Rtemp_ordered_by_male_map.fa\"\n",
    "Threads = 7\n",
    "best_hit_crit = 1e-5\n",
    "Eval_threshold = 1e-20\n",
    "\n",
    "blastn_cline = NcbiblastnCommandline(query=mysex_linked_markers_path, db=ordered_Genome_db, outfmt=5, out=blast_out_path, num_threads = Threads)\n",
    "stdout, stderr = blastn_cline()\n",
    "\n",
    "Rkuk_to_ordered_Rtempblastouts_male =  MISC.BlastParseExtra(blast_out_path, ordered_Genome_fasta , best_hit_crit, Eval_threshold,0,Window, 1)"
   ]
  },
  {
   "cell_type": "markdown",
   "metadata": {},
   "source": [
    "### Rana japonica (Chr 01) - female"
   ]
  },
  {
   "cell_type": "code",
   "execution_count": 76,
   "metadata": {
    "collapsed": false
   },
   "outputs": [
    {
     "name": "stdout",
     "output_type": "stream",
     "text": [
      "Number of multi-alingments kept: 18\n",
      "Number of unique alingments kept: 28\n"
     ]
    }
   ],
   "source": [
    "blast_out_path = \"/home/djeffrie/Data/RADseq/Patterns_of_XY_div_analyses/Rkuk_to_LMordered_rtemp_blastn_outs.xml\"\n",
    "mysex_linked_markers_path = \"/home/djeffrie/Data/Mapping_SL_tags_to_genomes/Sex_linked_tags/Manual_mapping/R_japonica/R_jap_pop_t.fa\"\n",
    "ordered_Genome_db = \"/home/djeffrie/Data/Genomes/Rtemp/Ordered_scaffs/Rtemp_ordered_blastn_db\"\n",
    "ordered_Genome_fasta = \"/home/djeffrie/Data/Genomes/Rtemp/Ordered_scaffs/Rtemp_ordered.fa\"\n",
    "\n",
    "Threads = 7\n",
    "best_hit_crit = 1e-5\n",
    "Eval_threshold = 1e-20\n",
    "Window = 1000\n",
    "\n",
    "blastn_cline = NcbiblastnCommandline(query=mysex_linked_markers_path, db=ordered_Genome_db, outfmt=5, out=blast_out_path, num_threads = Threads)\n",
    "stdout, stderr = blastn_cline()\n",
    "\n",
    "Rjap_to_ordered_Rtempblastouts =  MISC.BlastParseExtra(blast_out_path, ordered_Genome_fasta , best_hit_crit, Eval_threshold,0,Window, 1)"
   ]
  },
  {
   "cell_type": "markdown",
   "metadata": {},
   "source": [
    "### Rana japonica (Chr 01) - male"
   ]
  },
  {
   "cell_type": "code",
   "execution_count": 141,
   "metadata": {
    "collapsed": false
   },
   "outputs": [
    {
     "name": "stdout",
     "output_type": "stream",
     "text": [
      "Number of multi-alingments kept: 18\n",
      "Number of unique alingments kept: 28\n"
     ]
    }
   ],
   "source": [
    "blast_out_path = \"/home/djeffrie/Data/RADseq/Patterns_of_XY_div_analyses/Rkuk_to_LMordered_rtemp_blastn_outs.xml\"\n",
    "mysex_linked_markers_path = \"/home/djeffrie/Data/Mapping_SL_tags_to_genomes/Sex_linked_tags/Manual_mapping/R_japonica/R_jap_pop_t.fa\"\n",
    "ordered_Genome_db = \"/home/djeffrie/Data/Genomes/Rtemp/Ordered_scaffs/Rtemp_ordered_male_blastn_db\"\n",
    "ordered_Genome_fasta = \"/home/djeffrie/Data/Genomes/Rtemp/Ordered_scaffs/Rtemp_ordered_by_male_map.fa\"\n",
    "\n",
    "Threads = 7\n",
    "best_hit_crit = 1e-5\n",
    "Eval_threshold = 1e-20\n",
    "Window = 1000\n",
    "\n",
    "blastn_cline = NcbiblastnCommandline(query=mysex_linked_markers_path, db=ordered_Genome_db, outfmt=5, out=blast_out_path, num_threads = Threads)\n",
    "stdout, stderr = blastn_cline()\n",
    "\n",
    "Rjap_to_ordered_Rtempblastouts_male =  MISC.BlastParseExtra(blast_out_path, ordered_Genome_fasta , best_hit_crit, Eval_threshold,0,Window, 1)"
   ]
  },
  {
   "cell_type": "markdown",
   "metadata": {},
   "source": [
    "### Rana montezumae (Chr 01) - female"
   ]
  },
  {
   "cell_type": "code",
   "execution_count": 77,
   "metadata": {
    "collapsed": false
   },
   "outputs": [
    {
     "name": "stdout",
     "output_type": "stream",
     "text": [
      "Number of multi-alingments kept: 99\n",
      "Number of unique alingments kept: 65\n"
     ]
    }
   ],
   "source": [
    "blast_out_path = \"/home/djeffrie/Data/RADseq/Patterns_of_XY_div_analyses/Lmont_to_LMordered_rtemp_blastn_outs.xml\"\n",
    "mysex_linked_markers_path = \"/home/djeffrie/Data/Mapping_SL_tags_to_genomes/Sex_linked_tags/Manual_mapping/L_montezumae/L_mont_all_XY.fa\"\n",
    "ordered_Genome_db = \"/home/djeffrie/Data/Genomes/Rtemp/Ordered_scaffs/Rtemp_ordered_blastn_db\"\n",
    "ordered_Genome_fasta = \"/home/djeffrie/Data/Genomes/Rtemp/Ordered_scaffs/Rtemp_ordered.fa\"\n",
    "\n",
    "Threads = 7\n",
    "best_hit_crit = 1e-5\n",
    "Eval_threshold = 1e-20\n",
    "Window = 1000\n",
    "\n",
    "blastn_cline = NcbiblastnCommandline(query=mysex_linked_markers_path, db=ordered_Genome_db, outfmt=5, out=blast_out_path, num_threads = Threads)\n",
    "stdout, stderr = blastn_cline()\n",
    "\n",
    "Rmont_to_ordered_Rtempblastouts =  MISC.BlastParseExtra(blast_out_path, ordered_Genome_fasta , best_hit_crit, Eval_threshold,0,Window, 1)"
   ]
  },
  {
   "cell_type": "markdown",
   "metadata": {},
   "source": [
    "### Rana montezumae (Chr 01) - male"
   ]
  },
  {
   "cell_type": "code",
   "execution_count": 142,
   "metadata": {
    "collapsed": false
   },
   "outputs": [
    {
     "name": "stdout",
     "output_type": "stream",
     "text": [
      "Number of multi-alingments kept: 99\n",
      "Number of unique alingments kept: 65\n"
     ]
    }
   ],
   "source": [
    "blast_out_path = \"/home/djeffrie/Data/RADseq/Patterns_of_XY_div_analyses/Lmont_to_LMordered_rtemp_blastn_outs.xml\"\n",
    "mysex_linked_markers_path = \"/home/djeffrie/Data/Mapping_SL_tags_to_genomes/Sex_linked_tags/Manual_mapping/L_montezumae/L_mont_all_XY.fa\"\n",
    "ordered_Genome_db = \"/home/djeffrie/Data/Genomes/Rtemp/Ordered_scaffs/Rtemp_ordered_male_blastn_db\"\n",
    "ordered_Genome_fasta = \"/home/djeffrie/Data/Genomes/Rtemp/Ordered_scaffs/Rtemp_ordered_by_male_map.fa\"\n",
    "\n",
    "Threads = 7\n",
    "best_hit_crit = 1e-5\n",
    "Eval_threshold = 1e-20\n",
    "Window = 1000\n",
    "\n",
    "blastn_cline = NcbiblastnCommandline(query=mysex_linked_markers_path, db=ordered_Genome_db, outfmt=5, out=blast_out_path, num_threads = Threads)\n",
    "stdout, stderr = blastn_cline()\n",
    "\n",
    "Rmont_to_ordered_Rtempblastouts_male =  MISC.BlastParseExtra(blast_out_path, ordered_Genome_fasta , best_hit_crit, Eval_threshold,0,Window, 1)"
   ]
  },
  {
   "cell_type": "markdown",
   "metadata": {},
   "source": [
    "## Rana ornativentris (ZW) - female\n",
    "\n",
    "Split across 2 linkage groups - LG8 and LG10 which both map to Xenopus Chr07"
   ]
  },
  {
   "cell_type": "code",
   "execution_count": 78,
   "metadata": {
    "collapsed": false
   },
   "outputs": [
    {
     "name": "stdout",
     "output_type": "stream",
     "text": [
      "Number of multi-alingments kept: 10\n",
      "Number of unique alingments kept: 15\n"
     ]
    }
   ],
   "source": [
    "blast_out_path = \"/home/djeffrie/Data/RADseq/Patterns_of_XY_div_analyses/Rorn_to_LMordered_rtemp_blastn_outs.xml\"\n",
    "mysex_linked_markers_path = \"/home/djeffrie/Data/RADseq/Rornativentris/Stacks/Putative_ZWlinked_makers_o_pop_het_only.fa\"\n",
    "ordered_Genome_db = \"/home/djeffrie/Data/Genomes/Rtemp/Ordered_scaffs/Rtemp_ordered_blastn_db\"\n",
    "ordered_Genome_fasta = \"/home/djeffrie/Data/Genomes/Rtemp/Ordered_scaffs/Rtemp_ordered.fa\"\n",
    "\n",
    "Threads = 7\n",
    "best_hit_crit = 1e-5\n",
    "Eval_threshold = 1e-20\n",
    "Window = 1000\n",
    "\n",
    "blastn_cline = NcbiblastnCommandline(query=mysex_linked_markers_path, db=ordered_Genome_db, outfmt=5, out=blast_out_path, num_threads = Threads)\n",
    "stdout, stderr = blastn_cline()\n",
    "\n",
    "Rorn_to_ordered_Rtempblastouts =  MISC.BlastParseExtra(blast_out_path, ordered_Genome_fasta , best_hit_crit, Eval_threshold,0,Window, 1)"
   ]
  },
  {
   "cell_type": "markdown",
   "metadata": {},
   "source": [
    "## Rana ornativentris (ZW) - male"
   ]
  },
  {
   "cell_type": "code",
   "execution_count": 143,
   "metadata": {
    "collapsed": false
   },
   "outputs": [
    {
     "name": "stdout",
     "output_type": "stream",
     "text": [
      "Number of multi-alingments kept: 10\n",
      "Number of unique alingments kept: 15\n"
     ]
    }
   ],
   "source": [
    "blast_out_path = \"/home/djeffrie/Data/RADseq/Patterns_of_XY_div_analyses/Rorn_to_LMordered_rtemp_blastn_outs.xml\"\n",
    "mysex_linked_markers_path = \"/home/djeffrie/Data/RADseq/Rornativentris/Stacks/Putative_ZWlinked_makers_o_pop_het_only.fa\"\n",
    "ordered_Genome_db = \"/home/djeffrie/Data/Genomes/Rtemp/Ordered_scaffs/Rtemp_ordered_male_blastn_db\"\n",
    "ordered_Genome_fasta = \"/home/djeffrie/Data/Genomes/Rtemp/Ordered_scaffs/Rtemp_ordered_by_male_map.fa\"\n",
    "\n",
    "Threads = 7\n",
    "best_hit_crit = 1e-5\n",
    "Eval_threshold = 1e-20\n",
    "Window = 1000\n",
    "\n",
    "blastn_cline = NcbiblastnCommandline(query=mysex_linked_markers_path, db=ordered_Genome_db, outfmt=5, out=blast_out_path, num_threads = Threads)\n",
    "stdout, stderr = blastn_cline()\n",
    "\n",
    "Rorn_to_ordered_Rtempblastouts_male =  MISC.BlastParseExtra(blast_out_path, ordered_Genome_fasta , best_hit_crit, Eval_threshold,0,Window, 1)"
   ]
  },
  {
   "cell_type": "markdown",
   "metadata": {},
   "source": [
    "### Female"
   ]
  },
  {
   "cell_type": "code",
   "execution_count": 81,
   "metadata": {
    "collapsed": true
   },
   "outputs": [],
   "source": [
    "## Here we get the plotting info for a species. NOTE** this needs to be done for each species, but somehow I lost the cells in which I did this for the others\n",
    "\n",
    "## Chromosome 1\n",
    "\n",
    "positions_only_rarv = []\n",
    "for i in Rarv_to_ordered_Rtempblastouts:\n",
    "    if \"Chr01\" in Rarv_to_ordered_Rtempblastouts[i][\"Ref_hit_id\"].split(\"|\")[0]:        \n",
    "        positions_only_rarv.append([float(j.split(\"_\")[1]) for j in Rarv_to_ordered_Rtempblastouts[i][\"Ref_hit_id\"].split(\"|\") if \"POS\" in j][0])\n",
    "\n",
    "\n",
    "positions_only_Rita = []\n",
    "for i in Rita_to_ordered_Rtempblastouts:\n",
    "    if \"Chr01\" in Rita_to_ordered_Rtempblastouts[i][\"Ref_hit_id\"].split(\"|\")[0]:        \n",
    "        positions_only_Rita.append([float(j.split(\"_\")[1]) for j in Rita_to_ordered_Rtempblastouts[i][\"Ref_hit_id\"].split(\"|\") if \"POS\" in j][0])\n",
    "        \n",
    "positions_only_Rjap = []\n",
    "for i in Rjap_to_ordered_Rtempblastouts:\n",
    "    if \"Chr01\" in Rjap_to_ordered_Rtempblastouts[i][\"Ref_hit_id\"].split(\"|\")[0]:        \n",
    "        positions_only_Rjap.append([float(j.split(\"_\")[1]) for j in Rjap_to_ordered_Rtempblastouts[i][\"Ref_hit_id\"].split(\"|\") if \"POS\" in j][0])\n",
    "\n",
    "\n",
    "positions_only_Rmont = []\n",
    "for i in Rmont_to_ordered_Rtempblastouts:\n",
    "    if \"Chr01\" in Rmont_to_ordered_Rtempblastouts[i][\"Ref_hit_id\"].split(\"|\")[0]:        \n",
    "        positions_only_Rmont.append([float(j.split(\"_\")[1]) for j in Rmont_to_ordered_Rtempblastouts[i][\"Ref_hit_id\"].split(\"|\") if \"POS\" in j][0])\n",
    "\n",
    "\n",
    "positions_only_Ribe = []\n",
    "for i in Ribe_to_ordered_Rtempblastouts:\n",
    "    if \"Chr03\" in Ribe_to_ordered_Rtempblastouts[i][\"Ref_hit_id\"].split(\"|\")[0]:        \n",
    "        positions_only_Ribe.append([float(j.split(\"_\")[1]) for j in Ribe_to_ordered_Rtempblastouts[i][\"Ref_hit_id\"].split(\"|\") if \"POS\" in j][0])\n",
    "\n",
    "\n",
    "positions_only_Rdal = []\n",
    "for i in Rdal_to_ordered_Rtempblastouts:\n",
    "    if \"Chr05\" in Rdal_to_ordered_Rtempblastouts[i][\"Ref_hit_id\"].split(\"|\")[0]:        \n",
    "        positions_only_Rdal.append([float(j.split(\"_\")[1]) for j in Rdal_to_ordered_Rtempblastouts[i][\"Ref_hit_id\"].split(\"|\") if \"POS\" in j][0])\n",
    "\n",
    "\n",
    "positions_only_Rkuk = []\n",
    "for i in Rkuk_to_ordered_Rtempblastouts:\n",
    "    if \"Chr05\" in Rkuk_to_ordered_Rtempblastouts[i][\"Ref_hit_id\"].split(\"|\")[0]:        \n",
    "        positions_only_Rkuk.append([float(j.split(\"_\")[1]) for j in Rkuk_to_ordered_Rtempblastouts[i][\"Ref_hit_id\"].split(\"|\") if \"POS\" in j][0])\n",
    "\n",
    "\n",
    "positions_only_Rorn = []\n",
    "for i in Rorn_to_ordered_Rtempblastouts:\n",
    "    if \"Chr07\" in Rorn_to_ordered_Rtempblastouts[i][\"Ref_hit_id\"].split(\"|\")[0]:        \n",
    "        positions_only_Rorn.append([float(j.split(\"_\")[1]) for j in Rorn_to_ordered_Rtempblastouts[i][\"Ref_hit_id\"].split(\"|\") if \"POS\" in j][0])\n"
   ]
  },
  {
   "cell_type": "markdown",
   "metadata": {},
   "source": [
    "### Male"
   ]
  },
  {
   "cell_type": "code",
   "execution_count": 144,
   "metadata": {
    "collapsed": true
   },
   "outputs": [],
   "source": [
    "## Here we get the plotting info for a species. NOTE** this needs to be done for each species, but somehow I lost the cells in which I did this for the others\n",
    "\n",
    "## Chromosome 1\n",
    "\n",
    "positions_only_rarv_male = []\n",
    "for i in Rarv_to_ordered_Rtempblastouts_male:\n",
    "    if \"Chr01\" in Rarv_to_ordered_Rtempblastouts_male[i][\"Ref_hit_id\"].split(\"|\")[0]:        \n",
    "        positions_only_rarv_male.append([float(j.split(\"_\")[1]) for j in Rarv_to_ordered_Rtempblastouts_male[i][\"Ref_hit_id\"].split(\"|\") if \"POS\" in j][0])\n",
    "\n",
    "\n",
    "positions_only_Rita_male = []\n",
    "for i in Rita_to_ordered_Rtempblastouts_male:\n",
    "    if \"Chr01\" in Rita_to_ordered_Rtempblastouts_male[i][\"Ref_hit_id\"].split(\"|\")[0]:        \n",
    "        positions_only_Rita_male.append([float(j.split(\"_\")[1]) for j in Rita_to_ordered_Rtempblastouts_male[i][\"Ref_hit_id\"].split(\"|\") if \"POS\" in j][0])\n",
    "        \n",
    "positions_only_Rjap_male = []\n",
    "for i in Rjap_to_ordered_Rtempblastouts_male:\n",
    "    if \"Chr01\" in Rjap_to_ordered_Rtempblastouts_male[i][\"Ref_hit_id\"].split(\"|\")[0]:        \n",
    "        positions_only_Rjap_male.append([float(j.split(\"_\")[1]) for j in Rjap_to_ordered_Rtempblastouts_male[i][\"Ref_hit_id\"].split(\"|\") if \"POS\" in j][0])\n",
    "\n",
    "\n",
    "positions_only_Rmont_male = []\n",
    "for i in Rmont_to_ordered_Rtempblastouts_male:\n",
    "    if \"Chr01\" in Rmont_to_ordered_Rtempblastouts_male[i][\"Ref_hit_id\"].split(\"|\")[0]:        \n",
    "        positions_only_Rmont_male.append([float(j.split(\"_\")[1]) for j in Rmont_to_ordered_Rtempblastouts_male[i][\"Ref_hit_id\"].split(\"|\") if \"POS\" in j][0])\n",
    "\n",
    "\n",
    "positions_only_Ribe_male = []\n",
    "for i in Ribe_to_ordered_Rtempblastouts_male:\n",
    "    if \"Chr03\" in Ribe_to_ordered_Rtempblastouts_male[i][\"Ref_hit_id\"].split(\"|\")[0]:        \n",
    "        positions_only_Ribe_male.append([float(j.split(\"_\")[1]) for j in Ribe_to_ordered_Rtempblastouts_male[i][\"Ref_hit_id\"].split(\"|\") if \"POS\" in j][0])\n",
    "\n",
    "\n",
    "positions_only_Rdal_male = []\n",
    "for i in Rdal_to_ordered_Rtempblastouts_male:\n",
    "    if \"Chr05\" in Rdal_to_ordered_Rtempblastouts_male[i][\"Ref_hit_id\"].split(\"|\")[0]:        \n",
    "        positions_only_Rdal_male.append([float(j.split(\"_\")[1]) for j in Rdal_to_ordered_Rtempblastouts_male[i][\"Ref_hit_id\"].split(\"|\") if \"POS\" in j][0])\n",
    "\n",
    "\n",
    "positions_only_Rkuk_male = []\n",
    "for i in Rkuk_to_ordered_Rtempblastouts_male:\n",
    "    if \"Chr05\" in Rkuk_to_ordered_Rtempblastouts_male[i][\"Ref_hit_id\"].split(\"|\")[0]:        \n",
    "        positions_only_Rkuk_male.append([float(j.split(\"_\")[1]) for j in Rkuk_to_ordered_Rtempblastouts_male[i][\"Ref_hit_id\"].split(\"|\") if \"POS\" in j][0])\n",
    "\n",
    "\n",
    "positions_only_Rorn_male = []\n",
    "for i in Rorn_to_ordered_Rtempblastouts_male:\n",
    "    if \"Chr07\" in Rorn_to_ordered_Rtempblastouts_male[i][\"Ref_hit_id\"].split(\"|\")[0]:        \n",
    "        positions_only_Rorn_male.append([float(j.split(\"_\")[1]) for j in Rorn_to_ordered_Rtempblastouts_male[i][\"Ref_hit_id\"].split(\"|\") if \"POS\" in j][0])\n"
   ]
  },
  {
   "cell_type": "markdown",
   "metadata": {},
   "source": [
    "### Combined Plot\n",
    "\n",
    "Here we plot the distribution of the sex linked markers on their respective linkage groups. "
   ]
  },
  {
   "cell_type": "markdown",
   "metadata": {},
   "source": [
    "## Female"
   ]
  },
  {
   "cell_type": "code",
   "execution_count": 102,
   "metadata": {
    "collapsed": true
   },
   "outputs": [],
   "source": [
    "## Female\n",
    "## These are the positions in cM for each linkage group that is involved in sex determination in at least one species in this paper.\n",
    "\n",
    "Chr01_xlim = (1,228.66)\n",
    "Chr03_xlim = (1,219.34)\n",
    "Chr05_xlim = (1,190.74) # LG 4\n",
    "Chr07a_xlim = (1,95.51) # LG8\n",
    "Chr07b_xlim = (1,110.16) # LG10"
   ]
  },
  {
   "cell_type": "code",
   "execution_count": 112,
   "metadata": {
    "collapsed": false
   },
   "outputs": [
    {
     "data": {
      "image/png": "[encoded data removed]",
      "text/plain": [
       "<matplotlib.figure.Figure at 0x7fc8f9bbfed0>"
      ]
     },
     "metadata": {},
     "output_type": "display_data"
    }
   ],
   "source": [
    "fig = plt.figure(figsize=(25,14), frameon = False, edgecolor = 'none')\n",
    "\n",
    "### CHROMOSOME 1\n",
    "\n",
    "## Rarvalis\n",
    "ax = plt.subplot(811)\n",
    "ax.hist(positions_only_rarv, bins = np.arange(min(positions_only_rarv), max(positions_only_rarv) + 10, 2), histtype=\"bar\",  color= \"dodgerblue\" , edgecolor = \"black\") #[1]*len(positions_only), width=0.001)\n",
    "ax.set_xlim(Chr01_xlim)\n",
    "ax.set_ylim((0,7.5))\n",
    "ax.vlines(Chr01_xlim[1]-1, 0,3)\n",
    "ax.spines['right'].set_visible(False)\n",
    "ax.spines['top'].set_visible(False)\n",
    "ax.spines['bottom'].set_visible(True)\n",
    "ax.yaxis.set_ticks_position('left')\n",
    "plt.title(\"Rarv Chr01\")\n",
    "\n",
    "## Ritalica\n",
    "ax = plt.subplot(812)\n",
    "ax.hist(positions_only_Rita, bins = np.arange(min(positions_only_Rita), max(positions_only_Rita) + 10, 2), histtype=\"bar\",  color= \"lightgreen\", edgecolor = \"black\" ) #[1]*len(positions_only), width=0.001)\n",
    "ax.set_xlim(Chr01_xlim)\n",
    "ax.set_ylim((0,7.5))\n",
    "ax.vlines(Chr01_xlim[1]-1, 0,3)\n",
    "ax.spines['right'].set_visible(False)\n",
    "ax.spines['top'].set_visible(False)\n",
    "ax.spines['bottom'].set_visible(True)\n",
    "ax.yaxis.set_ticks_position('left')\n",
    "plt.title(\"Rita Chr01\")\n",
    "\n",
    "## Rjaponica\n",
    "ax = plt.subplot(813)\n",
    "ax.hist(positions_only_Rjap, bins = np.arange(min(positions_only_Rjap), max(positions_only_Rjap) + 10, 2), histtype=\"bar\", color= \"blue\", edgecolor = \"black\" ) #[1]*len(positions_only), width=0.001)\n",
    "ax.set_xlim(Chr01_xlim)\n",
    "ax.set_ylim((0,7.5))\n",
    "ax.vlines(Chr01_xlim[1]-1, 0,3)\n",
    "ax.spines['right'].set_visible(False)\n",
    "ax.spines['top'].set_visible(False)\n",
    "ax.spines['bottom'].set_visible(True)\n",
    "ax.yaxis.set_ticks_position('left')\n",
    "plt.title(\"Rjap Chr01\")\n",
    "\n",
    "## Rmonte\n",
    "\n",
    "ax = plt.subplot(814)\n",
    "ax.hist(positions_only_Rmont, bins = np.arange(min(positions_only_Rmont), max(positions_only_Rmont) + 10, 2), histtype=\"bar\", color= \"purple\", edgecolor = \"black\" ) #[1]*len(positions_only), width=0.001)\n",
    "ax.set_xlim(Chr01_xlim)\n",
    "ax.set_ylim((0,7.5))\n",
    "ax.vlines(Chr01_xlim[1]-1, 0,3)\n",
    "ax.spines['right'].set_visible(False)\n",
    "ax.spines['top'].set_visible(False)\n",
    "ax.spines['bottom'].set_visible(True)\n",
    "ax.yaxis.set_ticks_position('left')\n",
    "plt.title(\"Lmont Chr01\")\n",
    "\n",
    "### CHROMOSOME 3\n",
    "\n",
    "## Riberica\n",
    "ax = plt.subplot(815, )\n",
    "ax.hist(positions_only_Ribe, bins = np.arange(min(positions_only_Ribe), max(positions_only_Ribe) + 10, 2), histtype=\"bar\", color= \"green\", edgecolor = \"black\" ) #[1]*len(positions_only), width=0.001)\n",
    "ax.set_xlim(Chr01_xlim)\n",
    "ax.set_ylim((0,7.5))\n",
    "ax.vlines(Chr03_xlim[1], 0,3)\n",
    "ax.spines['right'].set_visible(False)\n",
    "ax.spines['top'].set_visible(False)\n",
    "ax.spines['bottom'].set_visible(True)\n",
    "ax.yaxis.set_ticks_position('left')\n",
    "plt.title(\"Ribe Chr03\")\n",
    "\n",
    "\n",
    "### CHROMOSOME 5\n",
    "\n",
    "## Rdalmatina\n",
    "ax = plt.subplot(816)\n",
    "ax.hist(positions_only_Rdal, bins = np.arange(min(positions_only_Rdal), max(positions_only_Rdal) + 10, 2), histtype=\"bar\",color= \"goldenrod\", edgecolor = \"black\" ) #[1]*len(positions_only), width=0.001)\n",
    "ax.set_xlim(Chr01_xlim)\n",
    "ax.set_ylim((0,7.5))\n",
    "ax.vlines(Chr05_xlim[1], 0,3)\n",
    "ax.spines['right'].set_visible(False)\n",
    "ax.spines['top'].set_visible(False)\n",
    "ax.spines['bottom'].set_visible(True)\n",
    "ax.yaxis.set_ticks_position('left')\n",
    "plt.title(\"Rdal Chr05\")\n",
    "\n",
    "## Rkukinoris\n",
    "\n",
    "ax = plt.subplot(817)\n",
    "ax.hist(positions_only_Rkuk, bins =  np.arange(min(positions_only_Rkuk), max(positions_only_Rkuk) + 10, 2), histtype=\"bar\",  color= \"red\" , edgecolor = \"black\") #[1]*len(positions_only), width=0.001)\n",
    "ax.set_xlim(Chr01_xlim)\n",
    "ax.set_ylim((0,7.5))\n",
    "ax.vlines(Chr05_xlim[1], 0,3)\n",
    "ax.spines['right'].set_visible(False)\n",
    "ax.spines['top'].set_visible(False)\n",
    "ax.spines['bottom'].set_visible(True)\n",
    "ax.yaxis.set_ticks_position('left')\n",
    "plt.title(\"Rkuk Chr05\")\n",
    "\n",
    "\n",
    "## CHROMOSOME 7\n",
    "\n",
    "ax = plt.subplot(818)\n",
    "ax.hist(positions_only_Rorn, bins =  np.arange(min(positions_only_Rorn), max(positions_only_Rorn) + 10, 2), histtype=\"bar\", color= \"red\" , edgecolor = \"black\") #[1]*len(positions_only), width=0.001)\n",
    "ax.vlines(Chr07a_xlim[1] + Chr07b_xlim[1], 0,3)\n",
    "ax.vlines(Chr07a_xlim[1], 0,3)\n",
    "ax.set_xlim(Chr01_xlim)\n",
    "ax.set_ylim((0,7.5))\n",
    "ax.spines['right'].set_visible(False)\n",
    "ax.spines['top'].set_visible(False)\n",
    "ax.spines['bottom'].set_visible(True)\n",
    "ax.yaxis.set_ticks_position('left')\n",
    "plt.title(\"Rorn_Chr07\")\n",
    "\n",
    "\n",
    "plt.savefig(\"/home/djeffrie/Data/RADseq/Patterns_of_XY_div_analyses/Combined_SL_distribution_plots.svg\")\n",
    "plt.show()"
   ]
  },
  {
   "cell_type": "markdown",
   "metadata": {},
   "source": [
    "## Male"
   ]
  },
  {
   "cell_type": "code",
   "execution_count": 146,
   "metadata": {
    "collapsed": true
   },
   "outputs": [],
   "source": [
    "## Male\n",
    "## These are the positions in cM for each linkage group that is involved in sex determination in at least one species in this paper.\n",
    "\n",
    "Chr01_xlim = (1,82.03)\n",
    "Chr03_xlim = (1,63.08)\n",
    "Chr05_xlim = (1,70.26) # LG 4\n",
    "Chr07a_xlim = (1,57.35) # LG8\n",
    "Chr07b_xlim = (1,81.57) # LG10"
   ]
  },
  {
   "cell_type": "code",
   "execution_count": 148,
   "metadata": {
    "collapsed": false
   },
   "outputs": [
    {
     "data": {
      "text/plain": [
       "[32.08,\n",
       " 32.08,\n",
       " 32.08,\n",
       " 32.08,\n",
       " 32.08,\n",
       " 32.08,\n",
       " 32.08,\n",
       " 32.08,\n",
       " 32.08,\n",
       " 32.08,\n",
       " 31.78,\n",
       " 32.08,\n",
       " 32.08,\n",
       " 32.08,\n",
       " 32.08,\n",
       " 32.08,\n",
       " 32.08,\n",
       " 32.08,\n",
       " 32.08,\n",
       " 32.08,\n",
       " 32.08,\n",
       " 32.08]"
      ]
     },
     "execution_count": 148,
     "metadata": {},
     "output_type": "execute_result"
    }
   ],
   "source": [
    "positions_only_Rkuk_male"
   ]
  },
  {
   "cell_type": "code",
   "execution_count": 170,
   "metadata": {
    "collapsed": false
   },
   "outputs": [
    {
     "data": {
      "image/png": "[encoded data removed]",
      "text/plain": [
       "<matplotlib.figure.Figure at 0x7fc8f9d3bf10>"
      ]
     },
     "metadata": {},
     "output_type": "display_data"
    }
   ],
   "source": [
    "fig = plt.figure(figsize=(25,14), frameon = False, edgecolor = 'none')\n",
    "\n",
    "### CHROMOSOME 1\n",
    "\n",
    "## Rarvalis\n",
    "ax = plt.subplot(811)\n",
    "ax.hist(positions_only_rarv_male, bins = np.arange(min(positions_only_rarv_male), max(positions_only_rarv_male) + 10, 1), histtype=\"bar\",  color= \"dodgerblue\" , edgecolor = \"black\") #[1]*len(positions_only), width=0.001)\n",
    "ax.set_xlim(Chr01_xlim)\n",
    "#ax.set_ylim((0,100))\n",
    "ax.vlines(Chr01_xlim[1]-1, 0,10)\n",
    "ax.spines['right'].set_visible(False)\n",
    "ax.spines['top'].set_visible(False)\n",
    "ax.spines['bottom'].set_visible(True)\n",
    "ax.yaxis.set_ticks_position('left')\n",
    "plt.title(\"Rarv Chr01\")\n",
    "\n",
    "## Ritalica\n",
    "ax = plt.subplot(812)\n",
    "ax.hist(positions_only_Rita_male, bins = np.arange(min(positions_only_Rita_male), max(positions_only_Rita_male) + 10, 1), histtype=\"bar\",  color= \"lightgreen\", edgecolor = \"black\" ) #[1]*len(positions_only), width=0.001)\n",
    "ax.set_xlim(Chr01_xlim)\n",
    "#ax.set_ylim((0,100))\n",
    "ax.vlines(Chr01_xlim[1]-1, 0,10)\n",
    "ax.spines['right'].set_visible(False)\n",
    "ax.spines['top'].set_visible(False)\n",
    "ax.spines['bottom'].set_visible(True)\n",
    "ax.yaxis.set_ticks_position('left')\n",
    "plt.title(\"Rita Chr01\")\n",
    "\n",
    "## Rjaponica\n",
    "ax = plt.subplot(813)\n",
    "ax.hist(positions_only_Rjap_male, bins = np.arange(min(positions_only_Rjap_male), max(positions_only_Rjap_male) + 10, 1), histtype=\"bar\", color= \"blue\", edgecolor = \"black\" ) #[1]*len(positions_only), width=0.001)\n",
    "ax.set_xlim(Chr01_xlim)\n",
    "#ax.set_ylim((0,100))\n",
    "ax.vlines(Chr01_xlim[1]-1, 0,10)\n",
    "ax.spines['right'].set_visible(False)\n",
    "ax.spines['top'].set_visible(False)\n",
    "ax.spines['bottom'].set_visible(True)\n",
    "ax.yaxis.set_ticks_position('left')\n",
    "plt.title(\"Rjap Chr01\")\n",
    "\n",
    "## Rmonte\n",
    "\n",
    "ax = plt.subplot(814)\n",
    "ax.hist(positions_only_Rmont_male, bins = np.arange(min(positions_only_Rmont_male), max(positions_only_Rmont_male) + 10, 1), histtype=\"bar\", color= \"purple\", edgecolor = \"black\" ) #[1]*len(positions_only), width=0.001)\n",
    "ax.set_xlim(Chr01_xlim)\n",
    "#ax.set_ylim((0,100))\n",
    "ax.vlines(Chr01_xlim[1]-1, 0,10)\n",
    "ax.spines['right'].set_visible(False)\n",
    "ax.spines['top'].set_visible(False)\n",
    "ax.spines['bottom'].set_visible(True)\n",
    "ax.yaxis.set_ticks_position('left')\n",
    "plt.title(\"Lmont Chr01\")\n",
    "\n",
    "### CHROMOSOME 3\n",
    "\n",
    "## Riberica\n",
    "ax = plt.subplot(815, )\n",
    "ax.hist(positions_only_Ribe_male, bins = np.arange(min(positions_only_Ribe_male), max(positions_only_Ribe_male) + 10, 1), histtype=\"bar\", color= \"green\", edgecolor = \"black\" ) #[1]*len(positions_only), width=0.001)\n",
    "ax.set_xlim(Chr01_xlim)\n",
    "#ax.set_ylim((0,100))\n",
    "ax.vlines(Chr03_xlim[1], 0,10)\n",
    "ax.spines['right'].set_visible(False)\n",
    "ax.spines['top'].set_visible(False)\n",
    "ax.spines['bottom'].set_visible(True)\n",
    "ax.yaxis.set_ticks_position('left')\n",
    "plt.title(\"Ribe Chr03\")\n",
    "\n",
    "\n",
    "### CHROMOSOME 5\n",
    "\n",
    "## Rdalmatina\n",
    "ax = plt.subplot(816)\n",
    "ax.hist(positions_only_Rdal_male, bins = np.arange(min(positions_only_Rdal_male), max(positions_only_Rdal_male) + 10, 1), histtype=\"bar\",color= \"goldenrod\", edgecolor = \"black\" ) #[1]*len(positions_only), width=0.001)\n",
    "ax.set_xlim(Chr01_xlim)\n",
    "#ax.set_ylim((0,100))\n",
    "ax.vlines(Chr05_xlim[1], 0,10)\n",
    "ax.spines['right'].set_visible(False)\n",
    "ax.spines['top'].set_visible(False)\n",
    "ax.spines['bottom'].set_visible(True)\n",
    "ax.yaxis.set_ticks_position('left')\n",
    "plt.title(\"Rdal Chr05\")\n",
    "\n",
    "## Rkukinoris\n",
    "\n",
    "ax = plt.subplot(817)\n",
    "ax.hist(positions_only_Rkuk_male, bins =  np.arange(min(positions_only_Rkuk_male), max(positions_only_Rkuk_male) + 10, 1), histtype=\"bar\",  color= \"red\" , edgecolor = \"black\") #[1]*len(positions_only), width=0.001)\n",
    "ax.set_xlim(Chr01_xlim)\n",
    "#ax.set_ylim((0,100))\n",
    "ax.vlines(Chr05_xlim[1], 0,10)\n",
    "ax.spines['right'].set_visible(False)\n",
    "ax.spines['top'].set_visible(False)\n",
    "ax.spines['bottom'].set_visible(True)\n",
    "ax.yaxis.set_ticks_position('left')\n",
    "plt.title(\"Rkuk Chr05\")\n",
    "\n",
    "\n",
    "## CHROMOSOME 7\n",
    "\n",
    "ax = plt.subplot(818)\n",
    "ax.hist(positions_only_Rorn_male, bins =  np.arange(min(positions_only_Rorn_male), max(positions_only_Rorn_male) + 10, 1), histtype=\"bar\", color= \"red\" , edgecolor = \"black\") #[1]*len(positions_only), width=0.001)\n",
    "ax.vlines(Chr07a_xlim[1] + Chr07b_xlim[1], 0,3)\n",
    "ax.vlines(Chr07a_xlim[1], 0,10)\n",
    "ax.set_xlim(Chr01_xlim)\n",
    "#ax.set_ylim((0,100))\n",
    "ax.spines['right'].set_visible(False)\n",
    "ax.spines['top'].set_visible(False)\n",
    "ax.spines['bottom'].set_visible(True)\n",
    "ax.yaxis.set_ticks_position('left')\n",
    "plt.title(\"Rorn_Chr07\")\n",
    "\n",
    "\n",
    "plt.savefig(\"/home/djeffrie/Data/RADseq/Patterns_of_XY_div_analyses/Combined_SL_distribution_plots_male.svg\")\n",
    "plt.show()"
   ]
  },
  {
   "cell_type": "markdown",
   "metadata": {},
   "source": [
    "As expected all sex linked markers are in the central non-recombining block in male chromosomes, with perhaps the exception of one or two"
   ]
  }
 ],
 "metadata": {
  "anaconda-cloud": {},
  "kernelspec": {
   "display_name": "Python [default]",
   "language": "python",
   "name": "python2"
  },
  "language_info": {
   "codemirror_mode": {
    "name": "ipython",
    "version": 2
   },
   "file_extension": ".py",
   "mimetype": "text/x-python",
   "name": "python",
   "nbconvert_exporter": "python",
   "pygments_lexer": "ipython2",
   "version": "2.7.12"
  }
 },
 "nbformat": 4,
 "nbformat_minor": 1
}
