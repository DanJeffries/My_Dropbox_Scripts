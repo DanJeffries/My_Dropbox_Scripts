{
 "cells": [
  {
   "cell_type": "markdown",
   "metadata": {},
   "source": [
    "# Converting LepMap IDs back to Stacks IDs and retreiving RADtags for linkage mapped markers"
   ]
  },
  {
   "cell_type": "markdown",
   "metadata": {},
   "source": [
    "During LepMap analyses, LepMap renumbers all the markers. So here I will write a small script to replace the lepmap marker names with the original Stacks ID. This is necessary for mapping the RADtags to the genome down the line. "
   ]
  },
  {
   "cell_type": "markdown",
   "metadata": {},
   "source": [
    "I will use the final map file and the original VCF which was used to make the LepMap3 input file. The third column contains the Stacks IDs for each marker. \n",
    "\n",
    "LepMap essentially just renames markers from this VCF file in order from 1 to N_markers. So marker 100 in the LepMap output is the 100th marker in the VCF. \n"
   ]
  },
  {
   "cell_type": "markdown",
   "metadata": {},
   "source": [
    "## Getting Stacks IDs"
   ]
  },
  {
   "cell_type": "code",
   "execution_count": 26,
   "metadata": {},
   "outputs": [],
   "source": [
    "def LepMap_2_Stacks_IDs(Map_path, VCF_path):\n",
    "\n",
    "    \"\"\"\n",
    "    This script will replace the marker IDs in the map file outputted by the LepMap3 \"OrderMarkers2\" module\n",
    "    with those from a VCF that was used to create it. The VCF must be the one used to create the LepMap2\n",
    "    inputs. This script was written based on VCFs output by Stacks 1.48.\n",
    "    \n",
    "    USAGE:\n",
    "    \n",
    "        LepMap_2_Stacks_IDs.py  /full/path/to/map_file  /full/path/to/VCF\n",
    "    \n",
    "    OUPUTS:\n",
    "    \n",
    "        Will create a new map file with a similar name with LepMap IDs replaced by Stacks IDs\n",
    "    \n",
    "    \"\"\"\n",
    "    \n",
    "    \n",
    "    ## Make VCF ID dictionary\n",
    "\n",
    "    VCF_ID_dict = {}\n",
    "\n",
    "    tag_index = 1 ## keeps track of the order of loci in the vcf. This is essentially the LepMap ID. \n",
    "\n",
    "    for line in open(VCF_path, 'r').readlines():\n",
    "        if not line.startswith(\"#\"):        \n",
    "            tag_ID = line.split()[2]\n",
    "\n",
    "            VCF_ID_dict[str(tag_index)] = tag_ID\n",
    "\n",
    "            tag_index += 1\n",
    "            \n",
    "            \n",
    "    # Make new file to write the new IDs to - will be the same name as the input, just with \"RealIDs\" in it.\n",
    "\n",
    "    new_map_file_path = \"%s_%s.%s\" % (Map_path.rpartition(\".\")[0], \"RealIDs\", Map_path.rpartition(\".\")[2])\n",
    "    New_map_file = open(new_map_file_path, 'w')\n",
    "\n",
    "    ## For each marker in the map file, rewrite the line to the new map file with the Stacks ID instead. \n",
    "    \n",
    "    for line in open(Map_path, 'r').readlines():\n",
    "\n",
    "        if line.startswith(\"#\"):\n",
    "            \n",
    "            New_map_file.write(line)\n",
    "            \n",
    "        else:\n",
    "            \n",
    "            LepMap_ID = line.split()[0]\n",
    "            Stacks_ID = VCF_ID_dict[LepMap_ID]  ## getting stacks ID here\n",
    "            rest_of_line = \"\\t\".join(line.split(\"\\t\")[1:])\n",
    "            New_map_file.write(\"%s\\t%s\" % (Stacks_ID, rest_of_line))\n",
    "            \n",
    "    New_map_file.close()\n",
    "    \n",
    "    print \"\\nDone\\nYour new map file is here: %s\\n\" % new_map_file_path"
   ]
  },
  {
   "cell_type": "code",
   "execution_count": 28,
   "metadata": {},
   "outputs": [],
   "source": [
    "my_Map_path = \"/home/djeffrie/Data/Genomes/Rtemp_hybrid/ALLMAPS_2019/SbfI/LepMap3_2019/OUTPUTS/map_23.8_js_23_ordered_infmask_23.txt\"\n",
    "my_VCF_path = \"/home/djeffrie/Data/Genomes/Rtemp_hybrid/ALLMAPS_2019/SbfI/LepMap3_2019/INPUTS/batch_1.vcf\""
   ]
  },
  {
   "cell_type": "code",
   "execution_count": 29,
   "metadata": {},
   "outputs": [],
   "source": [
    "LepMap_2_Stacks_IDs(my_Map_path,my_VCF_path)"
   ]
  }
 ],
 "metadata": {
  "kernelspec": {
   "display_name": "Python 2",
   "language": "python",
   "name": "python2"
  },
  "language_info": {
   "codemirror_mode": {
    "name": "ipython",
    "version": 2
   },
   "file_extension": ".py",
   "mimetype": "text/x-python",
   "name": "python",
   "nbconvert_exporter": "python",
   "pygments_lexer": "ipython2",
   "version": "2.7.14"
  }
 },
 "nbformat": 4,
 "nbformat_minor": 2
}
