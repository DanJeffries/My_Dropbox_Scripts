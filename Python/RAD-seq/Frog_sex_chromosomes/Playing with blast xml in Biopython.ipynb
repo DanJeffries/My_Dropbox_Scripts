{
 "cells": [
  {
   "cell_type": "code",
   "execution_count": 1,
   "metadata": {
    "collapsed": true
   },
   "outputs": [],
   "source": [
    "from Bio.Blast import NCBIXML"
   ]
  },
  {
   "cell_type": "code",
   "execution_count": 20,
   "metadata": {
    "collapsed": false
   },
   "outputs": [
    {
     "name": "stdout",
     "output_type": "stream",
     "text": [
      "Help on class Blast in module Bio.Blast.Record:\n",
      "\n",
      "class Blast(Header, DatabaseReport, Parameters)\n",
      " |  Saves the results from a blast search.\n",
      " |  \n",
      " |  Members:\n",
      " |  descriptions        A list of Description objects.\n",
      " |  alignments          A list of Alignment objects.\n",
      " |  multiple_alignment  A MultipleAlignment object.\n",
      " |  + members inherited from base classes\n",
      " |  \n",
      " |  Method resolution order:\n",
      " |      Blast\n",
      " |      Header\n",
      " |      DatabaseReport\n",
      " |      Parameters\n",
      " |      __builtin__.object\n",
      " |  \n",
      " |  Methods defined here:\n",
      " |  \n",
      " |  __init__(self)\n",
      " |  \n",
      " |  ----------------------------------------------------------------------\n",
      " |  Data descriptors inherited from Header:\n",
      " |  \n",
      " |  __dict__\n",
      " |      dictionary for instance variables (if defined)\n",
      " |  \n",
      " |  __weakref__\n",
      " |      list of weak references to the object (if defined)\n",
      "\n"
     ]
    }
   ],
   "source": [
    "help(NCBIXML.Record.Blast)"
   ]
  },
  {
   "cell_type": "code",
   "execution_count": 66,
   "metadata": {
    "collapsed": false
   },
   "outputs": [
    {
     "name": "stdout",
     "output_type": "stream",
     "text": [
      "Help on class HSP in module Bio.Blast.Record:\n",
      "\n",
      "class HSP(__builtin__.object)\n",
      " |  Stores information about one hsp in an alignment hit.\n",
      " |  \n",
      " |  Members:\n",
      " |      - score           BLAST score of hit.  (float)\n",
      " |      - bits            Number of bits for that score.  (float)\n",
      " |      - expect          Expect value.  (float)\n",
      " |      - num_alignments  Number of alignments for same subject.  (int)\n",
      " |      - identities      Number of identities (int) if using the XML parser.\n",
      " |        Tuple of numer of identities/total aligned (int, int)\n",
      " |        if using the (obsolete) plain text parser.\n",
      " |      - positives       Number of positives (int) if using the XML parser.\n",
      " |        Tuple of numer of positives/total aligned (int, int)\n",
      " |        if using the (obsolete) plain text parser.\n",
      " |      - gaps            Number of gaps (int) if using the XML parser.\n",
      " |        Tuple of numer of gaps/total aligned (int, int) if\n",
      " |        using the (obsolete) plain text parser.\n",
      " |      - align_length    Length of the alignment. (int)\n",
      " |      - strand          Tuple of (query, target) strand.\n",
      " |      - frame           Tuple of 1 or 2 frame shifts, depending on the flavor.\n",
      " |  \n",
      " |      - query           The query sequence.\n",
      " |      - query_start     The start residue for the query sequence.  (1-based)\n",
      " |      - query_end       The end residue for the query sequence.  (1-based)\n",
      " |      - match           The match sequence.\n",
      " |      - sbjct           The sbjct sequence.\n",
      " |      - sbjct_start     The start residue for the sbjct sequence.  (1-based)\n",
      " |      - sbjct_end       The end residue for the sbjct sequence.  (1-based)\n",
      " |  \n",
      " |  Not all flavors of BLAST return values for every attribute::\n",
      " |  \n",
      " |                score     expect     identities   positives    strand  frame\n",
      " |      BLASTP     X          X            X            X\n",
      " |      BLASTN     X          X            X            X          X\n",
      " |      BLASTX     X          X            X            X                  X\n",
      " |      TBLASTN    X          X            X            X                  X\n",
      " |      TBLASTX    X          X            X            X                 X/X\n",
      " |  \n",
      " |  Note: for BLASTX, the query sequence is shown as a protein sequence,\n",
      " |  but the numbering is based on the nucleotides.  Thus, the numbering\n",
      " |  is 3x larger than the number of amino acid residues.  A similar effect\n",
      " |  can be seen for the sbjct sequence in TBLASTN, and for both sequences\n",
      " |  in TBLASTX.\n",
      " |  \n",
      " |  Also, for negative frames, the sequence numbering starts from\n",
      " |  query_start and counts down.\n",
      " |  \n",
      " |  Methods defined here:\n",
      " |  \n",
      " |  __init__(self)\n",
      " |  \n",
      " |  __str__(self)\n",
      " |  \n",
      " |  ----------------------------------------------------------------------\n",
      " |  Data descriptors defined here:\n",
      " |  \n",
      " |  __dict__\n",
      " |      dictionary for instance variables (if defined)\n",
      " |  \n",
      " |  __weakref__\n",
      " |      list of weak references to the object (if defined)\n",
      "\n"
     ]
    }
   ],
   "source": [
    "help(NCBIXML.Record.HSP)"
   ]
  },
  {
   "cell_type": "markdown",
   "metadata": {},
   "source": [
    "### Each record in the iterator is a query sequence\n",
    "### Description objects contain the info on a hit\n",
    "    Has contains the title of the hit, the bit score, the e vlalue and the number of alignments\n",
    "### "
   ]
  },
  {
   "cell_type": "code",
   "execution_count": 24,
   "metadata": {
    "collapsed": true
   },
   "outputs": [],
   "source": []
  },
  {
   "cell_type": "code",
   "execution_count": 68,
   "metadata": {
    "collapsed": false,
    "scrolled": true
   },
   "outputs": [
    {
     "ename": "AttributeError",
     "evalue": "'Blast' object has no attribute 'hsp'",
     "output_type": "error",
     "traceback": [
      "\u001b[1;31m---------------------------------------------------------------------------\u001b[0m",
      "\u001b[1;31mAttributeError\u001b[0m                            Traceback (most recent call last)",
      "\u001b[1;32m<ipython-input-68-60a4f4764ffb>\u001b[0m in \u001b[0;36m<module>\u001b[1;34m()\u001b[0m\n\u001b[0;32m      6\u001b[0m     \u001b[0mquery_name\u001b[0m \u001b[1;33m=\u001b[0m \u001b[0mrecord\u001b[0m\u001b[1;33m.\u001b[0m\u001b[0mquery\u001b[0m\u001b[1;33m\u001b[0m\u001b[0m\n\u001b[0;32m      7\u001b[0m     \u001b[0mN_hits\u001b[0m \u001b[1;33m=\u001b[0m \u001b[0mlen\u001b[0m\u001b[1;33m(\u001b[0m\u001b[0mrecord\u001b[0m\u001b[1;33m.\u001b[0m\u001b[0malignments\u001b[0m\u001b[1;33m)\u001b[0m\u001b[1;33m\u001b[0m\u001b[0m\n\u001b[1;32m----> 8\u001b[1;33m     \u001b[0mhsp\u001b[0m \u001b[1;33m=\u001b[0m \u001b[0mrecord\u001b[0m\u001b[1;33m.\u001b[0m\u001b[0mhsp\u001b[0m\u001b[1;33m\u001b[0m\u001b[0m\n\u001b[0m\u001b[0;32m      9\u001b[0m \u001b[1;33m\u001b[0m\u001b[0m\n\u001b[0;32m     10\u001b[0m     \u001b[1;32mprint\u001b[0m \u001b[0mhsp\u001b[0m\u001b[1;33m\u001b[0m\u001b[0m\n",
      "\u001b[1;31mAttributeError\u001b[0m: 'Blast' object has no attribute 'hsp'"
     ]
    }
   ],
   "source": [
    "rtempys = open(\"/home/djeffrie/Data/Pperezi/Stacks_outs/Y_linked_blastouts.xml\", 'r')\n",
    "blastit = NCBIXML.parse(rtempys)\n",
    "\n",
    "\n",
    "for record in blastit: ## each record is a query sequence\n",
    "    query_name = record.query\n",
    "    N_hits = len(record.alignments)\n",
    "    hsp = record.hsp\n",
    "    \n",
    "    print hsp"
   ]
  },
  {
   "cell_type": "code",
   "execution_count": 120,
   "metadata": {
    "collapsed": false
   },
   "outputs": [
    {
     "name": "stdout",
     "output_type": "stream",
     "text": [
      "\n",
      "---------------------------------------\n",
      "Number of alignments for query 'Y_linked|LocusID_34899|N_females_0|N_males_10' = 165\n",
      "\n",
      "gnl|BL_ORD_ID|96349 scaffold96350.1|size25886\n",
      "Identity: 51 percent\n",
      "\n",
      "Score 42 (78 bits), expectation 8.7e-13, alignment length 55\n",
      "Query:       1 TGCAGGTGCAGCAGCTGGTTGATAATTATGATACCACTTCCCTTT...CTC 54\n",
      "               ||||||||||||||||||||||||||||||| |||| ||||||||...|||\n",
      "Sbjct:   10510 TGCAGGTGCAGCAGCTGGTTGATAATTATGAAACCA-TTCCCTTT...CTC 10457\n",
      "\n",
      "---------------------------------------\n",
      "Number of alignments for query 'Y_linked|LocusID_117744|N_females_0|N_males_11' = 442\n",
      "\n",
      "gnl|BL_ORD_ID|76092 scaffold76093.1|size23063\n",
      "Identity: 59 percent\n",
      "\n",
      "Score 38 (71 bits), expectation 1.5e-10, alignment length 68\n",
      "Query:       4 AGGAGAGGTGCAAGGGCCACATGAAATGGT--GGCCGGCGG-CCT...CTA 66\n",
      "               ||||||||||||||||||||||||||||||  ||  ||||| |||...|||\n",
      "Sbjct:   23473 AGGAGAGGTGCAAGGGCCACATGAAATGGTCTGGAGGGCGGGCCT...CTA 23539\n",
      "[u'gnl|BL_ORD_ID|96349 scaffold96350.1|size25886', u'gnl|BL_ORD_ID|76092 scaffold76093.1|size23063']\n"
     ]
    }
   ],
   "source": [
    "rtempys = open(\"/home/djeffrie/Data/Pperezi/Stacks_outs/Y_linked_blastouts.xml\", 'r')\n",
    "blastit = NCBIXML.parse(rtempys)\n",
    "\n",
    "best_hsps = []\n",
    "\n",
    "for record in blastit: ## each record is a query sequence\n",
    "    query_name = record.query\n",
    "    N_hits = len(record.alignments)\n",
    "    \n",
    "    oldEval = 10 ## reset eval for each record\n",
    "    \n",
    "    \n",
    "    \n",
    "    if not N_hits == 0: ## None is a string here, not a None object.\n",
    "        print \"\\n---------------------------------------\\nNumber of alignments for query '%s' = %s\\n\" % (query_name, N_hits)\n",
    "        \n",
    "        \n",
    "        ## Get the evalue for each alignment. \n",
    "        for aln in record.alignments:\n",
    "            title = aln.title                              \n",
    "            \n",
    "            for hsp in aln.hsps:\n",
    "                newEval = hsp.expect\n",
    "                \n",
    "                if newEval <= oldEval:\n",
    "                    best_hsps.append(title)\n",
    "                    print title\n",
    "                    print \"Identity: %s percent\\n\" % (hsp.identities)\n",
    "                    print hsp\n",
    "                    oldEval = newEval\n",
    "\n",
    "print best_hsps\n"
   ]
  },
  {
   "cell_type": "code",
   "execution_count": null,
   "metadata": {
    "collapsed": true
   },
   "outputs": [],
   "source": []
  }
 ],
 "metadata": {
  "kernelspec": {
   "display_name": "Python 2",
   "language": "python",
   "name": "python2"
  },
  "language_info": {
   "codemirror_mode": {
    "name": "ipython",
    "version": 2
   },
   "file_extension": ".py",
   "mimetype": "text/x-python",
   "name": "python",
   "nbconvert_exporter": "python",
   "pygments_lexer": "ipython2",
   "version": "2.7.10"
  }
 },
 "nbformat": 4,
 "nbformat_minor": 0
}
