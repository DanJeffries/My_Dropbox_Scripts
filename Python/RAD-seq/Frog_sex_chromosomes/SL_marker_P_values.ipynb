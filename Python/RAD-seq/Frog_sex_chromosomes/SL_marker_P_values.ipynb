{
 "cells": [
  {
   "cell_type": "markdown",
   "metadata": {},
   "source": [
    "### Here I want to try to calculate a P-value for the identification of the sex linked markers identified with the three methods described in (Brelsford & Lavanchy et al 2016).\n",
    "\n",
    "\n",
    "The logic is as follows:\n",
    "\n",
    "I want to know how likely I am to find a given number of sex linked markers in a dataset by chance. As many of our datasets aren't ideal false positives and noise are always present to a certain extent. Furthermore, the presence of multiple Y haplotypes means that there is often natural variation the sex linkage of a given locus, even in the same population. \n",
    "\n",
    "So I propose here a randomisation approach. The first step is to identify sex linked markers using the correct male and female assignments. The next step is then to randomise the male and female assignments accross samples 1000 times (this will probably take a while). I will then have a distribution of the number of sex linked markers found in each randomised test. I can use this to compare to the number of SL markers found when using the correct sex assignments and identify the 95% CI, above which there is 0.05 probability of finding that number of SL markers by chance. "
   ]
  },
  {
   "cell_type": "markdown",
   "metadata": {},
   "source": [
    "#### First step:\n",
    "\n",
    "Create 1000 random sex assignment combinations going to do this by writing to file, 1 so I record combinations, and 2 so i don't have to change my functions! \n"
   ]
  },
  {
   "cell_type": "code",
   "execution_count": 1,
   "metadata": {
    "collapsed": false
   },
   "outputs": [],
   "source": [
    "from __future__ import division\n",
    "import os\n",
    "from random import shuffle\n",
    "import MISC_RAD_tools as MISC\n",
    "import time"
   ]
  },
  {
   "cell_type": "code",
   "execution_count": 6,
   "metadata": {
    "collapsed": false
   },
   "outputs": [],
   "source": [
    "orig_popmap_path = \"/home/djeffrie/Data/RADseq/Rarvalis_NEW/Stacks/Haplogroup_1_randomisations/Sex_ID_info_Y_haplogroup_1.txt\"\n",
    "orig_popmap = open(orig_popmap_path, 'r').readlines()\n",
    "p_val_dir = orig_popmap_path.rpartition(\"/\")[0] ## working in dir with orig popmap in. So remember to set up a new directory!\n",
    "\n",
    "sexes = []\n",
    "samples = []\n",
    "IDs = []\n",
    "randomisations = []\n",
    "\n",
    "for line in orig_popmap:\n",
    "    sexes.append(line.strip().split()[1])\n",
    "    samples.append(line.strip().split()[0])\n",
    "    IDs.append(line.strip().split()[2])\n",
    "\n",
    "\n",
    "for i in range(100):\n",
    "    rand_popmap = open(\"%s/rand_popmap_%s.txt\" % (p_val_dir, i), 'w')\n",
    "    shuffle(sexes)\n",
    "    randomisations.append(sexes)\n",
    "    for i in range(len(samples)):\n",
    "        rand_popmap.write(\"%s\\t%s\\t%s\\n\" % (samples[i], sexes[i], IDs[i]))\n",
    "    \n",
    "    rand_popmap.close()"
   ]
  },
  {
   "cell_type": "markdown",
   "metadata": {},
   "source": [
    "Heres the parameter dictionary for the analyses. \n",
    "\n",
    "#### NOTE: The randomisations MUST be run with the same parameters as the real analyses"
   ]
  },
  {
   "cell_type": "code",
   "execution_count": 12,
   "metadata": {
    "collapsed": false
   },
   "outputs": [
    {
     "name": "stdout",
     "output_type": "stream",
     "text": [
      "Sex_ID_info_Y_haplogroup_1\n"
     ]
    }
   ],
   "source": [
    "print \"/home/djeffrie/Data/RADseq/Rarvalis_NEW//Stacks/Sex_ID_info_Y_haplogroup_1.txt\".rpartition(\"/\")[2].rpartition(\".\")[0]"
   ]
  },
  {
   "cell_type": "code",
   "execution_count": 3,
   "metadata": {
    "collapsed": true
   },
   "outputs": [],
   "source": [
    "Parameter_dict = {}\n",
    "\n",
    "##### Data ########################\n",
    "\n",
    "Parameter_dict['Catalog'] =  \"/home/djeffrie/Data/RADseq/Rarvalis_NEW/Stacks/batch_1.catalog.tags.tsv.gz\" ## Path to the catalog file - used by all approaches.\n",
    "Parameter_dict['VCF'] =  \"/home/djeffrie/Data/RADseq/Rarvalis_NEW/Stacks/Populations_Y_haplogroup_1/batch_1.vcf\" ## path to vcf file (note this will be altered to make header compatible with Pyvcf. New vcf will have same name with \".altered\" appended to the end). Used by Approach i) and ii)\n",
    "Parameter_dict['Pop_map'] = \"/home/djeffrie/Data/RADseq/Rarvalis_NEW//Stacks/Sex_ID_info_Y_haplogroup_1.txt\" ## path to population map file containing sex information. Same format as Stacks pop map file. Used by all approaches.\n",
    "\n",
    "###### threshold parameters #######\n",
    "\n",
    "# 1. Frequency approach\n",
    "Parameter_dict['X_or_Z_freq_threshold'] = 0.4  ## (Default = 0.4) The lower threshold for the freq caluclation to find sex linked snps, e.g. for an XY system, a threshold of 0.4 means that f(F) - f(M) can be >= 0.4 and <= 0.6 (the upper threshold is automatically calculated to be the same distance above 0.5 as the lower threshold is below 0.5) \n",
    "Parameter_dict['sample_presence_cutoff1'] = 0.75 ## (Default = 0.75) a locus must be called in at least this proportion of all samples (not within populations) to be considered\n",
    "Parameter_dict['coverage_threshold1'] = 3 ## (Default = 3) a locus must have at least this threshold in a sample to be considered for that sample. Note that loci below this threshold will be removed from a sample, and this can push the locus below the sample presence cut-off, which will then remove the locus.\n",
    "Parameter_dict['maf_threshold1'] =  0.05 ## (Default = 0.05) minor allele frequency cutoff for a locus across all samples. \n",
    "Parameter_dict['homogametic_REF_allele_freq'] = 0.9 ## (Default = 0.95) The sex linked SNP will be the minor allele, so a check is done to make sure that the homogametic sex is above the threshold specified for the major allele. In theory this should be 1. But allowing for some error 0.95 is used as a default. \n",
    "\n",
    "# 2. Heterozygosity approach\n",
    "Parameter_dict['homogamtic_homozygosity_threshold'] = 0.9 ## (Default = 0.9) The minimum number of the homogametic sex which must not have the tag for that tag to be considered linked to the sex-limited chromosome\n",
    "Parameter_dict['heterogamtic_heterozygosity_threshold'] = 0.6 ## (Default = 0.5) The lower threshold for the proportion of heterozygotes in the heterogametic sex at a locus \n",
    "Parameter_dict['sample_presence_cutoff2'] = 0.75 ## (Default = 0.75) a locus must be called in at least this proportion of all samples (not within populations) to be considered\n",
    "Parameter_dict['coverage_threshold2'] = 3 ## (Default = 3) a locus must have at least this threshold in a sample to be considered for that sample. Note that loci bels this threshold will be removed from a sample, and this can push the locus below the sample presence cut-off, which will then remove the locus.\n",
    "Parameter_dict['maf_threshold2'] = 0.05 ## (Default = 0.05) minor allele frequency cutoff for a locus across all samples. \n",
    "\n",
    "# 3. Sex specific presence or absence approach\n",
    "Parameter_dict['sex_presence_threshold'] =  0.5 ## (Default = 0.5) The minimum percenatage of the heterogametic sex that a tag must be present in.\n"
   ]
  },
  {
   "cell_type": "code",
   "execution_count": 9,
   "metadata": {
    "collapsed": true
   },
   "outputs": [
    {
     "name": "stdout",
     "output_type": "stream",
     "text": [
      "rand_popmap_375.txt started:  11:13:43\n",
      "\n",
      "##### Using SNP heterozygosity approach #####\n",
      " \n",
      "Number of loci = 58288\n",
      "Number of samples = 40\n",
      "Number of loci with too few samples = 0\n",
      "Number of loci with low MAF = 0\n",
      "Number of loci with enough data = 58287\n",
      "Number of putative X linked snps = 1\n",
      "Number of putative X linked tags = 1\n",
      "Number of putative Z linked markers = 2\n",
      "Number of putative Z linked tags = 2\n",
      "\n",
      " ### DONE! ### \n",
      "\n",
      "Sex linked tags outputted to fastas 'Putative_XYlinked_makers.fa' and Putative_ZWlinked_makers.fa\n",
      "in the directory /home/djeffrie/Data/RADseq/Rarvalis_NEW/Stacks\n",
      "\n",
      " ## After merging tags accross methods ## \n",
      "\n",
      "Final number of XY tags = 1\n",
      "Final number of ZW tags = 2\n",
      "rand_popmap_375.txt finished:  11:15:06\n",
      "rand_popmap_107.txt started:  11:15:06\n",
      "\n",
      "##### Using SNP heterozygosity approach #####\n",
      " \n",
      "Number of loci = 58288\n",
      "Number of samples = 40\n",
      "Number of loci with too few samples = 0\n",
      "Number of loci with low MAF = 0\n",
      "Number of loci with enough data = 58287\n",
      "Number of putative X linked snps = 1\n",
      "Number of putative X linked tags = 1\n",
      "Number of putative Z linked markers = 2\n",
      "Number of putative Z linked tags = 2\n",
      "\n",
      " ### DONE! ### \n",
      "\n",
      "Sex linked tags outputted to fastas 'Putative_XYlinked_makers.fa' and Putative_ZWlinked_makers.fa\n",
      "in the directory /home/djeffrie/Data/RADseq/Rarvalis_NEW/Stacks\n",
      "\n",
      " ## After merging tags accross methods ## \n",
      "\n",
      "Final number of XY tags = 1\n",
      "Final number of ZW tags = 2\n",
      "rand_popmap_107.txt finished:  11:16:30\n",
      "rand_popmap_837.txt started:  11:16:30\n",
      "\n",
      "##### Using SNP heterozygosity approach #####\n",
      " \n",
      "Number of loci = 58288\n",
      "Number of samples = 40\n",
      "Number of loci with too few samples = 0\n",
      "Number of loci with low MAF = 0\n",
      "Number of loci with enough data = 58287\n",
      "Number of putative X linked snps = 1\n",
      "Number of putative X linked tags = 1\n",
      "Number of putative Z linked markers = 3\n",
      "Number of putative Z linked tags = 3\n",
      "\n",
      " ### DONE! ### \n",
      "\n",
      "Sex linked tags outputted to fastas 'Putative_XYlinked_makers.fa' and Putative_ZWlinked_makers.fa\n",
      "in the directory /home/djeffrie/Data/RADseq/Rarvalis_NEW/Stacks\n",
      "\n",
      " ## After merging tags accross methods ## \n",
      "\n",
      "Final number of XY tags = 1\n",
      "Final number of ZW tags = 3\n",
      "rand_popmap_837.txt finished:  11:17:53\n",
      "rand_popmap_133.txt started:  11:17:53\n",
      "\n",
      "##### Using SNP heterozygosity approach #####\n",
      " \n",
      "Number of loci = 58288\n",
      "Number of samples = 40\n",
      "Number of loci with too few samples = 0\n",
      "Number of loci with low MAF = 0\n",
      "Number of loci with enough data = 58287\n",
      "Number of putative X linked snps = 1\n",
      "Number of putative X linked tags = 1\n",
      "Number of putative Z linked markers = 3\n",
      "Number of putative Z linked tags = 3\n",
      "\n",
      " ### DONE! ### \n",
      "\n",
      "Sex linked tags outputted to fastas 'Putative_XYlinked_makers.fa' and Putative_ZWlinked_makers.fa\n",
      "in the directory /home/djeffrie/Data/RADseq/Rarvalis_NEW/Stacks\n",
      "\n",
      " ## After merging tags accross methods ## \n",
      "\n",
      "Final number of XY tags = 1\n",
      "Final number of ZW tags = 3\n",
      "rand_popmap_133.txt finished:  11:19:15\n",
      "rand_popmap_543.txt started:  11:19:15\n",
      "\n",
      "##### Using SNP heterozygosity approach #####\n",
      " \n",
      "Number of loci = 58288\n",
      "Number of samples = 40\n",
      "Number of loci with too few samples = 0\n",
      "Number of loci with low MAF = 0\n",
      "Number of loci with enough data = 58287\n",
      "Number of putative X linked snps = 1\n",
      "Number of putative X linked tags = 1\n",
      "Number of putative Z linked markers = 3\n",
      "Number of putative Z linked tags = 3\n",
      "\n",
      " ### DONE! ### \n",
      "\n",
      "Sex linked tags outputted to fastas 'Putative_XYlinked_makers.fa' and Putative_ZWlinked_makers.fa\n",
      "in the directory /home/djeffrie/Data/RADseq/Rarvalis_NEW/Stacks\n",
      "\n",
      " ## After merging tags accross methods ## \n",
      "\n",
      "Final number of XY tags = 1\n",
      "Final number of ZW tags = 3\n",
      "rand_popmap_543.txt finished:  11:20:39\n",
      "rand_popmap_257.txt started:  11:20:39\n",
      "\n",
      "##### Using SNP heterozygosity approach #####\n",
      " \n",
      "Number of loci = 58288\n",
      "Number of samples = 40\n",
      "Number of loci with too few samples = 0\n",
      "Number of loci with low MAF = 0\n",
      "Number of loci with enough data = 58287\n",
      "Number of putative X linked snps = 0\n",
      "Number of putative X linked tags = 0\n",
      "Number of putative Z linked markers = 2\n",
      "Number of putative Z linked tags = 2\n",
      "\n",
      " ### DONE! ### \n",
      "\n",
      "Sex linked tags outputted to fastas 'Putative_XYlinked_makers.fa' and Putative_ZWlinked_makers.fa\n",
      "in the directory /home/djeffrie/Data/RADseq/Rarvalis_NEW/Stacks\n",
      "\n",
      " ## After merging tags accross methods ## \n",
      "\n",
      "Final number of XY tags = 0\n",
      "Final number of ZW tags = 2\n",
      "rand_popmap_257.txt finished:  11:22:02\n",
      "rand_popmap_196.txt started:  11:22:02\n",
      "\n",
      "##### Using SNP heterozygosity approach #####\n",
      " \n",
      "Number of loci = 58288\n",
      "Number of samples = 40\n",
      "Number of loci with too few samples = 0\n",
      "Number of loci with low MAF = 0\n",
      "Number of loci with enough data = 58287\n",
      "Number of putative X linked snps = 2\n",
      "Number of putative X linked tags = 2\n",
      "Number of putative Z linked markers = 4\n",
      "Number of putative Z linked tags = 4\n",
      "\n",
      " ### DONE! ### \n",
      "\n",
      "Sex linked tags outputted to fastas 'Putative_XYlinked_makers.fa' and Putative_ZWlinked_makers.fa\n",
      "in the directory /home/djeffrie/Data/RADseq/Rarvalis_NEW/Stacks\n",
      "\n",
      " ## After merging tags accross methods ## \n",
      "\n",
      "Final number of XY tags = 2\n",
      "Final number of ZW tags = 4\n",
      "rand_popmap_196.txt finished:  11:23:26\n",
      "rand_popmap_473.txt started:  11:23:26\n",
      "\n",
      "##### Using SNP heterozygosity approach #####\n",
      " \n",
      "Number of loci = 58288\n",
      "Number of samples = 40\n",
      "Number of loci with too few samples = 0\n",
      "Number of loci with low MAF = 0\n",
      "Number of loci with enough data = 58287\n",
      "Number of putative X linked snps = 0\n",
      "Number of putative X linked tags = 0\n",
      "Number of putative Z linked markers = 0\n",
      "Number of putative Z linked tags = 0\n",
      "\n",
      " ### DONE! ### \n",
      "\n",
      "Sex linked tags outputted to fastas 'Putative_XYlinked_makers.fa' and Putative_ZWlinked_makers.fa\n",
      "in the directory /home/djeffrie/Data/RADseq/Rarvalis_NEW/Stacks\n",
      "\n",
      " ## After merging tags accross methods ## \n",
      "\n",
      "Final number of XY tags = 0\n",
      "Final number of ZW tags = 0\n",
      "rand_popmap_473.txt finished:  11:24:49\n",
      "rand_popmap_598.txt started:  11:24:49\n",
      "\n",
      "##### Using SNP heterozygosity approach #####\n",
      " \n",
      "Number of loci = 58288\n",
      "Number of samples = 40\n",
      "Number of loci with too few samples = 0\n",
      "Number of loci with low MAF = 0\n",
      "Number of loci with enough data = 58287\n",
      "Number of putative X linked snps = 3\n",
      "Number of putative X linked tags = 3\n",
      "Number of putative Z linked markers = 2\n",
      "Number of putative Z linked tags = 2\n",
      "\n",
      " ### DONE! ### \n",
      "\n",
      "Sex linked tags outputted to fastas 'Putative_XYlinked_makers.fa' and Putative_ZWlinked_makers.fa\n",
      "in the directory /home/djeffrie/Data/RADseq/Rarvalis_NEW/Stacks\n",
      "\n",
      " ## After merging tags accross methods ## \n",
      "\n",
      "Final number of XY tags = 3\n",
      "Final number of ZW tags = 2\n",
      "rand_popmap_598.txt finished:  11:26:13\n",
      "rand_popmap_168.txt started:  11:26:13\n",
      "\n",
      "##### Using SNP heterozygosity approach #####\n",
      " \n",
      "Number of loci = 58288\n",
      "Number of samples = 40\n",
      "Number of loci with too few samples = 0\n",
      "Number of loci with low MAF = 0\n",
      "Number of loci with enough data = 58287\n",
      "Number of putative X linked snps = 2\n",
      "Number of putative X linked tags = 2\n",
      "Number of putative Z linked markers = 4\n",
      "Number of putative Z linked tags = 4\n",
      "\n",
      " ### DONE! ### \n",
      "\n",
      "Sex linked tags outputted to fastas 'Putative_XYlinked_makers.fa' and Putative_ZWlinked_makers.fa\n",
      "in the directory /home/djeffrie/Data/RADseq/Rarvalis_NEW/Stacks\n",
      "\n",
      " ## After merging tags accross methods ## \n",
      "\n",
      "Final number of XY tags = 2\n",
      "Final number of ZW tags = 4\n",
      "rand_popmap_168.txt finished:  11:27:35\n"
     ]
    }
   ],
   "source": [
    "XY_numbs = []\n",
    "ZW_numbs = []\n",
    "\n",
    "for root,dirs,files in os.walk(\"/home/djeffrie/Data/RADseq/Rarvalis_NEW/Stacks/Haplogroup_1_randomisations/\"):\n",
    "    for fil in files[:10]: ## remove slice after tests\n",
    "        if fil.startswith(\"rand\"):\n",
    "            Parameter_dict['Pop_map'] = \"%s/%s\" % (root, fil)\n",
    "        print fil, \"started: \", time.strftime(\"%H:%M:%S\")\n",
    "        \n",
    "        XYset, ZWset = MISC.Super_SLM_finder(Parameter_dict, \"010\")\n",
    "        ### So add in here the SL_marker_finder function and capture the number of SL markers identified. \n",
    "        \n",
    "        XY_numbs.append(len(XYset))\n",
    "        ZW_numbs.append(len(ZWset))\n",
    "        \n",
    "    print fil, \"finished: \", time.strftime(\"%H:%M:%S\")\n",
    "        "
   ]
  },
  {
   "cell_type": "code",
   "execution_count": 4,
   "metadata": {
    "collapsed": true
   },
   "outputs": [
    {
     "name": "stdout",
     "output_type": "stream",
     "text": [
      "rand_popmap_375.txt started:  13:04:18\n",
      "Final number of XY tags = 0\n",
      "Final number of ZW tags = 0\n",
      "rand_popmap_107.txt started:  13:06:33\n",
      "Final number of XY tags = 0\n",
      "Final number of ZW tags = 0\n",
      "rand_popmap_837.txt started:  13:08:46\n",
      "Final number of XY tags = 0\n",
      "Final number of ZW tags = 2\n",
      "rand_popmap_133.txt started:  13:10:59\n"
     ]
    },
    {
     "ename": "KeyboardInterrupt",
     "evalue": "",
     "output_type": "error",
     "traceback": [
      "\u001b[1;31m---------------------------------------------------------------------------\u001b[0m",
      "\u001b[1;31mKeyboardInterrupt\u001b[0m                         Traceback (most recent call last)",
      "\u001b[1;32m<ipython-input-4-fbf1a0b87891>\u001b[0m in \u001b[0;36m<module>\u001b[1;34m()\u001b[0m\n\u001b[0;32m     10\u001b[0m         \u001b[1;32mprint\u001b[0m \u001b[0mfil\u001b[0m\u001b[1;33m,\u001b[0m \u001b[1;34m\"started: \"\u001b[0m\u001b[1;33m,\u001b[0m \u001b[0mtime\u001b[0m\u001b[1;33m.\u001b[0m\u001b[0mstrftime\u001b[0m\u001b[1;33m(\u001b[0m\u001b[1;34m\"%H:%M:%S\"\u001b[0m\u001b[1;33m)\u001b[0m\u001b[1;33m\u001b[0m\u001b[0m\n\u001b[0;32m     11\u001b[0m \u001b[1;33m\u001b[0m\u001b[0m\n\u001b[1;32m---> 12\u001b[1;33m         \u001b[0mXYset\u001b[0m\u001b[1;33m,\u001b[0m \u001b[0mZWset\u001b[0m \u001b[1;33m=\u001b[0m \u001b[0mSLMF_L\u001b[0m\u001b[1;33m.\u001b[0m\u001b[0mSuper_SLM_finder\u001b[0m\u001b[1;33m(\u001b[0m\u001b[0mParameter_dict\u001b[0m\u001b[1;33m,\u001b[0m \u001b[1;34m\"111\"\u001b[0m\u001b[1;33m,\u001b[0m \u001b[0mverbose\u001b[0m \u001b[1;33m=\u001b[0m \u001b[0mFalse\u001b[0m\u001b[1;33m,\u001b[0m \u001b[0mwrite_files\u001b[0m\u001b[1;33m=\u001b[0m\u001b[0mFalse\u001b[0m\u001b[1;33m,\u001b[0m \u001b[0mplot\u001b[0m\u001b[1;33m=\u001b[0m\u001b[0mFalse\u001b[0m\u001b[1;33m)\u001b[0m\u001b[1;33m\u001b[0m\u001b[0m\n\u001b[0m\u001b[0;32m     13\u001b[0m         \u001b[1;31m### So add in here the SL_marker_finder function and capture the number of SL markers identified.\u001b[0m\u001b[1;33m\u001b[0m\u001b[1;33m\u001b[0m\u001b[0m\n\u001b[0;32m     14\u001b[0m \u001b[1;33m\u001b[0m\u001b[0m\n",
      "\u001b[1;32m/home/djeffrie/Dropbox/My_Dropbox_Scripts/Python/My_Modules/SLMF_lightweight.py\u001b[0m in \u001b[0;36mSuper_SLM_finder\u001b[1;34m(Parameter_dict, execute_seq, write_files, verbose, plot)\u001b[0m\n\u001b[0;32m    951\u001b[0m                                                  \u001b[0mParameter_dict\u001b[0m\u001b[1;33m[\u001b[0m\u001b[1;34m'homogametic_REF_allele_freq'\u001b[0m\u001b[1;33m]\u001b[0m\u001b[1;33m,\u001b[0m\u001b[0;31m\\\u001b[0m\u001b[1;33m\u001b[0m\u001b[0m\n\u001b[0;32m    952\u001b[0m                                                  \u001b[0mverbose\u001b[0m \u001b[1;33m=\u001b[0m \u001b[0mverbose\u001b[0m\u001b[1;33m,\u001b[0m\u001b[0;31m\\\u001b[0m\u001b[1;33m\u001b[0m\u001b[0m\n\u001b[1;32m--> 953\u001b[1;33m \t\t\t\t\t\t plot = plot)\n\u001b[0m\u001b[0;32m    954\u001b[0m \u001b[1;33m\u001b[0m\u001b[0m\n\u001b[0;32m    955\u001b[0m     \u001b[1;31m## Heterozygosity approach ## ---------------------------------------------------------\u001b[0m\u001b[1;33m\u001b[0m\u001b[1;33m\u001b[0m\u001b[0m\n",
      "\u001b[1;32m/home/djeffrie/Dropbox/My_Dropbox_Scripts/Python/My_Modules/SLMF_lightweight.py\u001b[0m in \u001b[0;36mSL_snp_freq\u001b[1;34m(myvcfpath, popmappath, catalog_tags_file, X_or_Z_freq_threshold, sample_presence_cutoff, coverage_threshold, maf_threshold, homgam_REF_freq, verbose, plot)\u001b[0m\n\u001b[0;32m    141\u001b[0m \u001b[1;33m\u001b[0m\u001b[0m\n\u001b[0;32m    142\u001b[0m \u001b[1;33m\u001b[0m\u001b[0m\n\u001b[1;32m--> 143\u001b[1;33m     \u001b[1;32mfor\u001b[0m \u001b[0mrecord\u001b[0m \u001b[1;32min\u001b[0m \u001b[0mvcf_reader\u001b[0m\u001b[1;33m:\u001b[0m\u001b[1;33m\u001b[0m\u001b[0m\n\u001b[0m\u001b[0;32m    144\u001b[0m         \u001b[0mlocus_counter\u001b[0m \u001b[1;33m+=\u001b[0m \u001b[1;36m1\u001b[0m\u001b[1;33m\u001b[0m\u001b[0m\n\u001b[0;32m    145\u001b[0m     \u001b[1;32mif\u001b[0m \u001b[0mverbose\u001b[0m \u001b[1;33m==\u001b[0m \u001b[0mTrue\u001b[0m\u001b[1;33m:\u001b[0m\u001b[1;33m\u001b[0m\u001b[0m\n",
      "\u001b[1;32m/usr/local/lib/python2.7/dist-packages/vcf/parser.pyc\u001b[0m in \u001b[0;36mnext\u001b[1;34m(self)\u001b[0m\n\u001b[0;32m    565\u001b[0m \u001b[1;33m\u001b[0m\u001b[0m\n\u001b[0;32m    566\u001b[0m         \u001b[1;32mif\u001b[0m \u001b[0mfmt\u001b[0m \u001b[1;32mis\u001b[0m \u001b[1;32mnot\u001b[0m \u001b[0mNone\u001b[0m\u001b[1;33m:\u001b[0m\u001b[1;33m\u001b[0m\u001b[0m\n\u001b[1;32m--> 567\u001b[1;33m             \u001b[0msamples\u001b[0m \u001b[1;33m=\u001b[0m \u001b[0mself\u001b[0m\u001b[1;33m.\u001b[0m\u001b[0m_parse_samples\u001b[0m\u001b[1;33m(\u001b[0m\u001b[0mrow\u001b[0m\u001b[1;33m[\u001b[0m\u001b[1;36m9\u001b[0m\u001b[1;33m:\u001b[0m\u001b[1;33m]\u001b[0m\u001b[1;33m,\u001b[0m \u001b[0mfmt\u001b[0m\u001b[1;33m,\u001b[0m \u001b[0mrecord\u001b[0m\u001b[1;33m)\u001b[0m\u001b[1;33m\u001b[0m\u001b[0m\n\u001b[0m\u001b[0;32m    568\u001b[0m             \u001b[0mrecord\u001b[0m\u001b[1;33m.\u001b[0m\u001b[0msamples\u001b[0m \u001b[1;33m=\u001b[0m \u001b[0msamples\u001b[0m\u001b[1;33m\u001b[0m\u001b[0m\n\u001b[0;32m    569\u001b[0m \u001b[1;33m\u001b[0m\u001b[0m\n",
      "\u001b[1;32m/usr/local/lib/python2.7/dist-packages/vcf/parser.pyc\u001b[0m in \u001b[0;36m_parse_samples\u001b[1;34m(self, samples, samp_fmt, site)\u001b[0m\n\u001b[0;32m    484\u001b[0m                         \u001b[0msampdat\u001b[0m\u001b[1;33m[\u001b[0m\u001b[0mi\u001b[0m\u001b[1;33m]\u001b[0m \u001b[1;33m=\u001b[0m \u001b[0m_map\u001b[0m\u001b[1;33m(\u001b[0m\u001b[0mfloat\u001b[0m\u001b[1;33m,\u001b[0m \u001b[0mvals\u001b[0m\u001b[1;33m)\u001b[0m\u001b[1;33m\u001b[0m\u001b[0m\n\u001b[0;32m    485\u001b[0m                 \u001b[1;32melif\u001b[0m \u001b[0mentry_type\u001b[0m \u001b[1;33m==\u001b[0m \u001b[1;34m'Float'\u001b[0m \u001b[1;32mor\u001b[0m \u001b[0mentry_type\u001b[0m \u001b[1;33m==\u001b[0m \u001b[1;34m'Numeric'\u001b[0m\u001b[1;33m:\u001b[0m\u001b[1;33m\u001b[0m\u001b[0m\n\u001b[1;32m--> 486\u001b[1;33m                     \u001b[0msampdat\u001b[0m\u001b[1;33m[\u001b[0m\u001b[0mi\u001b[0m\u001b[1;33m]\u001b[0m \u001b[1;33m=\u001b[0m \u001b[0m_map\u001b[0m\u001b[1;33m(\u001b[0m\u001b[0mfloat\u001b[0m\u001b[1;33m,\u001b[0m \u001b[0mvals\u001b[0m\u001b[1;33m)\u001b[0m\u001b[1;33m\u001b[0m\u001b[0m\n\u001b[0m\u001b[0;32m    487\u001b[0m                 \u001b[1;32melse\u001b[0m\u001b[1;33m:\u001b[0m\u001b[1;33m\u001b[0m\u001b[0m\n\u001b[0;32m    488\u001b[0m                     \u001b[0msampdat\u001b[0m\u001b[1;33m[\u001b[0m\u001b[0mi\u001b[0m\u001b[1;33m]\u001b[0m \u001b[1;33m=\u001b[0m \u001b[0mvals\u001b[0m\u001b[1;33m\u001b[0m\u001b[0m\n",
      "\u001b[1;32m/usr/local/lib/python2.7/dist-packages/vcf/parser.pyc\u001b[0m in \u001b[0;36m_map\u001b[1;34m(self, func, iterable, bad)\u001b[0m\n\u001b[0;32m    345\u001b[0m         \u001b[1;34m'''``map``, but make bad values None.'''\u001b[0m\u001b[1;33m\u001b[0m\u001b[0m\n\u001b[0;32m    346\u001b[0m         return [func(x) if x != bad else None\n\u001b[1;32m--> 347\u001b[1;33m                 for x in iterable]\n\u001b[0m\u001b[0;32m    348\u001b[0m \u001b[1;33m\u001b[0m\u001b[0m\n\u001b[0;32m    349\u001b[0m     \u001b[1;32mdef\u001b[0m \u001b[0m_parse_info\u001b[0m\u001b[1;33m(\u001b[0m\u001b[0mself\u001b[0m\u001b[1;33m,\u001b[0m \u001b[0minfo_str\u001b[0m\u001b[1;33m)\u001b[0m\u001b[1;33m:\u001b[0m\u001b[1;33m\u001b[0m\u001b[0m\n",
      "\u001b[1;31mKeyboardInterrupt\u001b[0m: "
     ]
    }
   ],
   "source": [
    "import SLMF_lightweight as SLMF_L\n",
    "\n",
    "XY_numbs = []\n",
    "ZW_numbs = []\n",
    "\n",
    "for root,dirs,files in os.walk(\"/home/djeffrie/Data/RADseq/Rarvalis_NEW/Stacks/Haplogroup_1_randomisations/\"):\n",
    "    for fil in files[:10]: ## remove slice after tests\n",
    "        if fil.startswith(\"rand\"):\n",
    "            Parameter_dict['Pop_map'] = \"%s/%s\" % (root, fil)\n",
    "        print fil, \"started: \", time.strftime(\"%H:%M:%S\")\n",
    "        \n",
    "        XYset, ZWset = SLMF_L.Super_SLM_finder(Parameter_dict, \"111\", verbose = False, write_files=False, plot=False)\n",
    "        ### So add in here the SL_marker_finder function and capture the number of SL markers identified. \n",
    "        \n",
    "        XY_numbs.append(len(XYset))\n",
    "        ZW_numbs.append(len(ZWset))\n",
    "        \n",
    "    print fil, \"finished: \", time.strftime(\"%H:%M:%S\")\n",
    "        "
   ]
  },
  {
   "cell_type": "markdown",
   "metadata": {},
   "source": [
    "### Try to parrallelise this"
   ]
  },
  {
   "cell_type": "code",
   "execution_count": 10,
   "metadata": {
    "collapsed": false
   },
   "outputs": [],
   "source": [
    "from joblib import Parallel, delayed\n",
    "import multiprocessing\n",
    "import shutil\n",
    "import SLMF_lightweight as SLMF_L"
   ]
  },
  {
   "cell_type": "code",
   "execution_count": 7,
   "metadata": {
    "collapsed": false
   },
   "outputs": [],
   "source": [
    "popmaps = []\n",
    "\n",
    "for root,dirs,files in os.walk(\"/home/djeffrie/Data/RADseq/Rarvalis_NEW/Stacks/Haplogroup_1_randomisations/\"):\n",
    "    for fil in files[:100]: ## remove slice after tests\n",
    "        if fil.startswith(\"rand\"):\n",
    "            popmaps.append(\"%s/%s\" % (root, fil))\n",
    "\n",
    "orig_vcf = \"/home/djeffrie/Data/RADseq/Rarvalis_NEW/Stacks/Haplogroup_1_randomisations/batch_1.vcf\"\n",
    "for i in popmaps:\n",
    "    new_vcf = \"%s.vcf\" % i.rpartition(\".\")[0]\n",
    "    shutil.copyfile(orig_vcf, new_vcf)"
   ]
  },
  {
   "cell_type": "code",
   "execution_count": 12,
   "metadata": {
    "collapsed": false
   },
   "outputs": [],
   "source": [
    "def Super_SLM_finder_parallel(popmap):\n",
    "    import os\n",
    "    \n",
    "    Parameter_dict['Pop_map'] = popmap\n",
    "    Parameter_dict['VCF'] = \"%s.vcf\" % popmap.rpartition(\".\")[0]\n",
    "    results_dict = {}\n",
    "    results_dict[\"XYset\"], results_dict[\"ZWset\"], results_dict[\"Detailed\"] = SLMF_L.Super_SLM_finder(Parameter_dict, \"100\", verbose = False, write_files=False, plot=False)\n",
    "    \n",
    "    os.remove(Parameter_dict['VCF']) ## remove VCFs as they are used\n",
    "    \n",
    "    return results_dict\n",
    "    \n",
    "    "
   ]
  },
  {
   "cell_type": "code",
   "execution_count": 15,
   "metadata": {
    "collapsed": true
   },
   "outputs": [
    {
     "data": {
      "text/plain": [
       "['/home/djeffrie/Data/RADseq/Rarvalis_NEW/Stacks/Haplogroup_1_randomisations//rand_popmap_375.txt',\n",
       " '/home/djeffrie/Data/RADseq/Rarvalis_NEW/Stacks/Haplogroup_1_randomisations//rand_popmap_107.txt',\n",
       " '/home/djeffrie/Data/RADseq/Rarvalis_NEW/Stacks/Haplogroup_1_randomisations//rand_popmap_837.txt',\n",
       " '/home/djeffrie/Data/RADseq/Rarvalis_NEW/Stacks/Haplogroup_1_randomisations//rand_popmap_133.txt',\n",
       " '/home/djeffrie/Data/RADseq/Rarvalis_NEW/Stacks/Haplogroup_1_randomisations//rand_popmap_543.txt',\n",
       " '/home/djeffrie/Data/RADseq/Rarvalis_NEW/Stacks/Haplogroup_1_randomisations//rand_popmap_257.txt',\n",
       " '/home/djeffrie/Data/RADseq/Rarvalis_NEW/Stacks/Haplogroup_1_randomisations//rand_popmap_196.txt',\n",
       " '/home/djeffrie/Data/RADseq/Rarvalis_NEW/Stacks/Haplogroup_1_randomisations//rand_popmap_473.txt',\n",
       " '/home/djeffrie/Data/RADseq/Rarvalis_NEW/Stacks/Haplogroup_1_randomisations//rand_popmap_598.txt',\n",
       " '/home/djeffrie/Data/RADseq/Rarvalis_NEW/Stacks/Haplogroup_1_randomisations//rand_popmap_168.txt',\n",
       " '/home/djeffrie/Data/RADseq/Rarvalis_NEW/Stacks/Haplogroup_1_randomisations//rand_popmap_415.txt',\n",
       " '/home/djeffrie/Data/RADseq/Rarvalis_NEW/Stacks/Haplogroup_1_randomisations//rand_popmap_645.txt',\n",
       " '/home/djeffrie/Data/RADseq/Rarvalis_NEW/Stacks/Haplogroup_1_randomisations//rand_popmap_917.txt',\n",
       " '/home/djeffrie/Data/RADseq/Rarvalis_NEW/Stacks/Haplogroup_1_randomisations//rand_popmap_260.txt',\n",
       " '/home/djeffrie/Data/RADseq/Rarvalis_NEW/Stacks/Haplogroup_1_randomisations//rand_popmap_654.txt',\n",
       " '/home/djeffrie/Data/RADseq/Rarvalis_NEW/Stacks/Haplogroup_1_randomisations//rand_popmap_200.txt',\n",
       " '/home/djeffrie/Data/RADseq/Rarvalis_NEW/Stacks/Haplogroup_1_randomisations//rand_popmap_465.txt',\n",
       " '/home/djeffrie/Data/RADseq/Rarvalis_NEW/Stacks/Haplogroup_1_randomisations//rand_popmap_463.txt',\n",
       " '/home/djeffrie/Data/RADseq/Rarvalis_NEW/Stacks/Haplogroup_1_randomisations//rand_popmap_427.txt',\n",
       " '/home/djeffrie/Data/RADseq/Rarvalis_NEW/Stacks/Haplogroup_1_randomisations//rand_popmap_528.txt',\n",
       " '/home/djeffrie/Data/RADseq/Rarvalis_NEW/Stacks/Haplogroup_1_randomisations//rand_popmap_487.txt',\n",
       " '/home/djeffrie/Data/RADseq/Rarvalis_NEW/Stacks/Haplogroup_1_randomisations//rand_popmap_135.txt',\n",
       " '/home/djeffrie/Data/RADseq/Rarvalis_NEW/Stacks/Haplogroup_1_randomisations//rand_popmap_333.txt',\n",
       " '/home/djeffrie/Data/RADseq/Rarvalis_NEW/Stacks/Haplogroup_1_randomisations//rand_popmap_184.txt',\n",
       " '/home/djeffrie/Data/RADseq/Rarvalis_NEW/Stacks/Haplogroup_1_randomisations//rand_popmap_824.txt',\n",
       " '/home/djeffrie/Data/RADseq/Rarvalis_NEW/Stacks/Haplogroup_1_randomisations//rand_popmap_733.txt',\n",
       " '/home/djeffrie/Data/RADseq/Rarvalis_NEW/Stacks/Haplogroup_1_randomisations//rand_popmap_302.txt',\n",
       " '/home/djeffrie/Data/RADseq/Rarvalis_NEW/Stacks/Haplogroup_1_randomisations//rand_popmap_312.txt',\n",
       " '/home/djeffrie/Data/RADseq/Rarvalis_NEW/Stacks/Haplogroup_1_randomisations//rand_popmap_986.txt',\n",
       " '/home/djeffrie/Data/RADseq/Rarvalis_NEW/Stacks/Haplogroup_1_randomisations//rand_popmap_530.txt',\n",
       " '/home/djeffrie/Data/RADseq/Rarvalis_NEW/Stacks/Haplogroup_1_randomisations//rand_popmap_330.txt',\n",
       " '/home/djeffrie/Data/RADseq/Rarvalis_NEW/Stacks/Haplogroup_1_randomisations//rand_popmap_194.txt',\n",
       " '/home/djeffrie/Data/RADseq/Rarvalis_NEW/Stacks/Haplogroup_1_randomisations//rand_popmap_122.txt',\n",
       " '/home/djeffrie/Data/RADseq/Rarvalis_NEW/Stacks/Haplogroup_1_randomisations//rand_popmap_128.txt',\n",
       " '/home/djeffrie/Data/RADseq/Rarvalis_NEW/Stacks/Haplogroup_1_randomisations//rand_popmap_713.txt',\n",
       " '/home/djeffrie/Data/RADseq/Rarvalis_NEW/Stacks/Haplogroup_1_randomisations//rand_popmap_582.txt',\n",
       " '/home/djeffrie/Data/RADseq/Rarvalis_NEW/Stacks/Haplogroup_1_randomisations//rand_popmap_644.txt',\n",
       " '/home/djeffrie/Data/RADseq/Rarvalis_NEW/Stacks/Haplogroup_1_randomisations//rand_popmap_815.txt',\n",
       " '/home/djeffrie/Data/RADseq/Rarvalis_NEW/Stacks/Haplogroup_1_randomisations//rand_popmap_181.txt',\n",
       " '/home/djeffrie/Data/RADseq/Rarvalis_NEW/Stacks/Haplogroup_1_randomisations//rand_popmap_348.txt',\n",
       " '/home/djeffrie/Data/RADseq/Rarvalis_NEW/Stacks/Haplogroup_1_randomisations//rand_popmap_421.txt',\n",
       " '/home/djeffrie/Data/RADseq/Rarvalis_NEW/Stacks/Haplogroup_1_randomisations//rand_popmap_702.txt',\n",
       " '/home/djeffrie/Data/RADseq/Rarvalis_NEW/Stacks/Haplogroup_1_randomisations//rand_popmap_563.txt',\n",
       " '/home/djeffrie/Data/RADseq/Rarvalis_NEW/Stacks/Haplogroup_1_randomisations//rand_popmap_964.txt',\n",
       " '/home/djeffrie/Data/RADseq/Rarvalis_NEW/Stacks/Haplogroup_1_randomisations//rand_popmap_903.txt',\n",
       " '/home/djeffrie/Data/RADseq/Rarvalis_NEW/Stacks/Haplogroup_1_randomisations//rand_popmap_838.txt',\n",
       " '/home/djeffrie/Data/RADseq/Rarvalis_NEW/Stacks/Haplogroup_1_randomisations//rand_popmap_716.txt',\n",
       " '/home/djeffrie/Data/RADseq/Rarvalis_NEW/Stacks/Haplogroup_1_randomisations//rand_popmap_788.txt',\n",
       " '/home/djeffrie/Data/RADseq/Rarvalis_NEW/Stacks/Haplogroup_1_randomisations//rand_popmap_914.txt',\n",
       " '/home/djeffrie/Data/RADseq/Rarvalis_NEW/Stacks/Haplogroup_1_randomisations//rand_popmap_863.txt',\n",
       " '/home/djeffrie/Data/RADseq/Rarvalis_NEW/Stacks/Haplogroup_1_randomisations//rand_popmap_534.txt',\n",
       " '/home/djeffrie/Data/RADseq/Rarvalis_NEW/Stacks/Haplogroup_1_randomisations//rand_popmap_273.txt',\n",
       " '/home/djeffrie/Data/RADseq/Rarvalis_NEW/Stacks/Haplogroup_1_randomisations//rand_popmap_657.txt',\n",
       " '/home/djeffrie/Data/RADseq/Rarvalis_NEW/Stacks/Haplogroup_1_randomisations//rand_popmap_649.txt',\n",
       " '/home/djeffrie/Data/RADseq/Rarvalis_NEW/Stacks/Haplogroup_1_randomisations//rand_popmap_328.txt',\n",
       " '/home/djeffrie/Data/RADseq/Rarvalis_NEW/Stacks/Haplogroup_1_randomisations//rand_popmap_495.txt',\n",
       " '/home/djeffrie/Data/RADseq/Rarvalis_NEW/Stacks/Haplogroup_1_randomisations//rand_popmap_882.txt',\n",
       " '/home/djeffrie/Data/RADseq/Rarvalis_NEW/Stacks/Haplogroup_1_randomisations//rand_popmap_564.txt',\n",
       " '/home/djeffrie/Data/RADseq/Rarvalis_NEW/Stacks/Haplogroup_1_randomisations//rand_popmap_352.txt',\n",
       " '/home/djeffrie/Data/RADseq/Rarvalis_NEW/Stacks/Haplogroup_1_randomisations//rand_popmap_885.txt',\n",
       " '/home/djeffrie/Data/RADseq/Rarvalis_NEW/Stacks/Haplogroup_1_randomisations//rand_popmap_865.txt',\n",
       " '/home/djeffrie/Data/RADseq/Rarvalis_NEW/Stacks/Haplogroup_1_randomisations//rand_popmap_359.txt',\n",
       " '/home/djeffrie/Data/RADseq/Rarvalis_NEW/Stacks/Haplogroup_1_randomisations//rand_popmap_864.txt',\n",
       " '/home/djeffrie/Data/RADseq/Rarvalis_NEW/Stacks/Haplogroup_1_randomisations//rand_popmap_126.txt',\n",
       " '/home/djeffrie/Data/RADseq/Rarvalis_NEW/Stacks/Haplogroup_1_randomisations//rand_popmap_199.txt',\n",
       " '/home/djeffrie/Data/RADseq/Rarvalis_NEW/Stacks/Haplogroup_1_randomisations//rand_popmap_890.txt',\n",
       " '/home/djeffrie/Data/RADseq/Rarvalis_NEW/Stacks/Haplogroup_1_randomisations//rand_popmap_577.txt',\n",
       " '/home/djeffrie/Data/RADseq/Rarvalis_NEW/Stacks/Haplogroup_1_randomisations//rand_popmap_246.txt',\n",
       " '/home/djeffrie/Data/RADseq/Rarvalis_NEW/Stacks/Haplogroup_1_randomisations//rand_popmap_83.txt',\n",
       " '/home/djeffrie/Data/RADseq/Rarvalis_NEW/Stacks/Haplogroup_1_randomisations//rand_popmap_378.txt',\n",
       " '/home/djeffrie/Data/RADseq/Rarvalis_NEW/Stacks/Haplogroup_1_randomisations//rand_popmap_992.txt',\n",
       " '/home/djeffrie/Data/RADseq/Rarvalis_NEW/Stacks/Haplogroup_1_randomisations//rand_popmap_25.txt',\n",
       " '/home/djeffrie/Data/RADseq/Rarvalis_NEW/Stacks/Haplogroup_1_randomisations//rand_popmap_493.txt',\n",
       " '/home/djeffrie/Data/RADseq/Rarvalis_NEW/Stacks/Haplogroup_1_randomisations//rand_popmap_585.txt',\n",
       " '/home/djeffrie/Data/RADseq/Rarvalis_NEW/Stacks/Haplogroup_1_randomisations//rand_popmap_99.txt',\n",
       " '/home/djeffrie/Data/RADseq/Rarvalis_NEW/Stacks/Haplogroup_1_randomisations//rand_popmap_109.txt',\n",
       " '/home/djeffrie/Data/RADseq/Rarvalis_NEW/Stacks/Haplogroup_1_randomisations//rand_popmap_26.txt',\n",
       " '/home/djeffrie/Data/RADseq/Rarvalis_NEW/Stacks/Haplogroup_1_randomisations//rand_popmap_794.txt',\n",
       " '/home/djeffrie/Data/RADseq/Rarvalis_NEW/Stacks/Haplogroup_1_randomisations//rand_popmap_672.txt',\n",
       " '/home/djeffrie/Data/RADseq/Rarvalis_NEW/Stacks/Haplogroup_1_randomisations//rand_popmap_324.txt',\n",
       " '/home/djeffrie/Data/RADseq/Rarvalis_NEW/Stacks/Haplogroup_1_randomisations//rand_popmap_334.txt',\n",
       " '/home/djeffrie/Data/RADseq/Rarvalis_NEW/Stacks/Haplogroup_1_randomisations//rand_popmap_441.txt',\n",
       " '/home/djeffrie/Data/RADseq/Rarvalis_NEW/Stacks/Haplogroup_1_randomisations//rand_popmap_881.txt',\n",
       " '/home/djeffrie/Data/RADseq/Rarvalis_NEW/Stacks/Haplogroup_1_randomisations//rand_popmap_114.txt',\n",
       " '/home/djeffrie/Data/RADseq/Rarvalis_NEW/Stacks/Haplogroup_1_randomisations//rand_popmap_622.txt',\n",
       " '/home/djeffrie/Data/RADseq/Rarvalis_NEW/Stacks/Haplogroup_1_randomisations//rand_popmap_954.txt',\n",
       " '/home/djeffrie/Data/RADseq/Rarvalis_NEW/Stacks/Haplogroup_1_randomisations//rand_popmap_344.txt',\n",
       " '/home/djeffrie/Data/RADseq/Rarvalis_NEW/Stacks/Haplogroup_1_randomisations//rand_popmap_854.txt',\n",
       " '/home/djeffrie/Data/RADseq/Rarvalis_NEW/Stacks/Haplogroup_1_randomisations//rand_popmap_288.txt',\n",
       " '/home/djeffrie/Data/RADseq/Rarvalis_NEW/Stacks/Haplogroup_1_randomisations//rand_popmap_780.txt',\n",
       " '/home/djeffrie/Data/RADseq/Rarvalis_NEW/Stacks/Haplogroup_1_randomisations//rand_popmap_711.txt',\n",
       " '/home/djeffrie/Data/RADseq/Rarvalis_NEW/Stacks/Haplogroup_1_randomisations//rand_popmap_464.txt',\n",
       " '/home/djeffrie/Data/RADseq/Rarvalis_NEW/Stacks/Haplogroup_1_randomisations//rand_popmap_295.txt',\n",
       " '/home/djeffrie/Data/RADseq/Rarvalis_NEW/Stacks/Haplogroup_1_randomisations//rand_popmap_410.txt',\n",
       " '/home/djeffrie/Data/RADseq/Rarvalis_NEW/Stacks/Haplogroup_1_randomisations//rand_popmap_876.txt',\n",
       " '/home/djeffrie/Data/RADseq/Rarvalis_NEW/Stacks/Haplogroup_1_randomisations//rand_popmap_292.txt',\n",
       " '/home/djeffrie/Data/RADseq/Rarvalis_NEW/Stacks/Haplogroup_1_randomisations//rand_popmap_516.txt',\n",
       " '/home/djeffrie/Data/RADseq/Rarvalis_NEW/Stacks/Haplogroup_1_randomisations//rand_popmap_732.txt',\n",
       " '/home/djeffrie/Data/RADseq/Rarvalis_NEW/Stacks/Haplogroup_1_randomisations//rand_popmap_261.txt',\n",
       " '/home/djeffrie/Data/RADseq/Rarvalis_NEW/Stacks/Haplogroup_1_randomisations//rand_popmap_800.txt']"
      ]
     },
     "execution_count": 15,
     "metadata": {},
     "output_type": "execute_result"
    }
   ],
   "source": [
    "popmaps"
   ]
  },
  {
   "cell_type": "code",
   "execution_count": 13,
   "metadata": {
    "collapsed": false,
    "scrolled": true
   },
   "outputs": [
    {
     "name": "stderr",
     "output_type": "stream",
     "text": [
      "[Parallel(n_jobs=4)]: Done   3 out of   8 | elapsed:  1.6min remaining:  2.7min\n",
      "[Parallel(n_jobs=4)]: Done   5 out of   8 | elapsed:  3.3min remaining:  2.0min\n",
      "[Parallel(n_jobs=4)]: Done   8 out of   8 | elapsed:  3.4min finished\n"
     ]
    },
    {
     "name": "stdout",
     "output_type": "stream",
     "text": [
      "Final number of XY tags = 0\n",
      "Final number of XY tags = 0\n",
      "Final number of XY tags = 0\n",
      "Final number of XY tags = 0\n",
      "Final number of ZW tags = 0\n",
      "Final number of ZW tags = 0\n",
      "Final number of ZW tags = 0\n",
      "Final number of ZW tags = 0\n",
      "Final number of XY tags = 0Final number of XY tags = 0Final number of XY tags = 0Final number of XY tags = 0\n",
      "\n",
      "\n",
      "\n",
      "Final number of ZW tags = 0\n",
      "Final number of ZW tags = 0\n",
      "Final number of ZW tags = 0\n",
      "Final number of ZW tags = 0\n"
     ]
    }
   ],
   "source": [
    "results = Parallel(n_jobs=4, verbose = 5)(delayed(Super_SLM_finder_parallel)(i) for i in popmaps[:8])"
   ]
  },
  {
   "cell_type": "code",
   "execution_count": 14,
   "metadata": {
    "collapsed": false
   },
   "outputs": [
    {
     "data": {
      "text/plain": [
       "[{'Detailed': {'XY': {'Ytags': [], 'freq': set(), 'het': []},\n",
       "   'ZW': {'Ytags': [], 'freq': set(), 'het': []}},\n",
       "  'XYset': set(),\n",
       "  'ZWset': set()},\n",
       " {'Detailed': {'XY': {'Ytags': [], 'freq': set(), 'het': []},\n",
       "   'ZW': {'Ytags': [], 'freq': set(), 'het': []}},\n",
       "  'XYset': set(),\n",
       "  'ZWset': set()},\n",
       " {'Detailed': {'XY': {'Ytags': [], 'freq': set(), 'het': []},\n",
       "   'ZW': {'Ytags': [], 'freq': set(), 'het': []}},\n",
       "  'XYset': set(),\n",
       "  'ZWset': set()},\n",
       " {'Detailed': {'XY': {'Ytags': [], 'freq': set(), 'het': []},\n",
       "   'ZW': {'Ytags': [], 'freq': set(), 'het': []}},\n",
       "  'XYset': set(),\n",
       "  'ZWset': set()},\n",
       " {'Detailed': {'XY': {'Ytags': [], 'freq': set(), 'het': []},\n",
       "   'ZW': {'Ytags': [], 'freq': set(), 'het': []}},\n",
       "  'XYset': set(),\n",
       "  'ZWset': set()},\n",
       " {'Detailed': {'XY': {'Ytags': [], 'freq': set(), 'het': []},\n",
       "   'ZW': {'Ytags': [], 'freq': set(), 'het': []}},\n",
       "  'XYset': set(),\n",
       "  'ZWset': set()},\n",
       " {'Detailed': {'XY': {'Ytags': [], 'freq': set(), 'het': []},\n",
       "   'ZW': {'Ytags': [], 'freq': set(), 'het': []}},\n",
       "  'XYset': set(),\n",
       "  'ZWset': set()},\n",
       " {'Detailed': {'XY': {'Ytags': [], 'freq': set(), 'het': []},\n",
       "   'ZW': {'Ytags': [], 'freq': set(), 'het': []}},\n",
       "  'XYset': set(),\n",
       "  'ZWset': set()}]"
      ]
     },
     "execution_count": 14,
     "metadata": {},
     "output_type": "execute_result"
    }
   ],
   "source": [
    "results"
   ]
  },
  {
   "cell_type": "code",
   "execution_count": null,
   "metadata": {
    "collapsed": true
   },
   "outputs": [],
   "source": []
  },
  {
   "cell_type": "code",
   "execution_count": null,
   "metadata": {
    "collapsed": true
   },
   "outputs": [],
   "source": []
  },
  {
   "cell_type": "code",
   "execution_count": null,
   "metadata": {
    "collapsed": true
   },
   "outputs": [],
   "source": []
  },
  {
   "cell_type": "code",
   "execution_count": null,
   "metadata": {
    "collapsed": true
   },
   "outputs": [],
   "source": [
    "def Randomisationalizer():\n",
    "    "
   ]
  },
  {
   "cell_type": "code",
   "execution_count": null,
   "metadata": {
    "collapsed": true
   },
   "outputs": [],
   "source": []
  },
  {
   "cell_type": "code",
   "execution_count": null,
   "metadata": {
    "collapsed": true
   },
   "outputs": [],
   "source": []
  },
  {
   "cell_type": "code",
   "execution_count": null,
   "metadata": {
    "collapsed": true
   },
   "outputs": [],
   "source": []
  },
  {
   "cell_type": "code",
   "execution_count": null,
   "metadata": {
    "collapsed": true
   },
   "outputs": [],
   "source": []
  },
  {
   "cell_type": "code",
   "execution_count": null,
   "metadata": {
    "collapsed": true
   },
   "outputs": [],
   "source": []
  },
  {
   "cell_type": "code",
   "execution_count": null,
   "metadata": {
    "collapsed": true
   },
   "outputs": [],
   "source": []
  },
  {
   "cell_type": "code",
   "execution_count": 42,
   "metadata": {
    "collapsed": false
   },
   "outputs": [
    {
     "name": "stdout",
     "output_type": "stream",
     "text": [
      " N XY tags found = 2\n",
      "N ZW tags found = 3\n",
      "ratio of XY to ZW tags found = 0.666666666667\n",
      "N XY tags found = 2\n",
      "N ZW tags found = 2\n",
      "ratio of XY to ZW tags found = 1.0\n",
      "N XY tags found = 2\n",
      "N ZW tags found = 1\n",
      "ratio of XY to ZW tags found = 2.0\n",
      "N XY tags found = 1\n",
      "N ZW tags found = 3\n",
      "ratio of XY to ZW tags found = 0.333333333333\n",
      "N XY tags found = 2\n",
      "N ZW tags found = 0\n",
      "No ZW tags found\n",
      "N XY tags found = 2\n",
      "N ZW tags found = 2\n",
      "ratio of XY to ZW tags found = 1.0\n",
      "N XY tags found = 1\n",
      "N ZW tags found = 2\n",
      "ratio of XY to ZW tags found = 0.5\n",
      "N XY tags found = 3\n",
      "N ZW tags found = 1\n",
      "ratio of XY to ZW tags found = 3.0\n",
      "N XY tags found = 1\n",
      "N ZW tags found = 4\n",
      "ratio of XY to ZW tags found = 0.25\n",
      "N XY tags found = 3\n",
      "N ZW tags found = 1\n",
      "ratio of XY to ZW tags found = 3.0\n",
      "N XY tags found = 0\n",
      "N ZW tags found = 5\n",
      "No XY tags found\n",
      "N XY tags found = 7\n",
      "N ZW tags found = 3\n",
      "ratio of XY to ZW tags found = 2.33333333333\n",
      "N XY tags found = 1\n",
      "N ZW tags found = 2\n",
      "ratio of XY to ZW tags found = 0.5\n",
      "N XY tags found = 2\n",
      "N ZW tags found = 0\n",
      "No ZW tags found\n",
      "N XY tags found = 0\n",
      "N ZW tags found = 2\n",
      "No XY tags found\n",
      "N XY tags found = 0\n",
      "N ZW tags found = 5\n",
      "No XY tags found\n",
      "N XY tags found = 1\n",
      "N ZW tags found = 0\n",
      "No ZW tags found\n",
      "N XY tags found = 1\n",
      "N ZW tags found = 1\n",
      "ratio of XY to ZW tags found = 1.0\n",
      "N XY tags found = 0\n",
      "N ZW tags found = 0\n",
      "No XY tags found\n",
      "N XY tags found = 2\n",
      "N ZW tags found = 0\n",
      "No ZW tags found\n",
      "N XY tags found = 1\n",
      "N ZW tags found = 3\n",
      "ratio of XY to ZW tags found = 0.333333333333\n",
      "N XY tags found = 3\n",
      "N ZW tags found = 0\n",
      "No ZW tags found\n",
      "N XY tags found = 2\n",
      "N ZW tags found = 0\n",
      "No ZW tags found\n",
      "N XY tags found = 0\n",
      "N ZW tags found = 4\n",
      "No XY tags found\n",
      "N XY tags found = 1\n",
      "N ZW tags found = 0\n",
      "No ZW tags found\n",
      "N XY tags found = 3\n",
      "N ZW tags found = 5\n",
      "ratio of XY to ZW tags found = 0.6\n",
      "N XY tags found = 8\n",
      "N ZW tags found = 1\n",
      "ratio of XY to ZW tags found = 8.0\n",
      "N XY tags found = 3\n",
      "N ZW tags found = 2\n",
      "ratio of XY to ZW tags found = 1.5\n",
      "N XY tags found = 1\n",
      "N ZW tags found = 7\n",
      "ratio of XY to ZW tags found = 0.142857142857\n",
      "N XY tags found = 1\n",
      "N ZW tags found = 3\n",
      "ratio of XY to ZW tags found = 0.333333333333\n",
      "N XY tags found = 2\n",
      "N ZW tags found = 2\n",
      "ratio of XY to ZW tags found = 1.0\n",
      "N XY tags found = 0\n",
      "N ZW tags found = 3\n",
      "No XY tags found\n",
      "N XY tags found = 1\n",
      "N ZW tags found = 3\n",
      "ratio of XY to ZW tags found = 0.333333333333\n",
      "N XY tags found = 1\n",
      "N ZW tags found = 1\n",
      "ratio of XY to ZW tags found = 1.0\n",
      "N XY tags found = 1\n",
      "N ZW tags found = 0\n",
      "No ZW tags found\n",
      "N XY tags found = 1\n",
      "N ZW tags found = 4\n",
      "ratio of XY to ZW tags found = 0.25\n",
      "N XY tags found = 1\n",
      "N ZW tags found = 4\n",
      "ratio of XY to ZW tags found = 0.25\n",
      "N XY tags found = 2\n",
      "N ZW tags found = 9\n",
      "ratio of XY to ZW tags found = 0.222222222222\n",
      "N XY tags found = 0\n",
      "N ZW tags found = 0\n",
      "No XY tags found\n",
      "N XY tags found = 0\n",
      "N ZW tags found = 5\n",
      "No XY tags found\n",
      "N XY tags found = 3\n",
      "N ZW tags found = 0\n",
      "No ZW tags found\n",
      "N XY tags found = 1\n",
      "N ZW tags found = 2\n",
      "ratio of XY to ZW tags found = 0.5\n",
      "N XY tags found = 3\n",
      "N ZW tags found = 2\n",
      "ratio of XY to ZW tags found = 1.5\n",
      "N XY tags found = 0\n",
      "N ZW tags found = 3\n",
      "No XY tags found\n",
      "N XY tags found = 1\n",
      "N ZW tags found = 8\n",
      "ratio of XY to ZW tags found = 0.125\n",
      "N XY tags found = 1\n",
      "N ZW tags found = 0\n",
      "No ZW tags found\n",
      "N XY tags found = 1\n",
      "N ZW tags found = 2\n",
      "ratio of XY to ZW tags found = 0.5\n",
      "N XY tags found = 0\n",
      "N ZW tags found = 3\n",
      "No XY tags found\n",
      "N XY tags found = 3\n",
      "N ZW tags found = 1\n",
      "ratio of XY to ZW tags found = 3.0\n",
      "N XY tags found = 1\n",
      "N ZW tags found = 6\n",
      "ratio of XY to ZW tags found = 0.166666666667\n",
      "N XY tags found = 2\n",
      "N ZW tags found = 0\n",
      "No ZW tags found\n",
      "N XY tags found = 3\n",
      "N ZW tags found = 2\n",
      "ratio of XY to ZW tags found = 1.5\n",
      "N XY tags found = 0\n",
      "N ZW tags found = 5\n",
      "No XY tags found\n",
      "N XY tags found = 2\n",
      "N ZW tags found = 2\n",
      "ratio of XY to ZW tags found = 1.0\n",
      "N XY tags found = 2\n",
      "N ZW tags found = 2\n",
      "ratio of XY to ZW tags found = 1.0\n",
      "N XY tags found = 0\n",
      "N ZW tags found = 1\n",
      "No XY tags found\n",
      "N XY tags found = 0\n",
      "N ZW tags found = 2\n",
      "No XY tags found\n",
      "N XY tags found = 0\n",
      "N ZW tags found = 1\n",
      "No XY tags found\n",
      "N XY tags found = 10\n",
      "N ZW tags found = 3\n",
      "ratio of XY to ZW tags found = 3.33333333333\n",
      "N XY tags found = 2\n",
      "N ZW tags found = 0\n",
      "No ZW tags found\n",
      "N XY tags found = 0\n",
      "N ZW tags found = 1\n",
      "No XY tags found\n",
      "N XY tags found = 3\n",
      "N ZW tags found = 1\n",
      "ratio of XY to ZW tags found = 3.0\n",
      "N XY tags found = 0\n",
      "N ZW tags found = 3\n",
      "No XY tags found\n",
      "N XY tags found = 0\n",
      "N ZW tags found = 2\n",
      "No XY tags found\n",
      "N XY tags found = 2\n",
      "N ZW tags found = 1\n",
      "ratio of XY to ZW tags found = 2.0\n",
      "N XY tags found = 1\n",
      "N ZW tags found = 1\n",
      "ratio of XY to ZW tags found = 1.0\n",
      "N XY tags found = 2\n",
      "N ZW tags found = 1\n",
      "ratio of XY to ZW tags found = 2.0\n",
      "N XY tags found = 1\n",
      "N ZW tags found = 1\n",
      "ratio of XY to ZW tags found = 1.0\n",
      "N XY tags found = 0\n",
      "N ZW tags found = 8\n",
      "No XY tags found\n",
      "N XY tags found = 2\n",
      "N ZW tags found = 2\n",
      "ratio of XY to ZW tags found = 1.0\n",
      "N XY tags found = 2\n",
      "N ZW tags found = 0\n",
      "No ZW tags found\n",
      "N XY tags found = 2\n",
      "N ZW tags found = 0\n",
      "No ZW tags found\n",
      "N XY tags found = 1\n",
      "N ZW tags found = 2\n",
      "ratio of XY to ZW tags found = 0.5\n",
      "N XY tags found = 4\n",
      "N ZW tags found = 5\n",
      "ratio of XY to ZW tags found = 0.8\n",
      "N XY tags found = 0\n",
      "N ZW tags found = 2\n",
      "No XY tags found\n",
      "N XY tags found = 3\n",
      "N ZW tags found = 0\n",
      "No ZW tags found\n",
      "N XY tags found = 2\n",
      "N ZW tags found = 1\n",
      "ratio of XY to ZW tags found = 2.0\n",
      "N XY tags found = 1\n",
      "N ZW tags found = 1\n",
      "ratio of XY to ZW tags found = 1.0\n",
      "N XY tags found = 1\n",
      "N ZW tags found = 3\n",
      "ratio of XY to ZW tags found = 0.333333333333\n",
      "N XY tags found = 2\n",
      "N ZW tags found = 5\n",
      "ratio of XY to ZW tags found = 0.4\n",
      "N XY tags found = 0\n",
      "N ZW tags found = 0\n",
      "No XY tags found\n",
      "N XY tags found = 7\n",
      "N ZW tags found = 2\n",
      "ratio of XY to ZW tags found = 3.5\n",
      "N XY tags found = 0\n",
      "N ZW tags found = 8\n",
      "No XY tags found\n",
      "N XY tags found = 1\n",
      "N ZW tags found = 2\n",
      "ratio of XY to ZW tags found = 0.5\n",
      "N XY tags found = 1\n",
      "N ZW tags found = 1\n",
      "ratio of XY to ZW tags found = 1.0\n",
      "N XY tags found = 0\n",
      "N ZW tags found = 2\n",
      "No XY tags found\n",
      "N XY tags found = 2\n",
      "N ZW tags found = 2\n",
      "ratio of XY to ZW tags found = 1.0\n",
      "N XY tags found = 1\n",
      "N ZW tags found = 4\n",
      "ratio of XY to ZW tags found = 0.25\n",
      "N XY tags found = 2\n",
      "N ZW tags found = 0\n",
      "No ZW tags found\n",
      "N XY tags found = 1\n",
      "N ZW tags found = 3\n",
      "ratio of XY to ZW tags found = 0.333333333333\n",
      "N XY tags found = 1\n",
      "N ZW tags found = 2\n",
      "ratio of XY to ZW tags found = 0.5\n",
      "N XY tags found = 0\n",
      "N ZW tags found = 1\n",
      "No XY tags found\n",
      "N XY tags found = 0\n",
      "N ZW tags found = 1\n",
      "No XY tags found\n",
      "N XY tags found = 1\n",
      "N ZW tags found = 2\n",
      "ratio of XY to ZW tags found = 0.5\n",
      "N XY tags found = 3\n",
      "N ZW tags found = 2\n",
      "ratio of XY to ZW tags found = 1.5\n",
      "N XY tags found = 4\n",
      "N ZW tags found = 0\n",
      "No ZW tags found\n",
      "N XY tags found = 2\n",
      "N ZW tags found = 0\n",
      "No ZW tags found\n",
      "N XY tags found = 1\n",
      "N ZW tags found = 2\n",
      "ratio of XY to ZW tags found = 0.5\n",
      "N XY tags found = 1\n",
      "N ZW tags found = 6\n",
      "ratio of XY to ZW tags found = 0.166666666667\n",
      "N XY tags found = 2\n",
      "N ZW tags found = 4\n",
      "ratio of XY to ZW tags found = 0.5\n"
     ]
    }
   ],
   "source": [
    "for randomisation in results:\n",
    "    print \"N XY tags found = %s\" % len(randomisation[\"XYset\"])\n",
    "    print \"N ZW tags found = %s\" % len(randomisation[\"ZWset\"])\n",
    "    \n",
    "    if len(randomisation[\"XYset\"]) < 1:\n",
    "        print \"No XY tags found\"\n",
    "    elif len(randomisation[\"ZWset\"]) < 1:\n",
    "        print \"No ZW tags found\"\n",
    "    else:\n",
    "        print \"ratio of XY to ZW tags found =\", len(randomisation[\"XYset\"])/len(randomisation[\"ZWset\"])"
   ]
  },
  {
   "cell_type": "code",
   "execution_count": 59,
   "metadata": {
    "collapsed": true
   },
   "outputs": [
    {
     "name": "stdout",
     "output_type": "stream",
     "text": [
      "(set(['6986_649624', '54943_5109619', '128347_11936204', '88248_8207052', '102403_9523446', '86223_8018692', '71253_6626496', '113324_10539083', '58095_5402792', '95746_8904377', '147009_13671808', '139353_12959815', '137727_12808549', '139353_12959812', '16338_1519364', '88469_8227542', '98426_9153534', '127022_11813043', '30284_2816333', '135965_12644692', '130464_12133077', '34656_3222963', '6778_630270', '52638_4895287', '30566_2842604', '21238_1975135', '50872_4731041', '112336_10447190', '109752_10206925', '138231_12855470', '83672_7781434', '2842_264250', '28245_2626725', '120488_11205314', '54413_5060326', '74047_6886288', '89775_8348994', '33862_3149164', '106319_9887598', '811_75370', '99782_9279722', '67262_6255305', '12293_1143173', '100320_9329720', '93209_8668428', '97830_9098132', '117136_10893644', '117136_10893642', '40256_3743738', '27511_2558479', '105157_9779591', '48342_4495769', '94948_8830143', '88130_8196072', '4394_408585', '168079_15631284', '248849_23142894', '81542_7583388', '21652_2013582', '1647_153122', '52038_4839526', '43048_4003455', '653_60708', '71389_6639172', '114242_10624488', '77620_7218607', '5160_479875', '66118_6148892', '27600_2566783', '93935_8735913', '22310_2074800', '170446_15851472', '111398_10359997', '68450_6365850', '164563_15304292', '117105_10890738', '1681_156316', '27467_2554378', '107433_9991203', '30277_2815692', '114632_10660753', '37847_3519706', '97006_9021554', '91471_8506730', '30455_2832233', '81579_7586829', '165320_15374699', '125925_11710989', '8662_805482', '70611_6566745', '187670_17453266', '2688_249912', '50573_4703231', '14346_1334167', '35833_3332470', '298051_27718713', '138846_12912655', '136561_12700161', '98814_9189684', '82044_7630051', '82044_7630050', '9040_840714', '28012_2605110', '116982_10879299', '4415_410540', '77102_7170406', '79064_7352943', '35688_3318906', '7807_726001', '126261_11742229', '28635_2663028', '36077_3355092', '78766_7325230', '10332_960849', '86128_8009862', '171029_15905616', '22351_2078619', '136048_12652419', '120029_11162689', '127352_11843676', '123100_11448231', '73288_6815732', '97830_9098181', '123100_11448234', '122022_11348043', '66948_6226123', '102354_9518869', '66948_6226124', '116787_10861119', '84841_7890175', '24793_2305702', '97719_9087827', '22351_2078558', '69037_6420442', '121432_11293154', '100497_9346198', '129964_12086593', '52003_4836206', '153478_14273372', '164041_15255730', '5090_473306', '91014_8464300', '79335_7378145', '51461_4785794', '5602_520945', '92349_8588398', '98010_9114866', '86671_8060374', '45025_4187295', '136533_12697509', '103527_9627993', '127799_11885268', '57134_5313442', '112707_10481735', '45765_4256099', '75114_6985536', '100910_9384560', '20113_1870481', '3400_316144', '109454_10179196', '80852_7519218', '717_66619', '20767_1931300', '8860_823928', '40805_3794801', '4794_445779', '102289_9512801', '82164_7641223', '133188_12386448', '9538_887024', '51823_4819530', '126248_11740997', '137124_12752456', '128276_11929598', '1445_134319', '48266_4488684', '758_70424', '116781_10860628', '80022_7441983', '21223_1973701', '89109_8287138', '37026_3443405', '5342_496754', '401_37274', '125629_11683418', '137244_12763644', '41044_3817055', '73091_6797462', '104745_9741214', '37232_3462495', '227021_21112907', '76922_7153740', '50526_4698869', '115308_10723569', '82194_7644006', '97634_9079942', '3835_356612', '57571_5354021', '137070_12747505', '79692_7411311', '28571_2657069', '15123_1406440', '66948_6226096', '61607_5729379', '55171_5130829', '49044_4561062', '49044_4561061', '35042_3258831', '1050_97640', '119456_11109361', '19331_1797729', '72694_6760533', '131055_12188083', '24971_2322285', '21333_1983939', '105993_9857291', '108041_10047768', '92349_8588456', '65407_6082777', '23097_2147954', '37626_3499146', '83395_7755675', '481_44684', '82749_7695655', '89600_8332743', '23880_2220796', '123786_11512033', '97544_9071547', '139669_12989204', '32751_3045803', '131842_12261303', '36078_3355188', '68208_6343329', '39380_3662307', '18990_1766031', '54413_5060339', '107158_9965634', '27604_2567128', '89018_8278641', '124537_11581926', '246_22878', '23795_2212879', '2214_205842', '92007_8556615', '53658_4990136', '76273_7093316', '77702_7226259', '37198_3459364', '69266_6441704', '134321_12491836', '71618_6660450', '17308_1609637', '111384_10358677', '46714_4344322', '48213_4483726', '4169_387682', '23589_2193759', '25179_2341570', '17332_1611834', '110165_10245282', '10790_1003392', '717_66608', '162290_15092945', '108825_10120697', '162290_15092943', '96456_8970328', '18716_1740538', '56424_5247365', '138108_12844019', '116906_10872193', '92902_8639801', '233181_21685771', '130215_12109973', '20421_1899080', '47968_4460985', '55032_5117900', '9526_885878', '18161_1688914', '85964_7994646', '4394_408568', '78996_7346556', '56337_5239322', '148388_13800069', '122068_11352287', '61453_5715109', '121214_11272884', '19633_1825821', '32092_2984529', '33591_3123950', '81837_7610781', '57401_5338244', '3163_294158', '42959_3995112', '54545_5072619', '37545_3491657', '40402_3757328', '5095_473775', '133254_12392555', '105645_9824944', '35688_3318985', '599_55635', '125927_11711129', '8978_834888', '121318_11282500', '100497_9346202', '10709_995867', '44651_4152505', '82194_7644029', '5717_531602', '55204_5133926', '52630_4894556', '44225_4112915', '83760_7789648', '73944_6876773', '44173_4108017', '33426_3108581', '74156_6896473', '41637_3872186', '44353_4124797', '21950_2041280', '37626_3499178', '20421_1899117', '104771_9743665', '113583_10563218', '13083_1216690', '18114_1684555', '135131_12567104', '22940_2133355', '38061_3539636', '15980_1486110', '10221_950486', '89084_8284741', '39303_3655097', '42456_3948340', '109752_10206905', '147735_13739318', '37369_3475299', '103527_9627987', '87474_8135036', '47725_4438393', '122943_11433638', '31929_2969352', '24621_2289726', '30417_2828708', '55191_5132713', '76777_7140240', '177819_16537110', '129783_12069779', '25274_2350411', '37888_3523519', '130115_12100664', '72913_6780847', '130243_12112518', '86787_8071141', '51038_4746485', '224043_20835918', '45262_4209301', '51550_4794106', '116541_10838244', '126021_11719891', '124957_11620951', '27070_2517480', '33347_3101233', '26766_2489207', '86302_8026072', '101867_9473595', '130227_12111053', '114986_10693658', '39357_3660137', '69317_6446462', '73325_6819219', '78581_7307963', '58853_5473303', '5609_521590', '47899_4454586', '21521_2001445', '34020_3163839', '133781_12441621', '69500_6463427', '90590_8424797', '11131_1035132', '94922_8827738', '102475_9530166', '127998_11903764', '122493_11391796', '19712_1833170', '65794_6118834', '126046_11722229', '51461_4785844', '135489_12600433', '91785_8536006', '127206_11830133', '40627_3778294', '5607_521448', '3433_319236', '48348_4496318', '57173_5317004', '23291_2166017', '133781_12441628', '82895_7709199', '128714_11970346', '68014_6325275', '121805_11327824', '136017_12649521', '70830_6587147', '72967_6785888', '82765_7697066', '77032_7163967', '69981_6508190', '80852_7519208', '171029_15905634', '43042_4002895', '147236_13692864', '128184_11921059', '112227_10437045', '91011_8463953', '66112_6148392', '14585_1356383', '95750_8904747', '47811_4446394', '22872_2127034', '133457_12411463', '90744_8439118', '169966_15806785', '125027_11627477', '26322_2447867', '1486_138146', '7785_723938', '18990_1766007', '153478_14273415', '44651_4152498', '139086_12934962', '85754_7975087', '69266_6441714', '25811_2400391', '46983_4369420', '117549_10932058', '131683_12246483', '131683_12246482', '47899_4454569', '32097_2984983', '7955_739783', '94725_8809425', '61579_5726824', '21786_2026078', '94725_8809349', '6419_596899', '57688_5364947', '28846_2682608', '122810_11421290', '85622_7962786', '263263_24483421', '90925_8455972', '12319_1145656', '21256_1976809', '130568_12142790', '51038_4746491', '110322_10259946', '43487_4044211', '71389_6639156', '116057_10793229', '53529_4978119', '43256_4022724', '4181_388827', '50539_4700052', '80657_7501034', '85015_7906375', '100706_9365652', '7890_733746', '121318_11282560', '22382_2081445', '87437_8131592', '122060_11351560', '134159_12476742', '57379_5336163', '136561_12700168', '12278_1141836', '130019_12091697', '136063_12653854', '40244_3742655', '30693_2854445', '50123_4661414', '162236_15087942', '92007_8556650', '207853_19330250', '18951_1762413', '67041_6234758', '91711_8529040', '52562_4888183', '88659_8245278', '69680_6480185', '91180_8479718', '35271_3280137', '111051_10327666', '107838_10028888', '102610_9542681', '12024_1118195', '135272_12580284', '191167_17778463', '104087_9680074', '73876_6870413', '99136_9219598', '92221_8576534', '127444_11852292', '128570_11956995', '107004_9951294', '41769_3884470', '106921_9943648', '32719_3042867', '78766_7325172', '127048_11815389', '124954_11620662', '1133_105349', '65774_6116939', '130984_12181436', '165212_15364686', '21544_2003564', '134989_12553944', '93371_8683451', '122635_11404988', '97830_9098156', '33790_3142388', '85682_7968364', '113268_10533866', '43201_4017625', '138642_12893623', '125925_11710940', '94302_8770069', '2786_259074', '87600_8146764', '30197_2808238', '23197_2157285', '28076_2611051', '3943_366633', '37644_3500868', '5492_510735', '7158_665692', '77835_7238615', '135272_12580266', '58082_5401626', '51388_4779064', '47269_4395941', '19362_1800637', '19712_1833180', '38832_3611295', '74166_6897369', '41044_3817027', '113606_10565312', '76053_7072853', '194434_18082299', '83934_7805780', '94948_8830151', '36283_3374255', '80242_7462426', '122027_11348466', '116541_10838235', '80011_7441017', '120299_11187747', '168079_15631331', '138845_12912508', '63438_5899694', '100470_9343653', '3129_290986', '123471_11482736', '224043_20835992', '20270_1885034', '35122_3266322', '105471_9808788', '24860_2311948', '52727_4903543', '194434_18082361', '149244_13879611', '101243_9415574', '36748_3417497', '26461_2460809', '124792_11605574', '131808_12258082', '15821_1471354', '138846_12912641', '1381_128358', '67096_6239912', '136706_12713584', '298051_27718700', '261130_24285063', '88956_8272879', '401_37226', '81018_7534607', '80709_7505936', '67085_6238885', '140071_13026592', '160199_14898449', '23721_2206008', '107838_10028870', '75492_7020712', '115889_10777659', '23291_2166003', '81667_7594976', '124954_11620640', '76865_7148372', '78854_7333393', '133255_12392689', '123599_11494649', '34656_3223000', '135916_12640110', '16999_1580906', '135916_12640112', '82895_7709231', '118986_11065649', '84402_7849305', '120892_11242906', '27988_2602874', '74329_6912530', '80206_7459092', '71253_6626500', '110990_10322071', '126154_11732270', '70623_6567936', '122804_11420703', '90661_8431388', '34349_3194456', '185140_17217979', '185140_17217978', '2810_261303', '23058_2144317', '25653_2385708', '66948_6226137', '40766_3791153', '9962_926454', '100752_9369883', '138286_12860597', '37888_3523543', '67262_6255359', '111051_10327689', '89600_8332717', '94934_8828784', '75818_7051046', '6117_568833', '125838_11702867', '72694_6760511', '119297_11094608', '129094_12005696', '134256_12485725', '85622_7962834', '25280_2351018', '112707_10481676', '108850_10123041', '309461_28779831', '130243_12112519', '96774_8999932', '9518_885111', '90744_8439174', '139838_13004881', '113896_10592310', '73091_6797403', '43256_4022735', '127133_11823306', '127192_11828797', '10862_1010144', '57571_5354033', '101587_9447565', '136732_12716024', '167135_15543491', '170638_15869288', '19229_1788262', '19229_1788260', '57545_5351622', '35074_3261818', '27511_2558438', '86073_8004726', '149064_13862945', '190177_17686414', '15675_1457738', '116688_10851937', '165926_15431077', '165926_15431074', '79052_7351823', '90754_8440113', '4038_375527', '122131_11358173', '50771_4721662', '9518_885165', '126772_11789724', '98661_9175400', '183643_17078719', '4535_421745', '2081_193472', '134321_12491782', '17922_1666666', '21521_2001422', '37178_3457529', '34426_3201541', '31256_2906781', '124394_11568616', '80506_7486986', '10669_992148', '15466_1438331', '87154_8105304', '55503_5161770', '121652_11313630', '127444_11852237', '139023_12929129', '64016_5953487', '147418_13709839', '6040_561681', '131086_12190957', '139683_12990471', '100565_9352489', '69111_6427277', '78205_7272989']), set(['34103_3171548', '135475_12599118', '81008_7533737', '106137_9870711', '5065_470989', '24592_2286971', '4033_375014', '20818_1936007', '94565_8794535', '9753_906945', '6066_564131', '27424_2550420', '41261_3837258', '16449_1529730', '32898_3059500', '31061_2888668', '23061_2144590', '11266_1047716', '115466_10738287', '103539_9629055', '63242_5881441', '7467_694421', '2889_268675', '84748_7881540', '85106_7914820', '96009_8928788', '37786_3514094', '80181_7456783', '136028_12650539', '4207_391228', '40994_3812376', '156195_14526064', '83201_7737675', '98577_9167627', '131662_12244508', '57164_5316172', '11949_1111193', '13924_1294853', '127307_11839481', '21095_1961782', '49189_4574538', '143186_13316258', '111969_10413091', '35513_3302654', '18422_1713216', '53334_4960056', '49362_4590667', '130233_12111620', '151451_14084864', '131675_12245766', '39869_3707790', '46472_4321857', '94986_8833637', '244089_22700197', '43447_4040487', '83073_7725752', '86645_8057930', '95806_8909914', '81266_7557705', '28713_2670253', '100056_9305182', '64975_6042596', '6048_562447', '20144_1873379', '17832_1658306', '91838_8540892', '129303_12025151', '13699_1273958', '124146_11545533', '9623_894918', '29892_2779938', '25854_2404339', '34018_3163594', '18981_1765166', '29286_2723546', '14432_1342160', '95123_8846402', '199076_18514013', '52812_4911494', '42993_3998344', '195705_18200538', '150214_13969900', '66284_6164339', '76367_7102057', '106194_9876034', '15000_1394997', '90030_8372733', '22156_2060454', '5089_473251', '118205_10993037', '28534_2653614', '31414_2921433', '86470_8041671', '49150_4570925', '77519_7209245', '105572_9818170', '140175_13036199', '139491_12972593', '54779_5094394', '106980_9949140', '32039_2979577', '24954_2320692', '21638_2012323', '139109_12937126', '26142_2431191', '7081_658498', '94207_8761188', '82251_7649324', '34031_3164862', '47585_4425386', '51782_4815712', '54611_5078745', '51458_4785595', '56603_5264040', '124288_11558740', '163706_15224589', '44367_4126110', '41532_3862451', '43897_4082366', '129129_12008992', '31414_2921440', '84658_7873188', '149643_13916775', '129908_12081428', '89543_8327498', '93527_8698005', '60585_5634351', '90182_8386884', '84658_7873186', '30480_2834625', '101_9387', '112195_10434074', '125902_11708802', '114264_10626545', '19791_1840542', '64284_5978333', '8254_767569', '16356_1521109', '130125_12101564', '125106_11634786', '48637_4523226', '40490_3765534', '9645_896949', '123728_11506686', '112195_10434071', '94529_8791174', '82637_7685157', '14999_1394882', '39309_3655707', '53274_4954422', '28337_2635302', '313_29101', '106505_9904945', '118281_11000084', '69842_6495305', '42607_3962370', '93527_8697926', '2618_243415', '153698_14293903', '14700_1367051', '48055_4469098', '49017_4558561', '54797_5096077', '48103_4473572', '125091_11633378', '29286_2723586', '134783_12534767', '81526_7581859', '36815_3423774', '96727_8995527', '16614_1545084', '94338_8773354', '22089_2054218', '41538_3863007', '19904_1850996', '135285_12581468', '111774_10394975', '4_343', '41482_3857741', '12708_1181793', '79005_7347396', '58079_5401311', '82693_7690437', '15648_1455262', '153558_14280818', '50426_4689550', '43902_4082824', '125181_11641810', '74048_6886421', '66186_6155233', '102030_9488767', '33668_3131125', '102030_9488764', '130653_12150686', '25037_2328441', '133903_12452936', '120541_11210304', '126681_11781293', '64997_6044686', '10447_971543', '39103_3636557', '4662_433544', '2019_187714', '132388_12312010', '7856_730592', '110952_10318523', '89777_8349232', '31845_2961513', '88241_8206388', '9111_847262', '28092_2612487', '114567_10654671', '133786_12442060', '1064_98926', '27656_2571994', '69822_6493396', '17680_1644229', '61181_5689822', '139109_12937115', '6744_627140', '127711_11877072', '63439_5899823', '9832_914339', '63818_5935051', '136796_12721974', '89543_8327433', '87819_8167112', '70895_6593152', '85845_7983553', '88241_8206369', '124690_11596165', '124690_11596166', '18653_1734715', '120541_11210287', '41099_3822167', '20358_1893266', '129589_12051758', '71847_6681688', '16914_1572991', '52708_4901760', '48097_4472947', '107143_9964250', '51458_4785558', '128595_11959298', '144026_13394376', '100334_9331034', '135848_12633825', '96366_8962035', '83509_7766279', '91072_8469617', '121162_11268020', '17858_1660733', '138178_12850527', '77453_7203047', '85386_7940848', '62441_5806984', '26606_2474353', '87940_8178364', '127163_11826083', '36503_3394738', '93689_8713070', '138851_12913086', '115925_10781026', '85580_7958885', '101980_9484090', '82693_7690365', '14482_1346790', '28850_2682982', '33603_3125047', '63282_5885158', '6744_627141', '33905_3153148', '72160_6710804', '94080_8749409', '61729_5740729', '120212_11179650', '139444_12968209', '49189_4574577', '109964_10226641', '15161_1409943', '71429_6642833', '107182_9967872', '127377_11846037', '144185_13409130', '40342_3751760', '118100_10983240', '101790_9466390', '69842_6495242', '93329_8679598', '102742_9554976', '25673_2387538', '71134_6615404', '240_22291', '107266_9975719', '6506_604981', '92509_8603295', '42797_3980094', '22481_2090658', '176828_16444986', '26924_2503887', '44817_4167950', '125614_11682093', '123567_11491658', '51209_4762370', '430_39965', '80971_7530289', '55509_5162330', '44083_4099692', '73087_6797009', '30002_2790168', '26382_2453442', '55756_5185253', '129971_12087298', '111946_10410966', '27799_2585262', '111774_10394947', '63988_5950819', '1134_105453', '9282_863178', '48835_4541584', '13805_1283785', '94318_8771548', '12022_1117977', '15881_1476880', '49335_4588140', '44162_4107029', '137818_12816995', '85746_7974350', '118205_10992985', '137068_12747308', '61419_5711884', '62067_5772194', '110061_10235610', '107963_10040474', '89577_8330660', '114546_10652724', '134878_12543653', '11266_1047734', '27283_2537275', '78408_7291885', '87362_8124655', '60610_5636674', '30181_2806800', '3267_303784', '90503_8416733', '138238_12856113', '111135_10335517', '44367_4126078', '103945_9666808', '12996_1208592', '15305_1423365', '87513_8138689', '26541_2468232', '78774_7325928', '123481_11483714', '73388_6825016', '1637_152167', '120251_11183305', '27290_2537928', '22342_2077782', '121923_11338798', '78408_7291876', '738_68610', '127163_11826092', '12338_1147403', '62374_5800773', '33991_3161105', '23378_2174069', '128438_11944672', '15014_1396274', '5311_493885', '133605_12425204', '123962_11528417', '23374_2173762', '50637_4709159', '102742_9554995', '47_4303', '23778_2211290', '17449_1622721', '115149_10708806', '2902_269884', '76547_7118832', '1408_130892', '118551_11025213', '123776_11511105', '12541_1166247', '107963_10040500', '12832_1193366', '87212_8110635', '37401_3478237', '86203_8016875', '93040_8652714', '140080_13027417', '49542_4607400', '76146_7081534', '208263_19368431', '122296_11373471', '66490_6183538', '116186_10805219', '14824_1378552', '106976_9948686', '80897_7523413', '1293_120222', '91135_8475520', '2383_221581', '101559_9444973', '2383_221583', '75006_6975546', '120212_11179660', '30271_2815196', '162806_15140940', '85580_7958938', '114158_10616686', '85301_7932980', '136244_12670688', '23150_2152934', '66424_6177407', '80017_7441573', '48190_4481589', '47661_4432419', '123070_11445464', '3398_315997', '4033_375031', '13020_1210804', '133706_12434641', '47036_4374332', '115342_10726791', '144329_13422594', '56362_5241619', '26903_2501957', '35279_3280942', '34773_3233886', '29563_2749303', '135337_12586290', '86394_8034581', '147835_13748652', '171813_15978587', '129027_11999509', '56593_5263128', '106566_9910639', '82098_7635060', '24704_2297422', '24233_2253670', '352_32724', '81130_7545018', '2902_269854', '49335_4588138', '49362_4590634', '304146_28285578', '92315_8585219', '27458_2553583', '80017_7441497', '15046_1399274', '13924_1294872', '4966_461834', '104167_9687485', '66074_6144812', '79460_7389720', '83616_7776253', '134472_12505837', '2884_268211', '66106_6147792', '39155_3641354', '16462_1530955', '127340_11842560', '96009_8928755', '127947_11899018', '102591_9540963', '42530_3955255', '2333_216943', '91717_8529644', '61178_5689523', '13699_1273933', '78533_7303549', '45613_4241994', '33841_3147159', '102179_9502635', '33603_3125069', '134824_12538561', '75693_7039433', '19840_1845116', '40342_3751782', '70573_6563245', '231991_21575100', '39243_3649525', '109339_10168505', '72615_6753128', '106294_9885326', '120818_11236020', '75343_7006877', '63546_5909770', '78545_7304654', '14018_1303593', '6585_612335', '62388_5802003', '127090_11819365', '73486_6834145', '151081_14050507', '48633_4522838', '99024_9209220', '132000_12275934', '106194_9876017', '20975_1950614', '68332_6354801', '22156_2060439', '76763_7138896', '158467_14737375', '73521_6837419', '41560_3865062', '146246_13600872', '106678_9921038', '135909_12639466', '106980_9949121', '1659_154249', '98060_9119525', '9066_843114', '101643_9452725', '24954_2320716', '134783_12534814', '4961_461332', '34412_3200304', '36186_3365251', '139472_12970874', '80408_7477897', '21638_2012277', '7284_677364', '139673_12989544', '20711_1926124', '100040_9303693', '90638_8429322', '39217_3647125', '130653_12150664', '82098_7635029', '241965_22502742', '135037_12558368', '155084_14422739', '10532_979414', '11408_1060893', '57612_5357901', '62441_5806987', '65504_6091865', '204542_19022324', '9753_906952', '98857_9193646', '122109_11356117', '115925_10781025', '109964_10226643', '146246_13600820', '83201_7737684', '93040_8652673', '68470_6367649', '23805_2213799', '142879_13287666', '47182_4387877', '155916_14500165', '6151_572027', '36118_3358969', '35167_3270504', '71370_6637384', '79852_7426159', '156195_14526116', '118565_11026473', '104378_9707108', '103945_9666815', '93268_8673845', '84773_7883881', '115233_10716620', '133605_12425197', '54650_5082384', '55454_5157158', '125710_11691019', '94088_8750140', '86243_8020563', '55973_5205433', '86243_8020567', '27978_2601869', '55973_5205438', '17046_1585239', '204542_19022392', '22691_2110238', '93392_8685416', '54001_5022062', '204367_19006094', '159641_14846560', '41918_3898359', '123578_11492734', '50344_4681991', '31254_2906538', '178259_16578038', '40552_3771314', '19434_1807339', '65333_6075916', '128307_11932546', '21652_2013570', '33883_3151091', '176828_16444921', '127321_11840819', '76160_7082880', '34944_3249772', '131975_12273635', '75933_7061722', '82615_7683191', '57015_5302337', '134855_12541493', '134855_12541494', '3461_321844', '21665_2014763', '26238_2440096', '9770_908564', '100056_9305198', '133527_12417928', '129767_12068307', '49678_4619985', '129801_12071424', '77689_7225054', '133236_12390937', '106678_9920991', '40606_3776336', '19868_1847699', '88829_8261086', '9498_883253', '93392_8685380', '75343_7006847', '151812_14118472', '33905_3153162', '8824_820575', '5075_471904', '75449_7016703', '48605_4520225', '44087_4100086', '82715_7692487', '81802_7607568', '71980_6694078', '138920_12919498', '55674_5177675', '136135_12660534', '208263_19368396', '110268_10254883', '65650_6105427', '54616_5079233', '8499_790403', '154413_14360372', '183784_17091882', '83404_7756517', '5906_549238', '118189_10991536', '5800_539369', '101825_9469691', '41655_3873874', '120810_11235331', '170494_15855877', '115058_10700310', '5368_499189', '119747_11136470', '4662_433497', '48242_4486468', '35167_3270469', '126274_11743470', '60610_5636723', '131382_12218468', '36503_3394780', '181307_16861517', '77838_7238920', '93268_8673915', '34205_3181055', '129681_12060266', '101643_9452771', '115944_10782718', '123567_11491706', '33114_3079534', '38225_3554865', '123475_11483147', '4036_375290', '133725_12436410', '15785_1467920', '39981_3718214', '84635_7870997', '85955_7993742', '133786_12442018', '77689_7225050', '31061_2888624', '164446_15293468', '103431_9619072', '129682_12060410', '26903_2501959', '101616_9450214', '114873_10683151', '5688_528951', '139673_12989512', '20144_1873331', '125125_11636562', '125125_11636563', '43340_4030599', '7558_702841', '108346_10076144', '190357_17703178', '23410_2177108', '86119_8009003', '81980_7624124', '81980_7624123', '57015_5302371', '133392_12405384', '17741_1649870', '28092_2612512', '26238_2440059', '14824_1378560', '239144_22240358', '102630_9544548', '85040_7908656', '139780_12999540', '42607_3962382', '126284_11744366', '121416_11291674', '57742_5369935', '97980_9112077', '82883_7708074', '96480_8972618', '86479_8042523', '82715_7692459', '17741_1649893', '43340_4030596', '49873_4638156', '91345_8495033', '139414_12965464', '138504_12880819', '66468_6181489', '97089_9029218', '15141_1408084', '57970_5391204', '131990_12275000', '94207_8761208', '63562_5911200', '125229_11646277', '92314_8585151', '83616_7776282', '134324_12492114', '132234_12297743', '134782_12534698', '69502_6463628', '3148_292696', '21907_2037290', '50426_4689545', '74826_6958756', '36412_3386311', '8639_803383', '138770_12905531', '54391_5058297', '131696_12247687', '38134_3546450', '56858_5287788', '74772_6953797', '158613_14750982', '84149_7825858', '123466_11482288', '136206_12667077', '112324_10446133', '142827_13282860']))\n",
      "(set(['116379_10823247', '6979_648966', '36733_3416100', '19679_1830103', '126884_11800197', '66123_6149355', '91789_8536299', '38149_3547791', '31204_2901971', '134165_12477279', '107230_9972358', '108777_10116248', '135432_12595134', '63053_5863877', '38892_3616890', '56566_5260587', '96017_8929543', '57160_5315827', '106993_9950305', '111142_10336205', '96746_8997361', '25098_2334089', '152431_14176081', '127022_11813043', '20733_1928162', '11082_1030601', '8775_816014', '76250_7091200', '11522_1071490', '228766_21275219', '134351_12494569', '12400_1153161', '30717_2856621', '124129_11543987', '4150_385899', '90313_8399092', '28756_2674254', '6153_572182', '70944_6597743', '16601_1543842', '88598_8239536', '98577_9167627', '12307_1144488', '11949_1111193', '40843_3798369', '83911_7803643', '125390_11661252', '1110_103216', '120558_11211857', '72840_6774081', '62369_5800314', '16170_1503752', '116966_10877786', '85429_7944841', '32542_3026379', '139475_12971118', '66210_6157487', '46397_4314865', '51877_4824511', '68325_6354196', '116337_10819284', '2793_259698', '30494_2835909', '52952_4924479', '72427_6735698', '92413_8594359', '133772_12440746', '90472_8413811', '36324_3378082', '57298_5328707', '1933_179726', '126008_11718690', '151621_14100742', '8591_798949', '116703_10853304', '1681_156316', '120900_11243693', '78854_7333393', '77702_7226225', '70485_6555058', '154472_14365837', '81579_7586829', '23556_2190641', '33585_3123390', '137503_12787700', '19606_1823277', '35716_3321547', '187670_17453266', '18981_1765166', '77850_7240046', '128969_11994045', '14346_1334167', '71882_6684983', '86939_8085267', '77860_7240924', '136353_12680759', '111336_10354208', '304904_28356072', '63305_5887280', '148760_13834660', '55185_5132147', '80690_7504089', '84435_7852423', '68271_6349185', '84435_7852427', '86470_8041671', '28635_2663028', '139491_12972593', '3651_339516', '136877_12729508', '32060_2981570', '100357_9333125', '69338_6448434', '30332_2820792', '50291_4677010', '2504_232828', '130446_12131466', '51766_4814176', '138445_12875370', '52117_4846837', '46951_4366403', '10991_1022099', '161332_15003863', '103533_9628486', '46748_4347562', '35209_3274404', '142292_13233116', '35209_3274406', '127022_11813040', '14669_1364197', '30619_2847512', '38409_3571989', '121432_11293154', '43612_4055833', '97916_9106189', '73305_6817349', '28885_2686256', '33047_3073298', '50291_4676981', '91014_8464300', '79396_7383791', '41795_3886870', '40380_3755276', '50252_4673437', '118991_11066152', '84086_7819924', '97851_9100100', '21429_1992845', '32965_3065741', '73817_6864960', '9177_853415', '35193_3272947', '34344_3193978', '71828_6679950', '34304_3190234', '124836_11609711', '135530_12604234', '6356_591100', '7598_706579', '21109_1963103', '138072_12840634', '96777_9000216', '12708_1181793', '21521_2001445', '35546_3305732', '68073_6330772', '31138_2895776', '91815_8538735', '157847_14679733', '52409_4873998', '145494_13530927', '106805_9932831', '52233_4857620', '132791_12349523', '78982_7345288', '133399_12406080', '95994_8927412', '14780_1374496', '128648_11964218', '67429_6270844', '81415_7571592', '130720_12156957', '147013_13672171', '104229_9693274', '42458_3948589', '137818_12816995', '41044_3817055', '157_14519', '23145_2152412', '91853_8542293', '91581_8517015', '102894_9569122', '100708_9365788', '53766_5000165', '29245_2719702', '68466_6367269', '48047_4468307', '80655_7500880', '5835_542587', '89448_8318593', '127147_11824603', '82364_7659834', '122532_11395410', '70398_6547001', '87841_8169170', '76208_7087284', '92413_8594400', '26950_2506313', '12727_1183552', '64997_6044686', '13048_1213412', '126271_11743158', '53115_4939647', '13548_1259903', '39103_3636557', '135975_12645641', '56219_5228316', '139698_12991879', '134611_12518804', '36444_3389233', '28092_2612487', '68110_6334171', '69822_6493396', '75539_7025056', '157997_14693695', '39375_3661819', '127569_11863858', '106993_9950277', '33047_3073286', '48725_4531374', '9832_914339', '47318_4400546', '132365_12309895', '1110_103198', '7319_680639', '117709_10946920', '36003_3348221', '135986_12646678', '37929_3527340', '50600_4705722', '135150_12568884', '104961_9761317', '88986_8275695', '2470_229683', '121608_11309470', '96577_8981599', '477_44295', '13110_1219212', '57803_5375613', '130764_12160979', '3909_363460', '129813_12072573', '16914_1572991', '22853_2125286', '10041_933756', '50426_4689550', '613_56948', '71200_6621600', '26578_2471681', '130388_12126012', '6404_595521', '51877_4824562', '106044_9862078', '24040_2235652', '131289_12209839', '14209_1321422', '55836_5192678', '35612_3311904', '62842_5844251', '113360_10542413', '133084_12376783', '55187_5132314', '41024_3815162', '36503_3394738', '6422_597217', '3866_359457', '57050_5305598', '120385_11195805', '114326_10632250', '10961_1019308', '7598_706544', '110893_10313049', '78829_7331048', '137061_12746655', '94330_8772653', '16684_1551572', '21548_2003946', '22985_2137591', '81526_7581859', '48047_4468346', '33603_3125047', '8148_757726', '130528_12139054', '35343_3286857', '10603_986068', '4546_422771', '82526_7674910', '71882_6684993', '63454_5901185', '139790_13000461', '100232_9321535', '80690_7504094', '52053_4840901', '107266_9975719', '84714_7878350', '15191_1412711', '67564_6283401', '53196_4947211', '30494_2835886', '1300_120881', '39564_3679408', '44964_4181608', '112303_10444132', '42421_3945117', '80971_7530289', '63053_5863922', '3909_363518', '26031_2420853', '40402_3757328', '886_82363', '36645_3407951', '80504_7486816', '19229_1788262', '1608_149532', '150115_13960646', '6185_575190', '118868_11054696', '130779_12162390', '970_90137', '77314_7190174', '136516_12695947', '162943_15153695', '162943_15153699', '115906_10779177', '13548_1259959', '51808_4818063', '59908_5571386', '119272_11092215', '51407_4780781', '65350_6077543', '12981_1207155', '135432_12595149', '131029_12185663', '137068_12747308', '100218_9320244', '92394_8592575', '18559_1725915', '133840_12447068', '18559_1725917', '21429_1992857', '176470_16411709', '37206_3460114', '84583_7866165', '113583_10563218', '87750_8160671', '66186_6155296', '76087_7076015', '1130_105059', '151621_14100669', '23540_2189190', '21661_2014433', '35193_3272934', '136985_12739552', '36573_3401214', '116817_10863957', '162682_15129345', '138238_12856113', '65549_6096043', '128450_11945834', '30191_2807705', '130137_12102699', '32520_3024322', '64997_6044652', '36444_3389293', '64073_5958747', '105720_9831943', '48920_4549523', '22342_2077782', '23678_2202018', '19895_1850177', '114326_10632312', '66322_6167869', '62916_5851187', '78706_7319627', '13928_1295268', '166322_15467920', '127175_11827272', '21799_2027223', '112593_10471127', '139599_12982653', '47583_4425207', '41234_3834714', '37903_3524894', '137155_12755406', '100259_9324034', '805_74804', '34073_3168763', '65549_6096034', '34137_3174707', '50802_4724513', '139812_13002470', '111703_10388333', '40461_3762829', '55218_5135220', '107695_10015569', '6911_642645', '6661_619444', '104438_9712661', '39564_3679367', '1850_171988', '81475_7577168', '50048_4654449', '137896_12824278', '302128_28097841', '38255_3557653', '66490_6183538', '79146_7360559', '73049_6793500', '41578_3866678', '53114_4939593', '81367_7567061', '28535_2653739', '106382_9893473', '89311_8305868', '85528_7954057', '13731_1276973', '27824_2587565', '148661_13825469', '16156_1502466', '153073_14235772', '77835_7238630', '138124_12845461', '97552_9072280', '15808_1470111', '241216_22433063', '101446_9434456', '105679_9828113', '53522_4977516', '49641_4616606', '23741_2207830', '137231_12762413', '78530_7303286', '73305_6817311', '35612_3311846', '21830_2030132', '46235_4299780', '116786_10861045', '86478_8042435', '16498_1534241', '135337_12586290', '126382_11753497', '135860_12634971', '8473_787923', '85010_7905915', '162970_15156134', '10961_1019364', '43912_4083754', '352_32724', '28076_2611051', '109557_10188802', '109557_10188801', '119172_11082996', '33776_3141118', '121608_11309463', '50246_4672853', '115108_10705010', '78819_7330111', '52292_4863128', '135249_12578115', '6980_649132', '85316_7934308', '83795_7792910', '122865_11426420', '14526_1350894', '12418_1154875', '131139_12195842', '25777_2397254', '74882_6963985', '29416_2735646', '107211_9970549', '4532_421469', '31046_2887273', '886_82385', '91935_8549951', '79651_7407507', '99928_9293245', '70231_6531422', '82998_7718797', '4546_422718', '304904_28356068', '76090_7076317', '40172_3735946', '263263_24483421', '187976_17481765', '153101_14238312', '116883_10870120', '50399_4687044', '128648_11964244', '113356_10542084', '30405_2827637', '118384_11009679', '78044_7258061', '98295_9141410', '104143_9685219', '68073_6330717', '30703_2855360', '64554_6003444', '86223_8018718', '138987_12925761', '38992_3626199', '15192_1412800', '57411_5339223', '108536_10093829', '62100_5775299', '12004_1116332', '46343_4309845', '29382_2732493', '28092_2612512', '27025_2513264', '13360_1242426', '29951_2785418', '157353_14633798', '120820_11236182', '11712_1089187', '46544_4328562', '130764_12161033', '50048_4654409', '41251_3836278', '120856_11239572', '121600_11308763', '125702_11690267', '54548_5072949', '46779_4350417', '92795_8629858', '26978_2508916', '33272_3094232', '78910_7338586', '52038_4839526', '98376_9148887', '54027_5024479', '48068_4470290', '84725_7879367', '158467_14737375', '49568_4609790', '54484_5066983', '31065_2889038', '133517_12417023', '21944_2040766', '25777_2397251', '21976_2043694', '68961_6413369', '138625_12892122', '137710_12807022', '68544_6374533', '135192_12572813', '9066_843114', '18862_1754088', '52248_4859014', '15229_1416260', '87440_8131852', '96548_8978915', '50085_4657835', '90302_8398017', '64284_5978363', '121600_11308777', '114202_10620709', '133840_12447107', '74832_6959341', '50841_4728142', '33190_3086592', '96069_8934384', '66794_6211784', '16118_1498894', '115906_10779209', '49486_4602178', '111613_10379999', '10302_958044', '6356_591076', '133240_12391316', '18773_1745838', '38418_3572815', '80958_7529011', '26376_2452889', '127793_11884713', '9219_857340', '30405_2827651', '38149_3547820', '94553_8793384', '37469_3484593', '43901_4082766', '139160_12941843', '128815_11979713', '70485_6555067', '137004_12741327', '135764_12626027', '79332_7377822', '165643_15404773', '117056_10886173', '124374_11566746', '115638_10754252', '44024_4094153', '112593_10471128', '94059_8747478', '113360_10542441', '20714_1926381', '115779_10767421', '122336_11377247', '100514_9347722', '2470_229665', '82998_7718796', '50281_4676096', '55973_5205433', '139218_12947206', '125269_11649994', '93663_8710650', '76611_7124783', '2793_259708', '121267_11277789', '80730_7507818', '126926_11804056', '139023_12929129', '79537_7396895', '77998_7253729', '85316_7934359', '41044_3817027', '29764_2767969', '69100_6426268', '76734_7136218', '18251_1697299', '79390_7383203', '122027_11348466', '68325_6354189', '5075_471904', '93799_8723283', '90976_8460714', '123256_11462780', '138845_12912508', '106371_9892472', '2463_229048', '29183_2713984', '8183_760946', '148126_13775695', '50399_4687042', '7964_740599', '47_4297', '109134_10149403', '37675_3503743', '444_41214', '110550_10281135', '45023_4187084', '86896_8081316', '104905_9756154', '133337_12400310', '15229_1416228', '86601_8053865', '24284_2258389', '117352_10913709', '37457_3483431', '25759_2395527', '3726_346510', '113356_10542027', '34446_3203466', '78445_7295300', '63829_5936058', '117709_10946884', '128332_11934837', '80709_7505936', '83556_7770646', '10224_950799', '46544_4328522', '80655_7500877', '101758_9463480', '155931_14501545', '10583_984198', '62833_5843402', '76865_7148372', '118990_11066056', '75553_7026356', '67937_6318091', '28490_2649494', '43056_4004188', '70009_6510806', '53574_4982356', '62833_5843401', '54179_5038622', '20880_1941816', '106093_9866593', '14013_1303134', '121991_11345104', '120807_11235038', '20733_1928136', '130718_12156762', '34073_3168750', '82040_7629652', '131720_12249890', '52639_4895355', '117479_10925487', '41751_3882833', '107695_10015553', '20880_1941813', '20417_1898708', '4935_458930', '87841_8169157', '122804_11420703', '35092_3263480', '113400_10546155', '91121_8474214', '36503_3394780', '41234_3834693', '72372_6730554', '95921_8920579', '113827_10585842', '138227_12855102', '52292_4863152', '138227_12855105', '30249_2813144', '131315_12212249', '135530_12604220', '39981_3718214', '110893_10312994', '51459_4785663', '103283_9605248', '65800_6119342', '113552_10560257', '119385_11102801', '120376_11194893', '102354_9518869', '12494_1161926', '163292_15186079', '137231_12762402', '68699_6388988', '74559_6933958', '55218_5135193', '89203_8295832', '102179_9502635', '83194_7736980', '106376_9892887', '80971_7530297', '39591_3681923', '36573_3401236', '196794_18301765', '83795_7792925', '88367_8218094', '51169_4758641', '130002_12090160', '49722_4624108', '91790_8536431', '96290_8954889', '99180_9223719', '135234_12576714', '113896_10592310', '85661_7966423', '85661_7966424', '102398_9522962', '24224_2252809', '7597_706471', '134590_12516793', '129865_12077438', '111149_10336782', '123710_11505007', '121501_11299571', '19229_1788260', '43154_4013301', '33603_3125069', '153667_14291005', '129783_12069779', '38672_3596415', '14846_1380604', '2278_211785', '96763_8998915', '129338_12028378', '98857_9193646', '133934_12455840', '79627_7405277', '73346_6821108', '7846_729678', '123826_11515778', '157538_14651023', '54484_5066954', '92412_8594303', '128987_11995724', '82994_7718386', '18085_1681860', '44117_4102854', '132365_12309887', '50426_4689545', '130002_12090117', '63317_5888427', '79627_7405293', '72615_6753128', '14760_1372676', '75181_6991760', '43298_4026660', '162970_15156143', '128333_11934963', '132507_12323136', '112602_10471915', '89200_8295558', '158488_14739322', '9450_878767', '65978_6135950', '84988_7903800', '120362_11193662', '87235_8112797', '87235_8112795', '136695_12712598', '77835_7238615', '78205_7272989', '183643_17078719']), set(['34103_3171548', '135475_12599118', '33721_3136028', '18308_1702638', '100961_9389339', '24513_2279650', '138303_12862140', '75819_7051126', '43484_4043983', '57044_5305060', '116706_10853585', '30731_2857970', '48947_4552070', '68152_6338089', '135965_12644692', '36800_3422348', '135667_12616984', '122153_11360169', '99782_9279722', '133512_12416542', '116929_10874346', '55430_5154980', '250335_23281121', '34083_3169637', '203_18796', '92038_8559487', '55045_5119107', '85663_7966649', '3913_363897', '94948_8830143', '83790_7792468', '123119_11449989', '29856_2776572', '114242_10624488', '121334_11284050', '54837_5099808', '23215_2158914', '76603_7124038', '50347_4682189', '35931_3341552', '113115_10519695', '117505_10927962', '117105_10890738', '46832_4355326', '78422_7293235', '86209_8017434', '22780_2118521', '117453_10923109', '132223_12296660', '51493_4788769', '52766_4907214', '88717_8250621', '168878_15705574', '63562_5911239', '96074_8934853', '145527_13533993', '43709_4064910', '155041_14418756', '105572_9818170', '40037_3723420', '4552_423334', '107270_9976081', '106537_9907928', '114837_10679768', '13724_1276326', '138229_12855282', '148932_13850591', '111115_10333651', '26863_2498188', '100981_9391200', '45005_4185425', '40259_3744088', '122875_11427294', '38291_3561045', '39424_3666371', '46771_4349653', '46080_4285418', '25281_2351064', '83253_7742446', '83118_7729927', '95982_8926268', '42243_3928556', '35524_3303694', '46714_4344372', '122875_11427369', '125935_11711935', '133851_12448134', '14700_1367051', '32397_3012842', '31746_2952301', '147808_13746108', '44044_4096055', '106505_9904945', '102289_9512801', '21811_2028401', '111038_10326484', '7365_684895', '134972_12552312', '104698_9736849', '140749_13089633', '25992_2417250', '139029_12929676', '140749_13089632', '26376_2452958', '69120_6428086', '38033_3537064', '50853_4729281', '101870_9473910', '51554_4794448', '14324_1332105', '48229_4485229', '17391_1617300', '36528_3397104', '139382_12962504', '130674_12152600', '36081_3355472', '83790_7792428', '136220_12668386', '142838_13283887', '6647_618094', '135407_12592778', '6247_580919', '6647_618093', '295004_27435361', '68403_6361466', '14453_1344107', '8654_804821', '97634_9079942', '80413_7478339', '81052_7537768', '53188_4946478', '131115_12193677', '67563_6283311', '109427_10176712', '39030_3629713', '48368_4498214', '41266_3837657', '29847_2775741', '108935_10130893', '33559_3120968', '138108_12844019', '21333_1983939', '966_89813', '101674_9455668', '30793_2863677', '18404_1711504', '31934_2969792', '17552_1632308', '16566_1540568', '90441_8410996', '42537_3955921', '151271_14068135', '81637_7592182', '23016_2140468', '88948_8272122', '131842_12261303', '49762_4627809', '135778_12627332', '170638_15869288', '67512_6278589', '135848_12633825', '17403_1618417', '26900_2501644', '39108_3637010', '88920_8269517', '12737_1184461', '3913_363887', '38115_3544678', '120147_11173646', '25992_2417192', '46714_4344322', '124736_11600446', '7786_724056', '79233_7368592', '23699_2203922', '10089_938219', '54611_5078745', '133076_12376035', '129645_12056923', '72391_6732307', '104698_9736841', '83488_7764340', '532_49398', '88421_8223097', '38167_3549447', '130672_12152453', '61012_5674048', '91172_8478965', '13013_1210127', '151852_14122219', '134792_12535586', '97704_9086443', '101616_9450214', '46417_4316709', '1165_108341', '154391_14358335', '120989_11251976', '75707_7040722', '119523_11115614', '81192_7550824', '119584_11121293', '9319_866616', '44817_4167950', '116399_10825067', '56363_5241722', '125923_11710793', '11281_1049107', '92281_8582123', '26014_2419229', '6571_611037', '9522_885502', '12022_1117994', '106433_9898199', '43907_4083288', '20526_1908881', '25239_2347183', '38053_3538922', '44651_4152505', '163845_15237522', '96084_8935795', '135853_12634257', '46583_4332167', '38498_3580232', '82380_7661288', '36528_3397103', '102241_9508343', '118563_11026294', '27461_2553842', '28494_2649890', '28494_2649895', '74764_6953033', '26287_2444619', '67512_6278532', '43042_4002851', '253602_23584958', '115273_10720388', '115273_10720389', '151291_14070008', '113772_10580720', '113772_10580721', '29594_2752192', '86994_8090358', '10221_950486', '47758_4441442', '5058_470349', '26484_2462976', '93890_8731718', '30793_2863742', '91345_8495033', '67483_6275836', '46259_4302047', '39083_3634716', '107498_9997255', '47725_4438393', '85827_7981831', '21613_2009974', '102735_9554309', '91460_8505750', '38592_3588992', '196618_18285449', '130243_12112518', '45679_4248144', '124772_11603764', '144116_13402750', '194562_18094225', '107695_10015580', '132681_12339260', '38031_3536857', '133180_12385716', '26766_2489207', '16156_1502491', '89753_8346998', '9214_856848', '86302_8026072', '68428_6363805', '50411_4688179', '14613_1358950', '75628_7033323', '129801_12071434', '1776_165091', '118360_11007413', '106592_9912995', '28205_2623045', '132329_12306579', '1806_167912', '126628_11776338', '37212_3460701', '45826_4261799', '91065_8468992', '53796_5002997', '16156_1502464', '23361_2172489', '24371_2266482', '3433_319236', '106455_9900302', '122884_11428165', '118024_10976188', '91086_8470939', '65818_6121048', '31012_2884093', '42549_3956973', '47636_4430120', '129775_12069021', '25933_2411700', '98103_9123562', '78032_7256941', '4055_377070', '52029_4838654', '107681_10014320', '103769_9650444', '40413_3758350', '23736_2207409', '152802_14210502', '117813_10956593', '51538_4793032', '23215_2158984', '44651_4152498', '16566_1540615', '17950_1669306', '73049_6793501', '148932_13850633', '130623_12147856', '121891_11335809', '77290_7187940', '124259_11556087', '24851_2311062', '43785_4071920', '8585_798339', '33629_3127443', '16391_1524339', '34574_3215334', '72513_6743676', '45114_4195572', '72513_6743672', '130568_12142790', '31238_2905053', '37872_3522025', '42530_3955255', '47048_4375420', '32719_3042799', '20518_1908152', '104165_9687307', '24575_2285394', '124259_11556010', '4992_464218', '85306_7933431', '90533_8419535', '74782_6954704', '30515_2837812', '135670_12617252', '97059_9026444', '60990_5672038', '105791_9838501', '45926_4271081', '86501_8044564', '10360_963463', '151852_14122163', '90997_8462706', '87984_8182427', '19124_1778481', '81695_7597630', '136043_12651995', '135599_12610695', '7495_696992', '53188_4946484', '98052_9118808', '131756_12253277', '123279_11464920', '28264_2628497', '90997_8462718', '3307_307492', '192645_17915927', '102077_9493143', '17552_1632307', '130601_12145881', '83934_7805780', '117334_10911995', '90533_8419549', '72725_6763407', '55665_5176786', '13816_1284831', '133909_12453515', '71309_6631656', '88920_8269514', '138958_12923057', '32719_3042867', '27705_2576549', '133160_12383854', '27372_2545532', '134935_12548923', '160665_14941782', '47636_4430119', '88305_8212347', '47182_4387883', '26074_2424857', '8901_827725', '74764_6953038', '73068_6795271', '93534_8698592', '48126_4475646', '43867_4079608', '94088_8750140', '114930_10688448', '129472_12040832', '44670_4154249', '75906_7059236', '54985_5113587', '102786_9559097', '164608_15308469', '25830_2402178', '73330_6819609', '41143_3826254', '31254_2906538', '118842_11052236', '124581_11586024', '94948_8830151', '1776_165137', '9319_866638', '107375_9985804', '43907_4083339', '67685_6294685', '127967_11900878', '33883_3151091', '95342_8866782', '308499_28690407', '127442_11852085', '121581_11306949', '247885_23053278', '144740_13460807', '9152_851067', '41544_3863526', '9341_868654', '24860_2311948', '34551_3213170', '24371_2266423', '45493_4230810', '128804_11978726', '20554_1911447', '100165_9315307', '37166_3456372', '48947_4552011', '36866_3428464', '138466_12877288', '85947_7993001', '92407_8593794', '129410_12035074', '40301_3747913', '139062_12932704', '192645_17915963', '73288_6815732', '100650_9360448', '9374_871778', '137401_12778222', '160199_14898449', '119456_11109345', '32283_3002257', '29117_2707851', '85051_7909740', '36637_3407185', '39763_3697955', '295004_27435331', '137979_12832043', '4552_423309', '67803_6305596', '82635_7684989', '117334_10911977', '118351_11006578', '55503_5161770', '99221_9227502', '90232_8391518', '70759_6580540', '80206_7459092', '130273_12115369', '116238_10810122', '25608_2381509', '116238_10810127', '76273_7093390', '77188_7178425', '93747_8718424', '40089_3728239', '50665_4711803', '34022_3163972', '112921_10501604', '160159_14894769', '25933_2411733', '26863_2498217', '10273_955379', '25521_2373436', '130233_12111596', '130125_12101590', '18945_1761847', '17429_1620854', '46698_4342888', '93247_8671955', '253602_23584956', '127011_11811985', '126303_11746138', '42424_3945368', '15752_1464865', '123592_11494041', '61648_5733225', '100961_9389325', '139111_12937278', '119461_11109868', '35393_3291502', '137007_12741584', '130243_12112519', '42499_3952395', '51033_4746023', '58112_5404366', '45901_4268793', '5953_553567', '116713_10854272', '10483_974860', '11201_1041615', '160159_14894714', '241028_22415584', '93663_8710620', '5058_470334', '78811_7329417', '133844_12447439', '128075_11910943', '130033_12092988', '139452_12969025', '120234_11181697', '15675_1457738', '135670_12617308', '110104_10239607', '122884_11428186', '130544_12140584', '95660_8896326', '3956_367844', '129571_12050031', '15181_1411821', '82038_7629490', '7495_696962', '100650_9360374', '40089_3728197', '132149_12289836', '7108_661025', '46125_4289621', '100321_9329815', '80506_7486986', '69031_6419883', '6036_561310', '75664_7036732', '13724_1276277', '96803_9002636', '111885_10405281', '60688_5643932', '42424_3945393', '43785_4072003', '115649_10755275']))\n"
     ]
    }
   ],
   "source": [
    "for i in results:\n",
    "    print i"
   ]
  },
  {
   "cell_type": "code",
   "execution_count": 53,
   "metadata": {
    "collapsed": false
   },
   "outputs": [
    {
     "name": "stdout",
     "output_type": "stream",
     "text": [
      "NEXT\n",
      "set(['6986_649624', '54943_5109619', '128347_11936204', '88248_8207052', '102403_9523446', '86223_8018692', '71253_6626496', '113324_10539083', '58095_5402792', '95746_8904377', '147009_13671808', '139353_12959815', '137727_12808549', '139353_12959812', '16338_1519364', '88469_8227542', '98426_9153534', '127022_11813043', '30284_2816333', '135965_12644692', '130464_12133077', '34656_3222963', '6778_630270', '52638_4895287', '30566_2842604', '21238_1975135', '50872_4731041', '112336_10447190', '109752_10206925', '138231_12855470', '83672_7781434', '2842_264250', '28245_2626725', '120488_11205314', '54413_5060326', '74047_6886288', '89775_8348994', '33862_3149164', '106319_9887598', '811_75370', '99782_9279722', '67262_6255305', '12293_1143173', '100320_9329720', '93209_8668428', '97830_9098132', '117136_10893644', '117136_10893642', '40256_3743738', '27511_2558479', '105157_9779591', '48342_4495769', '94948_8830143', '88130_8196072', '4394_408585', '168079_15631284', '248849_23142894', '81542_7583388', '21652_2013582', '1647_153122', '52038_4839526', '43048_4003455', '653_60708', '71389_6639172', '114242_10624488', '77620_7218607', '5160_479875', '66118_6148892', '27600_2566783', '93935_8735913', '22310_2074800', '170446_15851472', '111398_10359997', '68450_6365850', '164563_15304292', '117105_10890738', '1681_156316', '27467_2554378', '107433_9991203', '30277_2815692', '114632_10660753', '37847_3519706', '97006_9021554', '91471_8506730', '30455_2832233', '81579_7586829', '165320_15374699', '125925_11710989', '8662_805482', '70611_6566745', '187670_17453266', '2688_249912', '50573_4703231', '14346_1334167', '35833_3332470', '298051_27718713', '138846_12912655', '136561_12700161', '98814_9189684', '82044_7630051', '82044_7630050', '9040_840714', '28012_2605110', '116982_10879299', '4415_410540', '77102_7170406', '79064_7352943', '35688_3318906', '7807_726001', '126261_11742229', '28635_2663028', '36077_3355092', '78766_7325230', '10332_960849', '86128_8009862', '171029_15905616', '22351_2078619', '136048_12652419', '120029_11162689', '127352_11843676', '123100_11448231', '73288_6815732', '97830_9098181', '123100_11448234', '122022_11348043', '66948_6226123', '102354_9518869', '66948_6226124', '116787_10861119', '84841_7890175', '24793_2305702', '97719_9087827', '22351_2078558', '69037_6420442', '121432_11293154', '100497_9346198', '129964_12086593', '52003_4836206', '153478_14273372', '164041_15255730', '5090_473306', '91014_8464300', '79335_7378145', '51461_4785794', '5602_520945', '92349_8588398', '98010_9114866', '86671_8060374', '45025_4187295', '136533_12697509', '103527_9627993', '127799_11885268', '57134_5313442', '112707_10481735', '45765_4256099', '75114_6985536', '100910_9384560', '20113_1870481', '3400_316144', '109454_10179196', '80852_7519218', '717_66619', '20767_1931300', '8860_823928', '40805_3794801', '4794_445779', '102289_9512801', '82164_7641223', '133188_12386448', '9538_887024', '51823_4819530', '126248_11740997', '137124_12752456', '128276_11929598', '1445_134319', '48266_4488684', '758_70424', '116781_10860628', '80022_7441983', '21223_1973701', '89109_8287138', '37026_3443405', '5342_496754', '401_37274', '125629_11683418', '137244_12763644', '41044_3817055', '73091_6797462', '104745_9741214', '37232_3462495', '227021_21112907', '76922_7153740', '50526_4698869', '115308_10723569', '82194_7644006', '97634_9079942', '3835_356612', '57571_5354021', '137070_12747505', '79692_7411311', '28571_2657069', '15123_1406440', '66948_6226096', '61607_5729379', '55171_5130829', '49044_4561062', '49044_4561061', '35042_3258831', '1050_97640', '119456_11109361', '19331_1797729', '72694_6760533', '131055_12188083', '24971_2322285', '21333_1983939', '105993_9857291', '108041_10047768', '92349_8588456', '65407_6082777', '23097_2147954', '37626_3499146', '83395_7755675', '481_44684', '82749_7695655', '89600_8332743', '23880_2220796', '123786_11512033', '97544_9071547', '139669_12989204', '32751_3045803', '131842_12261303', '36078_3355188', '68208_6343329', '39380_3662307', '18990_1766031', '54413_5060339', '107158_9965634', '27604_2567128', '89018_8278641', '124537_11581926', '246_22878', '23795_2212879', '2214_205842', '92007_8556615', '53658_4990136', '76273_7093316', '77702_7226259', '37198_3459364', '69266_6441704', '134321_12491836', '71618_6660450', '17308_1609637', '111384_10358677', '46714_4344322', '48213_4483726', '4169_387682', '23589_2193759', '25179_2341570', '17332_1611834', '110165_10245282', '10790_1003392', '717_66608', '162290_15092945', '108825_10120697', '162290_15092943', '96456_8970328', '18716_1740538', '56424_5247365', '138108_12844019', '116906_10872193', '92902_8639801', '233181_21685771', '130215_12109973', '20421_1899080', '47968_4460985', '55032_5117900', '9526_885878', '18161_1688914', '85964_7994646', '4394_408568', '78996_7346556', '56337_5239322', '148388_13800069', '122068_11352287', '61453_5715109', '121214_11272884', '19633_1825821', '32092_2984529', '33591_3123950', '81837_7610781', '57401_5338244', '3163_294158', '42959_3995112', '54545_5072619', '37545_3491657', '40402_3757328', '5095_473775', '133254_12392555', '105645_9824944', '35688_3318985', '599_55635', '125927_11711129', '8978_834888', '121318_11282500', '100497_9346202', '10709_995867', '44651_4152505', '82194_7644029', '5717_531602', '55204_5133926', '52630_4894556', '44225_4112915', '83760_7789648', '73944_6876773', '44173_4108017', '33426_3108581', '74156_6896473', '41637_3872186', '44353_4124797', '21950_2041280', '37626_3499178', '20421_1899117', '104771_9743665', '113583_10563218', '13083_1216690', '18114_1684555', '135131_12567104', '22940_2133355', '38061_3539636', '15980_1486110', '10221_950486', '89084_8284741', '39303_3655097', '42456_3948340', '109752_10206905', '147735_13739318', '37369_3475299', '103527_9627987', '87474_8135036', '47725_4438393', '122943_11433638', '31929_2969352', '24621_2289726', '30417_2828708', '55191_5132713', '76777_7140240', '177819_16537110', '129783_12069779', '25274_2350411', '37888_3523519', '130115_12100664', '72913_6780847', '130243_12112518', '86787_8071141', '51038_4746485', '224043_20835918', '45262_4209301', '51550_4794106', '116541_10838244', '126021_11719891', '124957_11620951', '27070_2517480', '33347_3101233', '26766_2489207', '86302_8026072', '101867_9473595', '130227_12111053', '114986_10693658', '39357_3660137', '69317_6446462', '73325_6819219', '78581_7307963', '58853_5473303', '5609_521590', '47899_4454586', '21521_2001445', '34020_3163839', '133781_12441621', '69500_6463427', '90590_8424797', '11131_1035132', '94922_8827738', '102475_9530166', '127998_11903764', '122493_11391796', '19712_1833170', '65794_6118834', '126046_11722229', '51461_4785844', '135489_12600433', '91785_8536006', '127206_11830133', '40627_3778294', '5607_521448', '3433_319236', '48348_4496318', '57173_5317004', '23291_2166017', '133781_12441628', '82895_7709199', '128714_11970346', '68014_6325275', '121805_11327824', '136017_12649521', '70830_6587147', '72967_6785888', '82765_7697066', '77032_7163967', '69981_6508190', '80852_7519208', '171029_15905634', '43042_4002895', '147236_13692864', '128184_11921059', '112227_10437045', '91011_8463953', '66112_6148392', '14585_1356383', '95750_8904747', '47811_4446394', '22872_2127034', '133457_12411463', '90744_8439118', '169966_15806785', '125027_11627477', '26322_2447867', '1486_138146', '7785_723938', '18990_1766007', '153478_14273415', '44651_4152498', '139086_12934962', '85754_7975087', '69266_6441714', '25811_2400391', '46983_4369420', '117549_10932058', '131683_12246483', '131683_12246482', '47899_4454569', '32097_2984983', '7955_739783', '94725_8809425', '61579_5726824', '21786_2026078', '94725_8809349', '6419_596899', '57688_5364947', '28846_2682608', '122810_11421290', '85622_7962786', '263263_24483421', '90925_8455972', '12319_1145656', '21256_1976809', '130568_12142790', '51038_4746491', '110322_10259946', '43487_4044211', '71389_6639156', '116057_10793229', '53529_4978119', '43256_4022724', '4181_388827', '50539_4700052', '80657_7501034', '85015_7906375', '100706_9365652', '7890_733746', '121318_11282560', '22382_2081445', '87437_8131592', '122060_11351560', '134159_12476742', '57379_5336163', '136561_12700168', '12278_1141836', '130019_12091697', '136063_12653854', '40244_3742655', '30693_2854445', '50123_4661414', '162236_15087942', '92007_8556650', '207853_19330250', '18951_1762413', '67041_6234758', '91711_8529040', '52562_4888183', '88659_8245278', '69680_6480185', '91180_8479718', '35271_3280137', '111051_10327666', '107838_10028888', '102610_9542681', '12024_1118195', '135272_12580284', '191167_17778463', '104087_9680074', '73876_6870413', '99136_9219598', '92221_8576534', '127444_11852292', '128570_11956995', '107004_9951294', '41769_3884470', '106921_9943648', '32719_3042867', '78766_7325172', '127048_11815389', '124954_11620662', '1133_105349', '65774_6116939', '130984_12181436', '165212_15364686', '21544_2003564', '134989_12553944', '93371_8683451', '122635_11404988', '97830_9098156', '33790_3142388', '85682_7968364', '113268_10533866', '43201_4017625', '138642_12893623', '125925_11710940', '94302_8770069', '2786_259074', '87600_8146764', '30197_2808238', '23197_2157285', '28076_2611051', '3943_366633', '37644_3500868', '5492_510735', '7158_665692', '77835_7238615', '135272_12580266', '58082_5401626', '51388_4779064', '47269_4395941', '19362_1800637', '19712_1833180', '38832_3611295', '74166_6897369', '41044_3817027', '113606_10565312', '76053_7072853', '194434_18082299', '83934_7805780', '94948_8830151', '36283_3374255', '80242_7462426', '122027_11348466', '116541_10838235', '80011_7441017', '120299_11187747', '168079_15631331', '138845_12912508', '63438_5899694', '100470_9343653', '3129_290986', '123471_11482736', '224043_20835992', '20270_1885034', '35122_3266322', '105471_9808788', '24860_2311948', '52727_4903543', '194434_18082361', '149244_13879611', '101243_9415574', '36748_3417497', '26461_2460809', '124792_11605574', '131808_12258082', '15821_1471354', '138846_12912641', '1381_128358', '67096_6239912', '136706_12713584', '298051_27718700', '261130_24285063', '88956_8272879', '401_37226', '81018_7534607', '80709_7505936', '67085_6238885', '140071_13026592', '160199_14898449', '23721_2206008', '107838_10028870', '75492_7020712', '115889_10777659', '23291_2166003', '81667_7594976', '124954_11620640', '76865_7148372', '78854_7333393', '133255_12392689', '123599_11494649', '34656_3223000', '135916_12640110', '16999_1580906', '135916_12640112', '82895_7709231', '118986_11065649', '84402_7849305', '120892_11242906', '27988_2602874', '74329_6912530', '80206_7459092', '71253_6626500', '110990_10322071', '126154_11732270', '70623_6567936', '122804_11420703', '90661_8431388', '34349_3194456', '185140_17217979', '185140_17217978', '2810_261303', '23058_2144317', '25653_2385708', '66948_6226137', '40766_3791153', '9962_926454', '100752_9369883', '138286_12860597', '37888_3523543', '67262_6255359', '111051_10327689', '89600_8332717', '94934_8828784', '75818_7051046', '6117_568833', '125838_11702867', '72694_6760511', '119297_11094608', '129094_12005696', '134256_12485725', '85622_7962834', '25280_2351018', '112707_10481676', '108850_10123041', '309461_28779831', '130243_12112519', '96774_8999932', '9518_885111', '90744_8439174', '139838_13004881', '113896_10592310', '73091_6797403', '43256_4022735', '127133_11823306', '127192_11828797', '10862_1010144', '57571_5354033', '101587_9447565', '136732_12716024', '167135_15543491', '170638_15869288', '19229_1788262', '19229_1788260', '57545_5351622', '35074_3261818', '27511_2558438', '86073_8004726', '149064_13862945', '190177_17686414', '15675_1457738', '116688_10851937', '165926_15431077', '165926_15431074', '79052_7351823', '90754_8440113', '4038_375527', '122131_11358173', '50771_4721662', '9518_885165', '126772_11789724', '98661_9175400', '183643_17078719', '4535_421745', '2081_193472', '134321_12491782', '17922_1666666', '21521_2001422', '37178_3457529', '34426_3201541', '31256_2906781', '124394_11568616', '80506_7486986', '10669_992148', '15466_1438331', '87154_8105304', '55503_5161770', '121652_11313630', '127444_11852237', '139023_12929129', '64016_5953487', '147418_13709839', '6040_561681', '131086_12190957', '139683_12990471', '100565_9352489', '69111_6427277', '78205_7272989'])\n",
      "NEXT\n",
      "set(['34103_3171548', '135475_12599118', '81008_7533737', '106137_9870711', '5065_470989', '24592_2286971', '4033_375014', '20818_1936007', '94565_8794535', '9753_906945', '6066_564131', '27424_2550420', '41261_3837258', '16449_1529730', '32898_3059500', '31061_2888668', '23061_2144590', '11266_1047716', '115466_10738287', '103539_9629055', '63242_5881441', '7467_694421', '2889_268675', '84748_7881540', '85106_7914820', '96009_8928788', '37786_3514094', '80181_7456783', '136028_12650539', '4207_391228', '40994_3812376', '156195_14526064', '83201_7737675', '98577_9167627', '131662_12244508', '57164_5316172', '11949_1111193', '13924_1294853', '127307_11839481', '21095_1961782', '49189_4574538', '143186_13316258', '111969_10413091', '35513_3302654', '18422_1713216', '53334_4960056', '49362_4590667', '130233_12111620', '151451_14084864', '131675_12245766', '39869_3707790', '46472_4321857', '94986_8833637', '244089_22700197', '43447_4040487', '83073_7725752', '86645_8057930', '95806_8909914', '81266_7557705', '28713_2670253', '100056_9305182', '64975_6042596', '6048_562447', '20144_1873379', '17832_1658306', '91838_8540892', '129303_12025151', '13699_1273958', '124146_11545533', '9623_894918', '29892_2779938', '25854_2404339', '34018_3163594', '18981_1765166', '29286_2723546', '14432_1342160', '95123_8846402', '199076_18514013', '52812_4911494', '42993_3998344', '195705_18200538', '150214_13969900', '66284_6164339', '76367_7102057', '106194_9876034', '15000_1394997', '90030_8372733', '22156_2060454', '5089_473251', '118205_10993037', '28534_2653614', '31414_2921433', '86470_8041671', '49150_4570925', '77519_7209245', '105572_9818170', '140175_13036199', '139491_12972593', '54779_5094394', '106980_9949140', '32039_2979577', '24954_2320692', '21638_2012323', '139109_12937126', '26142_2431191', '7081_658498', '94207_8761188', '82251_7649324', '34031_3164862', '47585_4425386', '51782_4815712', '54611_5078745', '51458_4785595', '56603_5264040', '124288_11558740', '163706_15224589', '44367_4126110', '41532_3862451', '43897_4082366', '129129_12008992', '31414_2921440', '84658_7873188', '149643_13916775', '129908_12081428', '89543_8327498', '93527_8698005', '60585_5634351', '90182_8386884', '84658_7873186', '30480_2834625', '101_9387', '112195_10434074', '125902_11708802', '114264_10626545', '19791_1840542', '64284_5978333', '8254_767569', '16356_1521109', '130125_12101564', '125106_11634786', '48637_4523226', '40490_3765534', '9645_896949', '123728_11506686', '112195_10434071', '94529_8791174', '82637_7685157', '14999_1394882', '39309_3655707', '53274_4954422', '28337_2635302', '313_29101', '106505_9904945', '118281_11000084', '69842_6495305', '42607_3962370', '93527_8697926', '2618_243415', '153698_14293903', '14700_1367051', '48055_4469098', '49017_4558561', '54797_5096077', '48103_4473572', '125091_11633378', '29286_2723586', '134783_12534767', '81526_7581859', '36815_3423774', '96727_8995527', '16614_1545084', '94338_8773354', '22089_2054218', '41538_3863007', '19904_1850996', '135285_12581468', '111774_10394975', '4_343', '41482_3857741', '12708_1181793', '79005_7347396', '58079_5401311', '82693_7690437', '15648_1455262', '153558_14280818', '50426_4689550', '43902_4082824', '125181_11641810', '74048_6886421', '66186_6155233', '102030_9488767', '33668_3131125', '102030_9488764', '130653_12150686', '25037_2328441', '133903_12452936', '120541_11210304', '126681_11781293', '64997_6044686', '10447_971543', '39103_3636557', '4662_433544', '2019_187714', '132388_12312010', '7856_730592', '110952_10318523', '89777_8349232', '31845_2961513', '88241_8206388', '9111_847262', '28092_2612487', '114567_10654671', '133786_12442060', '1064_98926', '27656_2571994', '69822_6493396', '17680_1644229', '61181_5689822', '139109_12937115', '6744_627140', '127711_11877072', '63439_5899823', '9832_914339', '63818_5935051', '136796_12721974', '89543_8327433', '87819_8167112', '70895_6593152', '85845_7983553', '88241_8206369', '124690_11596165', '124690_11596166', '18653_1734715', '120541_11210287', '41099_3822167', '20358_1893266', '129589_12051758', '71847_6681688', '16914_1572991', '52708_4901760', '48097_4472947', '107143_9964250', '51458_4785558', '128595_11959298', '144026_13394376', '100334_9331034', '135848_12633825', '96366_8962035', '83509_7766279', '91072_8469617', '121162_11268020', '17858_1660733', '138178_12850527', '77453_7203047', '85386_7940848', '62441_5806984', '26606_2474353', '87940_8178364', '127163_11826083', '36503_3394738', '93689_8713070', '138851_12913086', '115925_10781026', '85580_7958885', '101980_9484090', '82693_7690365', '14482_1346790', '28850_2682982', '33603_3125047', '63282_5885158', '6744_627141', '33905_3153148', '72160_6710804', '94080_8749409', '61729_5740729', '120212_11179650', '139444_12968209', '49189_4574577', '109964_10226641', '15161_1409943', '71429_6642833', '107182_9967872', '127377_11846037', '144185_13409130', '40342_3751760', '118100_10983240', '101790_9466390', '69842_6495242', '93329_8679598', '102742_9554976', '25673_2387538', '71134_6615404', '240_22291', '107266_9975719', '6506_604981', '92509_8603295', '42797_3980094', '22481_2090658', '176828_16444986', '26924_2503887', '44817_4167950', '125614_11682093', '123567_11491658', '51209_4762370', '430_39965', '80971_7530289', '55509_5162330', '44083_4099692', '73087_6797009', '30002_2790168', '26382_2453442', '55756_5185253', '129971_12087298', '111946_10410966', '27799_2585262', '111774_10394947', '63988_5950819', '1134_105453', '9282_863178', '48835_4541584', '13805_1283785', '94318_8771548', '12022_1117977', '15881_1476880', '49335_4588140', '44162_4107029', '137818_12816995', '85746_7974350', '118205_10992985', '137068_12747308', '61419_5711884', '62067_5772194', '110061_10235610', '107963_10040474', '89577_8330660', '114546_10652724', '134878_12543653', '11266_1047734', '27283_2537275', '78408_7291885', '87362_8124655', '60610_5636674', '30181_2806800', '3267_303784', '90503_8416733', '138238_12856113', '111135_10335517', '44367_4126078', '103945_9666808', '12996_1208592', '15305_1423365', '87513_8138689', '26541_2468232', '78774_7325928', '123481_11483714', '73388_6825016', '1637_152167', '120251_11183305', '27290_2537928', '22342_2077782', '121923_11338798', '78408_7291876', '738_68610', '127163_11826092', '12338_1147403', '62374_5800773', '33991_3161105', '23378_2174069', '128438_11944672', '15014_1396274', '5311_493885', '133605_12425204', '123962_11528417', '23374_2173762', '50637_4709159', '102742_9554995', '47_4303', '23778_2211290', '17449_1622721', '115149_10708806', '2902_269884', '76547_7118832', '1408_130892', '118551_11025213', '123776_11511105', '12541_1166247', '107963_10040500', '12832_1193366', '87212_8110635', '37401_3478237', '86203_8016875', '93040_8652714', '140080_13027417', '49542_4607400', '76146_7081534', '208263_19368431', '122296_11373471', '66490_6183538', '116186_10805219', '14824_1378552', '106976_9948686', '80897_7523413', '1293_120222', '91135_8475520', '2383_221581', '101559_9444973', '2383_221583', '75006_6975546', '120212_11179660', '30271_2815196', '162806_15140940', '85580_7958938', '114158_10616686', '85301_7932980', '136244_12670688', '23150_2152934', '66424_6177407', '80017_7441573', '48190_4481589', '47661_4432419', '123070_11445464', '3398_315997', '4033_375031', '13020_1210804', '133706_12434641', '47036_4374332', '115342_10726791', '144329_13422594', '56362_5241619', '26903_2501957', '35279_3280942', '34773_3233886', '29563_2749303', '135337_12586290', '86394_8034581', '147835_13748652', '171813_15978587', '129027_11999509', '56593_5263128', '106566_9910639', '82098_7635060', '24704_2297422', '24233_2253670', '352_32724', '81130_7545018', '2902_269854', '49335_4588138', '49362_4590634', '304146_28285578', '92315_8585219', '27458_2553583', '80017_7441497', '15046_1399274', '13924_1294872', '4966_461834', '104167_9687485', '66074_6144812', '79460_7389720', '83616_7776253', '134472_12505837', '2884_268211', '66106_6147792', '39155_3641354', '16462_1530955', '127340_11842560', '96009_8928755', '127947_11899018', '102591_9540963', '42530_3955255', '2333_216943', '91717_8529644', '61178_5689523', '13699_1273933', '78533_7303549', '45613_4241994', '33841_3147159', '102179_9502635', '33603_3125069', '134824_12538561', '75693_7039433', '19840_1845116', '40342_3751782', '70573_6563245', '231991_21575100', '39243_3649525', '109339_10168505', '72615_6753128', '106294_9885326', '120818_11236020', '75343_7006877', '63546_5909770', '78545_7304654', '14018_1303593', '6585_612335', '62388_5802003', '127090_11819365', '73486_6834145', '151081_14050507', '48633_4522838', '99024_9209220', '132000_12275934', '106194_9876017', '20975_1950614', '68332_6354801', '22156_2060439', '76763_7138896', '158467_14737375', '73521_6837419', '41560_3865062', '146246_13600872', '106678_9921038', '135909_12639466', '106980_9949121', '1659_154249', '98060_9119525', '9066_843114', '101643_9452725', '24954_2320716', '134783_12534814', '4961_461332', '34412_3200304', '36186_3365251', '139472_12970874', '80408_7477897', '21638_2012277', '7284_677364', '139673_12989544', '20711_1926124', '100040_9303693', '90638_8429322', '39217_3647125', '130653_12150664', '82098_7635029', '241965_22502742', '135037_12558368', '155084_14422739', '10532_979414', '11408_1060893', '57612_5357901', '62441_5806987', '65504_6091865', '204542_19022324', '9753_906952', '98857_9193646', '122109_11356117', '115925_10781025', '109964_10226643', '146246_13600820', '83201_7737684', '93040_8652673', '68470_6367649', '23805_2213799', '142879_13287666', '47182_4387877', '155916_14500165', '6151_572027', '36118_3358969', '35167_3270504', '71370_6637384', '79852_7426159', '156195_14526116', '118565_11026473', '104378_9707108', '103945_9666815', '93268_8673845', '84773_7883881', '115233_10716620', '133605_12425197', '54650_5082384', '55454_5157158', '125710_11691019', '94088_8750140', '86243_8020563', '55973_5205433', '86243_8020567', '27978_2601869', '55973_5205438', '17046_1585239', '204542_19022392', '22691_2110238', '93392_8685416', '54001_5022062', '204367_19006094', '159641_14846560', '41918_3898359', '123578_11492734', '50344_4681991', '31254_2906538', '178259_16578038', '40552_3771314', '19434_1807339', '65333_6075916', '128307_11932546', '21652_2013570', '33883_3151091', '176828_16444921', '127321_11840819', '76160_7082880', '34944_3249772', '131975_12273635', '75933_7061722', '82615_7683191', '57015_5302337', '134855_12541493', '134855_12541494', '3461_321844', '21665_2014763', '26238_2440096', '9770_908564', '100056_9305198', '133527_12417928', '129767_12068307', '49678_4619985', '129801_12071424', '77689_7225054', '133236_12390937', '106678_9920991', '40606_3776336', '19868_1847699', '88829_8261086', '9498_883253', '93392_8685380', '75343_7006847', '151812_14118472', '33905_3153162', '8824_820575', '5075_471904', '75449_7016703', '48605_4520225', '44087_4100086', '82715_7692487', '81802_7607568', '71980_6694078', '138920_12919498', '55674_5177675', '136135_12660534', '208263_19368396', '110268_10254883', '65650_6105427', '54616_5079233', '8499_790403', '154413_14360372', '183784_17091882', '83404_7756517', '5906_549238', '118189_10991536', '5800_539369', '101825_9469691', '41655_3873874', '120810_11235331', '170494_15855877', '115058_10700310', '5368_499189', '119747_11136470', '4662_433497', '48242_4486468', '35167_3270469', '126274_11743470', '60610_5636723', '131382_12218468', '36503_3394780', '181307_16861517', '77838_7238920', '93268_8673915', '34205_3181055', '129681_12060266', '101643_9452771', '115944_10782718', '123567_11491706', '33114_3079534', '38225_3554865', '123475_11483147', '4036_375290', '133725_12436410', '15785_1467920', '39981_3718214', '84635_7870997', '85955_7993742', '133786_12442018', '77689_7225050', '31061_2888624', '164446_15293468', '103431_9619072', '129682_12060410', '26903_2501959', '101616_9450214', '114873_10683151', '5688_528951', '139673_12989512', '20144_1873331', '125125_11636562', '125125_11636563', '43340_4030599', '7558_702841', '108346_10076144', '190357_17703178', '23410_2177108', '86119_8009003', '81980_7624124', '81980_7624123', '57015_5302371', '133392_12405384', '17741_1649870', '28092_2612512', '26238_2440059', '14824_1378560', '239144_22240358', '102630_9544548', '85040_7908656', '139780_12999540', '42607_3962382', '126284_11744366', '121416_11291674', '57742_5369935', '97980_9112077', '82883_7708074', '96480_8972618', '86479_8042523', '82715_7692459', '17741_1649893', '43340_4030596', '49873_4638156', '91345_8495033', '139414_12965464', '138504_12880819', '66468_6181489', '97089_9029218', '15141_1408084', '57970_5391204', '131990_12275000', '94207_8761208', '63562_5911200', '125229_11646277', '92314_8585151', '83616_7776282', '134324_12492114', '132234_12297743', '134782_12534698', '69502_6463628', '3148_292696', '21907_2037290', '50426_4689545', '74826_6958756', '36412_3386311', '8639_803383', '138770_12905531', '54391_5058297', '131696_12247687', '38134_3546450', '56858_5287788', '74772_6953797', '158613_14750982', '84149_7825858', '123466_11482288', '136206_12667077', '112324_10446133', '142827_13282860'])\n",
      "NEXT\n",
      "set(['116379_10823247', '6979_648966', '36733_3416100', '19679_1830103', '126884_11800197', '66123_6149355', '91789_8536299', '38149_3547791', '31204_2901971', '134165_12477279', '107230_9972358', '108777_10116248', '135432_12595134', '63053_5863877', '38892_3616890', '56566_5260587', '96017_8929543', '57160_5315827', '106993_9950305', '111142_10336205', '96746_8997361', '25098_2334089', '152431_14176081', '127022_11813043', '20733_1928162', '11082_1030601', '8775_816014', '76250_7091200', '11522_1071490', '228766_21275219', '134351_12494569', '12400_1153161', '30717_2856621', '124129_11543987', '4150_385899', '90313_8399092', '28756_2674254', '6153_572182', '70944_6597743', '16601_1543842', '88598_8239536', '98577_9167627', '12307_1144488', '11949_1111193', '40843_3798369', '83911_7803643', '125390_11661252', '1110_103216', '120558_11211857', '72840_6774081', '62369_5800314', '16170_1503752', '116966_10877786', '85429_7944841', '32542_3026379', '139475_12971118', '66210_6157487', '46397_4314865', '51877_4824511', '68325_6354196', '116337_10819284', '2793_259698', '30494_2835909', '52952_4924479', '72427_6735698', '92413_8594359', '133772_12440746', '90472_8413811', '36324_3378082', '57298_5328707', '1933_179726', '126008_11718690', '151621_14100742', '8591_798949', '116703_10853304', '1681_156316', '120900_11243693', '78854_7333393', '77702_7226225', '70485_6555058', '154472_14365837', '81579_7586829', '23556_2190641', '33585_3123390', '137503_12787700', '19606_1823277', '35716_3321547', '187670_17453266', '18981_1765166', '77850_7240046', '128969_11994045', '14346_1334167', '71882_6684983', '86939_8085267', '77860_7240924', '136353_12680759', '111336_10354208', '304904_28356072', '63305_5887280', '148760_13834660', '55185_5132147', '80690_7504089', '84435_7852423', '68271_6349185', '84435_7852427', '86470_8041671', '28635_2663028', '139491_12972593', '3651_339516', '136877_12729508', '32060_2981570', '100357_9333125', '69338_6448434', '30332_2820792', '50291_4677010', '2504_232828', '130446_12131466', '51766_4814176', '138445_12875370', '52117_4846837', '46951_4366403', '10991_1022099', '161332_15003863', '103533_9628486', '46748_4347562', '35209_3274404', '142292_13233116', '35209_3274406', '127022_11813040', '14669_1364197', '30619_2847512', '38409_3571989', '121432_11293154', '43612_4055833', '97916_9106189', '73305_6817349', '28885_2686256', '33047_3073298', '50291_4676981', '91014_8464300', '79396_7383791', '41795_3886870', '40380_3755276', '50252_4673437', '118991_11066152', '84086_7819924', '97851_9100100', '21429_1992845', '32965_3065741', '73817_6864960', '9177_853415', '35193_3272947', '34344_3193978', '71828_6679950', '34304_3190234', '124836_11609711', '135530_12604234', '6356_591100', '7598_706579', '21109_1963103', '138072_12840634', '96777_9000216', '12708_1181793', '21521_2001445', '35546_3305732', '68073_6330772', '31138_2895776', '91815_8538735', '157847_14679733', '52409_4873998', '145494_13530927', '106805_9932831', '52233_4857620', '132791_12349523', '78982_7345288', '133399_12406080', '95994_8927412', '14780_1374496', '128648_11964218', '67429_6270844', '81415_7571592', '130720_12156957', '147013_13672171', '104229_9693274', '42458_3948589', '137818_12816995', '41044_3817055', '157_14519', '23145_2152412', '91853_8542293', '91581_8517015', '102894_9569122', '100708_9365788', '53766_5000165', '29245_2719702', '68466_6367269', '48047_4468307', '80655_7500880', '5835_542587', '89448_8318593', '127147_11824603', '82364_7659834', '122532_11395410', '70398_6547001', '87841_8169170', '76208_7087284', '92413_8594400', '26950_2506313', '12727_1183552', '64997_6044686', '13048_1213412', '126271_11743158', '53115_4939647', '13548_1259903', '39103_3636557', '135975_12645641', '56219_5228316', '139698_12991879', '134611_12518804', '36444_3389233', '28092_2612487', '68110_6334171', '69822_6493396', '75539_7025056', '157997_14693695', '39375_3661819', '127569_11863858', '106993_9950277', '33047_3073286', '48725_4531374', '9832_914339', '47318_4400546', '132365_12309895', '1110_103198', '7319_680639', '117709_10946920', '36003_3348221', '135986_12646678', '37929_3527340', '50600_4705722', '135150_12568884', '104961_9761317', '88986_8275695', '2470_229683', '121608_11309470', '96577_8981599', '477_44295', '13110_1219212', '57803_5375613', '130764_12160979', '3909_363460', '129813_12072573', '16914_1572991', '22853_2125286', '10041_933756', '50426_4689550', '613_56948', '71200_6621600', '26578_2471681', '130388_12126012', '6404_595521', '51877_4824562', '106044_9862078', '24040_2235652', '131289_12209839', '14209_1321422', '55836_5192678', '35612_3311904', '62842_5844251', '113360_10542413', '133084_12376783', '55187_5132314', '41024_3815162', '36503_3394738', '6422_597217', '3866_359457', '57050_5305598', '120385_11195805', '114326_10632250', '10961_1019308', '7598_706544', '110893_10313049', '78829_7331048', '137061_12746655', '94330_8772653', '16684_1551572', '21548_2003946', '22985_2137591', '81526_7581859', '48047_4468346', '33603_3125047', '8148_757726', '130528_12139054', '35343_3286857', '10603_986068', '4546_422771', '82526_7674910', '71882_6684993', '63454_5901185', '139790_13000461', '100232_9321535', '80690_7504094', '52053_4840901', '107266_9975719', '84714_7878350', '15191_1412711', '67564_6283401', '53196_4947211', '30494_2835886', '1300_120881', '39564_3679408', '44964_4181608', '112303_10444132', '42421_3945117', '80971_7530289', '63053_5863922', '3909_363518', '26031_2420853', '40402_3757328', '886_82363', '36645_3407951', '80504_7486816', '19229_1788262', '1608_149532', '150115_13960646', '6185_575190', '118868_11054696', '130779_12162390', '970_90137', '77314_7190174', '136516_12695947', '162943_15153695', '162943_15153699', '115906_10779177', '13548_1259959', '51808_4818063', '59908_5571386', '119272_11092215', '51407_4780781', '65350_6077543', '12981_1207155', '135432_12595149', '131029_12185663', '137068_12747308', '100218_9320244', '92394_8592575', '18559_1725915', '133840_12447068', '18559_1725917', '21429_1992857', '176470_16411709', '37206_3460114', '84583_7866165', '113583_10563218', '87750_8160671', '66186_6155296', '76087_7076015', '1130_105059', '151621_14100669', '23540_2189190', '21661_2014433', '35193_3272934', '136985_12739552', '36573_3401214', '116817_10863957', '162682_15129345', '138238_12856113', '65549_6096043', '128450_11945834', '30191_2807705', '130137_12102699', '32520_3024322', '64997_6044652', '36444_3389293', '64073_5958747', '105720_9831943', '48920_4549523', '22342_2077782', '23678_2202018', '19895_1850177', '114326_10632312', '66322_6167869', '62916_5851187', '78706_7319627', '13928_1295268', '166322_15467920', '127175_11827272', '21799_2027223', '112593_10471127', '139599_12982653', '47583_4425207', '41234_3834714', '37903_3524894', '137155_12755406', '100259_9324034', '805_74804', '34073_3168763', '65549_6096034', '34137_3174707', '50802_4724513', '139812_13002470', '111703_10388333', '40461_3762829', '55218_5135220', '107695_10015569', '6911_642645', '6661_619444', '104438_9712661', '39564_3679367', '1850_171988', '81475_7577168', '50048_4654449', '137896_12824278', '302128_28097841', '38255_3557653', '66490_6183538', '79146_7360559', '73049_6793500', '41578_3866678', '53114_4939593', '81367_7567061', '28535_2653739', '106382_9893473', '89311_8305868', '85528_7954057', '13731_1276973', '27824_2587565', '148661_13825469', '16156_1502466', '153073_14235772', '77835_7238630', '138124_12845461', '97552_9072280', '15808_1470111', '241216_22433063', '101446_9434456', '105679_9828113', '53522_4977516', '49641_4616606', '23741_2207830', '137231_12762413', '78530_7303286', '73305_6817311', '35612_3311846', '21830_2030132', '46235_4299780', '116786_10861045', '86478_8042435', '16498_1534241', '135337_12586290', '126382_11753497', '135860_12634971', '8473_787923', '85010_7905915', '162970_15156134', '10961_1019364', '43912_4083754', '352_32724', '28076_2611051', '109557_10188802', '109557_10188801', '119172_11082996', '33776_3141118', '121608_11309463', '50246_4672853', '115108_10705010', '78819_7330111', '52292_4863128', '135249_12578115', '6980_649132', '85316_7934308', '83795_7792910', '122865_11426420', '14526_1350894', '12418_1154875', '131139_12195842', '25777_2397254', '74882_6963985', '29416_2735646', '107211_9970549', '4532_421469', '31046_2887273', '886_82385', '91935_8549951', '79651_7407507', '99928_9293245', '70231_6531422', '82998_7718797', '4546_422718', '304904_28356068', '76090_7076317', '40172_3735946', '263263_24483421', '187976_17481765', '153101_14238312', '116883_10870120', '50399_4687044', '128648_11964244', '113356_10542084', '30405_2827637', '118384_11009679', '78044_7258061', '98295_9141410', '104143_9685219', '68073_6330717', '30703_2855360', '64554_6003444', '86223_8018718', '138987_12925761', '38992_3626199', '15192_1412800', '57411_5339223', '108536_10093829', '62100_5775299', '12004_1116332', '46343_4309845', '29382_2732493', '28092_2612512', '27025_2513264', '13360_1242426', '29951_2785418', '157353_14633798', '120820_11236182', '11712_1089187', '46544_4328562', '130764_12161033', '50048_4654409', '41251_3836278', '120856_11239572', '121600_11308763', '125702_11690267', '54548_5072949', '46779_4350417', '92795_8629858', '26978_2508916', '33272_3094232', '78910_7338586', '52038_4839526', '98376_9148887', '54027_5024479', '48068_4470290', '84725_7879367', '158467_14737375', '49568_4609790', '54484_5066983', '31065_2889038', '133517_12417023', '21944_2040766', '25777_2397251', '21976_2043694', '68961_6413369', '138625_12892122', '137710_12807022', '68544_6374533', '135192_12572813', '9066_843114', '18862_1754088', '52248_4859014', '15229_1416260', '87440_8131852', '96548_8978915', '50085_4657835', '90302_8398017', '64284_5978363', '121600_11308777', '114202_10620709', '133840_12447107', '74832_6959341', '50841_4728142', '33190_3086592', '96069_8934384', '66794_6211784', '16118_1498894', '115906_10779209', '49486_4602178', '111613_10379999', '10302_958044', '6356_591076', '133240_12391316', '18773_1745838', '38418_3572815', '80958_7529011', '26376_2452889', '127793_11884713', '9219_857340', '30405_2827651', '38149_3547820', '94553_8793384', '37469_3484593', '43901_4082766', '139160_12941843', '128815_11979713', '70485_6555067', '137004_12741327', '135764_12626027', '79332_7377822', '165643_15404773', '117056_10886173', '124374_11566746', '115638_10754252', '44024_4094153', '112593_10471128', '94059_8747478', '113360_10542441', '20714_1926381', '115779_10767421', '122336_11377247', '100514_9347722', '2470_229665', '82998_7718796', '50281_4676096', '55973_5205433', '139218_12947206', '125269_11649994', '93663_8710650', '76611_7124783', '2793_259708', '121267_11277789', '80730_7507818', '126926_11804056', '139023_12929129', '79537_7396895', '77998_7253729', '85316_7934359', '41044_3817027', '29764_2767969', '69100_6426268', '76734_7136218', '18251_1697299', '79390_7383203', '122027_11348466', '68325_6354189', '5075_471904', '93799_8723283', '90976_8460714', '123256_11462780', '138845_12912508', '106371_9892472', '2463_229048', '29183_2713984', '8183_760946', '148126_13775695', '50399_4687042', '7964_740599', '47_4297', '109134_10149403', '37675_3503743', '444_41214', '110550_10281135', '45023_4187084', '86896_8081316', '104905_9756154', '133337_12400310', '15229_1416228', '86601_8053865', '24284_2258389', '117352_10913709', '37457_3483431', '25759_2395527', '3726_346510', '113356_10542027', '34446_3203466', '78445_7295300', '63829_5936058', '117709_10946884', '128332_11934837', '80709_7505936', '83556_7770646', '10224_950799', '46544_4328522', '80655_7500877', '101758_9463480', '155931_14501545', '10583_984198', '62833_5843402', '76865_7148372', '118990_11066056', '75553_7026356', '67937_6318091', '28490_2649494', '43056_4004188', '70009_6510806', '53574_4982356', '62833_5843401', '54179_5038622', '20880_1941816', '106093_9866593', '14013_1303134', '121991_11345104', '120807_11235038', '20733_1928136', '130718_12156762', '34073_3168750', '82040_7629652', '131720_12249890', '52639_4895355', '117479_10925487', '41751_3882833', '107695_10015553', '20880_1941813', '20417_1898708', '4935_458930', '87841_8169157', '122804_11420703', '35092_3263480', '113400_10546155', '91121_8474214', '36503_3394780', '41234_3834693', '72372_6730554', '95921_8920579', '113827_10585842', '138227_12855102', '52292_4863152', '138227_12855105', '30249_2813144', '131315_12212249', '135530_12604220', '39981_3718214', '110893_10312994', '51459_4785663', '103283_9605248', '65800_6119342', '113552_10560257', '119385_11102801', '120376_11194893', '102354_9518869', '12494_1161926', '163292_15186079', '137231_12762402', '68699_6388988', '74559_6933958', '55218_5135193', '89203_8295832', '102179_9502635', '83194_7736980', '106376_9892887', '80971_7530297', '39591_3681923', '36573_3401236', '196794_18301765', '83795_7792925', '88367_8218094', '51169_4758641', '130002_12090160', '49722_4624108', '91790_8536431', '96290_8954889', '99180_9223719', '135234_12576714', '113896_10592310', '85661_7966423', '85661_7966424', '102398_9522962', '24224_2252809', '7597_706471', '134590_12516793', '129865_12077438', '111149_10336782', '123710_11505007', '121501_11299571', '19229_1788260', '43154_4013301', '33603_3125069', '153667_14291005', '129783_12069779', '38672_3596415', '14846_1380604', '2278_211785', '96763_8998915', '129338_12028378', '98857_9193646', '133934_12455840', '79627_7405277', '73346_6821108', '7846_729678', '123826_11515778', '157538_14651023', '54484_5066954', '92412_8594303', '128987_11995724', '82994_7718386', '18085_1681860', '44117_4102854', '132365_12309887', '50426_4689545', '130002_12090117', '63317_5888427', '79627_7405293', '72615_6753128', '14760_1372676', '75181_6991760', '43298_4026660', '162970_15156143', '128333_11934963', '132507_12323136', '112602_10471915', '89200_8295558', '158488_14739322', '9450_878767', '65978_6135950', '84988_7903800', '120362_11193662', '87235_8112797', '87235_8112795', '136695_12712598', '77835_7238615', '78205_7272989', '183643_17078719'])\n",
      "NEXT\n",
      "set(['34103_3171548', '135475_12599118', '33721_3136028', '18308_1702638', '100961_9389339', '24513_2279650', '138303_12862140', '75819_7051126', '43484_4043983', '57044_5305060', '116706_10853585', '30731_2857970', '48947_4552070', '68152_6338089', '135965_12644692', '36800_3422348', '135667_12616984', '122153_11360169', '99782_9279722', '133512_12416542', '116929_10874346', '55430_5154980', '250335_23281121', '34083_3169637', '203_18796', '92038_8559487', '55045_5119107', '85663_7966649', '3913_363897', '94948_8830143', '83790_7792468', '123119_11449989', '29856_2776572', '114242_10624488', '121334_11284050', '54837_5099808', '23215_2158914', '76603_7124038', '50347_4682189', '35931_3341552', '113115_10519695', '117505_10927962', '117105_10890738', '46832_4355326', '78422_7293235', '86209_8017434', '22780_2118521', '117453_10923109', '132223_12296660', '51493_4788769', '52766_4907214', '88717_8250621', '168878_15705574', '63562_5911239', '96074_8934853', '145527_13533993', '43709_4064910', '155041_14418756', '105572_9818170', '40037_3723420', '4552_423334', '107270_9976081', '106537_9907928', '114837_10679768', '13724_1276326', '138229_12855282', '148932_13850591', '111115_10333651', '26863_2498188', '100981_9391200', '45005_4185425', '40259_3744088', '122875_11427294', '38291_3561045', '39424_3666371', '46771_4349653', '46080_4285418', '25281_2351064', '83253_7742446', '83118_7729927', '95982_8926268', '42243_3928556', '35524_3303694', '46714_4344372', '122875_11427369', '125935_11711935', '133851_12448134', '14700_1367051', '32397_3012842', '31746_2952301', '147808_13746108', '44044_4096055', '106505_9904945', '102289_9512801', '21811_2028401', '111038_10326484', '7365_684895', '134972_12552312', '104698_9736849', '140749_13089633', '25992_2417250', '139029_12929676', '140749_13089632', '26376_2452958', '69120_6428086', '38033_3537064', '50853_4729281', '101870_9473910', '51554_4794448', '14324_1332105', '48229_4485229', '17391_1617300', '36528_3397104', '139382_12962504', '130674_12152600', '36081_3355472', '83790_7792428', '136220_12668386', '142838_13283887', '6647_618094', '135407_12592778', '6247_580919', '6647_618093', '295004_27435361', '68403_6361466', '14453_1344107', '8654_804821', '97634_9079942', '80413_7478339', '81052_7537768', '53188_4946478', '131115_12193677', '67563_6283311', '109427_10176712', '39030_3629713', '48368_4498214', '41266_3837657', '29847_2775741', '108935_10130893', '33559_3120968', '138108_12844019', '21333_1983939', '966_89813', '101674_9455668', '30793_2863677', '18404_1711504', '31934_2969792', '17552_1632308', '16566_1540568', '90441_8410996', '42537_3955921', '151271_14068135', '81637_7592182', '23016_2140468', '88948_8272122', '131842_12261303', '49762_4627809', '135778_12627332', '170638_15869288', '67512_6278589', '135848_12633825', '17403_1618417', '26900_2501644', '39108_3637010', '88920_8269517', '12737_1184461', '3913_363887', '38115_3544678', '120147_11173646', '25992_2417192', '46714_4344322', '124736_11600446', '7786_724056', '79233_7368592', '23699_2203922', '10089_938219', '54611_5078745', '133076_12376035', '129645_12056923', '72391_6732307', '104698_9736841', '83488_7764340', '532_49398', '88421_8223097', '38167_3549447', '130672_12152453', '61012_5674048', '91172_8478965', '13013_1210127', '151852_14122219', '134792_12535586', '97704_9086443', '101616_9450214', '46417_4316709', '1165_108341', '154391_14358335', '120989_11251976', '75707_7040722', '119523_11115614', '81192_7550824', '119584_11121293', '9319_866616', '44817_4167950', '116399_10825067', '56363_5241722', '125923_11710793', '11281_1049107', '92281_8582123', '26014_2419229', '6571_611037', '9522_885502', '12022_1117994', '106433_9898199', '43907_4083288', '20526_1908881', '25239_2347183', '38053_3538922', '44651_4152505', '163845_15237522', '96084_8935795', '135853_12634257', '46583_4332167', '38498_3580232', '82380_7661288', '36528_3397103', '102241_9508343', '118563_11026294', '27461_2553842', '28494_2649890', '28494_2649895', '74764_6953033', '26287_2444619', '67512_6278532', '43042_4002851', '253602_23584958', '115273_10720388', '115273_10720389', '151291_14070008', '113772_10580720', '113772_10580721', '29594_2752192', '86994_8090358', '10221_950486', '47758_4441442', '5058_470349', '26484_2462976', '93890_8731718', '30793_2863742', '91345_8495033', '67483_6275836', '46259_4302047', '39083_3634716', '107498_9997255', '47725_4438393', '85827_7981831', '21613_2009974', '102735_9554309', '91460_8505750', '38592_3588992', '196618_18285449', '130243_12112518', '45679_4248144', '124772_11603764', '144116_13402750', '194562_18094225', '107695_10015580', '132681_12339260', '38031_3536857', '133180_12385716', '26766_2489207', '16156_1502491', '89753_8346998', '9214_856848', '86302_8026072', '68428_6363805', '50411_4688179', '14613_1358950', '75628_7033323', '129801_12071434', '1776_165091', '118360_11007413', '106592_9912995', '28205_2623045', '132329_12306579', '1806_167912', '126628_11776338', '37212_3460701', '45826_4261799', '91065_8468992', '53796_5002997', '16156_1502464', '23361_2172489', '24371_2266482', '3433_319236', '106455_9900302', '122884_11428165', '118024_10976188', '91086_8470939', '65818_6121048', '31012_2884093', '42549_3956973', '47636_4430120', '129775_12069021', '25933_2411700', '98103_9123562', '78032_7256941', '4055_377070', '52029_4838654', '107681_10014320', '103769_9650444', '40413_3758350', '23736_2207409', '152802_14210502', '117813_10956593', '51538_4793032', '23215_2158984', '44651_4152498', '16566_1540615', '17950_1669306', '73049_6793501', '148932_13850633', '130623_12147856', '121891_11335809', '77290_7187940', '124259_11556087', '24851_2311062', '43785_4071920', '8585_798339', '33629_3127443', '16391_1524339', '34574_3215334', '72513_6743676', '45114_4195572', '72513_6743672', '130568_12142790', '31238_2905053', '37872_3522025', '42530_3955255', '47048_4375420', '32719_3042799', '20518_1908152', '104165_9687307', '24575_2285394', '124259_11556010', '4992_464218', '85306_7933431', '90533_8419535', '74782_6954704', '30515_2837812', '135670_12617252', '97059_9026444', '60990_5672038', '105791_9838501', '45926_4271081', '86501_8044564', '10360_963463', '151852_14122163', '90997_8462706', '87984_8182427', '19124_1778481', '81695_7597630', '136043_12651995', '135599_12610695', '7495_696992', '53188_4946484', '98052_9118808', '131756_12253277', '123279_11464920', '28264_2628497', '90997_8462718', '3307_307492', '192645_17915927', '102077_9493143', '17552_1632307', '130601_12145881', '83934_7805780', '117334_10911995', '90533_8419549', '72725_6763407', '55665_5176786', '13816_1284831', '133909_12453515', '71309_6631656', '88920_8269514', '138958_12923057', '32719_3042867', '27705_2576549', '133160_12383854', '27372_2545532', '134935_12548923', '160665_14941782', '47636_4430119', '88305_8212347', '47182_4387883', '26074_2424857', '8901_827725', '74764_6953038', '73068_6795271', '93534_8698592', '48126_4475646', '43867_4079608', '94088_8750140', '114930_10688448', '129472_12040832', '44670_4154249', '75906_7059236', '54985_5113587', '102786_9559097', '164608_15308469', '25830_2402178', '73330_6819609', '41143_3826254', '31254_2906538', '118842_11052236', '124581_11586024', '94948_8830151', '1776_165137', '9319_866638', '107375_9985804', '43907_4083339', '67685_6294685', '127967_11900878', '33883_3151091', '95342_8866782', '308499_28690407', '127442_11852085', '121581_11306949', '247885_23053278', '144740_13460807', '9152_851067', '41544_3863526', '9341_868654', '24860_2311948', '34551_3213170', '24371_2266423', '45493_4230810', '128804_11978726', '20554_1911447', '100165_9315307', '37166_3456372', '48947_4552011', '36866_3428464', '138466_12877288', '85947_7993001', '92407_8593794', '129410_12035074', '40301_3747913', '139062_12932704', '192645_17915963', '73288_6815732', '100650_9360448', '9374_871778', '137401_12778222', '160199_14898449', '119456_11109345', '32283_3002257', '29117_2707851', '85051_7909740', '36637_3407185', '39763_3697955', '295004_27435331', '137979_12832043', '4552_423309', '67803_6305596', '82635_7684989', '117334_10911977', '118351_11006578', '55503_5161770', '99221_9227502', '90232_8391518', '70759_6580540', '80206_7459092', '130273_12115369', '116238_10810122', '25608_2381509', '116238_10810127', '76273_7093390', '77188_7178425', '93747_8718424', '40089_3728239', '50665_4711803', '34022_3163972', '112921_10501604', '160159_14894769', '25933_2411733', '26863_2498217', '10273_955379', '25521_2373436', '130233_12111596', '130125_12101590', '18945_1761847', '17429_1620854', '46698_4342888', '93247_8671955', '253602_23584956', '127011_11811985', '126303_11746138', '42424_3945368', '15752_1464865', '123592_11494041', '61648_5733225', '100961_9389325', '139111_12937278', '119461_11109868', '35393_3291502', '137007_12741584', '130243_12112519', '42499_3952395', '51033_4746023', '58112_5404366', '45901_4268793', '5953_553567', '116713_10854272', '10483_974860', '11201_1041615', '160159_14894714', '241028_22415584', '93663_8710620', '5058_470334', '78811_7329417', '133844_12447439', '128075_11910943', '130033_12092988', '139452_12969025', '120234_11181697', '15675_1457738', '135670_12617308', '110104_10239607', '122884_11428186', '130544_12140584', '95660_8896326', '3956_367844', '129571_12050031', '15181_1411821', '82038_7629490', '7495_696962', '100650_9360374', '40089_3728197', '132149_12289836', '7108_661025', '46125_4289621', '100321_9329815', '80506_7486986', '69031_6419883', '6036_561310', '75664_7036732', '13724_1276277', '96803_9002636', '111885_10405281', '60688_5643932', '42424_3945393', '43785_4072003', '115649_10755275'])\n"
     ]
    }
   ],
   "source": [
    "for i in results:\n",
    "    for j in i:\n",
    "        print \"NEXT\"\n",
    "        print j\n",
    "    \n",
    "    "
   ]
  },
  {
   "cell_type": "code",
   "execution_count": 45,
   "metadata": {
    "collapsed": false
   },
   "outputs": [
    {
     "name": "stdout",
     "output_type": "stream",
     "text": [
      "Help on function delayed in module joblib.parallel:\n",
      "\n",
      "delayed(function, check_pickle=True)\n",
      "    Decorator used to capture the arguments of a function.\n",
      "    \n",
      "    Pass `check_pickle=False` when:\n",
      "    \n",
      "    - performing a possibly repeated check is too costly and has been done\n",
      "      already once outside of the call to delayed.\n",
      "    \n",
      "    - when used in conjunction `Parallel(backend='threading')`.\n",
      "\n"
     ]
    }
   ],
   "source": [
    "help(delayed)"
   ]
  },
  {
   "cell_type": "code",
   "execution_count": null,
   "metadata": {
    "collapsed": true
   },
   "outputs": [],
   "source": [
    "            #Parameter_dict['Pop_map'] = \"%s/%s\" % (root, fil)\n",
    "        #print fil\n",
    "        \n",
    "        XYset, ZWset = MISC.Super_SLM_finder(Parameter_dict, \"010\")\n",
    "        ### So add in here the SL_marker_finder function and capture the number of SL markers identified. \n",
    "        \n",
    "        XY_numbs.append(len(XYset))\n",
    "        ZW_numbs.append(len(ZWset))\n",
    "        \n",
    "        print popmap"
   ]
  },
  {
   "cell_type": "code",
   "execution_count": null,
   "metadata": {
    "collapsed": true
   },
   "outputs": [],
   "source": [
    "num_cores = multiprocessing.cpu_count()-1\n",
    "     \n",
    "results = Parallel(n_jobs=num_cores)(delayed(processInput)(i) for i in inputs)"
   ]
  },
  {
   "cell_type": "code",
   "execution_count": 35,
   "metadata": {
    "collapsed": false
   },
   "outputs": [
    {
     "name": "stdout",
     "output_type": "stream",
     "text": [
      "[709, 809, 789, 843, 830, 852, 812, 1136, 814, 830]\n",
      "[757, 553, 597, 679, 754, 680, 575, 688, 642, 509]\n",
      "0.936591809775\n",
      "1.46292947559\n",
      "1.3216080402\n",
      "1.24153166421\n",
      "1.10079575597\n",
      "1.25294117647\n",
      "1.41217391304\n",
      "1.6511627907\n",
      "1.26791277259\n",
      "1.63064833006\n"
     ]
    }
   ],
   "source": [
    "\n",
    "print XY_numbs\n",
    "print ZW_numbs\n",
    "\n",
    "for i in range(len(XY_numbs)):\n",
    "    print XY_numbs[i] / ZW_numbs[i]\n"
   ]
  },
  {
   "cell_type": "markdown",
   "metadata": {},
   "source": [
    "### The real assignments"
   ]
  },
  {
   "cell_type": "code",
   "execution_count": 36,
   "metadata": {
    "collapsed": false
   },
   "outputs": [
    {
     "name": "stdout",
     "output_type": "stream",
     "text": [
      "\n",
      "##### Using SNP heterozygosity approach #####\n",
      " \n",
      "Number of loci = 52351\n",
      "Number of samples = 19\n",
      "Number of loci with too few samples = 0\n",
      "Number of loci with low MAF = 0\n",
      "Number of loci with enough data = 52350\n",
      "Number of putative X linked snps = 864\n",
      "Number of putative X linked tags = 864\n",
      "Number of putative Z linked markers = 549\n",
      "Number of putative Z linked tags = 549\n",
      "\n",
      " ### DONE! ### \n",
      "\n",
      "\n",
      " ## After merging tags accross methods ## \n",
      "\n",
      "Final number of XY tags = 864\n",
      "Final number of ZW tags = 549\n",
      "Sex linked tags outputted to fastas 'Putative_XYlinked_makers.fa' and Putative_ZWlinked_makers.fa\n",
      "in the directory //home/djeffrie/Data/RADseq/Lpipiens/Lpip_all_stacks\n"
     ]
    }
   ],
   "source": [
    "Parameter_dict['Pop_map'] = \"/home/djeffrie/Data/RADseq/Lpipiens/P_val_calculations/Sex_info_LAR_SCO_kept_certain.txt\"\n",
    "\n",
    "XYset, ZWset = MISC.Super_SLM_finder(Parameter_dict, \"010\")"
   ]
  },
  {
   "cell_type": "code",
   "execution_count": 37,
   "metadata": {
    "collapsed": false
   },
   "outputs": [
    {
     "data": {
      "text/plain": [
       "1.5737704918032787"
      ]
     },
     "execution_count": 37,
     "metadata": {},
     "output_type": "execute_result"
    }
   ],
   "source": [
    "len(XYset)/len(ZWset)"
   ]
  }
 ],
 "metadata": {
  "kernelspec": {
   "display_name": "Python 2",
   "language": "python",
   "name": "python2"
  },
  "language_info": {
   "codemirror_mode": {
    "name": "ipython",
    "version": 2
   },
   "file_extension": ".py",
   "mimetype": "text/x-python",
   "name": "python",
   "nbconvert_exporter": "python",
   "pygments_lexer": "ipython2",
   "version": "2.7.10"
  }
 },
 "nbformat": 4,
 "nbformat_minor": 0
}
