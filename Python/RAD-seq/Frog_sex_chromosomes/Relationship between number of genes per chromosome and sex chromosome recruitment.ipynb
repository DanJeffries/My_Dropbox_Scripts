{
 "cells": [
  {
   "cell_type": "markdown",
   "metadata": {},
   "source": [
    "### Finding the number of genes on each chromosome in Xenopus."
   ]
  },
  {
   "cell_type": "markdown",
   "metadata": {},
   "source": [
    "So we have this pattern of some chromosomes being used for sex determination more often than others. . . but that could just reflect the number of genes that are present on each chromosome. \n",
    "\n",
    "So I want to make sure that there is no correlation between the number of genes and the number of species which use each chromosome.\n",
    "\n",
    "To do this I am looking at the gff3 of the X. tropicalis v.9.0 assembly. As synteny is so well conserver, the assumption is that the gene content of Ranids should be similar to that of X. tropicalis. "
   ]
  },
  {
   "cell_type": "code",
   "execution_count": null,
   "metadata": {
    "collapsed": true
   },
   "outputs": [],
   "source": [
    "mrps22\n",
    "copb2\n",
    "stmn4\n",
    "ptk2b"
   ]
  },
  {
   "cell_type": "code",
   "execution_count": 1,
   "metadata": {
    "scrolled": false
   },
   "outputs": [
    {
     "data": {
      "text/plain": [
       "{'Chr01': 3196,\n",
       " 'Chr02': 2646,\n",
       " 'Chr03': 2639,\n",
       " 'Chr04': 2325,\n",
       " 'Chr05': 2074,\n",
       " 'Chr06': 1645,\n",
       " 'Chr07': 1940,\n",
       " 'Chr08': 2436,\n",
       " 'Chr09': 1785,\n",
       " 'Chr10': 948}"
      ]
     },
     "execution_count": 1,
     "metadata": {},
     "output_type": "execute_result"
    }
   ],
   "source": [
    "## Read in the gff3\n",
    "\n",
    "gff3 = open(\"/home/djeffrie/Data/Genomes/Xen/Xtropicalisv9.0.Named.primaryTrs.gff3\", 'r').readlines()\n",
    "\n",
    "gene_counts = {}\n",
    "\n",
    "\n",
    "for line in gff3:\n",
    "    if not \"#\" in line:\n",
    "        if \"gene\" in line.split()[2]:\n",
    "            Chrom = line.split()[0]\n",
    "            if \"Chr\" in Chrom:\n",
    "                \n",
    "                if Chrom not in gene_counts:\n",
    "                    gene_counts[Chrom] = 0\n",
    "                \n",
    "                gene_counts[Chrom] += 1\n",
    "            \n",
    "gene_counts\n"
   ]
  },
  {
   "cell_type": "code",
   "execution_count": 2,
   "metadata": {
    "collapsed": true
   },
   "outputs": [],
   "source": [
    "### How many TURNOVERS TO each chromosome\n",
    "\n",
    "sex_chrom_counts = {'Chr01': 0,\n",
    "                    'Chr02': 2,\n",
    "                    'Chr03': 2,\n",
    "                    'Chr04': 0,\n",
    "                    'Chr05': 5,\n",
    "                    'Chr06': 0,\n",
    "                    'Chr07': 0,\n",
    "                    'Chr08': 1,\n",
    "                    'Chr09': 0,\n",
    "                    'Chr10': 0}\n"
   ]
  },
  {
   "cell_type": "code",
   "execution_count": 3,
   "metadata": {
    "scrolled": false
   },
   "outputs": [
    {
     "data": {
      "image/png": "[encoded data removed]",
      "text/plain": [
       "<matplotlib.figure.Figure at 0x7fb9ce6b2090>"
      ]
     },
     "metadata": {},
     "output_type": "display_data"
    }
   ],
   "source": [
    "from matplotlib import pyplot as plt\n",
    "\n",
    "bars = []\n",
    "labs = []\n",
    "points = []\n",
    "\n",
    "for i in sorted(gene_counts.keys()):\n",
    "    bars.append(gene_counts[i])\n",
    "    labs.append(i)\n",
    "    points.append(sex_chrom_counts[i])\n",
    "\n",
    "\n",
    "fig, ax1 = plt.subplots(figsize = (15,7))\n",
    "    \n",
    "ax1.bar(range(1,11), bars, tick_label = labs, color= \"darkcyan\")\n",
    "ax2 = ax1.twinx()\n",
    "ax2.scatter(range(1,11), points, c = \"darkorange\", s = 200)\n",
    "\n",
    "plt.savefig(\"/home/djeffrie/Data/Genomes/Xen/Genes_per_chrom.svg\")\n",
    "plt.show()"
   ]
  },
  {
   "cell_type": "markdown",
   "metadata": {},
   "source": [
    "### Looks correlated - check"
   ]
  },
  {
   "cell_type": "code",
   "execution_count": 5,
   "metadata": {},
   "outputs": [],
   "source": [
    "## Is there correlation here?\n",
    "import sys\n",
    "sys.path.append(\"/home/djeffrie/anaconda2/lib/python2.7/site-packages/\")\n",
    "import numpy as np\n",
    "import statsmodels.api as sm\n",
    "import pandas as pd\n",
    "from statsmodels.graphics.regressionplots import abline_plot"
   ]
  },
  {
   "cell_type": "code",
   "execution_count": 6,
   "metadata": {
    "collapsed": true
   },
   "outputs": [],
   "source": [
    "## make dict of data series\n",
    "\n",
    "dep = pd.Series(gene_counts)\n",
    "var = pd.Series(sex_chrom_counts)\n",
    "\n",
    "data_dict = {\"gene_counts\":dep,\n",
    "             \"SC_counts\":var}"
   ]
  },
  {
   "cell_type": "code",
   "execution_count": 10,
   "metadata": {},
   "outputs": [
    {
     "data": {
      "text/html": [
       "<div>\n",
       "<style scoped>\n",
       "    .dataframe tbody tr th:only-of-type {\n",
       "        vertical-align: middle;\n",
       "    }\n",
       "\n",
       "    .dataframe tbody tr th {\n",
       "        vertical-align: top;\n",
       "    }\n",
       "\n",
       "    .dataframe thead th {\n",
       "        text-align: right;\n",
       "    }\n",
       "</style>\n",
       "<table border=\"1\" class=\"dataframe\">\n",
       "  <thead>\n",
       "    <tr style=\"text-align: right;\">\n",
       "      <th></th>\n",
       "      <th>SC_counts</th>\n",
       "      <th>gene_counts</th>\n",
       "    </tr>\n",
       "  </thead>\n",
       "  <tbody>\n",
       "    <tr>\n",
       "      <th>Chr01</th>\n",
       "      <td>0</td>\n",
       "      <td>3196</td>\n",
       "    </tr>\n",
       "    <tr>\n",
       "      <th>Chr02</th>\n",
       "      <td>2</td>\n",
       "      <td>2646</td>\n",
       "    </tr>\n",
       "    <tr>\n",
       "      <th>Chr03</th>\n",
       "      <td>2</td>\n",
       "      <td>2639</td>\n",
       "    </tr>\n",
       "    <tr>\n",
       "      <th>Chr04</th>\n",
       "      <td>0</td>\n",
       "      <td>2325</td>\n",
       "    </tr>\n",
       "    <tr>\n",
       "      <th>Chr05</th>\n",
       "      <td>5</td>\n",
       "      <td>2074</td>\n",
       "    </tr>\n",
       "    <tr>\n",
       "      <th>Chr06</th>\n",
       "      <td>0</td>\n",
       "      <td>1645</td>\n",
       "    </tr>\n",
       "    <tr>\n",
       "      <th>Chr07</th>\n",
       "      <td>0</td>\n",
       "      <td>1940</td>\n",
       "    </tr>\n",
       "    <tr>\n",
       "      <th>Chr08</th>\n",
       "      <td>1</td>\n",
       "      <td>2436</td>\n",
       "    </tr>\n",
       "    <tr>\n",
       "      <th>Chr09</th>\n",
       "      <td>0</td>\n",
       "      <td>1785</td>\n",
       "    </tr>\n",
       "    <tr>\n",
       "      <th>Chr10</th>\n",
       "      <td>0</td>\n",
       "      <td>948</td>\n",
       "    </tr>\n",
       "  </tbody>\n",
       "</table>\n",
       "</div>"
      ],
      "text/plain": [
       "       SC_counts  gene_counts\n",
       "Chr01          0         3196\n",
       "Chr02          2         2646\n",
       "Chr03          2         2639\n",
       "Chr04          0         2325\n",
       "Chr05          5         2074\n",
       "Chr06          0         1645\n",
       "Chr07          0         1940\n",
       "Chr08          1         2436\n",
       "Chr09          0         1785\n",
       "Chr10          0          948"
      ]
     },
     "execution_count": 10,
     "metadata": {},
     "output_type": "execute_result"
    }
   ],
   "source": [
    "## make dataframe from dict\n",
    "\n",
    "df = pd.DataFrame(data_dict)\n",
    "df"
   ]
  },
  {
   "cell_type": "code",
   "execution_count": 11,
   "metadata": {
    "collapsed": true
   },
   "outputs": [],
   "source": [
    "### Regression model\n",
    "\n",
    "# Note the difference in argument order\n",
    "dep = sm.add_constant(dep)\n",
    "model = sm.OLS(var, dep).fit()\n",
    "predictions = model.predict(dep) # make the predictions by the model"
   ]
  },
  {
   "cell_type": "code",
   "execution_count": 12,
   "metadata": {},
   "outputs": [
    {
     "data": {
      "text/html": [
       "<table class=\"simpletable\">\n",
       "<caption>OLS Regression Results</caption>\n",
       "<tr>\n",
       "  <th>Dep. Variable:</th>            <td>y</td>        <th>  R-squared:         </th> <td>   0.035</td>\n",
       "</tr>\n",
       "<tr>\n",
       "  <th>Model:</th>                   <td>OLS</td>       <th>  Adj. R-squared:    </th> <td>  -0.085</td>\n",
       "</tr>\n",
       "<tr>\n",
       "  <th>Method:</th>             <td>Least Squares</td>  <th>  F-statistic:       </th> <td>  0.2935</td>\n",
       "</tr>\n",
       "<tr>\n",
       "  <th>Date:</th>             <td>Sun, 15 Apr 2018</td> <th>  Prob (F-statistic):</th>  <td> 0.603</td> \n",
       "</tr>\n",
       "<tr>\n",
       "  <th>Time:</th>                 <td>22:16:33</td>     <th>  Log-Likelihood:    </th> <td> -18.387</td>\n",
       "</tr>\n",
       "<tr>\n",
       "  <th>No. Observations:</th>      <td>    10</td>      <th>  AIC:               </th> <td>   40.77</td>\n",
       "</tr>\n",
       "<tr>\n",
       "  <th>Df Residuals:</th>          <td>     8</td>      <th>  BIC:               </th> <td>   41.38</td>\n",
       "</tr>\n",
       "<tr>\n",
       "  <th>Df Model:</th>              <td>     1</td>      <th>                     </th>     <td> </td>   \n",
       "</tr>\n",
       "<tr>\n",
       "  <th>Covariance Type:</th>      <td>nonrobust</td>    <th>                     </th>     <td> </td>   \n",
       "</tr>\n",
       "</table>\n",
       "<table class=\"simpletable\">\n",
       "<tr>\n",
       "    <td></td>       <th>coef</th>     <th>std err</th>      <th>t</th>      <th>P>|t|</th>  <th>[0.025</th>    <th>0.975]</th>  \n",
       "</tr>\n",
       "<tr>\n",
       "  <th>const</th> <td>   -0.0548</td> <td>    2.020</td> <td>   -0.027</td> <td> 0.979</td> <td>   -4.713</td> <td>    4.603</td>\n",
       "</tr>\n",
       "<tr>\n",
       "  <th>0</th>     <td>    0.0005</td> <td>    0.001</td> <td>    0.542</td> <td> 0.603</td> <td>   -0.002</td> <td>    0.003</td>\n",
       "</tr>\n",
       "</table>\n",
       "<table class=\"simpletable\">\n",
       "<tr>\n",
       "  <th>Omnibus:</th>       <td>13.890</td> <th>  Durbin-Watson:     </th> <td>   2.547</td>\n",
       "</tr>\n",
       "<tr>\n",
       "  <th>Prob(Omnibus):</th> <td> 0.001</td> <th>  Jarque-Bera (JB):  </th> <td>   6.859</td>\n",
       "</tr>\n",
       "<tr>\n",
       "  <th>Skew:</th>          <td> 1.721</td> <th>  Prob(JB):          </th> <td>  0.0324</td>\n",
       "</tr>\n",
       "<tr>\n",
       "  <th>Kurtosis:</th>      <td> 5.148</td> <th>  Cond. No.          </th> <td>8.43e+03</td>\n",
       "</tr>\n",
       "</table>"
      ],
      "text/plain": [
       "<class 'statsmodels.iolib.summary.Summary'>\n",
       "\"\"\"\n",
       "                            OLS Regression Results                            \n",
       "==============================================================================\n",
       "Dep. Variable:                      y   R-squared:                       0.035\n",
       "Model:                            OLS   Adj. R-squared:                 -0.085\n",
       "Method:                 Least Squares   F-statistic:                    0.2935\n",
       "Date:                Sun, 15 Apr 2018   Prob (F-statistic):              0.603\n",
       "Time:                        22:16:33   Log-Likelihood:                -18.387\n",
       "No. Observations:                  10   AIC:                             40.77\n",
       "Df Residuals:                       8   BIC:                             41.38\n",
       "Df Model:                           1                                         \n",
       "Covariance Type:            nonrobust                                         \n",
       "==============================================================================\n",
       "                 coef    std err          t      P>|t|      [0.025      0.975]\n",
       "------------------------------------------------------------------------------\n",
       "const         -0.0548      2.020     -0.027      0.979      -4.713       4.603\n",
       "0              0.0005      0.001      0.542      0.603      -0.002       0.003\n",
       "==============================================================================\n",
       "Omnibus:                       13.890   Durbin-Watson:                   2.547\n",
       "Prob(Omnibus):                  0.001   Jarque-Bera (JB):                6.859\n",
       "Skew:                           1.721   Prob(JB):                       0.0324\n",
       "Kurtosis:                       5.148   Cond. No.                     8.43e+03\n",
       "==============================================================================\n",
       "\n",
       "Warnings:\n",
       "[1] Standard Errors assume that the covariance matrix of the errors is correctly specified.\n",
       "[2] The condition number is large, 8.43e+03. This might indicate that there are\n",
       "strong multicollinearity or other numerical problems.\n",
       "\"\"\""
      ]
     },
     "execution_count": 12,
     "metadata": {},
     "output_type": "execute_result"
    }
   ],
   "source": [
    "# print stats\n",
    "model.summary()"
   ]
  },
  {
   "cell_type": "code",
   "execution_count": 13,
   "metadata": {},
   "outputs": [
    {
     "data": {
      "image/png": "[encoded data removed]",
      "text/plain": [
       "<matplotlib.figure.Figure at 0x7fb9a5b13a50>"
      ]
     },
     "metadata": {},
     "output_type": "display_data"
    }
   ],
   "source": [
    "## Plot the relationship\n",
    "\n",
    "f = plt.figure(figsize = (15,10))\n",
    "ax1 = df.plot.scatter(ax = f.gca(), x = \"gene_counts\", y =\"SC_counts\", s = 200, color = \"darkcyan\")\n",
    "abline_plot(model_results=model, ax=ax1, linewidth = 2, color = \"blue\")\n",
    "plt.savefig(\"/home/djeffrie/Data/Genomes/Xen/Genes_per_chrom_reg.svg\")\n",
    "plt.show()"
   ]
  },
  {
   "cell_type": "markdown",
   "metadata": {},
   "source": [
    "So no, not significantly correlated. "
   ]
  },
  {
   "cell_type": "markdown",
   "metadata": {},
   "source": [
    "### What would it look like if it were completely random??\n",
    "\n",
    "I am going to sample genes from chromosomes 1000 times, sampling the same number of genes each time as there are sex determiners in the real dataset. I will then plot these and compare them to the real observed numbers. "
   ]
  },
  {
   "cell_type": "code",
   "execution_count": 13,
   "metadata": {},
   "outputs": [
    {
     "name": "stdout",
     "output_type": "stream",
     "text": [
      "21634 genes in total\n"
     ]
    },
    {
     "data": {
      "text/plain": [
       "Counter({'Chr01': 3196,\n",
       "         'Chr02': 2646,\n",
       "         'Chr03': 2639,\n",
       "         'Chr04': 2325,\n",
       "         'Chr05': 2074,\n",
       "         'Chr06': 1645,\n",
       "         'Chr07': 1940,\n",
       "         'Chr08': 2436,\n",
       "         'Chr09': 1785,\n",
       "         'Chr10': 948})"
      ]
     },
     "execution_count": 13,
     "metadata": {},
     "output_type": "execute_result"
    }
   ],
   "source": [
    "# Make a pool of \"genes\" to select from\n",
    "\n",
    "genes = sum(gene_counts.values())\n",
    "\n",
    "print \"%s genes in total\" % genes\n",
    "\n",
    "gene_pool = []\n",
    "\n",
    "for i in gene_counts:\n",
    "    gene_pool = gene_pool + [i]*gene_counts[i]\n",
    "\n",
    "## Check\n",
    "\n",
    "from collections import Counter\n",
    "\n",
    "Counter(gene_pool)\n",
    "\n"
   ]
  },
  {
   "cell_type": "markdown",
   "metadata": {},
   "source": [
    "Number of \"genes\" per linkage group matches, onwards!"
   ]
  },
  {
   "cell_type": "code",
   "execution_count": 15,
   "metadata": {},
   "outputs": [
    {
     "data": {
      "text/plain": [
       "{'Chr01': 0,\n",
       " 'Chr02': 2,\n",
       " 'Chr03': 2,\n",
       " 'Chr04': 0,\n",
       " 'Chr05': 5,\n",
       " 'Chr06': 0,\n",
       " 'Chr07': 1,\n",
       " 'Chr08': 1,\n",
       " 'Chr09': 0,\n",
       " 'Chr10': 0}"
      ]
     },
     "execution_count": 15,
     "metadata": {},
     "output_type": "execute_result"
    }
   ],
   "source": [
    "sex_chrom_counts"
   ]
  },
  {
   "cell_type": "code",
   "execution_count": 14,
   "metadata": {},
   "outputs": [
    {
     "data": {
      "text/plain": [
       "11"
      ]
     },
     "execution_count": 14,
     "metadata": {},
     "output_type": "execute_result"
    }
   ],
   "source": [
    "## How many sex determiners are in the dataset\n",
    "\n",
    "N_sex_determiners = sum(sex_chrom_counts.values())\n",
    "N_sex_determiners"
   ]
  },
  {
   "cell_type": "markdown",
   "metadata": {},
   "source": [
    "Now randomly sample the genes (1000 times) and count how many from each chromosome are selected each time"
   ]
  },
  {
   "cell_type": "code",
   "execution_count": 16,
   "metadata": {
    "collapsed": true
   },
   "outputs": [],
   "source": [
    "import random\n",
    "\n",
    "random_choices = {}\n",
    "\n",
    "random_choices[\"Chr01\"] = []\n",
    "random_choices[\"Chr02\"] = []\n",
    "random_choices[\"Chr03\"] = []\n",
    "random_choices[\"Chr04\"] = []\n",
    "random_choices[\"Chr05\"] = []\n",
    "random_choices[\"Chr06\"] = []\n",
    "random_choices[\"Chr07\"] = []\n",
    "random_choices[\"Chr08\"] = []\n",
    "random_choices[\"Chr09\"] = []\n",
    "random_choices[\"Chr10\"] = []\n",
    "\n",
    "\n",
    "for i in range(1,1001):\n",
    "    choice_rep = []\n",
    "    for j in range(1,N_sex_determiners):\n",
    "        choice_rep.append(random.choice(gene_pool))\n",
    "        \n",
    "    \n",
    "    \n",
    "    for i in random_choices:\n",
    "        if i in Counter(choice_rep):\n",
    "            random_choices[i].append(Counter(choice_rep)[i])\n",
    "        else:\n",
    "            random_choices[i].append(0)\n",
    "        \n"
   ]
  },
  {
   "cell_type": "markdown",
   "metadata": {},
   "source": [
    "And plot along with the number of genes per chrom and the real number of times each chromosome is used for sex determination"
   ]
  },
  {
   "cell_type": "code",
   "execution_count": 17,
   "metadata": {},
   "outputs": [
    {
     "data": {
      "image/png": "[encoded data removed]",
      "text/plain": [
       "<matplotlib.figure.Figure at 0x7f725436ff50>"
      ]
     },
     "metadata": {},
     "output_type": "display_data"
    }
   ],
   "source": [
    "from matplotlib import pyplot as plt\n",
    "\n",
    "bars = []\n",
    "labs = []\n",
    "points = []\n",
    "\n",
    "for i in sorted(gene_counts.keys()):\n",
    "    bars.append(gene_counts[i])\n",
    "    labs.append(i)\n",
    "    points.append(sex_chrom_counts[i])\n",
    "\n",
    "\n",
    "fig, ax1 = plt.subplots(figsize = (15,7))\n",
    "    \n",
    "ax1.bar(range(1,11), bars, tick_label = labs, color= \"darkcyan\", zorder = 1)\n",
    "ax2 = ax1.twinx()\n",
    "\n",
    "for i in range(0,10):\n",
    "    vio = ax2.violinplot(random_choices[sorted(random_choices.keys())[i]], positions=[i+1], showmeans = True, showextrema = False)\n",
    "        \n",
    "    for pc in vio['bodies']:\n",
    "        pc.set_facecolor('khaki')\n",
    "        pc.set_edgecolor('black')\n",
    "        pc.set_zorder(2)    \n",
    "        pc.set_alpha(1)\n",
    "\n",
    "ax2.scatter(range(1,11), points, c = \"black\", s = 200, zorder = 3)\n",
    "plt.savefig(\"/home/djeffrie/Data/Genomes/Xen/Genes_per_chrom_with_violins.svg\")\n",
    "\n",
    "plt.show()"
   ]
  },
  {
   "cell_type": "markdown",
   "metadata": {},
   "source": [
    "So yes, the number of times each chromosome is used for sex correlates somewhat with the number of genes on the chromosome, but chromosome 5 is used many more times than would be expected by chance and Chr02 and Chr03 are also higher than expected . Also, importatantly, some chromosomes, most noteably Chr04 is never used, even though it has high gene number! So there is definitely a preference for some chromosomes that is not explained solely by chromosome size. "
   ]
  }
 ],
 "metadata": {
  "anaconda-cloud": {},
  "kernelspec": {
   "display_name": "Python 2",
   "language": "python",
   "name": "python2"
  },
  "language_info": {
   "codemirror_mode": {
    "name": "ipython",
    "version": 2
   },
   "file_extension": ".py",
   "mimetype": "text/x-python",
   "name": "python",
   "nbconvert_exporter": "python",
   "pygments_lexer": "ipython2",
   "version": "2.7.14"
  }
 },
 "nbformat": 4,
 "nbformat_minor": 2
}
