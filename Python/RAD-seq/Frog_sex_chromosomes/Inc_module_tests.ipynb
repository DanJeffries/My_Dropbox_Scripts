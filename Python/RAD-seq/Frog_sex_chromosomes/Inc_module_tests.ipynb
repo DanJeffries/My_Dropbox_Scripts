{
 "cells": [
  {
   "cell_type": "code",
   "execution_count": 8,
   "metadata": {
    "collapsed": false,
    "scrolled": true
   },
   "outputs": [],
   "source": [
    "%matplotlib inline\n",
    "import Incremental_U as IncU ## need to recompile I think!\n",
    "import pprint\n",
    "import sys\n",
    "import os"
   ]
  },
  {
   "cell_type": "code",
   "execution_count": 6,
   "metadata": {
    "collapsed": false
   },
   "outputs": [
    {
     "name": "stdout",
     "output_type": "stream",
     "text": [
      "{ 'parameters': { 'M': [1, 2, 3, 4, 5], 'm': [1, 2, 3, 4, 5]},\n",
      "  'parent_directory': '/home/djeffrie/Data/Caspers_data/Large_test_set/',\n",
      "  'run_cline_switch': 0,\n",
      "  'threads': 7,\n",
      "  'verbose': False}\n",
      "m\n",
      "M\n"
     ]
    }
   ],
   "source": [
    "## INPUT PARAMETERS HERE -----------------------------------------\n",
    "\n",
    "parameters = [\"M\", \"m\"]                                             ## List, eg [\"M\", \"m\", \"MS\"]. If only testing 1 param, this must still be a list e.g. [\"M\"]\n",
    "M_vals =   [1,2,3,4,5]                                                    ## List, eg range(1,5,1) this would give [1,2,3,4]\n",
    "m_vals =   [1,2,3,4,5]                                                ## List, eg range(1,5,1) this would give [1,2,3,4]\n",
    "MS_vals =  [2,3,4,]                                                    ## List, eg range(1,5,1) this would give [1,2,3,4]\n",
    "threads =  7                                                        ## Int. eg 7\n",
    "parent_dir = \"/home/djeffrie/Data/Caspers_data/Large_test_set/\"      ## Absolute Dir containing the demultiplexed raw read fasta/fastq files\n",
    "run_cline_switch = 0                                               ## to switch on (1) to run stacks cline or off (0) to run pipeline on existing outputs\n",
    "\n",
    "\n",
    "## Making input dictionary --------------------------------------\n",
    "\n",
    "Setup_dict = {}\n",
    "Setup_dict[\"parameters\"] = {}\n",
    "Setup_dict[\"threads\"] = threads\n",
    "Setup_dict[\"parent_directory\"] = parent_dir\n",
    "Setup_dict[\"run_cline_switch\"] = run_cline_switch\n",
    "Setup_dict[\"verbose\"] = False\n",
    "\n",
    "for param in parameters:\n",
    "    if \"M\" in param:\n",
    "        Setup_dict[\"parameters\"][param] = M_vals\n",
    "    if \"m\" in param:\n",
    "        Setup_dict[\"parameters\"][param] = m_vals\n",
    "    if \"MS\" in param:\n",
    "        Setup_dict[\"parameters\"][param] = MS_vals\n",
    "\n",
    "pp = pprint.PrettyPrinter(indent=2)\n",
    "pp.pprint(Setup_dict)\n",
    "\n",
    "for parameter in Setup_dict['parameters']:\n",
    "    print parameter"
   ]
  },
  {
   "cell_type": "code",
   "execution_count": 9,
   "metadata": {
    "collapsed": false,
    "scrolled": false
   },
   "outputs": [
    {
     "name": "stdout",
     "output_type": "stream",
     "text": [
      "\n",
      "##### ------- Test samples, parameters and values ------ #####\n",
      "\n",
      "{ 'C210_S.fq.gz': { 'M': { 1: { }, 2: { }, 3: { }, 4: { }, 5: { }},\n",
      "                    'm': { 1: { }, 2: { }, 3: { }, 4: { }, 5: { }}},\n",
      "  'C228_S.fq.gz': { 'M': { 1: { }, 2: { }, 3: { }, 4: { }, 5: { }},\n",
      "                    'm': { 1: { }, 2: { }, 3: { }, 4: { }, 5: { }}},\n",
      "  'C248_S.fq.gz': { 'M': { 1: { }, 2: { }, 3: { }, 4: { }, 5: { }},\n",
      "                    'm': { 1: { }, 2: { }, 3: { }, 4: { }, 5: { }}},\n",
      "  'C256_P.fq.gz': { 'M': { 1: { }, 2: { }, 3: { }, 4: { }, 5: { }},\n",
      "                    'm': { 1: { }, 2: { }, 3: { }, 4: { }, 5: { }}},\n",
      "  'C259_S.fq.gz': { 'M': { 1: { }, 2: { }, 3: { }, 4: { }, 5: { }},\n",
      "                    'm': { 1: { }, 2: { }, 3: { }, 4: { }, 5: { }}},\n",
      "  'C277_P.fq.gz': { 'M': { 1: { }, 2: { }, 3: { }, 4: { }, 5: { }},\n",
      "                    'm': { 1: { }, 2: { }, 3: { }, 4: { }, 5: { }}},\n",
      "  'C288_S.fq.gz': { 'M': { 1: { }, 2: { }, 3: { }, 4: { }, 5: { }},\n",
      "                    'm': { 1: { }, 2: { }, 3: { }, 4: { }, 5: { }}},\n",
      "  'C401_P.fq.gz': { 'M': { 1: { }, 2: { }, 3: { }, 4: { }, 5: { }},\n",
      "                    'm': { 1: { }, 2: { }, 3: { }, 4: { }, 5: { }}},\n",
      "  'C415_S.fq.gz': { 'M': { 1: { }, 2: { }, 3: { }, 4: { }, 5: { }},\n",
      "                    'm': { 1: { }, 2: { }, 3: { }, 4: { }, 5: { }}},\n",
      "  'C424_P.fq.gz': { 'M': { 1: { }, 2: { }, 3: { }, 4: { }, 5: { }},\n",
      "                    'm': { 1: { }, 2: { }, 3: { }, 4: { }, 5: { }}},\n",
      "  'C437_S.fq.gz': { 'M': { 1: { }, 2: { }, 3: { }, 4: { }, 5: { }},\n",
      "                    'm': { 1: { }, 2: { }, 3: { }, 4: { }, 5: { }}},\n",
      "  'C463_P.fq.gz': { 'M': { 1: { }, 2: { }, 3: { }, 4: { }, 5: { }},\n",
      "                    'm': { 1: { }, 2: { }, 3: { }, 4: { }, 5: { }}},\n",
      "  'C480_P.fq.gz': { 'M': { 1: { }, 2: { }, 3: { }, 4: { }, 5: { }},\n",
      "                    'm': { 1: { }, 2: { }, 3: { }, 4: { }, 5: { }}},\n",
      "  'C518_P.fq.gz': { 'M': { 1: { }, 2: { }, 3: { }, 4: { }, 5: { }},\n",
      "                    'm': { 1: { }, 2: { }, 3: { }, 4: { }, 5: { }}},\n",
      "  'parent_directory': '/home/djeffrie/Data/Caspers_data/Large_test_set/'}\n",
      "\n",
      " ###### ------ Not running command lines ------ ###### \n",
      "\n",
      "ustacks -t gzfastq -f /home/djeffrie/Data/Caspers_data/Large_test_set/C424_P.fq.gz -o /home/djeffrie/Data/Caspers_data/Large_test_set/C424_P/M_tests/M_1 -i 1 -m 6 -M 1 -p 7 -r -d\n",
      "C424_P.tags.tsv.gz at M = 1 Total_tags = 9182, Good tags = 9129, N blacklisted = 53\n",
      "Mean and SD of coverage for C424_P, M=1:  27.01 (+/- 31.07)\n",
      "\n",
      "ustacks -t gzfastq -f /home/djeffrie/Data/Caspers_data/Large_test_set/C424_P.fq.gz -o /home/djeffrie/Data/Caspers_data/Large_test_set/C424_P/M_tests/M_2 -i 1 -m 6 -M 2 -p 7 -r -d\n",
      "C424_P.tags.tsv.gz at M = 2 Total_tags = 9060, Good tags = 9003, N blacklisted = 57\n"
     ]
    },
    {
     "ename": "KeyboardInterrupt",
     "evalue": "",
     "output_type": "error",
     "traceback": [
      "\u001b[1;31m---------------------------------------------------------------------------\u001b[0m",
      "\u001b[1;31mKeyboardInterrupt\u001b[0m                         Traceback (most recent call last)",
      "\u001b[1;32m<ipython-input-9-479a1ce6ac47>\u001b[0m in \u001b[0;36m<module>\u001b[1;34m()\u001b[0m\n\u001b[1;32m----> 1\u001b[1;33m \u001b[0mOutputs\u001b[0m \u001b[1;33m=\u001b[0m \u001b[0mIncU\u001b[0m\u001b[1;33m.\u001b[0m\u001b[0mIncreMental_U\u001b[0m\u001b[1;33m(\u001b[0m\u001b[0mSetup_dict\u001b[0m\u001b[1;33m)\u001b[0m\u001b[1;33m\u001b[0m\u001b[0m\n\u001b[0m",
      "\u001b[1;32m/home/djeffrie/Dropbox/My_Dropbox_Scripts/Python/My_Modules/Incremental/Incremental_U.py\u001b[0m in \u001b[0;36mIncreMental_U\u001b[1;34m(Setup_dict)\u001b[0m\n\u001b[0;32m    891\u001b[0m                                         \u001b[1;32mif\u001b[0m \u001b[0mSetup_dict\u001b[0m\u001b[1;33m[\u001b[0m\u001b[1;34m\"verbose\"\u001b[0m\u001b[1;33m]\u001b[0m \u001b[1;33m==\u001b[0m \u001b[0mTrue\u001b[0m\u001b[1;33m:\u001b[0m\u001b[1;33m\u001b[0m\u001b[0m\n\u001b[0;32m    892\u001b[0m                                             \u001b[1;32mprint\u001b[0m \u001b[1;34m\"    Calculating coverage of retained tags ###\\n\"\u001b[0m\u001b[1;33m\u001b[0m\u001b[0m\n\u001b[1;32m--> 893\u001b[1;33m                                         \u001b[0mMaster_dict\u001b[0m\u001b[1;33m[\u001b[0m\u001b[0msample\u001b[0m\u001b[1;33m]\u001b[0m\u001b[1;33m[\u001b[0m\u001b[0mparam\u001b[0m\u001b[1;33m]\u001b[0m\u001b[1;33m[\u001b[0m\u001b[0mval\u001b[0m\u001b[1;33m]\u001b[0m\u001b[1;33m[\u001b[0m\u001b[1;34m\"Coverage\"\u001b[0m\u001b[1;33m]\u001b[0m \u001b[1;33m=\u001b[0m \u001b[0mcoverage_counter\u001b[0m\u001b[1;33m(\u001b[0m\u001b[0mtagsfilepath\u001b[0m\u001b[1;33m)\u001b[0m\u001b[1;33m\u001b[0m\u001b[0m\n\u001b[0m\u001b[0;32m    894\u001b[0m \u001b[1;33m\u001b[0m\u001b[0m\n\u001b[0;32m    895\u001b[0m \u001b[1;33m\u001b[0m\u001b[0m\n",
      "\u001b[1;32m/home/djeffrie/Dropbox/My_Dropbox_Scripts/Python/My_Modules/Incremental/Incremental_U.py\u001b[0m in \u001b[0;36mcoverage_counter\u001b[1;34m(file_name)\u001b[0m\n\u001b[0;32m    560\u001b[0m     \u001b[0mn_counted\u001b[0m \u001b[1;33m=\u001b[0m \u001b[1;36m0\u001b[0m\u001b[1;33m\u001b[0m\u001b[0m\n\u001b[0;32m    561\u001b[0m \u001b[1;33m\u001b[0m\u001b[0m\n\u001b[1;32m--> 562\u001b[1;33m     \u001b[1;32mfor\u001b[0m \u001b[0mline\u001b[0m \u001b[1;32min\u001b[0m \u001b[0mcsvread\u001b[0m\u001b[1;33m:\u001b[0m\u001b[1;33m\u001b[0m\u001b[0m\n\u001b[0m\u001b[0;32m    563\u001b[0m         \u001b[1;32mif\u001b[0m \u001b[1;32mnot\u001b[0m \u001b[0mline\u001b[0m\u001b[1;33m[\u001b[0m\u001b[1;36m0\u001b[0m\u001b[1;33m]\u001b[0m\u001b[1;33m.\u001b[0m\u001b[0mstartswith\u001b[0m\u001b[1;33m(\u001b[0m\u001b[1;34m'#'\u001b[0m\u001b[1;33m)\u001b[0m\u001b[1;33m:\u001b[0m \u001b[1;31m# outputs in new version of stacks start with a comment\u001b[0m\u001b[1;33m\u001b[0m\u001b[0m\n\u001b[0;32m    564\u001b[0m             \u001b[0mtag_ID\u001b[0m \u001b[1;33m=\u001b[0m \u001b[0mline\u001b[0m\u001b[1;33m[\u001b[0m\u001b[1;36m2\u001b[0m\u001b[1;33m]\u001b[0m\u001b[1;33m\u001b[0m\u001b[0m\n",
      "\u001b[1;32m/home/djeffrie/anaconda/lib/python2.7/gzip.pyc\u001b[0m in \u001b[0;36mreadline\u001b[1;34m(self, size)\u001b[0m\n\u001b[0;32m    453\u001b[0m             \u001b[1;32mif\u001b[0m \u001b[0mi\u001b[0m \u001b[1;33m>\u001b[0m \u001b[1;36m0\u001b[0m\u001b[1;33m:\u001b[0m\u001b[1;33m\u001b[0m\u001b[0m\n\u001b[0;32m    454\u001b[0m                 \u001b[0mself\u001b[0m\u001b[1;33m.\u001b[0m\u001b[0mextrasize\u001b[0m \u001b[1;33m-=\u001b[0m \u001b[0mi\u001b[0m \u001b[1;33m-\u001b[0m \u001b[0moffset\u001b[0m\u001b[1;33m\u001b[0m\u001b[0m\n\u001b[1;32m--> 455\u001b[1;33m                 \u001b[0mself\u001b[0m\u001b[1;33m.\u001b[0m\u001b[0moffset\u001b[0m \u001b[1;33m+=\u001b[0m \u001b[0mi\u001b[0m \u001b[1;33m-\u001b[0m \u001b[0moffset\u001b[0m\u001b[1;33m\u001b[0m\u001b[0m\n\u001b[0m\u001b[0;32m    456\u001b[0m                 \u001b[1;32mreturn\u001b[0m \u001b[0mself\u001b[0m\u001b[1;33m.\u001b[0m\u001b[0mextrabuf\u001b[0m\u001b[1;33m[\u001b[0m\u001b[0moffset\u001b[0m\u001b[1;33m:\u001b[0m \u001b[0mi\u001b[0m\u001b[1;33m]\u001b[0m\u001b[1;33m\u001b[0m\u001b[0m\n\u001b[0;32m    457\u001b[0m \u001b[1;33m\u001b[0m\u001b[0m\n",
      "\u001b[1;31mKeyboardInterrupt\u001b[0m: "
     ]
    }
   ],
   "source": [
    "Outputs = IncU.IncreMental_U(Setup_dict)"
   ]
  },
  {
   "cell_type": "code",
   "execution_count": null,
   "metadata": {
    "collapsed": true
   },
   "outputs": [],
   "source": []
  }
 ],
 "metadata": {
  "kernelspec": {
   "display_name": "Python 2",
   "language": "python",
   "name": "python2"
  },
  "language_info": {
   "codemirror_mode": {
    "name": "ipython",
    "version": 2
   },
   "file_extension": ".py",
   "mimetype": "text/x-python",
   "name": "python",
   "nbconvert_exporter": "python",
   "pygments_lexer": "ipython2",
   "version": "2.7.10"
  }
 },
 "nbformat": 4,
 "nbformat_minor": 0
}
