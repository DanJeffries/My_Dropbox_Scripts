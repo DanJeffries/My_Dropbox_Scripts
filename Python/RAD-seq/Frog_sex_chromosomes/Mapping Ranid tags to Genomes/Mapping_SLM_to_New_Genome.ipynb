{
 "cells": [
  {
   "cell_type": "markdown",
   "metadata": {},
   "source": [
    "Here I will map the SL RADtags from some of the species that I couldn't map to originally, to the new Rtemp genome"
   ]
  },
  {
   "cell_type": "code",
   "execution_count": 69,
   "metadata": {
    "collapsed": true
   },
   "outputs": [],
   "source": [
    "from Bio.Blast.Applications import NcbiblastnCommandline as BLASTn\n",
    "import MISC_RAD_tools as MISC"
   ]
  },
  {
   "cell_type": "code",
   "execution_count": 70,
   "metadata": {
    "collapsed": true
   },
   "outputs": [],
   "source": [
    "Rtemp_db = \"/home/djeffrie/Data/Genomes/Rtemp_hybrid/ALLMAPS/Existing_maps_ALLMAPS/OUTPUTS/Blast/Anchored_all_scaffs_blastn\""
   ]
  },
  {
   "cell_type": "markdown",
   "metadata": {},
   "source": [
    "### R. japonica"
   ]
  },
  {
   "cell_type": "code",
   "execution_count": null,
   "metadata": {
    "collapsed": true
   },
   "outputs": [],
   "source": [
    "\n",
    "SLM_fasta = \"/home/djeffrie/Data/RADseq/Final_sex_linked_markers/R_jap_pop_t.fa\"\n",
    "\n",
    "## xml format\n",
    "blast_outs = \"%s/NEW_genome_blastouts.xml\" % SLM_fasta.rpartition(\"/\")[0]\n",
    "\n",
    "blastn_cline = BLASTn(query=SLM_fasta, db=Rtemp_db, outfmt=5, out=blast_outs, num_threads = 7, max_target_seqs = 100)\n",
    "\n",
    "stdout, stderr = blastn_cline()\n",
    "\n"
   ]
  },
  {
   "cell_type": "code",
   "execution_count": null,
   "metadata": {
    "collapsed": true
   },
   "outputs": [],
   "source": [
    "blast_outs_path = blast_outs\n",
    "Rtemp_fasta = \"/home/djeffrie/Data/Genomes/Rtemp_hybrid/Genome/Rtemp_hyb_final_assemb.fasta\"\n",
    "evalue_thresh = 1e-20\n",
    "best_hit_criteria = 1e-5\n",
    "window = 2000\n",
    "get_frags = 0\n",
    "verb = 1\n",
    "\n",
    "Kept_blast_records = MISC.BlastParseExtra(blast_outs_path, Rtemp_fasta, best_hit_criteria, evalue_thresh, get_frags, window, 1)"
   ]
  },
  {
   "cell_type": "code",
   "execution_count": null,
   "metadata": {
    "collapsed": true
   },
   "outputs": [],
   "source": [
    "for i in Kept_blast_records:\n",
    "    print Kept_blast_records[i][\"Ref_hit_id\"]"
   ]
  },
  {
   "cell_type": "markdown",
   "metadata": {},
   "source": [
    "### L. tarahumarae"
   ]
  },
  {
   "cell_type": "code",
   "execution_count": 55,
   "metadata": {
    "collapsed": true
   },
   "outputs": [],
   "source": [
    "\n",
    "SLM_fasta = \"/home/djeffrie/Data/RADseq/Final_sex_linked_markers/L_tarahumarae/L_tarahumarae.fa\"\n",
    "\n",
    "## xml format\n",
    "blast_outs = \"%s/NEW_genome_blastouts.xml\" % SLM_fasta.rpartition(\"/\")[0]\n",
    "\n",
    "blastn_cline = BLASTn(query=SLM_fasta, db=Rtemp_db, outfmt=5, out=blast_outs, num_threads = 7, max_target_seqs = 100)\n",
    "\n",
    "stdout, stderr = blastn_cline()\n",
    "\n"
   ]
  },
  {
   "cell_type": "code",
   "execution_count": 56,
   "metadata": {},
   "outputs": [
    {
     "name": "stdout",
     "output_type": "stream",
     "text": [
      "Number of multi-alingments kept: 1\n",
      "Number of unique alingments kept: 5\n"
     ]
    }
   ],
   "source": [
    "blast_outs_path = blast_outs\n",
    "Rtemp_fasta = \"/home/djeffrie/Data/Genomes/Rtemp_hybrid/Genome/Rtemp_hyb_final_assemb.fasta\"\n",
    "evalue_thresh = 1e-20\n",
    "best_hit_criteria = 1e-5\n",
    "window = 2000\n",
    "get_frags = 0\n",
    "verb = 1\n",
    "\n",
    "Kept_blast_records = MISC.BlastParseExtra(blast_outs_path, Rtemp_fasta, best_hit_criteria, evalue_thresh, get_frags, window, 1)"
   ]
  },
  {
   "cell_type": "code",
   "execution_count": 57,
   "metadata": {},
   "outputs": [
    {
     "name": "stdout",
     "output_type": "stream",
     "text": [
      "chr3\n",
      "chr6\n",
      "chr3\n",
      "chr3\n",
      "chr3\n"
     ]
    }
   ],
   "source": [
    "for i in Kept_blast_records:\n",
    "    print Kept_blast_records[i][\"Ref_hit_id\"]"
   ]
  },
  {
   "cell_type": "markdown",
   "metadata": {},
   "source": [
    "#### Looks like Chr03"
   ]
  },
  {
   "cell_type": "markdown",
   "metadata": {},
   "source": [
    "### P. perezi"
   ]
  },
  {
   "cell_type": "code",
   "execution_count": 52,
   "metadata": {
    "collapsed": true
   },
   "outputs": [],
   "source": [
    "\n",
    "SLM_fasta = \"/home/djeffrie/Data/RADseq/Final_sex_linked_markers/Pperezi/P_perezi.fa\"\n",
    "\n",
    "## xml format\n",
    "blast_outs = \"%s/NEW_genome_blastouts.xml\" % SLM_fasta.rpartition(\"/\")[0]\n",
    "\n",
    "blastn_cline = BLASTn(query=SLM_fasta, db=Rtemp_db, outfmt=5, out=blast_outs, num_threads = 7, max_target_seqs = 100)\n",
    "\n",
    "stdout, stderr = blastn_cline()\n",
    "\n"
   ]
  },
  {
   "cell_type": "code",
   "execution_count": 53,
   "metadata": {},
   "outputs": [
    {
     "name": "stdout",
     "output_type": "stream",
     "text": [
      "Number of multi-alingments kept: 1\n",
      "Number of unique alingments kept: 4\n"
     ]
    }
   ],
   "source": [
    "blast_outs_path = blast_outs\n",
    "Rtemp_fasta = \"/home/djeffrie/Data/Genomes/Rtemp_hybrid/Genome/Rtemp_hyb_final_assemb.fasta\"\n",
    "evalue_thresh = 1e-20\n",
    "best_hit_criteria = 1e-5\n",
    "window = 2000\n",
    "get_frags = 0\n",
    "verb = 1\n",
    "\n",
    "Kept_blast_records = MISC.BlastParseExtra(blast_outs_path, Rtemp_fasta, best_hit_criteria, evalue_thresh, get_frags, window, 1)"
   ]
  },
  {
   "cell_type": "code",
   "execution_count": 54,
   "metadata": {},
   "outputs": [
    {
     "name": "stdout",
     "output_type": "stream",
     "text": [
      "chr2\n",
      "chr9\n",
      "chr2\n",
      "chr2\n",
      "chr12\n"
     ]
    }
   ],
   "source": [
    "for i in Kept_blast_records:\n",
    "    print Kept_blast_records[i][\"Ref_hit_id\"]"
   ]
  },
  {
   "cell_type": "markdown",
   "metadata": {},
   "source": [
    "#### Maybe Chr2"
   ]
  },
  {
   "cell_type": "markdown",
   "metadata": {},
   "source": [
    "### R. latastei"
   ]
  },
  {
   "cell_type": "code",
   "execution_count": 58,
   "metadata": {
    "collapsed": true
   },
   "outputs": [],
   "source": [
    "\n",
    "SLM_fasta = \"/home/djeffrie/Data/RADseq/Final_sex_linked_markers/Rlatastei/R_latastei.fa\"\n",
    "\n",
    "## xml format\n",
    "blast_outs = \"%s/NEW_genome_blastouts.xml\" % SLM_fasta.rpartition(\"/\")[0]\n",
    "\n",
    "blastn_cline = BLASTn(query=SLM_fasta, db=Rtemp_db, outfmt=5, out=blast_outs, num_threads = 7, max_target_seqs = 100)\n",
    "\n",
    "stdout, stderr = blastn_cline()\n",
    "\n"
   ]
  },
  {
   "cell_type": "code",
   "execution_count": 59,
   "metadata": {},
   "outputs": [
    {
     "name": "stdout",
     "output_type": "stream",
     "text": [
      "Number of multi-alingments kept: 13\n",
      "Number of unique alingments kept: 6\n"
     ]
    }
   ],
   "source": [
    "blast_outs_path = blast_outs\n",
    "Rtemp_fasta = \"/home/djeffrie/Data/Genomes/Rtemp_hybrid/Genome/Rtemp_hyb_final_assemb.fasta\"\n",
    "evalue_thresh = 1e-20\n",
    "best_hit_criteria = 1e-5\n",
    "window = 2000\n",
    "get_frags = 0\n",
    "verb = 1\n",
    "\n",
    "Kept_blast_records = MISC.BlastParseExtra(blast_outs_path, Rtemp_fasta, best_hit_criteria, evalue_thresh, get_frags, window, 1)"
   ]
  },
  {
   "cell_type": "code",
   "execution_count": 60,
   "metadata": {
    "scrolled": true
   },
   "outputs": [
    {
     "name": "stdout",
     "output_type": "stream",
     "text": [
      "chr2\n",
      "chr2\n",
      "Super-Scaffold_2984\n",
      "chr2\n",
      "chr2\n",
      "chr2\n",
      "chr4\n",
      "chr2\n",
      "chr2\n",
      "chr2\n",
      "chr2\n",
      "chr2\n",
      "chr2\n",
      "chr7\n",
      "chr2\n"
     ]
    }
   ],
   "source": [
    "for i in Kept_blast_records:\n",
    "    print Kept_blast_records[i][\"Ref_hit_id\"]"
   ]
  },
  {
   "cell_type": "markdown",
   "metadata": {},
   "source": [
    "#### Definitely Chr2"
   ]
  },
  {
   "cell_type": "markdown",
   "metadata": {},
   "source": [
    "### L. chricahuensis"
   ]
  },
  {
   "cell_type": "code",
   "execution_count": 61,
   "metadata": {
    "collapsed": true
   },
   "outputs": [],
   "source": [
    "\n",
    "SLM_fasta = \"/home/djeffrie/Data/RADseq/Final_sex_linked_markers/Lchiricahuensis/L_chiricahuensis.fa\"\n",
    "\n",
    "## xml format\n",
    "blast_outs = \"%s/NEW_genome_blastouts.xml\" % SLM_fasta.rpartition(\"/\")[0]\n",
    "\n",
    "blastn_cline = BLASTn(query=SLM_fasta, db=Rtemp_db, outfmt=5, out=blast_outs, num_threads = 7, max_target_seqs = 100)\n",
    "\n",
    "stdout, stderr = blastn_cline()\n",
    "\n"
   ]
  },
  {
   "cell_type": "code",
   "execution_count": 62,
   "metadata": {},
   "outputs": [
    {
     "name": "stdout",
     "output_type": "stream",
     "text": [
      "Number of multi-alingments kept: 0\n",
      "Number of unique alingments kept: 4\n"
     ]
    }
   ],
   "source": [
    "blast_outs_path = blast_outs\n",
    "Rtemp_fasta = \"/home/djeffrie/Data/Genomes/Rtemp_hybrid/Genome/Rtemp_hyb_final_assemb.fasta\"\n",
    "evalue_thresh = 1e-20\n",
    "best_hit_criteria = 1e-5\n",
    "window = 2000\n",
    "get_frags = 0\n",
    "verb = 1\n",
    "\n",
    "Kept_blast_records = MISC.BlastParseExtra(blast_outs_path, Rtemp_fasta, best_hit_criteria, evalue_thresh, get_frags, window, 1)"
   ]
  },
  {
   "cell_type": "code",
   "execution_count": 63,
   "metadata": {},
   "outputs": [
    {
     "name": "stdout",
     "output_type": "stream",
     "text": [
      "Super-Scaffold_526\n",
      "Super-Scaffold_291\n",
      "chr2\n"
     ]
    }
   ],
   "source": [
    "for i in Kept_blast_records:\n",
    "    print Kept_blast_records[i][\"Ref_hit_id\"]"
   ]
  },
  {
   "cell_type": "markdown",
   "metadata": {},
   "source": [
    "#### ???"
   ]
  },
  {
   "cell_type": "markdown",
   "metadata": {},
   "source": [
    "### R. ornativentris"
   ]
  },
  {
   "cell_type": "code",
   "execution_count": 66,
   "metadata": {
    "collapsed": true
   },
   "outputs": [],
   "source": [
    "\n",
    "SLM_fasta = \"/home/djeffrie/Data/RADseq/Final_sex_linked_markers/Rornativentris/R_ornativentris_o_ZW.fa\"\n",
    "\n",
    "## xml format\n",
    "blast_outs = \"%s/NEW_genome_blastouts.xml\" % SLM_fasta.rpartition(\"/\")[0]\n",
    "\n",
    "blastn_cline = BLASTn(query=SLM_fasta, db=Rtemp_db, outfmt=5, out=blast_outs, num_threads = 7, max_target_seqs = 100)\n",
    "\n",
    "stdout, stderr = blastn_cline()\n",
    "\n"
   ]
  },
  {
   "cell_type": "code",
   "execution_count": 67,
   "metadata": {},
   "outputs": [
    {
     "name": "stdout",
     "output_type": "stream",
     "text": [
      "Number of multi-alingments kept: 12\n",
      "Number of unique alingments kept: 26\n"
     ]
    }
   ],
   "source": [
    "blast_outs_path = blast_outs\n",
    "Rtemp_fasta = \"/home/djeffrie/Data/Genomes/Rtemp_hybrid/Genome/Rtemp_hyb_final_assemb.fasta\"\n",
    "evalue_thresh = 1e-30\n",
    "best_hit_criteria = 1e-7\n",
    "window = 2000\n",
    "get_frags = 0\n",
    "verb = 1\n",
    "\n",
    "Kept_blast_records = MISC.BlastParseExtra(blast_outs_path, Rtemp_fasta, best_hit_criteria, evalue_thresh, get_frags, window, 1)"
   ]
  },
  {
   "cell_type": "code",
   "execution_count": 68,
   "metadata": {
    "scrolled": false
   },
   "outputs": [
    {
     "name": "stdout",
     "output_type": "stream",
     "text": [
      "Super-Scaffold_914\n",
      "Super-Scaffold_2597\n",
      "chr10\n",
      "chr4\n",
      "chr4\n",
      "chr4\n",
      "chr12\n",
      "chr10\n",
      "chr10\n",
      "chr10\n",
      "chr10\n",
      "chr2\n",
      "chr10\n",
      "chr3\n",
      "chr10\n",
      "chr11\n",
      "chr10\n",
      "chr10\n",
      "chr4\n",
      "chr5\n",
      "chr10\n",
      "chr10\n",
      "chr2\n",
      "Super-Scaffold_1436\n",
      "chr10\n",
      "chr10\n",
      "chr10\n",
      "Super-Scaffold_386\n",
      "Super-Scaffold_2597\n",
      "chr10\n",
      "chr10\n",
      "chr10\n",
      "chr10\n",
      "chr10\n",
      "Super-Scaffold_64\n",
      "chr4\n",
      "Super-Scaffold_2151\n",
      "chr9\n"
     ]
    }
   ],
   "source": [
    "for i in Kept_blast_records:\n",
    "    print Kept_blast_records[i][\"Ref_hit_id\"]"
   ]
  },
  {
   "cell_type": "markdown",
   "metadata": {},
   "source": [
    "#### Messy, but looks like Chr10 is most common (which is likely part of Xen Chr 7). Confirms the previous result"
   ]
  },
  {
   "cell_type": "markdown",
   "metadata": {},
   "source": [
    "### L. pipiens W"
   ]
  },
  {
   "cell_type": "code",
   "execution_count": 34,
   "metadata": {
    "collapsed": true
   },
   "outputs": [],
   "source": [
    "\n",
    "SLM_fasta = \"/home/djeffrie/Data/RADseq/Final_sex_linked_markers/L_pipiens_west/L_pipiens_west.fa\"\n",
    "\n",
    "## xml format\n",
    "blast_outs = \"%s/NEW_genome_blastouts.xml\" % SLM_fasta.rpartition(\"/\")[0]\n",
    "\n",
    "blastn_cline = BLASTn(query=SLM_fasta, db=Rtemp_db, outfmt=5, out=blast_outs, num_threads = 7, max_target_seqs = 100)\n",
    "\n",
    "stdout, stderr = blastn_cline()\n",
    "\n"
   ]
  },
  {
   "cell_type": "code",
   "execution_count": 35,
   "metadata": {},
   "outputs": [
    {
     "name": "stdout",
     "output_type": "stream",
     "text": [
      "Number of multi-alingments kept: 3\n",
      "Number of unique alingments kept: 0\n"
     ]
    }
   ],
   "source": [
    "blast_outs_path = blast_outs\n",
    "Rtemp_fasta = \"/home/djeffrie/Data/Genomes/Rtemp_hybrid/Genome/Rtemp_hyb_final_assemb.fasta\"\n",
    "evalue_thresh = 1e-20\n",
    "best_hit_criteria = 1e-5\n",
    "window = 2000\n",
    "get_frags = 0\n",
    "verb = 1\n",
    "\n",
    "Kept_blast_records = MISC.BlastParseExtra(blast_outs_path, Rtemp_fasta, best_hit_criteria, evalue_thresh, get_frags, window, 1)"
   ]
  },
  {
   "cell_type": "code",
   "execution_count": 36,
   "metadata": {},
   "outputs": [
    {
     "name": "stdout",
     "output_type": "stream",
     "text": [
      "chr13\n",
      "chr2\n",
      "chr2\n"
     ]
    }
   ],
   "source": [
    "for i in Kept_blast_records:\n",
    "    print Kept_blast_records[i][\"Ref_hit_id\"]"
   ]
  },
  {
   "cell_type": "markdown",
   "metadata": {},
   "source": [
    "### R. clamitans (from Lambert et al.)\n"
   ]
  },
  {
   "cell_type": "code",
   "execution_count": 42,
   "metadata": {
    "collapsed": true
   },
   "outputs": [],
   "source": [
    "\n",
    "SLM_fasta = \"/home/djeffrie/Data/RADseq/Final_sex_linked_markers/Rclamitans/R_clamitans.fa\"\n",
    "\n",
    "## xml format\n",
    "blast_outs = \"%s/NEW_genome_blastouts.xml\" % SLM_fasta.rpartition(\"/\")[0]\n",
    "\n",
    "blastn_cline = BLASTn(query=SLM_fasta, db=Rtemp_db, outfmt=5, out=blast_outs, num_threads = 7, max_target_seqs = 100)\n",
    "\n",
    "stdout, stderr = blastn_cline()\n",
    "\n"
   ]
  },
  {
   "cell_type": "code",
   "execution_count": 49,
   "metadata": {},
   "outputs": [
    {
     "name": "stdout",
     "output_type": "stream",
     "text": [
      "Number of multi-alingments kept: 3\n",
      "Number of unique alingments kept: 1\n"
     ]
    }
   ],
   "source": [
    "blast_outs_path = blast_outs\n",
    "Rtemp_fasta = \"/home/djeffrie/Data/Genomes/Rtemp_hybrid/Genome/Rtemp_hyb_final_assemb.fasta\"\n",
    "evalue_thresh = 2\n",
    "best_hit_criteria = 2\n",
    "window = 2000\n",
    "get_frags = 0\n",
    "verb = 1\n",
    "\n",
    "Kept_blast_records = MISC.BlastParseExtra(blast_outs_path, Rtemp_fasta, best_hit_criteria, evalue_thresh, get_frags, window, 1)"
   ]
  },
  {
   "cell_type": "code",
   "execution_count": 50,
   "metadata": {},
   "outputs": [
    {
     "name": "stdout",
     "output_type": "stream",
     "text": [
      "chr2\n",
      "chr1\n",
      "chr5\n",
      "Super-Scaffold_2625\n"
     ]
    }
   ],
   "source": [
    "for i in Kept_blast_records:\n",
    "    print Kept_blast_records[i][\"Ref_hit_id\"]"
   ]
  },
  {
   "cell_type": "code",
   "execution_count": 51,
   "metadata": {},
   "outputs": [
    {
     "data": {
      "text/plain": [
       "{u'RaclCT005': {'Evalue': 1.97034e-11,\n",
       "  'Hit_end_coord': 250077768,\n",
       "  'Hit_start_coord': 250077727,\n",
       "  'Ref_hit_id': 'chr2'},\n",
       " u'RaclCT006': {'Evalue': 3.20862e-06,\n",
       "  'Hit_end_coord': 483819765,\n",
       "  'Hit_start_coord': 483819792,\n",
       "  'Ref_hit_id': 'chr1'},\n",
       " u'RaclCT015': {'Evalue': 1.2229e-08,\n",
       "  'Hit_end_coord': 434936,\n",
       "  'Hit_start_coord': 434903,\n",
       "  'Ref_hit_id': 'Super-Scaffold_2625'},\n",
       " u'RaclCT017': {'Evalue': 2.13252e-08,\n",
       "  'Hit_end_coord': 143385700,\n",
       "  'Hit_start_coord': 143385668,\n",
       "  'Ref_hit_id': 'chr5'}}"
      ]
     },
     "execution_count": 51,
     "metadata": {},
     "output_type": "execute_result"
    }
   ],
   "source": [
    "Kept_blast_records"
   ]
  },
  {
   "cell_type": "markdown",
   "metadata": {},
   "source": [
    "I really don't trust their paper, they have one hit to DMRT1, which is a tag of about 30 bp and hits with an evalue of 1.6! The same tag doesn't even hit our genome! So I will ignore this in our paper. "
   ]
  }
 ],
 "metadata": {
  "kernelspec": {
   "display_name": "Python 2",
   "language": "python",
   "name": "python2"
  },
  "language_info": {
   "codemirror_mode": {
    "name": "ipython",
    "version": 2
   },
   "file_extension": ".py",
   "mimetype": "text/x-python",
   "name": "python",
   "nbconvert_exporter": "python",
   "pygments_lexer": "ipython2",
   "version": "2.7.14"
  }
 },
 "nbformat": 4,
 "nbformat_minor": 2
}
