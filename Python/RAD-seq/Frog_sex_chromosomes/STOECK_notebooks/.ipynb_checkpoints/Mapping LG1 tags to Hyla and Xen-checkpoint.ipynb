{
 "cells": [
  {
   "cell_type": "markdown",
   "metadata": {},
   "source": [
    "## First map tags to B. viridis transcriptome. \n",
    "\n",
    "mapping 1365 RAD tags 94 bp long. "
   ]
  },
  {
   "cell_type": "code",
   "execution_count": 3,
   "metadata": {
    "collapsed": true
   },
   "outputs": [],
   "source": [
    "import MISC_RAD_tools as MISC"
   ]
  },
  {
   "cell_type": "markdown",
   "metadata": {},
   "source": [
    "### With blastn"
   ]
  },
  {
   "cell_type": "code",
   "execution_count": 10,
   "metadata": {
    "collapsed": true
   },
   "outputs": [],
   "source": [
    "mapping_outs = \"/home/djeffrie/Data/RADseq/STOECK/Bviridis/Genome_mapping/Bviridis_transcriptome/LG_to_transctipt_blast.xml\"\n",
    "Bvirid_Transcriptome = \"/home/djeffrie/Data/RADseq/STOECK/Bviridis/Genome_mapping/Bviridis_transcriptome/GDRL01.1.fa\"\n",
    "hit_diff = 1e-5\n",
    "hit_thresh_min = 1e-20\n",
    "window = 1000000"
   ]
  },
  {
   "cell_type": "code",
   "execution_count": 11,
   "metadata": {
    "collapsed": false,
    "scrolled": true
   },
   "outputs": [
    {
     "name": "stdout",
     "output_type": "stream",
     "text": [
      "Number of multi-alingments kept: 22\n",
      "Number of unique alingments kept: 57\n",
      "Getting subject scaffold segments from /home/djeffrie/Data/RADseq/STOECK/Bviridis/Genome_mapping/Bviridis_transcriptome/GDRL01.1.fa . . . \n",
      "0 sequence scaffold segments are in /home/djeffrie/Data/RADseq/STOECK/Bviridis/Genome_mapping/Bviridis_transcriptome/blast_1000000_chunks.fa\n"
     ]
    }
   ],
   "source": [
    "records = MISC.BlastParseExtra(mapping_outs,Bvirid_Transcriptome,hit_diff,hit_thresh_min,window)"
   ]
  },
  {
   "cell_type": "markdown",
   "metadata": {},
   "source": [
    "The transciptome has contig names that are difficult to work with, so have to pull out fasta seqs manually below:"
   ]
  },
  {
   "cell_type": "code",
   "execution_count": 14,
   "metadata": {
    "collapsed": false
   },
   "outputs": [
    {
     "name": "stdout",
     "output_type": "stream",
     "text": [
      "70\n"
     ]
    }
   ],
   "source": [
    "from Bio import SeqIO\n",
    "\n",
    "records_formatted = [records[i][\"Ref_hit_id\"].split(\"|\")[1] for i in records] \n",
    "\n",
    "out_scaffs = open(\"/home/djeffrie/Data/RADseq/STOECK/Bviridis/Genome_mapping/Bviridis_transcriptome/blast_scaffs.fa\", 'w')\n",
    "\n",
    "counter = 0\n",
    "for record in SeqIO.parse(Bvirid_Transcriptome, \"fasta\"):\n",
    "    if record.id.split(\"|\")[1] in records_formatted:\n",
    "        record.id = record.id.split(\"|\")[1]\n",
    "        counter += 1\n",
    "        SeqIO.write(record,out_scaffs, \"fasta\")\n",
    "print counter\n",
    "\n",
    "out_scaffs.close()"
   ]
  },
  {
   "cell_type": "markdown",
   "metadata": {},
   "source": [
    "### Now mapping to Hyla first with blastn"
   ]
  },
  {
   "cell_type": "markdown",
   "metadata": {},
   "source": [
    "### Now with blastx "
   ]
  },
  {
   "cell_type": "code",
   "execution_count": 17,
   "metadata": {
    "collapsed": true
   },
   "outputs": [],
   "source": [
    "mapping_outs = \"/home/djeffrie/Data/RADseq/STOECK/Bviridis/Genome_mapping/Bviridis_transcriptome/Bvir_transcript_to_Hyla_blastx.xml\"\n",
    "Hyla_genome = \"/home/djeffrie/Data/RADseq/STOECK/Bviridis/Genome_mapping/Hyla/HarbK44final.fa\"\n",
    "hit_diff = 1e-5\n",
    "hit_thresh_min = 1e-20\n",
    "window = 1000000\n"
   ]
  },
  {
   "cell_type": "code",
   "execution_count": 18,
   "metadata": {
    "collapsed": false
   },
   "outputs": [
    {
     "name": "stdout",
     "output_type": "stream",
     "text": [
      "Number of multi-alingments kept: 15\n",
      "Number of unique alingments kept: 0\n",
      "Getting subject scaffold segments from /home/djeffrie/Data/RADseq/STOECK/Bviridis/Genome_mapping/Hyla/HarbK44final.fa . . . \n",
      "15 sequence scaffold segments are in /home/djeffrie/Data/RADseq/STOECK/Bviridis/Genome_mapping/Bviridis_transcriptome/blast_1000000_chunks.fa\n"
     ]
    }
   ],
   "source": [
    "records = MISC.BlastParseExtra(mapping_outs,Hyla_genome,hit_diff,hit_thresh_min,window)"
   ]
  },
  {
   "cell_type": "markdown",
   "metadata": {},
   "source": [
    "### Now to Nanorana"
   ]
  },
  {
   "cell_type": "code",
   "execution_count": 22,
   "metadata": {
    "collapsed": true
   },
   "outputs": [],
   "source": [
    "mapping_outs = \"/home/djeffrie/Data/RADseq/STOECK/Bviridis/Genome_mapping/Bviridis_transcriptome/Bvir_transcript_to_Nanorana_blastx.xml\"\n",
    "Nano_genome = \"/home/djeffrie/Data/RADseq/STOECK/Bviridis/Genome_mapping/Nanorana_blast_db/Nanorana_parkeri.genome.v2.fasta\"\n",
    "hit_diff = 1e-5\n",
    "hit_thresh_min = 1e-20\n",
    "window = 1000000\n"
   ]
  },
  {
   "cell_type": "code",
   "execution_count": 23,
   "metadata": {
    "collapsed": false
   },
   "outputs": [
    {
     "name": "stdout",
     "output_type": "stream",
     "text": [
      "Number of multi-alingments kept: 19\n",
      "Number of unique alingments kept: 0\n",
      "Getting subject scaffold segments from /home/djeffrie/Data/RADseq/STOECK/Bviridis/Genome_mapping/Nanorana_blast_db/Nanorana_parkeri.genome.v2.fasta . . . \n",
      "19 sequence scaffold segments are in /home/djeffrie/Data/RADseq/STOECK/Bviridis/Genome_mapping/Bviridis_transcriptome/blast_1000000_chunks.fa\n"
     ]
    }
   ],
   "source": [
    "records = MISC.BlastParseExtra(mapping_outs,Nano_genome,hit_diff,hit_thresh_min,window)"
   ]
  },
  {
   "cell_type": "markdown",
   "metadata": {},
   "source": [
    "###Now to Xenopus"
   ]
  },
  {
   "cell_type": "code",
   "execution_count": 25,
   "metadata": {
    "collapsed": true
   },
   "outputs": [],
   "source": [
    "mapping_outs = \"/home/djeffrie/Data/RADseq/STOECK/Bviridis/Genome_mapping/Bviridis_transcriptome/Bvir_transcript_to_Xenopus_blastx.xml\"\n",
    "Xen_genome = \"/home/djeffrie/Data/RADseq/STOECK/Bviridis/Genome_mapping/Xenopus_genome/Xtropicalis.v9.repeatMasked.fa\"\n",
    "hit_diff = 1e-5\n",
    "hit_thresh_min = 1e-20\n",
    "window = 1000000\n"
   ]
  },
  {
   "cell_type": "code",
   "execution_count": 26,
   "metadata": {
    "collapsed": false
   },
   "outputs": [
    {
     "name": "stdout",
     "output_type": "stream",
     "text": [
      "Number of multi-alingments kept: 14\n",
      "Number of unique alingments kept: 0\n",
      "Getting subject scaffold segments from /home/djeffrie/Data/RADseq/STOECK/Bviridis/Genome_mapping/Xenopus_genome/Xtropicalis.v9.repeatMasked.fa . . . \n",
      "14 sequence scaffold segments are in /home/djeffrie/Data/RADseq/STOECK/Bviridis/Genome_mapping/Bviridis_transcriptome/blast_1000000_chunks.fa\n"
     ]
    }
   ],
   "source": [
    "records = MISC.BlastParseExtra(mapping_outs,Xen_genome,hit_diff,hit_thresh_min,window)"
   ]
  },
  {
   "cell_type": "markdown",
   "metadata": {},
   "source": [
    "I get 14 hits, but they are all over the place. \n",
    "\n",
    "Chr01  \n",
    "Chr02  \n",
    "Chr04  \n",
    "Chr04  \n",
    "Chr04  \n",
    "Chr05  \n",
    "Chr07  \n",
    "Chr07  \n",
    "Chr08  \n",
    "Chr08  \n",
    "Chr08  \n",
    "Chr08  \n",
    "Chr09  \n",
    "scaffold_347"
   ]
  },
  {
   "cell_type": "markdown",
   "metadata": {},
   "source": [
    "So it could be that the loci LG1 aren't actually linked, and the linkage map is just wrong. So I will try mapping just the Sex linked tags instead. . . "
   ]
  },
  {
   "cell_type": "markdown",
   "metadata": {},
   "source": [
    "### Now mapping just the sex linked tags to the genomes.\n",
    "\n",
    "258 sex linked tags identified across all 3 families. "
   ]
  },
  {
   "cell_type": "code",
   "execution_count": 46,
   "metadata": {
    "collapsed": true
   },
   "outputs": [],
   "source": [
    "mapping_outs = \"/home/djeffrie/Data/RADseq/STOECK/Bviridis/Genome_mapping/Bviridis_transcriptome/SL_markers_to_Bviri_transcriptome.xml\"\n",
    "Bvirid_Transcriptome = \"/home/djeffrie/Data/RADseq/STOECK/Bviridis/Genome_mapping/Bviridis_transcriptome/GDRL01.1.fa\"\n",
    "hit_diff = 1e-5\n",
    "hit_thresh_min = 1e-20\n",
    "window = 1000000\n"
   ]
  },
  {
   "cell_type": "code",
   "execution_count": 47,
   "metadata": {
    "collapsed": false
   },
   "outputs": [
    {
     "name": "stdout",
     "output_type": "stream",
     "text": [
      "Number of multi-alingments kept: 3\n",
      "Number of unique alingments kept: 13\n",
      "Getting subject scaffold segments from /home/djeffrie/Data/RADseq/STOECK/Bviridis/Genome_mapping/Bviridis_transcriptome/GDRL01.1.fa . . . \n",
      "0 sequence scaffold segments are in /home/djeffrie/Data/RADseq/STOECK/Bviridis/Genome_mapping/Bviridis_transcriptome/blast_1000000_chunks.fa\n"
     ]
    }
   ],
   "source": [
    "records = MISC.BlastParseExtra(mapping_outs,Bvirid_Transcriptome,hit_diff,hit_thresh_min,window)"
   ]
  },
  {
   "cell_type": "markdown",
   "metadata": {},
   "source": [
    "Kept 16 in total. Quite good. Try to map to the xenopus genome with blastx"
   ]
  },
  {
   "cell_type": "code",
   "execution_count": 36,
   "metadata": {
    "collapsed": false
   },
   "outputs": [
    {
     "name": "stdout",
     "output_type": "stream",
     "text": [
      "13 sequences\n"
     ]
    }
   ],
   "source": [
    "from Bio import SeqIO\n",
    "\n",
    "records_formatted = [records[i][\"Ref_hit_id\"].split(\"|\")[1] for i in records] \n",
    "\n",
    "out_scaffs = open(\"/home/djeffrie/Data/RADseq/STOECK/Bviridis/Genome_mapping/Bviridis_transcriptome/SL_to_transcr_blast_scaffs.fa\", 'w')\n",
    "\n",
    "counter = 0\n",
    "for record in SeqIO.parse(Bvirid_Transcriptome, \"fasta\"):\n",
    "    if record.id.split(\"|\")[1] in records_formatted:\n",
    "        record.id = record.id.split(\"|\")[1]\n",
    "        counter += 1\n",
    "        SeqIO.write(record,out_scaffs, \"fasta\")\n",
    "print counter, \"sequences\"\n",
    "\n",
    "out_scaffs.close()"
   ]
  },
  {
   "cell_type": "markdown",
   "metadata": {},
   "source": [
    "Blastx'd these against the Xen genome. "
   ]
  },
  {
   "cell_type": "code",
   "execution_count": 59,
   "metadata": {
    "collapsed": true
   },
   "outputs": [],
   "source": [
    "mapping_outs = \"/home/djeffrie/Data/RADseq/STOECK/Bviridis/Genome_mapping/Bviridis_transcriptome/SL_Bviri_transcripts_to_Xen_blastx.xml\"\n",
    "Xen_genome = \"/home/djeffrie/Data/RADseq/STOECK/Bviridis/Genome_mapping/Xenopus_genome/Xtropicalis.v9.repeatMasked.fa\"\n",
    "hit_diff = 1e-5\n",
    "hit_thresh_min = 1e-20\n",
    "window = 1000000"
   ]
  },
  {
   "cell_type": "code",
   "execution_count": 60,
   "metadata": {
    "collapsed": false
   },
   "outputs": [
    {
     "name": "stdout",
     "output_type": "stream",
     "text": [
      "Number of multi-alingments kept: 1\n",
      "Number of unique alingments kept: 0\n",
      "Getting subject scaffold segments from /home/djeffrie/Data/RADseq/STOECK/Bviridis/Genome_mapping/Xenopus_genome/Xtropicalis.v9.repeatMasked.fa . . . \n",
      "1 sequence scaffold segments are in /home/djeffrie/Data/RADseq/STOECK/Bviridis/Genome_mapping/Bviridis_transcriptome/blast_1000000_chunks.fa\n"
     ]
    }
   ],
   "source": [
    "records = MISC.BlastParseExtra(mapping_outs,Xen_genome,hit_diff,hit_thresh_min,window)"
   ]
  },
  {
   "cell_type": "code",
   "execution_count": 58,
   "metadata": {
    "collapsed": false
   },
   "outputs": [
    {
     "data": {
      "text/plain": [
       "{u'GDRL01074880.1 gb|GDRL01074880.1| TSA: Bufotes viridis Unigene104174_Bufo_viridis transcribed RNA sequence': {'Evalue': 7.0875e-94,\n",
       "  'Hit_end_coord': 51741263,\n",
       "  'Hit_start_coord': 51740838,\n",
       "  'Ref_hit_id': 'Chr01'}}"
      ]
     },
     "execution_count": 58,
     "metadata": {},
     "output_type": "execute_result"
    }
   ],
   "source": [
    "records"
   ]
  },
  {
   "cell_type": "markdown",
   "metadata": {},
   "source": [
    "This hits chromosome 1"
   ]
  },
  {
   "cell_type": "markdown",
   "metadata": {},
   "source": [
    "## Then try to match the transcripts using the gene IDs"
   ]
  },
  {
   "cell_type": "code",
   "execution_count": 48,
   "metadata": {
    "collapsed": false
   },
   "outputs": [],
   "source": [
    "unigenes = []\n",
    "for i in records:\n",
    "    unigenes.append(records[i][\"Ref_hit_id\"].split()[4].split(\"_\")[0].split(\"e\")[2])\n",
    "  "
   ]
  },
  {
   "cell_type": "code",
   "execution_count": 49,
   "metadata": {
    "collapsed": false
   },
   "outputs": [
    {
     "name": "stdout",
     "output_type": "stream",
     "text": [
      "Unigene 101306 contains gene TPRXL\n",
      "Unigene 104174 contains gene ccrn4l\n",
      "No annotation for Bviridis transcript 105505\n",
      "No annotation for Bviridis transcript 13941\n",
      "No annotation for Bviridis transcript 147\n",
      "No annotation for Bviridis transcript 44119\n",
      "No annotation for Bviridis transcript 5228\n",
      "No annotation for Bviridis transcript 5714\n",
      "No annotation for Bviridis transcript 60938\n",
      "No annotation for Bviridis transcript 82323\n",
      "No annotation for Bviridis transcript 82932\n",
      "No annotation for Bviridis transcript 83519\n",
      "No annotation for Bviridis transcript 88333\n",
      "ccrn4l\n"
     ]
    }
   ],
   "source": [
    "unigenes = []\n",
    "for i in records:\n",
    "    unigenes.append(records[i][\"Ref_hit_id\"].split()[4].split(\"_\")[0].split(\"e\")[2])\n",
    "    \n",
    "### Get the gene IDs that go with the unigenes\n",
    "\n",
    "Bvirid_annotations = open(\"/home/djeffrie/Data/RADseq/STOECK/Bviridis/Genome_mapping/Bviridis_transcriptome/Annotations/Bvirid_transcriptome_annotations.csv\", 'r').readlines()[1:]\n",
    "\n",
    "annotated_RAD_transcripts = {}\n",
    "\n",
    "for line in Bvirid_annotations:\n",
    "    unigene_ID = line.split()[0].split(\"_\")[0].split(\"ne\")[1]\n",
    "    \n",
    "    if unigene_ID in unigenes:\n",
    "        \n",
    "        if \"GN=\" in line:\n",
    "            for field in line.split():\n",
    "                if \"GN=\" in field:\n",
    "                    gene_name = field.split(\"=\")[1]\n",
    "            annotated_RAD_transcripts[unigene_ID] = gene_name.lower() ## make sure its all lower case\n",
    "            print \"Unigene %s contains gene %s\" % (unigene_ID, gene_name)\n",
    "        else:\n",
    "            print \"No annotation for Bviridis transcript %s\" % unigene_ID\n",
    "\n",
    "### Now get the location of these genes in the Xenopus assembly\n",
    "\n",
    "Xen_scaff_1_annotation = open(\"/home/djeffrie/Data/RADseq/STOECK/Bviridis/Genome_mapping/Bviridis_transcriptome/Annotations/Xen_scaffold_1_annotations.csv\", 'r').readlines()\n",
    "\n",
    "for line in Xen_scaff_1_annotation:\n",
    "    gene_name = line.split()[6]\n",
    "    \n",
    "    if gene_name in annotated_RAD_transcripts.values():\n",
    "        print gene_name\n"
   ]
  },
  {
   "cell_type": "markdown",
   "metadata": {},
   "source": [
    "### Now Mapping RADtags from LG1 onto the bviridis transcriptome. "
   ]
  },
  {
   "cell_type": "markdown",
   "metadata": {},
   "source": [
    "### With blastx\n",
    "\n",
    "Shouldn't make too much difference, they are the same species. "
   ]
  },
  {
   "cell_type": "code",
   "execution_count": 61,
   "metadata": {
    "collapsed": true
   },
   "outputs": [],
   "source": [
    "mapping_outs = \"/home/djeffrie/Data/RADseq/STOECK/Bviridis/Genome_mapping/Bviridis_transcriptome/LG_to_transcript_blastx.xml\"\n",
    "Bvirid_Transcriptome = \"/home/djeffrie/Data/RADseq/STOECK/Bviridis/Genome_mapping/Bviridis_transcriptome/GDRL01.1.fa\"\n",
    "hit_diff = 1e-5\n",
    "hit_thresh_min = 1e-20\n",
    "window = 1000000"
   ]
  },
  {
   "cell_type": "code",
   "execution_count": 62,
   "metadata": {
    "collapsed": false
   },
   "outputs": [
    {
     "name": "stdout",
     "output_type": "stream",
     "text": [
      "Number of multi-alingments kept: 0\n",
      "Number of unique alingments kept: 0\n",
      "Getting subject scaffold segments from /home/djeffrie/Data/RADseq/STOECK/Bviridis/Genome_mapping/Bviridis_transcriptome/GDRL01.1.fa . . . \n",
      "0 sequence scaffold segments are in /home/djeffrie/Data/RADseq/STOECK/Bviridis/Genome_mapping/Bviridis_transcriptome/blast_1000000_chunks.fa\n"
     ]
    },
    {
     "data": {
      "text/plain": [
       "{}"
      ]
     },
     "execution_count": 62,
     "metadata": {},
     "output_type": "execute_result"
    }
   ],
   "source": [
    "MISC.BlastParseExtra(mapping_outs,Bvirid_Transcriptome,hit_diff,hit_thresh_min,window)"
   ]
  },
  {
   "cell_type": "markdown",
   "metadata": {},
   "source": [
    "Ok, so there are a huge number of hits for each tag. I think this is all false positives - converting only 94bp to AAs is going to give very little seq to work with.  . . .so blastx will be better used in the next step"
   ]
  },
  {
   "cell_type": "code",
   "execution_count": 63,
   "metadata": {
    "collapsed": true
   },
   "outputs": [],
   "source": [
    "mapping_outs = \"/home/djeffrie/Data/RADseq/STOECK/Bviridis/Genome_mapping/Bviridis_transcriptome/LG_to_transctipt_blast.xml\"\n",
    "Bvirid_Transcriptome = \"/home/djeffrie/Data/RADseq/STOECK/Bviridis/Genome_mapping/Bviridis_transcriptome/GDRL01.1.fa\"\n",
    "hit_diff = 1e-5\n",
    "hit_thresh_min = 1e-20\n",
    "window = 1000000"
   ]
  },
  {
   "cell_type": "code",
   "execution_count": 65,
   "metadata": {
    "collapsed": false
   },
   "outputs": [
    {
     "name": "stdout",
     "output_type": "stream",
     "text": [
      "Number of multi-alingments kept: 22\n",
      "Number of unique alingments kept: 57\n",
      "Getting subject scaffold segments from /home/djeffrie/Data/RADseq/STOECK/Bviridis/Genome_mapping/Bviridis_transcriptome/GDRL01.1.fa . . . \n",
      "0 sequence scaffold segments are in /home/djeffrie/Data/RADseq/STOECK/Bviridis/Genome_mapping/Bviridis_transcriptome/blast_1000000_chunks.fa\n"
     ]
    }
   ],
   "source": [
    "records = MISC.BlastParseExtra(mapping_outs,Bvirid_Transcriptome,hit_diff,hit_thresh_min,window)"
   ]
  },
  {
   "cell_type": "markdown",
   "metadata": {},
   "source": [
    "79 hits of LG1 tags to the transcriptome"
   ]
  },
  {
   "cell_type": "code",
   "execution_count": 66,
   "metadata": {
    "collapsed": false
   },
   "outputs": [
    {
     "name": "stdout",
     "output_type": "stream",
     "text": [
      "69 sequences\n"
     ]
    }
   ],
   "source": [
    "## Get the transcripts from the viridis transcriptome\n",
    "\n",
    "from Bio import SeqIO\n",
    "\n",
    "records_formatted = [records[i][\"Ref_hit_id\"].split(\"|\")[1] for i in records] \n",
    "\n",
    "out_scaffs = open(\"/home/djeffrie/Data/RADseq/STOECK/Bviridis/Genome_mapping/Bviridis_transcriptome/LG_tags_to_transcr_blast_scaffs.fa\", 'w')\n",
    "\n",
    "counter = 0\n",
    "for record in SeqIO.parse(Bvirid_Transcriptome, \"fasta\"):\n",
    "    if record.id.split(\"|\")[1] in records_formatted:\n",
    "        record.id = record.id.split(\"|\")[1]\n",
    "        counter += 1\n",
    "        SeqIO.write(record,out_scaffs, \"fasta\")\n",
    "print counter, \"sequences\"\n",
    "\n",
    "out_scaffs.close()"
   ]
  },
  {
   "cell_type": "markdown",
   "metadata": {},
   "source": [
    "Now tblastx these against the Xenopus genome"
   ]
  },
  {
   "cell_type": "code",
   "execution_count": 68,
   "metadata": {
    "collapsed": true
   },
   "outputs": [],
   "source": [
    "mapping_outs = \"/home/djeffrie/Data/RADseq/STOECK/Bviridis/Genome_mapping/Bviridis_transcriptome/LG_tag_Bviri_transcripts_to_Xen_blastx.xml\"\n",
    "Bvirid_Transcriptome = \"/home/djeffrie/Data/RADseq/STOECK/Bviridis/Genome_mapping/Xenopus_genome/Xtropicalis.v9.repeatMasked.fa\"\n",
    "hit_diff = 1e-5\n",
    "hit_thresh_min = 1e-20\n",
    "window = 1000000"
   ]
  },
  {
   "cell_type": "code",
   "execution_count": 70,
   "metadata": {
    "collapsed": false
   },
   "outputs": [
    {
     "name": "stdout",
     "output_type": "stream",
     "text": [
      "Number of multi-alingments kept: 14\n",
      "Number of unique alingments kept: 0\n",
      "Getting subject scaffold segments from /home/djeffrie/Data/RADseq/STOECK/Bviridis/Genome_mapping/Xenopus_genome/Xtropicalis.v9.repeatMasked.fa . . . \n",
      "14 sequence scaffold segments are in /home/djeffrie/Data/RADseq/STOECK/Bviridis/Genome_mapping/Bviridis_transcriptome/blast_1000000_chunks.fa\n"
     ]
    }
   ],
   "source": [
    "records = MISC.BlastParseExtra(mapping_outs,Bvirid_Transcriptome,hit_diff,hit_thresh_min,window)"
   ]
  },
  {
   "cell_type": "markdown",
   "metadata": {},
   "source": [
    "These are a mess! They map to chromosomes 1,2,4,5,7,8,9. Suggests that the linkage map is wrong"
   ]
  },
  {
   "cell_type": "markdown",
   "metadata": {},
   "source": [
    "### Now mapping sex linked tags to Hyla arborea genome draft"
   ]
  },
  {
   "cell_type": "code",
   "execution_count": 75,
   "metadata": {
    "collapsed": true
   },
   "outputs": [],
   "source": [
    "mapping_outs = \"/home/djeffrie/Data/RADseq/STOECK/Bviridis/Genome_mapping/Hyla/SL_tags_to_Hyla_blastn.xml\"\n",
    "Bvirid_Transcriptome = \"/home/djeffrie/Data/RADseq/STOECK/Bviridis/Genome_mapping/Hyla/HarbK44final.fa\"\n",
    "hit_diff = 1e-5\n",
    "hit_thresh_min = 1e-20\n",
    "window = 1000000"
   ]
  },
  {
   "cell_type": "code",
   "execution_count": 76,
   "metadata": {
    "collapsed": false
   },
   "outputs": [
    {
     "name": "stdout",
     "output_type": "stream",
     "text": [
      "Number of multi-alingments kept: 0\n",
      "Number of unique alingments kept: 1\n",
      "Getting subject scaffold segments from /home/djeffrie/Data/RADseq/STOECK/Bviridis/Genome_mapping/Hyla/HarbK44final.fa . . . \n",
      "1 sequence scaffold segments are in /home/djeffrie/Data/RADseq/STOECK/Bviridis/Genome_mapping/Hyla/blast_1000000_chunks.fa\n"
     ]
    }
   ],
   "source": [
    "records = MISC.BlastParseExtra(mapping_outs,Bvirid_Transcriptome,hit_diff,hit_thresh_min,window)"
   ]
  },
  {
   "cell_type": "markdown",
   "metadata": {},
   "source": [
    "This sequence cannot be mapped to Xenopus. "
   ]
  },
  {
   "cell_type": "markdown",
   "metadata": {},
   "source": [
    "### Now trying Sex linked tags to nanorana"
   ]
  },
  {
   "cell_type": "code",
   "execution_count": 84,
   "metadata": {
    "collapsed": true
   },
   "outputs": [],
   "source": [
    "mapping_outs = \"/home/djeffrie/Data/RADseq/STOECK/Bviridis/Genome_mapping/Nanorana_blast_db//SL_tags_to_Nano_blastn.xml\"\n",
    "Hyla_Genome = \"/home/djeffrie/Data/RADseq/STOECK/Bviridis/Genome_mapping/Nanorana_blast_db/Nanorana_parkeri.genome.v2.fasta\"\n",
    "hit_diff = 1e-5\n",
    "hit_thresh_min = 1e-20\n",
    "window = 1000000"
   ]
  },
  {
   "cell_type": "code",
   "execution_count": 85,
   "metadata": {
    "collapsed": false
   },
   "outputs": [
    {
     "name": "stdout",
     "output_type": "stream",
     "text": [
      "Number of multi-alingments kept: 0\n",
      "Number of unique alingments kept: 1\n",
      "Getting subject scaffold segments from /home/djeffrie/Data/RADseq/STOECK/Bviridis/Genome_mapping/Nanorana_blast_db/Nanorana_parkeri.genome.v2.fasta . . . \n",
      "1 sequence scaffold segments are in /home/djeffrie/Data/RADseq/STOECK/Bviridis/Genome_mapping/Nanorana_blast_db//blast_1000000_chunks.fa\n"
     ]
    }
   ],
   "source": [
    "records = MISC.BlastParseExtra(mapping_outs,Hyla_Genome,hit_diff,hit_thresh_min,window)"
   ]
  },
  {
   "cell_type": "code",
   "execution_count": 82,
   "metadata": {
    "collapsed": true
   },
   "outputs": [],
   "source": [
    "mapping_outs = \"/home/djeffrie/Data/RADseq/STOECK/Bviridis/Genome_mapping/Nanorana_blast_db/SL_Nano_chunk_to_Xen_blastn.xml\"\n",
    "Hyla_Genome = \"/home/djeffrie/Data/RADseq/STOECK/Bviridis/Genome_mapping/Xenopus_genome/Xtropicalis.v9.repeatMasked.fa\"\n",
    "hit_diff = 1e-5\n",
    "hit_thresh_min = 1e-20\n",
    "window = 1000000"
   ]
  },
  {
   "cell_type": "code",
   "execution_count": 83,
   "metadata": {
    "collapsed": false
   },
   "outputs": [
    {
     "name": "stdout",
     "output_type": "stream",
     "text": [
      "Number of multi-alingments kept: 0\n",
      "Number of unique alingments kept: 0\n",
      "Getting subject scaffold segments from /home/djeffrie/Data/RADseq/STOECK/Bviridis/Genome_mapping/Xenopus_genome/Xtropicalis.v9.repeatMasked.fa . . . \n",
      "0 sequence scaffold segments are in /home/djeffrie/Data/RADseq/STOECK/Bviridis/Genome_mapping/Nanorana_blast_db/blast_1000000_chunks.fa\n"
     ]
    }
   ],
   "source": [
    "records = MISC.BlastParseExtra(mapping_outs,Hyla_Genome,hit_diff,hit_thresh_min,window)"
   ]
  },
  {
   "cell_type": "code",
   "execution_count": 15,
   "metadata": {
    "collapsed": true
   },
   "outputs": [],
   "source": [
    "mapping_outs = \"/home/djeffrie/Data/RADseq/STOECK/Bviridis/Genome_mapping/Hyla/Nanorana_chunks_to_Xenopus.xml\"\n",
    "Hyla_Genome = \"/home/djeffrie/Data/RADseq/STOECK/Bviridis/Genome_mapping/Xenopus_genome/Xtropicalis.v9.repeatMasked.fa\"\n",
    "hit_diff = 1e-5\n",
    "hit_thresh_min = 1e-20\n",
    "window = 1000000"
   ]
  },
  {
   "cell_type": "code",
   "execution_count": 16,
   "metadata": {
    "collapsed": false
   },
   "outputs": [
    {
     "name": "stdout",
     "output_type": "stream",
     "text": [
      "Number of multi-alingments kept: 3\n",
      "Number of unique alingments kept: 0\n",
      "Getting subject scaffold segments from /home/djeffrie/Data/RADseq/STOECK/Bviridis/Genome_mapping/Xenopus_genome/Xtropicalis.v9.repeatMasked.fa . . . \n",
      "3 sequence scaffold segments are in /home/djeffrie/Data/RADseq/STOECK/Bviridis/Genome_mapping/Hyla/blast_1000000_chunks.fa\n"
     ]
    },
    {
     "data": {
      "text/plain": [
       "{u'scaffold1158': {'Evalue': 0.0,\n",
       "  'Hit_end_coord': 63040084,\n",
       "  'Hit_start_coord': 63036533,\n",
       "  'Ref_hit_id': 'Chr03'},\n",
       " u'scaffold217': {'Evalue': 0.0,\n",
       "  'Hit_end_coord': 96259331,\n",
       "  'Hit_start_coord': 96258429,\n",
       "  'Ref_hit_id': 'Chr04'},\n",
       " u'scaffold907': {'Evalue': 0.0,\n",
       "  'Hit_end_coord': 124320686,\n",
       "  'Hit_start_coord': 124321614,\n",
       "  'Ref_hit_id': 'Chr02'}}"
      ]
     },
     "execution_count": 16,
     "metadata": {},
     "output_type": "execute_result"
    }
   ],
   "source": [
    "MISC.BlastParseExtra(mapping_outs,Hyla_Genome,hit_diff,hit_thresh_min,window)"
   ]
  },
  {
   "cell_type": "markdown",
   "metadata": {},
   "source": [
    "### Now trying the B_viridis transcriptome"
   ]
  },
  {
   "cell_type": "code",
   "execution_count": 21,
   "metadata": {
    "collapsed": true
   },
   "outputs": [],
   "source": [
    "mapping_outs = \"/home/djeffrie/Data/RADseq/STOECK/Bviridis/Genome_mapping/Bviridis_transcriptome/LG_to_transctipt_blast.xml\"\n",
    "Bvirid_transcriptome = \"/home/djeffrie/Data/RADseq/STOECK/Bviridis/Genome_mapping/Bviridis_transcriptome/GDRL01.1.fa\"\n",
    "hit_diff = 1e-5\n",
    "hit_thresh_min = 1e-20\n",
    "window = 1000000"
   ]
  },
  {
   "cell_type": "code",
   "execution_count": 27,
   "metadata": {
    "collapsed": false
   },
   "outputs": [
    {
     "name": "stdout",
     "output_type": "stream",
     "text": [
      "Number of multi-alingments kept: 22\n",
      "Number of unique alingments kept: 57\n",
      "Getting subject scaffold segments from /home/djeffrie/Data/RADseq/STOECK/Bviridis/Genome_mapping/Bviridis_transcriptome/GDRL01.1.fa . . . \n",
      "0 sequence scaffold segments are in /home/djeffrie/Data/RADseq/STOECK/Bviridis/Genome_mapping/Bviridis_transcriptome/blast_1000000_chunks.fa\n"
     ]
    },
    {
     "data": {
      "text/plain": [
       "{u'10009': {'Evalue': 2.38324e-43,\n",
       "  'Hit_end_coord': 405,\n",
       "  'Hit_start_coord': 313,\n",
       "  'Ref_hit_id': 'gb|GDRL01073003.1| TSA: Bufotes viridis Unigene102295_Bufo_viridis transcribed RNA sequence'},\n",
       " u'10287': {'Evalue': 4.10247e-21,\n",
       "  'Hit_end_coord': 291,\n",
       "  'Hit_start_coord': 206,\n",
       "  'Ref_hit_id': 'gb|GDRL01061619.1| TSA: Bufotes viridis Unigene90900_Bufo_viridis transcribed RNA sequence'},\n",
       " u'10591': {'Evalue': 5.23232e-30,\n",
       "  'Hit_end_coord': 125,\n",
       "  'Hit_start_coord': 217,\n",
       "  'Ref_hit_id': 'gb|GDRL01022415.1| TSA: Bufotes viridis Unigene51660_Bufo_viridis transcribed RNA sequence'},\n",
       " u'10631': {'Evalue': 1.85544e-39,\n",
       "  'Hit_end_coord': 166,\n",
       "  'Hit_start_coord': 256,\n",
       "  'Ref_hit_id': 'gb|GDRL01006475.1| TSA: Bufotes viridis Unigene7725_Bufo_viridis transcribed RNA sequence'},\n",
       " u'10997': {'Evalue': 8.81769e-23,\n",
       "  'Hit_end_coord': 132,\n",
       "  'Hit_start_coord': 217,\n",
       "  'Ref_hit_id': 'gb|GDRL01022415.1| TSA: Bufotes viridis Unigene51660_Bufo_viridis transcribed RNA sequence'},\n",
       " u'11065': {'Evalue': 4.07355e-26,\n",
       "  'Hit_end_coord': 816,\n",
       "  'Hit_start_coord': 877,\n",
       "  'Ref_hit_id': 'gb|GDRL01075935.1| TSA: Bufotes viridis Unigene105229_Bufo_viridis transcribed RNA sequence'},\n",
       " u'11213': {'Evalue': 5.23232e-30,\n",
       "  'Hit_end_coord': 8,\n",
       "  'Hit_start_coord': 100,\n",
       "  'Ref_hit_id': 'gb|GDRL01075882.1| TSA: Bufotes viridis Unigene105176_Bufo_viridis transcribed RNA sequence'},\n",
       " u'11279': {'Evalue': 8.81769e-23,\n",
       "  'Hit_end_coord': 290,\n",
       "  'Hit_start_coord': 235,\n",
       "  'Ref_hit_id': 'gb|GDRL01045056.1| TSA: Bufotes viridis Unigene74319_Bufo_viridis transcribed RNA sequence'},\n",
       " u'11454': {'Evalue': 6.67334e-39,\n",
       "  'Hit_end_coord': 260,\n",
       "  'Hit_start_coord': 170,\n",
       "  'Ref_hit_id': 'gb|GDRL01007429.1| TSA: Bufotes viridis Unigene8897_Bufo_viridis transcribed RNA sequence'},\n",
       " u'1163': {'Evalue': 1.11669e-36,\n",
       "  'Hit_end_coord': 332,\n",
       "  'Hit_start_coord': 240,\n",
       "  'Ref_hit_id': 'gb|GDRL01052638.1| TSA: Bufotes viridis Unigene81911_Bufo_viridis transcribed RNA sequence'},\n",
       " u'11744': {'Evalue': 1.89524e-24,\n",
       "  'Hit_end_coord': 239,\n",
       "  'Hit_start_coord': 160,\n",
       "  'Ref_hit_id': 'gb|GDRL01002723.1| TSA: Bufotes viridis Unigene3217_Bufo_viridis transcribed RNA sequence'},\n",
       " u'11746': {'Evalue': 4.10247e-21,\n",
       "  'Hit_end_coord': 89,\n",
       "  'Hit_start_coord': 13,\n",
       "  'Ref_hit_id': 'gb|GDRL01058733.1| TSA: Bufotes viridis Unigene88013_Bufo_viridis transcribed RNA sequence'},\n",
       " u'11776': {'Evalue': 2.38324e-43,\n",
       "  'Hit_end_coord': 107,\n",
       "  'Hit_start_coord': 199,\n",
       "  'Ref_hit_id': 'gb|GDRL01046970.1| TSA: Bufotes viridis Unigene76234_Bufo_viridis transcribed RNA sequence'},\n",
       " u'12115': {'Evalue': 3.1714e-22,\n",
       "  'Hit_end_coord': 100,\n",
       "  'Hit_start_coord': 34,\n",
       "  'Ref_hit_id': 'gb|GDRL01037406.1| TSA: Bufotes viridis Unigene66663_Bufo_viridis transcribed RNA sequence'},\n",
       " u'12167': {'Evalue': 8.75552e-28,\n",
       "  'Hit_end_coord': 815,\n",
       "  'Hit_start_coord': 724,\n",
       "  'Ref_hit_id': 'gb|GDRL01012559.1| TSA: Bufotes viridis Unigene15182_Bufo_viridis transcribed RNA sequence'},\n",
       " u'12262': {'Evalue': 8.75552e-28,\n",
       "  'Hit_end_coord': 72,\n",
       "  'Hit_start_coord': 154,\n",
       "  'Ref_hit_id': 'gb|GDRL01073075.1| TSA: Bufotes viridis Unigene102367_Bufo_viridis transcribed RNA sequence'},\n",
       " u'12619': {'Evalue': 1.12461e-31,\n",
       "  'Hit_end_coord': 126,\n",
       "  'Hit_start_coord': 40,\n",
       "  'Ref_hit_id': 'gb|GDRL01005904.1| TSA: Bufotes viridis Unigene7054_Bufo_viridis transcribed RNA sequence'},\n",
       " u'12656': {'Evalue': 4.07355e-26,\n",
       "  'Hit_end_coord': 89,\n",
       "  'Hit_start_coord': 7,\n",
       "  'Ref_hit_id': 'gb|GDRL01064705.1| TSA: Bufotes viridis Unigene93990_Bufo_viridis transcribed RNA sequence'},\n",
       " u'12895': {'Evalue': 1.89524e-24,\n",
       "  'Hit_end_coord': 183,\n",
       "  'Hit_start_coord': 104,\n",
       "  'Ref_hit_id': 'gb|GDRL01039392.1| TSA: Bufotes viridis Unigene68652_Bufo_viridis transcribed RNA sequence'},\n",
       " u'13057': {'Evalue': 1.14064e-21,\n",
       "  'Hit_end_coord': 1070,\n",
       "  'Hit_start_coord': 1157,\n",
       "  'Ref_hit_id': 'gb|GDRL01079496.1| TSA: Bufotes viridis Unigene108791_Bufo_viridis transcribed RNA sequence'},\n",
       " u'13065': {'Evalue': 1.12461e-31,\n",
       "  'Hit_end_coord': 72,\n",
       "  'Hit_start_coord': 1,\n",
       "  'Ref_hit_id': 'gb|GDRL01006542.1| TSA: Bufotes viridis Unigene7803_Bufo_viridis transcribed RNA sequence'},\n",
       " u'13122': {'Evalue': 1.45478e-30,\n",
       "  'Hit_end_coord': 178,\n",
       "  'Hit_start_coord': 100,\n",
       "  'Ref_hit_id': 'gb|GDRL01027792.1| TSA: Bufotes viridis Unigene57044_Bufo_viridis transcribed RNA sequence'},\n",
       " u'13609': {'Evalue': 2.38324e-43,\n",
       "  'Hit_end_coord': 113,\n",
       "  'Hit_start_coord': 205,\n",
       "  'Ref_hit_id': 'gb|GDRL01013125.1| TSA: Bufotes viridis Unigene15855_Bufo_viridis transcribed RNA sequence'},\n",
       " u'13662': {'Evalue': 4.10247e-21,\n",
       "  'Hit_end_coord': 220,\n",
       "  'Hit_start_coord': 153,\n",
       "  'Ref_hit_id': 'gb|GDRL01009424.1| TSA: Bufotes viridis Unigene11241_Bufo_viridis transcribed RNA sequence'},\n",
       " u'13697': {'Evalue': 8.81769e-23,\n",
       "  'Hit_end_coord': 1,\n",
       "  'Hit_start_coord': 68,\n",
       "  'Ref_hit_id': 'gb|GDRL01031685.1| TSA: Bufotes viridis Unigene60938_Bufo_viridis transcribed RNA sequence'},\n",
       " u'14021': {'Evalue': 8.81769e-23,\n",
       "  'Hit_end_coord': 61,\n",
       "  'Hit_start_coord': 3,\n",
       "  'Ref_hit_id': 'gb|GDRL01006218.1| TSA: Bufotes viridis Unigene7423_Bufo_viridis transcribed RNA sequence'},\n",
       " u'142': {'Evalue': 4.01632e-36,\n",
       "  'Hit_end_coord': 156,\n",
       "  'Hit_start_coord': 65,\n",
       "  'Ref_hit_id': 'gb|GDRL01031685.1| TSA: Bufotes viridis Unigene60938_Bufo_viridis transcribed RNA sequence'},\n",
       " u'1597': {'Evalue': 5.15881e-40,\n",
       "  'Hit_end_coord': 132,\n",
       "  'Hit_start_coord': 40,\n",
       "  'Ref_hit_id': 'gb|GDRL01005904.1| TSA: Bufotes viridis Unigene7054_Bufo_viridis transcribed RNA sequence'},\n",
       " u'1748': {'Evalue': 2.38324e-43,\n",
       "  'Hit_end_coord': 570,\n",
       "  'Hit_start_coord': 478,\n",
       "  'Ref_hit_id': 'gb|GDRL01000043.1| TSA: Bufotes viridis Unigene45_Bufo_viridis transcribed RNA sequence'},\n",
       " u'1863': {'Evalue': 2.38324e-43,\n",
       "  'Hit_end_coord': 27,\n",
       "  'Hit_start_coord': 119,\n",
       "  'Ref_hit_id': 'gb|GDRL01026030.1| TSA: Bufotes viridis Unigene55280_Bufo_viridis transcribed RNA sequence'},\n",
       " u'2389': {'Evalue': 1.1326e-26,\n",
       "  'Hit_end_coord': 347,\n",
       "  'Hit_start_coord': 261,\n",
       "  'Ref_hit_id': 'gb|GDRL01004366.1| TSA: Bufotes viridis Unigene5228_Bufo_viridis transcribed RNA sequence'},\n",
       " u'2599': {'Evalue': 1.1326e-26,\n",
       "  'Hit_end_coord': 106,\n",
       "  'Hit_start_coord': 35,\n",
       "  'Ref_hit_id': 'gb|GDRL01060747.1| TSA: Bufotes viridis Unigene90028_Bufo_viridis transcribed RNA sequence'},\n",
       " u'2687': {'Evalue': 2.43436e-28,\n",
       "  'Hit_end_coord': 157,\n",
       "  'Hit_start_coord': 234,\n",
       "  'Ref_hit_id': 'gb|GDRL01037049.1| TSA: Bufotes viridis Unigene66306_Bufo_viridis transcribed RNA sequence'},\n",
       " u'3246': {'Evalue': 4.07355e-26,\n",
       "  'Hit_end_coord': 54,\n",
       "  'Hit_start_coord': 139,\n",
       "  'Ref_hit_id': 'gb|GDRL01034177.1| TSA: Bufotes viridis Unigene63431_Bufo_viridis transcribed RNA sequence'},\n",
       " u'3534': {'Evalue': 1.14064e-21,\n",
       "  'Hit_end_coord': 154,\n",
       "  'Hit_start_coord': 231,\n",
       "  'Ref_hit_id': 'gb|GDRL01060074.1| TSA: Bufotes viridis Unigene89355_Bufo_viridis transcribed RNA sequence'},\n",
       " u'3589': {'Evalue': 4.07355e-26,\n",
       "  'Hit_end_coord': 159,\n",
       "  'Hit_start_coord': 250,\n",
       "  'Ref_hit_id': 'gb|GDRL01061619.1| TSA: Bufotes viridis Unigene90900_Bufo_viridis transcribed RNA sequence'},\n",
       " u'3856': {'Evalue': 2.43436e-28,\n",
       "  'Hit_end_coord': 332,\n",
       "  'Hit_start_coord': 267,\n",
       "  'Ref_hit_id': 'gb|GDRL01077383.1| TSA: Bufotes viridis Unigene106677_Bufo_viridis transcribed RNA sequence'},\n",
       " u'4214': {'Evalue': 2.38324e-43,\n",
       "  'Hit_end_coord': 119,\n",
       "  'Hit_start_coord': 211,\n",
       "  'Ref_hit_id': 'gb|GDRL01050438.1| TSA: Bufotes viridis Unigene79709_Bufo_viridis transcribed RNA sequence'},\n",
       " u'4316': {'Evalue': 1.10881e-41,\n",
       "  'Hit_end_coord': 642,\n",
       "  'Hit_start_coord': 549,\n",
       "  'Ref_hit_id': 'gb|GDRL01077595.1| TSA: Bufotes viridis Unigene106889_Bufo_viridis transcribed RNA sequence'},\n",
       " u'4359': {'Evalue': 2.4172e-33,\n",
       "  'Hit_end_coord': 1018,\n",
       "  'Hit_start_coord': 929,\n",
       "  'Ref_hit_id': 'gb|GDRL01003530.1| TSA: Bufotes viridis Unigene4221_Bufo_viridis transcribed RNA sequence'},\n",
       " u'4604': {'Evalue': 1.89524e-24,\n",
       "  'Hit_end_coord': 80,\n",
       "  'Hit_start_coord': 1,\n",
       "  'Ref_hit_id': 'gb|GDRL01014880.1| TSA: Bufotes viridis Unigene44119_Bufo_viridis transcribed RNA sequence'},\n",
       " u'4690': {'Evalue': 1.88188e-29,\n",
       "  'Hit_end_coord': 119,\n",
       "  'Hit_start_coord': 52,\n",
       "  'Ref_hit_id': 'gb|GDRL01005329.1| TSA: Bufotes viridis Unigene6368_Bufo_viridis transcribed RNA sequence'},\n",
       " u'4743': {'Evalue': 1.89524e-24,\n",
       "  'Hit_end_coord': 89,\n",
       "  'Hit_start_coord': 3,\n",
       "  'Ref_hit_id': 'gb|GDRL01051849.1| TSA: Bufotes viridis Unigene81122_Bufo_viridis transcribed RNA sequence'},\n",
       " u'4920': {'Evalue': 2.45165e-23,\n",
       "  'Hit_end_coord': 172,\n",
       "  'Hit_start_coord': 264,\n",
       "  'Ref_hit_id': 'gb|GDRL01004366.1| TSA: Bufotes viridis Unigene5228_Bufo_viridis transcribed RNA sequence'},\n",
       " u'5026': {'Evalue': 2.43436e-28,\n",
       "  'Hit_end_coord': 125,\n",
       "  'Hit_start_coord': 217,\n",
       "  'Ref_hit_id': 'gb|GDRL01022415.1| TSA: Bufotes viridis Unigene51660_Bufo_viridis transcribed RNA sequence'},\n",
       " u'5055': {'Evalue': 5.23232e-30,\n",
       "  'Hit_end_coord': 182,\n",
       "  'Hit_start_coord': 96,\n",
       "  'Ref_hit_id': 'gb|GDRL01008389.1| TSA: Bufotes viridis Unigene10035_Bufo_viridis transcribed RNA sequence'},\n",
       " u'5130': {'Evalue': 1.45478e-30,\n",
       "  'Hit_end_coord': 9,\n",
       "  'Hit_start_coord': 87,\n",
       "  'Ref_hit_id': 'gb|GDRL01018250.1| TSA: Bufotes viridis Unigene47491_Bufo_viridis transcribed RNA sequence'},\n",
       " u'5186': {'Evalue': 3.1048e-37,\n",
       "  'Hit_end_coord': 80,\n",
       "  'Hit_start_coord': 167,\n",
       "  'Ref_hit_id': 'gb|GDRL01070964.1| TSA: Bufotes viridis Unigene100256_Bufo_viridis transcribed RNA sequence'},\n",
       " u'5227': {'Evalue': 2.40016e-38,\n",
       "  'Hit_end_coord': 282,\n",
       "  'Hit_start_coord': 190,\n",
       "  'Ref_hit_id': 'gb|GDRL01000766.1| TSA: Bufotes viridis Unigene816_Bufo_viridis transcribed RNA sequence'},\n",
       " u'5567': {'Evalue': 1.14064e-21,\n",
       "  'Hit_end_coord': 262,\n",
       "  'Hit_start_coord': 349,\n",
       "  'Ref_hit_id': 'gb|GDRL01056033.1| TSA: Bufotes viridis Unigene85309_Bufo_viridis transcribed RNA sequence'},\n",
       " u'5670': {'Evalue': 8.81769e-23,\n",
       "  'Hit_end_coord': 90,\n",
       "  'Hit_start_coord': 181,\n",
       "  'Ref_hit_id': 'gb|GDRL01054986.1| TSA: Bufotes viridis Unigene84261_Bufo_viridis transcribed RNA sequence'},\n",
       " u'5673': {'Evalue': 3.988e-41,\n",
       "  'Hit_end_coord': 119,\n",
       "  'Hit_start_coord': 207,\n",
       "  'Ref_hit_id': 'gb|GDRL01017289.1| TSA: Bufotes viridis Unigene46529_Bufo_viridis transcribed RNA sequence'},\n",
       " u'5848': {'Evalue': 6.81649e-24,\n",
       "  'Hit_end_coord': 240,\n",
       "  'Hit_start_coord': 321,\n",
       "  'Ref_hit_id': 'gb|GDRL01005832.1| TSA: Bufotes viridis Unigene6964_Bufo_viridis transcribed RNA sequence'},\n",
       " u'5922': {'Evalue': 1.45478e-30,\n",
       "  'Hit_end_coord': 424,\n",
       "  'Hit_start_coord': 514,\n",
       "  'Ref_hit_id': 'gb|GDRL01077008.1| TSA: Bufotes viridis Unigene106302_Bufo_viridis transcribed RNA sequence'},\n",
       " u'60': {'Evalue': 5.26947e-25,\n",
       "  'Hit_end_coord': 397,\n",
       "  'Hit_start_coord': 474,\n",
       "  'Ref_hit_id': 'gb|GDRL01001809.1| TSA: Bufotes viridis Unigene2052_Bufo_viridis transcribed RNA sequence'},\n",
       " u'6011': {'Evalue': 1.89524e-24,\n",
       "  'Hit_end_coord': 1058,\n",
       "  'Hit_start_coord': 996,\n",
       "  'Ref_hit_id': 'gb|GDRL01079758.1| TSA: Bufotes viridis Unigene109053_Bufo_viridis transcribed RNA sequence'},\n",
       " u'6385': {'Evalue': 2.4172e-33,\n",
       "  'Hit_end_coord': 403,\n",
       "  'Hit_start_coord': 486,\n",
       "  'Ref_hit_id': 'gb|GDRL01009744.1| TSA: Bufotes viridis Unigene11635_Bufo_viridis transcribed RNA sequence'},\n",
       " u'6661': {'Evalue': 8.81769e-23,\n",
       "  'Hit_end_coord': 117,\n",
       "  'Hit_start_coord': 32,\n",
       "  'Ref_hit_id': 'gb|GDRL01009424.1| TSA: Bufotes viridis Unigene11241_Bufo_viridis transcribed RNA sequence'},\n",
       " u'6861': {'Evalue': 1.14064e-21,\n",
       "  'Hit_end_coord': 98,\n",
       "  'Hit_start_coord': 10,\n",
       "  'Ref_hit_id': 'gb|GDRL01017128.1| TSA: Bufotes viridis Unigene46368_Bufo_viridis transcribed RNA sequence'},\n",
       " u'7100': {'Evalue': 1.12461e-31,\n",
       "  'Hit_end_coord': 95,\n",
       "  'Hit_start_coord': 3,\n",
       "  'Ref_hit_id': 'gb|GDRL01051849.1| TSA: Bufotes viridis Unigene81122_Bufo_viridis transcribed RNA sequence'},\n",
       " u'7155': {'Evalue': 1.86861e-34,\n",
       "  'Hit_end_coord': 156,\n",
       "  'Hit_start_coord': 65,\n",
       "  'Ref_hit_id': 'gb|GDRL01031685.1| TSA: Bufotes viridis Unigene60938_Bufo_viridis transcribed RNA sequence'},\n",
       " u'7239': {'Evalue': 1.46511e-25,\n",
       "  'Hit_end_coord': 44,\n",
       "  'Hit_start_coord': 128,\n",
       "  'Ref_hit_id': 'gb|GDRL01028744.1| TSA: Bufotes viridis Unigene57996_Bufo_viridis transcribed RNA sequence'},\n",
       " u'7395': {'Evalue': 1.46511e-25,\n",
       "  'Hit_end_coord': 324,\n",
       "  'Hit_start_coord': 230,\n",
       "  'Ref_hit_id': 'gb|GDRL01057879.1| TSA: Bufotes viridis Unigene87157_Bufo_viridis transcribed RNA sequence'},\n",
       " u'7661': {'Evalue': 3.12685e-32,\n",
       "  'Hit_end_coord': 244,\n",
       "  'Hit_start_coord': 154,\n",
       "  'Ref_hit_id': 'gb|GDRL01054602.1| TSA: Bufotes viridis Unigene83877_Bufo_viridis transcribed RNA sequence'},\n",
       " u'7746': {'Evalue': 2.43436e-28,\n",
       "  'Hit_end_coord': 95,\n",
       "  'Hit_start_coord': 3,\n",
       "  'Ref_hit_id': 'gb|GDRL01051849.1| TSA: Bufotes viridis Unigene81122_Bufo_viridis transcribed RNA sequence'},\n",
       " u'8075': {'Evalue': 3.1714e-22,\n",
       "  'Hit_end_coord': 137,\n",
       "  'Hit_start_coord': 215,\n",
       "  'Ref_hit_id': 'gb|GDRL01024130.1| TSA: Bufotes viridis Unigene53378_Bufo_viridis transcribed RNA sequence'},\n",
       " u'8338': {'Evalue': 2.4172e-33,\n",
       "  'Hit_end_coord': 110,\n",
       "  'Hit_start_coord': 199,\n",
       "  'Ref_hit_id': 'gb|GDRL01028319.1| TSA: Bufotes viridis Unigene57571_Bufo_viridis transcribed RNA sequence'},\n",
       " u'8635': {'Evalue': 2.38324e-43,\n",
       "  'Hit_end_coord': 197,\n",
       "  'Hit_start_coord': 289,\n",
       "  'Ref_hit_id': 'gb|GDRL01079546.1| TSA: Bufotes viridis Unigene108841_Bufo_viridis transcribed RNA sequence'},\n",
       " u'9003': {'Evalue': 5.26947e-25,\n",
       "  'Hit_end_coord': 563,\n",
       "  'Hit_start_coord': 626,\n",
       "  'Ref_hit_id': 'gb|GDRL01002461.1| TSA: Bufotes viridis Unigene2882_Bufo_viridis transcribed RNA sequence'},\n",
       " u'9054': {'Evalue': 2.38324e-43,\n",
       "  'Hit_end_coord': 650,\n",
       "  'Hit_start_coord': 558,\n",
       "  'Ref_hit_id': 'gb|GDRL01013073.1| TSA: Bufotes viridis Unigene15795_Bufo_viridis transcribed RNA sequence'},\n",
       " u'9098': {'Evalue': 8.75552e-28,\n",
       "  'Hit_end_coord': 375,\n",
       "  'Hit_start_coord': 292,\n",
       "  'Ref_hit_id': 'gb|GDRL01002632.1| TSA: Bufotes viridis Unigene3104_Bufo_viridis transcribed RNA sequence'},\n",
       " u'9108': {'Evalue': 3.12685e-32,\n",
       "  'Hit_end_coord': 764,\n",
       "  'Hit_start_coord': 836,\n",
       "  'Ref_hit_id': 'gb|GDRL01078635.1| TSA: Bufotes viridis Unigene107929_Bufo_viridis transcribed RNA sequence'},\n",
       " u'9190': {'Evalue': 1.85544e-39,\n",
       "  'Hit_end_coord': 1050,\n",
       "  'Hit_start_coord': 1138,\n",
       "  'Ref_hit_id': 'gb|GDRL01079916.1| TSA: Bufotes viridis Unigene109211_Bufo_viridis transcribed RNA sequence'},\n",
       " u'9191': {'Evalue': 1.43434e-40,\n",
       "  'Hit_end_coord': 443,\n",
       "  'Hit_start_coord': 530,\n",
       "  'Ref_hit_id': 'gb|GDRL01072594.1| TSA: Bufotes viridis Unigene101886_Bufo_viridis transcribed RNA sequence'},\n",
       " u'9383': {'Evalue': 6.76844e-29,\n",
       "  'Hit_end_coord': 108,\n",
       "  'Hit_start_coord': 197,\n",
       "  'Ref_hit_id': 'gb|GDRL01003357.1| TSA: Bufotes viridis Unigene4018_Bufo_viridis transcribed RNA sequence'},\n",
       " u'9631': {'Evalue': 2.45165e-23,\n",
       "  'Hit_end_coord': 222,\n",
       "  'Hit_start_coord': 130,\n",
       "  'Ref_hit_id': 'gb|GDRL01010504.1| TSA: Bufotes viridis Unigene12605_Bufo_viridis transcribed RNA sequence'},\n",
       " u'9791': {'Evalue': 1.11669e-36,\n",
       "  'Hit_end_coord': 101,\n",
       "  'Hit_start_coord': 193,\n",
       "  'Ref_hit_id': 'gb|GDRL01021221.1| TSA: Bufotes viridis Unigene50463_Bufo_viridis transcribed RNA sequence'},\n",
       " u'9806': {'Evalue': 4.01632e-36,\n",
       "  'Hit_end_coord': 13,\n",
       "  'Hit_start_coord': 110,\n",
       "  'Ref_hit_id': 'gb|GDRL01009779.1| TSA: Bufotes viridis Unigene11680_Bufo_viridis transcribed RNA sequence'},\n",
       " u'9906': {'Evalue': 2.38324e-43,\n",
       "  'Hit_end_coord': 416,\n",
       "  'Hit_start_coord': 324,\n",
       "  'Ref_hit_id': 'gb|GDRL01068779.1| TSA: Bufotes viridis Unigene98068_Bufo_viridis transcribed RNA sequence'}}"
      ]
     },
     "execution_count": 27,
     "metadata": {},
     "output_type": "execute_result"
    }
   ],
   "source": [
    "records = MISC.BlastParseExtra(mapping_outs,Bvirid_transcriptome,hit_diff,hit_thresh_min,window)"
   ]
  },
  {
   "cell_type": "markdown",
   "metadata": {},
   "source": [
    "No chunks outputted for some reason. . . will do it manually"
   ]
  },
  {
   "cell_type": "code",
   "execution_count": 41,
   "metadata": {
    "collapsed": false
   },
   "outputs": [],
   "source": [
    "records_formatted = [records[i][\"Ref_hit_id\"].split(\"|\")[1] for i in records] ## annoying record descriptions"
   ]
  },
  {
   "cell_type": "code",
   "execution_count": 47,
   "metadata": {
    "collapsed": false
   },
   "outputs": [
    {
     "name": "stdout",
     "output_type": "stream",
     "text": [
      "70\n"
     ]
    }
   ],
   "source": [
    "from Bio import SeqIO\n",
    "\n",
    "out_scaffs = open(\"/home/djeffrie/Data/RADseq/STOECK/Bviridis/Genome_mapping/Bviridis_transcriptome/blast_scaffs.fa\", 'w')\n",
    "\n",
    "counter = 1\n",
    "for record in SeqIO.parse(Bvirid_transcriptome, \"fasta\"):\n",
    "    if record.id.split(\"|\")[1] in records_formatted:\n",
    "        record.id = record.id.split(\"|\")[1]\n",
    "        counter += 1\n",
    "        SeqIO.write(record,out_scaffs, \"fasta\")\n",
    "print counter\n",
    "\n",
    "out_scaffs.close()"
   ]
  },
  {
   "cell_type": "markdown",
   "metadata": {},
   "source": [
    "Ok now map to the nanorana genome!"
   ]
  },
  {
   "cell_type": "code",
   "execution_count": 63,
   "metadata": {
    "collapsed": true
   },
   "outputs": [],
   "source": [
    "mapping_outs = \"/home/djeffrie/Data/RADseq/STOECK/Bviridis/Genome_mapping/Bviridis_transcriptome/Bvir_transcript_to_Nanorana_blast.xml\"\n",
    "Nanorana_genome = \"/home/djeffrie/Data/RADseq/STOECK/Bviridis/Genome_mapping/Nanorana_blast_db/Nanorana_parkeri.genome.v2.fasta\"\n",
    "hit_diff = 1e-5\n",
    "hit_thresh_min = 1e-20\n",
    "window = 1000000"
   ]
  },
  {
   "cell_type": "code",
   "execution_count": 64,
   "metadata": {
    "collapsed": false
   },
   "outputs": [
    {
     "name": "stdout",
     "output_type": "stream",
     "text": [
      "Number of multi-alingments kept: 1\n",
      "Number of unique alingments kept: 6\n",
      "Getting subject scaffold segments from /home/djeffrie/Data/RADseq/STOECK/Bviridis/Genome_mapping/Nanorana_blast_db/Nanorana_parkeri.genome.v2.fasta . . . \n",
      "7 sequence scaffold segments are in /home/djeffrie/Data/RADseq/STOECK/Bviridis/Genome_mapping/Bviridis_transcriptome/blast_1000000_chunks.fa\n"
     ]
    }
   ],
   "source": [
    "records = MISC.BlastParseExtra(mapping_outs,Nanorana_genome,hit_diff,hit_thresh_min,window)"
   ]
  },
  {
   "cell_type": "code",
   "execution_count": 67,
   "metadata": {
    "collapsed": false
   },
   "outputs": [
    {
     "data": {
      "text/plain": [
       "{u'GDRL01009744.1 gb|GDRL01009744.1| TSA: Bufotes viridis Unigene11635_Bufo_viridis transcribed RNA sequence': {'Evalue': 2.26857e-52,\n",
       "  'Hit_end_coord': 128504,\n",
       "  'Hit_start_coord': 128886,\n",
       "  'Ref_hit_id': 'scaffold2343'},\n",
       " u'GDRL01013125.1 gb|GDRL01013125.1| TSA: Bufotes viridis Unigene15855_Bufo_viridis transcribed RNA sequence': {'Evalue': 1.02163e-32,\n",
       "  'Hit_end_coord': 242314,\n",
       "  'Hit_start_coord': 242501,\n",
       "  'Ref_hit_id': 'scaffold1476'},\n",
       " u'GDRL01050438.1 gb|GDRL01050438.1| TSA: Bufotes viridis Unigene79709_Bufo_viridis transcribed RNA sequence': {'Evalue': 2.42879e-79,\n",
       "  'Hit_end_coord': 1046138,\n",
       "  'Hit_start_coord': 1046440,\n",
       "  'Ref_hit_id': 'scaffold89'},\n",
       " u'GDRL01075935.1 gb|GDRL01075935.1| TSA: Bufotes viridis Unigene105229_Bufo_viridis transcribed RNA sequence': {'Evalue': 1.17851e-81,\n",
       "  'Hit_end_coord': 266855,\n",
       "  'Hit_start_coord': 267147,\n",
       "  'Ref_hit_id': 'scaffold867'},\n",
       " u'GDRL01078635.1 gb|GDRL01078635.1| TSA: Bufotes viridis Unigene107929_Bufo_viridis transcribed RNA sequence': {'Evalue': 1.77351e-36,\n",
       "  'Hit_end_coord': 169618,\n",
       "  'Hit_start_coord': 169763,\n",
       "  'Ref_hit_id': 'scaffold2038'},\n",
       " u'GDRL01079546.1 gb|GDRL01079546.1| TSA: Bufotes viridis Unigene108841_Bufo_viridis transcribed RNA sequence': {'Evalue': 2.76606e-35,\n",
       "  'Hit_end_coord': 5404465,\n",
       "  'Hit_start_coord': 5404361,\n",
       "  'Ref_hit_id': 'scaffold10'},\n",
       " u'GDRL01079916.1 gb|GDRL01079916.1| TSA: Bufotes viridis Unigene109211_Bufo_viridis transcribed RNA sequence': {'Evalue': 1.41544e-33,\n",
       "  'Hit_end_coord': 1546529,\n",
       "  'Hit_start_coord': 1546389,\n",
       "  'Ref_hit_id': 'scaffold135'}}"
      ]
     },
     "execution_count": 67,
     "metadata": {},
     "output_type": "execute_result"
    }
   ],
   "source": [
    "records"
   ]
  },
  {
   "cell_type": "markdown",
   "metadata": {},
   "source": [
    "Mapping directly to Xenopus"
   ]
  },
  {
   "cell_type": "code",
   "execution_count": 68,
   "metadata": {
    "collapsed": true
   },
   "outputs": [],
   "source": [
    "mapping_outs = \"/home/djeffrie/Data/RADseq/STOECK/Bviridis/Genome_mapping/Bviridis_transcriptome/Nanorana_to_Xen_blast.xml\"\n",
    "Xen_genome = \"/home/djeffrie/Data/RADseq/STOECK/Bviridis/Genome_mapping/Xenopus_genome/Xtropicalis.v9.repeatMasked.fa\"\n",
    "hit_diff = 1e-5\n",
    "hit_thresh_min = 1e-20\n",
    "window = 1000000"
   ]
  },
  {
   "cell_type": "code",
   "execution_count": 69,
   "metadata": {
    "collapsed": false
   },
   "outputs": [
    {
     "name": "stdout",
     "output_type": "stream",
     "text": [
      "Number of multi-alingments kept: 4\n",
      "Number of unique alingments kept: 0\n",
      "Getting subject scaffold segments from /home/djeffrie/Data/RADseq/STOECK/Bviridis/Genome_mapping/Xenopus_genome/Xtropicalis.v9.repeatMasked.fa . . . \n",
      "4 sequence scaffold segments are in /home/djeffrie/Data/RADseq/STOECK/Bviridis/Genome_mapping/Bviridis_transcriptome/blast_1000000_chunks.fa\n"
     ]
    }
   ],
   "source": [
    "records = MISC.BlastParseExtra(mapping_outs,Xen_genome,hit_diff,hit_thresh_min,window)"
   ]
  },
  {
   "cell_type": "code",
   "execution_count": 70,
   "metadata": {
    "collapsed": false
   },
   "outputs": [
    {
     "data": {
      "text/plain": [
       "{u'scaffold135': {'Evalue': 0.0,\n",
       "  'Hit_end_coord': 123843875,\n",
       "  'Hit_start_coord': 123842648,\n",
       "  'Ref_hit_id': 'Chr04'},\n",
       " u'scaffold2038': {'Evalue': 1.44884e-21,\n",
       "  'Hit_end_coord': 136890108,\n",
       "  'Hit_start_coord': 136889932,\n",
       "  'Ref_hit_id': 'Chr03'},\n",
       " u'scaffold867': {'Evalue': 0.0,\n",
       "  'Hit_end_coord': 28036246,\n",
       "  'Hit_start_coord': 28037145,\n",
       "  'Ref_hit_id': 'Chr03'},\n",
       " u'scaffold89': {'Evalue': 0.0,\n",
       "  'Hit_end_coord': 85629023,\n",
       "  'Hit_start_coord': 85628163,\n",
       "  'Ref_hit_id': 'Chr04'}}"
      ]
     },
     "execution_count": 70,
     "metadata": {},
     "output_type": "execute_result"
    }
   ],
   "source": [
    "records"
   ]
  },
  {
   "cell_type": "markdown",
   "metadata": {},
   "source": [
    "## New approach\n",
    "\n",
    "Bviridis transcript (unigene) IDs ---> Bviridis gene IDs ---> Xenopus scaff 1 gene IDs\n"
   ]
  },
  {
   "cell_type": "markdown",
   "metadata": {},
   "source": [
    "### Get Bviridis unigene IDs."
   ]
  },
  {
   "cell_type": "code",
   "execution_count": 71,
   "metadata": {
    "collapsed": true
   },
   "outputs": [],
   "source": [
    "mapping_outs = \"/home/djeffrie/Data/RADseq/STOECK/Bviridis/Genome_mapping/Bviridis_transcriptome/LG_to_transctipt_blast.xml\"\n",
    "Bvirid_transcriptome = \"/home/djeffrie/Data/RADseq/STOECK/Bviridis/Genome_mapping/Bviridis_transcriptome/GDRL01.1.fa\"\n",
    "hit_diff = 1e-5\n",
    "hit_thresh_min = 1e-20\n",
    "window = 1000000\n"
   ]
  },
  {
   "cell_type": "code",
   "execution_count": 72,
   "metadata": {
    "collapsed": false
   },
   "outputs": [
    {
     "name": "stdout",
     "output_type": "stream",
     "text": [
      "Number of multi-alingments kept: 22\n",
      "Number of unique alingments kept: 57\n",
      "Getting subject scaffold segments from /home/djeffrie/Data/RADseq/STOECK/Bviridis/Genome_mapping/Bviridis_transcriptome/GDRL01.1.fa . . . \n",
      "0 sequence scaffold segments are in /home/djeffrie/Data/RADseq/STOECK/Bviridis/Genome_mapping/Bviridis_transcriptome/blast_1000000_chunks.fa\n"
     ]
    }
   ],
   "source": [
    "records = MISC.BlastParseExtra(mapping_outs,Bvirid_transcriptome,hit_diff,hit_thresh_min,window)"
   ]
  },
  {
   "cell_type": "code",
   "execution_count": 85,
   "metadata": {
    "collapsed": false
   },
   "outputs": [],
   "source": [
    "unigenes = []\n",
    "for i in records:\n",
    "    unigenes.append(records[i][\"Ref_hit_id\"].split()[4].split(\"_\")[0].split(\"e\")[2])"
   ]
  },
  {
   "cell_type": "code",
   "execution_count": null,
   "metadata": {
    "collapsed": true
   },
   "outputs": [],
   "source": [
    "unigenes = []\n",
    "for i in records:\n",
    "    unigenes.append(records[i][\"Ref_hit_id\"].split()[4].split(\"_\")[0].split(\"e\")[2])\n",
    "    \n",
    "### Get the gene IDs that go with the unigenes\n",
    "\n",
    "Bvirid_annotations = open(\"/home/djeffrie/Data/RADseq/STOECK/Bviridis/Genome_mapping/Bviridis_transcriptome/Annotations/Bvirid_transcriptome_annotations.csv\", 'r').readlines()[1:]\n",
    "\n",
    "annotated_RAD_transcripts = {}\n",
    "\n",
    "for line in Bvirid_annotations:\n",
    "    unigene_ID = line.split()[0].split(\"_\")[0].split(\"ne\")[1]\n",
    "    \n",
    "    if unigene_ID in unigenes:\n",
    "        \n",
    "        if \"GN=\" in line:\n",
    "            for field in line.split():\n",
    "                if \"GN=\" in field:\n",
    "                    gene_name = field.split(\"=\")[1]\n",
    "            annotated_RAD_transcripts[unigene_ID] = gene_name.lower() ## make sure its all lower case\n",
    "            print \"Unigene %s contains gene %s\" % (unigene_ID, gene_name)\n",
    "        else:\n",
    "            print \"No annotation for Bviridis transcript %s\" % unigene_ID\n",
    "\n",
    "### Now get the location of these genes in the Xenopus assembly\n",
    "\n",
    "Xen_scaff_1_annotation = open(\"/home/djeffrie/Data/RADseq/STOECK/Bviridis/Genome_mapping/Bviridis_transcriptome/Annotations/Xen_scaffold_1_annotations.csv\", 'r').readlines()\n",
    "\n",
    "for line in Xen_scaff_1_annotation:\n",
    "    gene_name = line.split()[6]\n",
    "    \n",
    "    if gene_name in annotated_RAD_transcripts.values():\n",
    "        print gene_name\n",
    "\n",
    " "
   ]
  },
  {
   "cell_type": "markdown",
   "metadata": {},
   "source": [
    "### Get the gene IDs that go with the unigenes"
   ]
  },
  {
   "cell_type": "code",
   "execution_count": 88,
   "metadata": {
    "collapsed": false,
    "scrolled": false
   },
   "outputs": [
    {
     "name": "stdout",
     "output_type": "stream",
     "text": [
      "Unigene 101306 contains gene TPRXL\n",
      "Unigene 104174 contains gene ccrn4l\n",
      "No annotation for Bviridis transcript 105505\n",
      "No annotation for Bviridis transcript 13941\n",
      "No annotation for Bviridis transcript 147\n",
      "No annotation for Bviridis transcript 44119\n",
      "No annotation for Bviridis transcript 5228\n",
      "No annotation for Bviridis transcript 5714\n",
      "No annotation for Bviridis transcript 60938\n",
      "No annotation for Bviridis transcript 82323\n",
      "No annotation for Bviridis transcript 82932\n",
      "No annotation for Bviridis transcript 83519\n",
      "No annotation for Bviridis transcript 88333\n"
     ]
    }
   ],
   "source": [
    "Bvirid_annotations = open(\"/home/djeffrie/Data/RADseq/STOECK/Bviridis/Genome_mapping/Bviridis_transcriptome/Annotations/Bvirid_transcriptome_annotations.csv\", 'r').readlines()[1:]\n",
    "\n",
    "annotated_RAD_transcripts = {}\n",
    "\n",
    "for line in Bvirid_annotations:\n",
    "    unigene_ID = line.split()[0].split(\"_\")[0].split(\"ne\")[1]\n",
    "    \n",
    "    if unigene_ID in unigenes:\n",
    "        \n",
    "        if \"GN=\" in line:\n",
    "            for field in line.split():\n",
    "                if \"GN=\" in field:\n",
    "                    gene_name = field.split(\"=\")[1]\n",
    "            annotated_RAD_transcripts[unigene_ID] = gene_name.lower() ## make sure its all lower case\n",
    "            print \"Unigene %s contains gene %s\" % (unigene_ID, gene_name)\n",
    "        else:\n",
    "            print \"No annotation for Bviridis transcript %s\" % unigene_ID\n",
    "\n"
   ]
  },
  {
   "cell_type": "code",
   "execution_count": 87,
   "metadata": {
    "collapsed": false
   },
   "outputs": [
    {
     "data": {
      "text/plain": [
       "{'101306': 'tprxl', '104174': 'ccrn4l'}"
      ]
     },
     "execution_count": 87,
     "metadata": {},
     "output_type": "execute_result"
    }
   ],
   "source": [
    "annotated_RAD_transcripts"
   ]
  },
  {
   "cell_type": "code",
   "execution_count": 101,
   "metadata": {
    "collapsed": false
   },
   "outputs": [
    {
     "name": "stdout",
     "output_type": "stream",
     "text": [
      "adhnandfh89\n"
     ]
    }
   ],
   "source": [
    "a = \"ADHNandfh89\"\n",
    "print a.lower()"
   ]
  },
  {
   "cell_type": "markdown",
   "metadata": {},
   "source": [
    "### Now get the location of these genes in the Xenopus assembly"
   ]
  },
  {
   "cell_type": "code",
   "execution_count": 107,
   "metadata": {
    "collapsed": false
   },
   "outputs": [
    {
     "name": "stdout",
     "output_type": "stream",
     "text": [
      "nefh\n"
     ]
    }
   ],
   "source": [
    "Xen_scaff_1_annotation = open(\"/home/djeffrie/Data/RADseq/STOECK/Bviridis/Genome_mapping/Bviridis_transcriptome/Annotations/Xen_scaffold_1_annotations.csv\", 'r').readlines()\n",
    "\n",
    "for line in Xen_scaff_1_annotation:\n",
    "    gene_name = line.split()[6]\n",
    "    \n",
    "    if gene_name in annotated_RAD_transcripts.values():\n",
    "        print gene_name\n",
    "\n"
   ]
  },
  {
   "cell_type": "code",
   "execution_count": null,
   "metadata": {
    "collapsed": true
   },
   "outputs": [],
   "source": []
  },
  {
   "cell_type": "markdown",
   "metadata": {},
   "source": [
    "So I only get one gene on LG1. Perhaps there is a problem with the linkage map. Maybe I should just try with the sex linked markers instead. Although this will just be a subset of the LG1 markers. . . . \n",
    "\n",
    "First see where the other genes map to . . . "
   ]
  },
  {
   "cell_type": "code",
   "execution_count": 111,
   "metadata": {
    "collapsed": false
   },
   "outputs": [
    {
     "name": "stdout",
     "output_type": "stream",
     "text": [
      "['Chr01', 'JGI_gene', 'gene', '4171', '12800', '.', '-', '.', 'ID=Xetrov90000001m.g;Name=Xetrov90000001m.g']\n"
     ]
    }
   ],
   "source": [
    "### All Xenopus genes:\n",
    "\n",
    "Xen_annotations_all = open(\"/home/djeffrie/Data/RADseq/STOECK/Bviridis/Genome_mapping/Bviridis_transcriptome/Annotations/Xtropicalisv9.0.Named.primaryTrs.gff3\", 'r').readlines()[3:10]\n",
    "\n",
    "for line in Xen_annotations_all:\n",
    "    if \"gene\" in line.split()[2]:\n",
    "        print line.split()\n",
    "\n",
    "\n",
    "\n"
   ]
  },
  {
   "cell_type": "markdown",
   "metadata": {
    "collapsed": true
   },
   "source": [
    "## Next try with the MST map linkage map! Can't actually split into chromosomes using MSTmap, but just looking by eye I can see there is linkage there. . . . . "
   ]
  },
  {
   "cell_type": "code",
   "execution_count": null,
   "metadata": {
    "collapsed": true
   },
   "outputs": [],
   "source": []
  },
  {
   "cell_type": "code",
   "execution_count": null,
   "metadata": {
    "collapsed": true
   },
   "outputs": [],
   "source": []
  },
  {
   "cell_type": "code",
   "execution_count": null,
   "metadata": {
    "collapsed": true
   },
   "outputs": [],
   "source": []
  },
  {
   "cell_type": "code",
   "execution_count": null,
   "metadata": {
    "collapsed": true
   },
   "outputs": [],
   "source": []
  }
 ],
 "metadata": {
  "kernelspec": {
   "display_name": "Python 2",
   "language": "python",
   "name": "python2"
  },
  "language_info": {
   "codemirror_mode": {
    "name": "ipython",
    "version": 2
   },
   "file_extension": ".py",
   "mimetype": "text/x-python",
   "name": "python",
   "nbconvert_exporter": "python",
   "pygments_lexer": "ipython2",
   "version": "2.7.10"
  }
 },
 "nbformat": 4,
 "nbformat_minor": 0
}
