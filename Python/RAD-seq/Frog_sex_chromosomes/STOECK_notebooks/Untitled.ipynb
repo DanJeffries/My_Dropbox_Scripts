{
 "cells": [
  {
   "cell_type": "code",
   "execution_count": 1,
   "metadata": {
    "collapsed": true
   },
   "outputs": [],
   "source": [
    "primers = open(\"/home/djeffrie/Desktop/test.txt\", 'r').readlines()"
   ]
  },
  {
   "cell_type": "code",
   "execution_count": 3,
   "metadata": {
    "collapsed": false
   },
   "outputs": [],
   "source": [
    "primer_dict = {}\n",
    "for gene in primers:\n",
    "    gene_name = gene.split()[0]\n",
    "    gene_seq = gene.split()[1]\n",
    "    if gene_name not in primer_dict:\n",
    "        primer_dict[gene_name] = gene_seq"
   ]
  },
  {
   "cell_type": "code",
   "execution_count": 7,
   "metadata": {
    "collapsed": false
   },
   "outputs": [
    {
     "name": "stdout",
     "output_type": "stream",
     "text": [
      "COI atctagatgatctag\n",
      "/home/djeffrie/Desktop/COI_seqs.fq\n",
      "CytB actagatcagatca\n",
      "/home/djeffrie/Desktop/CytB_seqs.fq\n"
     ]
    }
   ],
   "source": [
    "for i in primer_dict:\n",
    "    print i, primer_dict[i]\n",
    "    \n",
    "    gene_outfile = open(\"/home/djeffrie/Desktop/%s_seqs.fq\" % (i), 'w')\n",
    "    \n",
    "    for seq in SeqIO.parse():\n",
    "        sequence = seq.seq\n",
    "        \n",
    "        if sequence.startswith(primer_dict[i]):\n",
    "            seq.write(gene_outfile, \"fastq\")\n",
    "    "
   ]
  }
 ],
 "metadata": {
  "kernelspec": {
   "display_name": "Python 2",
   "language": "python",
   "name": "python2"
  },
  "language_info": {
   "codemirror_mode": {
    "name": "ipython",
    "version": 2
   },
   "file_extension": ".py",
   "mimetype": "text/x-python",
   "name": "python",
   "nbconvert_exporter": "python",
   "pygments_lexer": "ipython2",
   "version": "2.7.10"
  }
 },
 "nbformat": 4,
 "nbformat_minor": 0
}
