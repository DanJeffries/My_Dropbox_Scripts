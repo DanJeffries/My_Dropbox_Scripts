{
 "cells": [
  {
   "cell_type": "markdown",
   "metadata": {},
   "source": [
    "###Make scripts for ustacks.  \n",
    "###To use, put all fastq files in the same directory. \n",
    "#### Usage: Ustacks_scriptmaker.py \\<inputdir>  \\<outputdir>  \\<M value> \\<m value>\"\n",
    "####\\<inputdir> = path to fastq files\n",
    "####\\<outputdir> = path you want to write Ustacks outputs to\n",
    "#### You can specify M and m values. All other params are default. To alter, manually edit line 23 of this script."
   ]
  },
  {
   "cell_type": "code",
   "execution_count": 5,
   "metadata": {
    "collapsed": false
   },
   "outputs": [],
   "source": [
    "import sys\n",
    "import os\n",
    "\n",
    "if len(sys.argv) < 5:\n",
    "    print \"NOT ENOUGH ARGUMENTS\\nUsage<\\nUstacks_scriptmaker.py <inputdir>  <outputdir>  <M value> <m value>\"\n",
    "\n",
    "indir='%s/' %(sys.argv[1])\n",
    "outdir='%s/' %(sys.argv[2])\n",
    "Mval = '%s' %(sys.argv[3])\n",
    "mval = '%s' %(sys.argv[4])\n",
    "\n",
    "def Ustacks_script_maker(parent_dir, output_dir):  ## Parent_dir = directory containing all files for Ustacking\n",
    "    samples = []\n",
    "    Ustacks_commands = []\n",
    "    for root, dirs, files in os.walk(parent_dir):\n",
    "        for fil in files:\n",
    "            if fil.endswith(\"fq\") and 'discards' not in fil:\n",
    "                samples.append(root+fil)\n",
    "                samples = sorted(samples)\n",
    "    \n",
    "    ID = 1\n",
    "    for sample in samples:\n",
    "        Ustacks_commands.append(\"ustacks -t fastq -f \"+sample+\" -d -r -i \"+str(ID)+\" -M \"+Mval+\" -m \"+mval+\" -o \"+output_dir+\" -p 7\")\n",
    "        ID += 1\n",
    "        \n",
    "    f = open(output_dir+'Ustacks_scripts.sh', 'w')\n",
    "    f.write('#!/bin/bash\\n')\n",
    "    for command in Ustacks_commands:\n",
    "        f.write(command+'\\n')\n",
    "    f.close()    \n",
    "        \n",
    "    return Ustacks_commands\n",
    "                \n",
    "U_commands = Ustacks_script_maker(indir, outdir)\n"
   ]
  }
 ],
 "metadata": {
  "kernelspec": {
   "display_name": "Python 2",
   "language": "python",
   "name": "python2"
  },
  "language_info": {
   "codemirror_mode": {
    "name": "ipython",
    "version": 2
   },
   "file_extension": ".py",
   "mimetype": "text/x-python",
   "name": "python",
   "nbconvert_exporter": "python",
   "pygments_lexer": "ipython2",
   "version": "2.7.10"
  }
 },
 "nbformat": 4,
 "nbformat_minor": 0
}
