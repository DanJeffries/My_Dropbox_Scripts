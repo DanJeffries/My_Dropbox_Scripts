{
 "cells": [
  {
   "cell_type": "code",
   "execution_count": 2,
   "metadata": {
    "collapsed": true
   },
   "outputs": [],
   "source": [
    "import sys\n",
    "import os\n",
    "\n",
    "### Check and get arguments\n",
    "if len(sys.argv) == 1:\n",
    "    sys.exit(\"\\nUsage<\\nSstacks_scriptmaker.py <inputdir>  <catalog_path> <batch_id> <threads>\\n\")  \n",
    "\n",
    "if len(sys.argv) < 5:\n",
    "    sys.exit(\"\\nNOT ENOUGH ARGUMENTS\\nUsage<\\nSstacks_scriptmaker.py <inputdir>  <catalog_path> <batch_id> <threads>\\n\")  \n",
    "\n",
    "input_dir = sys.argv[1]\n",
    "catalog = sys.argv[2]\n",
    "batch_id = sys.argv[3]\n",
    "threads = sys.argv[4]\n",
    "\n",
    "## Make script\n",
    "sstacks_script = open(\"%s/%s\" % (input_dir, \"Sstacks_scripts.sh\"), 'w')\n",
    "sstacks_script.write(\"#!/bin/bash/\\n\")\n",
    "\n",
    "for root, dirs, files in os.walk(input_dir):\n",
    "    for fil in files:\n",
    "        if \"tags.tsv\" in fil and \"catalog\" not in fil:\n",
    "            infile = \"%s/%s\" % (root, fil.partition(\".\")[0])\n",
    "            command = \"sstacks -b %s -c %s -s %s -o %s -p %s;\\n\" % (batch_id, catalog, infile, input_dir, threads)\n",
    "            sstacks_script.write(command)\n",
    "            print command.strip()\n",
    "sstacks_script.close()\n"
   ]
  }
 ],
 "metadata": {
  "kernelspec": {
   "display_name": "Python 2",
   "language": "python",
   "name": "python2"
  },
  "language_info": {
   "codemirror_mode": {
    "name": "ipython",
    "version": 2
   },
   "file_extension": ".py",
   "mimetype": "text/x-python",
   "name": "python",
   "nbconvert_exporter": "python",
   "pygments_lexer": "ipython2",
   "version": "2.7.10"
  }
 },
 "nbformat": 4,
 "nbformat_minor": 0
}
