{
 "cells": [
  {
   "cell_type": "markdown",
   "metadata": {},
   "source": [
    "##Make scripts"
   ]
  },
  {
   "cell_type": "code",
   "execution_count": 5,
   "metadata": {
    "collapsed": false
   },
   "outputs": [],
   "source": [
    "import os\n",
    "\n",
    "\n",
    "def Ustacks_script_maker(parent_dir, output_dir):  ## Parent_dir = directory containing all files for Ustacking\n",
    "    samples = []\n",
    "    Ustacks_commands = []\n",
    "    for root, dirs, files in os.walk(parent_dir):\n",
    "        for fil in files:\n",
    "            if fil.endswith(\"fq\") and 'discards' not in fil:\n",
    "                samples.append(root+fil)\n",
    "                samples = sorted(samples)\n",
    "    \n",
    "    ID = 1\n",
    "    for sample in samples:\n",
    "        Ustacks_commands.append(\"ustacks -t fastq -f \"+sample+\" -d -r -i \"+str(ID)+\" -M 2 -m 8 -o \"+output_dir+\" -p 7\")\n",
    "        ID += 1\n",
    "        \n",
    "    f = open(output_dir+'Ustacks_scripts.sh', 'w')\n",
    "    f.write('#!/bin/bash\\n')\n",
    "    for command in Ustacks_commands:\n",
    "        f.write(command+'\\n')\n",
    "    f.close()    \n",
    "        \n",
    "    return Ustacks_commands\n",
    "                \n",
    "U_commands = Ustacks_script_maker('/home/djeffrie/Data/Pnig_RAD/demultilpexed/', '/home/djeffrie/Data/Pnig_RAD/Stacks_outputs/')\n"
   ]
  },
  {
   "cell_type": "markdown",
   "metadata": {},
   "source": [
    "##Check scripts"
   ]
  },
  {
   "cell_type": "code",
   "execution_count": 6,
   "metadata": {
    "collapsed": false
   },
   "outputs": [
    {
     "name": "stdout",
     "output_type": "stream",
     "text": [
      "ustacks -t fastq -f /home/djeffrie/Data/Pnig_RAD/demultilpexed/Pnig_1.fq -d -r -i 1 -M 2 -m 8 -o /home/djeffrie/Data/Pnig_RAD/Stacks_outputs/ -p 7\n",
      "ustacks -t fastq -f /home/djeffrie/Data/Pnig_RAD/demultilpexed/Pnig_10.fq -d -r -i 2 -M 2 -m 8 -o /home/djeffrie/Data/Pnig_RAD/Stacks_outputs/ -p 7\n",
      "ustacks -t fastq -f /home/djeffrie/Data/Pnig_RAD/demultilpexed/Pnig_11.fq -d -r -i 3 -M 2 -m 8 -o /home/djeffrie/Data/Pnig_RAD/Stacks_outputs/ -p 7\n",
      "ustacks -t fastq -f /home/djeffrie/Data/Pnig_RAD/demultilpexed/Pnig_12.fq -d -r -i 4 -M 2 -m 8 -o /home/djeffrie/Data/Pnig_RAD/Stacks_outputs/ -p 7\n",
      "ustacks -t fastq -f /home/djeffrie/Data/Pnig_RAD/demultilpexed/Pnig_13.fq -d -r -i 5 -M 2 -m 8 -o /home/djeffrie/Data/Pnig_RAD/Stacks_outputs/ -p 7\n",
      "ustacks -t fastq -f /home/djeffrie/Data/Pnig_RAD/demultilpexed/Pnig_14.fq -d -r -i 6 -M 2 -m 8 -o /home/djeffrie/Data/Pnig_RAD/Stacks_outputs/ -p 7\n",
      "ustacks -t fastq -f /home/djeffrie/Data/Pnig_RAD/demultilpexed/Pnig_15.fq -d -r -i 7 -M 2 -m 8 -o /home/djeffrie/Data/Pnig_RAD/Stacks_outputs/ -p 7\n",
      "ustacks -t fastq -f /home/djeffrie/Data/Pnig_RAD/demultilpexed/Pnig_16.fq -d -r -i 8 -M 2 -m 8 -o /home/djeffrie/Data/Pnig_RAD/Stacks_outputs/ -p 7\n",
      "ustacks -t fastq -f /home/djeffrie/Data/Pnig_RAD/demultilpexed/Pnig_17.fq -d -r -i 9 -M 2 -m 8 -o /home/djeffrie/Data/Pnig_RAD/Stacks_outputs/ -p 7\n",
      "ustacks -t fastq -f /home/djeffrie/Data/Pnig_RAD/demultilpexed/Pnig_18.fq -d -r -i 10 -M 2 -m 8 -o /home/djeffrie/Data/Pnig_RAD/Stacks_outputs/ -p 7\n"
     ]
    }
   ],
   "source": [
    "for command in U_commands[:10]:\n",
    "    print command"
   ]
  },
  {
   "cell_type": "markdown",
   "metadata": {},
   "source": [
    "##Make bash file"
   ]
  },
  {
   "cell_type": "code",
   "execution_count": 20,
   "metadata": {
    "collapsed": false
   },
   "outputs": [],
   "source": []
  },
  {
   "cell_type": "code",
   "execution_count": null,
   "metadata": {
    "collapsed": false
   },
   "outputs": [],
   "source": []
  }
 ],
 "metadata": {
  "kernelspec": {
   "display_name": "Python 2",
   "language": "python",
   "name": "python2"
  },
  "language_info": {
   "codemirror_mode": {
    "name": "ipython",
    "version": 2
   },
   "file_extension": ".py",
   "mimetype": "text/x-python",
   "name": "python",
   "nbconvert_exporter": "python",
   "pygments_lexer": "ipython2",
   "version": "2.7.10"
  }
 },
 "nbformat": 4,
 "nbformat_minor": 0
}
