{
 "cells": [
  {
   "cell_type": "markdown",
   "metadata": {},
   "source": [
    "##Make scripts for Cstacks.  \n",
    "###To use, put all fastq files in the same directory. \n",
    "### Usage: Ustacks_scriptmaker.py \\<inputdir>  \\<outputdir>  \\<M value> \\<m value>\"\n",
    "###\\<inputdir> = path to fastq files\n",
    "###\\<outputdir> = path you want to write Ustacks outputs to\n",
    "### You can specify N and p values. All other params are default. To alter, manually edit script\n",
    "### Note, this script needs a pop_codes file like the one needed in populaitons, format:\n",
    "\n",
    "    sample_1    pop_1\n",
    "    sample_2    pop_1\n",
    "    sample_3    pop_2\n",
    "    sample_4    pop_2\n",
    "    ...."
   ]
  },
  {
   "cell_type": "markdown",
   "metadata": {},
   "source": [
    "## Make scripts"
   ]
  },
  {
   "cell_type": "code",
   "execution_count": 3,
   "metadata": {
    "collapsed": false
   },
   "outputs": [],
   "source": [
    "import os\n",
    "import re\n",
    "import sys\n",
    "\n",
    "## Check usage \n",
    "\n",
    "#if len(sys.argv) < 6:\n",
    "#    sys.exit(\"\\nNOT ENOUGH ARGUMENTS\\nUsage<\\nCstacks_scriptmaker.py <inputdir>  <outputdir> <pop_file_path> <n value> <p value>\\n\")\n",
    "\n",
    "#indir='%s/' %(sys.argv[1])\n",
    "#outdir='%s/' %(sys.argv[2])\n",
    "#pop_file='%s' %(sys.argv[3])\n",
    "#nval = '%s' %(sys.argv[4])\n",
    "#pval = '%s' %(sys.argv[5])\n",
    "\n",
    "## define function\n",
    "\n",
    "def Cstacks_script_maker(input_dir, output_dir, pop_file_path, n_value, p_value):\n",
    "    samples = []\n",
    "    pop_list = []\n",
    "    samples_ready = []\n",
    "    cwd = input_dir\n",
    "    \n",
    "    pops = open(pop_file_path, 'r').readlines()\n",
    "    for pop in pops:\n",
    "        pop_list.append(pop.strip().split()[1])\n",
    "    print 'Populations for catalog = ', set(pop_list) , 'N populations = '+str(len(set(pop_list)))\n",
    "    \n",
    "    for root, dirs, files in os.walk(input_dir):\n",
    "        for fil in files:\n",
    "            #print fil\n",
    "            for population in pop_list: \n",
    "                if 'tags.tsv' in fil:\n",
    "                    if fil.endswith('tsv'):\n",
    "                        if population in fil:\n",
    "                           samples.append(fil.rpartition('.')[0].rpartition('.')[0])\n",
    "                    elif fil.endswith('gz'):\n",
    "                           samples.append(fil.rpartition('.')[0].rpartition('.')[0].rpartition('.')[0]) \n",
    "    samples = sorted(set(samples))\n",
    "    \n",
    "    for sample in samples:\n",
    "        samples_ready.append(' -s '+input_dir+sample)\n",
    "    samples = ''.join(samples_ready)\n",
    "    \n",
    "    Ccommand = 'cstacks -b 1 -n'+n_value+' -p '+p_value+' '+samples+' -o '+output_dir\n",
    "    \n",
    "    f = open(output_dir+'Cstacks_scripts.sh','w')\n",
    "    f.write('#!/bin/bash\\n##working directory = '+str(cwd)+'\\n')\n",
    "    for command in Ccommand:\n",
    "        f.write(command)\n",
    "    f.close()\n",
    "    \n",
    "    return Ccommand\n",
    "\n",
    "\n",
    "  "
   ]
  },
  {
   "cell_type": "code",
   "execution_count": 5,
   "metadata": {
    "collapsed": false
   },
   "outputs": [
    {
     "name": "stdout",
     "output_type": "stream",
     "text": [
      "Populations for catalog =  set(['P', 'S']) N populations = 2\n"
     ]
    },
    {
     "data": {
      "text/plain": [
       "'cstacks -b 1 -n2 -p 7  -s /home/djeffrie/Data/Caspers_data/Large_test_set/C210_S -s /home/djeffrie/Data/Caspers_data/Large_test_set/C228_S -s /home/djeffrie/Data/Caspers_data/Large_test_set/C248_S -s /home/djeffrie/Data/Caspers_data/Large_test_set/C256_P -s /home/djeffrie/Data/Caspers_data/Large_test_set/C259_S -s /home/djeffrie/Data/Caspers_data/Large_test_set/C277_P -s /home/djeffrie/Data/Caspers_data/Large_test_set/C288_S -s /home/djeffrie/Data/Caspers_data/Large_test_set/C401_P -s /home/djeffrie/Data/Caspers_data/Large_test_set/C415_S -s /home/djeffrie/Data/Caspers_data/Large_test_set/C424_P -s /home/djeffrie/Data/Caspers_data/Large_test_set/C437_S -s /home/djeffrie/Data/Caspers_data/Large_test_set/C463_P -s /home/djeffrie/Data/Caspers_data/Large_test_set/C480_P -s /home/djeffrie/Data/Caspers_data/Large_test_set/C518_P -o /home/djeffrie/Data/Caspers_data/Large_test_set/'"
      ]
     },
     "execution_count": 5,
     "metadata": {},
     "output_type": "execute_result"
    }
   ],
   "source": [
    "## run function using command line args\n",
    "\n",
    "indir = \"/home/djeffrie/Data/Caspers_data/Large_test_set/\"\n",
    "outdir = \"/home/djeffrie/Data/Caspers_data/Large_test_set/\"\n",
    "pop_file = \"/home/djeffrie/Data/Caspers_data/Large_test_set/pop_map.txt\"\n",
    "nval = \"2\"\n",
    "pval = \"7\"\n",
    "\n",
    "Cstacks_script_maker(indir, outdir, pop_file, nval, pval)"
   ]
  },
  {
   "cell_type": "code",
   "execution_count": null,
   "metadata": {
    "collapsed": false
   },
   "outputs": [],
   "source": []
  }
 ],
 "metadata": {
  "kernelspec": {
   "display_name": "Python 2",
   "language": "python",
   "name": "python2"
  },
  "language_info": {
   "codemirror_mode": {
    "name": "ipython",
    "version": 2
   },
   "file_extension": ".py",
   "mimetype": "text/x-python",
   "name": "python",
   "nbconvert_exporter": "python",
   "pygments_lexer": "ipython2",
   "version": "2.7.10"
  }
 },
 "nbformat": 4,
 "nbformat_minor": 0
}
