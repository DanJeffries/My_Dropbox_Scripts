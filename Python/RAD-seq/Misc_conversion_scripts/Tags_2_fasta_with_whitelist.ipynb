{
 "cells": [
  {
   "cell_type": "code",
   "execution_count": 2,
   "metadata": {
    "collapsed": true
   },
   "outputs": [],
   "source": [
    "import gzip"
   ]
  },
  {
   "cell_type": "code",
   "execution_count": 20,
   "metadata": {
    "collapsed": true
   },
   "outputs": [],
   "source": [
    "whitey= \"/home/djeffrie/Data/Ribe_LM/Male_LG3_markers.txt\"\n",
    "cat = \"/home/djeffrie/Data/Ribe_LM/batch_1.catalog.tags.tsv.gz\""
   ]
  },
  {
   "cell_type": "code",
   "execution_count": 3,
   "metadata": {
    "collapsed": false
   },
   "outputs": [],
   "source": [
    "## Read in files\n",
    "def fasta_maka(whitey, cat, out = None):\n",
    "\n",
    "    \"\"\"\n",
    "    whitey = whitelist containing locus IDs in the form of \"<Tag_ID>_<Position>\"\n",
    "    cat    = path to the catalog file to get sequences from\n",
    "\n",
    "    \"\"\"\n",
    "\n",
    "    import sys\n",
    "    import gzip\n",
    "    \n",
    "    if whitey is str:\n",
    "        loci = open(whitey, 'r').readlines()\n",
    "    elif isinstance(whitey, (list, set)):\n",
    "        loci = whitey\n",
    "    else:\n",
    "        sys.exit(\"Unknown whitelist format - expected a python list or a file path\")\n",
    "        \n",
    "    if cat.endswith(\"gz\"):\n",
    "        tags = gzip.open(cat, 'r').readlines()\n",
    "    else:\n",
    "        tags = open(cat, 'r').readlines()\n",
    "\n",
    "    ## Pull out the locus ID's from the whitelist\n",
    "\n",
    "    Loc_IDs = []\n",
    "    for locus in loci:\n",
    "        if locus.startswith(\"compli\"):\n",
    "            Loc_id = locus.split(\"_\")[1]\n",
    "        else:\n",
    "            Loc_id = locus.split(\"_\")[0]\n",
    "        Loc_IDs.append(Loc_id)\n",
    "    \n",
    "    print \"Number of tags in whitelist:\",len(Loc_IDs)\n",
    "\n",
    "    ## Write the fasta\n",
    "    \n",
    "    if not out == None:\n",
    "        fasta = open(out, 'w')\n",
    "        outpath = out\n",
    "    else:\n",
    "        fasta = open(\"%s/%s\" % (cat.rpartition('/')[0], 'Whitelist_tags.fa'), 'w')\n",
    "        outpath = \"%s/%s\" % (cat.rpartition('/')[0], 'Whitelist_tags.fa')\n",
    "\n",
    "    count = 0\n",
    "    for line in tags:\n",
    "        if 'consensus' in line:\n",
    "            Tag_ID = line.split()[2]\n",
    "            if Tag_ID in Loc_IDs:\n",
    "                count+=1\n",
    "                fasta.write('>'+ Tag_ID +'\\n'+line.split()[8]+'\\n')\n",
    "                \n",
    "    print count, \"sequences written to\", outpath\n",
    "\n",
    "    fasta.close()"
   ]
  },
  {
   "cell_type": "code",
   "execution_count": null,
   "metadata": {
    "collapsed": true
   },
   "outputs": [],
   "source": [
    "catalog = \"/home/djeffrie/Data/RADseq/STOECK/Bviridis/Final_stacks_outs/batch_1.catalog.tags.tsv.gz\"\n",
    "\n",
    "\n",
    "fasta_maka(whitey, catalog, out = None)"
   ]
  }
 ],
 "metadata": {
  "kernelspec": {
   "display_name": "Python 2",
   "language": "python",
   "name": "python2"
  },
  "language_info": {
   "codemirror_mode": {
    "name": "ipython",
    "version": 2
   },
   "file_extension": ".py",
   "mimetype": "text/x-python",
   "name": "python",
   "nbconvert_exporter": "python",
   "pygments_lexer": "ipython2",
   "version": "2.7.10"
  }
 },
 "nbformat": 4,
 "nbformat_minor": 0
}
