{
 "cells": [
  {
   "cell_type": "markdown",
   "metadata": {},
   "source": [
    "### Converting VCF to Newhybrids format..\n"
   ]
  },
  {
   "cell_type": "markdown",
   "metadata": {},
   "source": [
    "###Step to filter Diagnostic loci from VCF first if available"
   ]
  },
  {
   "cell_type": "code",
   "execution_count": 1,
   "metadata": {
    "collapsed": false
   },
   "outputs": [],
   "source": [
    "wd = \"/media/dan/34D5D1CE642D7E36/2013076_Hanfling_Bernd/Stacks/Stacks_analyses_TRIMMED/With_reference/Data_links/pstacks_all/NewHybrids_populations/Cru_gib/Cru_gib_pop_codes_noEP01_newnames.txt_dir/\"\n",
    "\n",
    "Diag_whitelist = open(wd+\"/Diagnostic_snps.txt\", 'r').readlines()[1:] ## this is in an annoying R format so needs some formatting\n",
    "Diag_whitelist = [i.split()[1].split(\"\\\"\")[1].split(\"_\")[0] for i in Diag_whitelist]\n",
    "\n",
    "#print Diag_whitelist[:10]\n",
    "\n",
    "VCF = open(wd+\"/Ho_filtered_altered.vcf\", 'r').readlines()\n",
    "Diagnostic_VCF = open(wd+\"/Diagnostic_VCF.vcf\", 'w')\n",
    "for line in VCF:\n",
    "    if line.startswith(\"#\"):\n",
    "        Diagnostic_VCF.write(line)\n",
    "    elif line.split()[2] in Diag_whitelist:\n",
    "        Diagnostic_VCF.write(line)\n",
    "Diagnostic_VCF.close()\n"
   ]
  },
  {
   "cell_type": "code",
   "execution_count": 15,
   "metadata": {},
   "outputs": [],
   "source": [
    "def VCF2NewHybs(infile):\n",
    "    \n",
    "    import os\n",
    "    \n",
    "    ## Convert Data to 1s and 2s ... and write to a separate file ###\n",
    "    ## made file in bash from vcf by just cutting first couple of columns and getting rid of header lines ...\n",
    "    \n",
    "    wd = infile.rpartition(\"/\")[0]\n",
    "    temp = \"%s/%s_NH.temp\" % (wd, infile.rpartition(\"/\")[2].rpartition(\".\")[0])\n",
    "    temp_handle = open(temp, 'w')\n",
    "    \n",
    "    sample_file = \"%s/%s_NH_individuals.txt\" % (wd, infile.rpartition(\"/\")[2].rpartition(\".\")[0])\n",
    "    \n",
    "    for line in open(infile, 'r').readlines():\n",
    "        \n",
    "        if line.startswith(\"#CHROM\"):\n",
    "            samples = line.split()[9:]\n",
    "        \n",
    "        if not line.startswith('#'):\n",
    "            for sample in line.split():\n",
    "                if sample.split(':')[0] == '1/1':\n",
    "                    temp_handle.write('22\\t')\n",
    "                elif sample.split(':')[0] == '0/0':\n",
    "                    temp_handle.write('11\\t')\n",
    "                elif sample.split(':')[0] == '0/1':\n",
    "                    temp_handle.write('12\\t')\n",
    "                elif sample.split(':')[0] == '1/0':\n",
    "                    temp_handle.write('21\\t')\n",
    "                elif sample.split(':')[0] == './.':\n",
    "                    temp_handle.write('0\\t')\n",
    "            temp_handle.write('\\n')\n",
    "    \n",
    "    temp_handle.close()\n",
    "    \n",
    "    ## write samples to file\n",
    "    \n",
    "    with open(sample_file, 'w') as sample_file_out:\n",
    "        for i in samples:\n",
    "            sample_file_out.write(\"%s\\n\" % i)\n",
    "\n",
    "    ## Make final file\n",
    "        \n",
    "    outfile = \"%s/%s_NEWHYBS.txt\" % (wd, infile.rpartition(\"/\")[2].rpartition(\".\")[0])\n",
    "    out_handle = open(outfile, 'w')\n",
    "    \n",
    "    ### Get file header info ####\n",
    "\n",
    "    with open(temp, 'r') as temp_handle:\n",
    "        Number_of_samples = len(temp_handle.readlines()[0].split())\n",
    "    \n",
    "    with open(temp, 'r') as temp_handle:\n",
    "        Number_of_loci = (len(temp_handle.readlines())-1)\n",
    "\n",
    "    Loc_names = []\n",
    "    for line in open(infile, 'r').readlines():\n",
    "        if '#' not in line:\n",
    "            Loc_names.append(line.split()[2])\n",
    "\n",
    "    print 'Number of samples = '+str(Number_of_samples)\n",
    "    print 'Number of loci = '+str(Number_of_loci+1)\n",
    "\n",
    "    #### write file header ####\n",
    "\n",
    "    out_handle.write(\"NumIndivs \"+str(Number_of_samples)+\"\\nNumLoci \"+str(Number_of_loci+1)+\"\\nDigits 1\\nFormat Lumped\\nLocusNames\\t\")\n",
    "    out_handle.writelines(\"%s\\t\" % name for name in Loc_names)\n",
    "    out_handle.write(\"\\n\")\n",
    "\n",
    "\n",
    "    #### Transpose #####\n",
    "\n",
    "    sample_number = 1\n",
    "    with open(temp, 'rb') as temp_handle:\n",
    "        lis = [x.split() for x in temp_handle]\n",
    "        for x in zip(*lis[0:]): # (The \"*\" in this tells zip to take the elements in the \"lis\" argument, not the thing \"lis\" itself)\n",
    "            out_handle.write(\"%s\\t\" % sample_number)\n",
    "            sample_number += 1\n",
    "            for y in x:\n",
    "                out_handle.write(y+'\\t')\n",
    "                \n",
    "            out_handle.write('\\n')\n",
    "    \n",
    "    ## This transposing bit is very useful! Need to become more comfortable with this...\n",
    "\n",
    "    out_handle.close()\n",
    "    temp_handle.close()\n",
    "\n",
    "\n",
    "    print \"Done\"\n",
    "    \n",
    "    \n",
    "    \n",
    "    "
   ]
  },
  {
   "cell_type": "code",
   "execution_count": 16,
   "metadata": {},
   "outputs": [
    {
     "name": "stdout",
     "output_type": "stream",
     "text": [
      "Number of samples = 203\n",
      "Number of loci = 2728\n",
      "Done\n"
     ]
    }
   ],
   "source": [
    "    VCF2NewHybs(\"/home/djeffrie/Dropbox/TPing_Bern/Eco_Evo_Research_module_TP/Carassius/Data/NewHybrids/Ccar_Caur/Ccar_Caur_ohnolog_filtered.vcf\")"
   ]
  },
  {
   "cell_type": "code",
   "execution_count": 7,
   "metadata": {},
   "outputs": [
    {
     "name": "stdout",
     "output_type": "stream",
     "text": [
      "Number of samples = 206\n",
      "Number of loci = 951\n",
      "Done\n"
     ]
    }
   ],
   "source": [
    "    VCF2NewHybs(\"/home/djeffrie/Dropbox/TPing_Bern/Eco_Evo_Research_module_TP/Carassius/Data/NewHybrids/Ccar_Cgib/Ccar_Cgib_ohnolog_filtered.vcf\")"
   ]
  },
  {
   "cell_type": "code",
   "execution_count": 17,
   "metadata": {},
   "outputs": [
    {
     "name": "stdout",
     "output_type": "stream",
     "text": [
      "Number of samples = 186\n",
      "Number of loci = 3853\n",
      "Done\n"
     ]
    }
   ],
   "source": [
    "    VCF2NewHybs(\"/home/djeffrie/Dropbox/TPing_Bern/Eco_Evo_Research_module_TP/Carassius/Data/NewHybrids/Ccar_Cypcarp/Ccar_Cyp_carp_ohnolog_filtered.vcf\")"
   ]
  },
  {
   "cell_type": "code",
   "execution_count": 1,
   "metadata": {
    "collapsed": false
   },
   "outputs": [],
   "source": [
    "\n",
    "\n",
    "\n",
    "\n",
    "\n",
    "\n"
   ]
  },
  {
   "cell_type": "markdown",
   "metadata": {},
   "source": [
    "### ### Now transpose that file, and write it with headers to final file"
   ]
  },
  {
   "cell_type": "code",
   "execution_count": 3,
   "metadata": {
    "collapsed": false
   },
   "outputs": [
    {
     "name": "stdout",
     "output_type": "stream",
     "text": [
      "Number of samples = 203\n",
      "Number of loci = 2728\n",
      "Done\n"
     ]
    }
   ],
   "source": [
    "\n",
    "    \n",
    "nf_Td = open(wd+\"/NewHybs_Ccar_Caur.txt\", 'w')\n",
    "\n",
    "### Get file header info ####\n",
    "\n",
    "Number_of_samples = len(open(wd+\"/NewHybs.temp\", 'r').readlines()[0].split())\n",
    "Number_of_loci = (len(open(wd+\"/NewHybs.temp\", 'r').readlines())-1)\n",
    "\n",
    "Loc_names = []\n",
    "for line in open(wd+\"/Ccar_Caur_ohnolog_filtered.vcf\", 'r').readlines():\n",
    "    if '#' not in line:\n",
    "        Loc_names.append(line.split()[2])\n",
    "\n",
    "print 'Number of samples = '+str(Number_of_samples)\n",
    "print 'Number of loci = '+str(Number_of_loci+1)\n",
    "\n",
    "#### write file header ####\n",
    "\n",
    "nf_Td.write(\"NumIndivs \"+str(Number_of_samples)+\"\\nNumLoci \"+str(Number_of_loci+1)+\"\\nDigits 1\\nFormat Lumped\\nLocusNames\\t\")\n",
    "nf_Td.writelines(\"%s\\t\" % name for name in Loc_names)\n",
    "nf_Td.write(\"\\n\")\n",
    "            \n",
    "            \n",
    "#### Transpose #####\n",
    "\n",
    "with open(wd+\"/NewHybs.temp\", 'rb') as the_file:\n",
    "    lis = [x.split() for x in the_file]\n",
    "    for x in zip(*lis[0:]): # (The \"*\" in this tells zip to take the elements in the \"lis\" argument, not the thing \"lis\" itself)\n",
    "        for y in x:\n",
    "            nf_Td.write(y+'\\t')\n",
    "        nf_Td.write('\\n')\n",
    "## This transposing bit is very useful! Need to become more comfortable with this...\n",
    "\n",
    "nf_Td.close()\n",
    "\n",
    "\n",
    "print \"Done\"\n"
   ]
  },
  {
   "cell_type": "code",
   "execution_count": null,
   "metadata": {
    "collapsed": true
   },
   "outputs": [],
   "source": []
  }
 ],
 "metadata": {
  "kernelspec": {
   "display_name": "Python 2",
   "language": "python",
   "name": "python2"
  },
  "language_info": {
   "codemirror_mode": {
    "name": "ipython",
    "version": 2
   },
   "file_extension": ".py",
   "mimetype": "text/x-python",
   "name": "python",
   "nbconvert_exporter": "python",
   "pygments_lexer": "ipython2",
   "version": "2.7.14"
  }
 },
 "nbformat": 4,
 "nbformat_minor": 2
}
