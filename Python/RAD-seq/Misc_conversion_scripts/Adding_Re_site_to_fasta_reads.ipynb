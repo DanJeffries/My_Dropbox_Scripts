{
 "cells": [
  {
   "cell_type": "markdown",
   "metadata": {},
   "source": [
    "I need to add the restriction site onto the front of reads which have been demultiplexed by someone else. It looks like the restriction site was removed....\n",
    "\n",
    "So I need to go over all seqs in all files and add TGCAGG\n",
    "\n",
    "\n"
   ]
  },
  {
   "cell_type": "code",
   "execution_count": 2,
   "metadata": {
    "collapsed": true
   },
   "outputs": [],
   "source": [
    "from Bio import SeqIO\n",
    "import gzip"
   ]
  },
  {
   "cell_type": "code",
   "execution_count": 41,
   "metadata": {
    "collapsed": true
   },
   "outputs": [],
   "source": [
    "wd = \"/home/djeffrie/Data/RADseq/Riberica/Old_data_tests\"\n",
    "\n",
    "in_file = \"Cv_08_14.fa.gz\"\n",
    "in_handle  = gzip.open(\"%s/%s\" % (wd, in_file), 'r')\n",
    "\n",
    "out_file = \"%s_CSite_added.fa.gz\" % in_file.partition(\".\")[0]\n",
    "out_handle = gzip.open(\"%s/%s\" % (wd, out_file), 'w')\n",
    "\n",
    "in_fasta = in_handle.readlines()"
   ]
  },
  {
   "cell_type": "code",
   "execution_count": 42,
   "metadata": {},
   "outputs": [],
   "source": [
    "for line in in_fasta:\n",
    "    if line.startswith(\">\"):\n",
    "        out_handle.write(\"%s\" % line)\n",
    "    else:\n",
    "        out_handle.write(\"TGCAGG%s\" % line)\n",
    "\n",
    "out_handle.close()"
   ]
  },
  {
   "cell_type": "code",
   "execution_count": null,
   "metadata": {
    "collapsed": true
   },
   "outputs": [],
   "source": []
  },
  {
   "cell_type": "code",
   "execution_count": 15,
   "metadata": {},
   "outputs": [
    {
     "name": "stdout",
     "output_type": "stream",
     "text": [
      "ID: HISEQ:106:C5J9DACXX:3:1312:1365:65033\n",
      "Name: HISEQ:106:C5J9DACXX:3:1312:1365:65033\n",
      "Description: HISEQ:106:C5J9DACXX:3:1312:1365:65033\n",
      "Number of features: 0\n",
      "'TGCAGGAAAGGTAAAATTACCTCGCAGCTTAGCAAGTCCCACACTACCCAAGGCAGATTGACAAGCCGGGAGAGGGAGACACGAGGAAAGAAC'\n"
     ]
    }
   ],
   "source": [
    "Sbf1_string = \"TGCAGG\"\n",
    "record.seq = \"%s%s\" % (Sbf1_string, record.seq)\n",
    "\n",
    "print record"
   ]
  }
 ],
 "metadata": {
  "anaconda-cloud": {},
  "kernelspec": {
   "display_name": "Python 2",
   "language": "python",
   "name": "python2"
  },
  "language_info": {
   "codemirror_mode": {
    "name": "ipython",
    "version": 2
   },
   "file_extension": ".py",
   "mimetype": "text/x-python",
   "name": "python",
   "nbconvert_exporter": "python",
   "pygments_lexer": "ipython2",
   "version": "2.7.14"
  }
 },
 "nbformat": 4,
 "nbformat_minor": 2
}
