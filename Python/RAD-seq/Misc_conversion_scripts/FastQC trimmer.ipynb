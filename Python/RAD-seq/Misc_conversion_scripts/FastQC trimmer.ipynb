{
 "metadata": {
  "name": "",
  "signature": "sha256:6354b6d29a0bda552c02f116e62ee5f9867857d71c361df3ebfac3d5417970e7"
 },
 "nbformat": 3,
 "nbformat_minor": 0,
 "worksheets": [
  {
   "cells": [
    {
     "cell_type": "code",
     "collapsed": false,
     "input": [
      "import os\n",
      "\n",
      "def fastq_read_trimmer(input_dir, output_dir):\n",
      "    for root, dirs, files in os.walk(input_dir):\n",
      "        for fil in files:\n",
      "            if fil.endswith('_1'):\n",
      "                fastq = open(root+fil, 'r')\n",
      "                new_fastq = open(output_dir+\"/\"+fil, 'w')\n",
      "                for line in fastq.readlines():\n",
      "                    if len(line) <= 92:\n",
      "                        new_fastq.write(line)\n",
      "                    else:\n",
      "                        new_fastq.write(line[:92]+\"\\n\")\n",
      "                print \"Completed file\", fil     "
     ],
     "language": "python",
     "metadata": {},
     "outputs": [],
     "prompt_number": 17
    },
    {
     "cell_type": "code",
     "collapsed": false,
     "input": [
      "fastq_read_trimmer('/media/dan/34D5D1CE642D7E36/2013076_Hanfling_Bernd/clone_filtered_demultiplexed_reads/batch2/', '/media/dan/34D5D1CE642D7E36/2013076_Hanfling_Bernd/clone_filtered_AND_trimmed_read_1s/')"
     ],
     "language": "python",
     "metadata": {},
     "outputs": [
      {
       "output_type": "stream",
       "stream": "stdout",
       "text": [
        "Completed file BF04_1.fil.fq_1\n",
        "Completed file"
       ]
      },
      {
       "output_type": "stream",
       "stream": "stdout",
       "text": [
        " BF05_1.fil.fq_1\n",
        "Completed file"
       ]
      },
      {
       "output_type": "stream",
       "stream": "stdout",
       "text": [
        " BF06_1.fil.fq_1\n",
        "Completed file"
       ]
      },
      {
       "output_type": "stream",
       "stream": "stdout",
       "text": [
        " BF08_1.fil.fq_1\n",
        "Completed file"
       ]
      },
      {
       "output_type": "stream",
       "stream": "stdout",
       "text": [
        " BF10_1.fil.fq_1\n",
        "Completed file"
       ]
      },
      {
       "output_type": "stream",
       "stream": "stdout",
       "text": [
        " BF11_1.fil.fq_1\n",
        "Completed file"
       ]
      },
      {
       "output_type": "stream",
       "stream": "stdout",
       "text": [
        " BF12_1.fil.fq_1\n",
        "Completed file"
       ]
      },
      {
       "output_type": "stream",
       "stream": "stdout",
       "text": [
        " BOR01_1.fil.fq_1\n",
        "Completed file"
       ]
      },
      {
       "output_type": "stream",
       "stream": "stdout",
       "text": [
        " BOR02_1.fil.fq_1\n",
        "Completed file"
       ]
      },
      {
       "output_type": "stream",
       "stream": "stdout",
       "text": [
        " BOR03_1.fil.fq_1\n",
        "Completed file"
       ]
      },
      {
       "output_type": "stream",
       "stream": "stdout",
       "text": [
        " BOR04_1.fil.fq_1\n",
        "Completed file"
       ]
      },
      {
       "output_type": "stream",
       "stream": "stdout",
       "text": [
        " BOR06_1.fil.fq_1\n",
        "Completed file"
       ]
      },
      {
       "output_type": "stream",
       "stream": "stdout",
       "text": [
        " CA-LK01_1.fil.fq_1\n",
        "Completed file"
       ]
      },
      {
       "output_type": "stream",
       "stream": "stdout",
       "text": [
        " CA-LK02_1.fil.fq_1\n",
        "Completed file"
       ]
      },
      {
       "output_type": "stream",
       "stream": "stdout",
       "text": [
        " CA-LK03_1.fil.fq_1\n",
        "Completed file"
       ]
      },
      {
       "output_type": "stream",
       "stream": "stdout",
       "text": [
        " CA-LK04_1.fil.fq_1\n",
        "Completed file"
       ]
      },
      {
       "output_type": "stream",
       "stream": "stdout",
       "text": [
        " CA-LK05_1.fil.fq_1\n",
        "Completed file"
       ]
      },
      {
       "output_type": "stream",
       "stream": "stdout",
       "text": [
        " CA-LK06_1.fil.fq_1\n",
        "Completed file"
       ]
      },
      {
       "output_type": "stream",
       "stream": "stdout",
       "text": [
        " CA-LK07_1.fil.fq_1\n",
        "Completed file"
       ]
      },
      {
       "output_type": "stream",
       "stream": "stdout",
       "text": [
        " CA-LK09_1.fil.fq_1\n",
        "Completed file"
       ]
      },
      {
       "output_type": "stream",
       "stream": "stdout",
       "text": [
        " CA-LK10_1.fil.fq_1\n",
        "Completed file"
       ]
      },
      {
       "output_type": "stream",
       "stream": "stdout",
       "text": [
        " COP06_1.fil.fq_1\n",
        "Completed file"
       ]
      },
      {
       "output_type": "stream",
       "stream": "stdout",
       "text": [
        " COP08_1.fil.fq_1\n",
        "Completed file"
       ]
      },
      {
       "output_type": "stream",
       "stream": "stdout",
       "text": [
        " COP09_1.fil.fq_1\n",
        "Completed file"
       ]
      },
      {
       "output_type": "stream",
       "stream": "stdout",
       "text": [
        " COP10_1.fil.fq_1\n",
        "Completed file"
       ]
      },
      {
       "output_type": "stream",
       "stream": "stdout",
       "text": [
        " COP12_1.fil.fq_1\n",
        "Completed file"
       ]
      },
      {
       "output_type": "stream",
       "stream": "stdout",
       "text": [
        " COP13_1.fil.fq_1\n",
        "Completed file"
       ]
      },
      {
       "output_type": "stream",
       "stream": "stdout",
       "text": [
        " COP14_1.fil.fq_1\n",
        "Completed file"
       ]
      },
      {
       "output_type": "stream",
       "stream": "stdout",
       "text": [
        " COP15_1.fil.fq_1\n",
        "Completed file"
       ]
      },
      {
       "output_type": "stream",
       "stream": "stdout",
       "text": [
        " EP01_1.fil.fq_1\n",
        "Completed file"
       ]
      },
      {
       "output_type": "stream",
       "stream": "stdout",
       "text": [
        " EP10_1.fil.fq_1\n",
        "Completed file"
       ]
      },
      {
       "output_type": "stream",
       "stream": "stdout",
       "text": [
        " FM01_1.fil.fq_1\n",
        "Completed file"
       ]
      },
      {
       "output_type": "stream",
       "stream": "stdout",
       "text": [
        " FM03_1.fil.fq_1\n",
        "Completed file"
       ]
      },
      {
       "output_type": "stream",
       "stream": "stdout",
       "text": [
        " FM04_1.fil.fq_1\n",
        "Completed file"
       ]
      },
      {
       "output_type": "stream",
       "stream": "stdout",
       "text": [
        " FM05_1.fil.fq_1\n",
        "Completed file"
       ]
      },
      {
       "output_type": "stream",
       "stream": "stdout",
       "text": [
        " FM07_1.fil.fq_1\n",
        "Completed file"
       ]
      },
      {
       "output_type": "stream",
       "stream": "stdout",
       "text": [
        " FM08_1.fil.fq_1\n",
        "Completed file"
       ]
      },
      {
       "output_type": "stream",
       "stream": "stdout",
       "text": [
        " H2K3_1.fil.fq_1\n",
        "Completed file"
       ]
      },
      {
       "output_type": "stream",
       "stream": "stdout",
       "text": [
        " H2K5_1.fil.fq_1\n",
        "Completed file"
       ]
      },
      {
       "output_type": "stream",
       "stream": "stdout",
       "text": [
        " H2KH1_1.fil.fq_1\n",
        "Completed file"
       ]
      },
      {
       "output_type": "stream",
       "stream": "stdout",
       "text": [
        " HK11_1.fil.fq_1\n",
        "Completed file"
       ]
      },
      {
       "output_type": "stream",
       "stream": "stdout",
       "text": [
        " HK1_1.fil.fq_1\n",
        "Completed file"
       ]
      },
      {
       "output_type": "stream",
       "stream": "stdout",
       "text": [
        " HK2_1.fil.fq_1\n",
        "Completed file"
       ]
      },
      {
       "output_type": "stream",
       "stream": "stdout",
       "text": [
        " LAS01_1.fil.fq_1\n",
        "Completed file"
       ]
      },
      {
       "output_type": "stream",
       "stream": "stdout",
       "text": [
        " LAS08_1.fil.fq_1\n",
        "Completed file"
       ]
      },
      {
       "output_type": "stream",
       "stream": "stdout",
       "text": [
        " LAS09_1.fil.fq_1\n",
        "Completed file"
       ]
      },
      {
       "output_type": "stream",
       "stream": "stdout",
       "text": [
        " OBY01_1.fil.fq_1\n",
        "Completed file"
       ]
      },
      {
       "output_type": "stream",
       "stream": "stdout",
       "text": [
        " OBY02_1.fil.fq_1\n",
        "Completed file"
       ]
      },
      {
       "output_type": "stream",
       "stream": "stdout",
       "text": [
        " OBY07_1.fil.fq_1\n",
        "Completed file"
       ]
      },
      {
       "output_type": "stream",
       "stream": "stdout",
       "text": [
        " OBY10_1.fil.fq_1\n",
        "Completed file"
       ]
      },
      {
       "output_type": "stream",
       "stream": "stdout",
       "text": [
        " OBY11_1.fil.fq_1\n",
        "Completed file"
       ]
      },
      {
       "output_type": "stream",
       "stream": "stdout",
       "text": [
        " OBY12_1.fil.fq_1\n",
        "Completed file"
       ]
      },
      {
       "output_type": "stream",
       "stream": "stdout",
       "text": [
        " OBY14_1.fil.fq_1\n",
        "Completed file"
       ]
      },
      {
       "output_type": "stream",
       "stream": "stdout",
       "text": [
        " OBY15_1.fil.fq_1\n",
        "Completed file"
       ]
      },
      {
       "output_type": "stream",
       "stream": "stdout",
       "text": [
        " OU01_1.fil.fq_1\n",
        "Completed file"
       ]
      },
      {
       "output_type": "stream",
       "stream": "stdout",
       "text": [
        " OU04_1.fil.fq_1\n",
        "Completed file"
       ]
      },
      {
       "output_type": "stream",
       "stream": "stdout",
       "text": [
        " OU05_1.fil.fq_1\n",
        "Completed file"
       ]
      },
      {
       "output_type": "stream",
       "stream": "stdout",
       "text": [
        " OU06_1.fil.fq_1\n",
        "Completed file"
       ]
      },
      {
       "output_type": "stream",
       "stream": "stdout",
       "text": [
        " OU07_1.fil.fq_1\n",
        "Completed file"
       ]
      },
      {
       "output_type": "stream",
       "stream": "stdout",
       "text": [
        " OU08_1.fil.fq_1\n",
        "Completed file"
       ]
      },
      {
       "output_type": "stream",
       "stream": "stdout",
       "text": [
        " OU09_1.fil.fq_1\n",
        "Completed file"
       ]
      },
      {
       "output_type": "stream",
       "stream": "stdout",
       "text": [
        " PED01_1.fil.fq_1\n",
        "Completed file"
       ]
      },
      {
       "output_type": "stream",
       "stream": "stdout",
       "text": [
        " PED02_1.fil.fq_1\n",
        "Completed file"
       ]
      },
      {
       "output_type": "stream",
       "stream": "stdout",
       "text": [
        " PED03_1.fil.fq_1\n",
        "Completed file"
       ]
      },
      {
       "output_type": "stream",
       "stream": "stdout",
       "text": [
        " PED04_1.fil.fq_1\n",
        "Completed file"
       ]
      },
      {
       "output_type": "stream",
       "stream": "stdout",
       "text": [
        " PED05_1.fil.fq_1\n",
        "Completed file"
       ]
      },
      {
       "output_type": "stream",
       "stream": "stdout",
       "text": [
        " PED06_1.fil.fq_1\n",
        "Completed file"
       ]
      },
      {
       "output_type": "stream",
       "stream": "stdout",
       "text": [
        " PED08_1.fil.fq_1\n",
        "Completed file"
       ]
      },
      {
       "output_type": "stream",
       "stream": "stdout",
       "text": [
        " PRO01_1.fil.fq_1\n",
        "Completed file"
       ]
      },
      {
       "output_type": "stream",
       "stream": "stdout",
       "text": [
        " PRO02_1.fil.fq_1\n",
        "Completed file"
       ]
      },
      {
       "output_type": "stream",
       "stream": "stdout",
       "text": [
        " PRO04_1.fil.fq_1\n",
        "Completed file"
       ]
      },
      {
       "output_type": "stream",
       "stream": "stdout",
       "text": [
        " PRO05_1.fil.fq_1\n",
        "Completed file"
       ]
      },
      {
       "output_type": "stream",
       "stream": "stdout",
       "text": [
        " PRO06_1.fil.fq_1\n",
        "Completed file"
       ]
      },
      {
       "output_type": "stream",
       "stream": "stdout",
       "text": [
        " PRO07_1.fil.fq_1\n",
        "Completed file"
       ]
      },
      {
       "output_type": "stream",
       "stream": "stdout",
       "text": [
        " PRO08_1.fil.fq_1\n",
        "Completed file"
       ]
      },
      {
       "output_type": "stream",
       "stream": "stdout",
       "text": [
        " PRO9_1.fil.fq_1\n",
        "Completed file"
       ]
      },
      {
       "output_type": "stream",
       "stream": "stdout",
       "text": [
        " STYV01_1.fil.fq_1\n",
        "Completed file"
       ]
      },
      {
       "output_type": "stream",
       "stream": "stdout",
       "text": [
        " STYV02_1.fil.fq_1\n",
        "Completed file"
       ]
      },
      {
       "output_type": "stream",
       "stream": "stdout",
       "text": [
        " STYV03_1.fil.fq_1\n",
        "Completed file"
       ]
      },
      {
       "output_type": "stream",
       "stream": "stdout",
       "text": [
        " STYV04_1.fil.fq_1\n",
        "Completed file"
       ]
      },
      {
       "output_type": "stream",
       "stream": "stdout",
       "text": [
        " STYV05_1.fil.fq_1\n",
        "Completed file"
       ]
      },
      {
       "output_type": "stream",
       "stream": "stdout",
       "text": [
        " STYV06_1.fil.fq_1\n",
        "Completed file"
       ]
      },
      {
       "output_type": "stream",
       "stream": "stdout",
       "text": [
        " STYV08_1.fil.fq_1\n",
        "Completed file"
       ]
      },
      {
       "output_type": "stream",
       "stream": "stdout",
       "text": [
        " STYV09_1.fil.fq_1\n",
        "Completed file"
       ]
      },
      {
       "output_type": "stream",
       "stream": "stdout",
       "text": [
        " TROM02_1.fil.fq_1\n",
        "Completed file"
       ]
      },
      {
       "output_type": "stream",
       "stream": "stdout",
       "text": [
        " TROM04_1.fil.fq_1\n",
        "Completed file"
       ]
      },
      {
       "output_type": "stream",
       "stream": "stdout",
       "text": [
        " TROM09_1.fil.fq_1\n",
        "Completed file"
       ]
      },
      {
       "output_type": "stream",
       "stream": "stdout",
       "text": [
        " TROM11_1.fil.fq_1\n",
        "Completed file"
       ]
      },
      {
       "output_type": "stream",
       "stream": "stdout",
       "text": [
        " TROM12_1.fil.fq_1\n",
        "Completed file"
       ]
      },
      {
       "output_type": "stream",
       "stream": "stdout",
       "text": [
        " TROM16_1.fil.fq_1\n",
        "Completed file"
       ]
      },
      {
       "output_type": "stream",
       "stream": "stdout",
       "text": [
        " TROM17_1.fil.fq_1\n",
        "Completed file"
       ]
      },
      {
       "output_type": "stream",
       "stream": "stdout",
       "text": [
        " TROM18_1.fil.fq_1\n",
        "Completed file"
       ]
      },
      {
       "output_type": "stream",
       "stream": "stdout",
       "text": [
        " V11_1.fil.fq_1\n",
        "Completed file"
       ]
      },
      {
       "output_type": "stream",
       "stream": "stdout",
       "text": [
        " V13_1.fil.fq_1\n",
        "Completed file"
       ]
      },
      {
       "output_type": "stream",
       "stream": "stdout",
       "text": [
        " V1_1.fil.fq_1\n",
        "Completed file"
       ]
      },
      {
       "output_type": "stream",
       "stream": "stdout",
       "text": [
        " V3_1.fil.fq_1\n",
        "Completed file"
       ]
      },
      {
       "output_type": "stream",
       "stream": "stdout",
       "text": [
        " V5_1.fil.fq_1\n",
        "Completed file"
       ]
      },
      {
       "output_type": "stream",
       "stream": "stdout",
       "text": [
        " WEN02_1.fil.fq_1\n",
        "Completed file"
       ]
      },
      {
       "output_type": "stream",
       "stream": "stdout",
       "text": [
        " WEN03_1.fil.fq_1\n",
        "Completed file"
       ]
      },
      {
       "output_type": "stream",
       "stream": "stdout",
       "text": [
        " WEN04_1.fil.fq_1\n",
        "Completed file"
       ]
      },
      {
       "output_type": "stream",
       "stream": "stdout",
       "text": [
        " WEN08_1.fil.fq_1\n",
        "Completed file"
       ]
      },
      {
       "output_type": "stream",
       "stream": "stdout",
       "text": [
        " WEN10_1.fil.fq_1\n",
        "Completed file"
       ]
      },
      {
       "output_type": "stream",
       "stream": "stdout",
       "text": [
        " WEN11_1.fil.fq_1\n",
        "Completed file"
       ]
      },
      {
       "output_type": "stream",
       "stream": "stdout",
       "text": [
        " WEN13_1.fil.fq_1\n",
        "Completed file"
       ]
      },
      {
       "output_type": "stream",
       "stream": "stdout",
       "text": [
        " WEN16_1.fil.fq_1\n",
        "Completed file"
       ]
      },
      {
       "output_type": "stream",
       "stream": "stdout",
       "text": [
        " BF09_1.fil.fq_1\n",
        "Completed file"
       ]
      },
      {
       "output_type": "stream",
       "stream": "stdout",
       "text": [
        " BF13_1.fil.fq_1\n",
        "Completed file"
       ]
      },
      {
       "output_type": "stream",
       "stream": "stdout",
       "text": [
        " CA-LK08_1.fil.fq_1\n",
        "Completed file"
       ]
      },
      {
       "output_type": "stream",
       "stream": "stdout",
       "text": [
        " COP07_1.fil.fq_1\n",
        "Completed file"
       ]
      },
      {
       "output_type": "stream",
       "stream": "stdout",
       "text": [
        " COP11_1.fil.fq_1\n",
        "Completed file"
       ]
      },
      {
       "output_type": "stream",
       "stream": "stdout",
       "text": [
        " H2K10_1.fil.fq_1\n",
        "Completed file"
       ]
      },
      {
       "output_type": "stream",
       "stream": "stdout",
       "text": [
        " H2KH2_1.fil.fq_1\n",
        "Completed file"
       ]
      },
      {
       "output_type": "stream",
       "stream": "stdout",
       "text": [
        " OBY13_1.fil.fq_1\n",
        "Completed file"
       ]
      },
      {
       "output_type": "stream",
       "stream": "stdout",
       "text": [
        " OU03_1.fil.fq_1\n",
        "Completed file"
       ]
      },
      {
       "output_type": "stream",
       "stream": "stdout",
       "text": [
        " PED07_1.fil.fq_1\n",
        "Completed file"
       ]
      },
      {
       "output_type": "stream",
       "stream": "stdout",
       "text": [
        " PRO03_1.fil.fq_1\n",
        "Completed file"
       ]
      },
      {
       "output_type": "stream",
       "stream": "stdout",
       "text": [
        " STYV07_1.fil.fq_1\n",
        "Completed file"
       ]
      },
      {
       "output_type": "stream",
       "stream": "stdout",
       "text": [
        " TROM03_1.fil.fq_1\n",
        "Completed file"
       ]
      },
      {
       "output_type": "stream",
       "stream": "stdout",
       "text": [
        " V7_1.fil.fq_1\n",
        "Completed file"
       ]
      },
      {
       "output_type": "stream",
       "stream": "stdout",
       "text": [
        " WEN06_1.fil.fq_1\n"
       ]
      },
      {
       "ename": "IOError",
       "evalue": "[Errno 2] No such file or directory: '/media/dan/34D5D1CE642D7E36/2013076_Hanfling_Bernd/clone_filtered_demultiplexed_reads/batch2/discardsTROM18_1.discards.fq_1'",
       "output_type": "pyerr",
       "traceback": [
        "\u001b[1;31m---------------------------------------------------------------------------\u001b[0m\n\u001b[1;31mIOError\u001b[0m                                   Traceback (most recent call last)",
        "\u001b[1;32m<ipython-input-18-c60b637b7000>\u001b[0m in \u001b[0;36m<module>\u001b[1;34m()\u001b[0m\n\u001b[1;32m----> 1\u001b[1;33m \u001b[0mfastq_read_trimmer\u001b[0m\u001b[1;33m(\u001b[0m\u001b[1;34m'/media/dan/34D5D1CE642D7E36/2013076_Hanfling_Bernd/clone_filtered_demultiplexed_reads/batch2/'\u001b[0m\u001b[1;33m,\u001b[0m \u001b[1;34m'/media/dan/34D5D1CE642D7E36/2013076_Hanfling_Bernd/clone_filtered_AND_trimmed_read_1s/'\u001b[0m\u001b[1;33m)\u001b[0m\u001b[1;33m\u001b[0m\u001b[0m\n\u001b[0m",
        "\u001b[1;32m<ipython-input-17-fa5e74139bc6>\u001b[0m in \u001b[0;36mfastq_read_trimmer\u001b[1;34m(input_dir, output_dir)\u001b[0m\n\u001b[0;32m      5\u001b[0m         \u001b[1;32mfor\u001b[0m \u001b[0mfil\u001b[0m \u001b[1;32min\u001b[0m \u001b[0mfiles\u001b[0m\u001b[1;33m:\u001b[0m\u001b[1;33m\u001b[0m\u001b[0m\n\u001b[0;32m      6\u001b[0m             \u001b[1;32mif\u001b[0m \u001b[0mfil\u001b[0m\u001b[1;33m.\u001b[0m\u001b[0mendswith\u001b[0m\u001b[1;33m(\u001b[0m\u001b[1;34m'_1'\u001b[0m\u001b[1;33m)\u001b[0m\u001b[1;33m:\u001b[0m\u001b[1;33m\u001b[0m\u001b[0m\n\u001b[1;32m----> 7\u001b[1;33m                 \u001b[0mfastq\u001b[0m \u001b[1;33m=\u001b[0m \u001b[0mopen\u001b[0m\u001b[1;33m(\u001b[0m\u001b[0mroot\u001b[0m\u001b[1;33m+\u001b[0m\u001b[0mfil\u001b[0m\u001b[1;33m,\u001b[0m \u001b[1;34m'r'\u001b[0m\u001b[1;33m)\u001b[0m\u001b[1;33m\u001b[0m\u001b[0m\n\u001b[0m\u001b[0;32m      8\u001b[0m                 \u001b[0mnew_fastq\u001b[0m \u001b[1;33m=\u001b[0m \u001b[0mopen\u001b[0m\u001b[1;33m(\u001b[0m\u001b[0moutput_dir\u001b[0m\u001b[1;33m+\u001b[0m\u001b[1;34m\"/\"\u001b[0m\u001b[1;33m+\u001b[0m\u001b[0mfil\u001b[0m\u001b[1;33m,\u001b[0m \u001b[1;34m'w'\u001b[0m\u001b[1;33m)\u001b[0m\u001b[1;33m\u001b[0m\u001b[0m\n\u001b[0;32m      9\u001b[0m                 \u001b[1;32mfor\u001b[0m \u001b[0mline\u001b[0m \u001b[1;32min\u001b[0m \u001b[0mfastq\u001b[0m\u001b[1;33m.\u001b[0m\u001b[0mreadlines\u001b[0m\u001b[1;33m(\u001b[0m\u001b[1;33m)\u001b[0m\u001b[1;33m:\u001b[0m\u001b[1;33m\u001b[0m\u001b[0m\n",
        "\u001b[1;31mIOError\u001b[0m: [Errno 2] No such file or directory: '/media/dan/34D5D1CE642D7E36/2013076_Hanfling_Bernd/clone_filtered_demultiplexed_reads/batch2/discardsTROM18_1.discards.fq_1'"
       ]
      }
     ],
     "prompt_number": 18
    }
   ],
   "metadata": {}
  }
 ]
}