{
 "cells": [
  {
   "cell_type": "markdown",
   "metadata": {},
   "source": [
    "I need to add the restriction site onto the front of reads which have been demultiplexed by someone else. It looks like the restriction site was removed....\n",
    "\n",
    "So I need to go over all seqs in all files and add TGCAGG\n",
    "\n",
    "\n"
   ]
  },
  {
   "cell_type": "code",
   "execution_count": 2,
   "metadata": {
    "collapsed": true
   },
   "outputs": [],
   "source": [
    "from Bio import SeqIO\n",
    "import gzip"
   ]
  },
  {
   "cell_type": "code",
   "execution_count": 25,
   "metadata": {},
   "outputs": [],
   "source": [
    "wd = \"/home/djeffrie/Data/RADseq/Riberica/Old_data_tests\"\n",
    "\n",
    "in_file = \"Cv_08_14.fa.gz\"\n",
    "in_handle  = gzip.open(\"%s/%s\" % (wd, in_file), 'r')\n",
    "\n",
    "out_file = \"%s_CSite_added.fa.gz\" % in_file.rpartition(\".\")[0]\n",
    "out_handle = gzip.open(\"%s/%s\" % (wd, out_file), 'w')\n",
    "\n",
    "in_fasta = SeqIO.parse(in_handle, \"fasta\")"
   ]
  },
  {
   "cell_type": "code",
   "execution_count": 26,
   "metadata": {},
   "outputs": [
    {
     "name": "stdout",
     "output_type": "stream",
     "text": [
      "ID: HISEQ:106:C5J9DACXX:3:1312:1365:65033\n",
      "Name: HISEQ:106:C5J9DACXX:3:1312:1365:65033\n",
      "Description: HISEQ:106:C5J9DACXX:3:1312:1365:65033\n",
      "Number of features: 0\n",
      "'TGCAGGAAAGGTAAAATTACCTCGCAGCTTAGCAAGTCCCACACTACCCAAGGCAGATTGACAAGCCGGGAGAGGGAGACACGAGGAAAGAAC'\n",
      "ID: HISEQ:106:C5J9DACXX:3:1312:2227:65098\n",
      "Name: HISEQ:106:C5J9DACXX:3:1312:2227:65098\n",
      "Description: HISEQ:106:C5J9DACXX:3:1312:2227:65098\n",
      "Number of features: 0\n",
      "'TGCAGGCGGCCTTTTATAGTGTGGGGCATGTACTAAACCCCCTGAGCCATAATTGGCCAAAGCCACCCTGGCTTTGGCCAATTATGGCTCTCC'\n",
      "ID: HISEQ:106:C5J9DACXX:3:1312:2423:65041\n",
      "Name: HISEQ:106:C5J9DACXX:3:1312:2423:65041\n",
      "Description: HISEQ:106:C5J9DACXX:3:1312:2423:65041\n",
      "Number of features: 0\n",
      "'TGCAGGCTTCTCCCAGTCGCCAGGTACCTCAACGTGGCAATGAGCCTCTGCTCGGCCGTGATGGCTTGGCGCATTACAGTGTCCTGCCTCGTG'\n",
      "ID: HISEQ:106:C5J9DACXX:3:1312:2451:65229\n",
      "Name: HISEQ:106:C5J9DACXX:3:1312:2451:65229\n",
      "Description: HISEQ:106:C5J9DACXX:3:1312:2451:65229\n",
      "Number of features: 0\n",
      "'TGCAGGACGTCAATAGACGTCCAGTCAGGATTTCACAACCACTTCCCGGACATCAATTGTATATTGACCGGGCGGGAAGTGGTTAAAGTAAAA'\n",
      "ID: HISEQ:106:C5J9DACXX:3:1312:2676:65057\n",
      "Name: HISEQ:106:C5J9DACXX:3:1312:2676:65057\n",
      "Description: HISEQ:106:C5J9DACXX:3:1312:2676:65057\n",
      "Number of features: 0\n",
      "'TGCAGGGCTCTGGTAATTTCCAGGATGGCATCAGGGCTGAATCTGAAACGGCGATACACCTCCACATCAACCATGCCAAAGAGGCTAATGTGC'\n",
      "ID: HISEQ:106:C5J9DACXX:3:1312:3401:65109\n",
      "Name: HISEQ:106:C5J9DACXX:3:1312:3401:65109\n",
      "Description: HISEQ:106:C5J9DACXX:3:1312:3401:65109\n",
      "Number of features: 0\n",
      "'TGCAGGCAGTCTGATATGGCCTGGTTATGTTCAGCCTGTTGTGTGAGGCACTGCTGCACATCCACGGACCCAAAAAAGGTGGCCAGGCTGTCA'\n",
      "ID: HISEQ:106:C5J9DACXX:3:1312:3731:65138\n",
      "Name: HISEQ:106:C5J9DACXX:3:1312:3731:65138\n",
      "Description: HISEQ:106:C5J9DACXX:3:1312:3731:65138\n",
      "Number of features: 0\n",
      "'TGCAGGGAGCTGTTCAGCATCTCAGGTGGCATAGCAAGAAAAGCTACAGCCATATACGGCAGAGGTTCCAGGTTCAATCCAGTCCCTGATGGG'\n",
      "ID: HISEQ:106:C5J9DACXX:3:1312:3673:65237\n",
      "Name: HISEQ:106:C5J9DACXX:3:1312:3673:65237\n",
      "Description: HISEQ:106:C5J9DACXX:3:1312:3673:65237\n",
      "Number of features: 0\n",
      "'TGCAGGTGCACAGGGAGAGTAACAAGTAGGGTACTGGGACCTGATCTGGACAGCTTCGGTGCCTCTCATATGACAATGAGTTGCTCCACAGTG'\n",
      "ID: HISEQ:106:C5J9DACXX:3:1312:3797:65210\n",
      "Name: HISEQ:106:C5J9DACXX:3:1312:3797:65210\n",
      "Description: HISEQ:106:C5J9DACXX:3:1312:3797:65210\n",
      "Number of features: 0\n",
      "'TGCAGGGGTCAGTACAGAGGTATGTAGTATGTAATGCAGAGTGCAGGGGTCAGTACAGAGGTATGTAGTATGTAATGCAGAGTGCAGGGGTCA'\n",
      "ID: HISEQ:106:C5J9DACXX:3:1312:4275:65196\n",
      "Name: HISEQ:106:C5J9DACXX:3:1312:4275:65196\n",
      "Description: HISEQ:106:C5J9DACXX:3:1312:4275:65196\n",
      "Number of features: 0\n",
      "'TGCAGGCAGCGGACCACACAAAGATGAGGGTGAGCGGGGAAAAACGGGTAGAAGACCGATTGAAGACCCGTCTTAGTTCTACGTACGACCGAG'\n"
     ]
    },
    {
     "ename": "KeyboardInterrupt",
     "evalue": "",
     "output_type": "error",
     "traceback": [
      "\u001b[0;31m---------------------------------------------------------------------------\u001b[0m",
      "\u001b[0;31mKeyboardInterrupt\u001b[0m                         Traceback (most recent call last)",
      "\u001b[0;32m<ipython-input-26-d0a521bdd014>\u001b[0m in \u001b[0;36m<module>\u001b[0;34m()\u001b[0m\n\u001b[1;32m      2\u001b[0m \u001b[0;34m\u001b[0m\u001b[0m\n\u001b[1;32m      3\u001b[0m \u001b[0mN\u001b[0m \u001b[0;34m=\u001b[0m \u001b[0;36m0\u001b[0m\u001b[0;34m\u001b[0m\u001b[0m\n\u001b[0;32m----> 4\u001b[0;31m \u001b[0;32mfor\u001b[0m \u001b[0mrecord\u001b[0m \u001b[0;32min\u001b[0m \u001b[0min_fasta\u001b[0m\u001b[0;34m:\u001b[0m\u001b[0;34m\u001b[0m\u001b[0m\n\u001b[0m\u001b[1;32m      5\u001b[0m     \u001b[0;32mif\u001b[0m \u001b[0mN\u001b[0m  \u001b[0;34m<\u001b[0m \u001b[0;36m10\u001b[0m\u001b[0;34m:\u001b[0m\u001b[0;34m\u001b[0m\u001b[0m\n\u001b[1;32m      6\u001b[0m         \u001b[0mrecord\u001b[0m\u001b[0;34m.\u001b[0m\u001b[0mseq\u001b[0m \u001b[0;34m=\u001b[0m \u001b[0;34m\"%s%s\"\u001b[0m \u001b[0;34m%\u001b[0m \u001b[0;34m(\u001b[0m\u001b[0mSbf1_string\u001b[0m\u001b[0;34m,\u001b[0m \u001b[0mrecord\u001b[0m\u001b[0;34m.\u001b[0m\u001b[0mseq\u001b[0m\u001b[0;34m)\u001b[0m\u001b[0;34m\u001b[0m\u001b[0m\n",
      "\u001b[0;32m/home/djeffrie/anaconda3/envs/py27/lib/python2.7/site-packages/Bio/SeqIO/__init__.pyc\u001b[0m in \u001b[0;36mparse\u001b[0;34m(handle, format, alphabet)\u001b[0m\n\u001b[1;32m    609\u001b[0m             \u001b[0;32mraise\u001b[0m \u001b[0mValueError\u001b[0m\u001b[0;34m(\u001b[0m\u001b[0;34m\"Unknown format '%s'\"\u001b[0m \u001b[0;34m%\u001b[0m \u001b[0mformat\u001b[0m\u001b[0;34m)\u001b[0m\u001b[0;34m\u001b[0m\u001b[0m\n\u001b[1;32m    610\u001b[0m         \u001b[0;31m# This imposes some overhead... wait until we drop Python 2.4 to fix it\u001b[0m\u001b[0;34m\u001b[0m\u001b[0;34m\u001b[0m\u001b[0m\n\u001b[0;32m--> 611\u001b[0;31m         \u001b[0;32mfor\u001b[0m \u001b[0mr\u001b[0m \u001b[0;32min\u001b[0m \u001b[0mi\u001b[0m\u001b[0;34m:\u001b[0m\u001b[0;34m\u001b[0m\u001b[0m\n\u001b[0m\u001b[1;32m    612\u001b[0m             \u001b[0;32myield\u001b[0m \u001b[0mr\u001b[0m\u001b[0;34m\u001b[0m\u001b[0m\n\u001b[1;32m    613\u001b[0m \u001b[0;34m\u001b[0m\u001b[0m\n",
      "\u001b[0;32m/home/djeffrie/anaconda3/envs/py27/lib/python2.7/site-packages/Bio/SeqIO/FastaIO.pyc\u001b[0m in \u001b[0;36mFastaIterator\u001b[0;34m(handle, alphabet, title2ids)\u001b[0m\n\u001b[1;32m    120\u001b[0m                             id=id, name=name, description=descr)\n\u001b[1;32m    121\u001b[0m     \u001b[0;32melse\u001b[0m\u001b[0;34m:\u001b[0m\u001b[0;34m\u001b[0m\u001b[0m\n\u001b[0;32m--> 122\u001b[0;31m         \u001b[0;32mfor\u001b[0m \u001b[0mtitle\u001b[0m\u001b[0;34m,\u001b[0m \u001b[0msequence\u001b[0m \u001b[0;32min\u001b[0m \u001b[0mSimpleFastaParser\u001b[0m\u001b[0;34m(\u001b[0m\u001b[0mhandle\u001b[0m\u001b[0;34m)\u001b[0m\u001b[0;34m:\u001b[0m\u001b[0;34m\u001b[0m\u001b[0m\n\u001b[0m\u001b[1;32m    123\u001b[0m             \u001b[0;32mtry\u001b[0m\u001b[0;34m:\u001b[0m\u001b[0;34m\u001b[0m\u001b[0m\n\u001b[1;32m    124\u001b[0m                 \u001b[0mfirst_word\u001b[0m \u001b[0;34m=\u001b[0m \u001b[0mtitle\u001b[0m\u001b[0;34m.\u001b[0m\u001b[0msplit\u001b[0m\u001b[0;34m(\u001b[0m\u001b[0mNone\u001b[0m\u001b[0;34m,\u001b[0m \u001b[0;36m1\u001b[0m\u001b[0;34m)\u001b[0m\u001b[0;34m[\u001b[0m\u001b[0;36m0\u001b[0m\u001b[0;34m]\u001b[0m\u001b[0;34m\u001b[0m\u001b[0m\n",
      "\u001b[0;32m/home/djeffrie/anaconda3/envs/py27/lib/python2.7/site-packages/Bio/SeqIO/FastaIO.pyc\u001b[0m in \u001b[0;36mSimpleFastaParser\u001b[0;34m(handle)\u001b[0m\n\u001b[1;32m     61\u001b[0m                 \u001b[0;32mbreak\u001b[0m\u001b[0;34m\u001b[0m\u001b[0m\n\u001b[1;32m     62\u001b[0m             \u001b[0mlines\u001b[0m\u001b[0;34m.\u001b[0m\u001b[0mappend\u001b[0m\u001b[0;34m(\u001b[0m\u001b[0mline\u001b[0m\u001b[0;34m.\u001b[0m\u001b[0mrstrip\u001b[0m\u001b[0;34m(\u001b[0m\u001b[0;34m)\u001b[0m\u001b[0;34m)\u001b[0m\u001b[0;34m\u001b[0m\u001b[0m\n\u001b[0;32m---> 63\u001b[0;31m             \u001b[0mline\u001b[0m \u001b[0;34m=\u001b[0m \u001b[0mhandle\u001b[0m\u001b[0;34m.\u001b[0m\u001b[0mreadline\u001b[0m\u001b[0;34m(\u001b[0m\u001b[0;34m)\u001b[0m\u001b[0;34m\u001b[0m\u001b[0m\n\u001b[0m\u001b[1;32m     64\u001b[0m \u001b[0;34m\u001b[0m\u001b[0m\n\u001b[1;32m     65\u001b[0m         \u001b[0;31m# Remove trailing whitespace, and any internal spaces\u001b[0m\u001b[0;34m\u001b[0m\u001b[0;34m\u001b[0m\u001b[0m\n",
      "\u001b[0;32m/home/djeffrie/anaconda3/envs/py27/lib/python2.7/gzip.pyc\u001b[0m in \u001b[0;36mreadline\u001b[0;34m(self, size)\u001b[0m\n\u001b[1;32m    450\u001b[0m             \u001b[0;31m# Shortcut common case - newline found in buffer.\u001b[0m\u001b[0;34m\u001b[0m\u001b[0;34m\u001b[0m\u001b[0m\n\u001b[1;32m    451\u001b[0m             \u001b[0moffset\u001b[0m \u001b[0;34m=\u001b[0m \u001b[0mself\u001b[0m\u001b[0;34m.\u001b[0m\u001b[0moffset\u001b[0m \u001b[0;34m-\u001b[0m \u001b[0mself\u001b[0m\u001b[0;34m.\u001b[0m\u001b[0mextrastart\u001b[0m\u001b[0;34m\u001b[0m\u001b[0m\n\u001b[0;32m--> 452\u001b[0;31m             \u001b[0mi\u001b[0m \u001b[0;34m=\u001b[0m \u001b[0mself\u001b[0m\u001b[0;34m.\u001b[0m\u001b[0mextrabuf\u001b[0m\u001b[0;34m.\u001b[0m\u001b[0mfind\u001b[0m\u001b[0;34m(\u001b[0m\u001b[0;34m'\\n'\u001b[0m\u001b[0;34m,\u001b[0m \u001b[0moffset\u001b[0m\u001b[0;34m)\u001b[0m \u001b[0;34m+\u001b[0m \u001b[0;36m1\u001b[0m\u001b[0;34m\u001b[0m\u001b[0m\n\u001b[0m\u001b[1;32m    453\u001b[0m             \u001b[0;32mif\u001b[0m \u001b[0mi\u001b[0m \u001b[0;34m>\u001b[0m \u001b[0;36m0\u001b[0m\u001b[0;34m:\u001b[0m\u001b[0;34m\u001b[0m\u001b[0m\n\u001b[1;32m    454\u001b[0m                 \u001b[0mself\u001b[0m\u001b[0;34m.\u001b[0m\u001b[0mextrasize\u001b[0m \u001b[0;34m-=\u001b[0m \u001b[0mi\u001b[0m \u001b[0;34m-\u001b[0m \u001b[0moffset\u001b[0m\u001b[0;34m\u001b[0m\u001b[0m\n",
      "\u001b[0;31mKeyboardInterrupt\u001b[0m: "
     ]
    }
   ],
   "source": [
    "Sbf1_string = \"TGCAGG\"\n",
    "\n",
    "N = 0\n",
    "for record in in_fasta:\n",
    "    if N  < 10:\n",
    "        record.seq = \"%s%s\" % (Sbf1_string, record.seq)\n",
    "\n",
    "        N += 1\n",
    "        \n",
    "        print record\n",
    "\n",
    "#    SeqIO.write(record, out_handle, \"fasta\")\n",
    "\n",
    "#out_handle.close()"
   ]
  },
  {
   "cell_type": "code",
   "execution_count": null,
   "metadata": {
    "collapsed": true
   },
   "outputs": [],
   "source": []
  },
  {
   "cell_type": "code",
   "execution_count": 15,
   "metadata": {},
   "outputs": [
    {
     "name": "stdout",
     "output_type": "stream",
     "text": [
      "ID: HISEQ:106:C5J9DACXX:3:1312:1365:65033\n",
      "Name: HISEQ:106:C5J9DACXX:3:1312:1365:65033\n",
      "Description: HISEQ:106:C5J9DACXX:3:1312:1365:65033\n",
      "Number of features: 0\n",
      "'TGCAGGAAAGGTAAAATTACCTCGCAGCTTAGCAAGTCCCACACTACCCAAGGCAGATTGACAAGCCGGGAGAGGGAGACACGAGGAAAGAAC'\n"
     ]
    }
   ],
   "source": [
    "Sbf1_string = \"TGCAGG\"\n",
    "record.seq = \"%s%s\" % (Sbf1_string, record.seq)\n",
    "\n",
    "print record"
   ]
  }
 ],
 "metadata": {
  "kernelspec": {
   "display_name": "Python 2",
   "language": "python",
   "name": "python2"
  },
  "language_info": {
   "codemirror_mode": {
    "name": "ipython",
    "version": 2
   },
   "file_extension": ".py",
   "mimetype": "text/x-python",
   "name": "python",
   "nbconvert_exporter": "python",
   "pygments_lexer": "ipython2",
   "version": "2.7.14"
  }
 },
 "nbformat": 4,
 "nbformat_minor": 2
}
