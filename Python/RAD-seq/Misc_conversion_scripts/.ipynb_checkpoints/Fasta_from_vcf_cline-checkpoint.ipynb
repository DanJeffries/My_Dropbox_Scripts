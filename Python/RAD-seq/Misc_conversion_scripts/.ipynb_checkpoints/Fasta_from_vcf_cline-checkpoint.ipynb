{
 "cells": [
  {
   "cell_type": "code",
   "execution_count": 29,
   "metadata": {
    "collapsed": false
   },
   "outputs": [],
   "source": [
    "def VCF_to_FASTA(vcf_path, cat_path):\n",
    "    \"\"\"\n",
    "    USAGE: python VCF_to_FASTA.py <full/vcf/path> <full/catalog/path>\n",
    "    \n",
    "    \"\"\"\n",
    "    \n",
    "    import gzip\n",
    "    \n",
    "    outpath = vcf_path.rpartition(\".\")[0]\n",
    "\n",
    "    myvcf = open(vcf_path, 'r')\n",
    "\n",
    "    if cat_path.endswith(\"gz\"):\n",
    "        my_catalog = gzip.open(cat_path, 'r')\n",
    "    else:\n",
    "        my_catalog = open(cat_path, 'r')\n",
    "\n",
    "    fasta_out = open(\"%s.fa\" % outpath, 'w')\n",
    "\n",
    "    to_keep = []\n",
    "\n",
    "    for i in myvcf.readlines():\n",
    "        if not i.startswith(\"#\"):\n",
    "            to_keep.append(i.split()[2])\n",
    "\n",
    "    for line in my_catalog.readlines():\n",
    "        if not line.startswith(\"#\"):\n",
    "            if line.split()[2] in to_keep:\n",
    "                fasta_out.write(\">%s\\n%s\\n\" % (line.split()[2], line.split()[8]))\n",
    "\n",
    "    fasta_out.close()\n",
    "    "
   ]
  },
  {
   "cell_type": "code",
   "execution_count": null,
   "metadata": {
    "collapsed": true
   },
   "outputs": [],
   "source": [
    "import sys\n",
    "\n",
    "if len(sys.argv < 3):\n",
    "    sys.exit(\"Not enough arguments\\n%s\" % VCF_to_FASTA.__doc__)\n",
    "else:\n",
    "    vcf_path = sys.argv[1]\n",
    "    cat_path = sys.argv[2]"
   ]
  },
  {
   "cell_type": "code",
   "execution_count": null,
   "metadata": {
    "collapsed": true
   },
   "outputs": [],
   "source": []
  },
  {
   "cell_type": "code",
   "execution_count": null,
   "metadata": {
    "collapsed": true
   },
   "outputs": [],
   "source": []
  }
 ],
 "metadata": {
  "anaconda-cloud": {},
  "kernelspec": {
   "display_name": "Python [conda root]",
   "language": "python",
   "name": "conda-root-py"
  },
  "language_info": {
   "codemirror_mode": {
    "name": "ipython",
    "version": 2
   },
   "file_extension": ".py",
   "mimetype": "text/x-python",
   "name": "python",
   "nbconvert_exporter": "python",
   "pygments_lexer": "ipython2",
   "version": "2.7.12"
  }
 },
 "nbformat": 4,
 "nbformat_minor": 1
}
