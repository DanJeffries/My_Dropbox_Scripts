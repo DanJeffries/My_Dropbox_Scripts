{
 "cells": [
  {
   "cell_type": "code",
   "execution_count": 6,
   "metadata": {
    "collapsed": true
   },
   "outputs": [],
   "source": [
    "import vcf"
   ]
  },
  {
   "cell_type": "code",
   "execution_count": 11,
   "metadata": {
    "collapsed": false
   },
   "outputs": [],
   "source": [
    "vcf_path = \"/home/djeffrie/Data/RADseq/R_temp_fams/Populations_all_kept//batch_1.vcf\"\n",
    "popmap = open(\"/home/djeffrie/Data/RADseq/R_temp_fams/Populations_all_kept/popmap_all.txt\", 'r').readlines()\n",
    "\n",
    "alteredvcfpath = \"%s%s\" % (vcf_path, \".altered\")\n",
    "\n",
    "oldvcf = open(vcf_path, 'r').readlines()\n",
    "alteredvcf = open(alteredvcfpath, 'w')        \n",
    "\n",
    "for line in oldvcf:\n",
    "    \n",
    "    if \"Allele Depth\" not in line:            \n",
    "        alteredvcf.write(line)\n",
    "    elif \"Allele Depth\" in line:            \n",
    "        line = '##FORMAT=<ID=AD,Number=.,Type=Integer,Description=\"Allele Depth\">\\n'\n",
    "        alteredvcf.write(line)\n",
    "        \n",
    "alteredvcf.close()    \n",
    "altered_vcf = open(alteredvcfpath, 'r')    \n",
    "myvcf = vcf.Reader(altered_vcf)\n"
   ]
  },
  {
   "cell_type": "code",
   "execution_count": 12,
   "metadata": {
    "collapsed": false
   },
   "outputs": [],
   "source": [
    "altered_vcf = open(alteredvcfpath, 'r')    \n",
    "myvcf = vcf.Reader(altered_vcf)\n",
    "\n",
    "per_sample_dict = {}\n",
    "\n",
    "loc_order_list = []\n",
    "sample_order_list = []\n",
    "\n",
    "\n",
    "for record in myvcf:\n",
    "    #print record\n",
    "    loc_id = \"%s_%s\" % (record.ID, record.POS)\n",
    "    \n",
    "    loc_order_list.append(loc_id)\n",
    "    \n",
    "    for sample in record:\n",
    "        if sample.sample not in per_sample_dict:\n",
    "            per_sample_dict[sample.sample] = {}\n",
    "            sample_order_list.append(sample.sample)\n",
    "        \n",
    "        if sample['GT'] == None:\n",
    "            new_gt = \"0 0\"\n",
    "        elif sample['GT'] == \"0/0\":\n",
    "            new_gt = \"1 1\"\n",
    "        elif sample['GT'] == \"0/1\":\n",
    "            new_gt = \"1 2\"\n",
    "        elif sample['GT'] == \"1/0\":\n",
    "            new_gt = \"2 1\"\n",
    "        elif sample['GT'] == \"1/1\":\n",
    "            new_gt = \"2 2\"\n",
    "        \n",
    "        per_sample_dict[sample.sample][loc_id] = new_gt\n",
    "            \n",
    "sample_loc_lists = {}     \n",
    "sample_lines = {}\n",
    "\n",
    "for sample in sample_order_list:\n",
    "    sample_loc_lists[sample] = []\n",
    "    \n",
    "    \n",
    "    for loc in loc_order_list:\n",
    "        sample_loc_lists[sample].append(per_sample_dict[sample][loc])\n",
    "\n",
    "    sample_lines[sample] = \"\\t\".join(sample_loc_lists[sample])"
   ]
  },
  {
   "cell_type": "code",
   "execution_count": 13,
   "metadata": {
    "collapsed": false
   },
   "outputs": [
    {
     "name": "stdout",
     "output_type": "stream",
     "text": [
      "['ST01_F_all', 'ST01_M01', 'ST01_M02', 'ST01_M03', 'ST01_M04', 'ST01_M05', 'ST01_M06', 'ST01_M07', 'ST01_M08', 'ST01_M09', 'ST01_M10', 'ST01_M11', 'ST01_M12', 'ST01_M14', 'ST01_M15', 'ST01_M16', 'ST01_M17', 'ST01_M18', 'ST01_M19', 'ST01_M24', 'ST01_M25', 'ST01_M26', 'ST01_M31', 'ST01_M32', 'ST01_M33', 'ST01_M34', 'ST01_M35', 'ST01_M36', 'ST01_M37', 'ST01_M38', 'ST01_M39', 'ST01_M40', 'ST01_M_all', 'ST01_S01', 'ST01_S04', 'ST01_S05', 'ST01_S06', 'ST01_S07', 'ST01_S08', 'ST01_S09', 'ST01_S10', 'ST01_S11', 'ST16_F_all', 'ST16_M01', 'ST16_M02', 'ST16_M03', 'ST16_M04', 'ST16_M05', 'ST16_M06', 'ST16_M07', 'ST16_M08', 'ST16_M09', 'ST16_M10', 'ST16_M11', 'ST16_M12', 'ST16_M13', 'ST16_M14', 'ST16_M15', 'ST16_M17', 'ST16_M18', 'ST16_M19', 'ST16_M20', 'ST16_M21', 'ST16_M22', 'ST16_M23', 'ST16_M24', 'ST16_M25', 'ST16_M26', 'ST16_M27', 'ST16_M28', 'ST16_M29', 'ST16_M30', 'ST16_M31', 'ST16_M32', 'ST16_M33', 'ST16_M34', 'ST16_M35', 'ST16_M36', 'ST16_M37', 'ST16_M38', 'ST16_M39', 'ST16_M40', 'ST16_M_all', 'ST16_S1', 'ST16_S3', 'ST16_S4', 'ST16_S5', 'ST16_S6', 'ST16_S7', 'ST18_M01', 'ST18_M02', 'ST18_M03', 'ST18_M04', 'ST18_M05', 'ST18_M06', 'ST18_M07', 'ST18_M08', 'ST18_M09', 'ST18_M10', 'ST18_M11', 'ST18_M12', 'ST18_M13', 'ST18_M14', 'ST18_M15', 'ST18_M16', 'ST18_M17', 'ST18_M18', 'ST18_M19', 'ST18_M20', 'ST18_M21', 'ST18_M22', 'ST18_M23', 'ST18_M24', 'ST18_M25', 'ST18_M26', 'ST18_M27', 'ST18_M28', 'ST18_M29', 'ST18_M30', 'ST18_M31', 'ST18_M32', 'ST18_M33', 'ST18_M34', 'ST18_M35', 'ST18_M36', 'ST18_M37', 'ST18_M38', 'ST18_M39', 'ST18_M40', 'ST18_F_all', 'ST18_M_all', 'ST18_S01', 'ST18_S02', 'ST18_S03', 'ST18_S04', 'ST18_S05', 'ST18_S06', 'ST18_S07', 'ST18_S08', 'ST18_S09', 'ST18_S10', 'ST18_S11', 'ST18_S12', 'ST18_S13', 'ST18_S14', 'ST18_S15', 'ST43_F_all', 'ST43_M01', 'ST43_M02', 'ST43_M03', 'ST43_M04', 'ST43_M05', 'ST43_M06', 'ST43_M07', 'ST43_M08', 'ST43_M09', 'ST43_M10', 'ST43_M11', 'ST43_M12', 'ST43_M13', 'ST43_M14', 'ST43_M15', 'ST43_M16', 'ST43_M17', 'ST43_M18', 'ST43_M19', 'ST43_M20', 'ST43_M21', 'ST43_M22', 'ST43_M23', 'ST43_M24', 'ST43_M25', 'ST43_M26', 'ST43_M27', 'ST43_M28', 'ST43_M29', 'ST43_M30', 'ST43_M31', 'ST43_M32', 'ST43_M33', 'ST43_M34', 'ST43_M35', 'ST43_M36', 'ST43_M37', 'ST43_M38', 'ST43_M39', 'ST43_M40', 'ST43_M_all', 'ST43_S01', 'ST43_S02', 'ST43_S03', 'ST43_S04', 'ST43_S05', 'ST43_S06', 'ST43_S07', 'ST43_S08', 'ST43_S11', 'ST43_S12', 'ST43_S13', 'ST43_S14', 'ST43_S15', 'ST43_S16', 'ST43_S18', 'ST43_S19', 'ST43_S20', 'ST43_S21', 'ST43_S22', 'ST45_F_all', 'ST45_M01', 'ST45_M02', 'ST45_M04', 'ST45_M05', 'ST45_M06', 'ST45_M07', 'ST45_M08', 'ST45_M09', 'ST45_M10', 'ST45_M11', 'ST45_M12', 'ST45_M13', 'ST45_M14', 'ST45_M15', 'ST45_M16', 'ST45_M17', 'ST45_M18', 'ST45_M19', 'ST45_M20', 'ST45_M21', 'ST45_M22', 'ST45_M23', 'ST45_M24', 'ST45_M25', 'ST45_M26', 'ST45_M27', 'ST45_M28', 'ST45_M29', 'ST45_M30', 'ST45_M31', 'ST45_M32', 'ST45_M33', 'ST45_M34', 'ST45_M35', 'ST45_M36', 'ST45_M37', 'ST45_M38', 'ST45_M39', 'ST45_M40', 'ST45_M_all', 'ST45_S01', 'ST45_S02', 'ST45_S03', 'ST45_S07', 'ST45_S08', 'ST45_S09', 'ST45_S10', 'ST45_S11', 'ST45_S12', 'ST45_S13', 'ST45_S14', 'ST45_S15', 'ST45_S16', 'A01', 'A03', 'A12', 'A13', 'A15', 'A18', 'A22', 'A23', 'A24', 'A25', 'A26', 'A35', 'A36', 'A42', 'A46', 'A47', 'A48', 'A49', 'A50', 'A53', 'A54', 'A55', 'A59', 'A62', 'A67', 'A71', 'A74', 'A83', 'A84', 'A85', 'A86', 'F_all', 'M01', 'M02', 'M03', 'M04', 'M05', 'M06', 'M07', 'M08', 'M09', 'M10', 'M11', 'M12', 'M13', 'M14', 'M15', 'M16', 'M17', 'M18', 'M19', 'M20', 'M21', 'M22', 'M23', 'M24', 'M25', 'M26', 'M27', 'M28', 'M29', 'M30', 'M31', 'M32', 'M34', 'M35', 'M36', 'M37', 'M38', 'M39', 'M40', 'M_all', 'S02', 'S03', 'S04', 'S05', 'S06', 'S07', 'S08']\n"
     ]
    }
   ],
   "source": [
    "samples = []\n",
    "\n",
    "for line in popmap:\n",
    "    samples.append(line.split()[0])\n",
    "print samples"
   ]
  },
  {
   "cell_type": "code",
   "execution_count": 14,
   "metadata": {
    "collapsed": false
   },
   "outputs": [],
   "source": [
    "outfile = open(\"/home/djeffrie/Data/RADseq/R_temp_fams/Populations_all_kept/Rtemp_allfams_kept_Lepmap.dat\", 'w')\n",
    "\n",
    "for sample in samples:\n",
    "    outfile.write(\"%s\\t%s\\n\" % (sample, sample_lines[sample]))\n",
    "                  \n",
    "outfile.close()\n"
   ]
  }
 ],
 "metadata": {
  "kernelspec": {
   "display_name": "Python 2",
   "language": "python",
   "name": "python2"
  },
  "language_info": {
   "codemirror_mode": {
    "name": "ipython",
    "version": 2
   },
   "file_extension": ".py",
   "mimetype": "text/x-python",
   "name": "python",
   "nbconvert_exporter": "python",
   "pygments_lexer": "ipython2",
   "version": "2.7.10"
  }
 },
 "nbformat": 4,
 "nbformat_minor": 0
}
