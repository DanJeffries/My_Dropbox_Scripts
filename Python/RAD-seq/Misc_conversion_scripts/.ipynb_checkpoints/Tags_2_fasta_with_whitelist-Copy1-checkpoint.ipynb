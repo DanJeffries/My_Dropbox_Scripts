{
 "cells": [
  {
   "cell_type": "code",
   "execution_count": 2,
   "metadata": {
    "collapsed": true
   },
   "outputs": [],
   "source": [
    "import gzip"
   ]
  },
  {
   "cell_type": "code",
   "execution_count": 20,
   "metadata": {
    "collapsed": true
   },
   "outputs": [],
   "source": [
    "whitey= \"/home/djeffrie/Data/Ribe_LM/Male_LG3_markers.txt\"\n",
    "cat = \"/home/djeffrie/Data/Ribe_LM/batch_1.catalog.tags.tsv.gz\""
   ]
  },
  {
   "cell_type": "code",
   "execution_count": 21,
   "metadata": {
    "collapsed": false
   },
   "outputs": [],
   "source": [
    "## Read in files\n",
    "\n",
    "loci = open(whitey, 'r').readlines()\n",
    "\n",
    "if cat.endswith(\"gz\"):\n",
    "    tags = gzip.open(cat, 'r').readlines()\n",
    "else:\n",
    "    tags = open(cat, 'r').readlines()\n",
    "\n",
    "## Pull out the locus ID's from the whitelist\n",
    "    \n",
    "Loc_IDs = []\n",
    "for locus in loci:\n",
    "    if locus.startswith(\"compli\"):\n",
    "        Loc_id = locus.split(\"_\")[1]\n",
    "    else:\n",
    "        Loc_id = locus.split(\"_\")[0]\n",
    "    Loc_IDs.append(Loc_id)\n",
    "print Loc_IDs\n",
    "print \"Number of tags in whitelist:\",len(Loc_IDs)\n",
    "\n",
    "## Write the fasta\n",
    "\n",
    "fasta = open(cat.rpartition('/')[0]+'/Whitelist_tags.fa', 'w')\n",
    "\n",
    "count = 0\n",
    "for line in tags:\n",
    "    if 'consensus' in line:\n",
    "        Tag_ID = line.split()[2]\n",
    "        if Tag_ID in Loc_IDs:\n",
    "            count+=1\n",
    "            fasta.write('>'+ Tag_ID +'\\n'+line.split()[8]+'\\n')\n",
    "print \"Number of tags in fasta:\", count        \n",
    "\n",
    "fasta.close()"
   ]
  }
 ],
 "metadata": {
  "kernelspec": {
   "display_name": "Python 2",
   "language": "python",
   "name": "python2"
  },
  "language_info": {
   "codemirror_mode": {
    "name": "ipython",
    "version": 2
   },
   "file_extension": ".py",
   "mimetype": "text/x-python",
   "name": "python",
   "nbconvert_exporter": "python",
   "pygments_lexer": "ipython2",
   "version": "2.7.10"
  }
 },
 "nbformat": 4,
 "nbformat_minor": 0
}
