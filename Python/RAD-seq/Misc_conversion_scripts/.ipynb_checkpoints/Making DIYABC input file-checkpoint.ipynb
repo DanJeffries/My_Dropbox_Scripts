{
 "cells": [
  {
   "cell_type": "code",
   "execution_count": 18,
   "metadata": {
    "collapsed": false
   },
   "outputs": [],
   "source": [
    "## First shuffled vcf, then took only 100 loci\n",
    "## First connvert from vcf to plink.raw with plink using the --recode A option. \n",
    "\n",
    "## then chop the header and the first\n",
    "\n",
    "#pops = open(\"/media/dan/34D5D1CE642D7E36/2013076_Hanfling_Bernd/Stacks/Stacks_analyses_TRIMMED/Pure_cru_M_2/pop\", 'r').readlines()\n",
    "#first_2_cols = open(\"/media/dan/34D5D1CE642D7E36/2013076_Hanfling_Bernd/Stacks/Stacks_analyses_TRIMMED/Pure_cru_M_2/populations_r07_p17_Ho_filetered_NEU_only/2cols.txt\", 'w')\n",
    "\n",
    "#for line in pops:\n",
    "#     first_2_cols.write(line.strip().split()[0].split(\"_\")[0]+\"\\t\"+str(9)+\"\\n\")\n",
    "\n",
    "#first_2_cols.close()\n",
    "\n",
    "\n",
    "\n",
    "\n",
    "\n",
    "data = open(\"/home/dan/Dropbox/PhD/Dan's PhD (Shared)/Data/RAD/DIYABC/broad_scale_analysis/DIYABC_broad_1000_rndm.dat\", 'r')\n",
    "\n",
    "nf = open(\"/home/dan/Dropbox/PhD/Dan's PhD (Shared)/Data/RAD/DIYABC/broad_scale_analysis/DIYABC_formatted.dat\", 'w')\n",
    "\n",
    "nf.write(\"IND\\tSEX\\tPOP\\t\"+\"A \"*1000+\"\\n\")\n",
    "for line in data.readlines():\n",
    "        nf.write(line)\n",
    "nf.close()\n",
    "data.close()"
   ]
  }
 ],
 "metadata": {
  "kernelspec": {
   "display_name": "Python 2",
   "language": "python",
   "name": "python2"
  },
  "language_info": {
   "codemirror_mode": {
    "name": "ipython",
    "version": 2
   },
   "file_extension": ".py",
   "mimetype": "text/x-python",
   "name": "python",
   "nbconvert_exporter": "python",
   "pygments_lexer": "ipython2",
   "version": "2.7.11"
  }
 },
 "nbformat": 4,
 "nbformat_minor": 0
}
