{
 "cells": [
  {
   "cell_type": "markdown",
   "metadata": {},
   "source": [
    "### Converting VCF to Newhybrids format..\n"
   ]
  },
  {
   "cell_type": "markdown",
   "metadata": {},
   "source": [
    "###Step to filter Diagnostic loci from VCF first if available"
   ]
  },
  {
   "cell_type": "code",
   "execution_count": 1,
   "metadata": {
    "collapsed": false
   },
   "outputs": [],
   "source": [
    "wd = \"/media/dan/34D5D1CE642D7E36/2013076_Hanfling_Bernd/Stacks/Stacks_analyses_TRIMMED/With_reference/Data_links/pstacks_all/NewHybrids_populations/Cru_gib/Cru_gib_pop_codes_noEP01_newnames.txt_dir/\"\n",
    "\n",
    "Diag_whitelist = open(wd+\"/Diagnostic_snps.txt\", 'r').readlines()[1:] ## this is in an annoying R format so needs some formatting\n",
    "Diag_whitelist = [i.split()[1].split(\"\\\"\")[1].split(\"_\")[0] for i in Diag_whitelist]\n",
    "\n",
    "#print Diag_whitelist[:10]\n",
    "\n",
    "VCF = open(wd+\"/Ho_filtered_altered.vcf\", 'r').readlines()\n",
    "Diagnostic_VCF = open(wd+\"/Diagnostic_VCF.vcf\", 'w')\n",
    "for line in VCF:\n",
    "    if line.startswith(\"#\"):\n",
    "        Diagnostic_VCF.write(line)\n",
    "    elif line.split()[2] in Diag_whitelist:\n",
    "        Diagnostic_VCF.write(line)\n",
    "Diagnostic_VCF.close()\n"
   ]
  },
  {
   "cell_type": "code",
   "execution_count": 2,
   "metadata": {
    "collapsed": false
   },
   "outputs": [],
   "source": [
    "nf = open(wd+\"/NewHybs.temp\", 'w')\n",
    "\n",
    "\n",
    "## Convert Data to 1s and 2s ... and write to a separate file ###\n",
    "\n",
    "## made file in bash from vcf by just cutting first couple of columns and getting rid of header lines ...\n",
    "for line in open(wd+\"/Diagnostic_VCF.vcf\", 'r').readlines():\n",
    "    if not line.startswith('#'):\n",
    "        for sample in line.split():\n",
    "            if sample.split(':')[0] == '1/1':\n",
    "                nf.write('22\\t')\n",
    "            elif sample.split(':')[0] == '0/0':\n",
    "                nf.write('11\\t')\n",
    "            elif sample.split(':')[0] == '0/1':\n",
    "                nf.write('12\\t')\n",
    "            elif sample.split(':')[0] == '1/0':\n",
    "                nf.write('21\\t')\n",
    "            elif sample.split(':')[0] == './.':\n",
    "                nf.write('0\\t')\n",
    "        nf.write('\\n')\n",
    "    \n",
    "nf.close()\n",
    "\n",
    "\n",
    "\n"
   ]
  },
  {
   "cell_type": "markdown",
   "metadata": {},
   "source": [
    "### ### Now transpose that file, and write it with headers to final file"
   ]
  },
  {
   "cell_type": "code",
   "execution_count": 3,
   "metadata": {
    "collapsed": false
   },
   "outputs": [
    {
     "name": "stdout",
     "output_type": "stream",
     "text": [
      "Number of samples = 206\n",
      "Number of loci = 238\n",
      "Done\n"
     ]
    }
   ],
   "source": [
    "\n",
    "    \n",
    "nf_Td = open(wd+\"/NewHybs_DIAGNOSTIC_Final.dat\", 'w')\n",
    "\n",
    "### Get file header info ####\n",
    "\n",
    "Number_of_samples = len(open(wd+\"/NewHybs.temp\", 'r').readlines()[0].split())\n",
    "Number_of_loci = (len(open(wd+\"/NewHybs.temp\", 'r').readlines())-1)\n",
    "\n",
    "Loc_names = []\n",
    "for line in open(wd+\"/Diagnostic_VCF.vcf\", 'r').readlines():\n",
    "    if '#' not in line:\n",
    "        Loc_names.append(line.split()[2])\n",
    "\n",
    "print 'Number of samples = '+str(Number_of_samples)\n",
    "print 'Number of loci = '+str(Number_of_loci+1)\n",
    "\n",
    "#### write file header ####\n",
    "\n",
    "nf_Td.write(\"NumIndivs \"+str(Number_of_samples)+\"\\nNumLoci \"+str(Number_of_loci+1)+\"\\nDigits 1\\nFormat Lumped\\nLocusNames\\t\")\n",
    "nf_Td.writelines(\"%s\\t\" % name for name in Loc_names)\n",
    "nf_Td.write(\"\\n\")\n",
    "            \n",
    "            \n",
    "#### Transpose #####\n",
    "\n",
    "with open(wd+\"/NewHybs.temp\", 'rb') as the_file:\n",
    "    lis = [x.split() for x in the_file]\n",
    "    for x in zip(*lis[0:]): # (The \"*\" in this tells zip to take the elements in the \"lis\" argument, not the thing \"lis\" itself)\n",
    "        for y in x:\n",
    "            nf_Td.write(y+'\\t')\n",
    "        nf_Td.write('\\n')\n",
    "## This transposing bit is very useful! Need to become more comfortable with this...\n",
    "\n",
    "nf_Td.close()\n",
    "\n",
    "\n",
    "print \"Done\"\n"
   ]
  },
  {
   "cell_type": "code",
   "execution_count": null,
   "metadata": {
    "collapsed": true
   },
   "outputs": [],
   "source": []
  }
 ],
 "metadata": {
  "kernelspec": {
   "display_name": "Python 2",
   "language": "python",
   "name": "python2"
  },
  "language_info": {
   "codemirror_mode": {
    "name": "ipython",
    "version": 2
   },
   "file_extension": ".py",
   "mimetype": "text/x-python",
   "name": "python",
   "nbconvert_exporter": "python",
   "pygments_lexer": "ipython2",
   "version": "2.7.6"
  }
 },
 "nbformat": 4,
 "nbformat_minor": 0
}
