{
 "cells": [
  {
   "cell_type": "code",
   "execution_count": 139,
   "metadata": {
    "collapsed": false
   },
   "outputs": [
    {
     "data": {
      "text/plain": [
       "1e-20"
      ]
     },
     "execution_count": 139,
     "metadata": {},
     "output_type": "execute_result"
    }
   ],
   "source": [
    "float(\"1e-20\")"
   ]
  },
  {
   "cell_type": "code",
   "execution_count": 176,
   "metadata": {
    "collapsed": false
   },
   "outputs": [],
   "source": [
    "import sys\n",
    "from Bio.Blast import NCBIXML\n",
    "from Bio import SeqIO\n",
    "  \n",
    "\n",
    "def BlastParseExtra(infile, genome_fa, best_hit_criteria, Eval_thresh, window_size):\n",
    "    \"\"\"\n",
    "    \n",
    "    Usage: BlastParseExtra.py  <blast_xml_output> <genome_fasta> <best_hit_criteria> <Eval_thresh> <window_size> \n",
    "    \n",
    "    <blast_xml_output>  -  absolute path to blast xml output\n",
    "    <genome_fasta>      -  absolute path to genome fasta file\n",
    "    <best_hit_criteria> -  factor by which the best e-value must be lower than the second best (recommended: 1e-5)\n",
    "    <Eval_thresh>       -  e-value threshold for unique alignments\n",
    "    <window_size>       -  size of the window (in bp) around the mapping coordinates used to extract the subject scaffold segment\n",
    "    \n",
    "    This script first filters the mappings in the <blast_xml_output> for uniq hits with evalues better than\n",
    "    <Eval_thresh> or for multi hits where the best hit is <best_hit_criteria> orders of magnitude better than \n",
    "    the second.\n",
    "    \n",
    "    It will then retrieve a segment of the scaffold from <genome_fasta> which is + and - the <window_size> around\n",
    "    the mapping coordinates for each query. If the ends of the scaffold are not within this window, then the \n",
    "    length of the segment will be (length of mapped query sequence + 2 x <window_size>). However if an end of a\n",
    "    scaffold is within this window, the segment will be trimmed to this length.\n",
    "    \n",
    "    \"\"\"\n",
    "\n",
    "\n",
    "    blast = NCBIXML.parse(open(infile,\"r\"))\n",
    "\n",
    "    good_blast_outs = {}\n",
    "    multi_counter = 0\n",
    "    unique_counter = 0\n",
    "    ## From Alan's script: Returns blast hits only when the best e-value is 5 orders of magnitude better than the second best.\n",
    "\n",
    "    for record in blast :\n",
    "        if len(record.alignments)>1:\n",
    "            if record.alignments[0].hsps[0].expect < best_hit_criteria * record.alignments[1].hsps[0].expect:\n",
    "                multi_counter += 1\n",
    "                good_blast_outs[record.query] = {}\n",
    "                good_blast_outs[record.query][\"Ref_hit_id\"] = str(record.alignments[0].hit_def)\n",
    "                good_blast_outs[record.query][\"Evalue\"] = float(record.alignments[0].hsps[0].expect)\n",
    "                good_blast_outs[record.query][\"Hit_start_coord\"] = int(record.alignments[0].hsps[0].sbjct_start)\n",
    "                good_blast_outs[record.query][\"Hit_end_coord\"] = int(record.alignments[0].hsps[0].sbjct_end)\n",
    "                print \"Multi\\t%s\\t%s\\t%s\\t%s\\t%s\" % (record.query, good_blast_outs[record.query][\"Ref_hit_id\"], good_blast_outs[record.query][\"Evalue\"], good_blast_outs[record.query][\"Hit_start_coord\"], good_blast_outs[record.query][\"Hit_end_coord\"])\n",
    "                \n",
    "        elif len(record.alignments)==1:\n",
    "            if float(record.alignments[0].hsps[0].expect) < Eval_thresh:\n",
    "                unique_counter += 1\n",
    "                good_blast_outs[record.query] = {}\n",
    "                good_blast_outs[record.query][\"Ref_hit_id\"] = str(record.alignments[0].hit_def)\n",
    "                good_blast_outs[record.query][\"Evalue\"] = float(record.alignments[0].hsps[0].expect)\n",
    "                good_blast_outs[record.query][\"Hit_start_coord\"] = int(record.alignments[0].hsps[0].sbjct_start)\n",
    "                good_blast_outs[record.query][\"Hit_end_coord\"] = int(record.alignments[0].hsps[0].sbjct_end)\n",
    "                print \"Uniq\\t%s\\t%s\\t%s\\t%s\\t%s\" % (record.query, good_blast_outs[record.query][\"Ref_hit_id\"], good_blast_outs[record.query][\"Evalue\"], good_blast_outs[record.query][\"Hit_start_coord\"], good_blast_outs[record.query][\"Hit_end_coord\"])\n",
    "    print \"Number of multi-alingments kept:\", multi_counter\n",
    "    print \"Number of unique alingments kept:\", unique_counter\n",
    "    \n",
    "    \n",
    "    Rtemp_chunks = open(\"/%s_blast_%s_chunks.fa\" % (infile.rpartition(\"/\")[0], window_size), 'w')\n",
    "    \n",
    "    print \"Getting subject scaffold segments from %s . . . \" % (genome_fa)\n",
    "    \n",
    "    segment_counter = 0\n",
    "    \n",
    "    Rtemp = SeqIO.parse(genome_fa, \"fasta\")\n",
    "    \n",
    "    for scaffold in Rtemp:\n",
    "        \n",
    "        for query in good_blast_outs:\n",
    "                \n",
    "            if scaffold.id == good_blast_outs[query][\"Ref_hit_id\"]: ## If the scaffold has a hit\n",
    "                                \n",
    "                if good_blast_outs[query][\"Hit_start_coord\"] - window_size <= 0 and good_blast_outs[query][\"Hit_end_coord\"] + window_size >= len(scaffold.seq): # if the beginning and if the end of the scaffold is within the rang of the window\n",
    "                        \n",
    "                    SeqIO.write(scaffold, Rtemp_chunks, 'fasta') ## just print whole scaffold\n",
    "                    segment_counter += 1\n",
    "                    \n",
    "                elif good_blast_outs[query][\"Hit_start_coord\"] - window_size <= 0 and good_blast_outs[query][\"Hit_end_coord\"] + window_size < len(scaffold.seq): ## or if the begninning is in range of the window but the end isn't\n",
    "                        \n",
    "                    SeqIO.write(scaffold[:good_blast_outs[query][\"Hit_end_coord\"]+ window_size], Rtemp_chunks, 'fasta') ## print from beginning to upper end of window\n",
    "                    segment_counter += 1\n",
    "                \n",
    "                elif good_blast_outs[query][\"Hit_start_coord\"] - window_size > 0 and good_blast_outs[query][\"Hit_end_coord\"] + window_size >= len(scaffold.seq): ## or the end of the scaffold is in range but the beginning isnt\n",
    "                        \n",
    "                    SeqIO.write(scaffold[good_blast_outs[query][\"Hit_start_coord\"]- window_size:], Rtemp_chunks, 'fasta') ## print from lower window limit to the end of the scaffold\n",
    "                    segment_counter += 1\n",
    "                        \n",
    "                elif good_blast_outs[query][\"Hit_end_coord\"] + window_size < len(scaffold.seq) and good_blast_outs[query][\"Hit_start_coord\"] - window_size > 0: ## or if neither end of the scaffold is in range of the window\n",
    "                    SeqIO.write(scaffold[good_blast_outs[query][\"Hit_start_coord\"]- window_size:good_blast_outs[query][\"Hit_end_coord\"] + window_size], Rtemp_chunks, 'fasta') ## print from lower window limit to the end of the scaffold\n",
    "                    segment_counter += 1\n",
    "                \n",
    "    Rtemp_chunks.close()\n",
    "    \n",
    "    print \"%s sequence scaffold segments are in /%s_blast_%s_chunks.fa\" % (segment_counter, infile.rpartition(\"/\")[0], window_size)"
   ]
  },
  {
   "cell_type": "code",
   "execution_count": null,
   "metadata": {
    "collapsed": true
   },
   "outputs": [],
   "source": [
    "## Cline args\n",
    "\n",
    "if len(sys.argv) == 1:\n",
    "    \n",
    "    print BlastParseExtra.__doc__\n",
    "    \n",
    "elif len(sys.argv) < 6: ## If not enough args are supplied print error message\n",
    "    sys.exit(\"\\n##Error, not enough arguments, run script with no arguments to see help message\\n\")\n",
    "\n",
    "elif len(sys.argv) == 6:\n",
    "    in_path = sys.argv[1]\n",
    "    gen_fa = sys.argv[2]\n",
    "    multi_criteria = float(sys.argv[3])\n",
    "    Eval = float(sys.argv[4])\n",
    "    window = int(sys.argv[5])\n",
    "\n",
    "    BlastParseExtra(in_path, gen_fa, multi_criteria, Eval, window) ## RUN!"
   ]
  },
  {
   "cell_type": "markdown",
   "metadata": {},
   "source": [
    "### args for use without cline\n",
    "in_path = \"/home/djeffrie/Data/Ribe_LM/Male_LG3_Rtemp_blasthits.xml\"\n",
    "gen_fa = \"/home/djeffrie/Data/Genomes/Rtemp/Rtemp_new.fa\"\n",
    "multi_criteria = 1e-5\n",
    "Eval = 1e-20\n",
    "window = 1000\n",
    "\n",
    "BlastParseExtra(in_path, gen_fa, multi_criteria, Eval, window)"
   ]
  }
 ],
 "metadata": {
  "kernelspec": {
   "display_name": "Python 2",
   "language": "python",
   "name": "python2"
  },
  "language_info": {
   "codemirror_mode": {
    "name": "ipython",
    "version": 2
   },
   "file_extension": ".py",
   "mimetype": "text/x-python",
   "name": "python",
   "nbconvert_exporter": "python",
   "pygments_lexer": "ipython2",
   "version": "2.7.10"
  }
 },
 "nbformat": 4,
 "nbformat_minor": 0
}
