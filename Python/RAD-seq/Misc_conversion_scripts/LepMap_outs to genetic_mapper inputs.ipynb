{
 "cells": [
  {
   "cell_type": "code",
   "execution_count": 2,
   "metadata": {},
   "outputs": [
    {
     "data": {
      "text/plain": [
       "['/home/djeffrie/anaconda3/envs/py27/lib/python2.7/site-packages/ipykernel_launcher.py',\n",
       " '-f',\n",
       " '/run/user/1000/jupyter/kernel-1281ebad-1488-46f9-8230-52269d1b7366.json']"
      ]
     },
     "execution_count": 2,
     "metadata": {},
     "output_type": "execute_result"
    }
   ],
   "source": [
    "import sys"
   ]
  },
  {
   "cell_type": "code",
   "execution_count": 4,
   "metadata": {},
   "outputs": [],
   "source": [
    "import sys\n",
    "\n",
    "def Genetic_mapper_in_maka(LepMap_outs_path):\n",
    "    \n",
    "    \"\"\"\n",
    "    Genetic_mapper_in_maka   < full/path/to/Lepmap_file >\n",
    "    \n",
    "    Makes two input files for genetic_mapper.pl, one for the male and one for the female map\n",
    "    \n",
    "    \"\"\"\n",
    "    \n",
    "\n",
    "    LEPmap_outs = open(LepMap_outs_path, 'r').readlines()\n",
    "    \n",
    "    male_out_path = \"%s_MALE_genetic_mapper.dat\" % LepMap_outs_path.rpartition(\".\")[0]\n",
    "    female_out_path = \"%s_FEMALE_genetic_mapper.dat\" % LepMap_outs_path.rpartition(\".\")[0]\n",
    "\n",
    "    male_genetic_mapper_input = open(male_out_path, 'w')\n",
    "    male_genetic_mapper_input.write(\"ID\\tLG\\tPOS\\tLOD\\n\")\n",
    "    female_genetic_mapper_input = open(female_out_path, 'w')\n",
    "    female_genetic_mapper_input.write(\"ID\\tLG\\tPOS\\tLOD\\n\")\n",
    "\n",
    "    for line in LEPmap_outs:\n",
    "        if line.startswith(\"#***\"):\n",
    "            LG = line.split()[3]\n",
    "            #print LG\n",
    "        elif not line.startswith(\"#\") and \"duplicate\" not in line:\n",
    "            marker_ID = line.split()[0]\n",
    "            male_pos = line.split()[1]\n",
    "            female_pos = line.split()[2]\n",
    "\n",
    "            male_genetic_mapper_input.write(\"%s\\t%s\\t%s\\n\" % (marker_ID,LG,male_pos))\n",
    "            female_genetic_mapper_input.write(\"%s\\t%s\\t%s\\n\" % (marker_ID,LG,female_pos))\n",
    "\n",
    "    male_genetic_mapper_input.close()\n",
    "    female_genetic_mapper_input.close()\n",
    "\n"
   ]
  },
  {
   "cell_type": "code",
   "execution_count": null,
   "metadata": {
    "collapsed": true
   },
   "outputs": [],
   "source": [
    "\n",
    "if len(sys.argv) != 2:\n",
    "    sys.exit(Genetic_mapper_in_maka.__doc__)\n",
    "    \n",
    "else:\n",
    "    Genetic_mapper_in_maka(sys.argv[1])"
   ]
  }
 ],
 "metadata": {
  "kernelspec": {
   "display_name": "Python 2",
   "language": "python",
   "name": "python2"
  },
  "language_info": {
   "codemirror_mode": {
    "name": "ipython",
    "version": 2
   },
   "file_extension": ".py",
   "mimetype": "text/x-python",
   "name": "python",
   "nbconvert_exporter": "python",
   "pygments_lexer": "ipython2",
   "version": "2.7.14"
  }
 },
 "nbformat": 4,
 "nbformat_minor": 1
}
