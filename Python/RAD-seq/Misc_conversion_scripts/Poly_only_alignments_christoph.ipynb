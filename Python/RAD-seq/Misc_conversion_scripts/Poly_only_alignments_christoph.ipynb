{
 "cells": [
  {
   "cell_type": "code",
   "execution_count": 22,
   "metadata": {},
   "outputs": [],
   "source": [
    "from Bio import AlignIO\n",
    "from Bio import SeqIO"
   ]
  },
  {
   "cell_type": "code",
   "execution_count": 28,
   "metadata": {},
   "outputs": [],
   "source": [
    "alignment = AlignIO.read(\"/home/djeffrie/Downloads/Pelobates_n32_p32.fa\", format=\"fasta\")"
   ]
  },
  {
   "cell_type": "code",
   "execution_count": 29,
   "metadata": {},
   "outputs": [],
   "source": [
    "pos_dict = {}\n",
    "for seq in alignment:\n",
    "    for i in range(len(seq)):\n",
    "        \n",
    "        if i not in pos_dict:\n",
    "            pos_dict[i] = []\n",
    "        \n",
    "        if seq[i] not in pos_dict[i]:\n",
    "            pos_dict[i].append(seq[i])\n",
    "        "
   ]
  },
  {
   "cell_type": "code",
   "execution_count": 30,
   "metadata": {},
   "outputs": [],
   "source": [
    "var_pos = []\n",
    "for pos in pos_dict:\n",
    "    if len(pos_dict[pos]) > 1:\n",
    "        var_pos.append(pos)"
   ]
  },
  {
   "cell_type": "code",
   "execution_count": 31,
   "metadata": {},
   "outputs": [],
   "source": [
    "alignment = AlignIO.read(\"/home/djeffrie/Downloads/Pelobates_n32_p32.fa\", format=\"fasta\")\n",
    "var_align = open(\"/home/djeffrie/Downloads/Pelobates_n32_p32_var_only.fa\", 'w')\n",
    "\n",
    "for seq in alignment:\n",
    "    newseq = []\n",
    "    \n",
    "    for pos in var_pos:\n",
    "        newseq.append(seq.seq[pos])\n",
    "    \n",
    "    newseq_join = \"\".join(newseq)\n",
    "    var_align.write(\">%s\\n%s\\n\" % (seq.id, newseq_join))\n",
    "var_align.close()"
   ]
  },
  {
   "cell_type": "code",
   "execution_count": 43,
   "metadata": {},
   "outputs": [],
   "source": []
  }
 ],
 "metadata": {
  "kernelspec": {
   "display_name": "Python 2",
   "language": "python",
   "name": "python2"
  },
  "language_info": {
   "codemirror_mode": {
    "name": "ipython",
    "version": 2
   },
   "file_extension": ".py",
   "mimetype": "text/x-python",
   "name": "python",
   "nbconvert_exporter": "python",
   "pygments_lexer": "ipython2",
   "version": "2.7.14"
  }
 },
 "nbformat": 4,
 "nbformat_minor": 2
}
