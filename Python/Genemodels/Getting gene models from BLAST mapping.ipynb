{
 "metadata": {
  "name": "",
  "signature": "sha256:819d748f9b979bf56cf78ba88ec0a905250f8c8a1c9beeb8ef83b8ea933e8e98"
 },
 "nbformat": 3,
 "nbformat_minor": 0,
 "worksheets": [
  {
   "cells": [
    {
     "cell_type": "code",
     "collapsed": false,
     "input": [
      "###### Getting gene models from BLAST mapping ######\n",
      "\n",
      "gff = open(\"/media/dan/34D5D1CE642D7E36/2013076_Hanfling_Bernd/Common_carp_genome/Xu_et_al_2014_Nature_version/genemodels/V1.0.gff\").readlines()\n",
      "\n",
      "Bayenv_winner_mappings = open(\"/home/dan/RAD_programs/BAYENV/bayenv_release/non_bottlenecked/Winning_loci_BLAST_XU/Winning_Vs_XU_BLAST.out\").readlines()\n",
      "\n",
      "\n",
      "## In blast output - Column 4 contains the length of the alignment\n",
      "## my sequences are 92 bp, so I want everything that is has an alignment length of above 89 (got this from a quick histogram)\n",
      "counter = 0\n",
      "for line in Bayenv_winner_mappings:\n",
      "    if int(line.split()[3]) >= 89:\n",
      "        counter +=1\n",
      "        print counter, line.split()[3]\n",
      "        \n",
      "print \"Number of loci with alignment \\nlengths over 89 = \", counter\n",
      "\n",
      "## Get scaffold name \n"
     ],
     "language": "python",
     "metadata": {},
     "outputs": [
      {
       "output_type": "stream",
       "stream": "stdout",
       "text": [
        "1 92\n",
        "2 92\n",
        "3 90\n",
        "4 92\n",
        "5 92\n",
        "6 93\n",
        "7 91\n",
        "8 89\n",
        "9 89\n",
        "10 92\n",
        "11 89\n",
        "12 92\n",
        "13 89\n",
        "14 89\n",
        "15 90\n",
        "16 90\n",
        "17 91\n",
        "18 91\n",
        "19 93\n",
        "20 92\n",
        "21 92\n",
        "22 92\n",
        "23 92\n",
        "24 89\n",
        "25 92\n",
        "26 92\n",
        "27 89\n",
        "28 91\n",
        "29 90\n",
        "30 90\n",
        "31 95\n",
        "32 95\n",
        "33 92\n",
        "34 92\n",
        "35 92\n",
        "36 95\n",
        "37 92\n",
        "38 101\n",
        "Number of loci with alignment \n",
        "lengths over 89 =  38\n"
       ]
      }
     ],
     "prompt_number": 9
    }
   ],
   "metadata": {}
  }
 ]
}