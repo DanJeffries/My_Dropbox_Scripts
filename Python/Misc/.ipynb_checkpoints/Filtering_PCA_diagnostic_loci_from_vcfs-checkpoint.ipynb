{
 "cells": [
  {
   "cell_type": "markdown",
   "metadata": {},
   "source": [
    "### Filtering Ho_filtered vcfs for the Diagnostic SNP markers ID'd using PC loadings"
   ]
  },
  {
   "cell_type": "code",
   "execution_count": 13,
   "metadata": {
    "collapsed": false
   },
   "outputs": [],
   "source": [
    "import sys\n",
    "\n",
    "wd = sys.argv[1]\n",
    "\n",
    "whitelist = open(str(wd+\"/Diagnostic_snps.txt\", 'r').readlines()\n",
    "original_vcf = open(str(wd+\"/Ho_filtered_altered.vcf\", 'r').readlines()\n",
    "original_sumstats = open(str(wd+\"batch_1.sumstats.tsv\", 'r').readlines()\n",
    "Diagnostic_SNPS = open(str(wd+\"Diagnostic_SNPS.vcf\", 'w')\n",
    "Diagnostic_SNPS_sumstats = open(str(wd+\"Diagnostic_SNPS_sumstats.tsv\", 'w')\n",
    "\n",
    "whitelist = [i.strip() for i in whitelist]\n",
    "for line in original_vcf:\n",
    "    if line.startswith(\"#\"):\n",
    "        Diagnostic_SNPS.write(line)\n",
    "    elif line.split()[2] in whitelist:\n",
    "        Diagnostic_SNPS.write(line)\n",
    "\n",
    "sumstats_lines = [] ## for the loci that have more than one snp - put the loc ID in here and if there is more than one snp it will only keep the first - i.e. the same snp as in the vcf\n",
    "for line in original_sumstats:\n",
    "    if line.startswith(\"#\"):\n",
    "        Diagnostic_SNPS_sumstats.write(line)\n",
    "    elif line.split()[1] in whitelist and line.split()[1] not in sumstats_lines:\n",
    "        sumstats_lines.append(line.split()[1])\n",
    "        Diagnostic_SNPS_sumstats.write(line)\n",
    "        \n",
    "Diagnostic_SNPS_sumstats.close()\n",
    "Diagnostic_SNPS.close()"
   ]
  }
 ],
 "metadata": {
  "kernelspec": {
   "display_name": "Python 2",
   "language": "python",
   "name": "python2"
  },
  "language_info": {
   "codemirror_mode": {
    "name": "ipython",
    "version": 2
   },
   "file_extension": ".py",
   "mimetype": "text/x-python",
   "name": "python",
   "nbconvert_exporter": "python",
   "pygments_lexer": "ipython2",
   "version": "2.7.6"
  }
 },
 "nbformat": 4,
 "nbformat_minor": 0
}
