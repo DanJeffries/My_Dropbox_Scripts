{
 "metadata": {
  "name": "",
  "signature": "sha256:9de6dd5bb3ce10a9ccabcfa51ab6b9c86f7e01df945f22c11312dffaf12c44e3"
 },
 "nbformat": 3,
 "nbformat_minor": 0,
 "worksheets": []
}