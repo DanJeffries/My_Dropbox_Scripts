{
 "cells": [
  {
   "cell_type": "markdown",
   "metadata": {},
   "source": [
    "### The aim of this script is to use the RADseq NewHybs results to add prior information to the input file for the microsatellite analysis\n",
    "- so for each RADseq sample, "
   ]
  },
  {
   "cell_type": "code",
   "execution_count": 34,
   "metadata": {
    "collapsed": false
   },
   "outputs": [],
   "source": [
    "RADseq_cru_gold = open(\"/media/dan/34D5D1CE642D7E36/2013076_Hanfling_Bernd/NewHybrids/Ref_aligned_analysis/Cru_gold_withref_diag_formatted.dat_Newhybs_outputs/aa-PofZ_named.txt\", 'r').readlines() ## this is a file I prepared in bash, just by adding sample names to the newhybs output file.\n",
    "\n",
    "RADseq_cru_gib = open(\"/media/dan/34D5D1CE642D7E36/2013076_Hanfling_Bernd/NewHybrids/Ref_aligned_analysis/Cru_gib_withref_diag_formatted.dat_Newhybs_outputs/aa-PofZ_named.txt\", 'r').readlines() ## this is a file I prepared in bash, just by adding sample names to the newhybs output file.\n",
    "\n",
    "RADseq_cru_cyp  = open(\"/media/dan/34D5D1CE642D7E36/2013076_Hanfling_Bernd/NewHybrids/Ref_aligned_analysis/Cru_comm_withref_diag_formatted.dat_Newhybs_outputs/aa-PofZ_named.txt\", 'r').readlines() \n",
    "\n",
    "\n",
    "microsat_sample_names_cyp = open(\"/home/dan/Dropbox/PhD/Dans_PhD_Shared/Thesis/Chapter_4_Hybridisation_and_introgression/data/Microsats/Cru_Cyp_names.txt\" , 'r').readlines()\n",
    "\n",
    "\n",
    "\n",
    "\n",
    "\n"
   ]
  },
  {
   "cell_type": "markdown",
   "metadata": {},
   "source": [
    "### For the cyprinus analysis"
   ]
  },
  {
   "cell_type": "code",
   "execution_count": 39,
   "metadata": {
    "collapsed": false
   },
   "outputs": [
    {
     "name": "stdout",
     "output_type": "stream",
     "text": [
      "['BF4', 'BF5', 'BF6', 'BF8', 'BF9', 'BF10', 'BF11', 'BF12', 'BF13', 'BOR1', 'BOR2', 'BOR3', 'BOR4', 'BOR6', 'CAKE10', 'CAKE2', 'CAKE3', 'CAKE4', 'CAKE5', 'CAKE6', 'CAKE7', 'CAKE8', 'CAKE9', 'CALK1', 'CALK2', 'CALK3', 'CALK4', 'CALK5', 'CALK6', 'CALK7', 'CALK8', 'CALK9', 'CALK10', 'COP6', 'COP7', 'COP8', 'COP9', 'COP10', 'COP11', 'COP12', 'COP13', 'COP14', 'COP15', 'EP1', 'EP10', 'FM3', 'FM4', 'FM5', 'FM7', 'FM8', 'H2K10', 'H2K3', 'H2K5', 'H2KH1', 'H2KH2', 'HOLT9', 'MOAT10', 'MOAT1', 'MOAT2', 'MOAT3', 'MOAT4', 'MOAT5', 'MOAT6', 'MOAT7', 'MOAT8', 'MOAT9', 'OBY1', 'OBY2', 'OBY7', 'OBY10', 'OBY11', 'OBY12', 'OBY13', 'OBY14', 'OBY15', 'OU1', 'OU3', 'OU4', 'OU5', 'OU6', 'OU7', 'OU8', 'OU9', 'PED1', 'PED2', 'PED3', 'PED4', 'PED5', 'PED6', 'PED7', 'PED8', 'POLEN10', 'POLEN1', 'POLEN2', 'POLEN3', 'POLEN4', 'POLEN5', 'POLEN6', 'POLEN7', 'POLEN8', 'POLEN9', 'PRO1', 'PRO2', 'PRO3', 'PRO4', 'PRO5', 'PRO6', 'PRO7', 'PRO8', 'PRO9', 'RM10', 'RM1', 'RM20', 'RM2', 'RM31', 'RM32', 'RM3', 'RM4', 'RM5', 'RM6', 'RM7', 'RM8', 'RM9', 'SK10', 'SK1', 'SK2', 'SK3', 'SK4', 'SK5', 'SK6', 'SK7', 'SK8', 'SK9', 'STEC10', 'STEC1', 'STEC2', 'STEC3', 'STEC4', 'STEC5', 'STEC6', 'STEC7', 'STEC8', 'STEC9', 'STYV1', 'STYV2', 'STYV3', 'STYV4', 'STYV5', 'STYV6', 'STYV7', 'STYV8', 'STYV9', 'TROM2', 'TROM3', 'TROM4', 'TROM9', 'TROM11', 'TROM12', 'TROM16', 'TROM17', 'TROM18', 'TU10', 'TU1', 'TU2', 'TU3', 'TU4', 'TU5', 'TU6', 'TU7', 'TU8', 'TU9', 'V11', 'V1', 'V13', 'V3', 'V5', 'V7', 'WEN2', 'WEN3', 'WEN4', 'WEN6', 'WEN8', 'WEN10', 'WEN11', 'WEN13', 'WEN16']\n"
     ]
    }
   ],
   "source": [
    "microsats_with_priors = open(\"/home/dan/Dropbox/PhD/Dans_PhD_Shared/Thesis/Chapter_4_Hybridisation_and_introgression/data/Microsats/Newhybrids_outputs/Indiv_priors/Cru_CYP_with_priors.txt\", 'w')\n",
    "\n",
    "# Get RAD sample names\n",
    "\n",
    "RAD_cru_cyp_samples = []\n",
    "for line in RADseq_cru_cyp[1:]:\n",
    "    RAD_cru_cyp_samples.append(line.split()[0])\n",
    "    \n",
    "print RAD_cru_cyp_samples\n",
    "\n",
    "\n",
    "microsat_sample_col = []\n",
    "\n",
    "for sample in microsat_sample_names_cyp:\n",
    "    sample = sample.strip()\n",
    "    if sample in RAD_cru_cyp_samples: ## for each shared sample\n",
    "        #print sample, \"is in RADseq\"\n",
    "        for line in RADseq_cru_cyp: ## go through cru_gold RAD outputs\n",
    "            if line.split()[0] == sample:\n",
    "                if float(line.split()[1]) > 0.5:\n",
    "                    microsat_sample_col.append(sample+\"\\tz0\\t\")\n",
    "                elif float(line.split()[2]) > 0.5:\n",
    "                    microsat_sample_col.append(sample+\"\\tz1\\t\")\n",
    "                elif float(line.split()[3]) > 0.5:\n",
    "                    microsat_sample_col.append(sample+\"\\tz2\\t\")\n",
    "    else:\n",
    "        #print sample, \"not in RADseq\"\n",
    "        microsat_sample_col.append(sample+\"\\t\\t\")\n",
    "\n",
    "\n",
    "        \n",
    "for line in microsat_sample_col:\n",
    "    microsats_with_priors.write(line+\"\\n\")\n",
    "\n",
    "microsats_with_priors.close()"
   ]
  },
  {
   "cell_type": "markdown",
   "metadata": {},
   "source": [
    "### For the Auratus analysis"
   ]
  },
  {
   "cell_type": "code",
   "execution_count": null,
   "metadata": {
    "collapsed": true
   },
   "outputs": [],
   "source": [
    "microsats_with_priors = open(\"/home/dan/Dropbox/PhD/Dans_PhD_Shared/Thesis/Chapter_4_Hybridisation_and_introgression/data/Microsats/Newhybrids_outputs/Indiv_priors/Cru_AU_with_priors.txt\", 'w')\n",
    "\n",
    "# Get RAD sample names (from both goldfish and gibel analyses)\n",
    "RAD_cru_gold_samples = []\n",
    "RAD_cru_gib_samples = []\n",
    "for line in RADseq_cru_gold[1:]:\n",
    "    RAD_cru_gold_samples.append(line.split()[0])\n",
    "for line in RADseq_cru_gib[1:]:\n",
    "    RAD_cru_gib_samples.append(line.split()[0])\n",
    "\n",
    "\n",
    "microsat_sample_col = []\n",
    "\n",
    "\n",
    "for sample in microsat_sample_names:\n",
    "    sample = sample.strip()\n",
    "    if sample in RAD_cru_gold_samples: ## for each shared sample\n",
    "        print sample, \"in RAD_Cru_Gold\"\n",
    "        for line in RADseq_cru_gold: ## go through cru_gold RAD outputs\n",
    "            if line.split()[0] == sample:\n",
    "                if float(line.split()[1]) > 0.5:\n",
    "                    microsat_sample_col.append(sample+\"\\tz0\\t\")\n",
    "                elif float(line.split()[2]) > 0.5:\n",
    "                    microsat_sample_col.append(sample+\"\\tz1\\t\")\n",
    "                elif float(line.split()[3]) > 0.5:\n",
    "                    microsat_sample_col.append(sample+\"\\tz2\\t\")\n",
    "    elif sample in RAD_cru_gib_samples:\n",
    "        print sample, \"in RAD_Cru_Gib\"\n",
    "        for line in RADseq_cru_gib:\n",
    "            if line.split()[0] == sample:\n",
    "                if float(line.split()[1]) > 0.5:\n",
    "                    microsat_sample_col.append(sample+\"\\tz0\\t\")\n",
    "                elif float(line.split()[2]) > 0.5:\n",
    "                    microsat_sample_col.append(sample+\"\\tz1\\t\")\n",
    "                elif float(line.split()[3]) > 0.5:\n",
    "                        microsat_sample_col.append(sample+\"\\tz2\\t\")\n",
    "    else:\n",
    "        print sample, \"not in RADseq\"\n",
    "        microsat_sample_col.append(sample+\"\\t\\t\")\n",
    "\n",
    "for line in microsat_sample_col:\n",
    "    microsats_with_priors.write(line+\"\\n\")\n",
    "\n",
    "microsats_with_priors.close()"
   ]
  }
 ],
 "metadata": {
  "kernelspec": {
   "display_name": "Python 2",
   "language": "python",
   "name": "python2"
  },
  "language_info": {
   "codemirror_mode": {
    "name": "ipython",
    "version": 2
   },
   "file_extension": ".py",
   "mimetype": "text/x-python",
   "name": "python",
   "nbconvert_exporter": "python",
   "pygments_lexer": "ipython2",
   "version": "2.7.6"
  }
 },
 "nbformat": 4,
 "nbformat_minor": 0
}
