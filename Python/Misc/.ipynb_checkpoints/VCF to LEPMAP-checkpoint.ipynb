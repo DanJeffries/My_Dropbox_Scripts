{
 "cells": [
  {
   "cell_type": "code",
   "execution_count": 4,
   "metadata": {
    "collapsed": true
   },
   "outputs": [],
   "source": [
    "import vcf"
   ]
  },
  {
   "cell_type": "code",
   "execution_count": 49,
   "metadata": {
    "collapsed": false
   },
   "outputs": [],
   "source": [
    "vcf_path = \"/home/djeffrie/Data/RADseq/STOECK/Bviridis/Linkage_maps/Combined/batch_1.vcf\"\n",
    "popmap = open(\"/home/djeffrie/Data/RADseq/STOECK/Bviridis/Linkage_maps/Combined/names.txt\", 'r').readlines()\n",
    "\n",
    "alteredvcfpath = \"%s%s\" % (vcf_path, \".altered\")\n",
    "\n",
    "oldvcf = open(vcf_path, 'r').readlines()\n",
    "alteredvcf = open(alteredvcfpath, 'w')        \n",
    "\n",
    "for line in oldvcf:\n",
    "    \n",
    "    if \"Allele Depth\" not in line:            \n",
    "        alteredvcf.write(line)\n",
    "    elif \"Allele Depth\" in line:            \n",
    "        line = '##FORMAT=<ID=AD,Number=.,Type=Integer,Description=\"Allele Depth\">\\n'\n",
    "        alteredvcf.write(line)\n",
    "        \n",
    "alteredvcf.close()    \n",
    "altered_vcf = open(alteredvcfpath, 'r')    \n",
    "myvcf = vcf.Reader(altered_vcf)\n"
   ]
  },
  {
   "cell_type": "code",
   "execution_count": 50,
   "metadata": {
    "collapsed": false
   },
   "outputs": [],
   "source": [
    "altered_vcf = open(alteredvcfpath, 'r')    \n",
    "myvcf = vcf.Reader(altered_vcf)\n",
    "\n",
    "per_sample_dict = {}\n",
    "\n",
    "loc_order_list = []\n",
    "sample_order_list = []\n",
    "\n",
    "\n",
    "for record in myvcf:\n",
    "    #print record\n",
    "    loc_id = \"%s_%s\" % (record.ID, record.POS)\n",
    "    \n",
    "    loc_order_list.append(loc_id)\n",
    "    \n",
    "    for sample in record:\n",
    "        if sample.sample not in per_sample_dict:\n",
    "            per_sample_dict[sample.sample] = {}\n",
    "            sample_order_list.append(sample.sample)\n",
    "        \n",
    "        if sample['GT'] == None:\n",
    "            new_gt = \"0 0\"\n",
    "        elif sample['GT'] == \"0/0\":\n",
    "            new_gt = \"1 1\"\n",
    "        elif sample['GT'] == \"0/1\":\n",
    "            new_gt = \"1 2\"\n",
    "        elif sample['GT'] == \"1/0\":\n",
    "            new_gt = \"2 1\"\n",
    "        elif sample['GT'] == \"1/1\":\n",
    "            new_gt = \"2 2\"\n",
    "        \n",
    "        per_sample_dict[sample.sample][loc_id] = new_gt\n",
    "            \n",
    "sample_loc_lists = {}     \n",
    "sample_lines = {}\n",
    "\n",
    "for sample in sample_order_list:\n",
    "    sample_loc_lists[sample] = []\n",
    "    \n",
    "    \n",
    "    for loc in loc_order_list:\n",
    "        sample_loc_lists[sample].append(per_sample_dict[sample][loc])\n",
    "\n",
    "    sample_lines[sample] = \"\\t\".join(sample_loc_lists[sample])"
   ]
  },
  {
   "cell_type": "code",
   "execution_count": 47,
   "metadata": {
    "collapsed": false
   },
   "outputs": [
    {
     "name": "stdout",
     "output_type": "stream",
     "text": [
      "['Bv19_11F', 'Bv19_13F', 'Bv19_16F', 'Bv19_18F', 'Bv19_4F', 'Bv19_5F', 'Bv19_8F', 'Bv19_9F', 'GR13_11female', 'GR93_F', 'GR93x94_21F', 'GR93x94_23F', 'GR93x94_31F', 'GR95F', 'GR95x96_24F', 'GR95x96_25F', 'GR95x96_27F', 'GR95x96_30F', 'Bv19_10M', 'Bv19_14M', 'Bv19_15M', 'Bv19_17M', 'Bv19_2M', 'Bv19_3M', 'Bv19_6M', 'GR13_12male', 'GR93x94_24M', 'GR93x94_30M', 'GR93x94_32M', 'GR94_M', 'GR95x96_21M', 'GR95x96_23M', 'GR95x96_26M', 'GR95x96_28M', 'GR96M']\n"
     ]
    }
   ],
   "source": [
    "samples = []\n",
    "\n",
    "for line in popmap:\n",
    "    samples.append(line.split()[0])\n",
    "print samples"
   ]
  },
  {
   "cell_type": "code",
   "execution_count": 48,
   "metadata": {
    "collapsed": false
   },
   "outputs": [],
   "source": [
    "outfile = open(\"/home/djeffrie/Data/RADseq/STOECK/Bviridis/Linkage_maps/Combined/LINKAGE.dat\", 'w')\n",
    "\n",
    "for sample in samples:\n",
    "    outfile.write(\"%s\\t%s\\n\" % (sample, sample_lines[sample]))\n",
    "                  \n",
    "outfile.close()\n"
   ]
  }
 ],
 "metadata": {
  "kernelspec": {
   "display_name": "Python 2",
   "language": "python",
   "name": "python2"
  },
  "language_info": {
   "codemirror_mode": {
    "name": "ipython",
    "version": 2
   },
   "file_extension": ".py",
   "mimetype": "text/x-python",
   "name": "python",
   "nbconvert_exporter": "python",
   "pygments_lexer": "ipython2",
   "version": "2.7.10"
  }
 },
 "nbformat": 4,
 "nbformat_minor": 0
}
