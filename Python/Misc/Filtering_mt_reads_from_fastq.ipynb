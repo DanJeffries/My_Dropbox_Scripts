{
 "cells": [
  {
   "cell_type": "code",
   "execution_count": 21,
   "metadata": {
    "collapsed": true
   },
   "outputs": [],
   "source": [
    "from Bio import SeqIO\n",
    "import sys\n",
    "import gzip"
   ]
  },
  {
   "cell_type": "code",
   "execution_count": 20,
   "metadata": {
    "collapsed": false
   },
   "outputs": [],
   "source": [
    "print \" \\nUsage: Filtering_mt_reads_from_fastq.py <readpool.fast(a/q/gz)> <read_IDs.txt> [N_sequences_in_file (optional)]\"\n",
    "\n",
    "## CLINE options ====================================================\n",
    "\n",
    "if len(sys.argv) < 3:\n",
    "    sys.exit(\"\\n#### ERROR: Not enough arguments####\\n\")\n",
    "\n",
    "elif len(sys.argv) >= 3:\n",
    "    fasta = sys.argv[1]\n",
    "    Ids = open(sys.argv[2], 'r').readlines()\n",
    "\n",
    "if len(sys.argv) == 4:\n",
    "    N_seqs = sys.argv[3]\n",
    "\n",
    "## Open reads file ===================================================\n",
    "    \n",
    "if fasta.endswith(\"a\"):\n",
    "    fasta_it = SeqIO.parse(fasta, \"fasta\")\n",
    "    file_format = \"fasta\"\n",
    "\n",
    "elif fasta.endswith(\"q\"):\n",
    "    fasta_it = SeqIO.parse(fasta, \"fastq\")\n",
    "    file_format = \"fastq\"\n",
    "\n",
    "elif fasta.endswith(\"a.gz\"):\n",
    "    fasta_handl = gzip.open(fasta, 'r')\n",
    "    fasta_it = SeqIO.parse(fasta_handl, \"fasta\")\n",
    "    file_format = \"fasta\"\n",
    "\n",
    "elif fasta.endswith(\"q.gz\"):\n",
    "    fasta_handl = gzip.open(fasta, 'r')\n",
    "    fasta_it = SeqIO.parse(fasta_handl, \"fastq\")\n",
    "    file_format = \"fastq\"\n",
    "\n",
    "else:\n",
    "    sys.exit(\"\\nERROR: File format no recognised, expecting .fa, .fq, .fasta, .fastq, or any of the gzipped equivalients (.gz)\\n\")\n",
    "    \n",
    "## Open output file ==================================================\n",
    "\n",
    "outfile_path = \"%s/Mt_filtered_reads.%s\" % (fasta.rpartition(\"/\")[0],file_format)\n",
    "\n",
    "filtered_fasta = open(outfile_path, 'w')\n",
    "\n",
    "## Write all reads not mapped to output file =========================\n",
    "\n",
    "print \"\\nWriting un-filtered reads to file\\n\"\n",
    "\n",
    "for record in fasta_it:\n",
    "    if record.id not in Ids:\n",
    "        SeqIO.write(record, filtered_fasta, \"fastq\")\n",
    "        \n",
    "filtered_fasta.close()\n",
    "\n",
    "print \"DONE! Filtered file is here: %s\\n\" % outfile_path"
   ]
  },
  {
   "cell_type": "code",
   "execution_count": null,
   "metadata": {
    "collapsed": true
   },
   "outputs": [],
   "source": [
    "#### Test args\n",
    "\n",
    "fasta = \"/home/djeffrie/Data/Transposable_elements/Plessonae/mtGenome/Pless_readpool_concat.fastq\"\n",
    "Ids = \"/home/djeffrie/Data/Transposable_elements/Plessonae/mtGenome/Mt_mapped_reads.txt\"\n",
    "filtered_fasta = open(\"/home/djeffrie/Data/Transposable_elements/Plessonae/mtGenome/Mt_filtered.fastq\", 'w')\n"
   ]
  }
 ],
 "metadata": {
  "kernelspec": {
   "display_name": "Python 2",
   "language": "python",
   "name": "python2"
  },
  "language_info": {
   "codemirror_mode": {
    "name": "ipython",
    "version": 2
   },
   "file_extension": ".py",
   "mimetype": "text/x-python",
   "name": "python",
   "nbconvert_exporter": "python",
   "pygments_lexer": "ipython2",
   "version": "2.7.10"
  }
 },
 "nbformat": 4,
 "nbformat_minor": 0
}
