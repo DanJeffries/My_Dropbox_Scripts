{
 "cells": [
  {
   "cell_type": "code",
   "execution_count": 10,
   "metadata": {
    "collapsed": true
   },
   "outputs": [],
   "source": [
    "import sys"
   ]
  },
  {
   "cell_type": "code",
   "execution_count": 11,
   "metadata": {
    "collapsed": false
   },
   "outputs": [
    {
     "name": "stdout",
     "output_type": "stream",
     "text": [
      "['', '/home/djeffrie/Dropbox/My_Dropbox_Scripts/Python/Misc', '/home/djeffrie/anaconda/lib/python27.zip', '/home/djeffrie/anaconda/lib/python2.7', '/home/djeffrie/anaconda/lib/python2.7/plat-linux2', '/home/djeffrie/anaconda/lib/python2.7/lib-tk', '/home/djeffrie/anaconda/lib/python2.7/lib-old', '/home/djeffrie/anaconda/lib/python2.7/lib-dynload', '/home/djeffrie/anaconda/lib/python2.7/site-packages', '/home/djeffrie/anaconda/lib/python2.7/site-packages/Sphinx-1.3.1-py2.7.egg', '/home/djeffrie/anaconda/lib/python2.7/site-packages/cryptography-0.9.1-py2.7-linux-x86_64.egg', '/home/djeffrie/anaconda/lib/python2.7/site-packages/setuptools-17.1.1-py2.7.egg', '/home/djeffrie/anaconda/lib/python2.7/site-packages/IPython/extensions', '/usr/local/lib/python2.7/dist-packages', '/usr/local/lib/python2.7/dist-packages/PyVCF-0.6.8.dev0-py2.7.egg', '/home/djeffrie/Dropbox/My_Dropbox_Scripts/Misc', '/home/djeffrie/Dropbox/My_Dropbox_Scripts/Genemodels', '/home/djeffrie/Dropbox/My_Dropbox_Scripts/Windows', '/home/djeffrie/Dropbox/My_Dropbox_Scripts/Triploid_gibel', '/home/djeffrie/Dropbox/My_Dropbox_Scripts/Incremental', '/home/djeffrie/Dropbox/My_Dropbox_Scripts/RAD-seq/Frog_sex_chromosomes', '/home/djeffrie/Dropbox/My_Dropbox_Scripts/RAD-seq/Misc_conversion_scripts', '/home/djeffrie/Dropbox/My_Dropbox_Scripts/RAD-seq/MISC', '/home/djeffrie/Dropbox/My_Dropbox_Scripts/RAD-seq/Stacks_sum_stats', '/home/djeffrie/Dropbox/My_Dropbox_Scripts/RAD-seq/Stacks_script_makers', '/home/djeffrie/Dropbox/My_Dropbox_Scripts/dadi', '/home/djeffrie/Dropbox/My_Dropbox_Scripts/Python/My_Modules/Incremental', '/home/djeffrie/Dropbox/My_Dropbox_Scripts/Python/My_Modules', '/home/djeffrie/anaconda/lib/python2.7/site-packages/IPython/extensions']\n"
     ]
    }
   ],
   "source": [
    "print sys.path"
   ]
  },
  {
   "cell_type": "code",
   "execution_count": 5,
   "metadata": {
    "collapsed": false
   },
   "outputs": [],
   "source": [
    "import MISC_RAD_tools as MISC"
   ]
  },
  {
   "cell_type": "code",
   "execution_count": 7,
   "metadata": {
    "collapsed": false,
    "scrolled": false
   },
   "outputs": [
    {
     "name": "stdout",
     "output_type": "stream",
     "text": [
      "Help on function Super_SLM_finder in module MISC_RAD_tools:\n",
      "\n",
      "Super_SLM_finder(Parameter_dict, execute_seq='111')\n",
      "    Parameter_dict - contains all data and settings for all three approaches\n",
      "    execute_seq -    (default = \"111\") tells the wrapper which approach to use, e.g. 111 means run all, 101 means run approach 1 and 3 but not 2.\n",
      "    \n",
      "    \n",
      "    -----------------------------------------------------------------------------------------------------------------------------------------------------\n",
      "    \n",
      "    Approach 1. Identifies sex linked SNPs from a VCF file using the criteria of female-male allele freq \n",
      "    \n",
      "    Workflow:\n",
      "    1. Filters loci by presence (number of samples), coverage and maf.\n",
      "    2. Calculates the allele frequencies for males and females separately\n",
      "    3. Subtracts male from female frequencies and filter loci that show signs of X or Z linkage\n",
      "    4. Outputs all male and female frequencies and female-male outputs to a single file called \n",
      "       \"yourinput.vcf.all_frequencies.tsv\" (where yourinput = the name and path of your vcf file). Loci \n",
      "       identified as X or Z linked are labelled as such in this file.\n",
      "    5. Outputs all putative X or Z linked markers to separate fasta files if any are identified.\n",
      "    6. Outputs a histogram of the distribution of female-male frequencies called \"yourinput.vcf.fem-male_freqs.pdf\"\n",
      "    7. All suplus information is recorded to a log file, with a summary at the end of this file.\n",
      "    \n",
      "    -----------------------------------------------------------------------------------------------------------------------------------------------------\n",
      "    \n",
      "    Approach 2. Identifies sex linked SNPs from a VCF file using the heterozygosity difference between sexes \n",
      "    \n",
      "    Workflow:\n",
      "    1. Filters loci by presence (number of samples), coverage and maf.\n",
      "    3. Looks for loci that are heterozygous in all or most of the homogametic sex and homozygous in all or most\n",
      "       of the heterogametic sex\n",
      "    5. Outputs all putative X or Z linked markers to separate fasta files if any are identified.\n",
      "    6. All suplus information is recorded to a log file, with a summary at the end of this file.\n",
      "    \n",
      "    -----------------------------------------------------------------------------------------------------------------------------------------------------\n",
      "    \n",
      "    Approach 3. Identifies sex linked RAD tags from a catalog file using the presence and absence of tags in each sex \n",
      "    \n",
      "    Workflow:\n",
      "    # Using only samples specified in the Pop_map file:\n",
      "    1. Finds tags which are present in <sex_presence_threshold> males and no females (Y linked)\n",
      "    2. Find tags which are present in <sex_presence_threshold> females and no males (W linked)\n",
      "    3. Outputs all putative X or W linked tags to a fasta file\n",
      "    \n",
      "    ====================================================================================================================================================\n",
      "    \n",
      "    ## Example parameter dict\n",
      "    \n",
      "    Parameter_dict = {}\n",
      "    \n",
      "    ##### Data ########################\n",
      "    \n",
      "    Parameter_dict['Catalog'] =  \"/home/djeffrie/Data/RADseq/Rarvalis/Final_populations_outs/batch_1.catalog.tags.tsv.gz\" ## Path to the catalog file - used by all approaches.\n",
      "    Parameter_dict['VCF'] =  \"/home/djeffrie/Data/RADseq/Rarvalis/Final_populations_outs/Guillaumes_vcf/batch_1.vcf\" ## path to vcf file (note this will be altered to make header compatible with Pyvcf. New vcf will have same name with \".altered\" appended to the end). Used by Approach i) and ii)\n",
      "    Parameter_dict['Pop_map'] = \"/home/djeffrie/Data/RADseq/Rarvalis/Final_populations_outs/sex_info_ID.txt\" ## path to population map file containing sex information. Same format as Stacks pop map file. Used by all approaches.\n",
      "    \n",
      "    ###### threshold parameters #######\n",
      "    \n",
      "    # 1. Frequency approach\n",
      "    Parameter_dict['X_or_Z_freq_threshold'] = 0.4  ## (Default = 0.4) The lower threshold for the freq caluclation to find sex linked snps, e.g. for an XY system, a threshold of 0.4 means that f(F) - f(M) can be >= 0.4 and <= 0.6 (the upper threshold is automatically calculated to be the same distance above 0.5 as the lower threshold is below 0.5) \n",
      "    Parameter_dict['sample_presence_cutoff1'] = 0.75 ## (Default = 0.75) a locus must be called in at least this proportion of all samples (not within populations) to be considered\n",
      "    Parameter_dict['coverage_threshold1'] = 3 ## (Default = 3) a locus must have at least this threshold in a sample to be considered for that sample. Note that loci below this threshold will be removed from a sample, and this can push the locus below the sample presence cut-off, which will then remove the locus.\n",
      "    Parameter_dict['maf_threshold1'] =  0.05 ## (Default = 0.05) minor allele frequency cutoff for a locus across all samples. \n",
      "    \n",
      "    # 2. Heterozygosity approach\n",
      "    Parameter_dict['homogamtic_homozygosity_threshold'] = 0.9 ## (Default = 0.9) The minimum number of the homogametic sex which must not have the tag for that tag to be considered linked to the sex-limited chromosome\n",
      "    Parameter_dict['heterogamtic_heterozygosity_threshold'] = 0.5 ## (Default = 0.5) The lower threshold for the proportion of heterozygotes in the heterogametic sex at a locus \n",
      "    Parameter_dict['sample_presence_cutoff2'] = 0.75 ## (Default = 0.75) a locus must be called in at least this proportion of all samples (not within populations) to be considered\n",
      "    Parameter_dict['coverage_threshold2'] = 3 ## (Default = 3) a locus must have at least this threshold in a sample to be considered for that sample. Note that loci bels this threshold will be removed from a sample, and this can push the locus below the sample presence cut-off, which will then remove the locus.\n",
      "    Parameter_dict['maf_threshold2'] = 0.05 ## (Default = 0.05) minor allele frequency cutoff for a locus across all samples. \n",
      "    \n",
      "    # 3. Sex specific presence or absence approach\n",
      "    Parameter_dict['sex_presence_threshold'] =  0.5 ## (Default = 0.5) The minimum percenatage of the heterogametic sex that a tag must be present in.\n",
      "\n"
     ]
    }
   ],
   "source": [
    "help(MISC.Super_SLM_finder)"
   ]
  },
  {
   "cell_type": "code",
   "execution_count": null,
   "metadata": {
    "collapsed": true
   },
   "outputs": [],
   "source": [
    "## Example parameter dict\n",
    "    \n",
    "    Parameter_dict = {}\n",
    "    \n",
    "    ##### Data ########################\n",
    "    \n",
    "    Parameter_dict['Catalog'] =  \"/home/djeffrie/Data/RADseq/Rarvalis/Final_populations_outs/batch_1.catalog.tags.tsv.gz\" ## Path to the catalog file - used by all approaches.\n",
    "    Parameter_dict['VCF'] =  \"/home/djeffrie/Data/RADseq/Rarvalis/Final_populations_outs/Guillaumes_vcf/batch_1.vcf\" ## path to vcf file (note this will be altered to make header compatible with Pyvcf. New vcf will have same name with \".altered\" appended to the end). Used by Approach i) and ii)\n",
    "    Parameter_dict['Pop_map'] = \"/home/djeffrie/Data/RADseq/Rarvalis/Final_populations_outs/sex_info_ID.txt\" ## path to population map file containing sex information. Same format as Stacks pop map file but with an extra column containing the stacks ID for each sample. Used by all approaches.\n",
    "    \n",
    "    ###### threshold parameters #######\n",
    "    \n",
    "    # 1. Frequency approach\n",
    "    Parameter_dict['X_or_Z_freq_threshold'] = 0.4  ## (Default = 0.4) The lower threshold for the freq caluclation to find sex linked snps, e.g. for an XY system, a threshold of 0.4 means that f(F) - f(M) can be >= 0.4 and <= 0.6 (the upper threshold is automatically calculated to be the same distance above 0.5 as the lower threshold is below 0.5) \n",
    "    Parameter_dict['sample_presence_cutoff1'] = 0.75 ## (Default = 0.75) a locus must be called in at least this proportion of all samples (not within populations) to be considered\n",
    "    Parameter_dict['coverage_threshold1'] = 3 ## (Default = 3) a locus must have at least this threshold in a sample to be considered for that sample. Note that loci below this threshold will be removed from a sample, and this can push the locus below the sample presence cut-off, which will then remove the locus.\n",
    "    Parameter_dict['maf_threshold1'] =  0.05 ## (Default = 0.05) minor allele frequency cutoff for a locus across all samples. \n",
    "    \n",
    "    # 2. Heterozygosity approach\n",
    "    Parameter_dict['homogamtic_homozygosity_threshold'] = 0.9 ## (Default = 0.9) The minimum number of the homogametic sex which must not have the tag for that tag to be considered linked to the sex-limited chromosome\n",
    "    Parameter_dict['heterogamtic_heterozygosity_threshold'] = 0.5 ## (Default = 0.5) The lower threshold for the proportion of heterozygotes in the heterogametic sex at a locus \n",
    "    Parameter_dict['sample_presence_cutoff2'] = 0.75 ## (Default = 0.75) a locus must be called in at least this proportion of all samples (not within populations) to be considered\n",
    "    Parameter_dict['coverage_threshold2'] = 3 ## (Default = 3) a locus must have at least this threshold in a sample to be considered for that sample. Note that loci bels this threshold will be removed from a sample, and this can push the locus below the sample presence cut-off, which will then remove the locus.\n",
    "    Parameter_dict['maf_threshold2'] = 0.05 ## (Default = 0.05) minor allele frequency cutoff for a locus across all samples. \n",
    "    \n",
    "    # 3. Sex specific presence or absence approach\n",
    "    Parameter_dict['sex_presence_threshold'] =  0.5 ## (Default = 0.5) The minimum percenatage of the heterogametic sex that a tag must be present in.\n"
   ]
  }
 ],
 "metadata": {
  "kernelspec": {
   "display_name": "Python 2",
   "language": "python",
   "name": "python2"
  },
  "language_info": {
   "codemirror_mode": {
    "name": "ipython",
    "version": 2
   },
   "file_extension": ".py",
   "mimetype": "text/x-python",
   "name": "python",
   "nbconvert_exporter": "python",
   "pygments_lexer": "ipython2",
   "version": "2.7.10"
  }
 },
 "nbformat": 4,
 "nbformat_minor": 0
}
