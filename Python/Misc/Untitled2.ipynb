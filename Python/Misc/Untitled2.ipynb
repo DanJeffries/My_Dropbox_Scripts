{
 "cells": [
  {
   "cell_type": "code",
   "execution_count": 22,
   "metadata": {
    "collapsed": false
   },
   "outputs": [
    {
     "name": "stdout",
     "output_type": "stream",
     "text": [
      "['Rlatita', '06EhMge8gBVQ', 'L5', 'R1', '011.fastq.gz']\n",
      "Rlatita_XXXXXX_L5_R1_011.fastq.gz\n"
     ]
    }
   ],
   "source": [
    "string = \"Rlatita_06EhMge8gBVQ_L5_R1_011.fastq.gz\"\n",
    "print string.split(\"_\")\n",
    "\n",
    "\n",
    "print \"\".join(string.split(\"_\")[0]+\"_\") +\"XXXXXX_\" + \"\".join(string.partition(\"_\")[2].partition(\"_\")[2])"
   ]
  }
 ],
 "metadata": {
  "kernelspec": {
   "display_name": "Python 2",
   "language": "python",
   "name": "python2"
  },
  "language_info": {
   "codemirror_mode": {
    "name": "ipython",
    "version": 2
   },
   "file_extension": ".py",
   "mimetype": "text/x-python",
   "name": "python",
   "nbconvert_exporter": "python",
   "pygments_lexer": "ipython2",
   "version": "2.7.10"
  }
 },
 "nbformat": 4,
 "nbformat_minor": 0
}
