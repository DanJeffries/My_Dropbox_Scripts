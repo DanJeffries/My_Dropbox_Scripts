{
 "cells": [
  {
   "cell_type": "code",
   "execution_count": 2,
   "metadata": {
    "collapsed": true
   },
   "outputs": [],
   "source": [
    "import vcf"
   ]
  },
  {
   "cell_type": "code",
   "execution_count": 3,
   "metadata": {
    "collapsed": false
   },
   "outputs": [],
   "source": [
    "vcf_path = \"/home/djeffrie/Data/RADseq/Riberica/Stacks_trimmed/IDd/FAMILY/batch_1.vcf\"\n",
    "popmap = open(\"/home/djeffrie/Data/RADseq/Riberica/Stacks_trimmed/IDd/FAMILY/popmap.txt\", 'r').readlines()\n",
    "\n",
    "alteredvcfpath = \"%s%s\" % (vcf_path, \".altered\")\n",
    "\n",
    "oldvcf = open(vcf_path, 'r').readlines()\n",
    "alteredvcf = open(alteredvcfpath, 'w')        \n",
    "\n",
    "for line in oldvcf:\n",
    "    \n",
    "    if \"Allele Depth\" not in line:            \n",
    "        alteredvcf.write(line)\n",
    "    elif \"Allele Depth\" in line:            \n",
    "        line = '##FORMAT=<ID=AD,Number=.,Type=Integer,Description=\"Allele Depth\">\\n'\n",
    "        alteredvcf.write(line)\n",
    "        \n",
    "alteredvcf.close()    \n",
    "altered_vcf = open(alteredvcfpath, 'r')    \n",
    "myvcf = vcf.Reader(altered_vcf)\n"
   ]
  },
  {
   "cell_type": "code",
   "execution_count": 4,
   "metadata": {
    "collapsed": false
   },
   "outputs": [],
   "source": [
    "altered_vcf = open(alteredvcfpath, 'r')    \n",
    "myvcf = vcf.Reader(altered_vcf)\n",
    "\n",
    "per_sample_dict = {}\n",
    "\n",
    "loc_order_list = []\n",
    "sample_order_list = []\n",
    "\n",
    "\n",
    "for record in myvcf:\n",
    "    #print record\n",
    "    loc_id = \"%s_%s\" % (record.ID, record.POS)\n",
    "    \n",
    "    loc_order_list.append(loc_id)\n",
    "    \n",
    "    for sample in record:\n",
    "        if sample.sample not in per_sample_dict:\n",
    "            per_sample_dict[sample.sample] = {}\n",
    "            sample_order_list.append(sample.sample)\n",
    "        \n",
    "        if sample['GT'] == None:\n",
    "            new_gt = \"0 0\"\n",
    "        elif sample['GT'] == \"0/0\":\n",
    "            new_gt = \"1 1\"\n",
    "        elif sample['GT'] == \"0/1\":\n",
    "            new_gt = \"1 2\"\n",
    "        elif sample['GT'] == \"1/0\":\n",
    "            new_gt = \"2 1\"\n",
    "        elif sample['GT'] == \"1/1\":\n",
    "            new_gt = \"2 2\"\n",
    "        \n",
    "        per_sample_dict[sample.sample][loc_id] = new_gt\n",
    "            \n",
    "sample_loc_lists = {}     \n",
    "sample_lines = {}\n",
    "\n",
    "for sample in sample_order_list:\n",
    "    sample_loc_lists[sample] = []\n",
    "    \n",
    "    \n",
    "    for loc in loc_order_list:\n",
    "        sample_loc_lists[sample].append(per_sample_dict[sample][loc])\n",
    "\n",
    "    sample_lines[sample] = \"\\t\".join(sample_loc_lists[sample])"
   ]
  },
  {
   "cell_type": "code",
   "execution_count": 5,
   "metadata": {
    "collapsed": false
   },
   "outputs": [
    {
     "name": "stdout",
     "output_type": "stream",
     "text": [
      "['P1', 'P2', 'T10', 'T11', 'T12', 'T13', 'T14', 'T15', 'T16', 'T17', 'T18', 'T19', 'T1', 'T20', 'T21', 'T22', 'T23', 'T24', 'T25', 'T26', 'T27', 'T28', 'T29', 'T2', 'T30', 'T31', 'T32', 'T33', 'T34', 'T35', 'T36', 'T37', 'T38', 'T39', 'T3', 'T40', 'T41', 'T44', 'T45', 'T46', 'T47', 'T48', 'T49', 'T4', 'T50', 'T51', 'T52', 'T53', 'T54', 'T55', 'T56', 'T57', 'T58', 'T59', 'T5', 'T60', 'T61', 'T62', 'T63', 'T64', 'T6', 'T7', 'T8', 'T9']\n"
     ]
    }
   ],
   "source": [
    "samples = []\n",
    "\n",
    "for line in popmap:\n",
    "    samples.append(line.split()[0])\n",
    "print samples"
   ]
  },
  {
   "cell_type": "code",
   "execution_count": 6,
   "metadata": {
    "collapsed": false
   },
   "outputs": [],
   "source": [
    "outfile = open(\"/home/djeffrie/Data/RADseq/Riberica/Stacks_trimmed/IDd/FAMILY/LEPMAP/Riberica_lepmap_input.data\", 'w')\n",
    "\n",
    "for sample in samples:\n",
    "    outfile.write(\"%s\\t%s\\n\" % (sample, sample_lines[sample]))\n",
    "                  \n",
    "outfile.close()\n"
   ]
  }
 ],
 "metadata": {
  "kernelspec": {
   "display_name": "Python 2",
   "language": "python",
   "name": "python2"
  },
  "language_info": {
   "codemirror_mode": {
    "name": "ipython",
    "version": 2
   },
   "file_extension": ".py",
   "mimetype": "text/x-python",
   "name": "python",
   "nbconvert_exporter": "python",
   "pygments_lexer": "ipython2",
   "version": "2.7.10"
  }
 },
 "nbformat": 4,
 "nbformat_minor": 0
}
