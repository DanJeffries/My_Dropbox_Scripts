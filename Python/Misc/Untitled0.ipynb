{
 "metadata": {
  "name": "",
  "signature": "sha256:6cb536901eedba57258cefeef63680ad02ea2ac05e6fb7e2682cd723a9e98aea"
 },
 "nbformat": 3,
 "nbformat_minor": 0,
 "worksheets": [
  {
   "cells": [
    {
     "cell_type": "code",
     "collapsed": false,
     "input": [
      "consensuses = open(\"/Users/Dan/Dropbox/PhD/Dans_PhD_Shared/Data/mtDNA/GENBANK_SUBMISSION/consensuses.fasta\", 'r').readlines()\n",
      "labels = open(\"/Users/Dan/Dropbox/PhD/Dans_PhD_Shared/Thesis/Misc/mtdna_labels.txt\", 'r').readlines()"
     ],
     "language": "python",
     "metadata": {},
     "outputs": [],
     "prompt_number": 15
    },
    {
     "cell_type": "code",
     "collapsed": false,
     "input": [
      "for line in set(labels):\n",
      "    print line.strip()\n",
      "    \n",
      "    GBR6_03"
     ],
     "language": "python",
     "metadata": {},
     "outputs": [
      {
       "output_type": "stream",
       "stream": "stdout",
       "text": [
        "GODO\tHUN1\n",
        "SA\tFIN5\n",
        "POLEN\tPOL4\n",
        "UMCA\tSWE4\n",
        "CA-CR\tCZE1\n",
        "KAP\tSWE11\n",
        "AL\tSWE6\n",
        "FFG\tEST1\n",
        "BF\tGBR8\n",
        "TU\tPOL3\n",
        "VOLGA\tRUS3\n",
        "SK\tSWE8\n",
        "STEC\tSWE9\n",
        "NLP\tFIN1\n",
        "CA-LK\tCZE1\n",
        "OU\tFIN4\n",
        "OST\tSWE3\n",
        "SD\tSWE2\n",
        "EST\tEST1\n",
        "KARMA\tRUS2\n",
        "JAR\tNOR1\n",
        "UKR\tBLS\n",
        "MY-20\tRUS4\n",
        "MOAT\tGBR7\n",
        "VOLGA\tRUS3\n",
        "PRO\tRUS1\n",
        "RMCA\tGBR6\n",
        "2016\tGER1\n",
        "GEW3\tGER3\n",
        "GEW8\tGER4\n",
        "BOK\tBEL1\n"
       ]
      }
     ],
     "prompt_number": 23
    },
    {
     "cell_type": "code",
     "collapsed": false,
     "input": [
      "outfile = open(\"/Users/Dan/Dropbox/PhD/Dans_PhD_Shared/Data/mtDNA/GENBANK_SUBMISSION/Submitted_seqs.fasta\", 'w')\n",
      "\n",
      "for line in consensuses:\n",
      "    if line.startswith(\">\"):\n",
      "        #print line\n",
      "        numb = line.split(\"_\")[1]\n",
      "        #print numb\n",
      "        for lab in set(labels):\n",
      "            if line.startswith(\">\"+lab.split()[0]):\n",
      "                outfile.write(\"%s%s_%s\" %(\">\", lab.split()[1],numb))\n",
      "    else:\n",
      "        outfile.write(line)\n",
      "        \n",
      "outfile.close()\n",
      "\n"
     ],
     "language": "python",
     "metadata": {},
     "outputs": [],
     "prompt_number": 42
    }
   ],
   "metadata": {}
  }
 ]
}