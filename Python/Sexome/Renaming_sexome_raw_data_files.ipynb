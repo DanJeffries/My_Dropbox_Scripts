{
 "cells": [
  {
   "cell_type": "code",
   "execution_count": 12,
   "metadata": {},
   "outputs": [],
   "source": [
    "def file_renamer(wd, codes_path):\n",
    "\n",
    "    import os\n",
    "    import shutil\n",
    "\n",
    "    wd = \"/Users/danieljeffries/Dropbox/Misc/Sexome_test\"\n",
    "\n",
    "    filenames = os.listdir(wd)\n",
    "\n",
    "    ## remove anythng that isn't a fastq.gz file\n",
    "    \n",
    "    for fil in filenames:\n",
    "        if \"gz\" not in fil:\n",
    "            filenames.remove(fil)\n",
    "            \n",
    "    ## Get the codes for the samples (this is just a 2 column file, 1st col, is code, 2nd is real sample name)\n",
    "    \n",
    "    codes = open(codes_path, 'r').readlines()\n",
    "    \n",
    "    code_dict = {}\n",
    "    for code in codes:\n",
    "        code_dict[code.split()[0]] = code.split()[1]\n",
    "        \n",
    "    ## Use code dict to rename files with shutil\n",
    "    \n",
    "    logfile = open(\"%s/renaming.log\" % wd, 'w')  ## keep track in log file\n",
    "    counter += 1\n",
    "    \n",
    "    for fil in filenames:\n",
    "    \n",
    "        end = fil.split(\"_\")[2]\n",
    "        code = fil.split(\"_\")[4].split(\".\")[0]\n",
    "\n",
    "        shutil.move(\"%s/%s\" % (wd, fil), \"%s/%s_%s.fastq.gz\" % (wd, code_dict[code], end))\n",
    "        logfile.write(\"%s/%s renamed to %s/%s_%s\\n\" % (wd, fil,wd, code_dict[code], end))\n",
    "        counter += 1\n",
    "        \n",
    "    logfile.close()\n",
    "    \n",
    "    print \"%s files renamed in %s\" % (counter, wd)"
   ]
  },
  {
   "cell_type": "code",
   "execution_count": null,
   "metadata": {},
   "outputs": [],
   "source": []
  },
  {
   "cell_type": "code",
   "execution_count": null,
   "metadata": {},
   "outputs": [],
   "source": []
  }
 ],
 "metadata": {
  "kernelspec": {
   "display_name": "Python [conda env:py27]",
   "language": "python",
   "name": "conda-env-py27-py"
  },
  "language_info": {
   "codemirror_mode": {
    "name": "ipython",
    "version": 2
   },
   "file_extension": ".py",
   "mimetype": "text/x-python",
   "name": "python",
   "nbconvert_exporter": "python",
   "pygments_lexer": "ipython2",
   "version": "2.7.16"
  }
 },
 "nbformat": 4,
 "nbformat_minor": 4
}
