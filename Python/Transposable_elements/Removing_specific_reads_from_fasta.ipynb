{
 "cells": [
  {
   "cell_type": "markdown",
   "metadata": {},
   "source": [
    "### Removing mtDNA reads from a readpool of whole genome shotgun sequencing."
   ]
  },
  {
   "cell_type": "code",
   "execution_count": 26,
   "metadata": {
    "collapsed": true
   },
   "outputs": [],
   "source": [
    "from Bio import SeqIO\n",
    "import sys"
   ]
  },
  {
   "cell_type": "code",
   "execution_count": 28,
   "metadata": {
    "collapsed": false
   },
   "outputs": [],
   "source": [
    "def fasta_filter(readfile, filterreads, outfile):\n",
    "\n",
    "    \"\"\"\n",
    "    readfile = the file to be filtered\n",
    "    filterreads = the file containing the reads to be removed\n",
    "    outfile = the path to write the filtered read file to\n",
    "\n",
    "    \"\"\"\n",
    "\n",
    "    readfile = SeqIO.parse(readfile, \"fastq\")\n",
    "    filterreads = SeqIO.parse(filterreads, \"fastq\")\n",
    "    outfile = open(outfile , 'w')\n",
    "\n",
    "    filterread_IDs = []\n",
    "    for read in filterreads:\n",
    "        read_ID = read.id\n",
    "        if read_ID.endswith(\"/1\"):\n",
    "            read_ID = read_ID.rpartition(\"/1\")[0]\n",
    "        filterread_IDs.append(read_ID)\n",
    "\n",
    "    for record in readfile:\n",
    "        record_ID = record.id\n",
    "        if record_ID not in mtread_IDs:\n",
    "            SeqIO.write(record, outfile, \"fastq\")\n",
    "        else: \n",
    "            print record_ID\n",
    "\n",
    "    outfile.close()\n",
    "\n"
   ]
  },
  {
   "cell_type": "code",
   "execution_count": 30,
   "metadata": {
    "collapsed": false
   },
   "outputs": [
    {
     "ename": "AttributeError",
     "evalue": "'module' object has no attribute 'arv'",
     "output_type": "error",
     "traceback": [
      "\u001b[1;31m---------------------------------------------------------------------------\u001b[0m",
      "\u001b[1;31mAttributeError\u001b[0m                            Traceback (most recent call last)",
      "\u001b[1;32m<ipython-input-30-0ef58ba89f06>\u001b[0m in \u001b[0;36m<module>\u001b[1;34m()\u001b[0m\n\u001b[1;32m----> 1\u001b[1;33m \u001b[0mread_file\u001b[0m \u001b[1;33m=\u001b[0m \u001b[0msys\u001b[0m\u001b[1;33m.\u001b[0m\u001b[0marv\u001b[0m\u001b[1;33m[\u001b[0m\u001b[1;36m1\u001b[0m\u001b[1;33m]\u001b[0m\u001b[1;33m\u001b[0m\u001b[0m\n\u001b[0m\u001b[0;32m      2\u001b[0m \u001b[0mfilter_reads\u001b[0m \u001b[1;33m=\u001b[0m \u001b[0msys\u001b[0m\u001b[1;33m.\u001b[0m\u001b[0marv\u001b[0m\u001b[1;33m[\u001b[0m\u001b[1;36m2\u001b[0m\u001b[1;33m]\u001b[0m\u001b[1;33m\u001b[0m\u001b[0m\n\u001b[0;32m      3\u001b[0m \u001b[0mout_file\u001b[0m \u001b[1;33m=\u001b[0m \u001b[0msys\u001b[0m\u001b[1;33m.\u001b[0m\u001b[0marv\u001b[0m\u001b[1;33m[\u001b[0m\u001b[1;36m3\u001b[0m\u001b[1;33m]\u001b[0m\u001b[1;33m\u001b[0m\u001b[0m\n",
      "\u001b[1;31mAttributeError\u001b[0m: 'module' object has no attribute 'arv'"
     ]
    }
   ],
   "source": [
    "read_file = sys.arv[1]\n",
    "filter_reads = sys.arv[2]\n",
    "out_file = sys.arv[3]\n",
    "\n",
    "fasta_filter(read_file, filter_reads, out_file)"
   ]
  },
  {
   "cell_type": "markdown",
   "metadata": {},
   "source": [
    "shotgun = \"/home/djeffrie/Data/Transposable_elements/shotSpain0_1_test.fastq\"\n",
    "mtReads = \"/home/djeffrie/Data/Transposable_elements/mtreads_test.fastq\"\n",
    "filtered_shotgun = \"/home/djeffrie/Data/Transposable_elements/shotSpain0_1_mtDNA_filtered.fastq\"\n",
    "\n",
    "fasta_filter(shotgun, mtReads, filtered_shotgun)"
   ]
  }
 ],
 "metadata": {
  "kernelspec": {
   "display_name": "Python 2",
   "language": "python",
   "name": "python2"
  },
  "language_info": {
   "codemirror_mode": {
    "name": "ipython",
    "version": 2
   },
   "file_extension": ".py",
   "mimetype": "text/x-python",
   "name": "python",
   "nbconvert_exporter": "python",
   "pygments_lexer": "ipython2",
   "version": "2.7.10"
  }
 },
 "nbformat": 4,
 "nbformat_minor": 0
}
