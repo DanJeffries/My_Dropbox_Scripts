{
 "cells": [
  {
   "cell_type": "code",
   "execution_count": 1,
   "metadata": {
    "collapsed": false
   },
   "outputs": [],
   "source": [
    "%matplotlib inline\n",
    "from __future__ import division\n",
    "import random\n",
    "import numpy as np\n",
    "import vcf\n",
    "import gzip\n",
    "from Bio.Blast.Applications import NcbiblastnCommandline\n",
    "from Bio.Blast import NCBIXML\n",
    "import sys\n",
    "import os\n",
    "from Bio.Blast import NCBIXML\n",
    "from Bio import SeqIO\n",
    "import matplotlib\n",
    "from matplotlib import pyplot as plt"
   ]
  },
  {
   "cell_type": "code",
   "execution_count": 2,
   "metadata": {
    "collapsed": true
   },
   "outputs": [],
   "source": [
    "def DansBlastParse(blast_xml_output, best_hit_criteria, Eval_thresh):\n",
    "    \"\"\"\n",
    "    \n",
    "    Usage: BlastParseExtra.py  <blast_xml_output>  <best_hit_criteria>  <Evalue_threshold>\n",
    "    \n",
    "    <blast_xml_output>  -  Path should be absolute\n",
    "    <best_hit_criteria> -  Orders of magnitude higher that best hit has to be in multi\n",
    "    <Evalue_threshold>  -  (1e-20 is default)\n",
    "    \n",
    "    \n",
    "    This script first filters the mappings in the <blast_xml_output>, for only those where the\n",
    "    best hit is at least 5 orders of magnitude higher than the second.\n",
    "    \n",
    "    It will then retrieve a segment of the <genome_fasta> which is + and - the <window_size> around the \n",
    "    mapping coordinates for each query. If the ends of the scaffold are not within this window, then the \n",
    "    length of the segment will be (length of mapped query sequence + 2 x <window_size>). However if an end\n",
    "    of a scaffold is within this window, the segment will be trimmed to this length.\n",
    "    \n",
    "    \"\"\"\n",
    "\n",
    "    blast = NCBIXML.parse(open(blast_xml_output,\"r\"))\n",
    "\n",
    "    good_blast_counts = 0\n",
    "    uniq_counts = 0\n",
    "    \n",
    "    ## From Alan's script: Returns blast hits only when the best e-value is 5 orders of magnitude better than the second best.\n",
    "    for record in blast :\n",
    "        #print len(record.alignments)\n",
    "        if len(record.alignments)==1:  ## Extra else statement - this wasn't in Alan's original script.\n",
    "            if float(record.alignments[0].hsps[0].expect) < Eval_thresh:\n",
    "                subject = str(record.alignments[0].hit_def)\n",
    "                Evalue = float(record.alignments[0].hsps[0].expect)\n",
    "                Hit_start_coord = int(record.alignments[0].hsps[0].sbjct_start)\n",
    "                Hit_end_coord = int(record.alignments[0].hsps[0].sbjct_end)\n",
    "                #print \"Unique\\t%s\\t%s\\t%s\\t%s\\t%s\" % (record.query, subject, Evalue, Hit_start_coord, Hit_end_coord)\n",
    "                good_blast_counts += 1\n",
    "                uniq_counts += 1\n",
    "        \n",
    "        elif len(record.alignments)>1:\n",
    "            if all([record.alignments[0].hsps[0].expect < best_hit_criteria * record.alignments[1].hsps[0].expect, record.alignments[0].hsps[0].expect <= Eval_thresh]):\n",
    "                \n",
    "                subject = str(record.alignments[0].hit_def)\n",
    "                Evalue = float(record.alignments[0].hsps[0].expect)\n",
    "                Hit_start_coord = int(record.alignments[0].hsps[0].sbjct_start)\n",
    "                Hit_end_coord = int(record.alignments[0].hsps[0].sbjct_end)\n",
    "                #print \"Multi\\t%s\\t%s\\t%s\\t%s\\t%s\" % (record.query, subject, Evalue, Hit_start_coord, Hit_end_coord)\n",
    "                good_blast_counts += 1\n",
    "\n",
    "\n",
    "    #print \"Number of good blast hits:\", good_blast_counts\n",
    "    #print \"Number of unique mappings:\", uniq_counts\n",
    "    \n",
    "    return good_blast_counts"
   ]
  },
  {
   "cell_type": "markdown",
   "metadata": {},
   "source": [
    "1. Get sex linked tags\n",
    "2. Get 10 sets of the same number of non-sex linked tags\n",
    "3. blast all sets\n",
    "4. take all hits with more than 20 hits over 1e-20 as TE hits\n",
    "5. Plot N TE tags for each set"
   ]
  },
  {
   "cell_type": "code",
   "execution_count": 3,
   "metadata": {
    "collapsed": false
   },
   "outputs": [],
   "source": [
    "def TE_enrich(Sex_marker_path, VCF_path, catalog_path, TE_db, N_samples):\n",
    "    \n",
    "    SEXmarkers = open(Sex_marker_path, 'r').readlines()\n",
    "    \n",
    "    ## Get X linked marker IDs ----------------------------------------------------------------\n",
    "    \n",
    "    SEX_ids = []\n",
    "    for line in SEXmarkers:\n",
    "        if line.startswith(\">\"):\n",
    "            SEX_ids.append(line.strip().split(\"_\")[-1])\n",
    "\n",
    "    N_SEXlinked_markers = len(SEX_ids)\n",
    "    print \"%s X-linked markers\" % N_SEXlinked_markers\n",
    "    \n",
    "    \n",
    "    ## Get all loci IDs\n",
    "\n",
    "    VCF = open(VCF_path, 'r').readlines()\n",
    "\n",
    "    All_loci = []\n",
    "\n",
    "    for line in VCF:\n",
    "        if not line.startswith(\"#\"):\n",
    "            All_loci.append(line.split()[2])\n",
    "    All_loci = set(All_loci)\n",
    "\n",
    "    ## Get only those that are non X-linked\n",
    "    non_SEXlinked_loci = []\n",
    "    \n",
    "    for i in All_loci:\n",
    "        if i not in SEX_ids:\n",
    "            non_SEXlinked_loci.append(i)\n",
    "\n",
    "    non_SEXlinked_loci = set(non_SEXlinked_loci)\n",
    "    \n",
    "    \n",
    "    ## Make >N_samples< number of random sets of non sex linked markers (same number as N sex linked markers)\n",
    "    \n",
    "    Non_linked = {}\n",
    "    for i in range(1,N_samples,1):\n",
    "\n",
    "        Non_linked[i] = random.sample(non_SEXlinked_loci, N_SEXlinked_markers)\n",
    "        \n",
    "    \n",
    "    ### Now for every set, make a fasta, blast to TE library and filter the outputs for good hits\n",
    "\n",
    "    Non_SL_hits = []\n",
    "\n",
    "    ## Make FASTAs\n",
    "    catalog = open(catalog_path, 'r').readlines()\n",
    "    \n",
    "    outdir = catalog_path.rpartition(\"/\")[0]\n",
    "\n",
    "    for i in Non_linked:\n",
    "\n",
    "        non_SL_fasta = open(\"%s/Non_sexlinked_%s.fasta\" % (outdir,i),'w')\n",
    "        loc_counter = 0\n",
    "        for line in catalog:\n",
    "            locID = line.split()[2]\n",
    "            seq = line.split()[8]\n",
    "            if locID in Non_linked[i]:\n",
    "                loc_counter += 1\n",
    "                non_SL_fasta.write(\">%s\\n%s\\n\" % (locID, seq))\n",
    "        \n",
    "        non_SL_fasta.close()\n",
    "\n",
    "        blastout=\"%s/TE_blast_%s.xml\" % (outdir,i)\n",
    "\n",
    "        blastx_cline = NcbiblastnCommandline(query=\"%s/Non_sexlinked_%s.fasta\" % (outdir,i), db= TE_db, \\\n",
    "        evalue=1e-20, outfmt=5, out= blastout)\n",
    "        \n",
    "        stdout, stderr = blastx_cline()\n",
    "\n",
    "        Non_SL_hits.append(DansBlastParse(blastout, 1, 1e-20))\n",
    "\n",
    "        if i in range(0, N_samples+1, int(N_samples/20)):\n",
    "            print \"processed %s subsamples . . . \" % i\n",
    "        elif i == N_samples:\n",
    "            print \"DONE\"\n",
    "    \n",
    "    \n",
    "    ## Now blast the SL markers\n",
    "    \n",
    "    SL_blastout=\"%s/TE_blast_%s.xml\" % (outdir, \"Xlinked\")\n",
    "\n",
    "    blastx_cline = NcbiblastnCommandline(query= Sex_marker_path , db= TE_db, \\\n",
    "    evalue=1e-20, outfmt=5, out= SL_blastout)\n",
    "    stdout, stderr = blastx_cline()\n",
    "\n",
    "    SEXlinked_hits = DansBlastParse(SL_blastout, 1, 1e-20)\n",
    "    \n",
    "    \n",
    "    ## Now plot this info in a histogram and report means\n",
    "    \n",
    "    fig = plt.figure(figsize = (10,10))\n",
    "    plt.hist(Non_SL_hits, color=\"royalblue\")\n",
    "    plt.vlines(SEXlinked_hits, 0, N_samples/4, linestyles='solid', colors=\"red\" )\n",
    "    plt.xlabel(\"N TE hits per loci subsample\")\n",
    "    plt.ylabel(\"N subsamples\")\n",
    "    plt.show()\n",
    "    \n",
    "    print \"Mean number of Non sex linked loci that hit TEs = %s (+/- %s)\" % (np.mean(Non_SL_hits), np.std(Non_SL_hits))\n",
    "    print \"Number of Sex linked marker that hit TEs = %s\" % SEXlinked_hits\n",
    "    "
   ]
  },
  {
   "cell_type": "markdown",
   "metadata": {},
   "source": [
    "### Rarvalis (My analyses)"
   ]
  },
  {
   "cell_type": "code",
   "execution_count": 28,
   "metadata": {
    "collapsed": true
   },
   "outputs": [],
   "source": [
    "## Test parameters . . . \n",
    "\n",
    "Xmark_path = \"/home/djeffrie/Data/RADseq/Rarvalis/Final_populations_outs/Putative_XYlinked_makers.fa\"\n",
    "VCF_pth = \"/home/djeffrie/Data/RADseq/Rarvalis/Final_populations_outs/batch_1.vcf\"\n",
    "cat_path = \"/home/djeffrie/Data/RADseq/Rarvalis/Final_populations_outs/batch_1.catalog.tags.tsv\"\n",
    "TE_DB = \"/home/djeffrie/Desktop/For_Buisson/TEs/TE_catalog/Trinity.fasta\""
   ]
  },
  {
   "cell_type": "code",
   "execution_count": 29,
   "metadata": {
    "collapsed": false,
    "scrolled": false
   },
   "outputs": [
    {
     "name": "stdout",
     "output_type": "stream",
     "text": [
      "316 X-linked markers\n",
      "processed 10 subsamples . . . \n",
      "processed 20 subsamples . . . \n",
      "processed 30 subsamples . . . \n",
      "processed 40 subsamples . . . \n",
      "processed 50 subsamples . . . \n",
      "processed 60 subsamples . . . \n",
      "processed 70 subsamples . . . \n",
      "processed 80 subsamples . . . \n",
      "processed 90 subsamples . . . \n",
      "processed 100 subsamples . . . \n",
      "processed 110 subsamples . . . \n",
      "processed 120 subsamples . . . \n",
      "processed 130 subsamples . . . \n",
      "processed 140 subsamples . . . \n",
      "processed 150 subsamples . . . \n",
      "processed 160 subsamples . . . \n",
      "processed 170 subsamples . . . \n",
      "processed 180 subsamples . . . \n",
      "processed 190 subsamples . . . \n"
     ]
    },
    {
     "data": {
      "image/png": "[encoded data removed]",
      "text/plain": [
       "<matplotlib.figure.Figure at 0x7fe3222f26d0>"
      ]
     },
     "metadata": {},
     "output_type": "display_data"
    },
    {
     "name": "stdout",
     "output_type": "stream",
     "text": [
      "Mean number of Non sex linked loci that hit TEs = 27.5376884422 (+/- 4.7072420078)\n",
      "Number of Sex linked marker that hit TEs = 47\n"
     ]
    }
   ],
   "source": [
    "TE_enrich(Xmark_path,VCF_pth, cat_path, TE_DB, 200) ## All sex linked"
   ]
  },
  {
   "cell_type": "code",
   "execution_count": 31,
   "metadata": {
    "collapsed": false
   },
   "outputs": [
    {
     "name": "stdout",
     "output_type": "stream",
     "text": [
      "117 X-linked markers\n",
      "processed 10 subsamples . . . \n",
      "processed 20 subsamples . . . \n",
      "processed 30 subsamples . . . \n",
      "processed 40 subsamples . . . \n",
      "processed 50 subsamples . . . \n",
      "processed 60 subsamples . . . \n",
      "processed 70 subsamples . . . \n",
      "processed 80 subsamples . . . \n",
      "processed 90 subsamples . . . \n",
      "processed 100 subsamples . . . \n",
      "processed 110 subsamples . . . \n",
      "processed 120 subsamples . . . \n",
      "processed 130 subsamples . . . \n",
      "processed 140 subsamples . . . \n",
      "processed 150 subsamples . . . \n",
      "processed 160 subsamples . . . \n",
      "processed 170 subsamples . . . \n",
      "processed 180 subsamples . . . \n",
      "processed 190 subsamples . . . \n"
     ]
    },
    {
     "data": {
      "image/png": "[encoded data removed]",
      "text/plain": [
       "<matplotlib.figure.Figure at 0x7fe3260e8590>"
      ]
     },
     "metadata": {},
     "output_type": "display_data"
    },
    {
     "name": "stdout",
     "output_type": "stream",
     "text": [
      "Mean number of Non sex linked loci that hit TEs = 9.97487437186 (+/- 3.08088153202)\n",
      "Number of Sex linked marker that hit TEs = 16\n"
     ]
    }
   ],
   "source": [
    "Xmark_path = \"/home/djeffrie/Data/RADseq/Rarvalis/Final_populations_outs/Y_linked_only.fasta\"\n",
    "TE_enrich(Xmark_path,VCF_pth, cat_path, TE_DB, 200) ## Y linked only"
   ]
  },
  {
   "cell_type": "markdown",
   "metadata": {},
   "source": [
    "### Rdalmatina"
   ]
  },
  {
   "cell_type": "code",
   "execution_count": 16,
   "metadata": {
    "collapsed": true
   },
   "outputs": [],
   "source": [
    "## Test parameters . . . \n",
    "\n",
    "Xmark_path = \"/home/djeffrie/Data/RADseq/Rdalmatina/Incremental/Populations_tests/Y_linked_only.fasta\"\n",
    "VCF_pth = \"/home/djeffrie/Data/RADseq/Rdalmatina/Incremental/Populations_tests/batch_1.vcf\"\n",
    "cat_path = \"/home/djeffrie/Data/RADseq/Rdalmatina/Incremental/Populations_tests/batch_1.catalog.tags.tsv\"\n",
    "TE_DB = \"/home/djeffrie/Data/Transposable_elements/Rdal_RADtag_TE_enrichment_tests/Trinity.fasta\""
   ]
  },
  {
   "cell_type": "code",
   "execution_count": 17,
   "metadata": {
    "collapsed": false
   },
   "outputs": [
    {
     "name": "stdout",
     "output_type": "stream",
     "text": [
      "31 X-linked markers\n",
      "processed 10 subsamples . . . \n",
      "processed 20 subsamples . . . \n",
      "processed 30 subsamples . . . \n",
      "processed 40 subsamples . . . \n",
      "processed 50 subsamples . . . \n",
      "processed 60 subsamples . . . \n",
      "processed 70 subsamples . . . \n",
      "processed 80 subsamples . . . \n",
      "processed 90 subsamples . . . \n",
      "processed 100 subsamples . . . \n",
      "processed 110 subsamples . . . \n",
      "processed 120 subsamples . . . \n",
      "processed 130 subsamples . . . \n",
      "processed 140 subsamples . . . \n",
      "processed 150 subsamples . . . \n",
      "processed 160 subsamples . . . \n",
      "processed 170 subsamples . . . \n",
      "processed 180 subsamples . . . \n",
      "processed 190 subsamples . . . \n"
     ]
    },
    {
     "data": {
      "image/png": "[encoded data removed]",
      "text/plain": [
       "<matplotlib.figure.Figure at 0x7fe3225a3950>"
      ]
     },
     "metadata": {},
     "output_type": "display_data"
    },
    {
     "name": "stdout",
     "output_type": "stream",
     "text": [
      "Mean number of Non sex linked loci that hit TEs = 7.86934673367 (+/- 2.60710568941)\n",
      "Number of Sex linked marker that hit TEs = 8\n"
     ]
    }
   ],
   "source": [
    "TE_enrich(Xmark_path,VCF_pth, cat_path, TE_DB, 200) ## Y linked only"
   ]
  },
  {
   "cell_type": "code",
   "execution_count": 14,
   "metadata": {
    "collapsed": true
   },
   "outputs": [],
   "source": [
    "## Test parameters . . . \n",
    "\n",
    "Xmark_path = \"/home/djeffrie/Data/RADseq/Rdalmatina/Incremental/Populations_tests/Putative_XYlinked_makers.fa\"\n",
    "VCF_pth = \"/home/djeffrie/Data/RADseq/Rdalmatina/Incremental/Populations_tests/batch_1.vcf\"\n",
    "cat_path = \"/home/djeffrie/Data/RADseq/Rdalmatina/Incremental/Populations_tests/batch_1.catalog.tags.tsv\"\n",
    "TE_DB = \"/home/djeffrie/Data/Transposable_elements/Rdal_RADtag_TE_enrichment_tests/Trinity.fasta\""
   ]
  },
  {
   "cell_type": "code",
   "execution_count": 15,
   "metadata": {
    "collapsed": false
   },
   "outputs": [
    {
     "name": "stdout",
     "output_type": "stream",
     "text": [
      "217 X-linked markers\n",
      "processed 10 subsamples . . . \n",
      "processed 20 subsamples . . . \n",
      "processed 30 subsamples . . . \n",
      "processed 40 subsamples . . . \n",
      "processed 50 subsamples . . . \n",
      "processed 60 subsamples . . . \n",
      "processed 70 subsamples . . . \n",
      "processed 80 subsamples . . . \n",
      "processed 90 subsamples . . . \n",
      "processed 100 subsamples . . . \n",
      "processed 110 subsamples . . . \n",
      "processed 120 subsamples . . . \n",
      "processed 130 subsamples . . . \n",
      "processed 140 subsamples . . . \n",
      "processed 150 subsamples . . . \n",
      "processed 160 subsamples . . . \n",
      "processed 170 subsamples . . . \n",
      "processed 180 subsamples . . . \n",
      "processed 190 subsamples . . . \n"
     ]
    },
    {
     "data": {
      "image/png": "[encoded data removed]",
      "text/plain": [
       "<matplotlib.figure.Figure at 0x7fe3226ba310>"
      ]
     },
     "metadata": {},
     "output_type": "display_data"
    },
    {
     "name": "stdout",
     "output_type": "stream",
     "text": [
      "Mean number of Non sex linked loci that hit TEs = 54.9497487437 (+/- 6.3291212912)\n",
      "Number of Sex linked marker that hit TEs = 34\n"
     ]
    }
   ],
   "source": [
    "TE_enrich(Xmark_path,VCF_pth, cat_path, TE_DB, 200) ## All sex linked markers"
   ]
  },
  {
   "cell_type": "code",
   "execution_count": 34,
   "metadata": {
    "collapsed": false
   },
   "outputs": [
    {
     "name": "stdout",
     "output_type": "stream",
     "text": [
      "(-6.4092660739881957, 2.3633237802014072e-06)\n",
      "2.9\n",
      "0.7\n",
      "6.15384615385\n",
      "1.40582052942\n"
     ]
    }
   ],
   "source": [
    "from scipy import stats\n",
    "\n",
    "a = [2,3,4,3,2,3,4,2,3,3]\n",
    "b = [6,7,6,7,8,7,6,7,8,6,4,5,3]\n",
    "\n",
    "print stats.ttest_ind(a, b)\n",
    "print np.mean(a)\n",
    "print np.std(a)\n",
    "\n",
    "print np.mean(b)\n",
    "print np.std(b)"
   ]
  },
  {
   "cell_type": "markdown",
   "metadata": {},
   "source": [
    "Can continue to look for TE enrichment in the Y specific tags if there's time, but looking in the X linked tags is probably not so informative."
   ]
  }
 ],
 "metadata": {
  "kernelspec": {
   "display_name": "Python 2",
   "language": "python",
   "name": "python2"
  },
  "language_info": {
   "codemirror_mode": {
    "name": "ipython",
    "version": 2
   },
   "file_extension": ".py",
   "mimetype": "text/x-python",
   "name": "python",
   "nbconvert_exporter": "python",
   "pygments_lexer": "ipython2",
   "version": "2.7.14"
  }
 },
 "nbformat": 4,
 "nbformat_minor": 2
}
