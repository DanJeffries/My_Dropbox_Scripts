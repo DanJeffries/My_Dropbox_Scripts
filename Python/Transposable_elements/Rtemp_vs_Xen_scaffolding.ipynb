{
 "cells": [
  {
   "cell_type": "markdown",
   "metadata": {},
   "source": [
    "# Looking at the distribution of TEs in the temporaria genome.\n",
    "    \n",
    "    Here I want to use the TE library created by dnaPipeTE to find the distribution of TEs throughout the genome. \n",
    "    \n",
    "    The first step here is to assign <i>Rana temporaria</i> contigs to Xenopus chromosomes. To do this, I am blasting the \n",
    "    Xenopus exon sequences against the Rtemp genome. I will keep all contigs where one Xenopus exon hit confidently (more than 1e-5\n",
    "    times more likely. \n",
    "    \n",
    "    I will then give the repeat library that I created with dnaPipeTE to repeat masker, and the outputs of this will tell me the \n",
    "    distribution of those TEs on my scaffolds."
   ]
  },
  {
   "cell_type": "markdown",
   "metadata": {},
   "source": [
    "##1.   Blasting Xenopus exons to the current R. temporaria genome. \n",
    "\n",
    "I extracted the exons from the the Xenopus genome (v.9) using the gff gene annotation file. I gave this file and the genome fasta to bedtools. (Note - I modified this file so that the 2nd column contained the \"Name:\" of the sequence, and retained only \"gene\" lines, not CDS, RNA etc. This was necassary to get unique sequence names from the bedtools command below)\n",
    "\n",
    "    bedtools getfasta -fi Xtropicalis.v9.repeatMasked.fa -bed Unique_names_Xen_exons.gff3 -fo Xentrop_exons_unique_names.fa -name\n",
    "\n",
    "Used the Rtemp_new.fa genome version. \n",
    "\n",
    "Used the following blast command to map the Xen exons to the Rtemp scaffolds:\n",
    "\n",
    "    blastn -num_threads 6 -query Xentrop_exons.fa -db Rtemp_new.fa -out Rtemp_vs_xen_exons.xml -outfmt 5 > Rtemp_vs_xen.log\n"
   ]
  },
  {
   "cell_type": "markdown",
   "metadata": {},
   "source": [
    "##2. Sorting blast hits for only the best ones.\n",
    "\n",
    "I will do this with my BlastParse function, which will find matches with a best hit that is 1e-5 times better than the next best hit, or alignments where there is only one match. In both cases an e-value must be below 1e-20. \n"
   ]
  },
  {
   "cell_type": "code",
   "execution_count": 2,
   "metadata": {
    "collapsed": true
   },
   "outputs": [],
   "source": [
    "import MISC_RAD_tools as MISC"
   ]
  },
  {
   "cell_type": "code",
   "execution_count": 133,
   "metadata": {
    "collapsed": true
   },
   "outputs": [],
   "source": [
    "working_dir = \"/home/djeffrie/Data/Genomes/Rtemp_vs_Xen\"\n",
    "\n",
    "blast_output_path = \"%s/Rtemp_vs_xen_blast.xml\" % working_dir\n",
    "Rtemp_genome_path = \"%s/Rtemp_new.fa\" % working_dir\n",
    "best_hit_eval_difference = 1e-5\n",
    "Evalue_threshold = 1e-20\n",
    "Scaff_window_size = 1000000000 ## Set to 1 Gb so I get the whole scaffold!"
   ]
  },
  {
   "cell_type": "code",
   "execution_count": 134,
   "metadata": {
    "collapsed": false
   },
   "outputs": [
    {
     "name": "stdout",
     "output_type": "stream",
     "text": [
      "Number of multi-alingments kept: 3224\n",
      "Number of unique alingments kept: 1124\n",
      "Getting subject scaffold segments from /home/djeffrie/Data/Genomes/Rtemp_vs_Xen/Rtemp_new.fa . . . \n",
      "4348 sequence scaffold segments are in /home/djeffrie/Data/Genomes/Rtemp_vs_Xen/blast_1000000000_chunks.fa\n"
     ]
    }
   ],
   "source": [
    "retained_blast_hits = MISC.BlastParseExtra(blast_output_path,Rtemp_genome_path,best_hit_eval_difference,Evalue_threshold,Scaff_window_size)"
   ]
  },
  {
   "cell_type": "markdown",
   "metadata": {},
   "source": [
    "To start with, there were <b>1751062 scaffolds</b> in the Rtemp genome and <b>26,550 exons</b> in from the Xenopus genome.\n",
    "\n",
    "Combining the multiple hits and unique hits, <b>I retained 4348 scaffolds</b>. Thats <b>0.25% of the temporaria scaffolds</b> and <b>16.4% of the Xenopus exons</b>. \n",
    "\n",
    "So these are small representations, but the TEs are so prolific, it could still give a good idea of how abundant they are on each chromosome. Just need to be careful to scale by the amount of info on each chromosome!\n"
   ]
  },
  {
   "cell_type": "markdown",
   "metadata": {},
   "source": [
    "Ok, took about 2 hours, but it finished. This is now hopefully a concervative subset of scaffolds that match between Rtemporaria and Xenopus. \n",
    "\n",
    "The only chance that error can creep in from this stage is from mis-assembled scaffolds. But I can't do anythin about this until the better genome arrives. \n"
   ]
  },
  {
   "cell_type": "markdown",
   "metadata": {},
   "source": [
    "### However . . . . \n",
    "\n",
    "I think that I am in danger of excluding regions where the X and the Y are particularly diverged in our Spain genome. "
   ]
  },
  {
   "cell_type": "code",
   "execution_count": 147,
   "metadata": {
    "collapsed": true
   },
   "outputs": [],
   "source": [
    "scaff_to_exons_table = open(\"/home/djeffrie/Data/Genomes/Rtemp_vs_Xen/Rtemp_scaff_to_Xen_exon_blastparseextra.txt\", 'w')"
   ]
  },
  {
   "cell_type": "code",
   "execution_count": 150,
   "metadata": {
    "collapsed": false
   },
   "outputs": [
    {
     "ename": "ValueError",
     "evalue": "I/O operation on closed file",
     "output_type": "error",
     "traceback": [
      "\u001b[1;31m---------------------------------------------------------------------------\u001b[0m",
      "\u001b[1;31mValueError\u001b[0m                                Traceback (most recent call last)",
      "\u001b[1;32m<ipython-input-150-4f7016de27d9>\u001b[0m in \u001b[0;36m<module>\u001b[1;34m()\u001b[0m\n\u001b[0;32m      1\u001b[0m \u001b[1;32mfor\u001b[0m \u001b[0mexon\u001b[0m \u001b[1;32min\u001b[0m \u001b[0mretained_blast_hits\u001b[0m\u001b[1;33m:\u001b[0m\u001b[1;33m\u001b[0m\u001b[0m\n\u001b[1;32m----> 2\u001b[1;33m     \u001b[0mscaff_to_exons_table\u001b[0m\u001b[1;33m.\u001b[0m\u001b[0mwrite\u001b[0m\u001b[1;33m(\u001b[0m\u001b[1;34m\"%s\\t%s\\n\"\u001b[0m \u001b[1;33m%\u001b[0m \u001b[1;33m(\u001b[0m\u001b[0mexon\u001b[0m\u001b[1;33m.\u001b[0m\u001b[0msplit\u001b[0m\u001b[1;33m(\u001b[0m\u001b[1;34m\"=\"\u001b[0m\u001b[1;33m)\u001b[0m\u001b[1;33m[\u001b[0m\u001b[1;36m1\u001b[0m\u001b[1;33m]\u001b[0m\u001b[1;33m,\u001b[0m \u001b[0mretained_blast_hits\u001b[0m\u001b[1;33m[\u001b[0m\u001b[0mexon\u001b[0m\u001b[1;33m]\u001b[0m\u001b[1;33m[\u001b[0m\u001b[1;34m\"Ref_hit_id\"\u001b[0m\u001b[1;33m]\u001b[0m\u001b[1;33m)\u001b[0m\u001b[1;33m)\u001b[0m\u001b[1;33m\u001b[0m\u001b[0m\n\u001b[0m\u001b[0;32m      3\u001b[0m \u001b[1;33m\u001b[0m\u001b[0m\n\u001b[0;32m      4\u001b[0m \u001b[0mscaff_to_exons_table\u001b[0m\u001b[1;33m.\u001b[0m\u001b[0mclose\u001b[0m\u001b[1;33m(\u001b[0m\u001b[1;33m)\u001b[0m\u001b[1;33m\u001b[0m\u001b[0m\n",
      "\u001b[1;31mValueError\u001b[0m: I/O operation on closed file"
     ]
    }
   ],
   "source": [
    "for exon in retained_blast_hits:\n",
    "    scaff_to_exons_table.write(\"%s\\t%s\\n\" % (exon.split(\"=\")[1], retained_blast_hits[exon][\"Ref_hit_id\"]))\n",
    "                                              \n",
    "scaff_to_exons_table.close()"
   ]
  },
  {
   "cell_type": "code",
   "execution_count": 146,
   "metadata": {
    "collapsed": false
   },
   "outputs": [
    {
     "name": "stdout",
     "output_type": "stream",
     "text": [
      "LOC100494812-like scaffold121.1|size320889\n"
     ]
    }
   ],
   "source": [
    "retained_blast_hits[retained_blast_hits.keys()[0]]\n",
    "\n",
    "print retained_blast_hits.keys()[0].split(\"=\")[1], retained_blast_hits[retained_blast_hits.keys()[0]][\"Ref_hit_id\"]"
   ]
  }
 ],
 "metadata": {
  "kernelspec": {
   "display_name": "Python 2",
   "language": "python",
   "name": "python2"
  },
  "language_info": {
   "codemirror_mode": {
    "name": "ipython",
    "version": 2
   },
   "file_extension": ".py",
   "mimetype": "text/x-python",
   "name": "python",
   "nbconvert_exporter": "python",
   "pygments_lexer": "ipython2",
   "version": "2.7.10"
  }
 },
 "nbformat": 4,
 "nbformat_minor": 0
}
