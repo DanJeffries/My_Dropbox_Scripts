{
 "cells": [
  {
   "cell_type": "code",
   "execution_count": 1,
   "metadata": {},
   "outputs": [
    {
     "data": {
      "text/plain": [
       "['',\n",
       " '/home/djeffrie/Dropbox/My_Dropbox_Scripts/Misc',\n",
       " '/home/djeffrie/Dropbox/My_Dropbox_Scripts/Genemodels',\n",
       " '/home/djeffrie/Dropbox/My_Dropbox_Scripts/Windows',\n",
       " '/home/djeffrie/Dropbox/My_Dropbox_Scripts/Triploid_gibel',\n",
       " '/home/djeffrie/Dropbox/My_Dropbox_Scripts/Incremental',\n",
       " '/home/djeffrie/Dropbox/My_Dropbox_Scripts/RAD-seq/Frog_sex_chromosomes',\n",
       " '/home/djeffrie/Dropbox/My_Dropbox_Scripts/RAD-seq/Misc_conversion_scripts',\n",
       " '/home/djeffrie/Dropbox/My_Dropbox_Scripts/RAD-seq/MISC',\n",
       " '/home/djeffrie/Dropbox/My_Dropbox_Scripts/RAD-seq/Stacks_sum_stats',\n",
       " '/home/djeffrie/Dropbox/My_Dropbox_Scripts/RAD-seq/Stacks_script_makers',\n",
       " '/home/djeffrie/Dropbox/My_Dropbox_Scripts/dadi',\n",
       " '/home/djeffrie/Dropbox/My_Dropbox_Scripts/Python/My_Modules/Incremental',\n",
       " '/home/djeffrie/Dropbox/My_Dropbox_Scripts/Python/My_Modules',\n",
       " '/home/djeffrie/anaconda3/envs/py27/lib/python27.zip',\n",
       " '/home/djeffrie/anaconda3/envs/py27/lib/python2.7',\n",
       " '/home/djeffrie/anaconda3/envs/py27/lib/python2.7/plat-linux2',\n",
       " '/home/djeffrie/anaconda3/envs/py27/lib/python2.7/lib-tk',\n",
       " '/home/djeffrie/anaconda3/envs/py27/lib/python2.7/lib-old',\n",
       " '/home/djeffrie/anaconda3/envs/py27/lib/python2.7/lib-dynload',\n",
       " '/home/djeffrie/.local/lib/python2.7/site-packages',\n",
       " '/home/djeffrie/anaconda3/envs/py27/lib/python2.7/site-packages',\n",
       " '/home/djeffrie/anaconda3/envs/py27/lib/python2.7/site-packages/IPython/extensions',\n",
       " '/home/djeffrie/.ipython']"
      ]
     },
     "execution_count": 1,
     "metadata": {},
     "output_type": "execute_result"
    }
   ],
   "source": [
    "import sys\n",
    "sys.path"
   ]
  }
 ],
 "metadata": {
  "kernelspec": {
   "display_name": "Python 2",
   "language": "python",
   "name": "python2"
  },
  "language_info": {
   "codemirror_mode": {
    "name": "ipython",
    "version": 2
   },
   "file_extension": ".py",
   "mimetype": "text/x-python",
   "name": "python",
   "nbconvert_exporter": "python",
   "pygments_lexer": "ipython2",
   "version": "2.7.14"
  }
 },
 "nbformat": 4,
 "nbformat_minor": 2
}
