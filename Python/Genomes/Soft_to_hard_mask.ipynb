{
 "cells": [
  {
   "cell_type": "code",
   "execution_count": 55,
   "metadata": {},
   "outputs": [],
   "source": [
    "from Bio import SeqIO\n",
    "from Bio import Seq\n",
    "import sys"
   ]
  },
  {
   "cell_type": "code",
   "execution_count": 70,
   "metadata": {},
   "outputs": [],
   "source": [
    "def harder(myrecord):\n",
    "\n",
    "    new_seq = []\n",
    "\n",
    "    for i in myrecord.seq:\n",
    "        if i.isupper():\n",
    "            new_seq.append(i)\n",
    "        elif i.islower():\n",
    "            new_seq.append(\"N\")\n",
    "\n",
    "    myrecord.seq = Seq.Seq(\"\".join(new_seq))\n",
    "\n",
    "    return myrecord"
   ]
  },
  {
   "cell_type": "code",
   "execution_count": 73,
   "metadata": {},
   "outputs": [
    {
     "name": "stdout",
     "output_type": "stream",
     "text": [
      "500 Sequences processed\n",
      "1000 Sequences processed\n",
      "1500 Sequences processed\n",
      "2000 Sequences processed\n",
      "2500 Sequences processed\n",
      "3000 Sequences processed\n",
      "3500 Sequences processed\n",
      "4000 Sequences processed\n",
      "4500 Sequences processed\n",
      "5000 Sequences processed\n",
      "5500 Sequences processed\n",
      "6000 Sequences processed\n",
      "6500 Sequences processed\n",
      "7000 Sequences processed\n",
      "7500 Sequences processed\n"
     ]
    }
   ],
   "source": [
    "genome = SeqIO.parse(open(\"/home/djeffrie/Data/M_huetii_genome/REDmasked.softmasked.fa\", 'r'), \"fasta\")\n",
    "hardmasked = open(\"/home/djeffrie/Data/M_huetii_genome/REDmasked.hardmasked.fa\", 'w')\n",
    "\n",
    "counter = 0\n",
    "printcounter = 0\n",
    "for record in genome:\n",
    "    \n",
    "    counter += 1\n",
    "    printcounter += 1\n",
    "    \n",
    "    if printcounter == 500:\n",
    "        print \"%s Sequences processed\" % counter\n",
    "        printcounter = 0\n",
    "    \n",
    "    new_record = harder(record)\n",
    "    \n",
    "    SeqIO.write(new_record, hardmasked, \"fasta\")\n",
    "    \n"
   ]
  },
  {
   "cell_type": "code",
   "execution_count": null,
   "metadata": {},
   "outputs": [],
   "source": [
    "### cline version\n",
    "from Bio import SeqIO\n",
    "from Bio import Seq\n",
    "import sys\n",
    "import gzip\n",
    "\n",
    "## define recplacement function\n",
    "\n",
    "def harder(myrecord):\n",
    "\n",
    "    new_seq = []\n",
    "\n",
    "    for i in myrecord.seq:\n",
    "        if i.isupper():\n",
    "            new_seq.append(i)\n",
    "        elif i.islower():\n",
    "            new_seq.append(\"N\")\n",
    "\n",
    "    myrecord.seq = Seq.Seq(\"\".join(new_seq))\n",
    "\n",
    "    return myrecord\n",
    "\n",
    "\n",
    "## Parse the command line options\n",
    "\n",
    "if len(sys.argv) != 2:\n",
    "    print \"USAGE:    harder.py < full/path/to/genome.fa >\"\n",
    "\n",
    "genome_path = sys.argv()0\n",
    "\n",
    "if genom_path.endswith(\"gz\"):\n",
    "    genome = SeqIO.parse(gzip.open(genome_path, 'r'), \"fasta\")\n",
    "else:\n",
    "    genome = SeqIO.parse(open(genome_path, 'r'), \"fasta\")\n",
    "\n",
    "## Output path is the same place as the input file\n",
    "\n",
    "outpath = \"%s/%s\" % (genome_path.rpartition(\"/\")[0], \"hardmasked.fa\"\n",
    "\n",
    "hardmasked = open(outpath, 'w')\n",
    "\n",
    "counter = 0\n",
    "printcounter = 0\n",
    "                     \n",
    "for record in genome:\n",
    "    \n",
    "    counter += 1\n",
    "    printcounter += 1\n",
    "    \n",
    "    if printcounter == 500:\n",
    "        print \"%s Sequences processed\" % counter\n",
    "        printcounter = 0\n",
    "    \n",
    "    new_record = harder(record)\n",
    "    \n",
    "    SeqIO.write(new_record, hardmasked, \"fasta\")\n",
    "                     \n",
    "hardmasked.close()\n",
    "                     \n",
    "print \"Hard masked genome is here %s\" % outpath"
   ]
  }
 ],
 "metadata": {
  "kernelspec": {
   "display_name": "Python 2",
   "language": "python",
   "name": "python2"
  },
  "language_info": {
   "codemirror_mode": {
    "name": "ipython",
    "version": 2
   },
   "file_extension": ".py",
   "mimetype": "text/x-python",
   "name": "python",
   "nbconvert_exporter": "python",
   "pygments_lexer": "ipython2",
   "version": "2.7.14"
  }
 },
 "nbformat": 4,
 "nbformat_minor": 2
}
