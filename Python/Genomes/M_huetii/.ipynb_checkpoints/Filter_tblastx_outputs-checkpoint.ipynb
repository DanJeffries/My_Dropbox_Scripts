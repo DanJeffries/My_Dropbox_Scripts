{
 "cells": [
  {
   "cell_type": "markdown",
   "metadata": {},
   "source": [
    "## Here I want to filter the tblastx hits from mapping M. annua transcripts to the M. huetii genome"
   ]
  },
  {
   "cell_type": "markdown",
   "metadata": {},
   "source": [
    "Test, is the highest scoring hsp of an alignment 5e10 higher in its evalue to the next one, and is the alignment > 70% of the query length. "
   ]
  },
  {
   "cell_type": "code",
   "execution_count": 119,
   "metadata": {},
   "outputs": [],
   "source": [
    "from Bio.Blast import NCBIXML\n",
    "import sys\n",
    "\n",
    "def Blast_filter(in_path, eval_thresh = 1e-100, len_thresh = 0.1, out_path = None):\n",
    "\n",
    "    \"\"\"\n",
    "    \n",
    "    \\nUsage: Blast_filter.py <full_in_path> [eval_thresh] [len_thresh] [out_path]\n",
    "    \n",
    "    eval_thresh -  The threshold value for the blast hit (Default: 1e-100)\n",
    "    len_thresh  -  The percentage of the query length which must match (Default 0.1)\n",
    "    \n",
    "    \"\"\"\n",
    "    \n",
    "    Kept = {}\n",
    "\n",
    "    blastouts = NCBIXML.parse(open(in_path, 'r'))\n",
    "\n",
    "    if out_path == None:\n",
    "        output_path = \"%s/Kept_blast_hits.txt\" % in_path.rpartition(\"/\")[0]\n",
    "    \n",
    "    #eval_thresh = 1e-100\n",
    "    #len_thresh = 0.1\n",
    "    \n",
    "    eval_passes = 0\n",
    "    length_passes = 0\n",
    "    N_records = 0 \n",
    "\n",
    "    for record in blastouts:\n",
    "\n",
    "        N_records += 1\n",
    "\n",
    "        ID = record.query\n",
    "        query_length = record.query_length\n",
    "\n",
    "        eval_test = False\n",
    "        align_length_test = False\n",
    "\n",
    "        if len(record.alignments) == 1:\n",
    "            evalue_1 = record.alignments[0].hsps[0].expect\n",
    "\n",
    "            if evalue_1 < eval_thresh:\n",
    "                eval_test = True\n",
    "                eval_passes += 1\n",
    "\n",
    "        elif len(record.alignments) > 1:\n",
    "\n",
    "            evalue_2 = record.alignments[1].hsps[0].expect*1e-10\n",
    "\n",
    "            if evalue_1 < evalue_2*1e-10 and evalue_1 < eval_thresh:\n",
    "                eval_test = True\n",
    "                eval_passes += 1\n",
    "\n",
    "        query_length = record.query_length\n",
    "        align_length=  record.alignments[0].hsps[0].align_length\n",
    "\n",
    "        if align_length > len_thresh*query_length:\n",
    "            align_length_test = True\n",
    "            align_length_test += 1\n",
    "\n",
    "        if eval_test and align_length_test:\n",
    "            Kept[ID] = record.alignments[0].hit_def\n",
    "\n",
    "    print \"%s Blast hits passed the filters\" % len(Kept)\n",
    "    \n",
    "    ## output the kept query-subject pairs to a file\n",
    "    \n",
    "    print \"Writing to file\"\n",
    "    \n",
    "    outfile = open(output_path, 'w')\n",
    "    \n",
    "    for query in Kept:\n",
    "        outfile.write(\"%s\\t%s\\n\" % (query, Kept[query]))\n",
    "                      \n",
    "    outfile.close()\n",
    "                      \n",
    "    \n",
    "    "
   ]
  },
  {
   "cell_type": "code",
   "execution_count": 118,
   "metadata": {},
   "outputs": [
    {
     "name": "stdout",
     "output_type": "stream",
     "text": [
      "Help on function Blast_filter in module __main__:\n",
      "\n",
      "Blast_filter(in_path, eval_thresh=1e-100, len_thresh=0.1, out_path=None)\n",
      "        \n",
      "    Usage: Blast_filter.py <full_in_path> <eval_thresh> <len_thresh> [out_path]\n",
      "        \n",
      "        eval_thresh -  The threshold value for the blast hit (Default: 1e-100)\n",
      "        len_thresh  -  The percentage of the query length which must match (Default 0.1)\n",
      "\n"
     ]
    }
   ],
   "source": [
    "help(Blast_filter)"
   ]
  },
  {
   "cell_type": "code",
   "execution_count": 120,
   "metadata": {},
   "outputs": [
    {
     "ename": "SystemExit",
     "evalue": "Too many arguments\n\n    \n    \nUsage: Blast_filter.py <full_in_path> [eval_thresh] [len_thresh] [out_path]\n    \n    eval_thresh -  The threshold value for the blast hit (Default: 1e-100)\n    len_thresh  -  The percentage of the query length which must match (Default 0.1)\n    \n    ",
     "output_type": "error",
     "traceback": [
      "An exception has occurred, use %tb to see the full traceback.\n",
      "\u001b[0;31mSystemExit\u001b[0m\u001b[0;31m:\u001b[0m Too many arguments\n\n    \n    \nUsage: Blast_filter.py <full_in_path> [eval_thresh] [len_thresh] [out_path]\n    \n    eval_thresh -  The threshold value for the blast hit (Default: 1e-100)\n    len_thresh  -  The percentage of the query length which must match (Default 0.1)\n    \n    \n"
     ]
    },
    {
     "name": "stderr",
     "output_type": "stream",
     "text": [
      "/Users/danieljeffries/anaconda2/lib/python2.7/site-packages/IPython/core/interactiveshell.py:2889: UserWarning: To exit: use 'exit', 'quit', or Ctrl-D.\n",
      "  warn(\"To exit: use 'exit', 'quit', or Ctrl-D.\", stacklevel=1)\n"
     ]
    }
   ],
   "source": [
    "## Cline\n",
    "\n",
    "#input_path = \"/Users/danieljeffries/Data/M_huetii_genome/M_annua_homologs/Transcript_subset_to_huetii_purged_tblastx.xml\"\n",
    "\n",
    "if len(sys.argv) == 1:\n",
    "    sys.exit(\"Only one argument given\\n%s\" %  Blast_filter.__doc__)\n",
    "\n",
    "elif len(sys.argv) == 2:\n",
    "    in_path = sys.argv[1]\n",
    "    \n",
    "    Blast_filter(in_path)\n",
    "    \n",
    "elif len(sys.argv) == 4:\n",
    "    in_path = sys.argv[1]\n",
    "    expect_thresh = sys.argv[2]\n",
    "    length_thresh = sys.argv[3]\n",
    "    \n",
    "    Blast_filter(in_path, expect_thresh, length_thresh)\n",
    "    \n",
    "elif len(sys.argv) == 5:\n",
    "    in_path = sys.argv[1]\n",
    "    expect_thresh = sys.argv[2]\n",
    "    length_thresh = sys.argv[3]\n",
    "    output_path = sys.argv[4]\n",
    "    \n",
    "    Blast_filter(in_path, expect_thresh, length_thresh, output_path)\n",
    "\n",
    "else:\n",
    "    sys.exit(\"Too many arguments\\n%s\" %  Blast_filter.__doc__)\n",
    "\n",
    "\n"
   ]
  },
  {
   "cell_type": "code",
   "execution_count": 106,
   "metadata": {},
   "outputs": [
    {
     "data": {
      "text/plain": [
       "{u'comp16_c0_seq1_m.2': u'ctg110',\n",
       " u'comp40_c0_seq1_m.3': u'ctg1431',\n",
       " u'comp44_c0_seq1_m.4': u'ctg321',\n",
       " u'comp46_c0_seq1_m.7': u'ctg791'}"
      ]
     },
     "execution_count": 106,
     "metadata": {},
     "output_type": "execute_result"
    }
   ],
   "source": [
    "Kept"
   ]
  }
 ],
 "metadata": {
  "anaconda-cloud": {},
  "kernelspec": {
   "display_name": "Python [conda env:anaconda2]",
   "language": "python",
   "name": "conda-env-anaconda2-py"
  },
  "language_info": {
   "codemirror_mode": {
    "name": "ipython",
    "version": 2
   },
   "file_extension": ".py",
   "mimetype": "text/x-python",
   "name": "python",
   "nbconvert_exporter": "python",
   "pygments_lexer": "ipython2",
   "version": "2.7.12"
  }
 },
 "nbformat": 4,
 "nbformat_minor": 1
}
