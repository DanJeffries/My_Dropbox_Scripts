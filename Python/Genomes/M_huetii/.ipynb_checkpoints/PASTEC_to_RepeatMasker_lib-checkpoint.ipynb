{
 "cells": [
  {
   "cell_type": "markdown",
   "metadata": {},
   "source": [
    "To mask with a repeat library, I need to make a fasta with the PASTEC classifications in the headers. RepMask will then hopefully create meaningful output. "
   ]
  },
  {
   "cell_type": "markdown",
   "metadata": {},
   "source": [
    "One thing to think about though is that the PASTC classifications have a confidence index. So if a CI is low, I could decide for example, not to keep the annotation, and class it as \"No category\". But what CI do I use as a cut off? \n",
    "\n",
    "So, the first thing I think I'll do is make a histogram of the CI's to see if there are any values which stick out. \n",
    "\n"
   ]
  },
  {
   "cell_type": "code",
   "execution_count": 1,
   "metadata": {},
   "outputs": [],
   "source": [
    "from matplotlib import pyplot as plt"
   ]
  },
  {
   "cell_type": "markdown",
   "metadata": {},
   "source": [
    "### The output of PASTEC looks like this:\n",
    "\n",
    "1. sequence name\n",
    "2. sequence length\n",
    "3. strand : \"+\" or \"-\" or \".\"\n",
    "4. \"ok\" or \"PotentialChimeric\":\n",
    "5. \"ok\" means that only one classification was found\n",
    "6. \"PotentialChimeric\" means that several classifications are possible for this sequence. In this case, the best 7. classification is given according to the confidence index. If no decision is possible, all the classifications are returned in the \"order\" field (separated by \"|\").\n",
    "8. class classification : \"I\" or \"II\" or \"noCat\" or \"NA\"\n",
    "9. order classification (\"LTR\" and/or \"TIR\" and/or \"LINE\" and/or \"Crypton\",...) or \"PotentialHostGene\" or \"rDNA\" or \"SSR\" or \"noCat\"\n",
    "10. completeness : \"complete\" or \"incomplete\" or \"NA\"\n",
    "11. confidence index (\"CI=\") and evidences. The confidence index is computed according to the evidence found for this classification (the best CI is 100). The evidences are separated in 2 types : structural (\"struct=\") and homology (\"coding=\"). The evidences unused for the considered classification are in \"other=\" section.\n",
    "\n",
    "\"noCat\" means that no classification was found at this level.\n",
    "\"NA\" means \"not available\", according to the information in the \"order\" field."
   ]
  },
  {
   "cell_type": "markdown",
   "metadata": {},
   "source": [
    "### And the recommended format for IDs in a custom library is:\n",
    "\n",
    "`repeatname#class/subclass`  \n",
    "or simply  \n",
    "`repeatname#class`  \n",
    "\n",
    "In this format, the data will be processed (overlapping repeats are\n",
    "merged etc), alternative output (.ace or .gff) can be created and an\n",
    "overview .tbl file will be created. Classes that will be displayed in\n",
    "the .tbl file are 'SINE', 'LINE', 'LTR', 'DNA', 'Satellite', anything\n",
    "with 'RNA' in it, 'Simple_repeat', and 'Other' or 'Unknown' (the\n",
    "latter defaults when class is missing). Subclasses are plentiful. They\n",
    "are not all tabulated in the .tbl file or necessarily spelled\n",
    "identically as in the repeat files, so check the RepeatMasker.embl\n",
    "file for names that can be parsed into the .tbl file."
   ]
  },
  {
   "cell_type": "markdown",
   "metadata": {},
   "source": [
    "So below I'll parse the PASTEC output and construct the header in that format."
   ]
  },
  {
   "cell_type": "code",
   "execution_count": 29,
   "metadata": {},
   "outputs": [],
   "source": [
    "PASTEClassifications = open(\"/Users/danieljeffries/Data/M_huetii_genome/PASTEC/PASTEC_homology_1.classif\", 'r').readlines()\n",
    "headers = {}\n",
    "\n",
    "for line in PASTEClassifications:\n",
    "        \n",
    "    seq_id = line.split()[0] \n",
    "    rep_class = line.split()[4]\n",
    "    rep_order = line.split()[5]\n",
    "    \n",
    "    if rep_class == \"noCat\":\n",
    "        rep_class = \"Unknown\"\n",
    "    if rep_order == \"noCat\":\n",
    "        rep_order = \"Unknown\"\n",
    "    \n",
    "    ## Find the subclass. From the PASTEC output for mercurialis I only see Gypsy & Copia, so I only look for these\n",
    "    \n",
    "    subclass = \"Unknown\"\n",
    "    \n",
    "    for i in line.split():\n",
    "        if \"Gypsy\" in i:\n",
    "            subclass = \"Gypsy\"\n",
    "        elif \"Copia\" in i:\n",
    "            subclass = \"Copia\"        \n",
    "    \n",
    "    headers[seq_id] = \"%s#%s/%s\" % (seq_id, rep_order, subclass)"
   ]
  },
  {
   "cell_type": "markdown",
   "metadata": {},
   "source": [
    "### No go through the replong fasta file and change the headers"
   ]
  },
  {
   "cell_type": "markdown",
   "metadata": {},
   "source": [
    "I'll also remove the sequences that were annotated as potential host genes"
   ]
  },
  {
   "cell_type": "code",
   "execution_count": 31,
   "metadata": {},
   "outputs": [],
   "source": [
    "from Bio import SeqIO\n",
    "\n",
    "fasta = SeqIO.parse(open(\"/Users/danieljeffries/Data/M_huetii_genome/M_annua_homologs/result.fa\", 'r'), \"fasta\")\n",
    "out_fasta_handle = open(\"/Users/danieljeffries/Data/M_huetii_genome/M_annua_homologs/result_classif.fa\", 'w')\n",
    "\n",
    "for seq in fasta:\n",
    "    if seq.id in headers:\n",
    "        if \"PotentialHostGene\" not in headers[seq.id]:\n",
    "            seq.id = headers[seq.id]\n",
    "            SeqIO.write(seq, out_fasta_handle, \"fasta\")\n",
    "        \n",
    "out_fasta_handle.close()"
   ]
  },
  {
   "cell_type": "markdown",
   "metadata": {},
   "source": [
    "Ended up with 1619 sequences (-270 host gene sequences). "
   ]
  }
 ],
 "metadata": {
  "kernelspec": {
   "display_name": "Python [conda env:anaconda2]",
   "language": "python",
   "name": "conda-env-anaconda2-py"
  },
  "language_info": {
   "codemirror_mode": {
    "name": "ipython",
    "version": 2
   },
   "file_extension": ".py",
   "mimetype": "text/x-python",
   "name": "python",
   "nbconvert_exporter": "python",
   "pygments_lexer": "ipython2",
   "version": "2.7.12"
  }
 },
 "nbformat": 4,
 "nbformat_minor": 1
}
