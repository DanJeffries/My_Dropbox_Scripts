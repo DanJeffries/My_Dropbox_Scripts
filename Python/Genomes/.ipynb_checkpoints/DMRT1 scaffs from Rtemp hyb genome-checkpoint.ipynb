{
 "cells": [
  {
   "cell_type": "code",
   "execution_count": 7,
   "metadata": {},
   "outputs": [
    {
     "name": "stdout",
     "output_type": "stream",
     "text": [
      "Super-Scaffold_94 18432416\n",
      "Super-Scaffold_508 7214896\n"
     ]
    }
   ],
   "source": [
    "### getting DMRT1 scaffs from Rtemp hyb genome.\n",
    "\n",
    "from Bio import SeqIO\n",
    "\n",
    "\n",
    "fasta = SeqIO.parse(open(\"/home/djeffrie/Data/Genomes/Rtemp_Hyb_assembly/Rana_PB_p_a.fasta.cut_BSPQI_BSSSI_0kb_0labels_NGS_contigs_HYBRID_Export.fasta\", 'r'), \"fasta\")\n",
    "out1 = open(\"/home/djeffrie/Data/Genomes/Rtemp_Hyb_assembly/Rana_hyb_DMRT1_508_only.fasta\", 'w')\n",
    "out2 = open(\"/home/djeffrie/Data/Genomes/Rtemp_Hyb_assembly/Rana_hyb_DMRT1_94_only.fasta\", 'w')\n",
    "\n",
    "seqs1 = [\"Super-Scaffold_508\"]\n",
    "seqs2 = [\"Super-Scaffold_94\"] \n",
    "\n",
    "\n",
    "for record in fasta:\n",
    "    if record.id in seqs1:\n",
    "        print record.id, len(record.seq)\n",
    "        SeqIO.write(record, out1, \"fasta\")\n",
    "    elif record.id in seqs2:\n",
    "        print record.id, len(record.seq)\n",
    "        SeqIO.write(record, out2, \"fasta\")\n",
    "\n"
   ]
  }
 ],
 "metadata": {
  "kernelspec": {
   "display_name": "Python 2",
   "language": "python",
   "name": "python2"
  },
  "language_info": {
   "codemirror_mode": {
    "name": "ipython",
    "version": 2
   },
   "file_extension": ".py",
   "mimetype": "text/x-python",
   "name": "python",
   "nbconvert_exporter": "python",
   "pygments_lexer": "ipython2",
   "version": "2.7.14"
  }
 },
 "nbformat": 4,
 "nbformat_minor": 2
}
