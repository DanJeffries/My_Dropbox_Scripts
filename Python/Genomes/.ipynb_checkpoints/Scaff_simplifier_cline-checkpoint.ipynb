{
 "cells": [
  {
   "cell_type": "markdown",
   "metadata": {},
   "source": [
    "## Scaffold simplifyer"
   ]
  },
  {
   "cell_type": "markdown",
   "metadata": {},
   "source": [
    "Here I will write a small script to take the complex scaffold names and make them simple and less than 15 chars so that the stupid princessy little repeat pipelines can deal with them. . . . awwww"
   ]
  },
  {
   "cell_type": "code",
   "execution_count": 51,
   "metadata": {},
   "outputs": [],
   "source": [
    "def Scaff_name_simplifier(genome_path):\n",
    "    \n",
    "    \"\"\"\n",
    "    \\nUSAGE:\n",
    "    \n",
    "          Scaff_name_simplifier  /full/genome/path.fasta(.gz)     \n",
    "    \n",
    "    \"\"\"\n",
    "    \n",
    "    \n",
    "    from Bio import SeqIO\n",
    "    import gzip\n",
    "    \n",
    "    \n",
    "    ## Make output file names and generate handles\n",
    "    \n",
    "    if genome_path.endswith(\"gz\"):\n",
    "        renamed_path = \"%s_renamed.fasta\" % genome_path.rpartition(\".\")[0].rpartition(\".\")[0]\n",
    "        renamed_out = open(renamed_path, 'w')\n",
    "    else:\n",
    "        renamed_path = \"%s_renamed.fasta\" % genome_path.rpartition(\".\")[0]\n",
    "        renamed_out = open(renamed_path, 'w')\n",
    "\n",
    "    if genome_path.endswith(\"gz\"):\n",
    "        alias_path = \"%s_aliases.txt\" % genome_path.rpartition(\".\")[0].rpartition(\".\")[0]\n",
    "        alias_out = open(alias_path, 'w')\n",
    "    else:\n",
    "        alias_path = \"%s_aliases.txt\" % genome_path.rpartition(\".\")[0]\n",
    "        alias_out = open(alias_path, 'w')\n",
    "        \n",
    "        \n",
    "    ## now write the new files\n",
    "    \n",
    "    if genome_path.endswith(\"gz\"):\n",
    "        genome = SeqIO.parse(gzip.open(genome_path, 'r'), \"fasta\")\n",
    "    else:\n",
    "        genome = SeqIO.parse(open(genome_path, 'r'), \"fasta\")\n",
    "    \n",
    "    N = 1\n",
    "    \n",
    "    for seq in genome:\n",
    "        alias = \"seq_%s\" % N\n",
    "        \n",
    "        alias_out.write(\"%s\\t%s\\n\" % (alias, seq.description)) ## write before you change the seq ID!\n",
    "        \n",
    "        seq.id = alias\n",
    "        seq.description = \"\"\n",
    "\n",
    "        SeqIO.write(seq, renamed_out, \"fasta\")\n",
    "        \n",
    "        N += 1\n",
    "\n",
    "    renamed_out.close()\n",
    "    alias_out.close()\n",
    "    \n",
    "    print \"New genome file here: %s\" % renamed_path\n",
    "    print \"Scaffold names here: %s\" % alias_path\n",
    "    \n",
    "    \n",
    "    "
   ]
  },
  {
   "cell_type": "code",
   "execution_count": 50,
   "metadata": {},
   "outputs": [
    {
     "name": "stdout",
     "output_type": "stream",
     "text": [
      "\n",
      "Too many arguments\n",
      "\n"
     ]
    },
    {
     "ename": "SystemExit",
     "evalue": "\n    \nUSAGE:\n    \n          Scaff_name_simplifyer  /full/genome/path.fasta(.gz)     \n    \n    ",
     "output_type": "error",
     "traceback": [
      "An exception has occurred, use %tb to see the full traceback.\n",
      "\u001b[0;31mSystemExit\u001b[0m\u001b[0;31m:\u001b[0m \n    \nUSAGE:\n    \n          Scaff_name_simplifyer  /full/genome/path.fasta(.gz)     \n    \n    \n"
     ]
    },
    {
     "name": "stderr",
     "output_type": "stream",
     "text": [
      "/home/djeffrie/anaconda3/envs/py27/lib/python2.7/site-packages/IPython/core/interactiveshell.py:2890: UserWarning: To exit: use 'exit', 'quit', or Ctrl-D.\n",
      "  warn(\"To exit: use 'exit', 'quit', or Ctrl-D.\", stacklevel=1)\n"
     ]
    }
   ],
   "source": [
    "import sys\n",
    "\n",
    "if len(sys.argv) < 2:\n",
    "    print \"\\nNot enough arguments\\n\"\n",
    "    sys.exit(Scaff_name_simplifier.__doc__)\n",
    "\n",
    "elif len(sys.argv) > 2:\n",
    "    print \"\\nToo many arguments\\n\"\n",
    "    sys.exit(Scaff_name_simplifier.__doc__)\n",
    "    \n",
    "else:\n",
    "    my_genome_path = sys.argv[1]\n",
    "    \n",
    "    print \"\\nRenaming . . . \"\n",
    "    \n",
    "    Scaff_name_simplifier(my_genome_path)"
   ]
  },
  {
   "cell_type": "code",
   "execution_count": 47,
   "metadata": {},
   "outputs": [
    {
     "name": "stdout",
     "output_type": "stream",
     "text": [
      "New genome file here: /home/djeffrie/Data/Genomes/Rtemp_hybrid/Assembly/ANCHORED_PURGED/Rtemp_alternatives_renamed.fasta\n",
      "Scaffold names here: /home/djeffrie/Data/Genomes/Rtemp_hybrid/Assembly/ANCHORED_PURGED/Rtemp_alternatives_aliases.txt\n"
     ]
    }
   ],
   "source": [
    "my_genome_path = \"/home/djeffrie/Data/Genomes/Rtemp_hybrid/Assembly/ANCHORED_PURGED/Rtemp_alternatives.fasta.gz\"\n",
    "\n",
    "Scaff_name_simplifyer(my_genome_path)\n"
   ]
  },
  {
   "cell_type": "code",
   "execution_count": null,
   "metadata": {},
   "outputs": [],
   "source": []
  },
  {
   "cell_type": "code",
   "execution_count": 32,
   "metadata": {},
   "outputs": [],
   "source": [
    "genome_path = \"/home/djeffrie/Data/Genomes/Rtemp_hybrid/Assembly/ANCHORED_PURGED/Rtemp_alternatives.fasta.gz\"\n",
    "if genome_path.endswith(\"gz\"):\n",
    "    genome = SeqIO.parse(gzip.open(genome_path, 'r'), \"fasta\")\n",
    "else:\n",
    "    genome = SeqIO.parse(open(genome_path, 'r'), \"fasta\")"
   ]
  },
  {
   "cell_type": "code",
   "execution_count": 40,
   "metadata": {},
   "outputs": [],
   "source": [
    "seq = genome.next()"
   ]
  },
  {
   "cell_type": "code",
   "execution_count": 38,
   "metadata": {},
   "outputs": [],
   "source": [
    "seq.description = None"
   ]
  },
  {
   "cell_type": "code",
   "execution_count": 41,
   "metadata": {},
   "outputs": [
    {
     "data": {
      "text/plain": [
       "SeqRecord(seq=Seq('TGGATAGGGGCAGTCCCTAAAGGACAATTTATGAGGCTAAAACGAAACTGTGAT...AGG', SingleLetterAlphabet()), id='000000F-017-01|quiver_obj', name='000000F-017-01|quiver_obj', description='000000F-017-01|quiver_obj ALT_Parent:Super-Scaffold_1125(chr5:217250688-223469031)', dbxrefs=[])"
      ]
     },
     "execution_count": 41,
     "metadata": {},
     "output_type": "execute_result"
    }
   ],
   "source": [
    "seq"
   ]
  },
  {
   "cell_type": "code",
   "execution_count": 14,
   "metadata": {},
   "outputs": [
    {
     "ename": "IOError",
     "evalue": "[Errno 2] No such file or directory: '/home/djeffrie/Data/Genomes/Rtemp_hybrid/Assembly/ANCHORED_PURGED/Rtemp_alternatives_renamed.fasta'",
     "output_type": "error",
     "traceback": [
      "\u001b[0;31m---------------------------------------------------------------------------\u001b[0m",
      "\u001b[0;31mIOError\u001b[0m                                   Traceback (most recent call last)",
      "\u001b[0;32m<ipython-input-14-b47c27fdc825>\u001b[0m in \u001b[0;36m<module>\u001b[0;34m()\u001b[0m\n\u001b[0;32m----> 1\u001b[0;31m \u001b[0mgenome_renamed\u001b[0m \u001b[0;34m=\u001b[0m \u001b[0mopen\u001b[0m\u001b[0;34m(\u001b[0m\u001b[0mrenamed_path\u001b[0m\u001b[0;34m,\u001b[0m \u001b[0;34m'r'\u001b[0m\u001b[0;34m)\u001b[0m\u001b[0;34m\u001b[0m\u001b[0m\n\u001b[0m\u001b[1;32m      2\u001b[0m \u001b[0;34m\u001b[0m\u001b[0m\n\u001b[1;32m      3\u001b[0m \u001b[0mN\u001b[0m \u001b[0;34m=\u001b[0m \u001b[0;36m0\u001b[0m\u001b[0;34m\u001b[0m\u001b[0m\n\u001b[1;32m      4\u001b[0m \u001b[0;32mfor\u001b[0m \u001b[0mseq\u001b[0m \u001b[0;32min\u001b[0m \u001b[0mgenome\u001b[0m\u001b[0;34m:\u001b[0m\u001b[0;34m\u001b[0m\u001b[0m\n\u001b[1;32m      5\u001b[0m     \u001b[0malias\u001b[0m \u001b[0;34m=\u001b[0m \u001b[0;34m\"seq_%s\"\u001b[0m \u001b[0;34m%\u001b[0m \u001b[0mN\u001b[0m\u001b[0;34m\u001b[0m\u001b[0m\n",
      "\u001b[0;31mIOError\u001b[0m: [Errno 2] No such file or directory: '/home/djeffrie/Data/Genomes/Rtemp_hybrid/Assembly/ANCHORED_PURGED/Rtemp_alternatives_renamed.fasta'"
     ]
    }
   ],
   "source": [
    "genome_renamed = open(renamed_path, 'w')\n",
    "alias_file = open()\n",
    "\n",
    "N = 0\n",
    "for seq in genome:\n",
    "    alias = \"seq_%s\" % N\n",
    "    seq.id = alias\n",
    "    \n",
    "    SeqIO.write(seq, genome_renamed, \"fasta\")\n",
    "    \n",
    "    N += 1\n",
    "    \n",
    "genome_renamed.close()"
   ]
  },
  {
   "cell_type": "code",
   "execution_count": null,
   "metadata": {},
   "outputs": [],
   "source": []
  }
 ],
 "metadata": {
  "kernelspec": {
   "display_name": "Python 2",
   "language": "python",
   "name": "python2"
  },
  "language_info": {
   "codemirror_mode": {
    "name": "ipython",
    "version": 2
   },
   "file_extension": ".py",
   "mimetype": "text/x-python",
   "name": "python",
   "nbconvert_exporter": "python",
   "pygments_lexer": "ipython2",
   "version": "2.7.14"
  }
 },
 "nbformat": 4,
 "nbformat_minor": 2
}
