{
 "cells": [
  {
   "cell_type": "code",
   "execution_count": 6,
   "metadata": {
    "collapsed": true
   },
   "outputs": [],
   "source": [
    "from Bio.Blast import NCBIXML\n",
    "from Bio import SeqIO"
   ]
  },
  {
   "cell_type": "code",
   "execution_count": 1,
   "metadata": {
    "collapsed": true
   },
   "outputs": [],
   "source": [
    "wd = \"/home/djeffrie/Data/Genomes/Xen_trop/DMRT1/\""
   ]
  },
  {
   "cell_type": "code",
   "execution_count": 12,
   "metadata": {
    "collapsed": false
   },
   "outputs": [],
   "source": [
    "DMRT1 = open(\"/home/djeffrie/Data/Genomes/Xen_trop/DMRT1/Nucl_sequence.fasta\", 'r')\n",
    "DMRT1_xen_blast = open(\"/home/djeffrie/Data/Genomes/Xen_trop/DMRT1/DMRT1_Xen_blast.xml\", 'r')\n",
    "blastit = NCBIXML.parse(DMRT1_xen_blast)\n",
    "DMRT1_seq = SeqIO.parse(DMRT1, \"fasta\").next()"
   ]
  },
  {
   "cell_type": "code",
   "execution_count": 17,
   "metadata": {
    "collapsed": false
   },
   "outputs": [
    {
     "name": "stdout",
     "output_type": "stream",
     "text": [
      "TATTGGGAGCAACAACACCATGAAGTCCAAAGAACACACCAGACAGGTCAGGGATAAAGTTATTGAGAAATTTAAAGCAGGCTTAGGCTACAAAAAGATTTCCAAAGCCTTGAACATCCCACGGAGCACTGTTCAAGCGATCATTCAGAAATGGAAGGAGTATGGCACAACTGTAAACCTACCAAAACCTACCCACCTAAACTCACAGGCCGAACAAGGAGAGCGCTGATCAGAAATGCAGCCAAGAGGCCCATGGTGACTCTGGGGGAGATGCAGAGATCTACAGCTCAGGTGGGGGAATCTGTCCATAGGGCAACTATTAGTCGTGCACTGCACAAAGTTGGCCTTTATGGAAGAGTGGCACGAAGAAAGCCATTGTTAACAGAAAACCATAAGAAGTCCCATTTGCAGTTTGCCACAAGCCATGTGGGGGACACAGCAAACATGTGGAAGAAGGTGCTCTGGTCAGATGAGACCAAAATGGAACTTTTTGGCCAAAATGCTGGGATGTGTGGCAGAAAACTAACACTGCACATCACTCTGAACACACCATCCCCACTGTCAAATATGGTGGTGGCAGCATCATGCTCTGGGGGTGCTTCTCTTCAGCAGGGACAGGGAAGCTGGTCAGAGTTGATGGGAAGATGGATGGAGCCAAATACAGGGCAATCTTGGAAGAAAACCTCTTGGAGTCTGCAAAAGACTTGAGGCGGAGGTTCACCTTCCAGCAGGACAACGACCCTAAACATAAAGCCAGGGCAACAATGGAATGGTTTAAAACAAAACATATCCATGTGTTAGAATGGCCCAGTCAAAGTCCAGATCTAAATCCAATCGAGAATCTGTGGCAAGATCTGAAAACTGCTGTTCACAAACGCTGTCCATCTAATCTGACTGAGCTGGAGCTGTTTTGCAAAGAAGAATGGGCAAGGATTTCAGTCTCTAGATGTGCAAAGCTGGTAGAGACATACCCTAAAAGACTGGCAGCTGTAATTGCAGCAAAAGGTGGTTCTACAAAGTATTGACTCAGGGGGCTGAATAATTACGCACACCCCACTTTGCAGTTATTTATTTGTAAAAGATGTTTGGAATCATGTATGATTTTCGTTCCACTTCTCACGTGTACACCACTTTGTATTGGTCTTTCACGTGGAATTCCAATTAAATTGATTCATGTTTGTGACTGTAATGTGACAAAATATGGAAAAGTTCAAGGGGGCCAAATACTTTTGCAAGCCACTGTAGTATATAAATATTGTTATTGTAAAAAATAATGGTAACTACAGTCATAAAGTACATA\n"
     ]
    }
   ],
   "source": [
    "print DMRT1_seq.seq[23800:25100]"
   ]
  }
 ],
 "metadata": {
  "kernelspec": {
   "display_name": "Python 2",
   "language": "python",
   "name": "python2"
  },
  "language_info": {
   "codemirror_mode": {
    "name": "ipython",
    "version": 2
   },
   "file_extension": ".py",
   "mimetype": "text/x-python",
   "name": "python",
   "nbconvert_exporter": "python",
   "pygments_lexer": "ipython2",
   "version": "2.7.14"
  }
 },
 "nbformat": 4,
 "nbformat_minor": 2
}
