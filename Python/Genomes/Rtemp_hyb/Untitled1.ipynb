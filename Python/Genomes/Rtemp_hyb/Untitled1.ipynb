{
 "cells": [
  {
   "cell_type": "code",
   "execution_count": 10,
   "metadata": {},
   "outputs": [],
   "source": [
    "from __future__ import division"
   ]
  },
  {
   "cell_type": "code",
   "execution_count": 11,
   "metadata": {},
   "outputs": [],
   "source": [
    "combined = open(\"/home/djeffrie/Data/Genomes/Rtemp_hybrid/ALLMAPS_2019/ALLMAPS_working_dir/INPUTS/Combined_maps.bed\", 'r').readlines()\n"
   ]
  },
  {
   "cell_type": "code",
   "execution_count": 12,
   "metadata": {},
   "outputs": [],
   "source": [
    "new_combined = open(\"/home/djeffrie/Data/Genomes/Rtemp_hybrid/ALLMAPS_2019/ALLMAPS_working_dir/INPUTS/Combined_maps_pst_short.bed\", 'w')\n",
    "\n",
    "for i in combined:\n",
    "    \n",
    "    LGcol = i.split()[3]\n",
    "    \n",
    "    if \"PstI\" in LGcol:\n",
    "        new_POS = float(LGcol.split(\":\")[1])/5\n",
    "        new_LG_col = \"%s:%s\" % (LGcol.split(\":\")[0], new_POS)\n",
    "        \n",
    "        new_combined.write(\"%s\\t%s\\t%s\\t%s\\t%s\\n\" % (i.split()[0], i.split()[1], i.split()[2],  new_LG_col, i.split()[4]))\n",
    "    else:\n",
    "        new_combined.write(\"%s\\t%s\\t%s\\t%s\\t%s\\n\" % (i.split()[0], i.split()[1], i.split()[2],  i.split()[3], i.split()[4]))\n",
    "    \n",
    "new_combined.close()"
   ]
  }
 ],
 "metadata": {
  "kernelspec": {
   "display_name": "Python 2",
   "language": "python",
   "name": "python2"
  },
  "language_info": {
   "codemirror_mode": {
    "name": "ipython",
    "version": 2
   },
   "file_extension": ".py",
   "mimetype": "text/x-python",
   "name": "python",
   "nbconvert_exporter": "python",
   "pygments_lexer": "ipython2",
   "version": "2.7.14"
  }
 },
 "nbformat": 4,
 "nbformat_minor": 2
}
