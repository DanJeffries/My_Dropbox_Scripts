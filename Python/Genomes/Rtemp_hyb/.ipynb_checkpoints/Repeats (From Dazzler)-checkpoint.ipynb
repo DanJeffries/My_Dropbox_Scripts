{
 "cells": [
  {
   "cell_type": "markdown",
   "metadata": {},
   "source": [
    "### First I wrote a script to extract the repeats from the reads outputted by Chai Fungataman from DNAnexus. \n",
    "\n",
    "I made a CLINE version of this script below and ran it on the cluster. "
   ]
  },
  {
   "cell_type": "code",
   "execution_count": 52,
   "metadata": {
    "collapsed": true
   },
   "outputs": [],
   "source": [
    "def TE_extractor(infile):\n",
    "    \n",
    "    import gzip\n",
    "    \n",
    "    TEs_in = gzip.open(infile, 'r')\n",
    "    \n",
    "    outpath = \"%s/%s\" % (infile.rpartition(\"/\")[0], \"Extracted_TEs.fa.gz\")\n",
    "    \n",
    "    TEs_out = gzip.open(outpath, 'w')\n",
    "\n",
    "    N_lines = 0\n",
    "\n",
    "\n",
    "    for line in TEs_in:\n",
    "\n",
    "        N_lines += 1\n",
    "\n",
    "        if line.startswith(\">prolog\"):\n",
    "\n",
    "            if N_lines > 1:\n",
    "\n",
    "                if repeats == True:\n",
    "\n",
    "                    for repeat in Repeat_coords:\n",
    "\n",
    "                        TEs_out.write(\"%s_%s_%s\\n\" % (read_ID, Repeat_coords[repeat][\"strt\"], Repeat_coords[repeat][\"end\"]))\n",
    "                        TEs_out.write(\"%s\\n\" % whole_seq[int(Repeat_coords[repeat][\"strt\"]):int(Repeat_coords[repeat][\"end\"])])\n",
    "\n",
    "                        #print \"%s_%s_%s\" % (read_ID, Repeat_coords[repeat][\"strt\"], Repeat_coords[repeat][\"end\"])\n",
    "                        #print whole_seq[int(Repeat_coords[repeat][\"strt\"]):int(Repeat_coords[repeat][\"end\"])]\n",
    "                    #print Repeat_coords\n",
    "                    #print whole_seq\n",
    "                    #print N_lines\n",
    "\n",
    "            repeats = False\n",
    "\n",
    "            read_ID = line.strip()\n",
    "\n",
    "            seq = []\n",
    "\n",
    "\n",
    "        elif line.startswith(\"> rep\"):\n",
    "\n",
    "\n",
    "            repeats = True\n",
    "\n",
    "            Repeat_coords = {}\n",
    "\n",
    "            N_reps = 0\n",
    "\n",
    "            for rep in line.split():\n",
    "\n",
    "                if rep.startswith(\"[\"):\n",
    "                    N_reps += 1\n",
    "\n",
    "                    Repeat_coords[N_reps] = {}\n",
    "                    Repeat_coords[N_reps][\"strt\"] = rep.split(\"[\")[1].split(\",\")[0]\n",
    "                    Repeat_coords[N_reps][\"end\"] = rep.split(\"]\")[0].split(\",\")[1]\n",
    "\n",
    "\n",
    "        elif all([repeats == True, not line.startswith(\">\")]):\n",
    "\n",
    "            New_read = False\n",
    "\n",
    "            seq.append(line.strip())\n",
    "            whole_seq = \"\".join(seq)\n",
    "\n",
    "\n",
    "    TEs_out.close()"
   ]
  },
  {
   "cell_type": "code",
   "execution_count": 53,
   "metadata": {
    "collapsed": true
   },
   "outputs": [
    {
     "ename": "IOError",
     "evalue": "[Errno 2] No such file or directory: '-f'",
     "output_type": "error",
     "traceback": [
      "\u001b[0;31m---------------------------------------------------------------------------\u001b[0m",
      "\u001b[0;31mIOError\u001b[0m                                   Traceback (most recent call last)",
      "\u001b[0;32m<ipython-input-53-01f44cfd72f6>\u001b[0m in \u001b[0;36m<module>\u001b[0;34m()\u001b[0m\n\u001b[1;32m      4\u001b[0m \u001b[0minput_file\u001b[0m \u001b[0;34m=\u001b[0m \u001b[0msys\u001b[0m\u001b[0;34m.\u001b[0m\u001b[0margv\u001b[0m\u001b[0;34m[\u001b[0m\u001b[0;36m1\u001b[0m\u001b[0;34m]\u001b[0m\u001b[0;34m\u001b[0m\u001b[0m\n\u001b[1;32m      5\u001b[0m \u001b[0;34m\u001b[0m\u001b[0m\n\u001b[0;32m----> 6\u001b[0;31m \u001b[0mTE_extractor\u001b[0m\u001b[0;34m(\u001b[0m\u001b[0minput_file\u001b[0m\u001b[0;34m)\u001b[0m\u001b[0;34m\u001b[0m\u001b[0m\n\u001b[0m",
      "\u001b[0;32m<ipython-input-52-3bede281379e>\u001b[0m in \u001b[0;36mTE_extractor\u001b[0;34m(infile)\u001b[0m\n\u001b[1;32m      3\u001b[0m     \u001b[0;32mimport\u001b[0m \u001b[0mgzip\u001b[0m\u001b[0;34m\u001b[0m\u001b[0m\n\u001b[1;32m      4\u001b[0m \u001b[0;34m\u001b[0m\u001b[0m\n\u001b[0;32m----> 5\u001b[0;31m     \u001b[0mTEs_in\u001b[0m \u001b[0;34m=\u001b[0m \u001b[0mgzip\u001b[0m\u001b[0;34m.\u001b[0m\u001b[0mopen\u001b[0m\u001b[0;34m(\u001b[0m\u001b[0minfile\u001b[0m\u001b[0;34m,\u001b[0m \u001b[0;34m'r'\u001b[0m\u001b[0;34m)\u001b[0m\u001b[0;34m\u001b[0m\u001b[0m\n\u001b[0m\u001b[1;32m      6\u001b[0m \u001b[0;34m\u001b[0m\u001b[0m\n\u001b[1;32m      7\u001b[0m     \u001b[0moutpath\u001b[0m \u001b[0;34m=\u001b[0m \u001b[0;34m\"%s/%s\"\u001b[0m \u001b[0;34m%\u001b[0m \u001b[0;34m(\u001b[0m\u001b[0minfile\u001b[0m\u001b[0;34m.\u001b[0m\u001b[0mrpartition\u001b[0m\u001b[0;34m(\u001b[0m\u001b[0;34m\"/\"\u001b[0m\u001b[0;34m)\u001b[0m\u001b[0;34m[\u001b[0m\u001b[0;36m0\u001b[0m\u001b[0;34m]\u001b[0m\u001b[0;34m,\u001b[0m \u001b[0;34m\"Extracted_TEs.fa.gz\"\u001b[0m\u001b[0;34m)\u001b[0m\u001b[0;34m\u001b[0m\u001b[0m\n",
      "\u001b[0;32m/home/djeffrie/anaconda3/envs/py27/lib/python2.7/gzip.pyc\u001b[0m in \u001b[0;36mopen\u001b[0;34m(filename, mode, compresslevel)\u001b[0m\n\u001b[1;32m     32\u001b[0m \u001b[0;34m\u001b[0m\u001b[0m\n\u001b[1;32m     33\u001b[0m     \"\"\"\n\u001b[0;32m---> 34\u001b[0;31m     \u001b[0;32mreturn\u001b[0m \u001b[0mGzipFile\u001b[0m\u001b[0;34m(\u001b[0m\u001b[0mfilename\u001b[0m\u001b[0;34m,\u001b[0m \u001b[0mmode\u001b[0m\u001b[0;34m,\u001b[0m \u001b[0mcompresslevel\u001b[0m\u001b[0;34m)\u001b[0m\u001b[0;34m\u001b[0m\u001b[0m\n\u001b[0m\u001b[1;32m     35\u001b[0m \u001b[0;34m\u001b[0m\u001b[0m\n\u001b[1;32m     36\u001b[0m \u001b[0;32mclass\u001b[0m \u001b[0mGzipFile\u001b[0m\u001b[0;34m(\u001b[0m\u001b[0mio\u001b[0m\u001b[0;34m.\u001b[0m\u001b[0mBufferedIOBase\u001b[0m\u001b[0;34m)\u001b[0m\u001b[0;34m:\u001b[0m\u001b[0;34m\u001b[0m\u001b[0m\n",
      "\u001b[0;32m/home/djeffrie/anaconda3/envs/py27/lib/python2.7/gzip.pyc\u001b[0m in \u001b[0;36m__init__\u001b[0;34m(self, filename, mode, compresslevel, fileobj, mtime)\u001b[0m\n\u001b[1;32m     92\u001b[0m             \u001b[0mmode\u001b[0m \u001b[0;34m+=\u001b[0m \u001b[0;34m'b'\u001b[0m\u001b[0;34m\u001b[0m\u001b[0m\n\u001b[1;32m     93\u001b[0m         \u001b[0;32mif\u001b[0m \u001b[0mfileobj\u001b[0m \u001b[0;32mis\u001b[0m \u001b[0mNone\u001b[0m\u001b[0;34m:\u001b[0m\u001b[0;34m\u001b[0m\u001b[0m\n\u001b[0;32m---> 94\u001b[0;31m             \u001b[0mfileobj\u001b[0m \u001b[0;34m=\u001b[0m \u001b[0mself\u001b[0m\u001b[0;34m.\u001b[0m\u001b[0mmyfileobj\u001b[0m \u001b[0;34m=\u001b[0m \u001b[0m__builtin__\u001b[0m\u001b[0;34m.\u001b[0m\u001b[0mopen\u001b[0m\u001b[0;34m(\u001b[0m\u001b[0mfilename\u001b[0m\u001b[0;34m,\u001b[0m \u001b[0mmode\u001b[0m \u001b[0;32mor\u001b[0m \u001b[0;34m'rb'\u001b[0m\u001b[0;34m)\u001b[0m\u001b[0;34m\u001b[0m\u001b[0m\n\u001b[0m\u001b[1;32m     95\u001b[0m         \u001b[0;32mif\u001b[0m \u001b[0mfilename\u001b[0m \u001b[0;32mis\u001b[0m \u001b[0mNone\u001b[0m\u001b[0;34m:\u001b[0m\u001b[0;34m\u001b[0m\u001b[0m\n\u001b[1;32m     96\u001b[0m             \u001b[0;31m# Issue #13781: os.fdopen() creates a fileobj with a bogus name\u001b[0m\u001b[0;34m\u001b[0m\u001b[0;34m\u001b[0m\u001b[0m\n",
      "\u001b[0;31mIOError\u001b[0m: [Errno 2] No such file or directory: '-f'"
     ]
    }
   ],
   "source": [
    "### CLINE\n",
    "import sys\n",
    "\n",
    "input_file = sys.argv[1]\n",
    "\n",
    "TE_extractor(input_file)\n"
   ]
  },
  {
   "cell_type": "markdown",
   "metadata": {},
   "source": [
    "Now I will take a look at the contents of the extracted repeats file - This file contains only the sequence that has been identified as repeats in the data. \n",
    "\n",
    "1st I will look at the sizes of the repeats"
   ]
  },
  {
   "cell_type": "code",
   "execution_count": 94,
   "metadata": {},
   "outputs": [],
   "source": [
    "from Bio import SeqIO\n",
    "from matplotlib import pyplot as plt\n",
    "\n",
    "Extracted_repeats = SeqIO.parse(gzip.open(\"/home/djeffrie/Data/Genomes/Rtemp_hybrid/Repeats_and_masking/Extracted_Repeats.fa.gz\", 'r'), \"fasta\")\n"
   ]
  },
  {
   "cell_type": "code",
   "execution_count": 95,
   "metadata": {},
   "outputs": [
    {
     "name": "stdout",
     "output_type": "stream",
     "text": [
      "22183417 repeat sequences\n"
     ]
    }
   ],
   "source": [
    "count = 0\n",
    "for record in Extracted_repeats :\n",
    "    count += 1\n",
    "    \n",
    "print \"%s repeat sequences\" % count"
   ]
  },
  {
   "cell_type": "code",
   "execution_count": 89,
   "metadata": {},
   "outputs": [],
   "source": [
    "lengths = []\n",
    "for record in Extracted_repeats :\n",
    "    lengths.append(len(record.seq))"
   ]
  },
  {
   "cell_type": "code",
   "execution_count": 93,
   "metadata": {},
   "outputs": [
    {
     "data": {
      "image/png": "[encoded data removed]",
      "text/plain": [
       "<matplotlib.figure.Figure at 0x7f335dccad10>"
      ]
     },
     "metadata": {},
     "output_type": "display_data"
    }
   ],
   "source": [
    "plt.figure(figsize = (30,10))\n",
    "plt.hist(lengths, bins = 1000)\n",
    "plt.xlim(0,10000)\n",
    "plt.show()"
   ]
  },
  {
   "cell_type": "code",
   "execution_count": 96,
   "metadata": {},
   "outputs": [
    {
     "name": "stdout",
     "output_type": "stream",
     "text": [
      "1378.97587364\n"
     ]
    }
   ],
   "source": [
    "import numpy as np\n",
    "\n",
    "print np.mean(lengths)"
   ]
  }
 ],
 "metadata": {
  "anaconda-cloud": {},
  "kernelspec": {
   "display_name": "Python 2",
   "language": "python",
   "name": "python2"
  },
  "language_info": {
   "codemirror_mode": {
    "name": "ipython",
    "version": 2
   },
   "file_extension": ".py",
   "mimetype": "text/x-python",
   "name": "python",
   "nbconvert_exporter": "python",
   "pygments_lexer": "ipython2",
   "version": "2.7.14"
  }
 },
 "nbformat": 4,
 "nbformat_minor": 1
}
