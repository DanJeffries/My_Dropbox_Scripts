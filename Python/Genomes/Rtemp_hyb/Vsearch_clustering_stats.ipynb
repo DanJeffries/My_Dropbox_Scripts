{
 "cells": [
  {
   "cell_type": "markdown",
   "metadata": {},
   "source": [
    "## Here I will examine the clustering of the repeat sequences identified by RED.\n",
    "\n",
    "NOTE*** There is a problem with using VSEARCH for this. . . . when clustering, you normally sort the sequences by length (longest first) before clustering. This way, clusters are usually initiated with long centroids. However, when calling consensuses after clustering, this has resulted in many empty sequences because much of the centroid is not covered by most reads assigned to the cluster (so the consensus for that base is a gap). \n",
    "\n",
    "For this reason I think it is best to take the centroid (which is just the sequence at the centre of the cluster). I don't think this is particularly problematic, for the purposes of classifying repeats as these clusters would not be otherwise classifiable and it is very unlikely to give me a fasle positive. . . \n",
    "\n",
    "So . . . here I want to look at the number of sequences per cluster, the lenghts of the centroids etc. \n",
    "\n"
   ]
  },
  {
   "cell_type": "code",
   "execution_count": 140,
   "metadata": {},
   "outputs": [],
   "source": [
    "from __future__ import division"
   ]
  },
  {
   "cell_type": "code",
   "execution_count": 1,
   "metadata": {},
   "outputs": [],
   "source": [
    "wd = \"/home/djeffrie/Data/Genomes/Rtemp_hybrid/VSEARCH_repeats\""
   ]
  },
  {
   "cell_type": "markdown",
   "metadata": {},
   "source": [
    "There are two outputs from Vsearch. 1) the centroids file and 2) the consensus file. The latter contains information on the number of sequences in each cluster. The former has the centroid sequence. I will just take the information from the headers in the consensus file"
   ]
  },
  {
   "cell_type": "code",
   "execution_count": 3,
   "metadata": {},
   "outputs": [],
   "source": [
    "consensuses = open(\"%s/ALLconsensuses.fasta\" % wd, 'r').readlines()[:10]"
   ]
  },
  {
   "cell_type": "code",
   "execution_count": 148,
   "metadata": {},
   "outputs": [],
   "source": [
    "from Bio import SeqIO\n",
    "\n",
    "consensuses = SeqIO.parse(open(\"%s/ALLconsensuses.fasta\" % wd, 'r'), 'fasta')"
   ]
  },
  {
   "cell_type": "code",
   "execution_count": 149,
   "metadata": {},
   "outputs": [],
   "source": [
    "\n",
    "consensus_dict = {}\n",
    "\n",
    "for record in consensuses:\n",
    "    \n",
    "    cluster_ID = record.id.split(\"=\")[1].split(\";\")[0]\n",
    "    N_seqs = record.id.split(\"=\")[2]\n",
    "    seq_len = len(record.seq)\n",
    "        \n",
    "    consensus_dict[cluster_ID] = {}\n",
    "    consensus_dict[cluster_ID][\"Nseqs\"] = int(N_seqs)\n",
    "    consensus_dict[cluster_ID][\"cons_length\"] = seq_len\n",
    "    \n",
    "    if len(record.seq) == 0:\n",
    "        \n",
    "        consensus_dict[cluster_ID][\"consensus\"] = False\n",
    "        consensus_dict[cluster_ID][\"length_diff\"] = False\n",
    "            \n",
    "    else:\n",
    "        consensus_dict[cluster_ID][\"consensus\"] = True\n",
    "        \n",
    "        lower = int(record.id.rpartition(\":\")[2].split(\";\")[0].split(\"-\")[0])\n",
    "        upper = int(record.id.rpartition(\":\")[2].split(\";\")[0].split(\"-\")[1])\n",
    "            \n",
    "        cluster_length = upper - lower\n",
    "            \n",
    "        length_diff = consensus_dict[cluster_ID][\"cons_length\"] / cluster_length\n",
    "            \n",
    "        consensus_dict[cluster_ID][\"length_diff\"] = length_diff\n",
    "            \n",
    "        "
   ]
  },
  {
   "cell_type": "code",
   "execution_count": 179,
   "metadata": {},
   "outputs": [
    {
     "data": {
      "text/plain": [
       "18092"
      ]
     },
     "execution_count": 179,
     "metadata": {},
     "output_type": "execute_result"
    }
   ],
   "source": [
    "max(seq_numbers)"
   ]
  },
  {
   "cell_type": "code",
   "execution_count": 185,
   "metadata": {},
   "outputs": [
    {
     "data": {
      "image/png": "[encoded data removed]",
      "text/plain": [
       "<matplotlib.figure.Figure at 0x7f0775e8bf50>"
      ]
     },
     "metadata": {},
     "output_type": "display_data"
    }
   ],
   "source": [
    "from matplotlib import pyplot as plt\n",
    "\n",
    "seq_numbers = []\n",
    "\n",
    "for cluster in consensus_dict:\n",
    "    if consensus_dict[cluster][\"Nseqs\"] > 100:\n",
    "        seq_numbers.append(consensus_dict[cluster][\"Nseqs\"])\n",
    "\n",
    "\n",
    "fig = plt.figure(figsize = (20,10))\n",
    "\n",
    "plt.hist(seq_numbers, bins = 1000)\n",
    "plt.xlim(0,5500)\n",
    "\n",
    "plt.show()\n",
    "\n"
   ]
  },
  {
   "cell_type": "markdown",
   "metadata": {},
   "source": [
    "Above is the number of sequences per cluster  . . . in a heavily curated subset of the clusters though."
   ]
  },
  {
   "cell_type": "code",
   "execution_count": 164,
   "metadata": {},
   "outputs": [
    {
     "name": "stdout",
     "output_type": "stream",
     "text": [
      "There are 23301 clusters with more than 20 sequences in them\n",
      "Of these, there are 15668 with consensus loci\n",
      "Of these, there are 1494 with consensus length > 0.5 of the centroid\n",
      "Of these, 1290 have consensus lengths > 100\n"
     ]
    }
   ],
   "source": [
    "counter = 0\n",
    "counter1 = 0\n",
    "counter2 = 0\n",
    "counter3 = 0\n",
    "\n",
    "seq_thresh = 20\n",
    "prop_thresh = 0.5\n",
    "cons_length_thresh = 100\n",
    "\n",
    "for cluster in consensus_dict:\n",
    "    \n",
    "    if consensus_dict[cluster][\"Nseqs\"] >= seq_thresh:\n",
    "        counter += 1\n",
    "        \n",
    "        if consensus_dict[cluster][\"consensus\"] == True:\n",
    "            counter1 += 1\n",
    "\n",
    "            if  consensus_dict[cluster][\"length_diff\"] > prop_thresh:\n",
    "                counter2 += 1\n",
    "            \n",
    "                if consensus_dict[cluster][\"cons_length\"] >= cons_length_thresh:\n",
    "                    counter3 += 1\n",
    "        \n",
    "                    #print \"Cluster %s has %s sequences and a consensus length of %s (%s of centroid)\" % (cluster, consensus_dict[cluster][\"Nseqs\"], consensus_dict[cluster][\"cons_length\"], consensus_dict[cluster][\"length_diff\"])\n",
    "                    \n",
    "print \"There are %s clusters with more than %s sequences in them\" % (counter, seq_thresh)\n",
    "print \"Of these, there are %s with consensus loci\" % counter1\n",
    "print \"Of these, there are %s with consensus length > %s of the centroid\" % (counter2, prop_thresh)\n",
    "print \"Of these, %s have consensus lengths > %s\" % (counter3, cons_length_thresh)"
   ]
  },
  {
   "cell_type": "markdown",
   "metadata": {},
   "source": [
    "So, the consensus sequences are really a problem - they just aren't covering much of the centroid, and I don't know what the consensus process is doing - is it just removing all gaps? And is that at all ok? "
   ]
  },
  {
   "cell_type": "markdown",
   "metadata": {},
   "source": [
    "I just don't know what to do with these clusters - I don't think I can rescue them in any way other than making arbitrary decisions about N seqs per cluster, amount of centroid that the consensus covers. . . . etc."
   ]
  },
  {
   "cell_type": "code",
   "execution_count": null,
   "metadata": {},
   "outputs": [],
   "source": []
  }
 ],
 "metadata": {
  "kernelspec": {
   "display_name": "Python 2",
   "language": "python",
   "name": "python2"
  },
  "language_info": {
   "codemirror_mode": {
    "name": "ipython",
    "version": 2
   },
   "file_extension": ".py",
   "mimetype": "text/x-python",
   "name": "python",
   "nbconvert_exporter": "python",
   "pygments_lexer": "ipython2",
   "version": "2.7.14"
  }
 },
 "nbformat": 4,
 "nbformat_minor": 2
}
