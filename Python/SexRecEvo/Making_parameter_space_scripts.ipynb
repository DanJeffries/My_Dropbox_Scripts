{
 "cells": [
  {
   "cell_type": "markdown",
   "metadata": {},
   "source": [
    "## Making the sbatch scripts for parameter testing. \n",
    "\n",
    "I will test the below 36 parameter sets. For each one we will run 50 iterations for 20,000 generations. How I settled on these is described in the R script. "
   ]
  },
  {
   "cell_type": "markdown",
   "metadata": {},
   "source": [
    "|FIELD1|Ne |r    |u    |rec_prob|\n",
    "|------|---|-----|-----|--------|\n",
    "|1     |50 |1e-07|1e-07|0.1     |\n",
    "|2     |250|1e-07|1e-07|0.1     |\n",
    "|3     |500|1e-07|1e-07|0.1     |\n",
    "|4     |50 |1e-06|1e-07|1       |\n",
    "|5     |250|1e-06|1e-07|1       |\n",
    "|6     |500|1e-06|1e-07|1       |\n",
    "|7     |50 |1e-05|1e-07|10      |\n",
    "|8     |250|1e-05|1e-07|10      |\n",
    "|9     |500|1e-05|1e-07|10      |\n",
    "|10    |50 |1e-04|1e-07|100     |\n",
    "|11    |250|1e-04|1e-07|100     |\n",
    "|12    |500|1e-04|1e-07|100     |\n",
    "|13    |50 |1e-07|1e-06|0.1     |\n",
    "|14    |250|1e-07|1e-06|0.1     |\n",
    "|15    |500|1e-07|1e-06|0.1     |\n",
    "|16    |50 |1e-06|1e-06|1       |\n",
    "|17    |250|1e-06|1e-06|1       |\n",
    "|18    |500|1e-06|1e-06|1       |\n",
    "|19    |50 |1e-05|1e-06|10      |\n",
    "|20    |250|1e-05|1e-06|10      |\n",
    "|21    |500|1e-05|1e-06|10      |\n",
    "|22    |50 |1e-04|1e-06|100     |\n",
    "|23    |250|1e-04|1e-06|100     |\n",
    "|24    |500|1e-04|1e-06|100     |\n",
    "|25    |50 |1e-07|1e-05|0.1     |\n",
    "|26    |250|1e-07|1e-05|0.1     |\n",
    "|27    |500|1e-07|1e-05|0.1     |\n",
    "|28    |50 |1e-06|1e-05|1       |\n",
    "|29    |250|1e-06|1e-05|1       |\n",
    "|30    |500|1e-06|1e-05|1       |\n",
    "|31    |50 |1e-05|1e-05|10      |\n",
    "|32    |250|1e-05|1e-05|10      |\n",
    "|33    |500|1e-05|1e-05|10      |\n",
    "|34    |50 |1e-04|1e-05|100     |\n",
    "|35    |250|1e-04|1e-05|100     |\n",
    "|36    |500|1e-04|1e-05|100     |\n"
   ]
  },
  {
   "cell_type": "code",
   "execution_count": 20,
   "metadata": {},
   "outputs": [],
   "source": [
    "param_set = open(\"/home/djeffrie/Desktop/Neutral_sex_chrom_evo/Param_tests_June/Parameter_combinations.tsv\", 'r').readlines()\n",
    "\n",
    "Ngens = 20000\n",
    "Min_Ident = 0.85\n",
    "working_dir = \"/scratch/axiom/FAC/FBM/DEE/jpannell/merc_omics_dlj/Param_tests_June/\"\n",
    "\n",
    "for i in param_set:\n",
    "    \n",
    "    set_id = i.split(\",\")[0].strip('\"')\n",
    "    Ne  = i.split(\",\")[1]\n",
    "    r = i.split(\",\")[2]\n",
    "    u = i.split(\",\")[3]\n",
    "    rec_prob = i.split(\",\")[4].strip()\n",
    "    \n",
    "    template_sbatch = open(\"/home/djeffrie/Desktop/Neutral_sex_chrom_evo/Param_tests_June/template.conf\", 'r').readlines()\n",
    "    new_template = open(\"/home/djeffrie/Desktop/Neutral_sex_chrom_evo/Param_tests_June/template_param_set_%s.conf\" % set_id, 'w')\n",
    "\n",
    "    for line in template_sbatch:\n",
    "        \n",
    "        if \"NGENS\" in line:\n",
    "            line = line.replace(\"NGENS\",\"%s\" % Ngens)\n",
    "            new_template.write(line)\n",
    "        elif \"MIN_IDENT\" in line:\n",
    "            line = line.replace(\"MIN_IDENT\", \"%s\" % Min_Ident)\n",
    "            new_template.write(line)\n",
    "        elif \"POP_SIZE\" in line:\n",
    "            line = line.replace(\"POP_SIZE\", \"%s\" % Ne)\n",
    "            new_template.write(line)\n",
    "        elif \"MUTE_RATE\" in line:\n",
    "            line = line.replace(\"MUTE_RATE\", \"%s\" % u)\n",
    "            new_template.write(line)\n",
    "        elif \"REC_PROB\" in line:\n",
    "            line = line.replace(\"REC_PROB\", \"%s\" % rec_prob)\n",
    "            new_template.write(line)\n",
    "        elif \"WORKING_DIR\" in line:\n",
    "            line = line.replace(\"WORKING_DIR\", \"%s\" % working_dir)\n",
    "            new_template.write(line)\n",
    "        else:\n",
    "            new_template.write(line)\n",
    "            \n",
    "    new_template.close()"
   ]
  },
  {
   "cell_type": "code",
   "execution_count": 1,
   "metadata": {},
   "outputs": [],
   "source": [
    "template_sbatch = open(\"/home/djeffrie/Desktop/Neutral_sex_chrom_evo/Param_tests_June/template.conf\", 'r').readlines()\n",
    "\n",
    "\n",
    "\n",
    "for line in template_sbatch:\n",
    "    \n"
   ]
  },
  {
   "cell_type": "code",
   "execution_count": 2,
   "metadata": {},
   "outputs": [
    {
     "data": {
      "text/plain": [
       "['#number of generations\\n',\n",
       " 'ngens 20000\\n',\n",
       " '#population size\\n',\n",
       " 'pop_size 50\\n',\n",
       " '#genome size (in bases)\\n',\n",
       " 'genome_size 100000\\n',\n",
       " '#mutation rate\\n',\n",
       " 'mut_rate 1e-5\\n',\n",
       " '#male bias of mutation rate (male mutation rate=mut_rate*mut_mb) \\n',\n",
       " 'mut_mb 1\\n',\n",
       " '#probability of recombination event outside simulated region relative to simulated region\\n',\n",
       " 'rec_prob 2\\n',\n",
       " '#relative effect of a variant on recombination probabilities\\n',\n",
       " 'var_effect 50\\n',\n",
       " '#position of the sd site\\n',\n",
       " 'sd_pos 50000\\n',\n",
       " '#window size for estimation of recombination probabilities\\n',\n",
       " 'rc_wind 1000\\n',\n",
       " '#minimum identity per window necessary for recombination\\n',\n",
       " 'min_ident 0.9\\n',\n",
       " '#summary statistics window size\\n',\n",
       " 'sstat_wind 1000\\n',\n",
       " '#print summary statistics every ... generations\\n',\n",
       " 'sstat_gen 100\\n',\n",
       " '#output file for m/f FST\\n',\n",
       " 'fst_ofile /scratch/axiom/FAC/FBM/DEE/jpannell/merc_omics_dlj/Simulations_version_comparison/RUN_INDEX_sim_array_OUTS/m_f_fst_ARRAY_INDEX.out\\n',\n",
       " '#output file dxy\\n',\n",
       " 'dxy_ofile /scratch/axiom/FAC/FBM/DEE/jpannell/merc_omics_dlj/Simulations_version_comparison/RUN_INDEX_sim_array_OUTS/dxy_ARRAY_INDEX.out\\n',\n",
       " '#output file dxx\\n',\n",
       " 'dxx_ofile /scratch/axiom/FAC/FBM/DEE/jpannell/merc_omics_dlj/Simulations_version_comparison/RUN_INDEX_sim_array_OUTS/dxx_ARRAY_INDEX.out\\n',\n",
       " '#output file for male recombination positions\\n',\n",
       " 'm_rp_ofile /scratch/axiom/FAC/FBM/DEE/jpannell/merc_omics_dlj/Simulations_version_comparison/RUN_INDEX_sim_array_OUTS/m_rp_ARRAY_INDEX.out\\n',\n",
       " '##output file for female recombination positions\\n',\n",
       " 'f_rp_ofile /scratch/axiom/FAC/FBM/DEE/jpannell/merc_omics_dlj/Simulations_version_comparison/RUN_INDEX_sim_array_OUTS/f_rp_ARRAY_INDEX.out\\n',\n",
       " '##config file for hotspot model, will run in hotspot mode if set, for regular mode comment out line\\n',\n",
       " '##hotspot_conf hotspot.config\\n',\n",
       " '#config file for male recombination vectors\\n',\n",
       " 'm_rv_ofile /scratch/axiom/FAC/FBM/DEE/jpannell/merc_omics_dlj/Simulations_version_comparison/RUN_INDEX_sim_array_OUTS/m_rv_ARRAY_INDEX.out\\n']"
      ]
     },
     "execution_count": 2,
     "metadata": {},
     "output_type": "execute_result"
    }
   ],
   "source": [
    "template_sbatch"
   ]
  },
  {
   "cell_type": "code",
   "execution_count": 21,
   "metadata": {},
   "outputs": [],
   "source": [
    "for i in range(1,32):\n",
    "    \n",
    "    new_sbatch = open(\"/Users/danieljeffries/Desktop/secrecevo/parameter_exploration_sims/sbatch_scripts/%s_sim_array.sh\" % i, 'w')\n",
    "    \n",
    "    for line in template_sbatch:\n",
    "        if \"XX\" in line:\n",
    "            line = line.replace(\"XX\",\"%s\" % i)\n",
    "            new_sbatch.write(line)\n",
    "        elif \"YY\" in line:\n",
    "            line = line.replace(\"YY\", \"%s\" % working_dir)\n",
    "            new_sbatch.write(line)\n",
    "        else:\n",
    "            new_sbatch.write(line)\n",
    "            \n",
    "    new_sbatch.close()"
   ]
  },
  {
   "cell_type": "code",
   "execution_count": 12,
   "metadata": {},
   "outputs": [
    {
     "data": {
      "text/plain": [
       "'/scratch/axiom/FAC/FBM/DEE/jpannell/merc_omics_dlj/Parameter_space_exploration'"
      ]
     },
     "execution_count": 12,
     "metadata": {},
     "output_type": "execute_result"
    }
   ],
   "source": [
    "working_dir"
   ]
  }
 ],
 "metadata": {
  "kernelspec": {
   "display_name": "Python 3",
   "language": "python",
   "name": "python3"
  },
  "language_info": {
   "codemirror_mode": {
    "name": "ipython",
    "version": 3
   },
   "file_extension": ".py",
   "mimetype": "text/x-python",
   "name": "python",
   "nbconvert_exporter": "python",
   "pygments_lexer": "ipython3",
   "version": "3.6.3"
  }
 },
 "nbformat": 4,
 "nbformat_minor": 4
}
