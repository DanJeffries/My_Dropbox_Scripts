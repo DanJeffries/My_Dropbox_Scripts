{
 "metadata": {
  "name": "",
  "signature": "sha256:b91434fea3eb7af66070aedd77d80296459a659452209c217782497bb9a70853"
 },
 "nbformat": 3,
 "nbformat_minor": 0,
 "worksheets": [
  {
   "cells": [
    {
     "cell_type": "code",
     "collapsed": false,
     "input": [
      "## filtering subsetted BAYENV files ###\n",
      "\n",
      "sub_fil = open(\"/home/dan/RAD_programs/BAYENV/bayenv_release/bottlenecked/bottlenecked_data.txt\", 'r')\n",
      "\n",
      "line_counter = 0\n",
      "allele_counter = 0\n",
      "for line in sub_fil.readlines()[:10]:\n",
      "    for pop in line.strip().split():\n",
      "        if int(pop) > 0:\n",
      "            allele_counter += 1\n",
      "    print allele_counter\n",
      "    if allele_counter > 0:\n",
      "        print line\n",
      "    line_counter += 1\n",
      "    allele_counter = 0\n",
      "    "
     ],
     "language": "python",
     "metadata": {},
     "outputs": [
      {
       "output_type": "stream",
       "stream": "stdout",
       "text": [
        "7\n",
        "18\t18\t20\t11\t16\t20\t20\n",
        "\n",
        "1\n",
        "0\t0\t0\t7\t0\t0\t0\n",
        "\n",
        "6\n",
        "18\t18\t20\t18\t0\t20\t20\n",
        "\n",
        "1\n",
        "0\t0\t0\t0\t16\t0\t0\n",
        "\n",
        "7\n",
        "14\t18\t20\t18\t16\t20\t20\n",
        "\n",
        "0\n",
        "7\n",
        "9\t9\t10\t9\t8\t10\t10\n",
        "\n",
        "7\n",
        "9\t9\t10\t9\t8\t10\t10\n",
        "\n",
        "7\n",
        "16\t18\t20\t18\t18\t20\t20\n",
        "\n",
        "0\n"
       ]
      }
     ],
     "prompt_number": 43
    },
    {
     "cell_type": "code",
     "collapsed": false,
     "input": [
      "sub_fil = open(\"/home/dan/RAD_programs/BAYENV/bayenv_release/bottlenecked/bottlenecked_data_formatted.txt\", 'r').readlines()\n",
      "\n",
      "new_sub_file = open(\"/home/dan/RAD_programs/BAYENV/bayenv_release/bottlenecked/bottlenecked_data_filtered.txt\", 'w')\n",
      "\n",
      "line_pairs = zip(sub_fil,sub_fil[1:])[::2] ## creates pairs of lines\n",
      "\n",
      "\n",
      "allele_counter = 0\n",
      "monomorphic_counter = 0\n",
      "\n",
      "for pair in line_pairs: ## for each locus\n",
      "    for allele in pair: ## for each allele\n",
      "        pop_counter = 0 ## reset pop presence counter\n",
      "        for pop in allele.split():\n",
      "            if int(pop) > 1: ## if pop is present at this allele, increment pop counter by 1\n",
      "                pop_counter += 1\n",
      "        if pop_counter > 3: ## if allele has at least 3 pops present, increment allele counter\n",
      "            allele_counter +=1\n",
      "    if allele_counter == 2: ## if locus contains 2 alleles for which at least one pop is present, keep locus\n",
      "        allele1, allele2 = pair ## can assign things in tuples naturally like this! Awesome!!\n",
      "        new_sub_file.write(allele1+allele2)\n",
      "       # print pair\n",
      "    #for allele in pair:\n",
      "        #   new_sub_file.write(allele)\n",
      "    else:\n",
      "        monomorphic_counter += 1 ## otherwise it is monomorphic\n",
      "    allele_counter = 0\n",
      "\n",
      "new_sub_file.close()\n",
      "\n",
      "print \"Number of monomorphic loci = \"+str(monomorphic_counter)"
     ],
     "language": "python",
     "metadata": {},
     "outputs": [
      {
       "output_type": "stream",
       "stream": "stdout",
       "text": [
        "Number of monomorphic loci = 16014\n"
       ]
      }
     ],
     "prompt_number": 45
    },
    {
     "cell_type": "code",
     "collapsed": false,
     "input": [],
     "language": "python",
     "metadata": {},
     "outputs": []
    }
   ],
   "metadata": {}
  }
 ]
}