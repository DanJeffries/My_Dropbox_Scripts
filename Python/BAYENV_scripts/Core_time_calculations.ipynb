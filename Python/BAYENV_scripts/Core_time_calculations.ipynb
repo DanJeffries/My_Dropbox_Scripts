{
 "cells": [
  {
   "cell_type": "markdown",
   "metadata": {},
   "source": [
    "### Below are my core time calculations and proposed splits for the data"
   ]
  },
  {
   "cell_type": "code",
   "execution_count": 30,
   "metadata": {
    "collapsed": false
   },
   "outputs": [
    {
     "name": "stdout",
     "output_type": "stream",
     "text": [
      "Total core Mins required = 91250\n",
      "Total core Hours required = 1520\n"
     ]
    }
   ],
   "source": [
    "## Machine specs ##\n",
    "\n",
    "N_cores_on_other_available_local_machines = 6 ## See if I can find some more over easter!\n",
    "\n",
    "Price_per_hour_for_c3_2xlarge = 0.420\n",
    "\n",
    "N_Cores_for_c3_2xlarge = 8\n",
    "\n",
    "Price_per_hour_for_c3_4xlarge = 0.840\n",
    "\n",
    "N_Cores_for_c3_4xlarge = 16\n",
    "\n",
    "AWS_budget = 200*1.48 ## 200 pounds in dollars\n",
    "\n",
    "\n",
    "### Analsysis specs and times ###\n",
    "\n",
    "N_its_per_sub_sample = 5  ## the number of independent replicat iterations of each sub-sample\n",
    "\n",
    "N_sub_samples_per_bin = 8 ## Number of different population subsamples per N_bottleneck_pops bin\n",
    "\n",
    "N_bottleneck_pops_bins = 7 ## bottleneck pop bins from 1-8 bottlenecked pops per sub-sample but 1 only has 1 rep\n",
    "\n",
    "Time_for_1_iter = 320 ## time for one iteration (sub-sample) in core minutes\n",
    "\n",
    "\n",
    "### Caluculations ## \n",
    "\n",
    "## For full desired analysis ##\n",
    "\n",
    "total_core_mins_required_full = ((((Time_for_1_iter*N_its_per_sub_sample)*N_sub_samples_per_bin)*N_bottleneck_pops_bins)+1650) ## the 1650 is for making the matrices (30 mins per rep)\n",
    "total_core_Hrs_required_full = total_core_mins_required_full/60\n",
    "\n",
    "print \"Total core Mins required =\", total_core_mins_required_full\n",
    "print \"Total core Hours required =\", total_core_Hrs_required_full\n",
    "\n"
   ]
  },
  {
   "cell_type": "markdown",
   "metadata": {},
   "source": [
    "### Splitting the data!"
   ]
  },
  {
   "cell_type": "code",
   "execution_count": 29,
   "metadata": {
    "collapsed": false,
    "scrolled": true
   },
   "outputs": [
    {
     "name": "stdout",
     "output_type": "stream",
     "text": [
      "I can afford 704.761904762 core hours \n",
      "which will take 88.0952380952 hours on one c3_2xlarge instance ( 3.67063492063 days )\n",
      "\n",
      "This leaves 815.238095238 core hours of analysis\n",
      "\n",
      "Using local machines, I can do this in 135.873015873 hours ( 5.66137566138 days )\n"
     ]
    }
   ],
   "source": [
    "### First how much core time can I afford ###\n",
    "\n",
    "## c3_2xlarge instance ##\n",
    "\n",
    "core_hours_allowed = AWS_budget / Price_per_hour_for_c3_2xlarge\n",
    "Real_time_allowed = core_hours_allowed/ N_Cores_for_c3_2xlarge\n",
    "\n",
    "core_time_remaining = total_core_Hrs_required_full - core_hours_allowed\n",
    "real_time_remaining = core_time_remaining/ N_cores_on_other_available_local_machines\n",
    "\n",
    "print \"I can afford\", core_hours_allowed, \"core hours \"\n",
    "print \"which will take\", Real_time_allowed, \"hours on one c3_2xlarge instance (\",Real_time_allowed/24, \"days )\"\n",
    "print \"\\nThis leaves\", core_time_remaining, \"core hours of analysis\"\n",
    "\n",
    "print \"\\nUsing local machines, I can do this in\",real_time_remaining , \"hours (\", real_time_remaining/24, \"days )\"\n",
    "\n",
    "\n"
   ]
  },
  {
   "cell_type": "markdown",
   "metadata": {},
   "source": [
    "###So I can actually run this in less than a week across 32 cores. . . . \n"
   ]
  },
  {
   "cell_type": "code",
   "execution_count": 40,
   "metadata": {
    "collapsed": false
   },
   "outputs": [
    {
     "name": "stdout",
     "output_type": "stream",
     "text": [
      "So I can run 46.365914787 % of my analysis on AWS\n",
      "Thats 25.3 its\n",
      "So thats 3.1625 bottleneck bins on the cloud (see below)\n"
     ]
    }
   ],
   "source": [
    "print \"So I can run\", (core_hours_allowed/total_core_Hrs_required_full)*100, \"% of my analysis on AWS\"\n",
    "\n",
    "print \"Thats\", 55*0.46,\"its\"\n",
    "print \"So thats\", 55*0.46/8, \"bottleneck bins on the cloud (see below)\""
   ]
  },
  {
   "cell_type": "markdown",
   "metadata": {},
   "source": [
    "Because the first bin only has 1 rep in it, this means bins 1-4 contain exactly 25 reps.\n",
    "\n",
    "###So splitting as follows:\n",
    "    -Bins 0,1,2,3 on AWS\n",
    "    -Bins 4,5 on my local 8 core machine\n",
    "    -Bins 6,7 on other local machine!"
   ]
  }
 ],
 "metadata": {
  "kernelspec": {
   "display_name": "Python 2",
   "language": "python",
   "name": "python2"
  },
  "language_info": {
   "codemirror_mode": {
    "name": "ipython",
    "version": 2
   },
   "file_extension": ".py",
   "mimetype": "text/x-python",
   "name": "python",
   "nbconvert_exporter": "python",
   "pygments_lexer": "ipython2",
   "version": "2.7.6"
  }
 },
 "nbformat": 4,
 "nbformat_minor": 0
}
