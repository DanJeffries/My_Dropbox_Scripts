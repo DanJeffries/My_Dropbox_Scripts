{
 "metadata": {
  "name": "",
  "signature": "sha256:c13c8c8aab8da316a3faec323f1203e97d982b6b94f5c57134c347e48a6d963e"
 },
 "nbformat": 3,
 "nbformat_minor": 0,
 "worksheets": [
  {
   "cells": [
    {
     "cell_type": "code",
     "collapsed": false,
     "input": [
      "## get a list of sample names\n",
      "samples = []\n",
      "for line in open(\"/media/dan/34D5D1CE642D7E36/2013076_Hanfling_Bernd/Stacks/Stacks_analyses_TRIMMED/Pure_cru_only/populations_r07_p17_m8/batch1_rndm5000sub.vcf\", 'r').readlines()[8:9]:\n",
      "    for sample in line.split()[9:]:\n",
      "        samples.append(sample)\n",
      "samples = sorted(samples)\n",
      "print \"number of samples = \",len(samples)"
     ],
     "language": "python",
     "metadata": {},
     "outputs": [
      {
       "output_type": "stream",
       "stream": "stdout",
       "text": [
        "number of samples =  170\n"
       ]
      }
     ],
     "prompt_number": 2
    },
    {
     "cell_type": "code",
     "collapsed": false,
     "input": [
      "### making bottlenecked data input file ##\n",
      "bottlenecked_samples = []\n",
      "\n",
      "for sample in samples:\n",
      "    for b_sample in open(\"/home/dan/RAD_programs/BAYENV/bayenv_release/bottlenecked/bottlenecked_pop_order.txt\", 'r').readlines():\n",
      "        if sample.startswith(b_sample.strip()):\n",
      "            print sample\n",
      "            bottlenecked_samples.append(sample)"
     ],
     "language": "python",
     "metadata": {},
     "outputs": [
      {
       "output_type": "stream",
       "stream": "stdout",
       "text": [
        "BF04_1.fil\n",
        "BF05_1.fil\n",
        "BF06_1.fil\n",
        "BF08_1.fil\n",
        "BF09_1.fil\n",
        "BF10_1.fil\n",
        "BF11_1.fil\n",
        "BF12_1.fil\n",
        "BF13_1.fil\n",
        "CA-LK01_1.fil\n",
        "CA-LK02_1.fil\n",
        "CA-LK03_1.fil\n",
        "CA-LK04_1.fil\n",
        "CA-LK05_1.fil\n",
        "CA-LK06_1.fil\n",
        "CA-LK07_1.fil\n",
        "CA-LK08_1.fil\n",
        "CA-LK09_1.fil\n",
        "CA-LK10_1.fil\n",
        "CAKE10_RD-P1-178_1.fil\n",
        "CAKE2_RD-P1-177_1.fil\n",
        "CAKE3_RD-P1-183_1.fil\n",
        "CAKE4_RD-P1-114_1.fil\n",
        "CAKE5_RD-P1-116_1.fil\n",
        "CAKE6_RD-P1-143_1.fil\n",
        "CAKE7_RD-P1-148_1.fil\n",
        "CAKE8_RD-P1-150_1.fil\n",
        "CAKE9_RD-P1-163_1.fil\n",
        "MOAT10_RD-P1-145_1.fil\n",
        "MOAT1_RD-P1-111_1.fil\n",
        "MOAT2_RD-P1-144_1.fil\n",
        "MOAT3_RD-P1-146_1.fil\n",
        "MOAT4_RD-P1-155_1.fil\n",
        "MOAT5_RD-P1-156_1.fil\n",
        "MOAT6_RD-P1-181_1.fil\n",
        "MOAT7_RD-P1-184_1.fil\n",
        "MOAT8_RD-P1-109_1.fil\n",
        "MOAT9_RD-P1-112_1.fil\n",
        "OBY01_1.fil\n",
        "OBY02_1.fil\n",
        "OBY07_1.fil\n",
        "OBY10_1.fil\n",
        "OBY11_1.fil\n",
        "OBY12_1.fil\n",
        "OBY13_1.fil\n",
        "OBY14_1.fil\n",
        "OBY15_1.fil\n",
        "STEC10_RD-P1-149_1.fil\n",
        "STEC1_RD-P1-147_1.fil\n",
        "STEC2_RD-P1-153_1.fil\n",
        "STEC3_RD-P1-154_1.fil\n",
        "STEC4_RD-P1-182_1.fil\n",
        "STEC5_RD-P1-185_1.fil\n",
        "STEC6_RD-P1-113_1.fil\n",
        "STEC7_RD-P1-115_1.fil\n",
        "STEC8_RD-P1-141_1.fil\n",
        "STEC9_RD-P1-142_1.fil\n",
        "TROM02_1.fil\n",
        "TROM03_1.fil\n",
        "TROM04_1.fil\n",
        "TROM09_1.fil\n",
        "TROM11_1.fil\n",
        "TROM12_1.fil\n",
        "TROM16_1.fil\n",
        "TROM17_1.fil\n",
        "TROM18_1.fil\n"
       ]
      }
     ],
     "prompt_number": 15
    },
    {
     "cell_type": "code",
     "collapsed": false,
     "input": [
      "import vcf\n",
      "vcf = vcf.Reader(open(\"/media/dan/34D5D1CE642D7E36/2013076_Hanfling_Bernd/Stacks/Stacks_analyses_TRIMMED/Pure_cru_only/populations_r07_p17_m8/batch1_rndm5000sub.vcf\", 'r'))\n",
      "\n",
      "\n",
      "records = vcf.next() ## I really do not know how this works, there seems to be no explanation in tutorial!\n",
      "\n",
      "## For each sample, print the depth of coverage for that snp. Doing this on its own just does it for the first snp\n",
      "mydict = dict()\n",
      "\n",
      "\n",
      "for record in vcf: ## for each snp in the vcf\n",
      "    for sample in bottlenecked_samples: ## and for each sample in the list of samples made above\n",
      "        if sample in mydict: ## if the sample is already in the dictionary\n",
      "            mydict[sample].append(str(record.genotype(sample)['GT'])) # append the GT of that sample for that record to that sample's key in the dictionary\n",
      "        else:\n",
      "            mydict[sample] = [str(record.genotype(sample)['GT'])] ## or create a new slot in the dictionary and add that sample to it\n",
      "       \n",
      "print \"DONE\"\n"
     ],
     "language": "python",
     "metadata": {},
     "outputs": [
      {
       "output_type": "stream",
       "stream": "stdout",
       "text": [
        "DONE\n"
       ]
      }
     ],
     "prompt_number": 16
    },
    {
     "cell_type": "code",
     "collapsed": false,
     "input": [
      "## make dictionary of all genotypes in \n",
      "\n",
      "pops = open(\"/home/dan/RAD_programs/BAYENV/bayenv_release/bottlenecked/bottlenecked_pop_order.txt\" ,'r')\n",
      "popdict = dict()\n",
      "for pop in pops.readlines():\n",
      "    pop = pop.strip()\n",
      "    for key in sorted(mydict.keys()):\n",
      "        if key.startswith(pop):\n",
      "            if pop in popdict:\n",
      "                popdict[pop].append(mydict[key])\n",
      "            else:\n",
      "                popdict[pop] = [mydict[key]]\n",
      "    \n",
      "    \n",
      "print \"number of keys\", len(popdict.keys())\n",
      "print \"DONE\"\n",
      "\n"
     ],
     "language": "python",
     "metadata": {},
     "outputs": [
      {
       "output_type": "stream",
       "stream": "stdout",
       "text": [
        "number of keys 7\n",
        "DONE\n"
       ]
      }
     ],
     "prompt_number": 25
    },
    {
     "cell_type": "code",
     "collapsed": false,
     "input": [
      "## allele counter function ## \n",
      "def ref_allele_counter(pop_name):\n",
      "    whole_pop_ref_list = []\n",
      "    whole_pop_alt_list = []\n",
      "    for _list in popdict[pop_name]:\n",
      "        ref_list = []\n",
      "        alt_list = []\n",
      "        for genotype in _list:\n",
      "            if genotype == \"0/0\":\n",
      "                ref_list.append(\"2\")\n",
      "                alt_list.append(\"0\")\n",
      "            elif genotype == \"1/0\":\n",
      "                ref_list.append(\"1\")\n",
      "                alt_list.append(\"1\")\n",
      "            elif genotype == \"0/1\":\n",
      "                ref_list.append(\"1\")\n",
      "                alt_list.append(\"1\")\n",
      "            elif genotype == \"1/1\":\n",
      "                ref_list.append(\"0\")\n",
      "                alt_list.append(\"2\")\n",
      "            elif genotype == \"./.\":\n",
      "                ref_list.append(\"0\") ## what to do with missing data?! I think it will be ok with zeroes but definitely need to check somehow post hoc\n",
      "                alt_list.append(\"0\")\n",
      "        whole_pop_ref_list.append(ref_list) ## two lists both outputted by the function contain the counts of each allele at each locus\n",
      "        whole_pop_alt_list.append(alt_list)\n",
      "    return [whole_pop_ref_list, whole_pop_alt_list]\n",
      "#print ref_allele_counter(\"BF\")[1] ## just for testing"
     ],
     "language": "python",
     "metadata": {},
     "outputs": [],
     "prompt_number": 26
    },
    {
     "cell_type": "code",
     "collapsed": false,
     "input": [
      "## replace genotypes with ref_allele and alt_allele counts ## \n",
      "popdict_REF_counts = dict()\n",
      "popdict_ALT_counts = dict()\n",
      "\n",
      "for key in popdict:\n",
      "    popdict_REF_counts[key] = ref_allele_counter(str(key))[0] ## works nicely. ## see function for how missing data is dealt with\n",
      "    popdict_ALT_counts[key] = ref_allele_counter(str(key))[1]\n",
      "print \"done\"\n"
     ],
     "language": "python",
     "metadata": {},
     "outputs": [
      {
       "output_type": "stream",
       "stream": "stdout",
       "text": [
        "done\n"
       ]
      }
     ],
     "prompt_number": 27
    },
    {
     "cell_type": "code",
     "collapsed": false,
     "input": [
      "## summing the corresponding loci accross lists (individuals) within each key (population).\n",
      "pops = open(\"/home/dan/RAD_programs/BAYENV/bayenv_release/bottlenecked/bottlenecked_pop_order.txt\" ,'r')\n",
      "\n",
      "pop_allele_counts = {}\n",
      "\n",
      "for pop in pops:\n",
      "    pop = pop.strip()\n",
      "    pop_allele_counts[pop] = [[sum(int(y) for y in x) for x in zip(*popdict_REF_counts[str(pop)])],[sum(int(y) for y in x) for x in zip(*popdict_ALT_counts[str(pop)])]]\n",
      "    \n",
      "    \n",
      "    print pop\n",
      "    print \"max REF = \", max([sum(int(y) for y in x) for x in zip(*popdict_REF_counts[str(pop)])]) # check max allele count is not over 2x sample size\n",
      "    print \"#REF alleles =\", len([sum(int(y) for y in x) for x in zip(*popdict_REF_counts[str(pop)])]) # check number of loci is correct\n",
      "   \n",
      "    print \"max = ALT\", max([sum(int(y) for y in x) for x in zip(*popdict_ALT_counts[str(pop)])])\n",
      "    print \"#loci alleles = \", len([sum(int(y) for y in x) for x in zip(*popdict_ALT_counts[str(pop)])])\n",
      "    \n",
      "    \n",
      "#zip (*popdict[\"COP\"])\n"
     ],
     "language": "python",
     "metadata": {},
     "outputs": [
      {
       "output_type": "stream",
       "stream": "stdout",
       "text": [
        "BF\n",
        "max REF =  18\n",
        "#REF alleles = 4999\n",
        "max = ALT "
       ]
      },
      {
       "output_type": "stream",
       "stream": "stdout",
       "text": [
        "18\n",
        "#loci alleles =  4999\n",
        "CAKE\n",
        "max REF =  "
       ]
      },
      {
       "output_type": "stream",
       "stream": "stdout",
       "text": [
        "18\n",
        "#REF alleles = 4999\n",
        "max = ALT 18\n",
        "#loci alleles =  4999\n",
        "MOAT"
       ]
      },
      {
       "output_type": "stream",
       "stream": "stdout",
       "text": [
        "\n",
        "max REF =  20\n",
        "#REF alleles = 4999\n",
        "max = ALT "
       ]
      },
      {
       "output_type": "stream",
       "stream": "stdout",
       "text": [
        "20\n",
        "#loci alleles =  4999\n",
        "OBY\n",
        "max REF =  "
       ]
      },
      {
       "output_type": "stream",
       "stream": "stdout",
       "text": [
        "18\n",
        "#REF alleles = 4999\n",
        "max = ALT 18\n",
        "#loci alleles =  4999\n",
        "TROM"
       ]
      },
      {
       "output_type": "stream",
       "stream": "stdout",
       "text": [
        "\n",
        "max REF =  18\n",
        "#REF alleles = 4999\n",
        "max = ALT 18\n",
        "#loci alleles =  "
       ]
      },
      {
       "output_type": "stream",
       "stream": "stdout",
       "text": [
        "4999\n",
        "CA-LK\n",
        "max REF =  "
       ]
      },
      {
       "output_type": "stream",
       "stream": "stdout",
       "text": [
        "20\n",
        "#REF alleles = 4999\n",
        "max = ALT 20\n",
        "#loci alleles =  "
       ]
      },
      {
       "output_type": "stream",
       "stream": "stdout",
       "text": [
        "4999\n",
        "STEC\n",
        "max REF =  "
       ]
      },
      {
       "output_type": "stream",
       "stream": "stdout",
       "text": [
        "20\n",
        "#REF alleles = 4999\n",
        "max = ALT 20\n",
        "#loci alleles =  "
       ]
      },
      {
       "output_type": "stream",
       "stream": "stdout",
       "text": [
        "4999\n"
       ]
      }
     ],
     "prompt_number": 28
    },
    {
     "cell_type": "code",
     "collapsed": false,
     "input": [
      "## writing to file - this is not ideal but it does the job\n",
      "## Shald have constructed dictionaries by locus from the start!\n",
      "\n",
      "pops = open(\"/home/dan/RAD_programs/BAYENV/bayenv_release/bottlenecked/bottlenecked_pop_order.txt\" ,'r')\n",
      "\n",
      "for pop in pops:\n",
      "    new_file = open(\"/home/dan/RAD_programs/BAYENV/bayenv_release/bottlenecked/bottlenecked_\"+pop.strip()+\"5000rndmsub_bayenv.temp\", 'w')\n",
      "\n",
      "    for i,j in zip(pop_allele_counts[pop.strip()][0],pop_allele_counts[pop.strip()][1]):\n",
      "        new_file.write(str(i)+\"\\n\"+str(j)+\"\\n\")\n",
      "    new_file.close()\n"
     ],
     "language": "python",
     "metadata": {},
     "outputs": [],
     "prompt_number": 29
    }
   ],
   "metadata": {}
  }
 ]
}