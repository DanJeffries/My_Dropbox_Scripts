{
 "metadata": {
  "name": "",
  "signature": "sha256:d36f85cf86e2cf983e22d3fc453158d53414d595df10498a7ca29c7646e00d08"
 },
 "nbformat": 3,
 "nbformat_minor": 0,
 "worksheets": [
  {
   "cells": [
    {
     "cell_type": "code",
     "collapsed": false,
     "input": [
      "master = open(\"/home/dan/RAD_programs/BAYENV/bayenv_release/All_pops_run/BAYENV_winning_3outof5_loci_bottlenecked.fa\", 'r')\n",
      "\n",
      "bottlenecked = open(\"/home/dan/RAD_programs/BAYENV/bayenv_release/bottlenecked/BAYENV_winning_3outof5_loci_bottlenecked.fa\", 'r')\n",
      "\n",
      "non_bottlenecked = open(\"/home/dan/RAD_programs/BAYENV/bayenv_release/non_bottlenecked/BAYENV_winning_3outof5_loci_non_bottlenecked.fa\", 'r')\n"
     ],
     "language": "python",
     "metadata": {},
     "outputs": [],
     "prompt_number": 20
    },
    {
     "cell_type": "code",
     "collapsed": false,
     "input": [
      "## non_bottlenecked:\n",
      "\n",
      "Co_id_counter = 0\n",
      "Co_idd_loci = []\n",
      "\n",
      "for locus in open(\"/home/dan/RAD_programs/BAYENV/bayenv_release/non_bottlenecked/BAYENV_winning_3outof5_loci_non_bottlenecked.fa\", 'r').readlines():\n",
      "    if locus.startswith(\">\"):\n",
      "        #print locus.strip()\n",
      "        for line in open(\"/home/dan/RAD_programs/BAYENV/bayenv_release/All_pops_run/BAYENV_winning_3outof5_loci_ALL_POPS.fa\", 'r').readlines():\n",
      "            if line.startswith(\">\"):\n",
      "                if locus.strip() == line.strip():\n",
      "                    Co_id_counter += 1\n",
      "                    Co_idd_loci.append(locus)\n",
      "print \"Number of Co-ID'd loci =\", Co_id_counter\n",
      "print Co_idd_loci"
     ],
     "language": "python",
     "metadata": {},
     "outputs": [
      {
       "output_type": "stream",
       "stream": "stdout",
       "text": [
        "Number of Co-ID'd loci = 3\n",
        "['>Loc_22987\\n', '>Loc_24427\\n', '>Loc_33537\\n']\n"
       ]
      }
     ],
     "prompt_number": 25
    },
    {
     "cell_type": "code",
     "collapsed": false,
     "input": [
      "## bottlenecked:\n",
      "\n",
      "Co_id_counter = 0\n",
      "Co_idd_loci = []\n",
      "\n",
      "for locus in open(\"/home/dan/RAD_programs/BAYENV/bayenv_release/bottlenecked/BAYENV_winning_3outof5_loci_bottlenecked.fa\", 'r').readlines():\n",
      "    if locus.startswith(\">\"):\n",
      "        #print locus.strip()\n",
      "        for line in open(\"/home/dan/RAD_programs/BAYENV/bayenv_release/All_pops_run/BAYENV_winning_3outof5_loci_ALL_POPS.fa\", 'r').readlines():\n",
      "            if line.startswith(\">\"):\n",
      "                if locus.strip() == line.strip():\n",
      "                    Co_id_counter += 1\n",
      "                    Co_idd_loci.append(locus)\n",
      "print \"Number of Co-ID'd loci =\", Co_id_counter\n",
      "print Co_idd_loci\n",
      "    "
     ],
     "language": "python",
     "metadata": {},
     "outputs": [
      {
       "output_type": "stream",
       "stream": "stdout",
       "text": [
        "Number of Co-ID'd loci = 4\n",
        "['>Loc_8320\\n', '>Loc_17058\\n', '>Loc_24793\\n', '>Loc_25019\\n']\n"
       ]
      }
     ],
     "prompt_number": 26
    }
   ],
   "metadata": {}
  }
 ]
}