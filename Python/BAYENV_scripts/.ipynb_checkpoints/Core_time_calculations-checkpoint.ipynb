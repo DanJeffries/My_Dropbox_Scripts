{
 "cells": [
  {
   "cell_type": "markdown",
   "metadata": {},
   "source": [
    "### Below are my core time calculations and proposed splits for the data"
   ]
  },
  {
   "cell_type": "code",
   "execution_count": null,
   "metadata": {
    "collapsed": true
   },
   "outputs": [],
   "source": [
    "## Machine specs ##\n",
    "\n",
    "N_cores_on_my_machine = 8\n",
    "\n",
    "N_cores_on_other_available_local_machines = 6 ## See if I can find some more over easter!\n",
    "\n",
    "Price_per_hour_for_c3.2xlarge = 0.420\n",
    "\n",
    "N_Cores_for_c3.2xlarge = 8\n",
    "\n",
    "Price_per_hour_for_c3.4xlarge = 0.840\n",
    "\n",
    "N_Cores_for_c3.4xlarge = 16\n",
    "\n",
    "\n",
    "### Analsysis time ###\n",
    "\n",
    "N_its_per_sub_sample = 5  ## the number of independent replicat iterations of each sub-sample\n",
    "\n",
    "N_sub_samples_per_bin = 8 ## Number of different population subsamples per N_bottleneck_pops bin\n",
    "\n",
    "N_bottleneck_pops_bins = 7 ## bottleneck pop bins from 1-8 bottlenecked pops per sub-sample\n",
    "\n",
    "Time_for_1_iter = 320 ## time for one iteration (sub-sample) in core minutes\n",
    "\n",
    "\n",
    "\n",
    "\n",
    "\n"
   ]
  }
 ],
 "metadata": {
  "kernelspec": {
   "display_name": "Python 2",
   "language": "python",
   "name": "python2"
  },
  "language_info": {
   "codemirror_mode": {
    "name": "ipython",
    "version": 2
   },
   "file_extension": ".py",
   "mimetype": "text/x-python",
   "name": "python",
   "nbconvert_exporter": "python",
   "pygments_lexer": "ipython2",
   "version": "2.7.6"
  }
 },
 "nbformat": 4,
 "nbformat_minor": 0
}
