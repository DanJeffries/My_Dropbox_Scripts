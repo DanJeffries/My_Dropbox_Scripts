{
 "cells": [
  {
   "cell_type": "code",
   "execution_count": 29,
   "metadata": {
    "collapsed": false
   },
   "outputs": [],
   "source": [
    "import os\n",
    "\n",
    "temp_range_file = open(\"/media/dan/34D5D1CE642D7E36/2013076_Hanfling_Bernd/BAYENV_CLOUD_COMP/Sub-samples/Sub_samp_temp_ranges.txt\", 'w')\n",
    "\n",
    "for root, dirs, files in os.walk(\"/media/dan/34D5D1CE642D7E36/2013076_Hanfling_Bernd/BAYENV_CLOUD_COMP/Sub-samples\"):\n",
    "    for fil in files:\n",
    "        if fil == \"temps.env\":\n",
    "            temp_fil = open(root+\"/\"+fil, 'r').readlines()[0].split()\n",
    "            temp_fil_ints = map(float, temp_fil)\n",
    "            temp_range_file.write('/'.join(root.split(\"/\")[-2:])+\"\\t\"+str(max(temp_fil_ints) - min(temp_fil_ints))+\"\\n\")\n",
    "        \n",
    "temp_range_file.close()       "
   ]
  },
  {
   "cell_type": "code",
   "execution_count": null,
   "metadata": {
    "collapsed": false
   },
   "outputs": [],
   "source": []
  }
 ],
 "metadata": {
  "kernelspec": {
   "display_name": "Python 2",
   "language": "python",
   "name": "python2"
  },
  "language_info": {
   "codemirror_mode": {
    "name": "ipython",
    "version": 2
   },
   "file_extension": ".py",
   "mimetype": "text/x-python",
   "name": "python",
   "nbconvert_exporter": "python",
   "pygments_lexer": "ipython2",
   "version": "2.7.6"
  }
 },
 "nbformat": 4,
 "nbformat_minor": 0
}
