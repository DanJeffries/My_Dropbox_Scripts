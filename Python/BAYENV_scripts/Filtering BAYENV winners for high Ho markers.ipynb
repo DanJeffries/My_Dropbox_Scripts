{
 "metadata": {
  "name": "",
  "signature": "sha256:dc4f8fa735f6683060bd143c6a1f799d9dd0c95918930fc24567e0676d9b40d7"
 },
 "nbformat": 3,
 "nbformat_minor": 0,
 "worksheets": [
  {
   "cells": [
    {
     "cell_type": "code",
     "collapsed": false,
     "input": [
      "## Finding blacklisted loci in winning BAYENV loci ##\n",
      "\n",
      "blacklist = open(\"/media/dan/34D5D1CE642D7E36/2013076_Hanfling_Bernd/Stacks/Stacks_analyses_TRIMMED/Pure_cru_M_2/populations_r07_p17_Ho_filetered/blacklist.txt\", 'r').readlines()\n",
      "winners = open(\"/home/dan/RAD_programs/BAYENV/bayenv_release//home/dan/RAD_programs/BAYENV/bayenv_release/All_pops_run\", 'r').readlines()\n",
      "\n",
      "for blackloc in blacklist:\n",
      "    for locus in winners:\n",
      "        if locus.startswith(\">\") and locus.split(\"_\")[1] == blackloc:\n",
      "            print locus #, \"=\" , blackloc\n",
      "\n"
     ],
     "language": "python",
     "metadata": {},
     "outputs": [
      {
       "output_type": "stream",
       "stream": "stdout",
       "text": [
        ">Loc_12163\n",
        "\n",
        ">Loc_25019\n",
        "\n",
        ">Loc_6426\n"
       ]
      },
      {
       "output_type": "stream",
       "stream": "stdout",
       "text": [
        "\n",
        ">Loc_7761\n",
        "\n",
        ">Loc_12176\n",
        "\n",
        ">Loc_25642\n",
        "\n",
        ">Loc_7599\n",
        "\n"
       ]
      }
     ],
     "prompt_number": 2
    }
   ],
   "metadata": {}
  }
 ]
}