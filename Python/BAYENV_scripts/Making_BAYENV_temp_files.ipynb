{
 "cells": [
  {
   "cell_type": "code",
   "execution_count": 12,
   "metadata": {
    "collapsed": false
   },
   "outputs": [
    {
     "name": "stdout",
     "output_type": "stream",
     "text": [
      "POLEN POLEN\t0.441444653446\n",
      "PRO PRO\t2.17032010065\n",
      "SK SK\t-0.0371977157329\n",
      "STYV STYV\t-0.190875533262\n",
      "TU TU\t0.683967459234\n",
      "V V\t1.85656122319\n",
      "WEN WEN\t-0.256508767832\n"
     ]
    }
   ],
   "source": [
    "import sys\n",
    "\n",
    "working_dir = sys.argv[1]\n",
    "\n",
    "#working_dir = \"/media/dan/34D5D1CE642D7E36/2013076_Hanfling_Bernd/BAYENV_CLOUD_COMP/Sub-samples/0_bottled_pops/rep_1/\"\n",
    "pops = open(working_dir+\"/uniq_pops.txt\", 'r').readlines()\n",
    "temps_file = open(working_dir+\"/../../STNDRDZED_pop_temps.tsv\", 'r').readlines()\n",
    "env_file = open(working_dir+\"/temps.env\", 'w')\n",
    "\n",
    "for pop in pops:\n",
    "    #print pop.strip()\n",
    "    for line in temps_file:\n",
    "    #print line.strip()\n",
    "        if line.strip().split()[0] == pop.strip():\n",
    "            #print pop.strip(), line.strip()\n",
    "            env_file.write(str(line.strip().split()[1])+\"\\t\")\n",
    "env_file.close()\n"
   ]
  }
 ],
 "metadata": {
  "kernelspec": {
   "display_name": "Python 2",
   "language": "python",
   "name": "python2"
  },
  "language_info": {
   "codemirror_mode": {
    "name": "ipython",
    "version": 2
   },
   "file_extension": ".py",
   "mimetype": "text/x-python",
   "name": "python",
   "nbconvert_exporter": "python",
   "pygments_lexer": "ipython2",
   "version": "2.7.6"
  }
 },
 "nbformat": 4,
 "nbformat_minor": 0
}
