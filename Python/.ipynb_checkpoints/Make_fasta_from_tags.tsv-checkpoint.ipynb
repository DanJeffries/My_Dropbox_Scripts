{
 "metadata": {
  "name": "",
  "signature": "sha256:16d5c001f345cff5057dcdd245f1a5622ccd34d4609a7f082eb657ffec65030a"
 },
 "nbformat": 3,
 "nbformat_minor": 0,
 "worksheets": [
  {
   "cells": [
    {
     "cell_type": "code",
     "collapsed": false,
     "input": [
      "def fasta_maka(directory, sample_file):\n",
      "    tags_file = open(directory+sample_file, 'r')\n",
      "    new_fasta = open(directory+sample_file.split('_')[0]+'.fasta', 'w')\n",
      "    for line in tags_file.readlines():\n",
      "        if 'consensus' in line:\n",
      "            new_fasta.write('>sample_'+sample_file.split('_')[0]+'_ID_'+str(line.split()[1])+'|tag_no_'+line.split()[2]+'\\n'+line.split()[6]+'\\n')\n",
      "\n",
      "\n",
      "\n",
      "\n",
      "\n",
      "fasta_maka('/media/dan/34D5D1CE642D7E36/2013076_Hanfling_Bernd/Stacks/blast_divergence_analysis/ustacks_outputs/','GBP7_RD-P1-127_1.fil.tags.tsv')"
     ],
     "language": "python",
     "metadata": {},
     "outputs": [],
     "prompt_number": 19
    },
    {
     "cell_type": "code",
     "collapsed": false,
     "input": [
      "!pwd"
     ],
     "language": "python",
     "metadata": {},
     "outputs": [
      {
       "output_type": "stream",
       "stream": "stdout",
       "text": [
        "/home/dan/Dropbox/PhD/Dan's PhD (Shared)/My_Dropbox_Scripts/Python\r\n"
       ]
      }
     ],
     "prompt_number": 20
    }
   ],
   "metadata": {}
  }
 ]
}