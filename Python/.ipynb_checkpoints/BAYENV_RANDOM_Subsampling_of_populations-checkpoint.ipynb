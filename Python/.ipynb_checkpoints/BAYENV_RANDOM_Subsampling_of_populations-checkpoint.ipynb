{
 "metadata": {
  "name": "",
  "signature": "sha256:c2d3850d42ad61cbc456f1bc0e62a436d1cc3cd90253978a2a34ca55518efe9e"
 },
 "nbformat": 3,
 "nbformat_minor": 0,
 "worksheets": [
  {
   "cells": [
    {
     "cell_type": "markdown",
     "metadata": {},
     "source": [
      "## BAYENV - subsampling - more complex that I thought!\n",
      "\n",
      "### The sub-samples need to have\n",
      "- varying numbers of bottlenecked and non-bottlenecked pops in them\n",
      "- the same number of sub-samples for each number of bottlenecked pops, i.e. 3 with 1, 3 with 2, not a normal distribution\n",
      "- no two subsamples can be the same\n",
      "\n"
     ]
    },
    {
     "cell_type": "code",
     "collapsed": false,
     "input": [
      "%matplotlib inline\n",
      "import random\n",
      "import matplotlib.pyplot as plt\n",
      "from collections import Counter\n",
      "\n",
      "### Need to ammend the below script to produce an even distribution of the number of bottlenecked and non-bottlenecked pops\n",
      "### Probs just easier to do this post hoc.\n",
      "\n",
      "root = !pwd\n",
      "print root, \"\\n\"\n",
      "\n",
      "def random_maker(number_of_lists):\n",
      "    \n",
      "    ## First, make a list of 7 random from 0-18 (1-19 in non python terms).\n",
      "\n",
      "    number_of_bottled = []\n",
      "    random_dict = {}\n",
      "    for the_list in range(1,(number_of_lists+1),1):\n",
      "        random_dict[the_list] = []\n",
      "  \n",
      "    ## Make the dictionary\n",
      "        for i in range (100): ## iterate process 100 times to ensure I'm going to fill the list with uniq values. \n",
      "            if len(random_dict[the_list]) < 7:\n",
      "                new_rand = (random.randrange(1,19,1))\n",
      "                if new_rand not in random_dict[the_list]:\n",
      "                    random_dict[the_list].append(new_rand)\n",
      "\n",
      "    ## Make sure I have an even number of sub-samples containing different numbers of bottlenecked popualtions.\n",
      "\n",
      "    even_dict = {}\n",
      "    for number in range(0,8,1):\n",
      "        even_dict[number] = []\n",
      "        for key, values in random_dict.items():\n",
      "            index_counter = 0\n",
      "            for index in values:\n",
      "                if index <= 7:\n",
      "                    index_counter +=1\n",
      "            if index_counter == number and len(even_dict[number]) <8: ## Set the number of sub-samples per number of bottlenecked-pops-class here\n",
      "                even_dict[number].append(values)\n",
      "    \n",
      "\n",
      "    \n",
      "    hist_data = []\n",
      "    for key, values in even_dict.items():\n",
      "        for i in range(len(values)):  ## Here I am sorting - otherwise the setting below wont work\n",
      "            values[i] = sorted(values[i])\n",
      "\n",
      "        even_dict[key] = [list(t) for t in set(map(tuple, even_dict[key]))] ## Set the list of lists, in order to make sure that I am not doing the same population combo more than once!\n",
      "        ## Note that this will remove some datasets, so should set the number of sub-samples for each bin higher than I need\n",
      "        print key, len(even_dict[key])\n",
      "        hist_data.append(len(even_dict[key]))\n",
      "        \n",
      "\n",
      "    print even_dict\n",
      "    \n",
      "    ## Make a quick hist of the number of uniq sub-samples in each class\n",
      "    plt.hist(hist_data)\n",
      "    plt.title(\"Number of Bottlenecked pops in sub-sample\")\n",
      "    plt.axes()\n",
      "    plt.show()\n",
      "\n",
      "    return even_dict\n",
      "\n",
      "\n",
      "sub_samples= random_maker(100000)\n"
     ],
     "language": "python",
     "metadata": {},
     "outputs": [
      {
       "output_type": "stream",
       "stream": "stdout",
       "text": [
        "[\"/home/dan/Dropbox/PhD/Dan's PhD (Shared)/My_Dropbox_Scripts/Python\"] \n",
        "\n",
        "0"
       ]
      },
      {
       "output_type": "stream",
       "stream": "stdout",
       "text": [
        " 8\n",
        "1 8\n",
        "2 8\n",
        "3 8\n",
        "4 8\n",
        "5 8\n",
        "6 8\n",
        "7 1\n",
        "{0: [[8, 9, 11, 12, 13, 16, 17], [10, 11, 12, 13, 14, 17, 18], [8, 9, 10, 12, 13, 14, 17], [8, 9, 10, 14, 15, 16, 17], [9, 10, 12, 13, 15, 17, 18], [8, 9, 10, 12, 13, 16, 18], [8, 9, 12, 13, 14, 16, 18], [10, 12, 13, 14, 16, 17, 18]], 1: [[2, 8, 9, 13, 14, 16, 17], [2, 8, 9, 12, 13, 16, 18], [6, 9, 11, 12, 14, 17, 18], [5, 8, 9, 13, 14, 16, 18], [7, 8, 12, 13, 15, 17, 18], [7, 8, 9, 11, 13, 14, 15], [1, 8, 12, 14, 15, 16, 18], [4, 8, 10, 11, 12, 13, 17]], 2: [[3, 4, 8, 13, 14, 15, 16], [4, 6, 10, 11, 13, 14, 15], [2, 7, 9, 11, 12, 14, 18], [2, 7, 8, 12, 14, 15, 18], [2, 7, 8, 10, 13, 14, 16], [3, 7, 8, 12, 14, 17, 18], [1, 7, 10, 11, 12, 14, 16], [3, 7, 9, 10, 12, 15, 16]], 3: [[1, 3, 5, 8, 9, 13, 18], [1, 4, 7, 8, 10, 17, 18], [3, 5, 7, 10, 12, 17, 18], [1, 4, 7, 9, 12, 13, 18], [1, 4, 7, 8, 10, 14, 15], [1, 3, 7, 11, 13, 17, 18], [1, 2, 6, 8, 10, 16, 18], [1, 2, 3, 8, 11, 17, 18]], 4: [[1, 2, 6, 7, 12, 15, 18], [2, 3, 4, 5, 15, 16, 17], [2, 3, 5, 7, 8, 11, 17], [1, 2, 3, 5, 9, 10, 17], [1, 2, 3, 4, 10, 11, 15], [1, 3, 4, 5, 14, 16, 17], [2, 3, 5, 7, 9, 16, 17], [2, 3, 4, 5, 8, 9, 18]], 5: [[1, 3, 5, 6, 7, 13, 18], [1, 2, 4, 5, 6, 8, 11], [2, 3, 4, 5, 6, 14, 16], [2, 3, 4, 6, 7, 8, 11], [1, 2, 4, 5, 7, 9, 14], [1, 2, 4, 5, 7, 8, 14], [2, 3, 4, 6, 7, 8, 12], [2, 3, 5, 6, 7, 8, 15]], 6: [[1, 3, 4, 5, 6, 7, 10], [1, 2, 4, 5, 6, 7, 14], [1, 2, 4, 5, 6, 7, 12], [2, 3, 4, 5, 6, 7, 9], [1, 2, 3, 4, 5, 6, 10], [1, 3, 4, 5, 6, 7, 15], [1, 2, 3, 4, 6, 7, 10], [1, 3, 4, 5, 6, 7, 8]], 7: [[1, 2, 3, 4, 5, 6, 7]]}\n"
       ]
      },
      {
       "metadata": {},
       "output_type": "display_data",
       "png": "[encoded data removed]",
       "text": [
        "<matplotlib.figure.Figure at 0x7f32dc016bd0>"
       ]
      }
     ],
     "prompt_number": 141
    },
    {
     "cell_type": "markdown",
     "metadata": {},
     "source": [
      "## Finally, convert to real population names"
     ]
    },
    {
     "cell_type": "code",
     "collapsed": false,
     "input": [
      "populations = [\"BF\",\"CAKE\",\"MOAT\",\"OBY\",\"CA-LK\",\"STEC\",\"TROM\",\"BOR\",\"COP\",\"OU\",\"PED\",\"POLEN\",\"PRO\",\"SD\",\"SK\",\"STYV\",\"TU\",\"V\",\"WEN\"]\n",
      "popslists = []\n",
      "\n",
      "for key, values in sub_samples.items():\n",
      "    for sub in values:\n",
      "        pops = []\n",
      "        for i in sub:\n",
      "            pops.append(populations[i].strip())\n",
      "        popslists.append(pops)\n",
      "\n",
      "for sub_sample in popslists:\n",
      "    print sub_sample"
     ],
     "language": "python",
     "metadata": {},
     "outputs": [
      {
       "output_type": "stream",
       "stream": "stdout",
       "text": [
        "['COP', 'OU', 'POLEN', 'PRO', 'SD', 'TU', 'V']\n",
        "['PED', 'POLEN', 'PRO', 'SD', 'SK', 'V', 'WEN']\n",
        "['COP', 'OU', 'PED', 'PRO', 'SD', 'SK', 'V']\n",
        "['COP', 'OU', 'PED', 'SK', 'STYV', 'TU', 'V']\n",
        "['OU', 'PED', 'PRO', 'SD', 'STYV', 'V', 'WEN']\n",
        "['COP', 'OU', 'PED', 'PRO', 'SD', 'TU', 'WEN']\n",
        "['COP', 'OU', 'PRO', 'SD', 'SK', 'TU', 'WEN']\n",
        "['PED', 'PRO', 'SD', 'SK', 'TU', 'V', 'WEN']\n",
        "['MOAT', 'COP', 'OU', 'SD', 'SK', 'TU', 'V']\n",
        "['MOAT', 'COP', 'OU', 'PRO', 'SD', 'TU', 'WEN']\n",
        "['TROM', 'OU', 'POLEN', 'PRO', 'SK', 'V', 'WEN']\n",
        "['STEC', 'COP', 'OU', 'SD', 'SK', 'TU', 'WEN']\n",
        "['BOR', 'COP', 'PRO', 'SD', 'STYV', 'V', 'WEN']\n",
        "['BOR', 'COP', 'OU', 'POLEN', 'SD', 'SK', 'STYV']\n",
        "['CAKE', 'COP', 'PRO', 'SK', 'STYV', 'TU', 'WEN']\n",
        "['CA-LK', 'COP', 'PED', 'POLEN', 'PRO', 'SD', 'V']\n",
        "['OBY', 'CA-LK', 'COP', 'SD', 'SK', 'STYV', 'TU']\n",
        "['CA-LK', 'TROM', 'PED', 'POLEN', 'SD', 'SK', 'STYV']\n",
        "['MOAT', 'BOR', 'OU', 'POLEN', 'PRO', 'SK', 'WEN']\n",
        "['MOAT', 'BOR', 'COP', 'PRO', 'SK', 'STYV', 'WEN']\n",
        "['MOAT', 'BOR', 'COP', 'PED', 'SD', 'SK', 'TU']\n",
        "['OBY', 'BOR', 'COP', 'PRO', 'SK', 'V', 'WEN']\n",
        "['CAKE', 'BOR', 'PED', 'POLEN', 'PRO', 'SK', 'TU']\n",
        "['OBY', 'BOR', 'OU', 'PED', 'PRO', 'STYV', 'TU']\n",
        "['CAKE', 'OBY', 'STEC', 'COP', 'OU', 'SD', 'WEN']\n",
        "['CAKE', 'CA-LK', 'BOR', 'COP', 'PED', 'V', 'WEN']\n",
        "['OBY', 'STEC', 'BOR', 'PED', 'PRO', 'V', 'WEN']\n",
        "['CAKE', 'CA-LK', 'BOR', 'OU', 'PRO', 'SD', 'WEN']\n",
        "['CAKE', 'CA-LK', 'BOR', 'COP', 'PED', 'SK', 'STYV']\n",
        "['CAKE', 'OBY', 'BOR', 'POLEN', 'SD', 'V', 'WEN']\n",
        "['CAKE', 'MOAT', 'TROM', 'COP', 'PED', 'TU', 'WEN']\n",
        "['CAKE', 'MOAT', 'OBY', 'COP', 'POLEN', 'V', 'WEN']\n",
        "['CAKE', 'MOAT', 'TROM', 'BOR', 'PRO', 'STYV', 'WEN']\n",
        "['MOAT', 'OBY', 'CA-LK', 'STEC', 'STYV', 'TU', 'V']\n",
        "['MOAT', 'OBY', 'STEC', 'BOR', 'COP', 'POLEN', 'V']\n",
        "['CAKE', 'MOAT', 'OBY', 'STEC', 'OU', 'PED', 'V']\n",
        "['CAKE', 'MOAT', 'OBY', 'CA-LK', 'PED', 'POLEN', 'STYV']\n",
        "['CAKE', 'OBY', 'CA-LK', 'STEC', 'SK', 'TU', 'V']\n",
        "['MOAT', 'OBY', 'STEC', 'BOR', 'OU', 'TU', 'V']\n",
        "['MOAT', 'OBY', 'CA-LK', 'STEC', 'COP', 'OU', 'WEN']\n",
        "['CAKE', 'OBY', 'STEC', 'TROM', 'BOR', 'SD', 'WEN']\n",
        "['CAKE', 'MOAT', 'CA-LK', 'STEC', 'TROM', 'COP', 'POLEN']\n",
        "['MOAT', 'OBY', 'CA-LK', 'STEC', 'TROM', 'SK', 'TU']\n",
        "['MOAT', 'OBY', 'CA-LK', 'TROM', 'BOR', 'COP', 'POLEN']\n",
        "['CAKE', 'MOAT', 'CA-LK', 'STEC', 'BOR', 'OU', 'SK']\n",
        "['CAKE', 'MOAT', 'CA-LK', 'STEC', 'BOR', 'COP', 'SK']\n",
        "['MOAT', 'OBY', 'CA-LK', 'TROM', 'BOR', 'COP', 'PRO']\n",
        "['MOAT', 'OBY', 'STEC', 'TROM', 'BOR', 'COP', 'STYV']\n",
        "['CAKE', 'OBY', 'CA-LK', 'STEC', 'TROM', 'BOR', 'PED']\n",
        "['CAKE', 'MOAT', 'CA-LK', 'STEC', 'TROM', 'BOR', 'SK']\n",
        "['CAKE', 'MOAT', 'CA-LK', 'STEC', 'TROM', 'BOR', 'PRO']\n",
        "['MOAT', 'OBY', 'CA-LK', 'STEC', 'TROM', 'BOR', 'OU']\n",
        "['CAKE', 'MOAT', 'OBY', 'CA-LK', 'STEC', 'TROM', 'PED']\n",
        "['CAKE', 'OBY', 'CA-LK', 'STEC', 'TROM', 'BOR', 'STYV']\n",
        "['CAKE', 'MOAT', 'OBY', 'CA-LK', 'TROM', 'BOR', 'PED']\n",
        "['CAKE', 'OBY', 'CA-LK', 'STEC', 'TROM', 'BOR', 'COP']\n",
        "['CAKE', 'MOAT', 'OBY', 'CA-LK', 'STEC', 'TROM', 'BOR']\n"
       ]
      }
     ],
     "prompt_number": 148
    }
   ],
   "metadata": {}
  }
 ]
}