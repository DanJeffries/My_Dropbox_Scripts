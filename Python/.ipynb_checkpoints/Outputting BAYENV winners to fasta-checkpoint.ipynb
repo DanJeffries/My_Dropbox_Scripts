{
 "metadata": {
  "name": "",
  "signature": "sha256:2617b73cf03327abb1448b43bf401fc2ebe352610dc1c0492679296ce46a3ee0"
 },
 "nbformat": 3,
 "nbformat_minor": 0,
 "worksheets": [
  {
   "cells": [
    {
     "cell_type": "code",
     "collapsed": false,
     "input": [
      "winners = open(\"/home/dan/RAD_programs/BAYENV/bayenv_release/All_pops_run/top_100_in_3_out_of_5.txt\", 'r').readlines()\n",
      "keys = open(\"/home/dan/RAD_programs/BAYENV/bayenv_release/All_pops_run/Loc_names_KEY.txt\", 'r').readlines()\n",
      "catalog_tags = open(\"/media/dan/34D5D1CE642D7E36/2013076_Hanfling_Bernd/Stacks/Stacks_analyses_TRIMMED/Pure_cru_only/batch_1.catalog.tags.tsv\", 'r').readlines()\n",
      "\n",
      "VCF_Loc_IDs = []\n",
      "BAYENV_winning_loci_fasta = open(\"/home/dan/RAD_programs/BAYENV/bayenv_release/All_pops_run/BAYENV_winning_3outof5_loci_bottlenecked.fa\", 'w')\n",
      "\n",
      "for winner in winners:\n",
      "    #print winner.strip().split()[1].split(\"_\")[1]\n",
      "    for key in keys:\n",
      "        if winner.strip().split()[1].split(\"_\")[1] == key.strip().split()[1].split(\"_\")[1]:\n",
      "            print key.strip().split()[0]\n",
      "            VCF_Loc_IDs.append(key.strip().split()[0])\n",
      "\n",
      "\n",
      "for line in catalog_tags:\n",
      "    for ID in VCF_Loc_IDs:\n",
      "        if ID == line.split()[2]:\n",
      "            BAYENV_winning_loci_fasta.write(\">Loc_\"+str(ID)+\"\\n\")\n",
      "            BAYENV_winning_loci_fasta.write(line.split()[8]+'\\n')\n",
      "\n",
      "BAYENV_winning_loci_fasta.close()\n",
      "    \n",
      "    \n"
     ],
     "language": "python",
     "metadata": {},
     "outputs": [
      {
       "output_type": "stream",
       "stream": "stdout",
       "text": [
        "41277\n",
        "40896\n",
        "39775\n",
        "39373"
       ]
      },
      {
       "output_type": "stream",
       "stream": "stdout",
       "text": [
        "\n",
        "38041\n",
        "37826\n",
        "37298"
       ]
      },
      {
       "output_type": "stream",
       "stream": "stdout",
       "text": [
        "\n",
        "37067\n",
        "35590\n",
        "33829"
       ]
      },
      {
       "output_type": "stream",
       "stream": "stdout",
       "text": [
        "\n",
        "33044\n",
        "30779\n",
        "30258"
       ]
      },
      {
       "output_type": "stream",
       "stream": "stdout",
       "text": [
        "\n",
        "28601\n",
        "27832\n",
        "26561"
       ]
      },
      {
       "output_type": "stream",
       "stream": "stdout",
       "text": [
        "\n",
        "26128\n",
        "26088\n",
        "25702"
       ]
      },
      {
       "output_type": "stream",
       "stream": "stdout",
       "text": [
        "\n",
        "24793\n",
        "23414\n",
        "22882"
       ]
      },
      {
       "output_type": "stream",
       "stream": "stdout",
       "text": [
        "\n",
        "22817\n",
        "21376\n",
        "20890"
       ]
      },
      {
       "output_type": "stream",
       "stream": "stdout",
       "text": [
        "\n",
        "20875\n",
        "18967\n",
        "18543"
       ]
      },
      {
       "output_type": "stream",
       "stream": "stdout",
       "text": [
        "\n",
        "18475\n",
        "17629\n",
        "16502"
       ]
      },
      {
       "output_type": "stream",
       "stream": "stdout",
       "text": [
        "\n",
        "13516\n",
        "13342\n",
        "13047"
       ]
      },
      {
       "output_type": "stream",
       "stream": "stdout",
       "text": [
        "\n",
        "12423\n",
        "10516\n",
        "8320"
       ]
      },
      {
       "output_type": "stream",
       "stream": "stdout",
       "text": [
        "\n",
        "7634\n",
        "7323\n",
        "7140"
       ]
      },
      {
       "output_type": "stream",
       "stream": "stdout",
       "text": [
        "\n",
        "6006\n",
        "4015\n",
        "3545"
       ]
      },
      {
       "output_type": "stream",
       "stream": "stdout",
       "text": [
        "\n",
        "2686\n",
        "1844\n",
        "45986"
       ]
      },
      {
       "output_type": "stream",
       "stream": "stdout",
       "text": [
        "\n",
        "37252\n",
        "35864\n",
        "33324"
       ]
      },
      {
       "output_type": "stream",
       "stream": "stdout",
       "text": [
        "\n",
        "33317\n",
        "30615\n",
        "30215"
       ]
      },
      {
       "output_type": "stream",
       "stream": "stdout",
       "text": [
        "\n",
        "25798\n",
        "25019\n",
        "22987"
       ]
      },
      {
       "output_type": "stream",
       "stream": "stdout",
       "text": [
        "\n",
        "17058\n",
        "16769\n",
        "15297"
       ]
      },
      {
       "output_type": "stream",
       "stream": "stdout",
       "text": [
        "\n",
        "14204\n",
        "13143\n",
        "12759"
       ]
      },
      {
       "output_type": "stream",
       "stream": "stdout",
       "text": [
        "\n",
        "11472\n",
        "10117\n",
        "8075"
       ]
      },
      {
       "output_type": "stream",
       "stream": "stdout",
       "text": [
        "\n",
        "5768\n",
        "2932\n",
        "40409"
       ]
      },
      {
       "output_type": "stream",
       "stream": "stdout",
       "text": [
        "\n",
        "35019\n",
        "33739\n",
        "33537"
       ]
      },
      {
       "output_type": "stream",
       "stream": "stdout",
       "text": [
        "\n",
        "29904\n",
        "29750\n",
        "27564"
       ]
      },
      {
       "output_type": "stream",
       "stream": "stdout",
       "text": [
        "\n",
        "25298\n",
        "24427\n",
        "23447"
       ]
      },
      {
       "output_type": "stream",
       "stream": "stdout",
       "text": [
        "\n",
        "20094\n",
        "15541\n",
        "11720"
       ]
      },
      {
       "output_type": "stream",
       "stream": "stdout",
       "text": [
        "\n",
        "10572\n",
        "2357\n",
        "1612"
       ]
      },
      {
       "output_type": "stream",
       "stream": "stdout",
       "text": [
        "\n"
       ]
      }
     ],
     "prompt_number": 1
    }
   ],
   "metadata": {}
  }
 ]
}