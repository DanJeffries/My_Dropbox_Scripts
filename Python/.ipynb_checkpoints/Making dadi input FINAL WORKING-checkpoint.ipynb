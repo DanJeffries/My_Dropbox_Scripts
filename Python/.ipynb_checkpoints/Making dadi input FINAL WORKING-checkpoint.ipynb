{
 "cells": [
  {
   "cell_type": "markdown",
   "metadata": {},
   "source": [
    "## Making the dadi input file from Stacks VCF output"
   ]
  },
  {
   "cell_type": "code",
   "execution_count": 118,
   "metadata": {
    "collapsed": false
   },
   "outputs": [],
   "source": [
    "### Note that this function only works for vcf files containing 1 outgrop and one in group!\n",
    "\n",
    "import vcf\n",
    "import re\n",
    "\n",
    "def vcf_to_dadi(VCF_file, outgrp_string, out_file):\n",
    "    \n",
    "    VCF_handle = open(VCF_file, 'r') ## make handle\n",
    "    \n",
    "    my_vcf = vcf.Reader(VCF_handle) ## read in data with vcf module\n",
    "    \n",
    "    ### Get population names (from first snp in file), and write header line to input file ###\n",
    "    \n",
    "    snp = my_vcf.next()\n",
    "    names = []\n",
    "    for sample in snp.samples:\n",
    "        names.append(sample.sample.split(\"_\")[0].strip(\"0123456789-\"))\n",
    "    names = sorted(set(names))\n",
    "    print \"Populations (n=\"+str(len(names))+\"):\" \n",
    "    print ', '.join(names)\n",
    "    header_line = \"In_REF\\tOut_REF\\tAllele1\\t\"+'\\t'.join(names)+\"\\tAllele2\\t\"+'\\t'.join(names)+\"\\tTag_ID\\tSite\"\n",
    "    \n",
    "    dadi_input = open(out_file, 'w')\n",
    "    \n",
    "    dadi_input.write(header_line+\"\\n\") ## write header line\n",
    "    \n",
    "    \n",
    "    ##### Now get the data ######\n",
    "    \n",
    "    VCF_handle = open(VCF_file, 'r') ## make handle\n",
    "    my_vcf = vcf.Reader(VCF_handle) ## Parse file again, as .next() will have moved the iterator on\n",
    "    \n",
    "    ## For each SNP in the file ...\n",
    "    \n",
    "    for snp in my_vcf:\n",
    "\n",
    "        GT_dict = {}\n",
    "        \n",
    "        ## get outgroup ref allele and data\n",
    "        \n",
    "        out_ref_count = 0\n",
    "        out_alt_count = 0\n",
    "        \n",
    "        for sample in snp.samples:\n",
    "            if sample.sample.startswith(outgrp_string):\n",
    "                if sample['GT'] == \"0/0\":\n",
    "                    out_ref_count += 2\n",
    "                elif sample['GT'] == \"0/1\":\n",
    "                    out_ref_count += 1\n",
    "                    out_alt_count += 1  ## counting one allele twice\n",
    "                elif sample['GT'] == \"1/0\":\n",
    "                    out_ref_count += 1\n",
    "                    out_alt_count += 1\n",
    "                elif sample['GT'] == \"1/1\":\n",
    "                    out_alt_count += 2\n",
    "        \n",
    "        if out_ref_count <= out_alt_count:\n",
    "            OUT_REF_ALLELE = snp.ALT[0]\n",
    "            GT_dict[outgrp_string]=(out_alt_count,out_ref_count)\n",
    "        elif out_alt_count < out_ref_count:\n",
    "            OUT_REF_ALLELE = snp.REF\n",
    "            GT_dict[outgrp_string]=(out_ref_count,out_alt_count) \n",
    "        \n",
    "        \n",
    "        #### for all non outgroup populations ####\n",
    "\n",
    "\n",
    "        for population in names:\n",
    "            in_ref_count = 0\n",
    "            in_alt_count = 0\n",
    "                        \n",
    "            if population != outgrp_string:\n",
    "                \n",
    "                GT_dict[population] = ()\n",
    "\n",
    "                for sample in snp.samples:\n",
    "                    if not all([sample.sample.startswith(a) for a in ['RM31', 'RM32']):\n",
    "                    if not sample.sample.startswith(outgrp_string):\n",
    "                        \n",
    "                        if sample['GT'] == \"0/0\":\n",
    "                            in_ref_count += 2\n",
    "                        elif sample['GT'] == \"0/1\":\n",
    "                            in_ref_count += 1\n",
    "                            in_alt_count += 1\n",
    "                        elif sample['GT'] == \"1/0\":\n",
    "                            in_ref_count += 1\n",
    "                            in_alt_count += 1\n",
    "                        elif sample['GT'] == \"1/1\":\n",
    "                            in_alt_count += 2\n",
    "                            \n",
    "                if in_alt_count <= in_ref_count:\n",
    "                    IN_REF_ALLELE = snp.REF\n",
    "                    IN_ALT_ALLELE = snp.ALT[0]\n",
    "                    GT_dict[population]=(in_ref_count,in_alt_count)   \n",
    "                \n",
    "                elif in_ref_count < in_alt_count:\n",
    "                    IN_REF_ALLELE = snp.ALT[0]\n",
    "                    IN_ALT_ALLELE = snp.REF\n",
    "                    GT_dict[population]=(in_alt_count, in_ref_count)  \n",
    "            \n",
    "        in_REF_counts =[]\n",
    "        in_ALT_counts =[]\n",
    "        \n",
    "        for population in names:\n",
    "            if population != outgrp_string:\n",
    "                in_REF_counts.append(str(GT_dict[population][0]))\n",
    "                in_ALT_counts.append(str(GT_dict[population][1]))\n",
    "    \n",
    "            elif population == outgrp_string:\n",
    "                in_REF_counts.append(str(GT_dict[population][1]))\n",
    "                in_ALT_counts.append(str(GT_dict[population][0]))\n",
    "\n",
    "        snp_line = \"-\"+str(IN_REF_ALLELE)+\"-\"+\"\\t\"+\"-\"+str(OUT_REF_ALLELE)+\"-\"+\"\\t\"+str(IN_REF_ALLELE)+\"\\t\"+str('\\t'.join(in_REF_counts))+\"\\t\"+str(IN_ALT_ALLELE)+\"\\t\"+str(\"\\t\".join(in_ALT_counts))+\"\\t\"+str(snp.ID)+\"\\t\"+str(snp.POS)\n",
    "        dadi_input.write(snp_line+\"\\n\")"
   ]
  },
  {
   "cell_type": "code",
   "execution_count": 120,
   "metadata": {
    "collapsed": false
   },
   "outputs": [
    {
     "name": "stdout",
     "output_type": "stream",
     "text": [
      "Populations (n=35):\n",
      "BF, BOR, CA-LK, CAKE, COP, DEND, EP, FM, GBP, GF, H2K, H2KH, HK, HOLT, LAS, MOAT, MY, OBY, OU, PED, POLEN, PRO, RM, SD, SK, STEC, STYV, SWED, SWED-H, SWEDG, TROM, TU, V, VIKKHY, WEN\n"
     ]
    }
   ],
   "source": [
    "vcf_to_dadi(\"/media/dan/34D5D1CE642D7E36/2013076_Hanfling_Bernd/dadi/TESTER.vcf\", \"RM\", \"/media/dan/34D5D1CE642D7E36/2013076_Hanfling_Bernd/dadi/TEST.vcf\")"
   ]
  }
 ],
 "metadata": {
  "kernelspec": {
   "display_name": "Python 2",
   "language": "python",
   "name": "python2"
  },
  "language_info": {
   "codemirror_mode": {
    "name": "ipython",
    "version": 2
   },
   "file_extension": ".py",
   "mimetype": "text/x-python",
   "name": "python",
   "nbconvert_exporter": "python",
   "pygments_lexer": "ipython2",
   "version": "2.7.6"
  }
 },
 "nbformat": 4,
 "nbformat_minor": 0
}
