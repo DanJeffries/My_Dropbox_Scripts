{
 "cells": [
  {
   "cell_type": "code",
   "execution_count": 1,
   "metadata": {
    "collapsed": false
   },
   "outputs": [],
   "source": [
    "import os\n",
    "import numpy as np\n",
    "\n",
    "Newfile = open(\"/media/dan/34D5D1CE642D7E36/2013076_Hanfling_Bernd/BAYENV_CLOUD_COMP/Sub-samples/Sub_sample_fsts.txt\", 'w')\n",
    "for root, dirs, files in os.walk(\"/media/dan/34D5D1CE642D7E36/2013076_Hanfling_Bernd/BAYENV_CLOUD_COMP/Sub-samples\"):\n",
    "    for fil in files:\n",
    "        if \"fst_summary\" in fil:\n",
    "            #print root, fil\n",
    "            fst_fil = open(root+\"/\"+fil, 'r').readlines()\n",
    "            fsts = []\n",
    "            for line in fst_fil[1:]:\n",
    "                for cell in line.split()[1:]:\n",
    "                    fsts.append(float(cell))\n",
    "            Newfile.write('/'.join(root.split(\"/\")[-2:])+\"\\t\"+str(np.mean(fsts))+\"\\n\")\n",
    "            #print np.mean(fsts)\n",
    "Newfile.close()"
   ]
  },
  {
   "cell_type": "code",
   "execution_count": null,
   "metadata": {
    "collapsed": false
   },
   "outputs": [],
   "source": []
  },
  {
   "cell_type": "code",
   "execution_count": null,
   "metadata": {
    "collapsed": false
   },
   "outputs": [],
   "source": []
  }
 ],
 "metadata": {
  "kernelspec": {
   "display_name": "Python 2",
   "language": "python",
   "name": "python2"
  },
  "language_info": {
   "codemirror_mode": {
    "name": "ipython",
    "version": 2
   },
   "file_extension": ".py",
   "mimetype": "text/x-python",
   "name": "python",
   "nbconvert_exporter": "python",
   "pygments_lexer": "ipython2",
   "version": "2.7.6"
  }
 },
 "nbformat": 4,
 "nbformat_minor": 0
}
